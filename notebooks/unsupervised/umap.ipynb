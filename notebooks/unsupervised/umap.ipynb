{
  "nbformat": 4,
  "nbformat_minor": 0,
  "metadata": {
    "colab": {
      "name": "umap.ipynb",
      "version": "0.3.2",
      "provenance": [],
      "include_colab_link": true
    },
    "kernelspec": {
      "display_name": "Python 3",
      "language": "python",
      "name": "python3"
    }
  },
  "cells": [
    {
      "cell_type": "markdown",
      "metadata": {
        "id": "view-in-github",
        "colab_type": "text"
      },
      "source": [
        "<a href=\"https://colab.research.google.com/github/DJCordhose/ml-workshop/blob/master/notebooks/unsupervised/umap.ipynb\" target=\"_parent\"><img src=\"https://colab.research.google.com/assets/colab-badge.svg\" alt=\"Open In Colab\"/></a>"
      ]
    },
    {
      "cell_type": "markdown",
      "metadata": {
        "id": "cwLsLRZf7fjN",
        "colab_type": "text"
      },
      "source": [
        "# UMAP Experiments\n",
        "\n",
        "* https://github.com/lmcinnes/umap\n",
        "* https://www.youtube.com/watch?v=nq6iPZVUxZU\n",
        "* https://umap-learn.readthedocs.io/en/latest/\n",
        "* https://github.com/scikit-learn-contrib/hdbscan"
      ]
    },
    {
      "cell_type": "code",
      "metadata": {
        "id": "J9s56l5k8051",
        "colab_type": "code",
        "colab": {}
      },
      "source": [
        "# !pip install umap-learn"
      ],
      "execution_count": 0,
      "outputs": []
    },
    {
      "cell_type": "code",
      "metadata": {
        "id": "cEp8WAKQ7fjT",
        "colab_type": "code",
        "colab": {}
      },
      "source": [
        "%matplotlib inline"
      ],
      "execution_count": 0,
      "outputs": []
    },
    {
      "cell_type": "code",
      "metadata": {
        "id": "yrcSKSb57fjW",
        "colab_type": "code",
        "colab": {}
      },
      "source": [
        "import numpy as np"
      ],
      "execution_count": 0,
      "outputs": []
    },
    {
      "cell_type": "code",
      "metadata": {
        "id": "7XhXDmSQ7fjY",
        "colab_type": "code",
        "colab": {}
      },
      "source": [
        "# noisy line\n",
        "# X = np.array([[-1, -1], [-2, -1], [-3, -2], [1, 1], [2, 1], [3, 2], [4, 3], [4, -1]])\n",
        "\n",
        "# clear line\n",
        "X = np.array([[-1, -1], [-2, -1], [-3, -2], [1, 1], [2, 1], [3, 2], [4, 3], [0, 0]])\n",
        "\n",
        "# V shape\n",
        "# X = np.array([[-1, 1], [-2, 2], [-3, 3], [1, 1], [2, 2], [3, 3], [4, 4]])"
      ],
      "execution_count": 0,
      "outputs": []
    },
    {
      "cell_type": "code",
      "metadata": {
        "id": "tk-r0gY47fjb",
        "colab_type": "code",
        "outputId": "20128822-ace9-40ec-e7bf-b464816de56b",
        "colab": {
          "base_uri": "https://localhost:8080/",
          "height": 153
        }
      },
      "source": [
        "X"
      ],
      "execution_count": 5,
      "outputs": [
        {
          "output_type": "execute_result",
          "data": {
            "text/plain": [
              "array([[-1, -1],\n",
              "       [-2, -1],\n",
              "       [-3, -2],\n",
              "       [ 1,  1],\n",
              "       [ 2,  1],\n",
              "       [ 3,  2],\n",
              "       [ 4,  3],\n",
              "       [ 0,  0]])"
            ]
          },
          "metadata": {
            "tags": []
          },
          "execution_count": 5
        }
      ]
    },
    {
      "cell_type": "code",
      "metadata": {
        "id": "2735tPwd7fjg",
        "colab_type": "code",
        "colab": {}
      },
      "source": [
        "import matplotlib.pyplot as plt"
      ],
      "execution_count": 0,
      "outputs": []
    },
    {
      "cell_type": "code",
      "metadata": {
        "id": "AwO8x0NW7fjj",
        "colab_type": "code",
        "outputId": "e38f566b-eca1-4ad5-9669-537c45992c03",
        "colab": {
          "base_uri": "https://localhost:8080/",
          "height": 612
        }
      },
      "source": [
        "plt.figure(figsize=(10,10))\n",
        "plt.scatter(X[:, 0], X[:, 1])"
      ],
      "execution_count": 7,
      "outputs": [
        {
          "output_type": "execute_result",
          "data": {
            "text/plain": [
              "<matplotlib.collections.PathCollection at 0x7f1fac130cf8>"
            ]
          },
          "metadata": {
            "tags": []
          },
          "execution_count": 7
        },
        {
          "output_type": "display_data",
          "data": {
            "image/png": "[encoded data removed]",
            "text/plain": [
              "<Figure size 720x720 with 1 Axes>"
            ]
          },
          "metadata": {
            "tags": []
          }
        }
      ]
    },
    {
      "cell_type": "code",
      "metadata": {
        "id": "dVovQBvQ8Cn7",
        "colab_type": "code",
        "colab": {}
      },
      "source": [
        "import umap"
      ],
      "execution_count": 0,
      "outputs": []
    },
    {
      "cell_type": "code",
      "metadata": {
        "id": "zs3IzA-KeayU",
        "colab_type": "code",
        "colab": {
          "base_uri": "https://localhost:8080/",
          "height": 34
        },
        "outputId": "f7258c45-4cce-44c2-ccef-b1791cce19b6"
      },
      "source": [
        "umap.__version__"
      ],
      "execution_count": 9,
      "outputs": [
        {
          "output_type": "execute_result",
          "data": {
            "text/plain": [
              "'0.3.9'"
            ]
          },
          "metadata": {
            "tags": []
          },
          "execution_count": 9
        }
      ]
    },
    {
      "cell_type": "code",
      "metadata": {
        "id": "U_e75U1z7fjn",
        "colab_type": "code",
        "colab": {}
      },
      "source": [
        "umap_clf = umap.UMAP()"
      ],
      "execution_count": 0,
      "outputs": []
    },
    {
      "cell_type": "code",
      "metadata": {
        "id": "MC1qMDlU7fjq",
        "colab_type": "code",
        "colab": {
          "base_uri": "https://localhost:8080/",
          "height": 187
        },
        "outputId": "197f7301-3789-4b48-9337-2505ccfc6a7e"
      },
      "source": [
        "umap_clf.fit(X)"
      ],
      "execution_count": 11,
      "outputs": [
        {
          "output_type": "stream",
          "text": [
            "/usr/local/lib/python3.6/dist-packages/umap/umap_.py:1385: UserWarning: n_neighbors is larger than the dataset size; truncating to X.shape[0] - 1\n",
            "  \"n_neighbors is larger than the dataset size; truncating to \"\n"
          ],
          "name": "stderr"
        },
        {
          "output_type": "execute_result",
          "data": {
            "text/plain": [
              "UMAP(a=None, angular_rp_forest=False, b=None, init='spectral',\n",
              "     learning_rate=1.0, local_connectivity=1.0, metric='euclidean',\n",
              "     metric_kwds=None, min_dist=0.1, n_components=2, n_epochs=None,\n",
              "     n_neighbors=15, negative_sample_rate=5, random_state=None,\n",
              "     repulsion_strength=1.0, set_op_mix_ratio=1.0, spread=1.0,\n",
              "     target_metric='categorical', target_metric_kwds=None,\n",
              "     target_n_neighbors=-1, target_weight=0.5, transform_queue_size=4.0,\n",
              "     transform_seed=42, verbose=False)"
            ]
          },
          "metadata": {
            "tags": []
          },
          "execution_count": 11
        }
      ]
    },
    {
      "cell_type": "code",
      "metadata": {
        "id": "T_b6mdECgv5T",
        "colab_type": "code",
        "colab": {
          "base_uri": "https://localhost:8080/",
          "height": 51
        },
        "outputId": "2434e2ac-6878-4145-9dfd-7648ea3cfa37"
      },
      "source": [
        "x_points = umap_clf.transform([[-1, 0], [1, 0]])\n",
        "x_points"
      ],
      "execution_count": 12,
      "outputs": [
        {
          "output_type": "execute_result",
          "data": {
            "text/plain": [
              "array([[ 14.393651, -12.391618],\n",
              "       [ 12.347463, -13.753695]], dtype=float32)"
            ]
          },
          "metadata": {
            "tags": []
          },
          "execution_count": 12
        }
      ]
    },
    {
      "cell_type": "code",
      "metadata": {
        "id": "HLjue46zgx6Y",
        "colab_type": "code",
        "colab": {
          "base_uri": "https://localhost:8080/",
          "height": 51
        },
        "outputId": "5e152820-1167-4ca5-e971-b94b525c1428"
      },
      "source": [
        "y_points = umap_clf.transform([[0, -1], [0, 1]])\n",
        "y_points"
      ],
      "execution_count": 13,
      "outputs": [
        {
          "output_type": "execute_result",
          "data": {
            "text/plain": [
              "array([[ 12.293784,  -9.600091],\n",
              "       [ 13.951858, -12.807431]], dtype=float32)"
            ]
          },
          "metadata": {
            "tags": []
          },
          "execution_count": 13
        }
      ]
    },
    {
      "cell_type": "code",
      "metadata": {
        "id": "lm85t1-Qg_Ej",
        "colab_type": "code",
        "colab": {
          "base_uri": "https://localhost:8080/",
          "height": 612
        },
        "outputId": "36993638-89ed-4437-948e-93aa7bdc046d"
      },
      "source": [
        "plt.figure(figsize=(10,10))\n",
        "plt.scatter(X[:, 0], X[:, 1])\n",
        "plt.plot(x_points.transpose()[0], x_points.transpose()[1], 'go-')\n",
        "plt.plot(y_points.transpose()[0], y_points.transpose()[1], 'mo-')\n",
        "# plt.xlim(-4, 4)\n",
        "# plt.ylim(-4, 4)"
      ],
      "execution_count": 14,
      "outputs": [
        {
          "output_type": "execute_result",
          "data": {
            "text/plain": [
              "[<matplotlib.lines.Line2D at 0x7f1f981085f8>]"
            ]
          },
          "metadata": {
            "tags": []
          },
          "execution_count": 14
        },
        {
          "output_type": "display_data",
          "data": {
            "image/png": "[encoded data removed]",
            "text/plain": [
              "<Figure size 720x720 with 1 Axes>"
            ]
          },
          "metadata": {
            "tags": []
          }
        }
      ]
    },
    {
      "cell_type": "code",
      "metadata": {
        "id": "gXaYxILc7fju",
        "colab_type": "code",
        "outputId": "5abef357-bc22-4071-906a-6c31b5776a9e",
        "colab": {
          "base_uri": "https://localhost:8080/",
          "height": 153
        }
      },
      "source": [
        "X_transformed = umap_clf.transform(X)\n",
        "X_transformed"
      ],
      "execution_count": 15,
      "outputs": [
        {
          "output_type": "execute_result",
          "data": {
            "text/plain": [
              "array([[ 13.221932, -10.427688],\n",
              "       [ 14.042384, -10.468773],\n",
              "       [ 13.97921 , -11.132108],\n",
              "       [ 12.596052, -12.623797],\n",
              "       [ 12.391686, -11.937851],\n",
              "       [ 11.826611, -11.511296],\n",
              "       [ 11.549264, -12.049983],\n",
              "       [ 13.061185, -11.238549]], dtype=float32)"
            ]
          },
          "metadata": {
            "tags": []
          },
          "execution_count": 15
        }
      ]
    },
    {
      "cell_type": "code",
      "metadata": {
        "id": "QNVsLwXZ7fjz",
        "colab_type": "code",
        "outputId": "5538039e-b0e2-4190-ace3-d2e32117141e",
        "colab": {
          "base_uri": "https://localhost:8080/",
          "height": 612
        }
      },
      "source": [
        "plt.figure(figsize=(10,10))\n",
        "plt.scatter(X_transformed[:, 0], X_transformed[:, 1])"
      ],
      "execution_count": 16,
      "outputs": [
        {
          "output_type": "execute_result",
          "data": {
            "text/plain": [
              "<matplotlib.collections.PathCollection at 0x7f1f960897b8>"
            ]
          },
          "metadata": {
            "tags": []
          },
          "execution_count": 16
        },
        {
          "output_type": "display_data",
          "data": {
            "image/png": "[encoded data removed]",
            "text/plain": [
              "<Figure size 720x720 with 1 Axes>"
            ]
          },
          "metadata": {
            "tags": []
          }
        }
      ]
    },
    {
      "cell_type": "markdown",
      "metadata": {
        "id": "u2GolB4tgjHA",
        "colab_type": "text"
      },
      "source": [
        "## Reduction 1 dimension"
      ]
    },
    {
      "cell_type": "code",
      "metadata": {
        "id": "f9jcwlXx7fj4",
        "colab_type": "code",
        "colab": {}
      },
      "source": [
        "umap_clf = umap.UMAP(n_components=1)"
      ],
      "execution_count": 0,
      "outputs": []
    },
    {
      "cell_type": "code",
      "metadata": {
        "id": "j5kaNQF87fj6",
        "colab_type": "code",
        "colab": {
          "base_uri": "https://localhost:8080/",
          "height": 51
        },
        "outputId": "1a6c121b-a5a3-4b6c-92c6-9623a5745467"
      },
      "source": [
        "X_transformed = umap_clf.fit_transform(X)"
      ],
      "execution_count": 18,
      "outputs": [
        {
          "output_type": "stream",
          "text": [
            "/usr/local/lib/python3.6/dist-packages/umap/umap_.py:1385: UserWarning: n_neighbors is larger than the dataset size; truncating to X.shape[0] - 1\n",
            "  \"n_neighbors is larger than the dataset size; truncating to \"\n"
          ],
          "name": "stderr"
        }
      ]
    },
    {
      "cell_type": "code",
      "metadata": {
        "id": "8EoeUhXM7fj9",
        "colab_type": "code",
        "outputId": "88c5de08-de5b-449e-c499-3d633af87309",
        "colab": {
          "base_uri": "https://localhost:8080/",
          "height": 153
        }
      },
      "source": [
        "X_transformed"
      ],
      "execution_count": 19,
      "outputs": [
        {
          "output_type": "execute_result",
          "data": {
            "text/plain": [
              "array([[-3.2934873],\n",
              "       [-4.417758 ],\n",
              "       [-3.806599 ],\n",
              "       [-0.6606783],\n",
              "       [-1.2878433],\n",
              "       [-1.9652159],\n",
              "       [-5.422715 ],\n",
              "       [-2.7624073]], dtype=float32)"
            ]
          },
          "metadata": {
            "tags": []
          },
          "execution_count": 19
        }
      ]
    },
    {
      "cell_type": "code",
      "metadata": {
        "id": "57p-nCwy7fkA",
        "colab_type": "code",
        "outputId": "e5ef731a-6f38-41ef-f83e-f2d834290e8a",
        "colab": {
          "base_uri": "https://localhost:8080/",
          "height": 178
        }
      },
      "source": [
        "plt.figure(figsize=(10,2))\n",
        "plt.scatter(X_transformed, np.zeros(len(X_transformed)))\n",
        "# plt.xlim(-4, 4)\n",
        "plt.ylim(-1, 1)"
      ],
      "execution_count": 21,
      "outputs": [
        {
          "output_type": "execute_result",
          "data": {
            "text/plain": [
              "(-1, 1)"
            ]
          },
          "metadata": {
            "tags": []
          },
          "execution_count": 21
        },
        {
          "output_type": "display_data",
          "data": {
            "image/png": "[encoded data removed]",
            "text/plain": [
              "<Figure size 720x144 with 1 Axes>"
            ]
          },
          "metadata": {
            "tags": []
          }
        }
      ]
    },
    {
      "cell_type": "code",
      "metadata": {
        "id": "I8Z1dm-uhwd8",
        "colab_type": "code",
        "colab": {}
      },
      "source": [
        ""
      ],
      "execution_count": 0,
      "outputs": []
    }
  ]
}