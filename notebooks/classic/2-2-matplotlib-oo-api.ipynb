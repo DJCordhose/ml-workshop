{
  "nbformat": 4,
  "nbformat_minor": 0,
  "metadata": {
    "colab": {
      "name": "2-2-matplotlib-oo-api.ipynb",
      "version": "0.3.2",
      "provenance": [],
      "include_colab_link": true
    },
    "kernelspec": {
      "display_name": "Python 3",
      "language": "python",
      "name": "python3"
    }
  },
  "cells": [
    {
      "cell_type": "markdown",
      "metadata": {
        "id": "view-in-github",
        "colab_type": "text"
      },
      "source": [
        "[View in Colaboratory](https://colab.research.google.com/github/DJCordhose/data-viz/blob/master/notebooks/2-2-matplotlib-oo-api.ipynb)"
      ]
    },
    {
      "metadata": {
        "id": "RRKecEtUhKC2",
        "colab_type": "text"
      },
      "cell_type": "markdown",
      "source": [
        "# Matplotlib OO API\n",
        "\n",
        "* https://matplotlib.org/gallery/lines_bars_and_markers/simple_plot.html\n",
        "* https://matplotlib.org/api/axes_api.html#matplotlib.axes.Axes"
      ]
    },
    {
      "metadata": {
        "id": "L7H_cVanhKC4",
        "colab_type": "code",
        "colab": {}
      },
      "cell_type": "code",
      "source": [
        "import warnings\n",
        "warnings.filterwarnings('ignore')"
      ],
      "execution_count": 0,
      "outputs": []
    },
    {
      "metadata": {
        "id": "ehZLYjeFhKC7",
        "colab_type": "code",
        "colab": {}
      },
      "cell_type": "code",
      "source": [
        "import matplotlib.pyplot as plt\n",
        "import matplotlib\n",
        "import numpy as np"
      ],
      "execution_count": 0,
      "outputs": []
    },
    {
      "metadata": {
        "id": "KUCZU-YOhKC-",
        "colab_type": "code",
        "colab": {}
      },
      "cell_type": "code",
      "source": [
        "%matplotlib inline"
      ],
      "execution_count": 0,
      "outputs": []
    },
    {
      "metadata": {
        "id": "arjNFGNuhKDB",
        "colab_type": "code",
        "colab": {}
      },
      "cell_type": "code",
      "source": [
        "t = np.arange(0.0, 2.0, 0.01)\n",
        "s = 1 + np.sin(2 * np.pi * t)"
      ],
      "execution_count": 0,
      "outputs": []
    },
    {
      "metadata": {
        "id": "yalsufnVhKDG",
        "colab_type": "code",
        "colab": {
          "base_uri": "https://localhost:8080/",
          "height": 349
        },
        "outputId": "65a98bcd-d08c-4d64-ae8e-e9efe9dba1ab"
      },
      "cell_type": "code",
      "source": [
        "fig, ax = plt.subplots(1, figsize=(10, 5))\n",
        "ax.plot(t, s)\n",
        "\n",
        "ax.set_xlabel('time (s)')\n",
        "ax.set_ylabel('voltage (mV)')\n",
        "ax.set_title('About as simple as it gets, folks')\n",
        "\n",
        "ax.grid(True)\n",
        "\n",
        "# fig.savefig(\"subplot.png\")"
      ],
      "execution_count": 6,
      "outputs": [
        {
          "output_type": "display_data",
          "data": {
            "image/png": "[encoded data removed]",
            "text/plain": [
              "<matplotlib.figure.Figure at 0x7f9b3b1f9780>"
            ]
          },
          "metadata": {
            "tags": []
          }
        }
      ]
    },
    {
      "metadata": {
        "id": "4HxHr4BShKDL",
        "colab_type": "code",
        "colab": {},
        "outputId": "d7c34fec-90de-4cb8-da57-f8f469092f0c"
      },
      "cell_type": "code",
      "source": [
        "!ls -l subplot.png"
      ],
      "execution_count": 0,
      "outputs": [
        {
          "output_type": "stream",
          "text": [
            "-rw-r--r-- 1 olive 197609 23364 Aug 24 13:54 test.png\n"
          ],
          "name": "stdout"
        }
      ]
    },
    {
      "metadata": {
        "id": "uO0tDd2XhKDO",
        "colab_type": "code",
        "colab": {}
      },
      "cell_type": "code",
      "source": [
        "plt.subplots?"
      ],
      "execution_count": 0,
      "outputs": []
    },
    {
      "metadata": {
        "id": "4K52blZKhKDT",
        "colab_type": "text"
      },
      "cell_type": "markdown",
      "source": [
        "## Exercise\n",
        "\n",
        "### Get familiar with the Matplotlib mindset\n",
        "\n",
        "Create a figure that consists of two subplots that looks like this one\n",
        "\n",
        "<img src='https://raw.githubusercontent.com/DJCordhose/data-viz/master/notebooks/img/two-subplots.png'>\n",
        "\n",
        "Execute the next cell to load the exercise. If you rather want to see the solution change the load path to contain 'solution' instead of 'exercise.\n",
        "\n",
        "_If you are on Colab:_ %load does not seem to work on Colab, so simply copy and paste from the URL provided below."
      ]
    },
    {
      "metadata": {
        "id": "SenDLBZIhKDU",
        "colab_type": "code",
        "colab": {}
      },
      "cell_type": "code",
      "source": [
        "# on Colab simply open and copy paste from\n",
        "# https://raw.githubusercontent.com/DJCordhose/data-viz/master/notebooks/exercise/matplotlib-subplots.py\n",
        "\n",
        "%load exercise/matplotlib-subplots.py"
      ],
      "execution_count": 0,
      "outputs": []
    },
    {
      "metadata": {
        "id": "NMiT_ZkGhKDX",
        "colab_type": "code",
        "colab": {}
      },
      "cell_type": "code",
      "source": [
        ""
      ],
      "execution_count": 0,
      "outputs": []
    }
  ]
}