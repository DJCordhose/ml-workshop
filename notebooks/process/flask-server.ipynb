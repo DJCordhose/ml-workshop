{
  "nbformat": 4,
  "nbformat_minor": 0,
  "metadata": {
    "colab": {
      "name": "flask-server.ipynb",
      "version": "0.3.2",
      "provenance": [],
      "collapsed_sections": [
        "FASceuwQAOTp",
        "_px_mArrS4Um",
        "ls7X_oTmUC5q"
      ],
      "include_colab_link": true
    },
    "kernelspec": {
      "display_name": "Python 3",
      "language": "python",
      "name": "python3"
    },
    "language_info": {
      "codemirror_mode": {
        "name": "ipython",
        "version": 3
      },
      "file_extension": ".py",
      "mimetype": "text/x-python",
      "name": "python",
      "nbconvert_exporter": "python",
      "pygments_lexer": "ipython3",
      "version": "3.7.3"
    }
  },
  "cells": [
    {
      "cell_type": "markdown",
      "metadata": {
        "id": "view-in-github",
        "colab_type": "text"
      },
      "source": [
        "<a href=\"https://colab.research.google.com/github/DJCordhose/ml-workshop/blob/master/notebooks/process/flask-server.ipynb\" target=\"_parent\"><img src=\"https://colab.research.google.com/assets/colab-badge.svg\" alt=\"Open In Colab\"/></a>"
      ]
    },
    {
      "cell_type": "markdown",
      "metadata": {
        "colab_type": "text",
        "id": "5hBDJrqDAOTW"
      },
      "source": [
        "# Serving using Flask\n",
        "\n",
        "Links\n",
        "* making flask server directly run on Colab: https://stackoverflow.com/questions/54465816/how-to-use-flask-in-google-colaboratory-python-notebook\n",
        "* logging\n",
        "  * https://flask.palletsprojects.com/en/1.1.x/logging/\n",
        "  * https://docs.python.org/3/howto/logging-cookbook.html\n",
        "* In a real production environment you would either use a \"real\" web server that directs to flask or use a hosted solution\n",
        "  * https://flask.palletsprojects.com/en/1.1.x/deploying/\n",
        "  * https://en.wikipedia.org/wiki/Web_Server_Gateway_Interface"
      ]
    },
    {
      "cell_type": "code",
      "metadata": {
        "id": "smgb3AXhuNAq",
        "colab_type": "code",
        "outputId": "fb4d78de-450c-4611-d3f6-374134f1cb97",
        "colab": {
          "base_uri": "https://localhost:8080/",
          "height": 68
        }
      },
      "source": [
        "!curl -O https://raw.githubusercontent.com/DJCordhose/ml-workshop/master/prod/prod_pipeline_pca_std_rf_2.tgz"
      ],
      "execution_count": 10,
      "outputs": [
        {
          "output_type": "stream",
          "text": [
            "  % Total    % Received % Xferd  Average Speed   Time    Time     Time  Current\n",
            "                                 Dload  Upload   Total   Spent    Left  Speed\n",
            "\r  0     0    0     0    0     0      0      0 --:--:-- --:--:-- --:--:--     0\r100 25098  100 25098    0     0  99595      0 --:--:-- --:--:-- --:--:-- 99595\n"
          ],
          "name": "stdout"
        }
      ]
    },
    {
      "cell_type": "code",
      "metadata": {
        "id": "h0cOv-WXzFnv",
        "colab_type": "code",
        "colab": {}
      },
      "source": [
        "!tar -xzf prod_pipeline_pca_std_rf_2.tgz"
      ],
      "execution_count": 0,
      "outputs": []
    },
    {
      "cell_type": "code",
      "metadata": {
        "id": "tJvGCJssGKpN",
        "colab_type": "code",
        "outputId": "ad01bb8d-cc02-4efd-a9f6-93a6eae79cf1",
        "colab": {
          "base_uri": "https://localhost:8080/",
          "height": 544
        }
      },
      "source": [
        "!ls -lR"
      ],
      "execution_count": 12,
      "outputs": [
        {
          "output_type": "stream",
          "text": [
            ".:\n",
            "total 76\n",
            "drwxr-xr-x 2 root root  4096 Aug  3 17:43 data\n",
            "-rw-r--r-- 1 root root 32048 Aug  3 17:43 export-pipeline.ipynb\n",
            "drwxr-xr-x 2 root root  4096 Aug  3 17:43 models\n",
            "-rw-r--r-- 1 root root 25098 Aug  3 17:46 prod_pipeline_pca_std_rf_2.tgz\n",
            "drwxr-xr-x 1 root root  4096 Aug  1 16:08 sample_data\n",
            "drwxr-xr-x 2 root root  4096 Aug  3 17:43 stats\n",
            "\n",
            "./data:\n",
            "total 28\n",
            "-rw-r--r-- 1 root root 26783 Aug  3 17:43 insurance-customers-1500.csv\n",
            "\n",
            "./models:\n",
            "total 60\n",
            "-rw-r--r-- 1 root root 59322 Aug  3 17:43 model.pickle\n",
            "\n",
            "./sample_data:\n",
            "total 55504\n",
            "-r-xr-xr-x 1 root root     1697 Jan  1  2000 anscombe.json\n",
            "-rw-r--r-- 1 root root   301141 Aug  1 16:08 california_housing_test.csv\n",
            "-rw-r--r-- 1 root root  1706430 Aug  1 16:08 california_housing_train.csv\n",
            "-rw-r--r-- 1 root root 18289443 Aug  1 16:08 mnist_test.csv\n",
            "-rw-r--r-- 1 root root 36523880 Aug  1 16:08 mnist_train_small.csv\n",
            "-r-xr-xr-x 1 root root      930 Jan  1  2000 README.md\n",
            "\n",
            "./stats:\n",
            "total 12\n",
            "-rw-r--r-- 1 root root 1145 Aug  3 17:43 describe.pickle\n",
            "-rw-r--r-- 1 root root  372 Aug  3 17:43 scores.pickle\n",
            "-rw-r--r-- 1 root root  143 Aug  3 17:43 versions.pickle\n"
          ],
          "name": "stdout"
        }
      ]
    },
    {
      "cell_type": "code",
      "metadata": {
        "id": "53aeclH4z1qj",
        "colab_type": "code",
        "colab": {}
      },
      "source": [
        "import pickle"
      ],
      "execution_count": 0,
      "outputs": []
    },
    {
      "cell_type": "code",
      "metadata": {
        "id": "bGVJ9Mwyz26R",
        "colab_type": "code",
        "colab": {
          "base_uri": "https://localhost:8080/",
          "height": 102
        },
        "outputId": "d81e1bb5-8047-4503-952d-cd5e50c17de0"
      },
      "source": [
        "model_versions = pickle.load(open('stats/versions.pickle', 'rb'))\n",
        "model_versions"
      ],
      "execution_count": 14,
      "outputs": [
        {
          "output_type": "execute_result",
          "data": {
            "text/plain": [
              "{'model': 2,\n",
              " 'model_name': 'pipeline_pca_std_rf',\n",
              " 'numpy': '1.16.4',\n",
              " 'pandas': '0.24.2',\n",
              " 'sklearn': '0.21.3'}"
            ]
          },
          "metadata": {
            "tags": []
          },
          "execution_count": 14
        }
      ]
    },
    {
      "cell_type": "code",
      "metadata": {
        "id": "Qu31y9Re7363",
        "colab_type": "code",
        "colab": {
          "base_uri": "https://localhost:8080/",
          "height": 102
        },
        "outputId": "7fa78494-3657-43a2-db39-ca5a9e4ffda3"
      },
      "source": [
        "import numpy, sklearn, pandas\n",
        "\n",
        "versions = {\n",
        "    'numpy': numpy.__version__,\n",
        "    'sklearn': sklearn.__version__, \n",
        "    'pandas': pandas.__version__,\n",
        "    'model': 2,\n",
        "    'model_name': 'pipeline_pca_std_rf'\n",
        "}\n",
        "versions"
      ],
      "execution_count": 15,
      "outputs": [
        {
          "output_type": "execute_result",
          "data": {
            "text/plain": [
              "{'model': 2,\n",
              " 'model_name': 'pipeline_pca_std_rf',\n",
              " 'numpy': '1.16.4',\n",
              " 'pandas': '0.24.2',\n",
              " 'sklearn': '0.21.3'}"
            ]
          },
          "metadata": {
            "tags": []
          },
          "execution_count": 15
        }
      ]
    },
    {
      "cell_type": "code",
      "metadata": {
        "id": "jbvG3C-A0Adi",
        "colab_type": "code",
        "colab": {}
      },
      "source": [
        "assert model_versions == versions"
      ],
      "execution_count": 0,
      "outputs": []
    },
    {
      "cell_type": "code",
      "metadata": {
        "id": "dZ7ZffV7Vk9t",
        "colab_type": "code",
        "colab": {}
      },
      "source": [
        "import logging\n",
        "\n",
        "logging.basicConfig(filename='req.log')\n",
        "\n",
        "data_logger = logging.getLogger('DataLogger')\n",
        "data_logger.setLevel(logging.INFO)\n",
        "\n",
        "file_handler = logging.FileHandler('data.log', )\n",
        "\n",
        "data_logger.addHandler(file_handler)"
      ],
      "execution_count": 0,
      "outputs": []
    },
    {
      "cell_type": "code",
      "metadata": {
        "id": "yWyTjqlvBWON",
        "colab_type": "code",
        "colab": {}
      },
      "source": [
        "# loading models only once on startup\n",
        "model = pickle.load(open('models/model.pickle', 'rb'))\n",
        "\n",
        "def predict(speed, age, miles):\n",
        "    sample = [[speed, age, miles]]\n",
        "\n",
        "    result = int(model.predict(sample)[0])\n",
        "    prediction = model.predict_proba(sample)[0].tolist()\n",
        "    \n",
        "    return result, prediction"
      ],
      "execution_count": 0,
      "outputs": []
    },
    {
      "cell_type": "code",
      "metadata": {
        "id": "aQLlcVkkJHdw",
        "colab_type": "code",
        "outputId": "61eaa063-7859-405d-eff0-5437688eaf51",
        "colab": {
          "base_uri": "https://localhost:8080/",
          "height": 34
        }
      },
      "source": [
        "# should be category 1\n",
        "# * 0 - red: many accidents\n",
        "# * 1 - blue: no accidents\n",
        "# * 2 - yellow: few accidents   \n",
        "predict(100, 48, 10)"
      ],
      "execution_count": 19,
      "outputs": [
        {
          "output_type": "execute_result",
          "data": {
            "text/plain": [
              "(1, [0.010217113665389526, 0.6180901330470296, 0.371692753287581])"
            ]
          },
          "metadata": {
            "tags": []
          },
          "execution_count": 19
        }
      ]
    },
    {
      "cell_type": "code",
      "metadata": {
        "id": "7WBvg3rP6Dgf",
        "colab_type": "code",
        "outputId": "6fb70a19-48b9-417e-8db3-f372cd44f010",
        "colab": {
          "base_uri": "https://localhost:8080/",
          "height": 119
        }
      },
      "source": [
        "from flask import Flask, request, jsonify\n",
        "import socket\n",
        "print(socket.gethostbyname(socket.getfqdn(socket.gethostname())))\n",
        "\n",
        "app = Flask(__name__)\n",
        "\n",
        "@app.route(\"/ping\")\n",
        "def ping():\n",
        "    return \"pong\"\n",
        "\n",
        "@app.route('/predict', methods=['GET', 'POST'])\n",
        "def do_predict():\n",
        "    speed = request.json['speed']\n",
        "    age = request.json['age']\n",
        "    miles = request.json['miles']\n",
        "\n",
        "    predicted_category, probabilities = predict(speed, age, miles)\n",
        "\n",
        "    response = {\n",
        "        'category': predicted_category,\n",
        "        'prediction': probabilities,\n",
        "    }\n",
        "    \n",
        "    dataset = {\n",
        "        'out': response,\n",
        "        'in': {\n",
        "            'speed': speed, 'age': age, 'miles': miles\n",
        "        }\n",
        "    }\n",
        "\n",
        "    data_logger.info(dataset)\n",
        "\n",
        "    return jsonify(response)\n",
        "  \n",
        "import threading\n",
        "threading.Thread(target=app.run, kwargs={'host': '0.0.0.0', 'port': 80}).start()  "
      ],
      "execution_count": 20,
      "outputs": [
        {
          "output_type": "stream",
          "text": [
            "172.28.0.2\n",
            " * Serving Flask app \"__main__\" (lazy loading)\n",
            " * Environment: production\n",
            "   WARNING: This is a development server. Do not use it in a production deployment.\n",
            "   Use a production WSGI server instead.\n",
            " * Debug mode: off\n"
          ],
          "name": "stdout"
        }
      ]
    },
    {
      "cell_type": "code",
      "metadata": {
        "id": "1oPj8OQy-kwL",
        "colab_type": "code",
        "outputId": "d11786c7-d9a3-4b85-82ab-a1d946f3f7b9",
        "colab": {
          "base_uri": "https://localhost:8080/",
          "height": 85
        }
      },
      "source": [
        "import requests\n",
        "r = requests.get(\"http://172.28.0.2/ping\")\n",
        "print(r.status_code)\n",
        "print(r.encoding)\n",
        "print(r.apparent_encoding)\n",
        "print(r.text)"
      ],
      "execution_count": 21,
      "outputs": [
        {
          "output_type": "stream",
          "text": [
            "200\n",
            "utf-8\n",
            "ascii\n",
            "pong\n"
          ],
          "name": "stdout"
        }
      ]
    },
    {
      "cell_type": "code",
      "metadata": {
        "id": "h71anuhb-vRL",
        "colab_type": "code",
        "outputId": "0284f5c4-851f-45f8-d6a6-b8d397588314",
        "colab": {
          "base_uri": "https://localhost:8080/",
          "height": 102
        }
      },
      "source": [
        "r = requests.post(\"http://172.28.0.2/predict\", json={'speed': 100, 'age': 48, 'miles': 10})\n",
        "r.status_code"
      ],
      "execution_count": 22,
      "outputs": [
        {
          "output_type": "stream",
          "text": [
            "/usr/local/lib/python3.6/dist-packages/sklearn/ensemble/base.py:154: UserWarning: Loky-backed parallel loops cannot be nested below threads, setting n_jobs=1\n",
            "  n_jobs = min(effective_n_jobs(n_jobs), n_estimators)\n",
            "/usr/local/lib/python3.6/dist-packages/sklearn/ensemble/base.py:154: UserWarning: Loky-backed parallel loops cannot be nested below threads, setting n_jobs=1\n",
            "  n_jobs = min(effective_n_jobs(n_jobs), n_estimators)\n"
          ],
          "name": "stderr"
        },
        {
          "output_type": "execute_result",
          "data": {
            "text/plain": [
              "200"
            ]
          },
          "metadata": {
            "tags": []
          },
          "execution_count": 22
        }
      ]
    },
    {
      "cell_type": "code",
      "metadata": {
        "id": "_ENXdyPiJ_dn",
        "colab_type": "code",
        "outputId": "1ffe0928-451b-4bc3-ec4c-273c022412c0",
        "colab": {
          "base_uri": "https://localhost:8080/",
          "height": 51
        }
      },
      "source": [
        "response = r.json()\n",
        "response"
      ],
      "execution_count": 23,
      "outputs": [
        {
          "output_type": "execute_result",
          "data": {
            "text/plain": [
              "{'category': 1,\n",
              " 'prediction': [0.010217113665389526, 0.6180901330470296, 0.37169275328758095]}"
            ]
          },
          "metadata": {
            "tags": []
          },
          "execution_count": 23
        }
      ]
    },
    {
      "cell_type": "code",
      "metadata": {
        "id": "ul5_8C3JLz79",
        "colab_type": "code",
        "outputId": "b9efe5f7-1fde-4d84-941f-0b86aa82ae8e",
        "colab": {
          "base_uri": "https://localhost:8080/",
          "height": 34
        }
      },
      "source": [
        "response['prediction']"
      ],
      "execution_count": 24,
      "outputs": [
        {
          "output_type": "execute_result",
          "data": {
            "text/plain": [
              "[0.010217113665389526, 0.6180901330470296, 0.37169275328758095]"
            ]
          },
          "metadata": {
            "tags": []
          },
          "execution_count": 24
        }
      ]
    },
    {
      "cell_type": "code",
      "metadata": {
        "id": "tCSMdE_XL_dO",
        "colab_type": "code",
        "outputId": "13f5cbcd-0728-4a08-f948-a3ed7f5396ac",
        "colab": {
          "base_uri": "https://localhost:8080/",
          "height": 34
        }
      },
      "source": [
        "!cat data.log"
      ],
      "execution_count": 25,
      "outputs": [
        {
          "output_type": "stream",
          "text": [
            "{'out': {'category': 1, 'prediction': [0.010217113665389526, 0.6180901330470296, 0.37169275328758095]}, 'in': {'speed': 100, 'age': 48, 'miles': 10}}\n"
          ],
          "name": "stdout"
        }
      ]
    },
    {
      "cell_type": "markdown",
      "metadata": {
        "id": "7ScfUTp3mRc2",
        "colab_type": "text"
      },
      "source": [
        "# Exercise: deploy your model using this notebook\n",
        "\n",
        "* load describe stats and scores as well and print them out\n",
        "* how would you use them in a manual deployment process to find out if you want to deploy the new model at all?\n",
        "* how would you automate the process?\n",
        "* how could you use the logged out?"
      ]
    },
    {
      "cell_type": "code",
      "metadata": {
        "id": "dZUG9Zl9e1PE",
        "colab_type": "code",
        "colab": {}
      },
      "source": [
        ""
      ],
      "execution_count": 0,
      "outputs": []
    }
  ]
}