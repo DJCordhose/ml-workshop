{
  "nbformat": 4,
  "nbformat_minor": 0,
  "metadata": {
    "colab": {
      "name": "flask-server.ipynb",
      "version": "0.3.2",
      "provenance": [],
      "collapsed_sections": [
        "FASceuwQAOTp",
        "_px_mArrS4Um",
        "ls7X_oTmUC5q"
      ],
      "toc_visible": true,
      "include_colab_link": true
    },
    "kernelspec": {
      "display_name": "Python 3",
      "language": "python",
      "name": "python3"
    },
    "language_info": {
      "codemirror_mode": {
        "name": "ipython",
        "version": 3
      },
      "file_extension": ".py",
      "mimetype": "text/x-python",
      "name": "python",
      "nbconvert_exporter": "python",
      "pygments_lexer": "ipython3",
      "version": "3.7.3"
    }
  },
  "cells": [
    {
      "cell_type": "markdown",
      "metadata": {
        "id": "view-in-github",
        "colab_type": "text"
      },
      "source": [
        "<a href=\"https://colab.research.google.com/github/DJCordhose/ml-workshop/blob/master/notebooks/process/flask-server.ipynb\" target=\"_parent\"><img src=\"https://colab.research.google.com/assets/colab-badge.svg\" alt=\"Open In Colab\"/></a>"
      ]
    },
    {
      "cell_type": "markdown",
      "metadata": {
        "colab_type": "text",
        "id": "5hBDJrqDAOTW"
      },
      "source": [
        "# Serving using Flask\n",
        "\n",
        "Links\n",
        "* making flask server directly run on Colab: https://stackoverflow.com/questions/54465816/how-to-use-flask-in-google-colaboratory-python-notebook\n",
        "* logging\n",
        "  * https://flask.palletsprojects.com/en/1.1.x/logging/\n",
        "  * https://docs.python.org/3/howto/logging-cookbook.html\n",
        "* In a real production environment you would either use a \"real\" web server that directs to flask or use a hosted solution\n",
        "  * https://flask.palletsprojects.com/en/1.1.x/deploying/\n",
        "  * https://en.wikipedia.org/wiki/Web_Server_Gateway_Interface"
      ]
    },
    {
      "cell_type": "code",
      "metadata": {
        "id": "cLJDjtH0Lrs3",
        "colab_type": "code",
        "colab": {}
      },
      "source": [
        "import warnings\n",
        "warnings.filterwarnings('ignore')"
      ],
      "execution_count": 0,
      "outputs": []
    },
    {
      "cell_type": "code",
      "metadata": {
        "id": "smgb3AXhuNAq",
        "colab_type": "code",
        "outputId": "dd878574-e3a4-4a12-90df-b1b98e1ffc7e",
        "colab": {
          "base_uri": "https://localhost:8080/",
          "height": 68
        }
      },
      "source": [
        "!curl -O https://raw.githubusercontent.com/DJCordhose/ml-workshop/master/prod/prod_pipeline_pca_std_rf_2.tgz"
      ],
      "execution_count": 0,
      "outputs": [
        {
          "output_type": "stream",
          "text": [
            "  % Total    % Received % Xferd  Average Speed   Time    Time     Time  Current\n",
            "                                 Dload  Upload   Total   Spent    Left  Speed\n",
            "\r  0     0    0     0    0     0      0      0 --:--:-- --:--:-- --:--:--     0\r  2 64710    2  1919    0     0   9943      0  0:00:06 --:--:--  0:00:06  9891\r100 64710  100 64710    0     0   305k      0 --:--:-- --:--:-- --:--:--  303k\n"
          ],
          "name": "stdout"
        }
      ]
    },
    {
      "cell_type": "code",
      "metadata": {
        "id": "h0cOv-WXzFnv",
        "colab_type": "code",
        "colab": {}
      },
      "source": [
        "!tar -xzf prod_pipeline_pca_std_rf_2.tgz"
      ],
      "execution_count": 0,
      "outputs": []
    },
    {
      "cell_type": "code",
      "metadata": {
        "id": "tJvGCJssGKpN",
        "colab_type": "code",
        "outputId": "4d339801-3539-4bf9-e5b8-f9eb30ce9879",
        "colab": {
          "base_uri": "https://localhost:8080/",
          "height": 578
        }
      },
      "source": [
        "!ls -lR"
      ],
      "execution_count": 2,
      "outputs": [
        {
          "output_type": "stream",
          "text": [
            ".:\n",
            "total 128\n",
            "drwxr-xr-x 2 root root  4096 Jul 25 11:11 data\n",
            "-rw-r--r-- 1 root root 26688 Jul 25 10:43 export.ipynb\n",
            "-rw-r--r-- 1 root root 30221 Jul 25 11:11 export-pipeline.ipynb\n",
            "drwxr-xr-x 2 root root  4096 Jul 25 11:11 models\n",
            "-rw-r--r-- 1 root root 24380 Jul 25 11:12 prod_pipeline_pca_std_rf_2.tgz\n",
            "-rw-r--r-- 1 root root 26565 Jul 25 10:43 prod.tgz\n",
            "drwxr-xr-x 1 root root  4096 Jul 19 16:14 sample_data\n",
            "drwxr-xr-x 2 root root  4096 Jul 25 11:11 stats\n",
            "\n",
            "./data:\n",
            "total 28\n",
            "-rw-r--r-- 1 root root 26783 Jul 25 11:11 insurance-customers-1500.csv\n",
            "\n",
            "./models:\n",
            "total 56\n",
            "-rw-r--r-- 1 root root 56419 Jul 25 11:11 model.pickle\n",
            "\n",
            "./sample_data:\n",
            "total 55504\n",
            "-r-xr-xr-x 1 root root     1697 Jan  1  2000 anscombe.json\n",
            "-rw-r--r-- 1 root root   301141 Jul 19 16:14 california_housing_test.csv\n",
            "-rw-r--r-- 1 root root  1706430 Jul 19 16:14 california_housing_train.csv\n",
            "-rw-r--r-- 1 root root 18289443 Jul 19 16:14 mnist_test.csv\n",
            "-rw-r--r-- 1 root root 36523880 Jul 19 16:14 mnist_train_small.csv\n",
            "-r-xr-xr-x 1 root root      930 Jan  1  2000 README.md\n",
            "\n",
            "./stats:\n",
            "total 12\n",
            "-rw-r--r-- 1 root root 1145 Jul 25 11:11 describe.pickle\n",
            "-rw-r--r-- 1 root root  372 Jul 25 11:11 scores.pickle\n",
            "-rw-r--r-- 1 root root  143 Jul 25 11:11 versions.pickle\n"
          ],
          "name": "stdout"
        }
      ]
    },
    {
      "cell_type": "code",
      "metadata": {
        "id": "53aeclH4z1qj",
        "colab_type": "code",
        "colab": {}
      },
      "source": [
        "import pickle"
      ],
      "execution_count": 0,
      "outputs": []
    },
    {
      "cell_type": "code",
      "metadata": {
        "id": "bGVJ9Mwyz26R",
        "colab_type": "code",
        "colab": {}
      },
      "source": [
        "model_versions = pickle.load(open('stats/versions.pickle', 'rb'))"
      ],
      "execution_count": 0,
      "outputs": []
    },
    {
      "cell_type": "code",
      "metadata": {
        "id": "Qu31y9Re7363",
        "colab_type": "code",
        "colab": {}
      },
      "source": [
        "import numpy, sklearn, pandas\n",
        "\n",
        "versions = {\n",
        "    'numpy': numpy.__version__,\n",
        "    'sklearn': sklearn.__version__, \n",
        "    'pandas': pandas.__version__,\n",
        "    'model': 2,\n",
        "    'model_name': 'pipeline_pca_std_rf'\n",
        "}"
      ],
      "execution_count": 0,
      "outputs": []
    },
    {
      "cell_type": "code",
      "metadata": {
        "id": "jbvG3C-A0Adi",
        "colab_type": "code",
        "colab": {}
      },
      "source": [
        "assert model_versions == versions"
      ],
      "execution_count": 0,
      "outputs": []
    },
    {
      "cell_type": "code",
      "metadata": {
        "id": "dZ7ZffV7Vk9t",
        "colab_type": "code",
        "colab": {}
      },
      "source": [
        "import logging\n",
        "\n",
        "logging.basicConfig(filename='req.log')\n",
        "\n",
        "data_logger = logging.getLogger('DataLogger')\n",
        "data_logger.setLevel(logging.INFO)\n",
        "\n",
        "file_handler = logging.FileHandler('data.log', )\n",
        "\n",
        "data_logger.addHandler(file_handler)"
      ],
      "execution_count": 0,
      "outputs": []
    },
    {
      "cell_type": "code",
      "metadata": {
        "id": "yWyTjqlvBWON",
        "colab_type": "code",
        "colab": {}
      },
      "source": [
        "# loading models only once on startup\n",
        "model = pickle.load(open('models/model.pickle', 'rb'))\n",
        "\n",
        "def predict(speed, age, miles):\n",
        "    sample = [[speed, age, miles]]\n",
        "\n",
        "    result = int(model.predict(sample)[0])\n",
        "    prediction = model.predict_proba(sample)[0].tolist()\n",
        "    \n",
        "    return result, prediction"
      ],
      "execution_count": 0,
      "outputs": []
    },
    {
      "cell_type": "code",
      "metadata": {
        "id": "aQLlcVkkJHdw",
        "colab_type": "code",
        "outputId": "1a1fe995-b9b7-407a-ddd3-52d1da34284a",
        "colab": {
          "base_uri": "https://localhost:8080/",
          "height": 34
        }
      },
      "source": [
        "predict(100, 48, 10)"
      ],
      "execution_count": 9,
      "outputs": [
        {
          "output_type": "execute_result",
          "data": {
            "text/plain": [
              "(1, [0.025061955771027718, 0.6844328432545325, 0.2905052009744397])"
            ]
          },
          "metadata": {
            "tags": []
          },
          "execution_count": 9
        }
      ]
    },
    {
      "cell_type": "code",
      "metadata": {
        "id": "7WBvg3rP6Dgf",
        "colab_type": "code",
        "outputId": "44f8016d-0bc3-4210-ba79-ae459b3c3a8f",
        "colab": {
          "base_uri": "https://localhost:8080/",
          "height": 119
        }
      },
      "source": [
        "from flask import Flask, request, jsonify\n",
        "import socket\n",
        "print(socket.gethostbyname(socket.getfqdn(socket.gethostname())))\n",
        "\n",
        "app = Flask(__name__)\n",
        "\n",
        "@app.route(\"/ping\")\n",
        "def ping():\n",
        "    return \"pong\"\n",
        "\n",
        "@app.route('/predict', methods=['GET', 'POST'])\n",
        "def do_predict():\n",
        "    speed = request.json['speed']\n",
        "    age = request.json['age']\n",
        "    miles = request.json['miles']\n",
        "\n",
        "    predicted_category, probabilities = predict(speed, age, miles)\n",
        "\n",
        "    response = {\n",
        "        'category': predicted_category,\n",
        "        'prediction': probabilities,\n",
        "    }\n",
        "    \n",
        "    dataset = {\n",
        "        'out': response,\n",
        "        'in': {\n",
        "            'speed': speed, 'age': age, 'miles': miles\n",
        "        }\n",
        "    }\n",
        "\n",
        "    data_logger.info(dataset)\n",
        "\n",
        "    return jsonify(response)\n",
        "  \n",
        "import threading\n",
        "threading.Thread(target=app.run, kwargs={'host': '0.0.0.0', 'port': 80}).start()  "
      ],
      "execution_count": 10,
      "outputs": [
        {
          "output_type": "stream",
          "text": [
            "172.28.0.2\n",
            " * Serving Flask app \"__main__\" (lazy loading)\n",
            " * Environment: production\n",
            "   WARNING: This is a development server. Do not use it in a production deployment.\n",
            "   Use a production WSGI server instead.\n",
            " * Debug mode: off\n"
          ],
          "name": "stdout"
        }
      ]
    },
    {
      "cell_type": "code",
      "metadata": {
        "id": "1oPj8OQy-kwL",
        "colab_type": "code",
        "outputId": "3f9d7909-8766-4939-d4e5-704d1a676ef4",
        "colab": {
          "base_uri": "https://localhost:8080/",
          "height": 85
        }
      },
      "source": [
        "import requests\n",
        "r = requests.get(\"http://172.28.0.2/ping\")\n",
        "print(r.status_code)\n",
        "print(r.encoding)\n",
        "print(r.apparent_encoding)\n",
        "print(r.text)"
      ],
      "execution_count": 11,
      "outputs": [
        {
          "output_type": "stream",
          "text": [
            "200\n",
            "utf-8\n",
            "ascii\n",
            "pong\n"
          ],
          "name": "stdout"
        }
      ]
    },
    {
      "cell_type": "code",
      "metadata": {
        "id": "h71anuhb-vRL",
        "colab_type": "code",
        "outputId": "24fcb320-616a-43f0-91e4-2de4632d79a8",
        "colab": {
          "base_uri": "https://localhost:8080/",
          "height": 34
        }
      },
      "source": [
        "r = requests.post(\"http://172.28.0.2/predict\", json={'speed': 100, 'age': 48, 'miles': 10})\n",
        "r.status_code"
      ],
      "execution_count": 12,
      "outputs": [
        {
          "output_type": "execute_result",
          "data": {
            "text/plain": [
              "200"
            ]
          },
          "metadata": {
            "tags": []
          },
          "execution_count": 12
        }
      ]
    },
    {
      "cell_type": "code",
      "metadata": {
        "id": "_ENXdyPiJ_dn",
        "colab_type": "code",
        "outputId": "7d56b3e2-a02c-41ce-f1c1-9a132e21ec52",
        "colab": {
          "base_uri": "https://localhost:8080/",
          "height": 51
        }
      },
      "source": [
        "response = r.json()\n",
        "response"
      ],
      "execution_count": 13,
      "outputs": [
        {
          "output_type": "execute_result",
          "data": {
            "text/plain": [
              "{'category': 1,\n",
              " 'prediction': [0.025061955771027718, 0.6844328432545325, 0.29050520097443977]}"
            ]
          },
          "metadata": {
            "tags": []
          },
          "execution_count": 13
        }
      ]
    },
    {
      "cell_type": "code",
      "metadata": {
        "id": "ul5_8C3JLz79",
        "colab_type": "code",
        "outputId": "50065b10-3873-4a20-fb56-d16b2b387eab",
        "colab": {
          "base_uri": "https://localhost:8080/",
          "height": 34
        }
      },
      "source": [
        "response['prediction']"
      ],
      "execution_count": 14,
      "outputs": [
        {
          "output_type": "execute_result",
          "data": {
            "text/plain": [
              "[0.025061955771027718, 0.6844328432545325, 0.29050520097443977]"
            ]
          },
          "metadata": {
            "tags": []
          },
          "execution_count": 14
        }
      ]
    },
    {
      "cell_type": "code",
      "metadata": {
        "id": "tCSMdE_XL_dO",
        "colab_type": "code",
        "outputId": "cd18092d-9890-4d05-fe41-143760620609",
        "colab": {
          "base_uri": "https://localhost:8080/",
          "height": 34
        }
      },
      "source": [
        "!cat data.log"
      ],
      "execution_count": 15,
      "outputs": [
        {
          "output_type": "stream",
          "text": [
            "{'out': {'category': 1, 'prediction': [0.025061955771027718, 0.6844328432545325, 0.29050520097443977]}, 'in': {'speed': 100, 'age': 48, 'miles': 10}}\n"
          ],
          "name": "stdout"
        }
      ]
    },
    {
      "cell_type": "code",
      "metadata": {
        "id": "dZUG9Zl9e1PE",
        "colab_type": "code",
        "colab": {}
      },
      "source": [
        ""
      ],
      "execution_count": 0,
      "outputs": []
    }
  ]
}