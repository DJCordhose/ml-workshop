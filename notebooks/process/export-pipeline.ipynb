{
  "nbformat": 4,
  "nbformat_minor": 0,
  "metadata": {
    "colab": {
      "name": "export-pipeline.ipynb",
      "version": "0.3.2",
      "provenance": [],
      "collapsed_sections": [
        "FASceuwQAOTp",
        "_px_mArrS4Um",
        "ls7X_oTmUC5q"
      ],
      "include_colab_link": true
    },
    "kernelspec": {
      "display_name": "Python 3",
      "language": "python",
      "name": "python3"
    },
    "language_info": {
      "codemirror_mode": {
        "name": "ipython",
        "version": 3
      },
      "file_extension": ".py",
      "mimetype": "text/x-python",
      "name": "python",
      "nbconvert_exporter": "python",
      "pygments_lexer": "ipython3",
      "version": "3.7.3"
    }
  },
  "cells": [
    {
      "cell_type": "markdown",
      "metadata": {
        "id": "view-in-github",
        "colab_type": "text"
      },
      "source": [
        "<a href=\"https://colab.research.google.com/github/DJCordhose/ml-workshop/blob/master/notebooks/process/export-pipeline.ipynb\" target=\"_parent\"><img src=\"https://colab.research.google.com/assets/colab-badge.svg\" alt=\"Open In Colab\"/></a>"
      ]
    },
    {
      "cell_type": "markdown",
      "metadata": {
        "colab_type": "text",
        "id": "5hBDJrqDAOTW"
      },
      "source": [
        "# Pipeline and Export\n",
        "\n",
        "* _Pipelines_ allow to have a well defined sequence of processing steps shared for training and production\n",
        "  * have the same interface as a pure classifier, easy replacement for pure classfier\n",
        "* _ColumnTransformer_ bundle transformations for each column individually  \n",
        "\n",
        "Links\n",
        "* https://scikit-learn.org/stable/modules/generated/sklearn.pipeline.Pipeline.html\n",
        "* https://scikit-learn.org/0.21/modules/compose.html#column-transformer\n",
        "* https://scikit-learn.org/stable/modules/model_persistence.html\n",
        "* https://scikit-learn.org/0.21/modules/generated/sklearn.compose.ColumnTransformer.html"
      ]
    },
    {
      "cell_type": "code",
      "metadata": {
        "id": "Ne38HP4CP8Zs",
        "colab_type": "code",
        "outputId": "bd036cd8-79a7-469b-879d-e550d4d8152b",
        "colab": {
          "base_uri": "https://localhost:8080/",
          "height": 85
        }
      },
      "source": [
        "!rm -rf data && mkdir data && cd data && curl https://raw.githubusercontent.com/DJCordhose/ml-workshop/master/data/insurance-customers-1500.csv -O && cd -"
      ],
      "execution_count": 1,
      "outputs": [
        {
          "output_type": "stream",
          "text": [
            "  % Total    % Received % Xferd  Average Speed   Time    Time     Time  Current\n",
            "                                 Dload  Upload   Total   Spent    Left  Speed\n",
            "\r  0     0    0     0    0     0      0      0 --:--:-- --:--:-- --:--:--     0\r  0     0    0     0    0     0      0      0 --:--:-- --:--:-- --:--:--     0\r100 26783  100 26783    0     0   157k      0 --:--:-- --:--:-- --:--:--  156k\n",
            "/content\n"
          ],
          "name": "stdout"
        }
      ]
    },
    {
      "cell_type": "code",
      "metadata": {
        "id": "5zATPPZIQPiG",
        "colab_type": "code",
        "outputId": "ba5c814d-a964-4807-dbc2-46c4ff604093",
        "colab": {
          "base_uri": "https://localhost:8080/",
          "height": 51
        }
      },
      "source": [
        "!ls -l data"
      ],
      "execution_count": 2,
      "outputs": [
        {
          "output_type": "stream",
          "text": [
            "total 28\n",
            "-rw-r--r-- 1 root root 26783 Aug  3 16:38 insurance-customers-1500.csv\n"
          ],
          "name": "stdout"
        }
      ]
    },
    {
      "cell_type": "code",
      "metadata": {
        "colab_type": "code",
        "id": "bwtTNz2AhdRt",
        "colab": {}
      },
      "source": [
        "import pandas as pd\n",
        "df = pd.read_csv('data/insurance-customers-1500.csv', sep=';')"
      ],
      "execution_count": 0,
      "outputs": []
    },
    {
      "cell_type": "code",
      "metadata": {
        "id": "Z9hJnYoENby0",
        "colab_type": "code",
        "outputId": "3dcf9fa9-23f8-4d4c-d629-41526ee741e1",
        "colab": {
          "base_uri": "https://localhost:8080/",
          "height": 297
        }
      },
      "source": [
        "stats = df.describe()\n",
        "stats"
      ],
      "execution_count": 4,
      "outputs": [
        {
          "output_type": "execute_result",
          "data": {
            "text/html": [
              "<div>\n",
              "<style scoped>\n",
              "    .dataframe tbody tr th:only-of-type {\n",
              "        vertical-align: middle;\n",
              "    }\n",
              "\n",
              "    .dataframe tbody tr th {\n",
              "        vertical-align: top;\n",
              "    }\n",
              "\n",
              "    .dataframe thead th {\n",
              "        text-align: right;\n",
              "    }\n",
              "</style>\n",
              "<table border=\"1\" class=\"dataframe\">\n",
              "  <thead>\n",
              "    <tr style=\"text-align: right;\">\n",
              "      <th></th>\n",
              "      <th>speed</th>\n",
              "      <th>age</th>\n",
              "      <th>miles</th>\n",
              "      <th>group</th>\n",
              "    </tr>\n",
              "  </thead>\n",
              "  <tbody>\n",
              "    <tr>\n",
              "      <th>count</th>\n",
              "      <td>1500.000000</td>\n",
              "      <td>1500.000000</td>\n",
              "      <td>1500.000000</td>\n",
              "      <td>1500.000000</td>\n",
              "    </tr>\n",
              "    <tr>\n",
              "      <th>mean</th>\n",
              "      <td>122.492667</td>\n",
              "      <td>44.980667</td>\n",
              "      <td>30.434000</td>\n",
              "      <td>0.998667</td>\n",
              "    </tr>\n",
              "    <tr>\n",
              "      <th>std</th>\n",
              "      <td>17.604333</td>\n",
              "      <td>17.130400</td>\n",
              "      <td>15.250815</td>\n",
              "      <td>0.816768</td>\n",
              "    </tr>\n",
              "    <tr>\n",
              "      <th>min</th>\n",
              "      <td>68.000000</td>\n",
              "      <td>16.000000</td>\n",
              "      <td>1.000000</td>\n",
              "      <td>0.000000</td>\n",
              "    </tr>\n",
              "    <tr>\n",
              "      <th>25%</th>\n",
              "      <td>108.000000</td>\n",
              "      <td>32.000000</td>\n",
              "      <td>18.000000</td>\n",
              "      <td>0.000000</td>\n",
              "    </tr>\n",
              "    <tr>\n",
              "      <th>50%</th>\n",
              "      <td>120.000000</td>\n",
              "      <td>42.000000</td>\n",
              "      <td>29.000000</td>\n",
              "      <td>1.000000</td>\n",
              "    </tr>\n",
              "    <tr>\n",
              "      <th>75%</th>\n",
              "      <td>137.000000</td>\n",
              "      <td>55.000000</td>\n",
              "      <td>42.000000</td>\n",
              "      <td>2.000000</td>\n",
              "    </tr>\n",
              "    <tr>\n",
              "      <th>max</th>\n",
              "      <td>166.000000</td>\n",
              "      <td>100.000000</td>\n",
              "      <td>84.000000</td>\n",
              "      <td>2.000000</td>\n",
              "    </tr>\n",
              "  </tbody>\n",
              "</table>\n",
              "</div>"
            ],
            "text/plain": [
              "             speed          age        miles        group\n",
              "count  1500.000000  1500.000000  1500.000000  1500.000000\n",
              "mean    122.492667    44.980667    30.434000     0.998667\n",
              "std      17.604333    17.130400    15.250815     0.816768\n",
              "min      68.000000    16.000000     1.000000     0.000000\n",
              "25%     108.000000    32.000000    18.000000     0.000000\n",
              "50%     120.000000    42.000000    29.000000     1.000000\n",
              "75%     137.000000    55.000000    42.000000     2.000000\n",
              "max     166.000000   100.000000    84.000000     2.000000"
            ]
          },
          "metadata": {
            "tags": []
          },
          "execution_count": 4
        }
      ]
    },
    {
      "cell_type": "code",
      "metadata": {
        "colab_type": "code",
        "id": "IrencvYMAOTi",
        "colab": {}
      },
      "source": [
        "y=df['group']"
      ],
      "execution_count": 0,
      "outputs": []
    },
    {
      "cell_type": "code",
      "metadata": {
        "colab_type": "code",
        "id": "0XV3G8RtAOTk",
        "colab": {}
      },
      "source": [
        "df.drop('group', axis='columns', inplace=True)"
      ],
      "execution_count": 0,
      "outputs": []
    },
    {
      "cell_type": "code",
      "metadata": {
        "colab_type": "code",
        "id": "_duQLNiHAOTl",
        "colab": {}
      },
      "source": [
        "X = df.values"
      ],
      "execution_count": 0,
      "outputs": []
    },
    {
      "cell_type": "code",
      "metadata": {
        "id": "jbAcFHhjj3O9",
        "colab_type": "code",
        "outputId": "aaa29484-833d-4eb4-9322-784c4a421a90",
        "colab": {
          "base_uri": "https://localhost:8080/",
          "height": 136
        }
      },
      "source": [
        "X"
      ],
      "execution_count": 8,
      "outputs": [
        {
          "output_type": "execute_result",
          "data": {
            "text/plain": [
              "array([[ 98.,  44.,  25.],\n",
              "       [118.,  54.,  24.],\n",
              "       [111.,  26.,  34.],\n",
              "       ...,\n",
              "       [138.,  41.,  45.],\n",
              "       [100.,  31.,  28.],\n",
              "       [100.,  58.,  55.]])"
            ]
          },
          "metadata": {
            "tags": []
          },
          "execution_count": 8
        }
      ]
    },
    {
      "cell_type": "code",
      "metadata": {
        "id": "1fWOLPgDYmAK",
        "colab_type": "code",
        "outputId": "58063088-7a77-4c6a-8324-b09c666f6c5b",
        "colab": {
          "base_uri": "https://localhost:8080/",
          "height": 34
        }
      },
      "source": [
        "from sklearn.model_selection import train_test_split\n",
        "\n",
        "X_train, X_test, y_train, y_test = train_test_split(X, y, test_size=0.2, random_state=42, stratify=y)\n",
        "X_train.shape, y_train.shape, X_test.shape, y_test.shape"
      ],
      "execution_count": 9,
      "outputs": [
        {
          "output_type": "execute_result",
          "data": {
            "text/plain": [
              "((1200, 3), (1200,), (300, 3), (300,))"
            ]
          },
          "metadata": {
            "tags": []
          },
          "execution_count": 9
        }
      ]
    },
    {
      "cell_type": "code",
      "metadata": {
        "id": "_NHRojCtYmCy",
        "colab_type": "code",
        "colab": {}
      },
      "source": [
        "from sklearn.preprocessing import StandardScaler\n",
        "from sklearn.decomposition import PCA\n",
        "\n",
        "from sklearn.compose import make_column_transformer\n",
        "from sklearn.compose import ColumnTransformer\n",
        "\n",
        "from sklearn.pipeline import Pipeline"
      ],
      "execution_count": 0,
      "outputs": []
    },
    {
      "cell_type": "code",
      "metadata": {
        "id": "OCtbbU_7hpxF",
        "colab_type": "code",
        "colab": {}
      },
      "source": [
        "column_trans = ColumnTransformer([], remainder=StandardScaler())"
      ],
      "execution_count": 0,
      "outputs": []
    },
    {
      "cell_type": "code",
      "metadata": {
        "id": "P4n9p4x6jrPT",
        "colab_type": "code",
        "outputId": "640e3a51-d3dc-4b07-8b41-e1dab4ae8662",
        "colab": {
          "base_uri": "https://localhost:8080/",
          "height": 136
        }
      },
      "source": [
        "column_trans.fit_transform(X)"
      ],
      "execution_count": 12,
      "outputs": [
        {
          "output_type": "execute_result",
          "data": {
            "text/plain": [
              "array([[-1.39175022, -0.05726625, -0.35642765],\n",
              "       [-0.25528743,  0.52668598, -0.42201978],\n",
              "       [-0.65304941, -1.10838025,  0.23390154],\n",
              "       ...,\n",
              "       [ 0.88117537, -0.23245192,  0.955415  ],\n",
              "       [-1.27810395, -0.81640414, -0.15965125],\n",
              "       [-1.27810395,  0.76026687,  1.61133633]])"
            ]
          },
          "metadata": {
            "tags": []
          },
          "execution_count": 12
        }
      ]
    },
    {
      "cell_type": "code",
      "metadata": {
        "id": "icxFn9oWlh21",
        "colab_type": "code",
        "colab": {
          "base_uri": "https://localhost:8080/",
          "height": 51
        },
        "outputId": "7278c564-2bbf-483d-a706-a188fef2f5b1"
      },
      "source": [
        "pca = PCA()\n",
        "pca"
      ],
      "execution_count": 13,
      "outputs": [
        {
          "output_type": "execute_result",
          "data": {
            "text/plain": [
              "PCA(copy=True, iterated_power='auto', n_components=None, random_state=None,\n",
              "    svd_solver='auto', tol=0.0, whiten=False)"
            ]
          },
          "metadata": {
            "tags": []
          },
          "execution_count": 13
        }
      ]
    },
    {
      "cell_type": "code",
      "metadata": {
        "id": "fxKpsxibYmC9",
        "colab_type": "code",
        "colab": {}
      },
      "source": [
        "from sklearn.ensemble import RandomForestClassifier\n",
        "rf_clf = clf = RandomForestClassifier(max_depth=9, min_samples_leaf=9, min_samples_split=3, n_estimators=7, n_jobs=-1)"
      ],
      "execution_count": 0,
      "outputs": []
    },
    {
      "cell_type": "code",
      "metadata": {
        "id": "RfvRlCH7ky4Q",
        "colab_type": "code",
        "colab": {}
      },
      "source": [
        "clf = Pipeline([('standardise', column_trans), ('reduce_dim', PCA()), ('clf', rf_clf)])"
      ],
      "execution_count": 0,
      "outputs": []
    },
    {
      "cell_type": "code",
      "metadata": {
        "id": "lxPfll2dkwfb",
        "colab_type": "code",
        "outputId": "87e9c554-61c5-4f9d-b1b6-901b424e1064",
        "colab": {
          "base_uri": "https://localhost:8080/",
          "height": 493
        }
      },
      "source": [
        "%time clf.fit(X_train, y_train)"
      ],
      "execution_count": 16,
      "outputs": [
        {
          "output_type": "stream",
          "text": [
            "CPU times: user 110 ms, sys: 8.63 ms, total: 118 ms\n",
            "Wall time: 205 ms\n"
          ],
          "name": "stdout"
        },
        {
          "output_type": "execute_result",
          "data": {
            "text/plain": [
              "Pipeline(memory=None,\n",
              "         steps=[('standardise',\n",
              "                 ColumnTransformer(n_jobs=None,\n",
              "                                   remainder=StandardScaler(copy=True,\n",
              "                                                            with_mean=True,\n",
              "                                                            with_std=True),\n",
              "                                   sparse_threshold=0.3,\n",
              "                                   transformer_weights=None, transformers=[],\n",
              "                                   verbose=False)),\n",
              "                ('reduce_dim',\n",
              "                 PCA(copy=True, iterated_power='auto', n_components=None,\n",
              "                     random_state=None, svd_solver='auto', tol=0.0,\n",
              "                     whiten=False)),\n",
              "                ('clf',\n",
              "                 RandomForestClassifier(bootstrap=True, class_weight=None,\n",
              "                                        criterion='gini', max_depth=9,\n",
              "                                        max_features='auto',\n",
              "                                        max_leaf_nodes=None,\n",
              "                                        min_impurity_decrease=0.0,\n",
              "                                        min_impurity_split=None,\n",
              "                                        min_samples_leaf=9, min_samples_split=3,\n",
              "                                        min_weight_fraction_leaf=0.0,\n",
              "                                        n_estimators=7, n_jobs=-1,\n",
              "                                        oob_score=False, random_state=None,\n",
              "                                        verbose=0, warm_start=False))],\n",
              "         verbose=False)"
            ]
          },
          "metadata": {
            "tags": []
          },
          "execution_count": 16
        }
      ]
    },
    {
      "cell_type": "code",
      "metadata": {
        "id": "8Pk9SatWYmDA",
        "colab_type": "code",
        "outputId": "010c885c-2dc0-4dbe-d9c0-1b1fcd20ff4a",
        "colab": {
          "base_uri": "https://localhost:8080/",
          "height": 34
        }
      },
      "source": [
        "train_score = clf.score(X_train, y_train)\n",
        "train_score"
      ],
      "execution_count": 17,
      "outputs": [
        {
          "output_type": "execute_result",
          "data": {
            "text/plain": [
              "0.8358333333333333"
            ]
          },
          "metadata": {
            "tags": []
          },
          "execution_count": 17
        }
      ]
    },
    {
      "cell_type": "code",
      "metadata": {
        "id": "LgjMb3xSYmDF",
        "colab_type": "code",
        "outputId": "799ea9c6-9c48-4fc8-c8f5-3dbdbfe4000a",
        "colab": {
          "base_uri": "https://localhost:8080/",
          "height": 34
        }
      },
      "source": [
        "test_score = clf.score(X_test, y_test)\n",
        "test_score"
      ],
      "execution_count": 18,
      "outputs": [
        {
          "output_type": "execute_result",
          "data": {
            "text/plain": [
              "0.7766666666666666"
            ]
          },
          "metadata": {
            "tags": []
          },
          "execution_count": 18
        }
      ]
    },
    {
      "cell_type": "code",
      "metadata": {
        "id": "9Krs6JQsNy69",
        "colab_type": "code",
        "outputId": "a3df8102-25ba-4db8-ebd6-a7c42af4f4a8",
        "colab": {
          "base_uri": "https://localhost:8080/",
          "height": 51
        }
      },
      "source": [
        "from sklearn.model_selection import cross_val_score\n",
        "cross_val_scores = cross_val_score(clf, X_train, y_train, n_jobs=-1, cv=10)\n",
        "cross_val_scores"
      ],
      "execution_count": 19,
      "outputs": [
        {
          "output_type": "execute_result",
          "data": {
            "text/plain": [
              "array([0.70247934, 0.79166667, 0.74166667, 0.8       , 0.70833333,\n",
              "       0.76666667, 0.825     , 0.78333333, 0.79166667, 0.77310924])"
            ]
          },
          "metadata": {
            "tags": []
          },
          "execution_count": 19
        }
      ]
    },
    {
      "cell_type": "code",
      "metadata": {
        "id": "C41cttnOOjJ7",
        "colab_type": "code",
        "outputId": "36ae0660-3d8b-4fc2-9422-c970c36eea85",
        "colab": {
          "base_uri": "https://localhost:8080/",
          "height": 34
        }
      },
      "source": [
        "# mean score and the 95% confidence interval (2 standard deviations assuming normal distribution)\n",
        "print(\"Accuracy: %0.2f (+/- %0.2f)\" % (cross_val_scores.mean(), cross_val_scores.std() * 2))"
      ],
      "execution_count": 20,
      "outputs": [
        {
          "output_type": "stream",
          "text": [
            "Accuracy: 0.77 (+/- 0.08)\n"
          ],
          "name": "stdout"
        }
      ]
    },
    {
      "cell_type": "code",
      "metadata": {
        "id": "2A__vR7UQsHy",
        "colab_type": "code",
        "outputId": "150459ce-5b7f-4fb0-d273-ee1a5613d512",
        "colab": {
          "base_uri": "https://localhost:8080/",
          "height": 85
        }
      },
      "source": [
        "scores = {\n",
        "    'cross_val_scores': cross_val_scores,\n",
        "    'train_score': train_score,\n",
        "    'test_score': test_score\n",
        "}\n",
        "scores"
      ],
      "execution_count": 21,
      "outputs": [
        {
          "output_type": "execute_result",
          "data": {
            "text/plain": [
              "{'cross_val_scores': array([0.70247934, 0.79166667, 0.74166667, 0.8       , 0.70833333,\n",
              "        0.76666667, 0.825     , 0.78333333, 0.79166667, 0.77310924]),\n",
              " 'test_score': 0.7766666666666666,\n",
              " 'train_score': 0.8358333333333333}"
            ]
          },
          "metadata": {
            "tags": []
          },
          "execution_count": 21
        }
      ]
    },
    {
      "cell_type": "code",
      "metadata": {
        "id": "eVKsEzrCIrgM",
        "colab_type": "code",
        "colab": {}
      },
      "source": [
        "!rm -rf models && mkdir models"
      ],
      "execution_count": 0,
      "outputs": []
    },
    {
      "cell_type": "code",
      "metadata": {
        "id": "5pvcSm9sG5kH",
        "colab_type": "code",
        "colab": {}
      },
      "source": [
        "import pickle\n",
        "\n",
        "pickle.dump(clf, open('models/model.pickle', 'wb'))"
      ],
      "execution_count": 0,
      "outputs": []
    },
    {
      "cell_type": "code",
      "metadata": {
        "id": "1NPhqUMdOthp",
        "colab_type": "code",
        "colab": {}
      },
      "source": [
        "!rm -rf stats && mkdir stats"
      ],
      "execution_count": 0,
      "outputs": []
    },
    {
      "cell_type": "code",
      "metadata": {
        "id": "-vSonGgwIUw1",
        "colab_type": "code",
        "colab": {}
      },
      "source": [
        "# has the distribution of the data changed substantially?\n",
        "pickle.dump(stats, open('stats/describe.pickle', 'wb'))"
      ],
      "execution_count": 0,
      "outputs": []
    },
    {
      "cell_type": "code",
      "metadata": {
        "id": "5iADT6PGQfiM",
        "colab_type": "code",
        "colab": {}
      },
      "source": [
        "# has the score descread since last time or is suspiciously different?\n",
        "pickle.dump(scores, open('stats/scores.pickle', 'wb'))"
      ],
      "execution_count": 0,
      "outputs": []
    },
    {
      "cell_type": "code",
      "metadata": {
        "id": "MMyB1eQEVjjp",
        "colab_type": "code",
        "outputId": "eb269549-92be-4a35-ee88-0ebac6af89a9",
        "colab": {
          "base_uri": "https://localhost:8080/",
          "height": 102
        }
      },
      "source": [
        "import numpy, sklearn, pandas\n",
        "\n",
        "model_name = 'pipeline_pca_std_rf'\n",
        "model_version = 2\n",
        "\n",
        "versions = {\n",
        "    'numpy': numpy.__version__,\n",
        "    'sklearn': sklearn.__version__, \n",
        "    'pandas': pandas.__version__,\n",
        "    'model': model_version,\n",
        "    'model_name': model_name\n",
        "}\n",
        "versions"
      ],
      "execution_count": 27,
      "outputs": [
        {
          "output_type": "execute_result",
          "data": {
            "text/plain": [
              "{'model': 2,\n",
              " 'model_name': 'pipeline_pca_std_rf',\n",
              " 'numpy': '1.16.4',\n",
              " 'pandas': '0.24.2',\n",
              " 'sklearn': '0.21.3'}"
            ]
          },
          "metadata": {
            "tags": []
          },
          "execution_count": 27
        }
      ]
    },
    {
      "cell_type": "code",
      "metadata": {
        "id": "dIU41IAfV_ej",
        "colab_type": "code",
        "colab": {}
      },
      "source": [
        "# we need to have exactly the same versions for serving\n",
        "pickle.dump(versions, open('stats/versions.pickle', 'wb'))"
      ],
      "execution_count": 0,
      "outputs": []
    },
    {
      "cell_type": "code",
      "metadata": {
        "id": "pn2vpnPJRfGO",
        "colab_type": "code",
        "outputId": "2d8a04d0-86b1-436c-e1fe-085e90b3f623",
        "colab": {
          "base_uri": "https://localhost:8080/",
          "height": 85
        }
      },
      "source": [
        "!ls -l stats"
      ],
      "execution_count": 29,
      "outputs": [
        {
          "output_type": "stream",
          "text": [
            "total 12\n",
            "-rw-r--r-- 1 root root 1145 Aug  3 16:38 describe.pickle\n",
            "-rw-r--r-- 1 root root  372 Aug  3 16:38 scores.pickle\n",
            "-rw-r--r-- 1 root root  143 Aug  3 16:38 versions.pickle\n"
          ],
          "name": "stdout"
        }
      ]
    },
    {
      "cell_type": "code",
      "metadata": {
        "id": "0hX7Bza4Rghs",
        "colab_type": "code",
        "outputId": "7c2cc87f-14aa-4037-dd77-4120387ce0f7",
        "colab": {
          "base_uri": "https://localhost:8080/",
          "height": 119
        }
      },
      "source": [
        "!ls -l"
      ],
      "execution_count": 30,
      "outputs": [
        {
          "output_type": "stream",
          "text": [
            "total 48\n",
            "drwxr-xr-x 2 root root  4096 Aug  3 16:38 data\n",
            "-rw-r--r-- 1 root root 31648 Aug  3 16:38 export-pipeline.ipynb\n",
            "drwxr-xr-x 2 root root  4096 Aug  3 16:38 models\n",
            "drwxr-xr-x 1 root root  4096 Aug  1 16:08 sample_data\n",
            "drwxr-xr-x 2 root root  4096 Aug  3 16:38 stats\n"
          ],
          "name": "stdout"
        }
      ]
    },
    {
      "cell_type": "code",
      "metadata": {
        "id": "4EFyXJlEUGUz",
        "colab_type": "code",
        "outputId": "8febd543-b865-4d2c-b788-4b7fef6f9d6f",
        "colab": {
          "base_uri": "https://localhost:8080/",
          "height": 85
        }
      },
      "source": [
        "# we also need the code that created this to have it reproduceable\n",
        "!cd models\n",
        "!curl https://raw.githubusercontent.com/DJCordhose/ml-workshop/master/notebooks/process/export-pipeline.ipynb -O\n",
        "!cd -"
      ],
      "execution_count": 31,
      "outputs": [
        {
          "output_type": "stream",
          "text": [
            "  % Total    % Received % Xferd  Average Speed   Time    Time     Time  Current\n",
            "                                 Dload  Upload   Total   Spent    Left  Speed\n",
            "\r  0     0    0     0    0     0      0      0 --:--:-- --:--:-- --:--:--     0\r100 31648  100 31648    0     0   303k      0 --:--:-- --:--:-- --:--:--  303k\n",
            "/\n"
          ],
          "name": "stdout"
        }
      ]
    },
    {
      "cell_type": "code",
      "metadata": {
        "id": "4SoTWSB9Ud8y",
        "colab_type": "code",
        "outputId": "3a08d3ad-4c6f-4827-9107-1edcfaf19167",
        "colab": {
          "base_uri": "https://localhost:8080/",
          "height": 51
        }
      },
      "source": [
        "!ls -l models"
      ],
      "execution_count": 32,
      "outputs": [
        {
          "output_type": "stream",
          "text": [
            "total 60\n",
            "-rw-r--r-- 1 root root 59482 Aug  3 16:38 model.pickle\n"
          ],
          "name": "stdout"
        }
      ]
    },
    {
      "cell_type": "code",
      "metadata": {
        "id": "k_kVqDoDzsP5",
        "colab_type": "code",
        "outputId": "ebcd0d46-7e52-467f-a255-8b95db780b3f",
        "colab": {
          "base_uri": "https://localhost:8080/",
          "height": 34
        }
      },
      "source": [
        "file_name = 'prod_{0}_{1}.tgz'.format(model_name, model_version)\n",
        "file_name"
      ],
      "execution_count": 33,
      "outputs": [
        {
          "output_type": "execute_result",
          "data": {
            "text/plain": [
              "'prod_pipeline_pca_std_rf_2.tgz'"
            ]
          },
          "metadata": {
            "tags": []
          },
          "execution_count": 33
        }
      ]
    },
    {
      "cell_type": "code",
      "metadata": {
        "id": "YLIYjeywRmgb",
        "colab_type": "code",
        "colab": {}
      },
      "source": [
        "# have everything we need to reproduce and compare to other versions here\n",
        "# better to version this \n",
        "# often versioning data is a challenge simply because of its size\n",
        "!tar -czf $file_name models stats data"
      ],
      "execution_count": 0,
      "outputs": []
    },
    {
      "cell_type": "code",
      "metadata": {
        "id": "o4Zs7vXBRsbj",
        "colab_type": "code",
        "outputId": "65d0949c-a74a-4adc-8491-440840335d75",
        "colab": {
          "base_uri": "https://localhost:8080/",
          "height": 136
        }
      },
      "source": [
        "!ls -l"
      ],
      "execution_count": 35,
      "outputs": [
        {
          "output_type": "stream",
          "text": [
            "total 76\n",
            "drwxr-xr-x 2 root root  4096 Aug  3 16:38 data\n",
            "-rw-r--r-- 1 root root 31648 Aug  3 16:38 export-pipeline.ipynb\n",
            "drwxr-xr-x 2 root root  4096 Aug  3 16:38 models\n",
            "-rw-r--r-- 1 root root 25145 Aug  3 16:38 prod_pipeline_pca_std_rf_2.tgz\n",
            "drwxr-xr-x 1 root root  4096 Aug  1 16:08 sample_data\n",
            "drwxr-xr-x 2 root root  4096 Aug  3 16:38 stats\n"
          ],
          "name": "stdout"
        }
      ]
    },
    {
      "cell_type": "code",
      "metadata": {
        "id": "3-RjWWfuh5TF",
        "colab_type": "code",
        "outputId": "0809d96a-158f-4f92-b367-a03a175f0eff",
        "colab": {
          "base_uri": "https://localhost:8080/",
          "height": 34
        }
      },
      "source": [
        "!date"
      ],
      "execution_count": 36,
      "outputs": [
        {
          "output_type": "stream",
          "text": [
            "Sat Aug  3 16:38:45 UTC 2019\n"
          ],
          "name": "stdout"
        }
      ]
    },
    {
      "cell_type": "markdown",
      "metadata": {
        "id": "UC9AzN22VEVm",
        "colab_type": "text"
      },
      "source": [
        "# Exercise: Export your favorite model\n",
        "\n",
        "* run this notebook\n",
        "* modify to choose any strategy you like\n",
        "* chain together different / additional steps in a pipeline\n",
        "* can you add a normaizer?\n",
        "* PCA to less dimensions?\n",
        "* rather use T-SNE or UMAP?\n",
        "\n",
        "finally download the complete archieve for production for the next step\n"
      ]
    },
    {
      "cell_type": "code",
      "metadata": {
        "id": "RLBqHa94h1rS",
        "colab_type": "code",
        "colab": {}
      },
      "source": [
        ""
      ],
      "execution_count": 0,
      "outputs": []
    }
  ]
}