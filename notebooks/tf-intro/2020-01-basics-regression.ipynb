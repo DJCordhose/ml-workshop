{
 "cells": [
  {
   "cell_type": "markdown",
   "metadata": {
    "colab_type": "text",
    "id": "view-in-github"
   },
   "source": [
    "<a href=\"https://colab.research.google.com/github/DJCordhose/ml-workshop/blob/master/notebooks/tf-intro/2020-01-basics-regression.ipynb\" target=\"_parent\"><img src=\"https://colab.research.google.com/assets/colab-badge.svg\" alt=\"Open In Colab\"/></a>"
   ]
  },
  {
   "cell_type": "markdown",
   "metadata": {
    "colab_type": "text",
    "id": "XdfXfXK2-CiG"
   },
   "source": [
    "# Practical Introduction to TensorFlow 2\n",
    "\n",
    "Oliver Zeigermann, <a href='http://zeigermann.eu/'>zeigermann.eu/</a>, <a href='https://twitter.com/DJCordhose'>@DJCordhose</a>\n",
    "\n",
    "\n",
    "In this workshop you will get an introduction into neural networks from first principals using TensorFlow 2. From its low level API we will work our way up to its high level Keras API solving the same simple challenge. Along the way you will understand how matrix multiplication is the basis of neural networks, how loss functions work, how partial derivatives can be computed and used to bring down the loss of a model architecture. Based on Colab notebooks you will have hands-on exercises both in the area of regression and classification.\n",
    "\n",
    "---\n",
    "\n",
    "This Notebook: http://bit.ly/webstep-tensorflow-2020\n",
    "\n",
    "Preparation\n",
    " * open this notebook in a mordern browser, Chrome if you have (IE will not work)\n",
    " * make it run using the \"Run All\" command from the \"Runtime\" menu\n",
    " * you need to allow execution and must either have a Google login or are willing to create one\n",
    " * expand all cell by \"View\"->\"Expand Sections\"\n",
    "---\n",
    "\n",
    "Prerequisites\n",
    "* the code is in Python, but basic knowledge in any programming language is sufficient\n",
    "* having an idea about object oriented programming is helpful, but not mandatory\n"
   ]
  },
  {
   "cell_type": "code",
   "execution_count": 1,
   "metadata": {
    "colab": {},
    "colab_type": "code",
    "id": "j6tt1Z9cEV9m"
   },
   "outputs": [],
   "source": [
    "import matplotlib.pyplot as plt\n",
    "%matplotlib inline\n",
    "\n",
    "import matplotlib as mpl\n",
    "mpl.rcParams['figure.figsize'] = (20, 8)\n",
    "mpl.rcParams['axes.titlesize'] = 24\n",
    "mpl.rcParams['axes.labelsize'] = 20"
   ]
  },
  {
   "cell_type": "markdown",
   "metadata": {
    "colab_type": "text",
    "id": "Syb44kZKF3a_"
   },
   "source": [
    "# We begin with a plot of a dependent variable"
   ]
  },
  {
   "cell_type": "code",
   "execution_count": 2,
   "metadata": {
    "colab": {
     "base_uri": "https://localhost:8080/",
     "height": 531
    },
    "colab_type": "code",
    "id": "fxRBCo2QIuI9",
    "outputId": "f2b894cb-959f-4cfc-dd91-ce229b1b3ceb"
   },
   "outputs": [
    {
     "data": {
      "image/png": "[encoded data removed]",
      "text/plain": [
       "<Figure size 432x288 with 1 Axes>"
      ]
     },
     "metadata": {
      "needs_background": "light"
     },
     "output_type": "display_data"
    }
   ],
   "source": [
    "#@title A noisy line of shape y = m*x + b { run: \"auto\", display-mode: \"form\" }\n",
    "\n",
    "# https://colab.research.google.com/notebooks/forms.ipynb\n",
    "\n",
    "n = 50 #@param {type:\"slider\", min:10, max:500, step:1}\n",
    "m = -1 #@param {type:\"slider\", min:-10, max:10, step: 0.1}\n",
    "b = 1 #@param {type:\"slider\", min:-10, max:10, step: 0.1}\n",
    "\n",
    "noise_level = 0.1 #@param {type:\"slider\", min:0.0, max:1.0, step:0.1}\n",
    "\n",
    "title = 'Predict y from x (based on a line with noise)' #@param {type:\"string\"}\n",
    "x_label = 'x' #@param {type:\"string\"}\n",
    "y_label = 'y' #@param {type:\"string\"}\n",
    "\n",
    "import numpy as np\n",
    "np.random.seed(42)\n",
    "\n",
    "# sort is not necessary, but makes x easier to understand\n",
    "x = np.sort(np.random.uniform(0, 1, n))\n",
    "y = m*x+b + np.random.normal(0, noise_level, n)\n",
    "\n",
    "plt.xlabel(x_label)\n",
    "plt.ylabel(y_label)\n",
    "plt.title(title)\n",
    "\n",
    "plt.scatter(x, y);"
   ]
  },
  {
   "cell_type": "markdown",
   "metadata": {
    "colab_type": "text",
    "id": "Q8Jc5TpzIKpl"
   },
   "source": [
    "# Hands-On I: Get familiar with Colab notebooks and the example\n",
    "\n",
    "* Execute all cells up to this point by pressing shift+enter in each cell\n",
    "* Change the title and what is on the axis to match any application you might have\n",
    "* Play with the parameters using the sliders above to get an idea of what kind of problem we are dealing with\n",
    "* If the data does not match your application, adjust it in a reasonable way\n",
    "\n",
    "**_You are free to execute all cells in sync with the talk from now on_**"
   ]
  },
  {
   "cell_type": "markdown",
   "metadata": {
    "colab_type": "text",
    "id": "Q37hoRPLKI5H"
   },
   "source": [
    "## Let's find a matching example\n",
    "\n",
    "_Let's change the title and what is on the axis to match our application_"
   ]
  },
  {
   "cell_type": "markdown",
   "metadata": {
    "colab_type": "text",
    "id": "iuUy8f6W-Gns"
   },
   "source": [
    "# _Challenge: How do we fit the best line possible?_\n",
    "\n",
    "* Maybe to predict the future\n",
    "* Or understand the nature of the data\n",
    "\n",
    "_Having a **line** is our prior believe, we will later remove this assumption_ "
   ]
  },
  {
   "cell_type": "markdown",
   "metadata": {
    "colab_type": "text",
    "id": "Foa3nuaywB09"
   },
   "source": [
    "# Starting off with a naive approach"
   ]
  },
  {
   "cell_type": "markdown",
   "metadata": {
    "colab_type": "text",
    "id": "_18EAgpD-NEe"
   },
   "source": [
    "## Our model: linear\n",
    "\n",
    "### ```y = m*x + b```\n",
    "\n",
    "* `m` is the slope \n",
    "* `b` is the y-intercept\n"
   ]
  },
  {
   "cell_type": "code",
   "execution_count": 3,
   "metadata": {
    "colab": {},
    "colab_type": "code",
    "id": "B988o-LuC2wf"
   },
   "outputs": [],
   "source": [
    "class LinearModel:\n",
    "  \n",
    "  def __init__(self, m=0, b=0):\n",
    "    self.m = m\n",
    "    self.b = b\n",
    "    \n",
    "  def __call__(self, x):\n",
    "    y = self.m * x + self.b\n",
    "    return y"
   ]
  },
  {
   "cell_type": "code",
   "execution_count": 4,
   "metadata": {
    "colab": {
     "base_uri": "https://localhost:8080/",
     "height": 187
    },
    "colab_type": "code",
    "id": "lUmmOFtdUP-U",
    "outputId": "8dbce36d-cfa8-4a06-c240-29c8359eaa40"
   },
   "outputs": [
    {
     "data": {
      "text/plain": [
       "array([0.02058449, 0.03438852, 0.04645041, 0.05808361, 0.06505159,\n",
       "       0.09767211, 0.12203823, 0.13949386, 0.15599452, 0.15601864,\n",
       "       0.17052412, 0.18182497, 0.18340451, 0.18485446, 0.19967378,\n",
       "       0.21233911, 0.25877998, 0.29122914, 0.29214465, 0.30424224,\n",
       "       0.30461377, 0.31171108, 0.36636184, 0.37454012, 0.43194502,\n",
       "       0.44015249, 0.45606998, 0.49517691, 0.51423444, 0.52006802,\n",
       "       0.52475643, 0.54671028, 0.59241457, 0.59865848, 0.60111501,\n",
       "       0.60754485, 0.61185289, 0.66252228, 0.68423303, 0.70807258,\n",
       "       0.73199394, 0.78517596, 0.80839735, 0.83244264, 0.86617615,\n",
       "       0.9093204 , 0.94888554, 0.95071431, 0.96563203, 0.96990985])"
      ]
     },
     "execution_count": 4,
     "metadata": {},
     "output_type": "execute_result"
    }
   ],
   "source": [
    "x"
   ]
  },
  {
   "cell_type": "code",
   "execution_count": 5,
   "metadata": {
    "colab": {
     "base_uri": "https://localhost:8080/",
     "height": 483
    },
    "colab_type": "code",
    "id": "a4iCGJG8BURt",
    "outputId": "4194e6b3-c0b6-4a73-d939-3d3cfa0b645b"
   },
   "outputs": [
    {
     "data": {
      "image/png": "[encoded data removed]",
      "text/plain": [
       "<Figure size 432x288 with 1 Axes>"
      ]
     },
     "metadata": {
      "needs_background": "light"
     },
     "output_type": "display_data"
    }
   ],
   "source": [
    "model = LinearModel()\n",
    "y_pred = model(x)\n",
    "plt.plot(x, y_pred, color='r')\n",
    "plt.scatter(x, y_pred, color='r')\n",
    "plt.scatter(x, y);"
   ]
  },
  {
   "cell_type": "markdown",
   "metadata": {
    "colab_type": "text",
    "id": "OfEHyVDQBlgy"
   },
   "source": [
    "## How wrong are we?\n",
    "### This is obviously wrong, but how wrong are we?"
   ]
  },
  {
   "cell_type": "code",
   "execution_count": 6,
   "metadata": {
    "colab": {
     "base_uri": "https://localhost:8080/",
     "height": 34
    },
    "colab_type": "code",
    "id": "wssjxewwBofu",
    "outputId": "df6af185-fe0b-4ce6-ae7d-099e8c15958f"
   },
   "outputs": [
    {
     "data": {
      "text/plain": [
       "27.689078353052434"
      ]
     },
     "execution_count": 6,
     "metadata": {},
     "output_type": "execute_result"
    }
   ],
   "source": [
    "def loss1(y_true, y_pred):\n",
    "  return np.sum(y_true - y_pred)\n",
    "loss1(y, y_pred)"
   ]
  },
  {
   "cell_type": "code",
   "execution_count": 7,
   "metadata": {
    "colab": {
     "base_uri": "https://localhost:8080/",
     "height": 34
    },
    "colab_type": "code",
    "id": "ljcSucGuCL1T",
    "outputId": "8e3396de-f78a-4a13-d55e-30f49245919c"
   },
   "outputs": [
    {
     "data": {
      "text/plain": [
       "27.72629445995496"
      ]
     },
     "execution_count": 7,
     "metadata": {},
     "output_type": "execute_result"
    }
   ],
   "source": [
    "def loss_no_negative(y_true, y_pred):\n",
    "  return np.sum(np.abs(y_true - y_pred))\n",
    "loss_no_negative(y, y_pred)"
   ]
  },
  {
   "cell_type": "code",
   "execution_count": 8,
   "metadata": {
    "colab": {
     "base_uri": "https://localhost:8080/",
     "height": 34
    },
    "colab_type": "code",
    "id": "1yzLG9n6CjIs",
    "outputId": "71abe9de-6211-486d-e5e9-a05738906b5f"
   },
   "outputs": [
    {
     "data": {
      "text/plain": [
       "0.5545258891990992"
      ]
     },
     "execution_count": 8,
     "metadata": {},
     "output_type": "execute_result"
    }
   ],
   "source": [
    "def loss_no_negative_normalize(y_true, y_pred):\n",
    "  return np.sum(np.abs(y_true - y_pred)) / len(y_true)\n",
    "loss_no_negative_normalize(y, y_pred)"
   ]
  },
  {
   "cell_type": "markdown",
   "metadata": {
    "colab_type": "text",
    "id": "-Pq6rCREC3Qr"
   },
   "source": [
    "## Approach: Trying to bring the loss down in loop\n",
    "\n",
    "Parameters to tweak\n",
    "* m for the slope\n",
    "* b for the y-intercept"
   ]
  },
  {
   "cell_type": "markdown",
   "metadata": {
    "colab_type": "text",
    "id": "LrzJzzG1Gh8N"
   },
   "source": [
    "### Let's begin with naive implementation\n",
    "\n",
    "1. if we bring m or b up or down, does this improve the loss?\n",
    "1. if so, do it\n",
    "1. rinse and repeat for a number of times"
   ]
  },
  {
   "cell_type": "code",
   "execution_count": 9,
   "metadata": {
    "colab": {
     "base_uri": "https://localhost:8080/",
     "height": 34
    },
    "colab_type": "code",
    "id": "CZUySXYNScOx",
    "outputId": "813cd085-9127-452f-f511-6283dece5100"
   },
   "outputs": [
    {
     "data": {
      "text/plain": [
       "'slope (m): -0.9400000000000006, y-intercept (b): 0.9600000000000006'"
      ]
     },
     "execution_count": 9,
     "metadata": {},
     "output_type": "execute_result"
    }
   ],
   "source": [
    "model = LinearModel()\n",
    "\n",
    "EPOCHS = 500\n",
    "learning_rate = 0.01\n",
    "\n",
    "losses = []\n",
    "\n",
    "for step in range(EPOCHS):\n",
    "  y_pred = model(x)\n",
    "  \n",
    "  loss = loss_no_negative_normalize(y, y_pred)\n",
    "    \n",
    "  # just for logging\n",
    "  losses.append(loss)\n",
    "  \n",
    "  # let's try m\n",
    "  new_model = LinearModel(m = model.m + learning_rate, b = model.b)\n",
    "  new_y_pred = new_model(x)\n",
    "  new_loss = loss_no_negative_normalize(y, new_y_pred)\n",
    "  \n",
    "  if new_loss < loss:\n",
    "    model.m += learning_rate\n",
    "  else:\n",
    "    model.m -= learning_rate\n",
    "    \n",
    "  # then b\n",
    "  new_model = LinearModel(m = model.m, b = model.b + learning_rate)\n",
    "  new_y_pred = new_model(x)\n",
    "  new_loss = loss_no_negative_normalize(y, new_y_pred)\n",
    "  \n",
    "  if new_loss < loss:\n",
    "    model.b += learning_rate\n",
    "  else:\n",
    "    model.b -= learning_rate\n",
    "\n",
    "\n",
    "\"slope (m): {}, y-intercept (b): {}\".format(model.m, model.b)    "
   ]
  },
  {
   "cell_type": "code",
   "execution_count": 10,
   "metadata": {
    "colab": {
     "base_uri": "https://localhost:8080/",
     "height": 483
    },
    "colab_type": "code",
    "id": "x_3PHObDDiEd",
    "outputId": "62674ebb-2e2e-4f58-86e1-ccbbd55f45bd"
   },
   "outputs": [
    {
     "data": {
      "image/png": "[encoded data removed]",
      "text/plain": [
       "<Figure size 432x288 with 1 Axes>"
      ]
     },
     "metadata": {
      "needs_background": "light"
     },
     "output_type": "display_data"
    }
   ],
   "source": [
    "# plt.yscale('log')\n",
    "plt.plot(losses);"
   ]
  },
  {
   "cell_type": "code",
   "execution_count": 11,
   "metadata": {
    "colab": {
     "base_uri": "https://localhost:8080/",
     "height": 483
    },
    "colab_type": "code",
    "id": "2oP8Ggt_Gvp3",
    "outputId": "c0f3bf34-2981-49cf-ca05-65dbc97d987f"
   },
   "outputs": [
    {
     "data": {
      "image/png": "[encoded data removed]",
      "text/plain": [
       "<Figure size 432x288 with 1 Axes>"
      ]
     },
     "metadata": {
      "needs_background": "light"
     },
     "output_type": "display_data"
    }
   ],
   "source": [
    "y_pred = model(x)\n",
    "plt.plot(x, y_pred, color='r')\n",
    "plt.scatter(x, y_pred, color='r')\n",
    "plt.scatter(x, y);"
   ]
  },
  {
   "cell_type": "markdown",
   "metadata": {
    "colab_type": "text",
    "id": "6Ms_6xMGIQjK"
   },
   "source": [
    "# We already have a working solution"
   ]
  },
  {
   "cell_type": "markdown",
   "metadata": {
    "colab_type": "text",
    "id": "YmGc7CiaIbSg"
   },
   "source": [
    "## But does this scale to an example with many more parameters and more inputs?\n",
    "\n",
    "1. Calculating the output might be expensive\n",
    "2. Trying out all parameters in a random way like we do would have a bad performance for a large problem\n",
    "3. Wouldn't we also need to try them in combination?"
   ]
  },
  {
   "cell_type": "markdown",
   "metadata": {
    "colab_type": "text",
    "id": "R59mTAYHIVTE"
   },
   "source": [
    "# Let's see what we need to change for this to become a state of the art neural network using TensorFlow 2\n",
    "\n",
    "1. Replace our model with a fully connected layer\n",
    "2. Use a standard loss function\n",
    "3. Finding parameters to tune in a more efficient way\n",
    "4. Changing parameters in a more subtle way"
   ]
  },
  {
   "cell_type": "code",
   "execution_count": 12,
   "metadata": {
    "colab": {
     "base_uri": "https://localhost:8080/",
     "height": 51
    },
    "colab_type": "code",
    "id": "5gcdokENxG-s",
    "outputId": "3a74551c-c1e0-4dfe-9836-9f2cd49e91c1"
   },
   "outputs": [
    {
     "data": {
      "text/plain": [
       "'2.0.0'"
      ]
     },
     "execution_count": 12,
     "metadata": {},
     "output_type": "execute_result"
    }
   ],
   "source": [
    "try:\n",
    "  # %tensorflow_version only exists in Colab.\n",
    "  %tensorflow_version 2.x\n",
    "except Exception:\n",
    "  pass\n",
    "\n",
    "import tensorflow as tf\n",
    "tf.__version__"
   ]
  },
  {
   "cell_type": "code",
   "execution_count": 13,
   "metadata": {},
   "outputs": [],
   "source": [
    "tf.random.set_seed(42)"
   ]
  },
  {
   "cell_type": "code",
   "execution_count": 14,
   "metadata": {
    "colab": {
     "base_uri": "https://localhost:8080/",
     "height": 306
    },
    "colab_type": "code",
    "id": "bXKA9dWyYQix",
    "outputId": "81a681b0-2a37-4651-ea74-08af23979fee"
   },
   "outputs": [
    {
     "name": "stdout",
     "output_type": "stream",
     "text": [
      "Wed Jan 22 17:17:37 2020       \n",
      "+-----------------------------------------------------------------------------+\n",
      "| NVIDIA-SMI 431.86       Driver Version: 431.86       CUDA Version: 10.1     |\n",
      "|-------------------------------+----------------------+----------------------+\n",
      "| GPU  Name            TCC/WDDM | Bus-Id        Disp.A | Volatile Uncorr. ECC |\n",
      "| Fan  Temp  Perf  Pwr:Usage/Cap|         Memory-Usage | GPU-Util  Compute M. |\n",
      "|===============================+======================+======================|\n",
      "|   0  GeForce GTX 1060   WDDM  | 00000000:02:00.0 Off |                  N/A |\n",
      "| N/A   30C    P8     5W /  N/A |     90MiB /  6144MiB |      0%      Default |\n",
      "+-------------------------------+----------------------+----------------------+\n",
      "                                                                               \n",
      "+-----------------------------------------------------------------------------+\n",
      "| Processes:                                                       GPU Memory |\n",
      "|  GPU       PID   Type   Process name                             Usage      |\n",
      "|=============================================================================|\n",
      "|  No running processes found                                                 |\n",
      "+-----------------------------------------------------------------------------+\n"
     ]
    }
   ],
   "source": [
    "!nvidia-smi"
   ]
  },
  {
   "cell_type": "markdown",
   "metadata": {
    "colab_type": "text",
    "id": "6HHSUkrxxNy_"
   },
   "source": [
    "## Step one: use a dense layer instead of our simple model\n",
    "* Scales well for as many neurons and inputs as we want\n",
    "* Remember: for now we are assuming a line, but this is a prior that might not be necessary\n",
    "* Efficient implementation on GPUs\n",
    "\n"
   ]
  },
  {
   "cell_type": "markdown",
   "metadata": {
    "colab_type": "text",
    "id": "WKxxou9oirbE"
   },
   "source": [
    "### The Artificial Neuron: Foundation of Deep Neural Networks (simplified, more later)\n",
    "\n",
    "* a neuron takes a number of numerical inputs\n",
    "* multiplies each with a weight, sums up all weighted input and  \n",
    "* adds bias (constant) to that sum\n",
    "* from this it creates a single numerical output\n",
    "* for one input (one dimension) this would be a description of a line\n",
    "* for more dimensions this describes a hyper plane that can serve as a decision boundary\n",
    "* this is typically expressed as a matrix multplication plus an addition\n",
    "\n",
    "\n",
    "<img src='https://djcordhose.github.io/ai/img/insurance/neuron211.jpg'>"
   ]
  },
  {
   "cell_type": "markdown",
   "metadata": {
    "colab_type": "text",
    "id": "O6oo7hM_0pv5"
   },
   "source": [
    "### This can be expressed using a matrix multiplication"
   ]
  },
  {
   "cell_type": "code",
   "execution_count": 15,
   "metadata": {
    "colab": {
     "base_uri": "https://localhost:8080/",
     "height": 68
    },
    "colab_type": "code",
    "id": "7h8MQieO0vay",
    "outputId": "db7b39b8-bcc8-4c16-e9de-0f07daba12f8"
   },
   "outputs": [
    {
     "name": "stdout",
     "output_type": "stream",
     "text": [
      "17.0\n",
      "Wall time: 6.98 ms\n"
     ]
    }
   ],
   "source": [
    "%%time \n",
    "\n",
    "# parameters of the neuron (can be learned), defining the function to apply\n",
    "w = tf.constant([[1.5], [-2], [1]], dtype='float32')\n",
    "b = tf.constant([6], dtype='float32')\n",
    "\n",
    "# variable input being fed through the parameterized neuron\n",
    "example_x = tf.constant([[10, 6, 8]], dtype='float32')\n",
    "\n",
    "# computed output\n",
    "example_y = tf.matmul(example_x, w) + b\n",
    "print(example_y.numpy()[0][0])"
   ]
  },
  {
   "cell_type": "markdown",
   "metadata": {
    "colab_type": "text",
    "id": "IGylP_16koS6"
   },
   "source": [
    "### Defining a dense layer with a random number of neurons and inputs\n",
    "\n",
    "With a little more work this would be a complete implementation of a fully connected layer\n",
    "\n"
   ]
  },
  {
   "cell_type": "code",
   "execution_count": 16,
   "metadata": {
    "colab": {
     "base_uri": "https://localhost:8080/",
     "height": 51
    },
    "colab_type": "code",
    "id": "aMCDcq4JelaE",
    "outputId": "03151de6-5c55-4159-91f4-f086ff82a5cc"
   },
   "outputs": [
    {
     "data": {
      "text/plain": [
       "[<tf.Variable 'weights:0' shape=(1, 1) dtype=float32, numpy=array([[0.654937]], dtype=float32)>,\n",
       " <tf.Variable 'biases:0' shape=(1,) dtype=float32, numpy=array([0.], dtype=float32)>]"
      ]
     },
     "execution_count": 16,
     "metadata": {},
     "output_type": "execute_result"
    }
   ],
   "source": [
    "from tensorflow.keras.layers import Layer\n",
    "\n",
    "# we derive from a TensorFlow Layer\n",
    "class LinearLayer(Layer):\n",
    "  \"\"\"y = w.x + b\"\"\"\n",
    "\n",
    "  # initializing our layer\n",
    "  def __init__(self, units=1, input_dim=1):\n",
    "      super(LinearLayer, self).__init__()\n",
    "      # these are our weights, which can be learned, initialized normally around 0 with stddev of 2\n",
    "      self.w = tf.Variable(\n",
    "          initial_value = tf.random_normal_initializer(stddev=2)(shape=(input_dim, units), dtype='float32'),\n",
    "          trainable=True,\n",
    "          name='weights')\n",
    "      # these are our bisases, also can be learned, initialized as 0\n",
    "      self.b = tf.Variable(\n",
    "          initial_value = tf.zeros_initializer()(shape=(units,), dtype='float32'),\n",
    "          trainable=True,\n",
    "          name='biases')\n",
    "\n",
    "  # what the layer does (some as in our example before)\n",
    "  def call(self, inputs):\n",
    "      return tf.matmul(inputs, self.w) + self.b\n",
    "    \n",
    "# just one neuron and one input (but could be as many as we like)    \n",
    "linear_layer = LinearLayer()\n",
    "linear_layer.trainable_variables"
   ]
  },
  {
   "cell_type": "markdown",
   "metadata": {
    "colab_type": "text",
    "id": "ckzldN7YYqR4"
   },
   "source": [
    "### Same prediction as before, but now on GPU using scalable matrix multiplcation"
   ]
  },
  {
   "cell_type": "code",
   "execution_count": 17,
   "metadata": {
    "colab": {
     "base_uri": "https://localhost:8080/",
     "height": 485
    },
    "colab_type": "code",
    "id": "1aYgn1IHyFlQ",
    "outputId": "4d8d2794-e39a-4248-9d31-325a92b223d1"
   },
   "outputs": [
    {
     "data": {
      "image/png": "[encoded data removed]",
      "text/plain": [
       "<Figure size 432x288 with 1 Axes>"
      ]
     },
     "metadata": {
      "needs_background": "light"
     },
     "output_type": "display_data"
    }
   ],
   "source": [
    "x_tensor = tf.reshape(tf.constant(x, dtype=tf.float32), (n, 1))\n",
    "y_tensor = tf.reshape(tf.constant(y, dtype=tf.float32), (n, 1))\n",
    "\n",
    "y_pred = linear_layer(x_tensor)\n",
    "plt.plot(x, y_pred, color='r')\n",
    "plt.scatter(x, y_pred, color='r')\n",
    "plt.scatter(x, y);"
   ]
  },
  {
   "cell_type": "markdown",
   "metadata": {
    "colab_type": "text",
    "id": "YAMpsRS6ZL_o"
   },
   "source": [
    "### you can see slope and offset are just not right, because they have been initialized randomly\n"
   ]
  },
  {
   "cell_type": "code",
   "execution_count": 18,
   "metadata": {
    "colab": {
     "base_uri": "https://localhost:8080/",
     "height": 34
    },
    "colab_type": "code",
    "id": "JgnuebDDGDMA",
    "outputId": "39378ef4-8862-4bfd-b8a9-9e3804848c60"
   },
   "outputs": [
    {
     "data": {
      "text/plain": [
       "'slope (m): [0.654937], y-intercept (b): 0.0'"
      ]
     },
     "execution_count": 18,
     "metadata": {},
     "output_type": "execute_result"
    }
   ],
   "source": [
    "\"slope (m): {}, y-intercept (b): {}\".format(linear_layer.w.numpy()[0], linear_layer.b.numpy()[0])    "
   ]
  },
  {
   "cell_type": "markdown",
   "metadata": {
    "colab_type": "text",
    "id": "OOnPfr8Z0TMv"
   },
   "source": [
    "## Step two: use standard loss and metric\n",
    "* what we defined is called mean absolute error: mae\n",
    "* mean squared error is more common, it squares the differences and gives high values a larger weight: mse\n",
    "* both are pre-defined efficiently in TensorFlow 2"
   ]
  },
  {
   "cell_type": "markdown",
   "metadata": {
    "colab_type": "text",
    "id": "NXGOjCNr2vQU"
   },
   "source": [
    "### Mean Absolute Error\n",
    "\n",
    "what we had before implemented more efficiently"
   ]
  },
  {
   "cell_type": "code",
   "execution_count": 19,
   "metadata": {
    "colab": {
     "base_uri": "https://localhost:8080/",
     "height": 34
    },
    "colab_type": "code",
    "id": "v0oTMNID2kJ8",
    "outputId": "721ee4b8-a8fa-4ae9-e2fd-a30ccdef1b86"
   },
   "outputs": [
    {
     "data": {
      "text/plain": [
       "0.47336397"
      ]
     },
     "execution_count": 19,
     "metadata": {},
     "output_type": "execute_result"
    }
   ],
   "source": [
    "tf.losses.mean_absolute_error(y_true=tf.squeeze(y), y_pred=tf.squeeze(y_pred)).numpy()"
   ]
  },
  {
   "cell_type": "markdown",
   "metadata": {
    "colab_type": "text",
    "id": "9Ktk750l2GrJ"
   },
   "source": [
    "### Mean Squared Error\n",
    "\n",
    "emphasizes larger errors\n",
    "\n",
    "$MSE = {\\frac {1}{n}}\\sum _{i=1}^{n}(Y_{i}-{\\hat {Y_{i}}})^{2}$\n",
    "\n",
    "\n",
    "https://en.wikipedia.org/wiki/Mean_squared_error\n"
   ]
  },
  {
   "cell_type": "code",
   "execution_count": 20,
   "metadata": {
    "colab": {
     "base_uri": "https://localhost:8080/",
     "height": 34
    },
    "colab_type": "code",
    "id": "wdqgj24ZF5xf",
    "outputId": "2a93366c-9713-4502-8062-ef259a3b3ce2"
   },
   "outputs": [
    {
     "data": {
      "text/plain": [
       "0.29605633"
      ]
     },
     "execution_count": 20,
     "metadata": {},
     "output_type": "execute_result"
    }
   ],
   "source": [
    "tf.losses.mean_squared_error(y_true=tf.squeeze(y), y_pred=tf.squeeze(y_pred)).numpy()"
   ]
  },
  {
   "cell_type": "markdown",
   "metadata": {
    "colab_type": "text",
    "id": "nfg7K1Hx204z"
   },
   "source": [
    "### R2 Metric: MSE and MAE are not speaking\n",
    "\n",
    "* Loss functions need to be differentiable (you will see later why)\n",
    "* This often restricts how speaking they are in terms of business value\n",
    "* Metrics do not have that resriction, but take the same parameters\n",
    "* R^2 score, the closer to 1 the better\n",
    "* loosely speaking: how much better is this than predicting the constant mean\n",
    "* 0 would mean just as good\n",
    "* 1 is perfect\n",
    "* neg. would mean even worse\n",
    "* it can become arbitrarily worse\n",
    "\n",
    "https://en.wikipedia.org/wiki/Coefficient_of_determination\n"
   ]
  },
  {
   "cell_type": "code",
   "execution_count": 21,
   "metadata": {
    "colab": {},
    "colab_type": "code",
    "id": "AavxSDrH2Xj6"
   },
   "outputs": [],
   "source": [
    "# https://keras.io/metrics/#custom-metrics\n",
    "# https://www.tensorflow.org/tutorials/customization/performance\n",
    "  \n",
    "# ported to TF 2 from \n",
    "# * https://stackoverflow.com/a/42351397/1756489 and\n",
    "# * https://www.kaggle.com/c/mercedes-benz-greener-manufacturing/discussion/34019 (for use of epsilon to avoid strange inf or -inf)\n",
    "\n",
    "# only works properly on tensors\n",
    "\n",
    "@tf.function\n",
    "def r2_metric(y_true, y_pred):\n",
    "  total_error = tf.reduce_sum(tf.square(tf.subtract(y_true, tf.reduce_mean(y_true))))\n",
    "  unexplained_error = tf.reduce_sum(tf.square(tf.subtract(y_true, y_pred)))\n",
    "  R_squared = tf.subtract(1.0, tf.divide(unexplained_error, tf.add(total_error, tf.keras.backend.epsilon())))\n",
    "  \n",
    "  return R_squared"
   ]
  },
  {
   "cell_type": "code",
   "execution_count": 22,
   "metadata": {
    "colab": {
     "base_uri": "https://localhost:8080/",
     "height": 34
    },
    "colab_type": "code",
    "id": "D9YUrDR63DA9",
    "outputId": "47cba58f-69f7-4d4e-c507-355c677c173d"
   },
   "outputs": [
    {
     "data": {
      "text/plain": [
       "-2.3947566"
      ]
     },
     "execution_count": 22,
     "metadata": {},
     "output_type": "execute_result"
    }
   ],
   "source": [
    "r2_metric(y_true=tf.squeeze(y_tensor), y_pred=tf.squeeze(y_pred)).numpy()"
   ]
  },
  {
   "cell_type": "markdown",
   "metadata": {
    "colab_type": "text",
    "id": "Myjb5duB7Rfi"
   },
   "source": [
    "## Step three: Finding parameters to tune"
   ]
  },
  {
   "cell_type": "markdown",
   "metadata": {
    "colab_type": "text",
    "id": "wOpI5DdvLqoq"
   },
   "source": [
    "## Backpropagation algorithm"
   ]
  },
  {
   "cell_type": "markdown",
   "metadata": {
    "colab_type": "text",
    "id": "NLXsxuqkB-BN"
   },
   "source": [
    "\n",
    "### The core of how a neural network learns\n",
    "\n",
    "_In a nutshell:_\n",
    "1. Predict: Let the network make a prediction \n",
    "1. Calculate the loss: how accurate was the predition\n",
    "1. Record a function of how the trainable parameters affect the loss \n",
    "1. partial derivations: find out in which direction to change all parameters to bring down the loss\n",
    "1. Optimizer: Make changes to parameters based on learning rate and other parameters\n"
   ]
  },
  {
   "cell_type": "markdown",
   "metadata": {
    "colab_type": "text",
    "id": "QzcQowwMsZqg"
   },
   "source": [
    "### Loss depends on the trainable variables, in our case two parameters: weight and bias\n",
    "\n",
    "This is how the loss function might change depending on those variables\n",
    "\n",
    "<img src='https://djcordhose.github.io/ai/img/gradients.jpg'>\n",
    "\n",
    "https://twitter.com/colindcarroll/status/1090266016259534848"
   ]
  },
  {
   "cell_type": "code",
   "execution_count": 23,
   "metadata": {
    "colab": {
     "base_uri": "https://localhost:8080/",
     "height": 51
    },
    "colab_type": "code",
    "id": "7jkpKqcoB1ma",
    "outputId": "a9e140bc-eb48-4aa5-970b-4f508aeea53f"
   },
   "outputs": [
    {
     "data": {
      "text/plain": [
       "[<tf.Variable 'weights:0' shape=(1, 1) dtype=float32, numpy=array([[0.654937]], dtype=float32)>,\n",
       " <tf.Variable 'biases:0' shape=(1,) dtype=float32, numpy=array([0.], dtype=float32)>]"
      ]
     },
     "execution_count": 23,
     "metadata": {},
     "output_type": "execute_result"
    }
   ],
   "source": [
    "linear_layer.trainable_variables"
   ]
  },
  {
   "cell_type": "markdown",
   "metadata": {
    "colab_type": "text",
    "id": "xukGkwFTET56"
   },
   "source": [
    "### For this we need partial derivations\n",
    "\n",
    "TensorFlow offers automatic differentiation: https://www.tensorflow.org/versions/r2.0/api_docs/python/tf/GradientTape\n",
    "\n",
    "* tape will record operations for automatic differentiation\n",
    "* either by making it record explicily (watch) or \n",
    "* by declaring a varible to be trainable (which we did in the layer above) \n",
    "\n"
   ]
  },
  {
   "cell_type": "code",
   "execution_count": 24,
   "metadata": {
    "colab": {},
    "colab_type": "code",
    "id": "ODYIJbadLtkr"
   },
   "outputs": [],
   "source": [
    "from tensorflow import GradientTape \n",
    "# GradientTape?"
   ]
  },
  {
   "cell_type": "code",
   "execution_count": 25,
   "metadata": {
    "colab": {
     "base_uri": "https://localhost:8080/",
     "height": 51
    },
    "colab_type": "code",
    "id": "6HZyUhPIKJC1",
    "outputId": "1fb5c445-4ed2-4875-a981-34ea8558257b"
   },
   "outputs": [
    {
     "name": "stdout",
     "output_type": "stream",
     "text": [
      "x: 3.0, y:9.0\n",
      "dy/dx: 6.0\n"
     ]
    }
   ],
   "source": [
    "def tape_sample():\n",
    "  x = tf.Variable(3.0)\n",
    "  with tf.GradientTape() as tape:\n",
    "    y = x * x\n",
    "  print(\"x: {}, y:{}\".format(x.numpy(), y.numpy()))\n",
    "  # how is y dependending on x\n",
    "  dy_dx = tape.gradient(y, x)\n",
    "  print(\"dy/dx: {}\".format(dy_dx.numpy()))\n",
    "  \n",
    "# just a function in order not to interfere with x on the global scope  \n",
    "tape_sample()"
   ]
  },
  {
   "cell_type": "markdown",
   "metadata": {
    "colab_type": "text",
    "id": "WTA2O9pCMGSS"
   },
   "source": [
    "# Hands-On II: create your own example\n",
    "\n",
    "* Run all cells up to this point (Runtime->Run Before)\n",
    "* first understand the example above: do the values make sense to you?\n",
    "* change the value for x\n",
    "* create your own function from x to y\n",
    "* add another variable y depdends on\n",
    "* if you want to use typical math functions (like sin or cos), you need to use `tf` as prefix"
   ]
  },
  {
   "cell_type": "markdown",
   "metadata": {
    "colab_type": "text",
    "id": "7VAYWyOtyOYm"
   },
   "source": [
    "### TensorFlow automatic differentiation can handle all kinds of differential functions\n",
    "\n",
    "_when you use mathematic functions, you need to use the tensorflow version_\n"
   ]
  },
  {
   "cell_type": "code",
   "execution_count": 26,
   "metadata": {
    "colab": {
     "base_uri": "https://localhost:8080/",
     "height": 51
    },
    "colab_type": "code",
    "id": "8RxUcXQUWPQ1",
    "outputId": "022c7258-4853-4d8b-ce65-6b6b75044827"
   },
   "outputs": [
    {
     "name": "stdout",
     "output_type": "stream",
     "text": [
      "x: 3.1415927410125732, y:-8.742277657347586e-08\n",
      "dy/dx: -1.0\n"
     ]
    }
   ],
   "source": [
    "import math\n",
    "\n",
    "def tape_sample():\n",
    "  x = tf.Variable(math.pi)\n",
    "  with tf.GradientTape() as tape:\n",
    "#     y = math.sin(x)\n",
    "    y = tf.sin(x) # when you use mathematic functions, you need to use the tensorflow version\n",
    "  print(\"x: {}, y:{}\".format(x.numpy(), y.numpy()))\n",
    "  # how is y dependending on x\n",
    "  dy_dx = tape.gradient(y, x)\n",
    "  print(\"dy/dx: {}\".format(dy_dx.numpy()))\n",
    "  \n",
    "# just a function in order not to interfere with x on the global scope  \n",
    "tape_sample()"
   ]
  },
  {
   "cell_type": "markdown",
   "metadata": {
    "colab_type": "text",
    "id": "ItAInAhF1si-"
   },
   "source": [
    "### Losses must not rely on anything that is not differentiable or gives mostly zero or infinite gradients\n",
    "\n",
    "http://math.mit.edu/classes/18.013A/HTML/chapter06/section03.html"
   ]
  },
  {
   "cell_type": "code",
   "execution_count": 27,
   "metadata": {
    "colab": {
     "base_uri": "https://localhost:8080/",
     "height": 51
    },
    "colab_type": "code",
    "id": "kL4RTTm3yZei",
    "outputId": "643827b3-b1da-4900-eca5-a13aebc7b904"
   },
   "outputs": [
    {
     "name": "stdout",
     "output_type": "stream",
     "text": [
      "x: 0.0, y:inf\n",
      "dy/dx: -inf\n"
     ]
    }
   ],
   "source": [
    "def tape_sample():\n",
    "  x = tf.Variable(0.0)\n",
    "  with tf.GradientTape() as tape:\n",
    "    y = 1 / x\n",
    "#     y = 1 / x * x\n",
    "  print(\"x: {}, y:{}\".format(x.numpy(), y.numpy()))\n",
    "  # how is y dependending on x\n",
    "  dy_dx = tape.gradient(y, x)\n",
    "  print(\"dy/dx: {}\".format(dy_dx.numpy()))\n",
    "  \n",
    "# just a function in order not to interfere with x on the global scope  \n",
    "tape_sample()"
   ]
  },
  {
   "cell_type": "markdown",
   "metadata": {
    "colab_type": "text",
    "id": "IhN9Ced-77fM"
   },
   "source": [
    "## Intermediate solution: applying all this to our training loop"
   ]
  },
  {
   "cell_type": "code",
   "execution_count": 28,
   "metadata": {
    "colab": {},
    "colab_type": "code",
    "id": "wUCDpfRE7_5o"
   },
   "outputs": [],
   "source": [
    "linear_layer = LinearLayer()\n",
    "\n",
    "EPOCHS = 1500\n",
    "learning_rate = 0.01\n",
    "\n",
    "losses = []\n",
    "r2s = []\n",
    "\n",
    "for step in range(EPOCHS):\n",
    "  with tf.GradientTape() as tape:\n",
    "\n",
    "    # forward pass, all data\n",
    "    # often we do not use all data to calculate the loss, but only a certain fraction, called the batch\n",
    "    # you could also push data through one by one, being an extreme version of a batched approached\n",
    "    # in our case we use all the data we have and calculate the combined error\n",
    "    y_pred = linear_layer(x_tensor)\n",
    "\n",
    "    # loss for this batch\n",
    "    loss = tf.losses.mean_squared_error(y_true=tf.squeeze(y_tensor), y_pred=tf.squeeze(y_pred))\n",
    "    \n",
    "  # just for logging\n",
    "  losses.append(loss)\n",
    "  \n",
    "  # metrics\n",
    "  r2s.append(r2_metric(y_true=tf.squeeze(y_tensor), y_pred=tf.squeeze(y_pred)))\n",
    "\n",
    "  # get gradients of weights wrt the loss\n",
    "  (dw, db) = tape.gradient(loss, linear_layer.trainable_weights)\n",
    "  \n",
    "  # optimizer: backward pass, changing trainable weights in the direction of the mimimum\n",
    "  linear_layer.w.assign_sub(learning_rate * dw)\n",
    "  linear_layer.b.assign_sub(learning_rate * db)"
   ]
  },
  {
   "cell_type": "code",
   "execution_count": 29,
   "metadata": {
    "colab": {
     "base_uri": "https://localhost:8080/",
     "height": 531
    },
    "colab_type": "code",
    "id": "CtnO71lW8Lda",
    "outputId": "a7acedf0-4694-40c5-ea67-13c9b83a38aa"
   },
   "outputs": [
    {
     "data": {
      "image/png": "[encoded data removed]",
      "text/plain": [
       "<Figure size 432x288 with 1 Axes>"
      ]
     },
     "metadata": {
      "needs_background": "light"
     },
     "output_type": "display_data"
    }
   ],
   "source": [
    "plt.xlabel('epochs')\n",
    "plt.ylabel('loss')\n",
    "plt.title('loss over epochs (what we use for training)')\n",
    "\n",
    "# plt.yscale('log')\n",
    "\n",
    "plt.plot(losses);"
   ]
  },
  {
   "cell_type": "code",
   "execution_count": 30,
   "metadata": {
    "colab": {
     "base_uri": "https://localhost:8080/",
     "height": 531
    },
    "colab_type": "code",
    "id": "T0TQi-xj4Cca",
    "outputId": "7e24b94d-7fe9-4f8b-fd2d-687d5a91f39b"
   },
   "outputs": [
    {
     "data": {
      "image/png": "[encoded data removed]",
      "text/plain": [
       "<Figure size 432x288 with 1 Axes>"
      ]
     },
     "metadata": {
      "needs_background": "light"
     },
     "output_type": "display_data"
    }
   ],
   "source": [
    "plt.xlabel('epochs')\n",
    "plt.ylabel('R2')\n",
    "plt.title('R2 over epochs (what we are really interested in)')\n",
    "\n",
    "plt.plot(r2s);"
   ]
  },
  {
   "cell_type": "code",
   "execution_count": 31,
   "metadata": {
    "colab": {
     "base_uri": "https://localhost:8080/",
     "height": 483
    },
    "colab_type": "code",
    "id": "UYg_2zkq8VJT",
    "outputId": "7b1fa9e9-c24e-4384-ff8a-278187324f88"
   },
   "outputs": [
    {
     "data": {
      "image/png": "[encoded data removed]",
      "text/plain": [
       "<Figure size 432x288 with 1 Axes>"
      ]
     },
     "metadata": {
      "needs_background": "light"
     },
     "output_type": "display_data"
    }
   ],
   "source": [
    "y_pred = linear_layer(x_tensor)\n",
    "plt.plot(x, y_pred, color='r')\n",
    "plt.scatter(x, y_pred, color='r')\n",
    "plt.scatter(x, y);"
   ]
  },
  {
   "cell_type": "markdown",
   "metadata": {
    "colab_type": "text",
    "id": "N7UPe4pP8vkW"
   },
   "source": [
    "## Final step: Changing parameters"
   ]
  },
  {
   "cell_type": "markdown",
   "metadata": {
    "colab_type": "text",
    "id": "vbOJfrtgDQiM"
   },
   "source": [
    "## Prebuilt Optimizers do this job (but a bit more efficient and sohpisticated)\n",
    "\n",
    "* http://cs231n.github.io/optimization-1/\n",
    "* http://cs231n.github.io/neural-networks-3/#update\n",
    "* How they sound: http://blog.christianperone.com/2019/08/listening-to-the-neural-network-gradient-norms-during-training/"
   ]
  },
  {
   "cell_type": "code",
   "execution_count": 32,
   "metadata": {
    "colab": {},
    "colab_type": "code",
    "id": "eD2YbeHdDM9y"
   },
   "outputs": [],
   "source": [
    "optimizer = tf.keras.optimizers.SGD(learning_rate=1e-2)"
   ]
  },
  {
   "cell_type": "code",
   "execution_count": 33,
   "metadata": {
    "colab": {},
    "colab_type": "code",
    "id": "cEuzqGgktmut"
   },
   "outputs": [],
   "source": [
    "EPOCHS = 1500\n",
    "\n",
    "losses = []\n",
    "r2s = []\n",
    "\n",
    "linear_layer = LinearLayer()\n",
    "\n",
    "for step in range(EPOCHS):\n",
    "  with tf.GradientTape() as tape:\n",
    "\n",
    "    # forward pass, all data\n",
    "    y_pred = linear_layer(x_tensor)\n",
    "\n",
    "    # loss for this batch\n",
    "    loss = tf.losses.mean_squared_error(y_true=tf.squeeze(y_tensor), y_pred=tf.squeeze(y_pred))\n",
    "    \n",
    "  # just for logging\n",
    "  losses.append(loss)\n",
    "  \n",
    "  # metrics\n",
    "  r2s.append(r2_metric(y_true=tf.squeeze(y_tensor), y_pred=tf.squeeze(y_pred)))\n",
    "\n",
    "  # Get gradients of weights wrt the loss.\n",
    "  gradients = tape.gradient(loss, linear_layer.trainable_weights)\n",
    "  \n",
    "  # Update the weights of our linear layer.\n",
    "  optimizer.apply_gradients(zip(gradients, linear_layer.trainable_weights))"
   ]
  },
  {
   "cell_type": "code",
   "execution_count": 34,
   "metadata": {
    "colab": {
     "base_uri": "https://localhost:8080/",
     "height": 531
    },
    "colab_type": "code",
    "id": "cqA4saqR0kbq",
    "outputId": "0025e1e3-6d82-49de-e3a7-c5b813ae2301"
   },
   "outputs": [
    {
     "data": {
      "image/png": "[encoded data removed]",
      "text/plain": [
       "<Figure size 432x288 with 1 Axes>"
      ]
     },
     "metadata": {
      "needs_background": "light"
     },
     "output_type": "display_data"
    }
   ],
   "source": [
    "# plt.yscale('log')\n",
    "plt.ylabel(\"loss\")\n",
    "plt.xlabel(\"epochs\")\n",
    "plt.title('loss')\n",
    "\n",
    "plt.plot(losses);"
   ]
  },
  {
   "cell_type": "code",
   "execution_count": 35,
   "metadata": {
    "colab": {
     "base_uri": "https://localhost:8080/",
     "height": 531
    },
    "colab_type": "code",
    "id": "mmaqMSUI4y0r",
    "outputId": "9fd65ca7-eeea-4915-8ca8-06fcb13361b5"
   },
   "outputs": [
    {
     "data": {
      "image/png": "[encoded data removed]",
      "text/plain": [
       "<Figure size 432x288 with 1 Axes>"
      ]
     },
     "metadata": {
      "needs_background": "light"
     },
     "output_type": "display_data"
    }
   ],
   "source": [
    "plt.xlabel('epochs')\n",
    "plt.ylabel('R2')\n",
    "plt.title('R2')\n",
    "\n",
    "plt.plot(r2s);"
   ]
  },
  {
   "cell_type": "code",
   "execution_count": 36,
   "metadata": {
    "colab": {
     "base_uri": "https://localhost:8080/",
     "height": 483
    },
    "colab_type": "code",
    "id": "uAQ-LCTW2KkH",
    "outputId": "b4e317dc-cca7-45e7-9c0b-1f3ae50b9330"
   },
   "outputs": [
    {
     "data": {
      "image/png": "[encoded data removed]",
      "text/plain": [
       "<Figure size 432x288 with 1 Axes>"
      ]
     },
     "metadata": {
      "needs_background": "light"
     },
     "output_type": "display_data"
    }
   ],
   "source": [
    "y_pred = linear_layer(x_tensor)\n",
    "plt.plot(x, y_pred, color='r')\n",
    "plt.scatter(x, y_pred, color='r')\n",
    "plt.scatter(x, y);"
   ]
  },
  {
   "cell_type": "markdown",
   "metadata": {
    "colab_type": "text",
    "id": "jZzGU633WNvt"
   },
   "source": [
    "## The same solution using high level Keas API"
   ]
  },
  {
   "cell_type": "code",
   "execution_count": 37,
   "metadata": {
    "colab": {
     "base_uri": "https://localhost:8080/",
     "height": 187
    },
    "colab_type": "code",
    "id": "STfOU_LmVAnj",
    "outputId": "33dbf653-e46a-4c07-8ccf-4fa39a080cdb"
   },
   "outputs": [
    {
     "name": "stdout",
     "output_type": "stream",
     "text": [
      "Model: \"sequential\"\n",
      "_________________________________________________________________\n",
      "Layer (type)                 Output Shape              Param #   \n",
      "=================================================================\n",
      "dense (Dense)                (None, 1)                 2         \n",
      "=================================================================\n",
      "Total params: 2\n",
      "Trainable params: 2\n",
      "Non-trainable params: 0\n",
      "_________________________________________________________________\n"
     ]
    }
   ],
   "source": [
    "from tensorflow.keras.layers import Dense\n",
    " \n",
    "model = tf.keras.Sequential([\n",
    "  Dense(units=1, input_dim=1)                   \n",
    "])\n",
    "model.summary()"
   ]
  },
  {
   "cell_type": "code",
   "execution_count": 38,
   "metadata": {
    "colab": {
     "base_uri": "https://localhost:8080/",
     "height": 51
    },
    "colab_type": "code",
    "id": "_Vffpso6WpgK",
    "outputId": "d8934c91-d5fe-4182-873f-e158a2250740"
   },
   "outputs": [
    {
     "name": "stdout",
     "output_type": "stream",
     "text": [
      "Wall time: 3.1 s\n"
     ]
    }
   ],
   "source": [
    "%%time \n",
    "\n",
    "model.compile(loss=tf.losses.mean_squared_error, # mean squared error, unchanged from low level example\n",
    "             optimizer=tf.keras.optimizers.SGD(learning_rate=1e-2), # SGD, unchanged from low level example\n",
    "             metrics=[r2_metric]) # we can track the r2 metric over time\n",
    "\n",
    "# does a similar thing internally as our loop from above\n",
    "history = model.fit(x, y, epochs=1000, verbose=0)"
   ]
  },
  {
   "cell_type": "code",
   "execution_count": 39,
   "metadata": {
    "colab": {
     "base_uri": "https://localhost:8080/",
     "height": 34
    },
    "colab_type": "code",
    "id": "NfKDwhCiWkRI",
    "outputId": "a9aca282-abd5-4431-caea-4fcaee027a60"
   },
   "outputs": [
    {
     "data": {
      "text/plain": [
       "(0.009530886560678482, 0.6074159)"
      ]
     },
     "execution_count": 39,
     "metadata": {},
     "output_type": "execute_result"
    }
   ],
   "source": [
    "loss, r2 = model.evaluate(x, y, verbose=0)\n",
    "loss, r2"
   ]
  },
  {
   "cell_type": "code",
   "execution_count": 40,
   "metadata": {
    "colab": {
     "base_uri": "https://localhost:8080/",
     "height": 531
    },
    "colab_type": "code",
    "id": "O61MfB85aMT6",
    "outputId": "484b463c-2d6f-4344-f02a-e18e74270e12"
   },
   "outputs": [
    {
     "data": {
      "image/png": "[encoded data removed]",
      "text/plain": [
       "<Figure size 432x288 with 1 Axes>"
      ]
     },
     "metadata": {
      "needs_background": "light"
     },
     "output_type": "display_data"
    }
   ],
   "source": [
    "# plt.yscale('log')\n",
    "plt.ylabel(\"loss\")\n",
    "plt.xlabel(\"epochs\")\n",
    "plt.title('Loss over Epochs')\n",
    "\n",
    "plt.plot(history.history['loss']);"
   ]
  },
  {
   "cell_type": "code",
   "execution_count": 41,
   "metadata": {
    "colab": {
     "base_uri": "https://localhost:8080/",
     "height": 531
    },
    "colab_type": "code",
    "id": "N2U7B9ZEaKAz",
    "outputId": "7e1f139f-fc36-4363-9b1a-52c600b253d6"
   },
   "outputs": [
    {
     "data": {
      "image/png": "[encoded data removed]",
      "text/plain": [
       "<Figure size 432x288 with 1 Axes>"
      ]
     },
     "metadata": {
      "needs_background": "light"
     },
     "output_type": "display_data"
    }
   ],
   "source": [
    "plt.ylabel(\"r2\")\n",
    "plt.xlabel(\"epochs\")\n",
    "plt.title('R^2 over Epochs')\n",
    "# plt.yscale('log')\n",
    "\n",
    "plt.plot(history.history['r2_metric']);"
   ]
  },
  {
   "cell_type": "code",
   "execution_count": 42,
   "metadata": {
    "colab": {
     "base_uri": "https://localhost:8080/",
     "height": 483
    },
    "colab_type": "code",
    "id": "GbKB2pRfWl6E",
    "outputId": "c4e0414c-ec01-4b7f-8661-ea1e36c3320d"
   },
   "outputs": [
    {
     "data": {
      "image/png": "[encoded data removed]",
      "text/plain": [
       "<Figure size 432x288 with 1 Axes>"
      ]
     },
     "metadata": {
      "needs_background": "light"
     },
     "output_type": "display_data"
    }
   ],
   "source": [
    "y_pred = model.predict(x)\n",
    "plt.plot(x, y_pred, color='red')\n",
    "plt.scatter(x, y_pred, color='red')\n",
    "plt.scatter(x, y);"
   ]
  },
  {
   "cell_type": "markdown",
   "metadata": {
    "colab_type": "text",
    "id": "w_Zspns8WpkH"
   },
   "source": [
    "## Neural Networks with 2-3 Layers can learn to approximate any function\n",
    "* no additional prior required\n",
    "* theoretically only one layer is enough, but this will not always train"
   ]
  },
  {
   "cell_type": "code",
   "execution_count": 43,
   "metadata": {
    "colab": {
     "base_uri": "https://localhost:8080/",
     "height": 323
    },
    "colab_type": "code",
    "id": "qy3eBt155aER",
    "outputId": "f46ef4b1-5aea-470f-aa75-304bd35604bc"
   },
   "outputs": [
    {
     "name": "stdout",
     "output_type": "stream",
     "text": [
      "Model: \"sequential_1\"\n",
      "_________________________________________________________________\n",
      "Layer (type)                 Output Shape              Param #   \n",
      "=================================================================\n",
      "dense_1 (Dense)              (None, 100)               200       \n",
      "_________________________________________________________________\n",
      "dense_2 (Dense)              (None, 100)               10100     \n",
      "_________________________________________________________________\n",
      "dense_3 (Dense)              (None, 100)               10100     \n",
      "_________________________________________________________________\n",
      "dense_4 (Dense)              (None, 1)                 101       \n",
      "=================================================================\n",
      "Total params: 20,501\n",
      "Trainable params: 20,501\n",
      "Non-trainable params: 0\n",
      "_________________________________________________________________\n",
      "Wall time: 4.48 s\n"
     ]
    }
   ],
   "source": [
    "%%time \n",
    " \n",
    "model = tf.keras.Sequential([\n",
    "  Dense(units=100, activation='relu', input_dim=1),                   \n",
    "  Dense(units=100, activation='relu'),\n",
    "  Dense(units=100, activation='relu'),                   \n",
    "  Dense(units=1, activation='linear')                   \n",
    "])\n",
    "model.summary()\n",
    "\n",
    "model.compile(loss=tf.losses.mean_squared_error, # mean squared error, unchanged from low level example\n",
    "             optimizer=tf.keras.optimizers.Adam(), # Adam is a bit more powerful, but this could also be SGD\n",
    "             metrics=[r2_metric]) # we can track the r2 metric over time\n",
    "\n",
    "# does a similar thing internally as our loop from above\n",
    "history = model.fit(x, y, epochs=1000, verbose=0)"
   ]
  },
  {
   "cell_type": "code",
   "execution_count": 44,
   "metadata": {},
   "outputs": [
    {
     "data": {
      "text/plain": [
       "(0.007291525825858116, 0.69559413)"
      ]
     },
     "execution_count": 44,
     "metadata": {},
     "output_type": "execute_result"
    }
   ],
   "source": [
    "loss, r2 = model.evaluate(x, y, verbose=0)\n",
    "loss, r2"
   ]
  },
  {
   "cell_type": "code",
   "execution_count": 45,
   "metadata": {
    "colab": {
     "base_uri": "https://localhost:8080/",
     "height": 531
    },
    "colab_type": "code",
    "id": "y6rFy1Z55h1K",
    "outputId": "52f7a163-c75c-4bfc-854f-96b97945f33c"
   },
   "outputs": [
    {
     "data": {
      "image/png": "[encoded data removed]",
      "text/plain": [
       "<Figure size 432x288 with 1 Axes>"
      ]
     },
     "metadata": {
      "needs_background": "light"
     },
     "output_type": "display_data"
    }
   ],
   "source": [
    "plt.yscale('log')\n",
    "plt.ylabel(\"loss\")\n",
    "plt.xlabel(\"epochs\")\n",
    "plt.title('Loss over Epochs (log scale)')\n",
    "\n",
    "plt.plot(history.history['loss']);"
   ]
  },
  {
   "cell_type": "code",
   "execution_count": 46,
   "metadata": {
    "colab": {
     "base_uri": "https://localhost:8080/",
     "height": 531
    },
    "colab_type": "code",
    "id": "BkYtRX9Y5xR1",
    "outputId": "3c0e8beb-6505-473f-c06e-280dca6eea17"
   },
   "outputs": [
    {
     "data": {
      "image/png": "[encoded data removed]",
      "text/plain": [
       "<Figure size 432x288 with 1 Axes>"
      ]
     },
     "metadata": {
      "needs_background": "light"
     },
     "output_type": "display_data"
    }
   ],
   "source": [
    "plt.ylabel(\"r2\")\n",
    "plt.xlabel(\"epochs\")\n",
    "plt.title('R^2 over Epochs')\n",
    "# plt.yscale('log')\n",
    "\n",
    "plt.plot(history.history['r2_metric']);"
   ]
  },
  {
   "cell_type": "code",
   "execution_count": 47,
   "metadata": {
    "colab": {
     "base_uri": "https://localhost:8080/",
     "height": 483
    },
    "colab_type": "code",
    "id": "guh5C_zc51W5",
    "outputId": "eb6f21a7-8504-479e-c2d9-5912451f5294"
   },
   "outputs": [
    {
     "data": {
      "image/png": "[encoded data removed]",
      "text/plain": [
       "<Figure size 432x288 with 1 Axes>"
      ]
     },
     "metadata": {
      "needs_background": "light"
     },
     "output_type": "display_data"
    }
   ],
   "source": [
    "y_pred = model.predict(x)\n",
    "plt.scatter(x, y_pred, color='red')\n",
    "plt.scatter(x, y);"
   ]
  },
  {
   "cell_type": "markdown",
   "metadata": {
    "colab_type": "text",
    "id": "JwnlyWszSqeN"
   },
   "source": [
    "# Hands-On III: Make experiments with network architecture\n",
    "\n",
    "* run the cells above and train our model\n",
    "* can you get better by making the network more complex?\n",
    "* how would you know? how is the loss and metric changing?\n",
    "* do you think the number of epochs is chosen wisely? adjust accordingly\n",
    "\n",
    "_advanced_\n",
    "* execute the section below\n",
    "* create another complex function and make sure the network can approximate it"
   ]
  },
  {
   "cell_type": "markdown",
   "metadata": {
    "colab_type": "text",
    "id": "slKIQz8n5lEC"
   },
   "source": [
    "## Second, non-linear example"
   ]
  },
  {
   "cell_type": "code",
   "execution_count": 48,
   "metadata": {
    "colab": {
     "base_uri": "https://localhost:8080/",
     "height": 531
    },
    "colab_type": "code",
    "id": "7z6GKL3SWpkI",
    "outputId": "b9dd2843-962b-480d-aa42-78e69775bf3b"
   },
   "outputs": [
    {
     "data": {
      "image/png": "[encoded data removed]",
      "text/plain": [
       "<Figure size 432x288 with 1 Axes>"
      ]
     },
     "metadata": {
      "needs_background": "light"
     },
     "output_type": "display_data"
    }
   ],
   "source": [
    "#@title A noisy sine curve { run: \"auto\", display-mode: \"form\" }\n",
    "\n",
    "n = 50 #@param {type:\"slider\", min:10, max:500, step:1}\n",
    "noise_level = 0.1 #@param {type:\"slider\", min:0.1, max:1.0, step:0.1}\n",
    "scale = 10 #@param {type:\"slider\", min:1, max:100, step:1}\n",
    "\n",
    "import numpy as np\n",
    "\n",
    "x = np.random.uniform(0, 1, n)\n",
    "y = np.sin(x*scale) + np.random.normal(0, noise_level, n)\n",
    "\n",
    "plt.xlabel('x')\n",
    "plt.ylabel('y')\n",
    "plt.title('Sinus')\n",
    "\n",
    "plt.scatter(x, y);"
   ]
  },
  {
   "cell_type": "code",
   "execution_count": 49,
   "metadata": {
    "colab": {
     "base_uri": "https://localhost:8080/",
     "height": 323
    },
    "colab_type": "code",
    "id": "dRqhwZt3WpkJ",
    "outputId": "b8c5299a-718e-400f-d57c-329f7b6feeb0"
   },
   "outputs": [
    {
     "name": "stdout",
     "output_type": "stream",
     "text": [
      "Model: \"sequential_2\"\n",
      "_________________________________________________________________\n",
      "Layer (type)                 Output Shape              Param #   \n",
      "=================================================================\n",
      "dense_5 (Dense)              (None, 100)               200       \n",
      "_________________________________________________________________\n",
      "dense_6 (Dense)              (None, 100)               10100     \n",
      "_________________________________________________________________\n",
      "dense_7 (Dense)              (None, 100)               10100     \n",
      "_________________________________________________________________\n",
      "dense_8 (Dense)              (None, 1)                 101       \n",
      "=================================================================\n",
      "Total params: 20,501\n",
      "Trainable params: 20,501\n",
      "Non-trainable params: 0\n",
      "_________________________________________________________________\n",
      "Wall time: 4.53 s\n"
     ]
    }
   ],
   "source": [
    "%%time \n",
    " \n",
    "model = tf.keras.Sequential([\n",
    "  Dense(units=100, activation='relu', input_dim=1),                   \n",
    "  Dense(units=100, activation='relu'),\n",
    "  Dense(units=100, activation='relu'),                   \n",
    "  Dense(units=1, activation='linear')                   \n",
    "])\n",
    "model.summary()\n",
    "\n",
    "model.compile(loss=tf.losses.mean_squared_error, # mean squared error, unchanged from low level example\n",
    "             optimizer=tf.keras.optimizers.Adam(), # SGD, unchanged from low level example\n",
    "             metrics=[r2_metric]) # we can track the r2 metric over time\n",
    "\n",
    "# does a similar thing internally as our loop from above\n",
    "history = model.fit(x, y, epochs=1000, verbose=0)"
   ]
  },
  {
   "cell_type": "code",
   "execution_count": 50,
   "metadata": {},
   "outputs": [
    {
     "data": {
      "text/plain": [
       "(0.0064222850278019905, 0.98462206)"
      ]
     },
     "execution_count": 50,
     "metadata": {},
     "output_type": "execute_result"
    }
   ],
   "source": [
    "loss, r2 = model.evaluate(x, y, verbose=0)\n",
    "loss, r2"
   ]
  },
  {
   "cell_type": "code",
   "execution_count": 51,
   "metadata": {
    "colab": {
     "base_uri": "https://localhost:8080/",
     "height": 531
    },
    "colab_type": "code",
    "id": "ytxbBFkHWpkL",
    "outputId": "84cec651-a5f7-41a6-eba3-dcead2d85150"
   },
   "outputs": [
    {
     "data": {
      "image/png": "[encoded data removed]",
      "text/plain": [
       "<Figure size 432x288 with 1 Axes>"
      ]
     },
     "metadata": {
      "needs_background": "light"
     },
     "output_type": "display_data"
    }
   ],
   "source": [
    "plt.yscale('log')\n",
    "plt.ylabel(\"loss\")\n",
    "plt.xlabel(\"epochs\")\n",
    "plt.title('Loss over Epochs (log scale)')\n",
    "\n",
    "plt.plot(history.history['loss']);"
   ]
  },
  {
   "cell_type": "code",
   "execution_count": 52,
   "metadata": {
    "colab": {
     "base_uri": "https://localhost:8080/",
     "height": 531
    },
    "colab_type": "code",
    "id": "M4LdjQWOWpkN",
    "outputId": "65f635e3-f049-4af5-dc36-2ed9712c43c2"
   },
   "outputs": [
    {
     "data": {
      "image/png": "[encoded data removed]",
      "text/plain": [
       "<Figure size 432x288 with 1 Axes>"
      ]
     },
     "metadata": {
      "needs_background": "light"
     },
     "output_type": "display_data"
    }
   ],
   "source": [
    "plt.ylabel(\"r2\")\n",
    "plt.xlabel(\"epochs\")\n",
    "plt.title('R^2 over Epochs')\n",
    "# plt.yscale('log')\n",
    "\n",
    "plt.plot(history.history['r2_metric']);"
   ]
  },
  {
   "cell_type": "code",
   "execution_count": 53,
   "metadata": {
    "colab": {
     "base_uri": "https://localhost:8080/",
     "height": 483
    },
    "colab_type": "code",
    "id": "4GF66VyuWpkR",
    "outputId": "7aefb3f2-1708-4358-d42c-3db32380d5a4"
   },
   "outputs": [
    {
     "data": {
      "image/png": "[encoded data removed]",
      "text/plain": [
       "<Figure size 432x288 with 1 Axes>"
      ]
     },
     "metadata": {
      "needs_background": "light"
     },
     "output_type": "display_data"
    }
   ],
   "source": [
    "y_pred = model.predict(x)\n",
    "plt.scatter(x, y_pred, color='red')\n",
    "plt.scatter(x, y);"
   ]
  },
  {
   "cell_type": "markdown",
   "metadata": {
    "colab_type": "text",
    "id": "Dj1cwe6IBirs"
   },
   "source": [
    "# Part II: Classification\n",
    "\n",
    "_predicting a continuous value (like in this notebook) is called regression, predicting a category is called classification_\n",
    "\n",
    "https://colab.research.google.com/github/DJCordhose/ml-workshop/blob/master/notebooks/tf-intro/2020-01-basics-classification.ipynb"
   ]
  },
  {
   "cell_type": "markdown",
   "metadata": {
    "colab_type": "text",
    "id": "FW7Y2c7MZONk"
   },
   "source": [
    "# More\n",
    "\n",
    "## Introduction, crash course, and quick API reference for TensorFlow 2.0. (by @fchollet)\n",
    "\n",
    "https://colab.research.google.com/drive/1UCJt8EYjlzCs1H1d1X0iDGYJsHKwu-NO\n",
    "\n",
    "## Great collection of notebooks from all areas of ML, including TensorFlow 2.0 (by @aureliengeron)\n",
    "\n",
    "https://github.com/ageron/handson-ml2"
   ]
  }
 ],
 "metadata": {
  "accelerator": "GPU",
  "colab": {
   "include_colab_link": true,
   "name": "2020-01-basics-regression.ipynb",
   "provenance": []
  },
  "kernelspec": {
   "display_name": "Python 3",
   "language": "python",
   "name": "python3"
  },
  "language_info": {
   "codemirror_mode": {
    "name": "ipython",
    "version": 3
   },
   "file_extension": ".py",
   "mimetype": "text/x-python",
   "name": "python",
   "nbconvert_exporter": "python",
   "pygments_lexer": "ipython3",
   "version": "3.7.4"
  }
 },
 "nbformat": 4,
 "nbformat_minor": 1
}
