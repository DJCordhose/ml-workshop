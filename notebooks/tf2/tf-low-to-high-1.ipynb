{
 "cells": [
  {
   "cell_type": "markdown",
   "metadata": {
    "colab_type": "text",
    "id": "view-in-github"
   },
   "source": [
    "<a href=\"https://colab.research.google.com/github/DJCordhose/ml-workshop/blob/master/notebooks/tf2/tf-low-to-high-1.ipynb\" target=\"_parent\"><img src=\"https://colab.research.google.com/assets/colab-badge.svg\" alt=\"Open In Colab\"/></a>"
   ]
  },
  {
   "cell_type": "markdown",
   "metadata": {
    "colab_type": "text",
    "id": "XdfXfXK2-CiG"
   },
   "source": [
    "# From Low to High with TensorFlow 2\n",
    "\n",
    "Oliver Zeigermann, <a href='https://www.embarc.de/'>embarc</a>, <a href='https://twitter.com/DJCordhose'>@DJCordhose</a>\n",
    "\n",
    "WJAX 2019, https://jax.de/big-data-machine-learning/neuronale-netzwerke-mit-tensorflow-2-von-unten-nach-oben/\n",
    "\n",
    "## Objectives\n",
    "\n",
    "- how matrix multiplication is the basis of neural networks\n",
    "- how loss functions work\n",
    "- backpropagation\n",
    "- optimizers\n",
    "- regression\n",
    "\n",
    "Hosted on Colab: http://colab.research.google.com/"
   ]
  },
  {
   "cell_type": "code",
   "execution_count": 1,
   "metadata": {
    "colab": {},
    "colab_type": "code",
    "id": "j6tt1Z9cEV9m"
   },
   "outputs": [],
   "source": [
    "import matplotlib.pyplot as plt\n",
    "# plt.xkcd()\n",
    "# plt.style.use('ggplot')\n",
    "%matplotlib inline\n",
    "\n",
    "import matplotlib as mpl\n",
    "mpl.rcParams['figure.figsize'] = (20, 8)"
   ]
  },
  {
   "cell_type": "markdown",
   "metadata": {
    "colab_type": "text",
    "id": "iuUy8f6W-Gns"
   },
   "source": [
    "### Challenge: How do we fit the best line possible?"
   ]
  },
  {
   "cell_type": "code",
   "execution_count": 2,
   "metadata": {
    "colab": {
     "base_uri": "https://localhost:8080/",
     "height": 513
    },
    "colab_type": "code",
    "id": "fxRBCo2QIuI9",
    "outputId": "e5e879f9-162b-4b5b-d935-62c34f681491"
   },
   "outputs": [
    {
     "data": {
      "image/png": "[encoded data removed]",
      "text/plain": [
       "<Figure size 432x288 with 1 Axes>"
      ]
     },
     "metadata": {
      "needs_background": "light"
     },
     "output_type": "display_data"
    }
   ],
   "source": [
    "#@title A noisy line of shape y = m*x + b { run: \"auto\", display-mode: \"form\" }\n",
    "\n",
    "# https://colab.research.google.com/notebooks/forms.ipynb\n",
    "\n",
    "n = 50 #@param {type:\"slider\", min:10, max:500, step:1}\n",
    "m = -1 #@param {type:\"slider\", min:-10, max:10, step: 0.1}\n",
    "b = 1 #@param {type:\"slider\", min:-10, max:10, step: 0.1}\n",
    "\n",
    "noise_level = 0.1 #@param {type:\"slider\", min:0.1, max:1.0, step:0.1}\n",
    "\n",
    "title = 'Predict y from x (based on a line with noise)' #@param {type:\"string\"}\n",
    "x_label = 'x' #@param {type:\"string\"}\n",
    "y_label = 'y' #@param {type:\"string\"}\n",
    "\n",
    "import numpy as np\n",
    "\n",
    "x = np.random.uniform(0, 1, n)\n",
    "y = m*x+b + np.random.normal(0, noise_level, n)\n",
    "\n",
    "plt.xlabel(x_label)\n",
    "plt.ylabel(y_label)\n",
    "plt.title(title)\n",
    "\n",
    "plt.scatter(x, y);"
   ]
  },
  {
   "cell_type": "markdown",
   "metadata": {
    "colab_type": "text",
    "id": "Q37hoRPLKI5H"
   },
   "source": [
    "## Let's find a matching example\n",
    "\n",
    "_Let's change the title and what is on the axis to match our application_"
   ]
  },
  {
   "cell_type": "markdown",
   "metadata": {
    "colab_type": "text",
    "id": "Foa3nuaywB09"
   },
   "source": [
    "# Starting off with a naive approach"
   ]
  },
  {
   "cell_type": "markdown",
   "metadata": {
    "colab_type": "text",
    "id": "_18EAgpD-NEe"
   },
   "source": [
    "## Our model: linear\n",
    "\n",
    "### ```y = m*x + b```\n",
    "\n",
    "* `m` is the slope \n",
    "* `b` is the y-intercept\n"
   ]
  },
  {
   "cell_type": "code",
   "execution_count": 3,
   "metadata": {
    "colab": {},
    "colab_type": "code",
    "id": "B988o-LuC2wf"
   },
   "outputs": [],
   "source": [
    "class LinearModel:\n",
    "  \n",
    "  def __init__(self, m=0, b=0):\n",
    "    self.m = m\n",
    "    self.b = b\n",
    "    \n",
    "  def __call__(self, x):\n",
    "    y = self.m * x + self.b\n",
    "    return y"
   ]
  },
  {
   "cell_type": "code",
   "execution_count": 4,
   "metadata": {
    "colab": {
     "base_uri": "https://localhost:8080/",
     "height": 483
    },
    "colab_type": "code",
    "id": "a4iCGJG8BURt",
    "outputId": "0ec75683-e40b-4255-a614-17143304e410"
   },
   "outputs": [
    {
     "data": {
      "image/png": "[encoded data removed]",
      "text/plain": [
       "<Figure size 432x288 with 1 Axes>"
      ]
     },
     "metadata": {
      "needs_background": "light"
     },
     "output_type": "display_data"
    }
   ],
   "source": [
    "model = LinearModel()\n",
    "y_pred = model(x)\n",
    "plt.plot(x, y_pred, color='r')\n",
    "plt.scatter(x, y);"
   ]
  },
  {
   "cell_type": "markdown",
   "metadata": {
    "colab_type": "text",
    "id": "OfEHyVDQBlgy"
   },
   "source": [
    "## How wrong are we?\n",
    "### This is obviously wrong, but how wrong are we?"
   ]
  },
  {
   "cell_type": "code",
   "execution_count": 5,
   "metadata": {
    "colab": {
     "base_uri": "https://localhost:8080/",
     "height": 34
    },
    "colab_type": "code",
    "id": "wssjxewwBofu",
    "outputId": "51866bca-87d3-4251-9a72-3a2535f63c49"
   },
   "outputs": [
    {
     "data": {
      "text/plain": [
       "26.901959154498094"
      ]
     },
     "execution_count": 5,
     "metadata": {},
     "output_type": "execute_result"
    }
   ],
   "source": [
    "def loss1(y_true, y_pred):\n",
    "  return np.sum(y_true - y_pred)\n",
    "loss1(y, y_pred)"
   ]
  },
  {
   "cell_type": "code",
   "execution_count": 6,
   "metadata": {
    "colab": {
     "base_uri": "https://localhost:8080/",
     "height": 34
    },
    "colab_type": "code",
    "id": "ljcSucGuCL1T",
    "outputId": "d3f84f2c-2cdb-4348-cd70-2012850fd336"
   },
   "outputs": [
    {
     "data": {
      "text/plain": [
       "27.236114980230955"
      ]
     },
     "execution_count": 6,
     "metadata": {},
     "output_type": "execute_result"
    }
   ],
   "source": [
    "def loss_no_negative(y_true, y_pred):\n",
    "  return np.sum(np.abs(y_true - y_pred))\n",
    "loss_no_negative(y, y_pred)"
   ]
  },
  {
   "cell_type": "code",
   "execution_count": 7,
   "metadata": {
    "colab": {
     "base_uri": "https://localhost:8080/",
     "height": 34
    },
    "colab_type": "code",
    "id": "1yzLG9n6CjIs",
    "outputId": "ca085654-094d-43aa-8054-8b4578c5bfae"
   },
   "outputs": [
    {
     "data": {
      "text/plain": [
       "0.544722299604619"
      ]
     },
     "execution_count": 7,
     "metadata": {},
     "output_type": "execute_result"
    }
   ],
   "source": [
    "def loss_no_negative_normalize(y_true, y_pred):\n",
    "  return np.sum(np.abs(y_true - y_pred)) / len(y_true)\n",
    "loss_no_negative_normalize(y, y_pred)"
   ]
  },
  {
   "cell_type": "markdown",
   "metadata": {
    "colab_type": "text",
    "id": "-Pq6rCREC3Qr"
   },
   "source": [
    "## Approach: Trying to bring the loss down in loop\n",
    "\n",
    "Parameters to tweak\n",
    "* m for the slope\n",
    "* b for the y-intercept"
   ]
  },
  {
   "cell_type": "markdown",
   "metadata": {
    "colab_type": "text",
    "id": "LrzJzzG1Gh8N"
   },
   "source": [
    "### Let's begin with naive implementation\n",
    "\n",
    "1. if we bring m or b up or down, does this improve the loss?\n",
    "1. if so, do it\n",
    "1. rinse and repeat for a number of times"
   ]
  },
  {
   "cell_type": "code",
   "execution_count": 8,
   "metadata": {
    "colab": {
     "base_uri": "https://localhost:8080/",
     "height": 34
    },
    "colab_type": "code",
    "id": "CZUySXYNScOx",
    "outputId": "39b150d4-0475-408e-8ec1-00d8e36e1af6"
   },
   "outputs": [
    {
     "data": {
      "text/plain": [
       "(-0.9800000000000006, 0.9800000000000006)"
      ]
     },
     "execution_count": 8,
     "metadata": {},
     "output_type": "execute_result"
    }
   ],
   "source": [
    "model = LinearModel()\n",
    "\n",
    "EPOCHS = 500\n",
    "learning_rate = 0.01\n",
    "\n",
    "losses = []\n",
    "\n",
    "for step in range(EPOCHS):\n",
    "  y_pred = model(x)\n",
    "  \n",
    "  loss = loss_no_negative_normalize(y, y_pred)\n",
    "    \n",
    "  # just for logging\n",
    "  losses.append(loss)\n",
    "  \n",
    "  # let's try m\n",
    "  new_model = LinearModel(m = model.m + learning_rate, b = model.b)\n",
    "  new_y_pred = new_model(x)\n",
    "  new_loss = loss_no_negative_normalize(y, new_y_pred)\n",
    "  \n",
    "  if new_loss < loss:\n",
    "    model.m += learning_rate\n",
    "  else:\n",
    "    model.m -= learning_rate\n",
    "    \n",
    "  # then b\n",
    "  new_model = LinearModel(m = model.m, b = model.b + learning_rate)\n",
    "  new_y_pred = new_model(x)\n",
    "  new_loss = loss_no_negative_normalize(y, new_y_pred)\n",
    "  \n",
    "  if new_loss < loss:\n",
    "    model.b += learning_rate\n",
    "  else:\n",
    "    model.b -= learning_rate\n",
    "\n",
    "\n",
    "model.m, model.b    "
   ]
  },
  {
   "cell_type": "code",
   "execution_count": 9,
   "metadata": {
    "colab": {
     "base_uri": "https://localhost:8080/",
     "height": 483
    },
    "colab_type": "code",
    "id": "x_3PHObDDiEd",
    "outputId": "25d87f07-099a-4a8d-fa30-e46d6f1fc34c"
   },
   "outputs": [
    {
     "data": {
      "image/png": "[encoded data removed]",
      "text/plain": [
       "<Figure size 432x288 with 1 Axes>"
      ]
     },
     "metadata": {
      "needs_background": "light"
     },
     "output_type": "display_data"
    }
   ],
   "source": [
    "# plt.yscale('log')\n",
    "plt.plot(losses);"
   ]
  },
  {
   "cell_type": "code",
   "execution_count": 10,
   "metadata": {
    "colab": {
     "base_uri": "https://localhost:8080/",
     "height": 483
    },
    "colab_type": "code",
    "id": "2oP8Ggt_Gvp3",
    "outputId": "e5bca793-1bf6-4275-b656-d4f030f738b1"
   },
   "outputs": [
    {
     "data": {
      "image/png": "[encoded data removed]",
      "text/plain": [
       "<Figure size 432x288 with 1 Axes>"
      ]
     },
     "metadata": {
      "needs_background": "light"
     },
     "output_type": "display_data"
    }
   ],
   "source": [
    "y_pred = model(x)\n",
    "plt.plot(x, y_pred, color='r')\n",
    "plt.scatter(x, y);"
   ]
  },
  {
   "cell_type": "markdown",
   "metadata": {
    "colab_type": "text",
    "id": "6Ms_6xMGIQjK"
   },
   "source": [
    "# We already have a working solution"
   ]
  },
  {
   "cell_type": "markdown",
   "metadata": {
    "colab_type": "text",
    "id": "YmGc7CiaIbSg"
   },
   "source": [
    "## But does this scale to an example with many more parameters and more inputs?\n",
    "\n",
    "1. Calculating the output might be expensive\n",
    "2. Trying out all parameters in a random we like we do would have a bad performance for a large problem\n",
    "3. Wouldn't we also need to try them in combination?"
   ]
  },
  {
   "cell_type": "markdown",
   "metadata": {
    "colab_type": "text",
    "id": "R59mTAYHIVTE"
   },
   "source": [
    "# Let's see what we need to change for this to become a state of the art neural network using TensorFlow 2\n",
    "\n",
    "1. Replace our model with a fully connected layer\n",
    "2. Use a standard loss function\n",
    "3. Finding parameters to tune\n",
    "4. Changing parameters"
   ]
  },
  {
   "cell_type": "code",
   "execution_count": 11,
   "metadata": {
    "colab": {
     "base_uri": "https://localhost:8080/",
     "height": 51
    },
    "colab_type": "code",
    "id": "5gcdokENxG-s",
    "outputId": "e156a188-38f7-4282-c49d-613008dd51c1"
   },
   "outputs": [
    {
     "data": {
      "text/plain": [
       "'2.0.0'"
      ]
     },
     "execution_count": 11,
     "metadata": {},
     "output_type": "execute_result"
    }
   ],
   "source": [
    "try:\n",
    "  # %tensorflow_version only exists in Colab.\n",
    "  %tensorflow_version 2.x\n",
    "except Exception:\n",
    "  pass\n",
    "\n",
    "import tensorflow as tf\n",
    "tf.__version__"
   ]
  },
  {
   "cell_type": "markdown",
   "metadata": {
    "colab_type": "text",
    "id": "6HHSUkrxxNy_"
   },
   "source": [
    "## Step one: use a dense layer instead of our simple model\n",
    "* Scales well for as many neurons and inputs as we want\n",
    "* Efficient implementation on GPUs\n",
    "\n"
   ]
  },
  {
   "cell_type": "markdown",
   "metadata": {
    "colab_type": "text",
    "id": "WKxxou9oirbE"
   },
   "source": [
    "### The Artificial Neuron: Foundation of Deep Neural Networks (simplified, more later)\n",
    "\n",
    "* a neuron takes a number of numerical inputs\n",
    "* multiplies each with a weight, sums up all weighted input and  \n",
    "* adds bias (constant) to that sum\n",
    "* from this it creates a single numerical output\n",
    "* for one input (one dimension) this would be a description of a line\n",
    "* for more dimensions this describes a hyper plane that can serve as a decision boundary\n",
    "* this is typically expressed as a matrix multplication plus an addition\n",
    "\n",
    "\n",
    "<img src='https://djcordhose.github.io/ai/img/insurance/neuron211.jpg'>"
   ]
  },
  {
   "cell_type": "markdown",
   "metadata": {
    "colab_type": "text",
    "id": "O6oo7hM_0pv5"
   },
   "source": [
    "### This can be expressed using a matrix multiplication"
   ]
  },
  {
   "cell_type": "code",
   "execution_count": 12,
   "metadata": {
    "colab": {
     "base_uri": "https://localhost:8080/"
    },
    "colab_type": "code",
    "id": "7h8MQieO0vay",
    "outputId": "838f22d1-b13a-4eec-c34a-fc6cc2dd2952"
   },
   "outputs": [
    {
     "name": "stdout",
     "output_type": "stream",
     "text": [
      "tf.Tensor([[17.]], shape=(1, 1), dtype=float32)\n",
      "Wall time: 8.98 ms\n"
     ]
    }
   ],
   "source": [
    "%%time \n",
    "\n",
    "# parameters of the neuron (can be learned), defining the function to apply\n",
    "w = tf.constant([[1.5], [-2], [1]], dtype='float32')\n",
    "b = tf.constant([6], dtype='float32')\n",
    "\n",
    "# variable input being fed through the parameterized neuron\n",
    "example_x = tf.constant([[10, 6, 8]], dtype='float32')\n",
    "\n",
    "# computed output\n",
    "example_y = tf.matmul(example_x, w) + b\n",
    "print(example_y)"
   ]
  },
  {
   "cell_type": "markdown",
   "metadata": {
    "colab_type": "text",
    "id": "IGylP_16koS6"
   },
   "source": [
    "### Defining a dense layer with a random number of neurons and inputs\n",
    "\n",
    "With a little more work this would be a complete implementation of a fully connected layer\n",
    "\n"
   ]
  },
  {
   "cell_type": "code",
   "execution_count": 13,
   "metadata": {
    "colab": {
     "base_uri": "https://localhost:8080/"
    },
    "colab_type": "code",
    "id": "aMCDcq4JelaE",
    "outputId": "2cf53732-b867-4f67-d340-ea451df28d7d"
   },
   "outputs": [
    {
     "data": {
      "text/plain": [
       "[<tf.Variable 'weights:0' shape=(1, 1) dtype=float32, numpy=array([[2.3822203]], dtype=float32)>,\n",
       " <tf.Variable 'biases:0' shape=(1,) dtype=float32, numpy=array([0.], dtype=float32)>]"
      ]
     },
     "execution_count": 13,
     "metadata": {},
     "output_type": "execute_result"
    }
   ],
   "source": [
    "from tensorflow.keras.layers import Layer\n",
    "\n",
    "# we derive from a TensorFlow Layer\n",
    "class LinearLayer(Layer):\n",
    "  \"\"\"y = w.x + b\"\"\"\n",
    "\n",
    "  # initializing our layer\n",
    "  def __init__(self, units=1, input_dim=1):\n",
    "      super(LinearLayer, self).__init__()\n",
    "      # these are our weights, which can be learned, initialized normally around 0 with stddev of 2\n",
    "      self.w = tf.Variable(\n",
    "          initial_value = tf.random_normal_initializer(stddev=2)(shape=(input_dim, units), dtype='float32'),\n",
    "          trainable=True,\n",
    "          name='weights')\n",
    "      # these are our bisases, also can be learned, initialized as 0\n",
    "      self.b = tf.Variable(\n",
    "          initial_value = tf.zeros_initializer()(shape=(units,), dtype='float32'),\n",
    "          trainable=True,\n",
    "          name='biases')\n",
    "\n",
    "  # what the layer does (some as in our example before)\n",
    "  def call(self, inputs):\n",
    "      return tf.matmul(inputs, self.w) + self.b\n",
    "    \n",
    "# just one neuron and one input (but could be as many as we like)    \n",
    "linear_layer = LinearLayer()\n",
    "linear_layer.trainable_variables"
   ]
  },
  {
   "cell_type": "markdown",
   "metadata": {
    "colab_type": "text",
    "id": "ckzldN7YYqR4"
   },
   "source": [
    "### Same prediction as before, but now on GPU using scalable matrix multiplcation"
   ]
  },
  {
   "cell_type": "code",
   "execution_count": 14,
   "metadata": {
    "colab": {
     "base_uri": "https://localhost:8080/"
    },
    "colab_type": "code",
    "id": "1aYgn1IHyFlQ",
    "outputId": "1e7a153f-44ef-4560-e22a-6484dfd23eb9"
   },
   "outputs": [
    {
     "data": {
      "image/png": "[encoded data removed]",
      "text/plain": [
       "<Figure size 432x288 with 1 Axes>"
      ]
     },
     "metadata": {
      "needs_background": "light"
     },
     "output_type": "display_data"
    }
   ],
   "source": [
    "x_tensor = tf.reshape(tf.constant(x, dtype=tf.float32), (n, 1))\n",
    "y_tensor = tf.reshape(tf.constant(y, dtype=tf.float32), (n, 1))\n",
    "\n",
    "y_pred = linear_layer(x_tensor)\n",
    "plt.plot(x, y_pred, color='r')\n",
    "plt.scatter(x, y);"
   ]
  },
  {
   "cell_type": "code",
   "execution_count": 15,
   "metadata": {
    "colab": {
     "base_uri": "https://localhost:8080/"
    },
    "colab_type": "code",
    "id": "JgnuebDDGDMA",
    "outputId": "1cea27c0-3b90-4b36-f2f7-87fbad095804"
   },
   "outputs": [
    {
     "data": {
      "text/plain": [
       "(array([[2.3822203]], dtype=float32), array([0.], dtype=float32))"
      ]
     },
     "execution_count": 15,
     "metadata": {},
     "output_type": "execute_result"
    }
   ],
   "source": [
    "# you can see slope and offset are just not right\n",
    "slope = linear_layer.w; offset = linear_layer.b\n",
    "slope.numpy(), offset.numpy()"
   ]
  },
  {
   "cell_type": "markdown",
   "metadata": {
    "colab_type": "text",
    "id": "OOnPfr8Z0TMv"
   },
   "source": [
    "## Step two: use standard loss and metric\n",
    "* what we defined is called mean absolute error: mae\n",
    "* mean squared error is more common, it squares the differences and gives high values a larger weight: mse\n",
    "* both are pre-defined efficiently in TensorFlow 2"
   ]
  },
  {
   "cell_type": "markdown",
   "metadata": {
    "colab_type": "text",
    "id": "NXGOjCNr2vQU"
   },
   "source": [
    "### Mean Absolute Error"
   ]
  },
  {
   "cell_type": "code",
   "execution_count": 16,
   "metadata": {
    "colab": {
     "base_uri": "https://localhost:8080/"
    },
    "colab_type": "code",
    "id": "v0oTMNID2kJ8",
    "outputId": "2eff8725-13ea-4e1d-8263-6c916ba5db53"
   },
   "outputs": [
    {
     "data": {
      "text/plain": [
       "<tf.Tensor: id=72, shape=(), dtype=float32, numpy=0.9580609>"
      ]
     },
     "execution_count": 16,
     "metadata": {},
     "output_type": "execute_result"
    }
   ],
   "source": [
    "tf.losses.mean_absolute_error(y_true=tf.squeeze(y), y_pred=tf.squeeze(y_pred))"
   ]
  },
  {
   "cell_type": "markdown",
   "metadata": {
    "colab_type": "text",
    "id": "9Ktk750l2GrJ"
   },
   "source": [
    "### Mean Squared Error\n",
    "\n",
    "$MSE = {\\frac {1}{n}}\\sum _{i=1}^{n}(Y_{i}-{\\hat {Y_{i}}})^{2}$\n",
    "\n",
    "\n",
    "https://en.wikipedia.org/wiki/Mean_squared_error\n"
   ]
  },
  {
   "cell_type": "code",
   "execution_count": 17,
   "metadata": {
    "colab": {
     "base_uri": "https://localhost:8080/"
    },
    "colab_type": "code",
    "id": "wdqgj24ZF5xf",
    "outputId": "efe7a3fe-d7e2-42ea-96cf-c529b04b14d8"
   },
   "outputs": [
    {
     "data": {
      "text/plain": [
       "<tf.Tensor: id=79, shape=(), dtype=float32, numpy=1.3280243>"
      ]
     },
     "execution_count": 17,
     "metadata": {},
     "output_type": "execute_result"
    }
   ],
   "source": [
    "tf.losses.mean_squared_error(y_true=tf.squeeze(y), y_pred=tf.squeeze(y_pred))"
   ]
  },
  {
   "cell_type": "markdown",
   "metadata": {
    "colab_type": "text",
    "id": "nfg7K1Hx204z"
   },
   "source": [
    "### R2 Metric: MSE and MAE are not speaking\n",
    "\n",
    "* R^2 score, the closer to 1 the better\n",
    "* loosely speaking: how much better is this than predicting the constant mean\n",
    "* 0 would mean just as good\n",
    "* 1 is perfect\n",
    "* neg. would mean even worse\n",
    "* it can become arbitrarily worse\n",
    "\n",
    "https://en.wikipedia.org/wiki/Coefficient_of_determination\n"
   ]
  },
  {
   "cell_type": "code",
   "execution_count": 18,
   "metadata": {
    "colab": {},
    "colab_type": "code",
    "id": "AavxSDrH2Xj6"
   },
   "outputs": [],
   "source": [
    "# https://keras.io/metrics/#custom-metrics\n",
    "\n",
    "# ported to TF 2 from \n",
    "# * https://stackoverflow.com/a/42351397/1756489 and\n",
    "# * https://www.kaggle.com/c/mercedes-benz-greener-manufacturing/discussion/34019 (for use of epsilon to avoid strange inf or -inf)\n",
    "\n",
    "# only works properly on tensors\n",
    "\n",
    "def r2_metric(y_true, y_pred):\n",
    "  total_error = tf.reduce_sum(tf.square(tf.subtract(y_true, tf.reduce_mean(y_true))))\n",
    "  unexplained_error = tf.reduce_sum(tf.square(tf.subtract(y_true, y_pred)))\n",
    "  R_squared = tf.subtract(1.0, tf.divide(unexplained_error, tf.add(total_error, tf.keras.backend.epsilon())))\n",
    "  \n",
    "  return R_squared"
   ]
  },
  {
   "cell_type": "code",
   "execution_count": 19,
   "metadata": {
    "colab": {
     "base_uri": "https://localhost:8080/"
    },
    "colab_type": "code",
    "id": "D9YUrDR63DA9",
    "outputId": "1116c00e-8cc9-4bb4-d700-4d38a0d965ea"
   },
   "outputs": [
    {
     "data": {
      "text/plain": [
       "<tf.Tensor: id=96, shape=(), dtype=float32, numpy=-12.177766>"
      ]
     },
     "execution_count": 19,
     "metadata": {},
     "output_type": "execute_result"
    }
   ],
   "source": [
    "r2_metric(y_true=tf.squeeze(y_tensor), y_pred=tf.squeeze(y_pred))"
   ]
  },
  {
   "cell_type": "markdown",
   "metadata": {
    "colab_type": "text",
    "id": "Myjb5duB7Rfi"
   },
   "source": [
    "## Step three: Finding parameters to tune"
   ]
  },
  {
   "cell_type": "markdown",
   "metadata": {
    "colab_type": "text",
    "id": "wOpI5DdvLqoq"
   },
   "source": [
    "## Backpropagation algorithm"
   ]
  },
  {
   "cell_type": "markdown",
   "metadata": {
    "colab_type": "text",
    "id": "NLXsxuqkB-BN"
   },
   "source": [
    "\n",
    "### The core of how a neural network learns\n",
    "\n",
    "_In a nutshell:_\n",
    "1. Predict: Let the network make a prediction \n",
    "1. Calculate the loss: how accurate was the predition\n",
    "1. Record a function of how the trainable parameters affect the loss \n",
    "1. partial derivations: find out in which direction to change all parameters to bring down the loss\n",
    "1. Optimizer: Make changes to parameters based on learning rate and other parameters\n"
   ]
  },
  {
   "cell_type": "markdown",
   "metadata": {
    "colab_type": "text",
    "id": "QzcQowwMsZqg"
   },
   "source": [
    "### Loss depends on the trainable variables, in our case two parameters: weight and bias\n",
    "\n",
    "This is how the loss function might change depending on those variables\n",
    "\n",
    "<img src='https://djcordhose.github.io/ai/img/gradients.jpg'>\n",
    "\n",
    "https://twitter.com/colindcarroll/status/1090266016259534848"
   ]
  },
  {
   "cell_type": "code",
   "execution_count": 20,
   "metadata": {
    "colab": {
     "base_uri": "https://localhost:8080/"
    },
    "colab_type": "code",
    "id": "7jkpKqcoB1ma",
    "outputId": "d19e8a4f-4c61-4f56-e341-e3d2e9dbb4cf"
   },
   "outputs": [
    {
     "data": {
      "text/plain": [
       "[<tf.Variable 'weights:0' shape=(1, 1) dtype=float32, numpy=array([[2.3822203]], dtype=float32)>,\n",
       " <tf.Variable 'biases:0' shape=(1,) dtype=float32, numpy=array([0.], dtype=float32)>]"
      ]
     },
     "execution_count": 20,
     "metadata": {},
     "output_type": "execute_result"
    }
   ],
   "source": [
    "linear_layer.trainable_variables"
   ]
  },
  {
   "cell_type": "markdown",
   "metadata": {
    "colab_type": "text",
    "id": "xukGkwFTET56"
   },
   "source": [
    "### For this we need partial derivations\n",
    "\n",
    "TensorFlow offers automatic differentiation: https://www.tensorflow.org/versions/r2.0/api_docs/python/tf/GradientTape\n",
    "\n",
    "* tape will record operations for automatic differentiation\n",
    "* either by making it record explicily (watch) or \n",
    "* by declaring a varible to be trainable (which we did in the layer above) \n",
    "\n"
   ]
  },
  {
   "cell_type": "code",
   "execution_count": 21,
   "metadata": {
    "colab": {},
    "colab_type": "code",
    "id": "ODYIJbadLtkr"
   },
   "outputs": [],
   "source": [
    "from tensorflow import GradientTape \n",
    "# GradientTape?"
   ]
  },
  {
   "cell_type": "code",
   "execution_count": 22,
   "metadata": {
    "colab": {
     "base_uri": "https://localhost:8080/"
    },
    "colab_type": "code",
    "id": "6HZyUhPIKJC1",
    "outputId": "34a7e5f9-1427-45a9-9c5a-59165057dd0f"
   },
   "outputs": [
    {
     "name": "stdout",
     "output_type": "stream",
     "text": [
      "<tf.Variable 'Variable:0' shape=() dtype=float32, numpy=3.0> tf.Tensor(9.0, shape=(), dtype=float32)\n",
      "tf.Tensor(6.0, shape=(), dtype=float32)\n"
     ]
    }
   ],
   "source": [
    "def tape_sample():\n",
    "  x = tf.Variable(3.0)\n",
    "  with tf.GradientTape() as tape:\n",
    "    y = x * x\n",
    "  print(x, y)\n",
    "  # how is y dependending on x\n",
    "  dy_dx = tape.gradient(y, x)\n",
    "  print(dy_dx)\n",
    "  \n",
    "# just a function in order not to interfere with x on the global scope  \n",
    "tape_sample()"
   ]
  },
  {
   "cell_type": "code",
   "execution_count": 23,
   "metadata": {
    "colab": {
     "base_uri": "https://localhost:8080/"
    },
    "colab_type": "code",
    "id": "8RxUcXQUWPQ1",
    "outputId": "89d2203f-9ead-4d2f-f21b-7498920e1475"
   },
   "outputs": [
    {
     "name": "stdout",
     "output_type": "stream",
     "text": [
      "<tf.Variable 'Variable:0' shape=() dtype=float32, numpy=3.1415927> tf.Tensor(-8.742278e-08, shape=(), dtype=float32)\n",
      "tf.Tensor(-1.0, shape=(), dtype=float32)\n"
     ]
    }
   ],
   "source": [
    "import math\n",
    "\n",
    "def tape_sample():\n",
    "  x = tf.Variable(math.pi)\n",
    "  with tf.GradientTape() as tape:\n",
    "#     y = math.sin(x)\n",
    "    y = tf.sin(x) # when you use mathematic functions, you need to use the tensorflow version\n",
    "  print(x, y)\n",
    "  # how is y dependending on x\n",
    "  dy_dx = tape.gradient(y, x)\n",
    "  print(dy_dx)\n",
    "  \n",
    "# just a function in order not to interfere with x on the global scope  \n",
    "tape_sample()"
   ]
  },
  {
   "cell_type": "markdown",
   "metadata": {
    "colab_type": "text",
    "id": "IhN9Ced-77fM"
   },
   "source": [
    "## Intermediate solution: applying all this to our training loop"
   ]
  },
  {
   "cell_type": "code",
   "execution_count": null,
   "metadata": {
    "colab": {},
    "colab_type": "code",
    "id": "wUCDpfRE7_5o"
   },
   "outputs": [],
   "source": [
    "linear_layer = LinearLayer()\n",
    "\n",
    "EPOCHS = 1500\n",
    "learning_rate = 0.01\n",
    "\n",
    "losses = []\n",
    "\n",
    "for step in range(EPOCHS):\n",
    "  with tf.GradientTape() as tape:\n",
    "\n",
    "    # forward pass, all data\n",
    "    # often we do not use all data to calculate the loss, but only a certain fraction, called the batch\n",
    "    # you could also push data through one by one, being an extreme version of a batched approached\n",
    "    # in our case we use all the data we have and calculate the combined error\n",
    "    y_pred = linear_layer(x_tensor)\n",
    "\n",
    "    # loss for this batch\n",
    "    loss = tf.losses.mean_squared_error(y_true=tf.squeeze(y_tensor), y_pred=tf.squeeze(y_pred))\n",
    "    \n",
    "  # just for logging\n",
    "  losses.append(loss)\n",
    "\n",
    "  # get gradients of weights wrt the loss\n",
    "  (dw, db) = tape.gradient(loss, linear_layer.trainable_weights)\n",
    "  \n",
    "  # optimizer: backward pass, changing trainable weights in the direction of the mimimum\n",
    "  linear_layer.w.assign_sub(learning_rate * dw)\n",
    "  linear_layer.b.assign_sub(learning_rate * db)"
   ]
  },
  {
   "cell_type": "code",
   "execution_count": null,
   "metadata": {
    "colab": {
     "base_uri": "https://localhost:8080/",
     "height": 497
    },
    "colab_type": "code",
    "id": "CtnO71lW8Lda",
    "outputId": "b45cc92f-86f7-4109-f618-2612a86eb9e5"
   },
   "outputs": [],
   "source": [
    "plt.xlabel('epochs')\n",
    "plt.ylabel('loss')\n",
    "\n",
    "# plt.yscale('log')\n",
    "\n",
    "plt.plot(losses);"
   ]
  },
  {
   "cell_type": "code",
   "execution_count": null,
   "metadata": {
    "colab": {
     "base_uri": "https://localhost:8080/",
     "height": 483
    },
    "colab_type": "code",
    "id": "UYg_2zkq8VJT",
    "outputId": "ffd84c60-0647-4e1d-d89d-2557625f1abf"
   },
   "outputs": [],
   "source": [
    "y_pred = linear_layer(x_tensor)\n",
    "plt.plot(x, y_pred, color='r')\n",
    "plt.scatter(x, y);"
   ]
  },
  {
   "cell_type": "markdown",
   "metadata": {
    "colab_type": "text",
    "id": "N7UPe4pP8vkW"
   },
   "source": [
    "## Final step: Changing parameters"
   ]
  },
  {
   "cell_type": "markdown",
   "metadata": {
    "colab_type": "text",
    "id": "vbOJfrtgDQiM"
   },
   "source": [
    "## Prebuilt Optimizers do this job (but a bit more efficient and sohpisticated)\n",
    "\n",
    "* http://cs231n.github.io/optimization-1/\n",
    "* http://cs231n.github.io/neural-networks-3/#update\n",
    "* How they sound: http://blog.christianperone.com/2019/08/listening-to-the-neural-network-gradient-norms-during-training/"
   ]
  },
  {
   "cell_type": "code",
   "execution_count": null,
   "metadata": {
    "colab": {},
    "colab_type": "code",
    "id": "eD2YbeHdDM9y"
   },
   "outputs": [],
   "source": [
    "optimizer = tf.keras.optimizers.SGD(learning_rate=1e-2)"
   ]
  },
  {
   "cell_type": "code",
   "execution_count": null,
   "metadata": {
    "colab": {},
    "colab_type": "code",
    "id": "cEuzqGgktmut"
   },
   "outputs": [],
   "source": [
    "EPOCHS = 1500\n",
    "\n",
    "losses = []\n",
    "\n",
    "linear_layer = LinearLayer()\n",
    "\n",
    "for step in range(EPOCHS):\n",
    "  with tf.GradientTape() as tape:\n",
    "\n",
    "    # forward pass, all data\n",
    "    y_pred = linear_layer(x_tensor)\n",
    "\n",
    "    # loss for this batch\n",
    "    loss = tf.losses.mean_squared_error(y_true=tf.squeeze(y_tensor), y_pred=tf.squeeze(y_pred))\n",
    "    \n",
    "  # just for logging\n",
    "  losses.append(loss)\n",
    "\n",
    "  # Get gradients of weights wrt the loss.\n",
    "  gradients = tape.gradient(loss, linear_layer.trainable_weights)\n",
    "  \n",
    "  # Update the weights of our linear layer.\n",
    "  optimizer.apply_gradients(zip(gradients, linear_layer.trainable_weights))"
   ]
  },
  {
   "cell_type": "code",
   "execution_count": null,
   "metadata": {
    "colab": {
     "base_uri": "https://localhost:8080/",
     "height": 497
    },
    "colab_type": "code",
    "id": "cqA4saqR0kbq",
    "outputId": "8d5a7d2c-c49b-4158-b07c-3c91ca99be58"
   },
   "outputs": [],
   "source": [
    "plt.yscale('log')\n",
    "plt.ylabel(\"loss\")\n",
    "plt.xlabel(\"epochs\")\n",
    "\n",
    "plt.plot(losses);"
   ]
  },
  {
   "cell_type": "code",
   "execution_count": null,
   "metadata": {
    "colab": {
     "base_uri": "https://localhost:8080/",
     "height": 483
    },
    "colab_type": "code",
    "id": "uAQ-LCTW2KkH",
    "outputId": "bb4e3a6b-b8ec-4fa2-fca6-7c5b0f5ce8f1"
   },
   "outputs": [],
   "source": [
    "y_pred = linear_layer(x_tensor)\n",
    "plt.plot(x, y_pred, color='r')\n",
    "plt.scatter(x, y);"
   ]
  },
  {
   "cell_type": "markdown",
   "metadata": {
    "colab_type": "text",
    "id": "jZzGU633WNvt"
   },
   "source": [
    "## The same solution using high level Keas API"
   ]
  },
  {
   "cell_type": "code",
   "execution_count": null,
   "metadata": {
    "colab": {
     "base_uri": "https://localhost:8080/",
     "height": 187
    },
    "colab_type": "code",
    "id": "STfOU_LmVAnj",
    "outputId": "08195398-1601-494e-9049-65a5c7d8252b"
   },
   "outputs": [],
   "source": [
    "from tensorflow.keras.layers import Dense\n",
    " \n",
    "model = tf.keras.Sequential([\n",
    "  Dense(units=1, input_dim=1)                   \n",
    "])\n",
    "model.summary()"
   ]
  },
  {
   "cell_type": "code",
   "execution_count": null,
   "metadata": {
    "colab": {
     "base_uri": "https://localhost:8080/",
     "height": 51
    },
    "colab_type": "code",
    "id": "_Vffpso6WpgK",
    "outputId": "2b85a311-adb8-405b-f1f0-2ed92b9686ed"
   },
   "outputs": [],
   "source": [
    "%%time \n",
    "\n",
    "model.compile(loss=tf.losses.mean_squared_error, # mean squared error, unchanged from low level example\n",
    "             optimizer=tf.keras.optimizers.SGD(learning_rate=1e-2), # SGD, unchanged from low level example\n",
    "             metrics=[r2_metric]) # we can track the r2 metric over time\n",
    "\n",
    "# does a similar thing internally as our loop from above\n",
    "history = model.fit(x, y, epochs=1000, verbose=0)"
   ]
  },
  {
   "cell_type": "code",
   "execution_count": null,
   "metadata": {
    "colab": {
     "base_uri": "https://localhost:8080/",
     "height": 34
    },
    "colab_type": "code",
    "id": "NfKDwhCiWkRI",
    "outputId": "f2db9159-f6c9-422d-b48f-79110627f881"
   },
   "outputs": [],
   "source": [
    "loss, r2 = model.evaluate(x, y, verbose=0)\n",
    "loss, r2"
   ]
  },
  {
   "cell_type": "code",
   "execution_count": null,
   "metadata": {
    "colab": {
     "base_uri": "https://localhost:8080/",
     "height": 513
    },
    "colab_type": "code",
    "id": "O61MfB85aMT6",
    "outputId": "fe3410d1-da82-41a6-e8ce-dceae7cf24c5"
   },
   "outputs": [],
   "source": [
    "plt.yscale('log')\n",
    "plt.ylabel(\"loss\")\n",
    "plt.xlabel(\"epochs\")\n",
    "plt.title('Loss over Epochs (log scale)')\n",
    "\n",
    "plt.plot(history.history['loss']);"
   ]
  },
  {
   "cell_type": "code",
   "execution_count": null,
   "metadata": {
    "colab": {
     "base_uri": "https://localhost:8080/",
     "height": 513
    },
    "colab_type": "code",
    "id": "N2U7B9ZEaKAz",
    "outputId": "c262b864-e87b-4a63-bf1f-3dfaa4142ea3"
   },
   "outputs": [],
   "source": [
    "plt.ylabel(\"r2\")\n",
    "plt.xlabel(\"epochs\")\n",
    "plt.title('R^2 over Epochs')\n",
    "# plt.yscale('log')\n",
    "\n",
    "plt.plot(history.history['r2_metric']);"
   ]
  },
  {
   "cell_type": "code",
   "execution_count": null,
   "metadata": {
    "colab": {
     "base_uri": "https://localhost:8080/",
     "height": 483
    },
    "colab_type": "code",
    "id": "GbKB2pRfWl6E",
    "outputId": "316f06e9-9d73-4531-8e45-0ebb68ed1fbd"
   },
   "outputs": [],
   "source": [
    "y_pred = model.predict(x)\n",
    "plt.plot(x, y_pred, color='red')\n",
    "plt.scatter(x, y);"
   ]
  },
  {
   "cell_type": "markdown",
   "metadata": {},
   "source": [
    "## Neural Networks with 2-3 Layers can learn to approximate any function\n",
    "* no additional prior required\n",
    "* theoretically only one layer is enough, but this will not always train"
   ]
  },
  {
   "cell_type": "code",
   "execution_count": null,
   "metadata": {},
   "outputs": [],
   "source": [
    "#@title A noisy sine curve { run: \"auto\", display-mode: \"form\" }\n",
    "\n",
    "n = 50 #@param {type:\"slider\", min:10, max:500, step:1}\n",
    "noise_level = 0.1 #@param {type:\"slider\", min:0.1, max:1.0, step:0.1}\n",
    "scale = 10 #@param {type:\"slider\", min:1, max:100, step:1}\n",
    "\n",
    "import numpy as np\n",
    "\n",
    "x = np.random.uniform(0, 1, n)\n",
    "y = np.sin(x*scale) + np.random.normal(0, noise_level, n)\n",
    "\n",
    "plt.xlabel('x')\n",
    "plt.ylabel('y')\n",
    "plt.title('Sinus')\n",
    "\n",
    "plt.scatter(x, y);"
   ]
  },
  {
   "cell_type": "code",
   "execution_count": null,
   "metadata": {},
   "outputs": [],
   "source": [
    "%%time \n",
    " \n",
    "model = tf.keras.Sequential([\n",
    "  Dense(units=100, activation='relu', input_dim=1),                   \n",
    "  Dense(units=100, activation='relu'),\n",
    "  Dense(units=100, activation='relu'),                   \n",
    "  Dense(units=1, activation='linear')                   \n",
    "])\n",
    "model.summary()\n",
    "\n",
    "model.compile(loss=tf.losses.mean_squared_error, # mean squared error, unchanged from low level example\n",
    "             optimizer=tf.keras.optimizers.Adam(), # SGD, unchanged from low level example\n",
    "             metrics=[r2_metric]) # we can track the r2 metric over time\n",
    "\n",
    "# does a similar thing internally as our loop from above\n",
    "history = model.fit(x, y, epochs=1000, verbose=0)"
   ]
  },
  {
   "cell_type": "code",
   "execution_count": null,
   "metadata": {},
   "outputs": [],
   "source": [
    "plt.yscale('log')\n",
    "plt.ylabel(\"loss\")\n",
    "plt.xlabel(\"epochs\")\n",
    "plt.title('Loss over Epochs (log scale)')\n",
    "\n",
    "plt.plot(history.history['loss']);"
   ]
  },
  {
   "cell_type": "code",
   "execution_count": null,
   "metadata": {},
   "outputs": [],
   "source": [
    "plt.ylabel(\"r2\")\n",
    "plt.xlabel(\"epochs\")\n",
    "plt.title('R^2 over Epochs')\n",
    "# plt.yscale('log')\n",
    "\n",
    "plt.plot(history.history['r2_metric']);"
   ]
  },
  {
   "cell_type": "code",
   "execution_count": null,
   "metadata": {},
   "outputs": [],
   "source": [
    "y_pred = model.predict(x)\n",
    "plt.scatter(x, y_pred, color='red')\n",
    "plt.scatter(x, y);"
   ]
  },
  {
   "cell_type": "markdown",
   "metadata": {
    "colab_type": "text",
    "id": "FW7Y2c7MZONk"
   },
   "source": [
    "# Mehr\n",
    "\n",
    "## Das große Trainingsevent für Machine Learning Development & Business Innovation\n",
    "\n",
    "* Holiday Inn München-Unterhaching\n",
    "* 21.- 24/04/2020\n",
    "\n",
    "https://ml-summit.de/\n",
    "\n",
    "## Classification\n",
    "\n",
    "https://colab.research.google.com/github/DJCordhose/ml-workshop/blob/master/notebooks/tf2/tf-low-to-high-2.ipynb"
   ]
  },
  {
   "cell_type": "code",
   "execution_count": null,
   "metadata": {
    "colab": {},
    "colab_type": "code",
    "id": "tKpLG2IkYqS3"
   },
   "outputs": [],
   "source": []
  }
 ],
 "metadata": {
  "accelerator": "GPU",
  "colab": {
   "include_colab_link": true,
   "name": "tf-regression-from-scratch.ipynb",
   "provenance": []
  },
  "kernelspec": {
   "display_name": "Python 3",
   "language": "python",
   "name": "python3"
  },
  "language_info": {
   "codemirror_mode": {
    "name": "ipython",
    "version": 3
   },
   "file_extension": ".py",
   "mimetype": "text/x-python",
   "name": "python",
   "nbconvert_exporter": "python",
   "pygments_lexer": "ipython3",
   "version": "3.7.4"
  }
 },
 "nbformat": 4,
 "nbformat_minor": 1
}
