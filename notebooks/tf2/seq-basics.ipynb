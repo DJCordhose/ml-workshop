{
  "nbformat": 4,
  "nbformat_minor": 0,
  "metadata": {
    "colab": {
      "name": "seq-basics.ipynb",
      "provenance": [],
      "collapsed_sections": [],
      "toc_visible": true,
      "include_colab_link": true
    },
    "kernelspec": {
      "name": "python3",
      "display_name": "Python 3"
    },
    "accelerator": "GPU"
  },
  "cells": [
    {
      "cell_type": "markdown",
      "metadata": {
        "id": "view-in-github",
        "colab_type": "text"
      },
      "source": [
        "<a href=\"https://colab.research.google.com/github/DJCordhose/ml-workshop/blob/master/notebooks/tf2/seq-basics.ipynb\" target=\"_parent\"><img src=\"https://colab.research.google.com/assets/colab-badge.svg\" alt=\"Open In Colab\"/></a>"
      ]
    },
    {
      "cell_type": "markdown",
      "metadata": {
        "id": "t0SNZ3gZDa36",
        "colab_type": "text"
      },
      "source": [
        "# Sequences Basics\n",
        "\n",
        "Example, some code and a lot of inspiration taken from: https://machinelearningmastery.com/how-to-develop-lstm-models-for-time-series-forecasting/\n"
      ]
    },
    {
      "cell_type": "code",
      "metadata": {
        "id": "NLf1M-3w7G7W",
        "colab_type": "code",
        "outputId": "25280cba-47db-494e-c033-caf572bd6d88",
        "colab": {
          "base_uri": "https://localhost:8080/",
          "height": 34
        }
      },
      "source": [
        "try:\n",
        "  # %tensorflow_version only exists in Colab.\n",
        "  %tensorflow_version 2.x\n",
        "except Exception:\n",
        "  pass"
      ],
      "execution_count": 1,
      "outputs": [
        {
          "output_type": "stream",
          "text": [
            "TensorFlow 2.x selected.\n"
          ],
          "name": "stdout"
        }
      ]
    },
    {
      "cell_type": "code",
      "metadata": {
        "id": "3wt0_gCS7HkM",
        "colab_type": "code",
        "outputId": "45b233d1-b41e-432a-81d0-1903dadd40ae",
        "colab": {
          "base_uri": "https://localhost:8080/",
          "height": 34
        }
      },
      "source": [
        "import tensorflow as tf\n",
        "print(tf.__version__)"
      ],
      "execution_count": 2,
      "outputs": [
        {
          "output_type": "stream",
          "text": [
            "2.0.0-rc0\n"
          ],
          "name": "stdout"
        }
      ]
    },
    {
      "cell_type": "markdown",
      "metadata": {
        "id": "qg63cDunD4s4",
        "colab_type": "text"
      },
      "source": [
        "## Univariate Sequences\n",
        "\n",
        "just one variable per time step\n",
        "\n",
        "### Challenge\n",
        "\n",
        "We have a known series of events, possibly in time and you want to know what is the next event. Like this\n",
        "\n",
        "[10, 20, 30, 40, 50, 60, 70, 80, 90]"
      ]
    },
    {
      "cell_type": "code",
      "metadata": {
        "id": "RB7EfRrWDJE0",
        "colab_type": "code",
        "colab": {}
      },
      "source": [
        "# univariate data preparation\n",
        "import numpy as np\n",
        "\n",
        "# split a univariate sequence into samples\n",
        "def split_sequence(sequence, n_steps):\n",
        "\tX, y = list(), list()\n",
        "\tfor i in range(len(sequence)):\n",
        "\t\t# find the end of this pattern\n",
        "\t\tend_ix = i + n_steps\n",
        "\t\t# check if we are beyond the sequence\n",
        "\t\tif end_ix > len(sequence)-1:\n",
        "\t\t\tbreak\n",
        "\t\t# gather input and output parts of the pattern\n",
        "\t\tseq_x, seq_y = sequence[i:end_ix], sequence[end_ix]\n",
        "\t\tX.append(seq_x)\n",
        "\t\ty.append(seq_y)\n",
        "\treturn np.array(X), np.array(y)"
      ],
      "execution_count": 0,
      "outputs": []
    },
    {
      "cell_type": "code",
      "metadata": {
        "id": "PSbObY6YEWhh",
        "colab_type": "code",
        "outputId": "8a119179-c2bb-4901-eb78-19d0fce1f968",
        "colab": {
          "base_uri": "https://localhost:8080/",
          "height": 119
        }
      },
      "source": [
        "# define input sequence\n",
        "raw_seq = [10, 20, 30, 40, 50, 60, 70, 80, 90]\n",
        "\n",
        "# choose a number of time steps\n",
        "n_steps = 3\n",
        "\n",
        "# split into samples\n",
        "X, y = split_sequence(raw_seq, n_steps)\n",
        "\n",
        "# summarize the data\n",
        "list(zip(X, y))"
      ],
      "execution_count": 4,
      "outputs": [
        {
          "output_type": "execute_result",
          "data": {
            "text/plain": [
              "[(array([10, 20, 30]), 40),\n",
              " (array([20, 30, 40]), 50),\n",
              " (array([30, 40, 50]), 60),\n",
              " (array([40, 50, 60]), 70),\n",
              " (array([50, 60, 70]), 80),\n",
              " (array([60, 70, 80]), 90)]"
            ]
          },
          "metadata": {
            "tags": []
          },
          "execution_count": 4
        }
      ]
    },
    {
      "cell_type": "code",
      "metadata": {
        "id": "yqgEV0kyF8Q6",
        "colab_type": "code",
        "outputId": "14a23f27-7e93-4a27-e9b4-df8932e333b5",
        "colab": {
          "base_uri": "https://localhost:8080/",
          "height": 119
        }
      },
      "source": [
        "X"
      ],
      "execution_count": 5,
      "outputs": [
        {
          "output_type": "execute_result",
          "data": {
            "text/plain": [
              "array([[10, 20, 30],\n",
              "       [20, 30, 40],\n",
              "       [30, 40, 50],\n",
              "       [40, 50, 60],\n",
              "       [50, 60, 70],\n",
              "       [60, 70, 80]])"
            ]
          },
          "metadata": {
            "tags": []
          },
          "execution_count": 5
        }
      ]
    },
    {
      "cell_type": "markdown",
      "metadata": {
        "id": "oOLHQ0m8Hld-",
        "colab_type": "text"
      },
      "source": [
        "### Converting shapes\n",
        "\n",
        "* one of the most frequent, yet most tedious steps\n",
        "* match between what you have and what an interface needs\n",
        "* expected input of RNN: 3D tensor with shape (samples, timesteps, input_dim)\n",
        "* we have: (samples, timesteps)\n",
        "* reshape on np arrays can do all that"
      ]
    },
    {
      "cell_type": "code",
      "metadata": {
        "id": "HUpCkSRqFzZK",
        "colab_type": "code",
        "outputId": "2bdd716a-08a8-4211-fdb0-d019f0f1047a",
        "colab": {
          "base_uri": "https://localhost:8080/",
          "height": 408
        }
      },
      "source": [
        "# reshape from [samples, timesteps] into [samples, timesteps, features]\n",
        "n_features = 1\n",
        "X = X.reshape((X.shape[0], X.shape[1], n_features))\n",
        "X"
      ],
      "execution_count": 6,
      "outputs": [
        {
          "output_type": "execute_result",
          "data": {
            "text/plain": [
              "array([[[10],\n",
              "        [20],\n",
              "        [30]],\n",
              "\n",
              "       [[20],\n",
              "        [30],\n",
              "        [40]],\n",
              "\n",
              "       [[30],\n",
              "        [40],\n",
              "        [50]],\n",
              "\n",
              "       [[40],\n",
              "        [50],\n",
              "        [60]],\n",
              "\n",
              "       [[50],\n",
              "        [60],\n",
              "        [70]],\n",
              "\n",
              "       [[60],\n",
              "        [70],\n",
              "        [80]]])"
            ]
          },
          "metadata": {
            "tags": []
          },
          "execution_count": 6
        }
      ]
    },
    {
      "cell_type": "code",
      "metadata": {
        "id": "UCAbYYgLDmzh",
        "colab_type": "code",
        "colab": {
          "base_uri": "https://localhost:8080/",
          "height": 221
        },
        "outputId": "b9271796-b100-4a25-f42c-f88ffa2515c0"
      },
      "source": [
        "import tensorflow as tf\n",
        "from tensorflow import keras\n",
        "from tensorflow.keras.layers import Dense, LSTM, GRU, SimpleRNN, Bidirectional\n",
        "from tensorflow.keras.models import Sequential, Model\n",
        "\n",
        "model = Sequential()\n",
        "model.add(SimpleRNN(units=50, activation='relu', input_shape=(n_steps, n_features), name=\"RNN_Input\"))\n",
        "model.add(Dense(units=1, name=\"Linear_Output\"))\n",
        "model.compile(optimizer='adam', loss='mse')\n",
        "model.summary()"
      ],
      "execution_count": 7,
      "outputs": [
        {
          "output_type": "stream",
          "text": [
            "Model: \"sequential\"\n",
            "_________________________________________________________________\n",
            "Layer (type)                 Output Shape              Param #   \n",
            "=================================================================\n",
            "RNN_Input (SimpleRNN)        (None, 50)                2600      \n",
            "_________________________________________________________________\n",
            "Linear_Output (Dense)        (None, 1)                 51        \n",
            "=================================================================\n",
            "Total params: 2,651\n",
            "Trainable params: 2,651\n",
            "Non-trainable params: 0\n",
            "_________________________________________________________________\n"
          ],
          "name": "stdout"
        }
      ]
    },
    {
      "cell_type": "code",
      "metadata": {
        "id": "Yo1GD73MFfwW",
        "colab_type": "code",
        "outputId": "bcbff58c-1250-47f9-f9ec-0d2a8d21e0a8",
        "colab": {
          "base_uri": "https://localhost:8080/",
          "height": 105
        }
      },
      "source": [
        "EPOCHS = 1000\n",
        "\n",
        "%time history = model.fit(X, y, epochs=EPOCHS, verbose=0)"
      ],
      "execution_count": 8,
      "outputs": [
        {
          "output_type": "stream",
          "text": [
            "WARNING:tensorflow:Entity <function Function._initialize_uninitialized_variables.<locals>.initialize_variables at 0x7fd460062730> could not be transformed and will be executed as-is. Please report this to the AutoGraph team. When filing the bug, set the verbosity to 10 (on Linux, `export AUTOGRAPH_VERBOSITY=10`) and attach the full output. Cause: module 'gast' has no attribute 'Num'\n",
            "WARNING: Entity <function Function._initialize_uninitialized_variables.<locals>.initialize_variables at 0x7fd460062730> could not be transformed and will be executed as-is. Please report this to the AutoGraph team. When filing the bug, set the verbosity to 10 (on Linux, `export AUTOGRAPH_VERBOSITY=10`) and attach the full output. Cause: module 'gast' has no attribute 'Num'\n",
            "CPU times: user 8.83 s, sys: 760 ms, total: 9.59 s\n",
            "Wall time: 6.82 s\n"
          ],
          "name": "stdout"
        }
      ]
    },
    {
      "cell_type": "code",
      "metadata": {
        "id": "PVbZtfFo78Ml",
        "colab_type": "code",
        "outputId": "f0eca554-2c04-4dd9-e9c8-0ca6db0d6273",
        "colab": {
          "base_uri": "https://localhost:8080/",
          "height": 34
        }
      },
      "source": [
        "loss = model.evaluate(X, y, verbose=0)\n",
        "loss"
      ],
      "execution_count": 9,
      "outputs": [
        {
          "output_type": "execute_result",
          "data": {
            "text/plain": [
              "0.0001640534756006673"
            ]
          },
          "metadata": {
            "tags": []
          },
          "execution_count": 9
        }
      ]
    },
    {
      "cell_type": "code",
      "metadata": {
        "id": "raJ0DsbqGZET",
        "colab_type": "code",
        "outputId": "d256e132-2313-44e7-9b7c-e7508dbfb7fa",
        "colab": {
          "base_uri": "https://localhost:8080/",
          "height": 300
        }
      },
      "source": [
        "import matplotlib.pyplot as plt\n",
        "\n",
        "plt.yscale('log')\n",
        "plt.ylabel(\"loss\")\n",
        "plt.xlabel(\"epochs\")\n",
        "\n",
        "plt.plot(history.history['loss'])"
      ],
      "execution_count": 10,
      "outputs": [
        {
          "output_type": "execute_result",
          "data": {
            "text/plain": [
              "[<matplotlib.lines.Line2D at 0x7fd4cf4db4a8>]"
            ]
          },
          "metadata": {
            "tags": []
          },
          "execution_count": 10
        },
        {
          "output_type": "display_data",
          "data": {
            "image/png": "[encoded data removed]",
            "text/plain": [
              "<Figure size 432x288 with 1 Axes>"
            ]
          },
          "metadata": {
            "tags": []
          }
        }
      ]
    },
    {
      "cell_type": "markdown",
      "metadata": {
        "id": "QDNechOFCXwe",
        "colab_type": "text"
      },
      "source": [
        "### Let's try this on a few examples"
      ]
    },
    {
      "cell_type": "code",
      "metadata": {
        "id": "2ryB1sVmGwok",
        "colab_type": "code",
        "outputId": "8795e983-dc0c-472a-9408-abfd63662a99",
        "colab": {
          "base_uri": "https://localhost:8080/",
          "height": 136
        }
      },
      "source": [
        "# this does not look too bad\n",
        "X_sample = np.array([[10, 20, 30], [70, 80, 90]]).astype(np.float32)\n",
        "X_sample = X_sample.reshape((X_sample.shape[0], X_sample.shape[1], n_features))\n",
        "X_sample"
      ],
      "execution_count": 11,
      "outputs": [
        {
          "output_type": "execute_result",
          "data": {
            "text/plain": [
              "array([[[10.],\n",
              "        [20.],\n",
              "        [30.]],\n",
              "\n",
              "       [[70.],\n",
              "        [80.],\n",
              "        [90.]]], dtype=float32)"
            ]
          },
          "metadata": {
            "tags": []
          },
          "execution_count": 11
        }
      ]
    },
    {
      "cell_type": "code",
      "metadata": {
        "id": "5mzPZ_OzIXR0",
        "colab_type": "code",
        "outputId": "469a2669-01c3-466a-e34e-0e561e64716b",
        "colab": {
          "base_uri": "https://localhost:8080/",
          "height": 51
        }
      },
      "source": [
        "y_pred = model.predict(X_sample)\n",
        "y_pred"
      ],
      "execution_count": 12,
      "outputs": [
        {
          "output_type": "execute_result",
          "data": {
            "text/plain": [
              "array([[ 39.99961],\n",
              "       [100.70507]], dtype=float32)"
            ]
          },
          "metadata": {
            "tags": []
          },
          "execution_count": 12
        }
      ]
    },
    {
      "cell_type": "code",
      "metadata": {
        "id": "EXBe7ud3PLS-",
        "colab_type": "code",
        "colab": {}
      },
      "source": [
        "def predict(model, samples, n_features=1):\n",
        "  input = np.array(samples).astype(np.float32)\n",
        "  input = input.reshape((input.shape[0], input.shape[1], n_features))\n",
        "  y_pred = model.predict(input)\n",
        "  return y_pred"
      ],
      "execution_count": 0,
      "outputs": []
    },
    {
      "cell_type": "code",
      "metadata": {
        "id": "V4kWLPaNLMf0",
        "colab_type": "code",
        "outputId": "715f6823-c45f-44a7-947c-6ad011acf1e3",
        "colab": {
          "base_uri": "https://localhost:8080/",
          "height": 68
        }
      },
      "source": [
        "# do not look too close, though\n",
        "predict(model, [[100, 110, 120], [200, 210, 220], [200, 300, 400]])"
      ],
      "execution_count": 14,
      "outputs": [
        {
          "output_type": "execute_result",
          "data": {
            "text/plain": [
              "array([[132.96687],\n",
              "       [240.44167],\n",
              "       [476.00482]], dtype=float32)"
            ]
          },
          "metadata": {
            "tags": []
          },
          "execution_count": 14
        }
      ]
    },
    {
      "cell_type": "markdown",
      "metadata": {
        "id": "aLVDrSozCpZy",
        "colab_type": "text"
      },
      "source": [
        "## Exercise\n",
        "\n",
        "* go through the notebook as it is\n",
        "* Try to improve the model\n",
        "  * Change the number of values used as input\n",
        "  * Change activation function\n",
        "  * More nodes? less nodes?\n",
        "  * What else might help improving the results?\n"
      ]
    },
    {
      "cell_type": "markdown",
      "metadata": {
        "id": "98iHtb5bC0Rh",
        "colab_type": "text"
      },
      "source": [
        "# STOP HERE"
      ]
    },
    {
      "cell_type": "markdown",
      "metadata": {
        "id": "bRq8b8KjJbDH",
        "colab_type": "text"
      },
      "source": [
        "### Input and output of an RNN layer"
      ]
    },
    {
      "cell_type": "code",
      "metadata": {
        "id": "OKsUslnrJg-N",
        "colab_type": "code",
        "outputId": "845ebb1e-fa94-4082-afc3-214b9decaded",
        "colab": {
          "base_uri": "https://localhost:8080/",
          "height": 204
        }
      },
      "source": [
        "# https://keras.io/layers/recurrent/\n",
        "# input: (samples, timesteps, input_dim)\n",
        "# output: (samples, units)\n",
        "\n",
        "# let's have a look at the actual output for an example\n",
        "rnn_layer = model.get_layer(\"RNN_Input\")\n",
        "model_stub = Model(inputs = model.input, outputs = rnn_layer.output)\n",
        "hidden = predict(model_stub, [[10, 20, 30]])\n",
        "hidden.shape, hidden"
      ],
      "execution_count": 15,
      "outputs": [
        {
          "output_type": "execute_result",
          "data": {
            "text/plain": [
              "((1, 50), array([[ 0.       ,  0.       , 16.428925 , 19.051212 , 12.976182 ,\n",
              "          0.       ,  0.       ,  0.       , 11.839391 ,  5.986301 ,\n",
              "          1.7131419,  0.       , 17.87114  ,  0.       ,  0.       ,\n",
              "          5.990473 ,  0.       ,  0.       ,  0.       ,  0.       ,\n",
              "          0.       , 16.929243 ,  0.       ,  0.       ,  0.       ,\n",
              "         13.806693 , 14.192661 ,  0.       ,  0.       ,  0.       ,\n",
              "          0.       ,  0.       ,  9.75368  ,  0.       ,  5.3686476,\n",
              "         12.320499 , 10.945314 ,  0.       ,  9.148695 ,  0.       ,\n",
              "          0.       ,  1.3816959,  0.       ,  0.       , 17.42252  ,\n",
              "          0.       ,  2.530228 , 11.319056 ,  0.       ,  0.       ]],\n",
              "       dtype=float32))"
            ]
          },
          "metadata": {
            "tags": []
          },
          "execution_count": 15
        }
      ]
    },
    {
      "cell_type": "markdown",
      "metadata": {
        "id": "M8LfywO1JyRF",
        "colab_type": "text"
      },
      "source": [
        "#### What do we see?\n",
        "* each unit (50) has a single output\n",
        "* as a sidenote you nicely see the RELU nature of the output\n",
        "* so the timesteps of the input are lost\n",
        "* we are only looking at the final output\n",
        "* still with each timestep, the layer does produce a unique output we could potentially use"
      ]
    },
    {
      "cell_type": "markdown",
      "metadata": {
        "id": "OenC414DbKGh",
        "colab_type": "text"
      },
      "source": [
        "### We need to look into RNNs a bit more deeply now\n",
        "\n",
        "#### RNNs - Networks with Loops\n",
        "<img src='https://djcordhose.github.io/ai/img/nlp/colah/RNN-rolled.png' height=200>\n",
        "\n",
        "http://colah.github.io/posts/2015-08-Understanding-LSTMs/\n",
        "#### Unrolling the loop\n",
        "<img src='https://djcordhose.github.io/ai/img/nlp/colah/RNN-unrolled.png'>\n",
        "\n",
        "http://colah.github.io/posts/2015-08-Understanding-LSTMs/\n",
        "#### Simple RNN internals\n",
        "\n",
        "<img src='https://djcordhose.github.io/ai/img/nlp/fchollet_rnn.png'>\n",
        "\n",
        "##  $output_t = \\tanh(W input_t + U output_{t-1} + b)$\n",
        "\n",
        "From Deep Learning with Python, Chapter 6, François Chollet, Manning: https://livebook.manning.com/#!/book/deep-learning-with-python/chapter-6/129\n",
        "\n",
        "#### Activation functions\n",
        "\n",
        "<img src='https://djcordhose.github.io/ai/img/sigmoid-activation.png' height=200>\n",
        "\n",
        "Sigmoid compressing between 0 and 1\n",
        "\n",
        "<img src='https://djcordhose.github.io/ai/img/tanh-activation.png' height=200>\n",
        "\n",
        "Hyperbolic tangent, like sigmoind, but compressing between -1 and 1, thus allowing for negative values as well"
      ]
    }
  ]
}