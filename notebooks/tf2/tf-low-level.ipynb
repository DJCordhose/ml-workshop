{
  "nbformat": 4,
  "nbformat_minor": 0,
  "metadata": {
    "colab": {
      "name": "tf-low-level.ipynb",
      "version": "0.3.2",
      "provenance": [],
      "include_colab_link": true
    },
    "language_info": {
      "codemirror_mode": {
        "name": "ipython",
        "version": 3
      },
      "file_extension": ".py",
      "mimetype": "text/x-python",
      "name": "python",
      "nbconvert_exporter": "python",
      "pygments_lexer": "ipython3",
      "version": "3.7.3"
    },
    "kernelspec": {
      "display_name": "Python 3",
      "language": "python",
      "name": "python3"
    },
    "accelerator": "GPU"
  },
  "cells": [
    {
      "cell_type": "markdown",
      "metadata": {
        "id": "view-in-github",
        "colab_type": "text"
      },
      "source": [
        "<a href=\"https://colab.research.google.com/github/DJCordhose/ml-workshop/blob/master/notebooks/tf2/tf-low-level.ipynb\" target=\"_parent\"><img src=\"https://colab.research.google.com/assets/colab-badge.svg\" alt=\"Open In Colab\"/></a>"
      ]
    },
    {
      "cell_type": "markdown",
      "metadata": {
        "colab_type": "text",
        "id": "XdfXfXK2-CiG"
      },
      "source": [
        "# Introduction to Neural Networks with Low Level TensorFlow 2\n",
        "\n",
        "Based on \n",
        "* This thread is a crash course on everything you need to know to use TensorFlow 2.0 + Keras for deep learning research: https://twitter.com/fchollet/status/1105139360226140160\n",
        "* Colab Notebook _tf.keras for Researchers_: https://colab.research.google.com/drive/17u-pRZJnKN0gO5XZmq8n5A2bKGrfKEUg#scrollTo=UHOOlixcQ9Gl\n",
        "* Effective TensorFlow 2: https://www.tensorflow.org/alpha/guide/effective_tf2\n",
        "* Writing a custom training loop: https://twitter.com/fchollet/status/1132013928681050113\n"
      ]
    },
    {
      "cell_type": "code",
      "metadata": {
        "colab_type": "code",
        "id": "u8IonVMfAelY",
        "outputId": "b447996d-b8f0-470d-8dec-cef0f89cf6a2",
        "colab": {
          "base_uri": "https://localhost:8080/",
          "height": 34
        }
      },
      "source": [
        "# Gives us a well defined version of tensorflow\n",
        "\n",
        "try:\n",
        "  # %tensorflow_version only exists in Colab.\n",
        "  %tensorflow_version 2.x\n",
        "except Exception:\n",
        "  pass\n",
        "\n",
        "# will also work, but nightly build might contain surprises\n",
        "\n",
        "# !pip install -q tf-nightly-gpu-2.0-preview"
      ],
      "execution_count": 0,
      "outputs": [
        {
          "output_type": "stream",
          "text": [
            "TensorFlow 2.x selected.\n"
          ],
          "name": "stdout"
        }
      ]
    },
    {
      "cell_type": "code",
      "metadata": {
        "colab_type": "code",
        "id": "0rEa6M11-CiY",
        "outputId": "27f9bbf5-b1c5-4504-8e72-f835bbd76a54",
        "colab": {
          "base_uri": "https://localhost:8080/",
          "height": 34
        }
      },
      "source": [
        "import tensorflow as tf\n",
        "print(tf.__version__)"
      ],
      "execution_count": 0,
      "outputs": [
        {
          "output_type": "stream",
          "text": [
            "2.0.0-rc0\n"
          ],
          "name": "stdout"
        }
      ]
    },
    {
      "cell_type": "code",
      "metadata": {
        "colab_type": "code",
        "id": "I35W9tmrRWF3",
        "outputId": "e2692bbd-bf59-4bf4-b032-c3ef2588d56e",
        "colab": {
          "base_uri": "https://localhost:8080/",
          "height": 34
        }
      },
      "source": [
        "# a small sanity check, does tf seem to work ok?\n",
        "hello = tf.constant('Hello TF!')\n",
        "print(\"This works: {}\".format(hello))"
      ],
      "execution_count": 0,
      "outputs": [
        {
          "output_type": "stream",
          "text": [
            "This works: b'Hello TF!'\n"
          ],
          "name": "stdout"
        }
      ]
    },
    {
      "cell_type": "code",
      "metadata": {
        "colab_type": "code",
        "id": "DpXHERPSQvMD",
        "colab": {}
      },
      "source": [
        "# this should return True even on Colab\n",
        "assert tf.test.is_gpu_available()"
      ],
      "execution_count": 0,
      "outputs": []
    },
    {
      "cell_type": "code",
      "metadata": {
        "colab_type": "code",
        "id": "hEoP6O2r3Jvf",
        "colab": {}
      },
      "source": [
        "# we have the gpu version of TensorFlow running\n",
        "assert tf.test.is_built_with_cuda()"
      ],
      "execution_count": 0,
      "outputs": []
    },
    {
      "cell_type": "code",
      "metadata": {
        "colab_type": "code",
        "id": "N5djlq79Lc5P",
        "outputId": "0a29d4fa-e6c4-4165-e49e-fb66ef6cd2d2",
        "colab": {
          "base_uri": "https://localhost:8080/",
          "height": 289
        }
      },
      "source": [
        "# What kind of GPU are we running on\n",
        "!nvidia-smi"
      ],
      "execution_count": 0,
      "outputs": [
        {
          "output_type": "stream",
          "text": [
            "Thu Aug 29 10:21:52 2019       \n",
            "+-----------------------------------------------------------------------------+\n",
            "| NVIDIA-SMI 430.40       Driver Version: 418.67       CUDA Version: 10.1     |\n",
            "|-------------------------------+----------------------+----------------------+\n",
            "| GPU  Name        Persistence-M| Bus-Id        Disp.A | Volatile Uncorr. ECC |\n",
            "| Fan  Temp  Perf  Pwr:Usage/Cap|         Memory-Usage | GPU-Util  Compute M. |\n",
            "|===============================+======================+======================|\n",
            "|   0  Tesla K80           Off  | 00000000:00:04.0 Off |                    0 |\n",
            "| N/A   57C    P0    59W / 149W |     69MiB / 11441MiB |      0%      Default |\n",
            "+-------------------------------+----------------------+----------------------+\n",
            "                                                                               \n",
            "+-----------------------------------------------------------------------------+\n",
            "| Processes:                                                       GPU Memory |\n",
            "|  GPU       PID   Type   Process name                             Usage      |\n",
            "|=============================================================================|\n",
            "+-----------------------------------------------------------------------------+\n"
          ],
          "name": "stdout"
        }
      ]
    },
    {
      "cell_type": "code",
      "metadata": {
        "colab_type": "code",
        "id": "PqalzDXr3OiQ",
        "colab": {}
      },
      "source": [
        "# different from TF 1, everything gets executed immediately \n",
        "assert tf.executing_eagerly()"
      ],
      "execution_count": 0,
      "outputs": []
    },
    {
      "cell_type": "markdown",
      "metadata": {
        "colab_type": "text",
        "id": "iZgqH7oOh73-"
      },
      "source": [
        "## Transforming an input to a known output"
      ]
    },
    {
      "cell_type": "code",
      "metadata": {
        "colab_type": "code",
        "id": "VsTh2muvh8vi",
        "colab": {}
      },
      "source": [
        "input = [[-1], [0], [1], [2], [3], [4]]\n",
        "output = [[2], [1], [0], [-1], [-2], [-3]]"
      ],
      "execution_count": 0,
      "outputs": []
    },
    {
      "cell_type": "code",
      "metadata": {
        "colab_type": "code",
        "id": "WJ70YqfqiBrt",
        "outputId": "ee688e7d-c5ac-4826-c6bb-dca36d28bb14",
        "colab": {
          "base_uri": "https://localhost:8080/",
          "height": 300
        }
      },
      "source": [
        "import matplotlib.pyplot as plt\n",
        "\n",
        "plt.xlabel('input')\n",
        "plt.ylabel('output')\n",
        "\n",
        "plt.plot(input, output, 'ro')"
      ],
      "execution_count": 0,
      "outputs": [
        {
          "output_type": "execute_result",
          "data": {
            "text/plain": [
              "[<matplotlib.lines.Line2D at 0x7f308015d470>]"
            ]
          },
          "metadata": {
            "tags": []
          },
          "execution_count": 9
        },
        {
          "output_type": "display_data",
          "data": {
            "image/png": "[encoded data removed]",
            "text/plain": [
              "<Figure size 432x288 with 1 Axes>"
            ]
          },
          "metadata": {
            "tags": []
          }
        }
      ]
    },
    {
      "cell_type": "markdown",
      "metadata": {
        "colab_type": "text",
        "id": "IVyyWLjeiPU0"
      },
      "source": [
        "### relation between input and output is linear"
      ]
    },
    {
      "cell_type": "code",
      "metadata": {
        "colab_type": "code",
        "id": "XBljtpGIiCOj",
        "outputId": "8c2eb6aa-e47f-482f-d9b2-f895bc808e4e",
        "colab": {
          "base_uri": "https://localhost:8080/",
          "height": 286
        }
      },
      "source": [
        "plt.plot(input, output)\n",
        "plt.plot(input, output, 'ro')"
      ],
      "execution_count": 0,
      "outputs": [
        {
          "output_type": "execute_result",
          "data": {
            "text/plain": [
              "[<matplotlib.lines.Line2D at 0x7f308ca81c18>]"
            ]
          },
          "metadata": {
            "tags": []
          },
          "execution_count": 10
        },
        {
          "output_type": "display_data",
          "data": {
            "image/png": "[encoded data removed]",
            "text/plain": [
              "<Figure size 432x288 with 1 Axes>"
            ]
          },
          "metadata": {
            "tags": []
          }
        }
      ]
    },
    {
      "cell_type": "markdown",
      "metadata": {
        "colab_type": "text",
        "id": "WKxxou9oirbE"
      },
      "source": [
        "## Defining the model to train\n",
        "\n",
        "untrained single unit (neuron) also outputs a line from same input, although another one \n",
        "\n",
        "### The Artificial Neuron: Foundation of Deep Neural Networks (simplified, more later)\n",
        "\n",
        "* a neuron takes a number of numerical inputs\n",
        "* multiplies each with a weight, sums up all weighted input and  \n",
        "* adds bias (constant) to that sum\n",
        "* from this it creates a single numerical output\n",
        "* for one input (one dimension) this would be a description of a line\n",
        "* for more dimensions this describes a hyper plane that can serve as a decision boundary\n",
        "* this is typically expressed as a matrix multplication plus an addition\n",
        "\n",
        "\n",
        "<img src='https://djcordhose.github.io/ai/img/insurance/neuron211.jpg'>"
      ]
    },
    {
      "cell_type": "markdown",
      "metadata": {
        "colab_type": "text",
        "id": "O6oo7hM_0pv5"
      },
      "source": [
        "### This can be expressed using a matrix multiplication"
      ]
    },
    {
      "cell_type": "code",
      "metadata": {
        "colab_type": "code",
        "id": "7h8MQieO0vay",
        "outputId": "d20d727d-33d8-472b-b992-4811d14c2792",
        "colab": {
          "base_uri": "https://localhost:8080/",
          "height": 68
        }
      },
      "source": [
        "%%time \n",
        "\n",
        "# parameters of the neuron (can be learned), defining the function to apply\n",
        "w = tf.constant([[1.5], [-2], [1]], dtype='float32')\n",
        "b = tf.constant([6], dtype='float32')\n",
        "\n",
        "# variable input being fed through the parameterized neuron\n",
        "x = tf.constant([[10, 6, 8]], dtype='float32')\n",
        "\n",
        "# computed output\n",
        "y = tf.matmul(x, w) + b\n",
        "print(y)"
      ],
      "execution_count": 0,
      "outputs": [
        {
          "output_type": "stream",
          "text": [
            "tf.Tensor([[17.]], shape=(1, 1), dtype=float32)\n",
            "CPU times: user 401 ms, sys: 218 ms, total: 619 ms\n",
            "Wall time: 588 ms\n"
          ],
          "name": "stdout"
        }
      ]
    },
    {
      "cell_type": "markdown",
      "metadata": {
        "id": "yvlfhLSP78IZ",
        "colab_type": "text"
      },
      "source": [
        "# Hands-On: Experiment with our neuron\n",
        "\n",
        "* execute the notebook up to this cell\n",
        "* change the values of the input, weights and bias in the cell above\n",
        "* restart the calculation and make sure the result meets your expectations"
      ]
    },
    {
      "cell_type": "markdown",
      "metadata": {
        "colab_type": "text",
        "id": "IGylP_16koS6"
      },
      "source": [
        "### Defining a layer with a random number of neurons and inputs\n",
        "\n",
        "With a little more work this would be a complete implementation of a fully connected layer\n",
        "\n"
      ]
    },
    {
      "cell_type": "code",
      "metadata": {
        "colab_type": "code",
        "id": "aMCDcq4JelaE",
        "outputId": "4c59b360-bcff-49a4-b0e6-ce4355b51681",
        "colab": {
          "base_uri": "https://localhost:8080/",
          "height": 51
        }
      },
      "source": [
        "from tensorflow.keras.layers import Layer\n",
        "\n",
        "# we derive from a TensorFlow Layer\n",
        "class LinearLayer(Layer):\n",
        "  \"\"\"y = w.x + b\"\"\"\n",
        "\n",
        "  # initializing our layer\n",
        "  def __init__(self, units=1, input_dim=1):\n",
        "      super(LinearLayer, self).__init__()\n",
        "      # these are our weights, which can be learned, initialized normally around 0 with stddev of 2\n",
        "      self.w = tf.Variable(\n",
        "          initial_value = tf.random_normal_initializer(stddev=2)(shape=(input_dim, units), dtype='float32'),\n",
        "          trainable=True,\n",
        "          name='weights')\n",
        "      # these are our bisases, also can be learned, initialized as 0\n",
        "      self.b = tf.Variable(\n",
        "          initial_value = tf.zeros_initializer()(shape=(units,), dtype='float32'),\n",
        "          trainable=True,\n",
        "          name='biases')\n",
        "\n",
        "  # what the layer does (some as in our example before)\n",
        "  def call(self, inputs):\n",
        "      return tf.matmul(inputs, self.w) + self.b\n",
        "    \n",
        "# just one neuron and one input (but could be as many as we like)    \n",
        "linear_layer = LinearLayer()\n",
        "linear_layer.trainable_variables"
      ],
      "execution_count": 0,
      "outputs": [
        {
          "output_type": "execute_result",
          "data": {
            "text/plain": [
              "[<tf.Variable 'weights:0' shape=(1, 1) dtype=float32, numpy=array([[-1.203537]], dtype=float32)>,\n",
              " <tf.Variable 'biases:0' shape=(1,) dtype=float32, numpy=array([0.], dtype=float32)>]"
            ]
          },
          "metadata": {
            "tags": []
          },
          "execution_count": 12
        }
      ]
    },
    {
      "cell_type": "markdown",
      "metadata": {
        "colab_type": "text",
        "id": "IlrodnQbkmXZ"
      },
      "source": [
        "### Output of a single untrained neuron"
      ]
    },
    {
      "cell_type": "code",
      "metadata": {
        "id": "fNAOTMN6-lWR",
        "colab_type": "code",
        "outputId": "58f62d29-e225-48bb-e880-293475984635",
        "colab": {
          "base_uri": "https://localhost:8080/",
          "height": 34
        }
      },
      "source": [
        "input"
      ],
      "execution_count": 0,
      "outputs": [
        {
          "output_type": "execute_result",
          "data": {
            "text/plain": [
              "[[-1], [0], [1], [2], [3], [4]]"
            ]
          },
          "metadata": {
            "tags": []
          },
          "execution_count": 13
        }
      ]
    },
    {
      "cell_type": "code",
      "metadata": {
        "id": "kJyX3Ryk-4S1",
        "colab_type": "code",
        "outputId": "e8aa5bf4-ce27-455e-cc67-95f0d91021b2",
        "colab": {
          "base_uri": "https://localhost:8080/",
          "height": 136
        }
      },
      "source": [
        "# x and y are typically names for input and output in machine learning\n",
        "x = tf.constant(input, dtype=tf.float32)\n",
        "x"
      ],
      "execution_count": 0,
      "outputs": [
        {
          "output_type": "execute_result",
          "data": {
            "text/plain": [
              "<tf.Tensor: id=32, shape=(6, 1), dtype=float32, numpy=\n",
              "array([[-1.],\n",
              "       [ 0.],\n",
              "       [ 1.],\n",
              "       [ 2.],\n",
              "       [ 3.],\n",
              "       [ 4.]], dtype=float32)>"
            ]
          },
          "metadata": {
            "tags": []
          },
          "execution_count": 14
        }
      ]
    },
    {
      "cell_type": "code",
      "metadata": {
        "id": "_pdSw2Bd-nZR",
        "colab_type": "code",
        "outputId": "5a75bc38-ffd2-4096-e887-2f02a123a201",
        "colab": {
          "base_uri": "https://localhost:8080/",
          "height": 34
        }
      },
      "source": [
        "output"
      ],
      "execution_count": 0,
      "outputs": [
        {
          "output_type": "execute_result",
          "data": {
            "text/plain": [
              "[[2], [1], [0], [-1], [-2], [-3]]"
            ]
          },
          "metadata": {
            "tags": []
          },
          "execution_count": 15
        }
      ]
    },
    {
      "cell_type": "code",
      "metadata": {
        "colab_type": "code",
        "id": "d1FpEmPgjM76",
        "outputId": "898b5213-6cc0-402b-da11-cbfba016729a",
        "colab": {
          "base_uri": "https://localhost:8080/",
          "height": 136
        }
      },
      "source": [
        "y_true = tf.constant(output, dtype=tf.float32)\n",
        "y_true"
      ],
      "execution_count": 0,
      "outputs": [
        {
          "output_type": "execute_result",
          "data": {
            "text/plain": [
              "<tf.Tensor: id=33, shape=(6, 1), dtype=float32, numpy=\n",
              "array([[ 2.],\n",
              "       [ 1.],\n",
              "       [ 0.],\n",
              "       [-1.],\n",
              "       [-2.],\n",
              "       [-3.]], dtype=float32)>"
            ]
          },
          "metadata": {
            "tags": []
          },
          "execution_count": 16
        }
      ]
    },
    {
      "cell_type": "code",
      "metadata": {
        "colab_type": "code",
        "id": "wJaw2t3ef7Xl",
        "outputId": "b3f9eced-d842-48a0-81ec-459876ac189f",
        "colab": {
          "base_uri": "https://localhost:8080/",
          "height": 136
        }
      },
      "source": [
        "# we use our layer from above to make a prediction for x\n",
        "y_pred = linear_layer(x)\n",
        "y_pred"
      ],
      "execution_count": 0,
      "outputs": [
        {
          "output_type": "execute_result",
          "data": {
            "text/plain": [
              "<tf.Tensor: id=37, shape=(6, 1), dtype=float32, numpy=\n",
              "array([[ 1.203537],\n",
              "       [ 0.      ],\n",
              "       [-1.203537],\n",
              "       [-2.407074],\n",
              "       [-3.610611],\n",
              "       [-4.814148]], dtype=float32)>"
            ]
          },
          "metadata": {
            "tags": []
          },
          "execution_count": 17
        }
      ]
    },
    {
      "cell_type": "code",
      "metadata": {
        "id": "Z1mZyZb__CpC",
        "colab_type": "code",
        "outputId": "c6b71d59-c5a7-4677-87ec-296a23526711",
        "colab": {
          "base_uri": "https://localhost:8080/",
          "height": 136
        }
      },
      "source": [
        "# obviously we are really off (no wonder as the parameters are just random)\n",
        "y_true - y_pred"
      ],
      "execution_count": 0,
      "outputs": [
        {
          "output_type": "execute_result",
          "data": {
            "text/plain": [
              "<tf.Tensor: id=38, shape=(6, 1), dtype=float32, numpy=\n",
              "array([[0.796463],\n",
              "       [1.      ],\n",
              "       [1.203537],\n",
              "       [1.407074],\n",
              "       [1.610611],\n",
              "       [1.814148]], dtype=float32)>"
            ]
          },
          "metadata": {
            "tags": []
          },
          "execution_count": 18
        }
      ]
    },
    {
      "cell_type": "code",
      "metadata": {
        "colab_type": "code",
        "id": "A5no0NPli-dh",
        "outputId": "f29f0563-7a32-44c3-c5ae-ebe02c3533fd",
        "colab": {
          "base_uri": "https://localhost:8080/",
          "height": 286
        }
      },
      "source": [
        "# let's see how off we are\n",
        "plt.plot(x, y_pred)\n",
        "plt.plot(input, output, 'ro')"
      ],
      "execution_count": 0,
      "outputs": [
        {
          "output_type": "execute_result",
          "data": {
            "text/plain": [
              "[<matplotlib.lines.Line2D at 0x7f30800f3b00>]"
            ]
          },
          "metadata": {
            "tags": []
          },
          "execution_count": 19
        },
        {
          "output_type": "display_data",
          "data": {
            "image/png": "[encoded data removed]",
            "text/plain": [
              "<Figure size 432x288 with 1 Axes>"
            ]
          },
          "metadata": {
            "tags": []
          }
        }
      ]
    },
    {
      "cell_type": "markdown",
      "metadata": {
        "id": "tHVkxkc7_zME",
        "colab_type": "text"
      },
      "source": [
        "# Hands-On: Have a layer with more than one neuron\n",
        "\n",
        "* configure our layer to have more neurons\n",
        "* does the example still work?\n",
        "* how does the output of the layer look like?\n",
        "* why?"
      ]
    },
    {
      "cell_type": "code",
      "metadata": {
        "id": "oI3vB7Zu2BdC",
        "colab_type": "code",
        "colab": {}
      },
      "source": [
        "# type your solution here"
      ],
      "execution_count": 0,
      "outputs": []
    },
    {
      "cell_type": "markdown",
      "metadata": {
        "id": "fC736Mys2Er6",
        "colab_type": "text"
      },
      "source": [
        "## Solution"
      ]
    },
    {
      "cell_type": "code",
      "metadata": {
        "id": "28ygA4Xe1bzI",
        "colab_type": "code",
        "outputId": "b9dacee6-a444-4169-ab16-a7abbddf1970",
        "colab": {
          "base_uri": "https://localhost:8080/",
          "height": 286
        }
      },
      "source": [
        "linear_layer = LinearLayer(units=2)\n",
        "y_pred = linear_layer(x)\n",
        "\n",
        "plt.plot(x, y_pred)\n",
        "plt.plot(input, output, 'ro')"
      ],
      "execution_count": 0,
      "outputs": [
        {
          "output_type": "execute_result",
          "data": {
            "text/plain": [
              "[<matplotlib.lines.Line2D at 0x7f30800a5518>]"
            ]
          },
          "metadata": {
            "tags": []
          },
          "execution_count": 21
        },
        {
          "output_type": "display_data",
          "data": {
            "image/png": "[encoded data removed]",
            "text/plain": [
              "<Figure size 432x288 with 1 Axes>"
            ]
          },
          "metadata": {
            "tags": []
          }
        }
      ]
    },
    {
      "cell_type": "markdown",
      "metadata": {
        "colab_type": "text",
        "id": "zAuxRMiMkyX3"
      },
      "source": [
        "# How wrong are we?\n",
        "## Loss - Mean Squared Error\n",
        "\n",
        "Loss function is the prerequisite to training. We need an objective to optimize for. We calculate the difference between what we get as output and what we would like to get.\n",
        "\n",
        "### Mean Squared Error\n",
        "\n",
        "$MSE = {\\frac {1}{n}}\\sum _{i=1}^{n}(Y_{i}-{\\hat {Y_{i}}})^{2}$\n",
        "\n",
        "\n",
        "https://en.wikipedia.org/wiki/Mean_squared_error\n"
      ]
    },
    {
      "cell_type": "code",
      "metadata": {
        "id": "hL9ne6H52cng",
        "colab_type": "code",
        "outputId": "8a3b108d-7160-443a-9ad3-921372d70417",
        "colab": {
          "base_uri": "https://localhost:8080/",
          "height": 286
        }
      },
      "source": [
        "# make sure we have a single neuron\n",
        "linear_layer = LinearLayer()\n",
        "y_pred = linear_layer(x)\n",
        "plt.plot(x, y_pred)\n",
        "plt.plot(input, output, 'ro')"
      ],
      "execution_count": 0,
      "outputs": [
        {
          "output_type": "execute_result",
          "data": {
            "text/plain": [
              "[<matplotlib.lines.Line2D at 0x7f303d84c550>]"
            ]
          },
          "metadata": {
            "tags": []
          },
          "execution_count": 22
        },
        {
          "output_type": "display_data",
          "data": {
            "image/png": "[encoded data removed]",
            "text/plain": [
              "<Figure size 432x288 with 1 Axes>"
            ]
          },
          "metadata": {
            "tags": []
          }
        }
      ]
    },
    {
      "cell_type": "code",
      "metadata": {
        "colab_type": "code",
        "id": "S5qBUY18u2BK",
        "colab": {}
      },
      "source": [
        "# we could also use absolut error which would give less weight to outliers\n",
        "loss_fn = tf.losses.mean_squared_error\n",
        "# loss_fn = tf.losses.mean_absolute_error"
      ],
      "execution_count": 0,
      "outputs": []
    },
    {
      "cell_type": "code",
      "metadata": {
        "colab_type": "code",
        "id": "6DGusRmhk1JU",
        "colab": {}
      },
      "source": [
        "assert tf.keras.losses.mean_squared_error == tf.losses.mean_squared_error"
      ],
      "execution_count": 0,
      "outputs": []
    },
    {
      "cell_type": "code",
      "metadata": {
        "colab_type": "code",
        "id": "pIGGjpC4jdjZ",
        "outputId": "a1801ffd-961e-4067-d914-4a667f8483fa",
        "colab": {
          "base_uri": "https://localhost:8080/",
          "height": 34
        }
      },
      "source": [
        "# how bad is it, really?\n",
        "loss = loss_fn(y_true=tf.squeeze(y_true), y_pred=tf.squeeze(y_pred))\n",
        "print(loss)"
      ],
      "execution_count": 0,
      "outputs": [
        {
          "output_type": "stream",
          "text": [
            "tf.Tensor(13.783732, shape=(), dtype=float32)\n"
          ],
          "name": "stdout"
        }
      ]
    },
    {
      "cell_type": "code",
      "metadata": {
        "id": "k9BRxi4l2kCj",
        "colab_type": "code",
        "outputId": "8491786a-2f73-42e0-9cff-d618020f905d",
        "colab": {
          "base_uri": "https://localhost:8080/",
          "height": 34
        }
      },
      "source": [
        "# mse is not speaking\n",
        "\n",
        "# R^2 score, the closer to 1 the better\n",
        "# loosely speaking: how much better is this than predicting the constant mean\n",
        "# 0 would mean just as good\n",
        "# neg. would mean even worse\n",
        "# it can become arbitrarily worse\n",
        "# https://en.wikipedia.org/wiki/Coefficient_of_determination\n",
        "\n",
        "from sklearn.metrics import r2_score\n",
        "r2 = r2_score(y_true.numpy(), y_pred.numpy())\n",
        "r2"
      ],
      "execution_count": 0,
      "outputs": [
        {
          "output_type": "execute_result",
          "data": {
            "text/plain": [
              "-3.725851117713111"
            ]
          },
          "metadata": {
            "tags": []
          },
          "execution_count": 26
        }
      ]
    },
    {
      "cell_type": "markdown",
      "metadata": {
        "id": "NLXsxuqkB-BN",
        "colab_type": "text"
      },
      "source": [
        "\n",
        "### Backpropagation algorithm\n",
        "\n",
        "1. Predict: Let the network make a prediction \n",
        "1. Calculate the loss: how accurate was the predition\n",
        "1. partial derivations: Find out in which direction to change all parameters to bring down the loss\n",
        "1. Optimizer: Make changes to parameters based on learning rate and other parameters\n"
      ]
    },
    {
      "cell_type": "markdown",
      "metadata": {
        "colab_type": "text",
        "id": "QzcQowwMsZqg"
      },
      "source": [
        "### Loss depends on the trainable variables, in our case two parameters: weight and bias\n",
        "\n",
        "This is how the loss function might change depending on those variables\n",
        "\n",
        "<img src='https://djcordhose.github.io/ai/img/gradients.jpg'>\n",
        "\n",
        "https://twitter.com/colindcarroll/status/1090266016259534848"
      ]
    },
    {
      "cell_type": "code",
      "metadata": {
        "id": "7jkpKqcoB1ma",
        "colab_type": "code",
        "outputId": "ad3f291b-dbe3-4416-ecd3-03660fabed8d",
        "colab": {
          "base_uri": "https://localhost:8080/",
          "height": 51
        }
      },
      "source": [
        "linear_layer.trainable_variables"
      ],
      "execution_count": 0,
      "outputs": [
        {
          "output_type": "execute_result",
          "data": {
            "text/plain": [
              "[<tf.Variable 'weights:0' shape=(1, 1) dtype=float32, numpy=array([[-2.3092268]], dtype=float32)>,\n",
              " <tf.Variable 'biases:0' shape=(1,) dtype=float32, numpy=array([0.], dtype=float32)>]"
            ]
          },
          "metadata": {
            "tags": []
          },
          "execution_count": 27
        }
      ]
    },
    {
      "cell_type": "markdown",
      "metadata": {
        "colab_type": "text",
        "id": "xukGkwFTET56"
      },
      "source": [
        "### For this we need partial derivations\n",
        "\n",
        "TensorFlow offers automatic differentiation: https://www.tensorflow.org/versions/r2.0/api_docs/python/tf/GradientTape\n",
        "\n",
        "* tape will record operations for automatic differentiation\n",
        "* either by making it record explicily (watch) or \n",
        "* by declaring a varible to be trainable (which we did in the layer above) \n",
        "\n"
      ]
    },
    {
      "cell_type": "code",
      "metadata": {
        "id": "ODYIJbadLtkr",
        "colab_type": "code",
        "colab": {}
      },
      "source": [
        "from tensorflow import GradientTape \n",
        "GradientTape?"
      ],
      "execution_count": 0,
      "outputs": []
    },
    {
      "cell_type": "code",
      "metadata": {
        "id": "pr2PjDdwFtui",
        "colab_type": "code",
        "outputId": "e105d3f3-3f17-4e9e-abb8-afdf4b5b62b6",
        "colab": {
          "base_uri": "https://localhost:8080/",
          "height": 139
        }
      },
      "source": [
        "def tape_sample():\n",
        "  with GradientTape() as tape:\n",
        "    a = tf.constant(2.0)\n",
        "    b = tf.constant(1.0)\n",
        "    tape.watch(a)\n",
        "    tape.watch(b)\n",
        "    c = a + b\n",
        "    d = b + 1\n",
        "    f = c * d\n",
        "  print(a, b, c, d, f)\n",
        "  # how is f dependending on the other variables\n",
        "  (df_da, df_db, df_dc, df_dd, df_df) = tape.gradient(f, [a, b, c, d, f])\n",
        "  print(df_da)\n",
        "  print(df_db)\n",
        "  print(df_dc)\n",
        "  print(df_dd)\n",
        "  print(df_df)\n",
        "  \n",
        "# just a function in order not to interfere with x on the global scope  \n",
        "tape_sample()"
      ],
      "execution_count": 0,
      "outputs": [
        {
          "output_type": "stream",
          "text": [
            "tf.Tensor(2.0, shape=(), dtype=float32) tf.Tensor(1.0, shape=(), dtype=float32) tf.Tensor(3.0, shape=(), dtype=float32) tf.Tensor(2.0, shape=(), dtype=float32) tf.Tensor(6.0, shape=(), dtype=float32)\n",
            "tf.Tensor(2.0, shape=(), dtype=float32)\n",
            "tf.Tensor(5.0, shape=(), dtype=float32)\n",
            "tf.Tensor(2.0, shape=(), dtype=float32)\n",
            "tf.Tensor(3.0, shape=(), dtype=float32)\n",
            "tf.Tensor(1.0, shape=(), dtype=float32)\n"
          ],
          "name": "stdout"
        }
      ]
    },
    {
      "cell_type": "markdown",
      "metadata": {
        "id": "qHqyB4sDLud-",
        "colab_type": "text"
      },
      "source": [
        "## How does this work?\n",
        "\n",
        "In a multi layer network the chain rule is used to find out how an intermediate neuron affects the overall error\n",
        "\n",
        "### How does the loss (f) change when changing either a or b?\n",
        "\n",
        "<img src='https://github.com/DJCordhose/ml-workshop/blob/master/notebooks/tf2/img/loss_f_a_b.png?raw=1'>\n",
        "\n",
        "### Calculating df/da\n",
        "\n",
        "<img src='https://github.com/DJCordhose/ml-workshop/blob/master/notebooks/tf2/img/chain_rule_a.png?raw=1'>\n",
        "\n",
        "### Calculating df/db\n",
        "\n",
        "<img src='https://github.com/DJCordhose/ml-workshop/blob/master/notebooks/tf2/img/chain_rule_b.png?raw=1'>\n",
        "\n",
        "https://twitter.com/random_forests\n",
        "\n",
        "https://towardsdatascience.com/back-propagation-demystified-in-7-minutes-4294d71a04d7\n",
        "\n"
      ]
    },
    {
      "cell_type": "markdown",
      "metadata": {
        "id": "bUIejU8hJNdU",
        "colab_type": "text"
      },
      "source": [
        "# Hands-On: Work through the above example\n",
        "\n",
        "* above you see the calculation of df/da and df/db\n",
        "* make sure you understand how it is composed based on the different rules you see on the left side\n",
        "* make changes to variables and how they are computed and make sure you will understand the results\n",
        "* if you understand what is going on, help your neighbors"
      ]
    },
    {
      "cell_type": "markdown",
      "metadata": {
        "colab_type": "text",
        "id": "BlVOagySSwyO"
      },
      "source": [
        "## Training\n",
        "\n",
        "https://twitter.com/fchollet/status/1132013928681050113"
      ]
    },
    {
      "cell_type": "code",
      "metadata": {
        "colab_type": "code",
        "id": "V36dlfViTMZR",
        "outputId": "6caf6cac-8646-4539-824b-3c7c2ab13f60",
        "colab": {
          "base_uri": "https://localhost:8080/",
          "height": 51
        }
      },
      "source": [
        "linear_layer = LinearLayer()\n",
        "linear_layer.w, linear_layer.b"
      ],
      "execution_count": 0,
      "outputs": [
        {
          "output_type": "execute_result",
          "data": {
            "text/plain": [
              "(<tf.Variable 'weights:0' shape=(1, 1) dtype=float32, numpy=array([[0.58005446]], dtype=float32)>,\n",
              " <tf.Variable 'biases:0' shape=(1,) dtype=float32, numpy=array([0.], dtype=float32)>)"
            ]
          },
          "metadata": {
            "tags": []
          },
          "execution_count": 30
        }
      ]
    },
    {
      "cell_type": "code",
      "metadata": {
        "colab_type": "code",
        "id": "WbTfKBTMTm1B",
        "outputId": "09dcfc03-abf7-4b4a-b17d-b76dec653552",
        "colab": {
          "base_uri": "https://localhost:8080/",
          "height": 51
        }
      },
      "source": [
        "linear_layer.trainable_weights"
      ],
      "execution_count": 0,
      "outputs": [
        {
          "output_type": "execute_result",
          "data": {
            "text/plain": [
              "[<tf.Variable 'weights:0' shape=(1, 1) dtype=float32, numpy=array([[0.58005446]], dtype=float32)>,\n",
              " <tf.Variable 'biases:0' shape=(1,) dtype=float32, numpy=array([0.], dtype=float32)>]"
            ]
          },
          "metadata": {
            "tags": []
          },
          "execution_count": 31
        }
      ]
    },
    {
      "cell_type": "markdown",
      "metadata": {
        "id": "xmx0RXV_Qm5C",
        "colab_type": "text"
      },
      "source": [
        "### We follow the backpropagation algorithm from above\n",
        "\n",
        "1. Predict: Let the network make a prediction \n",
        "1. Calculate the loss: how accurate was the predition\n",
        "1. partial derivations: Find out in which direction to change all parameters to bring down the loss\n",
        "1. Optimizer: Make changes to parameters based on learning rate and other parameters\n"
      ]
    },
    {
      "cell_type": "markdown",
      "metadata": {
        "id": "jeVGUldCA12W",
        "colab_type": "text"
      },
      "source": [
        "### Job of the optimizer: Minimize Loss by changing parameters of neuron \n",
        "\n",
        "<img src='https://djcordhose.github.io/ai/img/manning/optimizer.png' height=500>"
      ]
    },
    {
      "cell_type": "markdown",
      "metadata": {
        "id": "F6eu8owGF_G3",
        "colab_type": "text"
      },
      "source": [
        "### Applying backprop to a complex network\n",
        "\n",
        "<img src='https://github.com/DJCordhose/ml-workshop/blob/master/notebooks/tf2/img/backprop.png?raw=1'>\n",
        "\n",
        "From https://google-developers.appspot.com/machine-learning/crash-course/backprop-scroll/\n",
        "\n",
        "More resources to understand back propagation\n",
        "* Mathematical\n",
        "  * http://cs231n.github.io/optimization-2/\n",
        "  * http://neuralnetworksanddeeplearning.com/chap2.html\n",
        "* Intuitive: http://colah.github.io/posts/2015-08-Backprop/\n",
        "* Maths basics: https://www.mathsisfun.com/calculus/derivatives-rules.html  "
      ]
    },
    {
      "cell_type": "code",
      "metadata": {
        "colab_type": "code",
        "id": "B988o-LuC2wf",
        "colab": {}
      },
      "source": [
        "linear_layer = LinearLayer()\n",
        "\n",
        "EPOCHS = 500\n",
        "learning_rate = 1e-2\n",
        "\n",
        "losses = []"
      ],
      "execution_count": 0,
      "outputs": []
    },
    {
      "cell_type": "code",
      "metadata": {
        "id": "CZUySXYNScOx",
        "colab_type": "code",
        "colab": {}
      },
      "source": [
        "for step in range(EPOCHS):\n",
        "  with tf.GradientTape() as tape:\n",
        "\n",
        "    # forward pass, all data\n",
        "    # often we do not use all data to calculate the loss, but only a certain fraction, called the batch\n",
        "    # you could also push data through one by one, being an extreme version of a batched approached\n",
        "    # in our case we use all the data we have and calculate the combined error\n",
        "    y_pred = linear_layer(x)\n",
        "\n",
        "    # loss for this batch\n",
        "    loss = loss_fn(y_true=tf.squeeze(y_true), y_pred=tf.squeeze(y_pred))\n",
        "    \n",
        "  # just for logging\n",
        "  losses.append(loss)\n",
        "\n",
        "  # get gradients of weights wrt the loss\n",
        "  (dw, db) = tape.gradient(loss, linear_layer.trainable_weights)\n",
        "  \n",
        "  # optimizer: backward pass, changing trainable weights in the direction of the mimimum\n",
        "  linear_layer.w.assign_sub(learning_rate * dw)\n",
        "  linear_layer.b.assign_sub(learning_rate * db)"
      ],
      "execution_count": 0,
      "outputs": []
    },
    {
      "cell_type": "code",
      "metadata": {
        "colab_type": "code",
        "id": "dnapizSr1ufF",
        "outputId": "c879472c-8e17-4094-b52a-f81f2ec02c68",
        "colab": {
          "base_uri": "https://localhost:8080/",
          "height": 34
        }
      },
      "source": [
        "print(loss)"
      ],
      "execution_count": 0,
      "outputs": [
        {
          "output_type": "stream",
          "text": [
            "tf.Tensor(7.528296e-05, shape=(), dtype=float32)\n"
          ],
          "name": "stdout"
        }
      ]
    },
    {
      "cell_type": "code",
      "metadata": {
        "colab_type": "code",
        "id": "HVU5pKnVxvch",
        "outputId": "542315fe-ba79-4de9-dc78-2f42b96a5056",
        "colab": {
          "base_uri": "https://localhost:8080/",
          "height": 300
        }
      },
      "source": [
        "plt.xlabel('epochs')\n",
        "plt.ylabel('loss')\n",
        "\n",
        "# plt.yscale('log')\n",
        "\n",
        "plt.plot(losses)"
      ],
      "execution_count": 0,
      "outputs": [
        {
          "output_type": "execute_result",
          "data": {
            "text/plain": [
              "[<matplotlib.lines.Line2D at 0x7f3035316b00>]"
            ]
          },
          "metadata": {
            "tags": []
          },
          "execution_count": 35
        },
        {
          "output_type": "display_data",
          "data": {
            "image/png": "[encoded data removed]",
            "text/plain": [
              "<Figure size 432x288 with 1 Axes>"
            ]
          },
          "metadata": {
            "tags": []
          }
        }
      ]
    },
    {
      "cell_type": "markdown",
      "metadata": {
        "colab_type": "text",
        "id": "PCTnMgCh1ala"
      },
      "source": [
        "### Line drawn by neuron after training\n",
        "\n",
        "* result after training is not perfect, but almost looks like the same line\n",
        "* https://en.wikipedia.org/wiki/Linear_equation#Slope%E2%80%93intercept_form\n"
      ]
    },
    {
      "cell_type": "code",
      "metadata": {
        "colab_type": "code",
        "id": "WDwLh7RP1alX",
        "outputId": "e75f0233-cbc0-48f9-c99a-9b3a51c14a11",
        "colab": {
          "base_uri": "https://localhost:8080/",
          "height": 136
        }
      },
      "source": [
        "y_pred = linear_layer(x)\n",
        "y_pred"
      ],
      "execution_count": 0,
      "outputs": [
        {
          "output_type": "execute_result",
          "data": {
            "text/plain": [
              "<tf.Tensor: id=20329, shape=(6, 1), dtype=float32, numpy=\n",
              "array([[ 1.9849561 ],\n",
              "       [ 0.9886251 ],\n",
              "       [-0.00770593],\n",
              "       [-1.0040369 ],\n",
              "       [-2.000368  ],\n",
              "       [-2.996699  ]], dtype=float32)>"
            ]
          },
          "metadata": {
            "tags": []
          },
          "execution_count": 36
        }
      ]
    },
    {
      "cell_type": "code",
      "metadata": {
        "id": "10C1pBFuUsw7",
        "colab_type": "code",
        "outputId": "91deed86-0fd1-4454-aba0-01c407549497",
        "colab": {
          "base_uri": "https://localhost:8080/",
          "height": 136
        }
      },
      "source": [
        "y_pred - y_true"
      ],
      "execution_count": 0,
      "outputs": [
        {
          "output_type": "execute_result",
          "data": {
            "text/plain": [
              "<tf.Tensor: id=20330, shape=(6, 1), dtype=float32, numpy=\n",
              "array([[-0.01504385],\n",
              "       [-0.01137489],\n",
              "       [-0.00770593],\n",
              "       [-0.0040369 ],\n",
              "       [-0.00036812],\n",
              "       [ 0.00330091]], dtype=float32)>"
            ]
          },
          "metadata": {
            "tags": []
          },
          "execution_count": 37
        }
      ]
    },
    {
      "cell_type": "code",
      "metadata": {
        "colab_type": "code",
        "id": "D6IsHQhf1alP",
        "outputId": "e478745a-5dae-424e-87bc-11d88361fec4",
        "colab": {
          "base_uri": "https://localhost:8080/",
          "height": 286
        }
      },
      "source": [
        "plt.plot(x, y_pred)\n",
        "plt.plot(input, output, 'ro')"
      ],
      "execution_count": 0,
      "outputs": [
        {
          "output_type": "execute_result",
          "data": {
            "text/plain": [
              "[<matplotlib.lines.Line2D at 0x7f303d7f8ac8>]"
            ]
          },
          "metadata": {
            "tags": []
          },
          "execution_count": 38
        },
        {
          "output_type": "display_data",
          "data": {
            "image/png": "[encoded data removed]",
            "text/plain": [
              "<Figure size 432x288 with 1 Axes>"
            ]
          },
          "metadata": {
            "tags": []
          }
        }
      ]
    },
    {
      "cell_type": "code",
      "metadata": {
        "colab_type": "code",
        "id": "FtRUMsQf1alI",
        "outputId": "3699fc11-6ea0-446d-f6bc-666d65f5f3e6",
        "colab": {
          "base_uri": "https://localhost:8080/",
          "height": 51
        }
      },
      "source": [
        "# single neuron and single input: one weight and one bias\n",
        "# slope m ~ -1 = weight\n",
        "# y-axis offset y0 ~ 1 = bias\n",
        "# https://en.wikipedia.org/wiki/Linear_equation#Slope%E2%80%93intercept_form\n",
        "\n",
        "linear_layer.w, linear_layer.b"
      ],
      "execution_count": 0,
      "outputs": [
        {
          "output_type": "execute_result",
          "data": {
            "text/plain": [
              "(<tf.Variable 'weights:0' shape=(1, 1) dtype=float32, numpy=array([[-0.99633104]], dtype=float32)>,\n",
              " <tf.Variable 'biases:0' shape=(1,) dtype=float32, numpy=array([0.9886251], dtype=float32)>)"
            ]
          },
          "metadata": {
            "tags": []
          },
          "execution_count": 39
        }
      ]
    },
    {
      "cell_type": "code",
      "metadata": {
        "id": "SR4EZXRs4yqQ",
        "colab_type": "code",
        "outputId": "d9fbdc6d-b3f1-48a8-9e9a-1f98f934d440",
        "colab": {
          "base_uri": "https://localhost:8080/",
          "height": 34
        }
      },
      "source": [
        "# this should be pretty close to 1\n",
        "r2 = r2_score(y_true.numpy(), y_pred.numpy())\n",
        "r2"
      ],
      "execution_count": 0,
      "outputs": [
        {
          "output_type": "execute_result",
          "data": {
            "text/plain": [
              "0.9999747191377018"
            ]
          },
          "metadata": {
            "tags": []
          },
          "execution_count": 40
        }
      ]
    },
    {
      "cell_type": "markdown",
      "metadata": {
        "id": "ZHOKTWIvU-sd",
        "colab_type": "text"
      },
      "source": [
        "# Hands-On: Train your model to good results\n",
        "\n",
        "* with the cells above check that the variables are reasonably close to what we know this is right\n",
        "* understand that this is not an option your normally have\n",
        "* train for more epochs to see how close you can get to the true result"
      ]
    },
    {
      "cell_type": "markdown",
      "metadata": {
        "colab_type": "text",
        "id": "vbOJfrtgDQiM"
      },
      "source": [
        "### Prebuilt Optimizers do this job (but a bit more efficient and sohpisticated)\n",
        "\n",
        "* http://cs231n.github.io/optimization-1/\n",
        "* http://cs231n.github.io/neural-networks-3/#update\n",
        "* How they sound: http://blog.christianperone.com/2019/08/listening-to-the-neural-network-gradient-norms-during-training/"
      ]
    },
    {
      "cell_type": "code",
      "metadata": {
        "colab_type": "code",
        "id": "eD2YbeHdDM9y",
        "colab": {}
      },
      "source": [
        "optimizer = tf.keras.optimizers.SGD(learning_rate=1e-2)"
      ],
      "execution_count": 0,
      "outputs": []
    },
    {
      "cell_type": "code",
      "metadata": {
        "colab_type": "code",
        "id": "cEuzqGgktmut",
        "colab": {}
      },
      "source": [
        "EPOCHS = 500\n",
        "\n",
        "losses = []\n",
        "\n",
        "linear_layer = LinearLayer()\n",
        "\n",
        "for step in range(EPOCHS):\n",
        "  with tf.GradientTape() as tape:\n",
        "\n",
        "    # Forward pass.\n",
        "    y_pred = linear_layer(x)\n",
        "\n",
        "    # Loss value for this batch.\n",
        "    loss = loss_fn(y_true=tf.squeeze(y_true), y_pred=tf.squeeze(y_pred))\n",
        "    \n",
        "  losses.append(loss)\n",
        "     \n",
        "  # Get gradients of weights wrt the loss.\n",
        "  gradients = tape.gradient(loss, linear_layer.trainable_weights)\n",
        "  \n",
        "  # Update the weights of our linear layer.\n",
        "  optimizer.apply_gradients(zip(gradients, linear_layer.trainable_weights))"
      ],
      "execution_count": 0,
      "outputs": []
    },
    {
      "cell_type": "code",
      "metadata": {
        "colab_type": "code",
        "id": "cqA4saqR0kbq",
        "outputId": "c5f5e8f0-cf12-4f79-bcb7-1705bcfc3cc1",
        "colab": {
          "base_uri": "https://localhost:8080/",
          "height": 302
        }
      },
      "source": [
        "plt.yscale('log')\n",
        "plt.ylabel(\"loss\")\n",
        "plt.xlabel(\"epochs\")\n",
        "\n",
        "plt.plot(losses)"
      ],
      "execution_count": 0,
      "outputs": [
        {
          "output_type": "execute_result",
          "data": {
            "text/plain": [
              "[<matplotlib.lines.Line2D at 0x7f30351f1470>]"
            ]
          },
          "metadata": {
            "tags": []
          },
          "execution_count": 43
        },
        {
          "output_type": "display_data",
          "data": {
            "image/png": "[encoded data removed]",
            "text/plain": [
              "<Figure size 432x288 with 1 Axes>"
            ]
          },
          "metadata": {
            "tags": []
          }
        }
      ]
    },
    {
      "cell_type": "code",
      "metadata": {
        "colab_type": "code",
        "id": "uAQ-LCTW2KkH",
        "outputId": "dd442534-3161-432c-da9d-fd2a511c7060",
        "colab": {
          "base_uri": "https://localhost:8080/",
          "height": 303
        }
      },
      "source": [
        "y_pred = linear_layer(x)\n",
        "plt.plot(x, y_pred)\n",
        "plt.plot(input, output, 'ro')\n",
        "linear_layer.trainable_weights"
      ],
      "execution_count": 0,
      "outputs": [
        {
          "output_type": "execute_result",
          "data": {
            "text/plain": [
              "[<tf.Variable 'weights:0' shape=(1, 1) dtype=float32, numpy=array([[-0.99769986]], dtype=float32)>,\n",
              " <tf.Variable 'biases:0' shape=(1,) dtype=float32, numpy=array([0.99286866], dtype=float32)>]"
            ]
          },
          "metadata": {
            "tags": []
          },
          "execution_count": 44
        },
        {
          "output_type": "display_data",
          "data": {
            "image/png": "[encoded data removed]",
            "text/plain": [
              "<Figure size 432x288 with 1 Axes>"
            ]
          },
          "metadata": {
            "tags": []
          }
        }
      ]
    },
    {
      "cell_type": "markdown",
      "metadata": {
        "colab_type": "text",
        "id": "dWIMUIQZObYK"
      },
      "source": [
        "## More data points, more noisy"
      ]
    },
    {
      "cell_type": "code",
      "metadata": {
        "colab_type": "code",
        "id": "Wq0pg9TvOa0k",
        "outputId": "a0f0b59d-a755-4394-955a-010445003dfd",
        "colab": {
          "base_uri": "https://localhost:8080/"
        }
      },
      "source": [
        "import numpy as np\n",
        "\n",
        "a = -1\n",
        "b = 1\n",
        "n = 50\n",
        "noise = 0.1\n",
        "\n",
        "\n",
        "x = tf.constant(np.random.uniform(0, 1, n), dtype='float32')\n",
        "y = tf.constant(a*x+b + np.random.normal(0, noise, n), dtype='float32')\n",
        "\n",
        "plt.scatter(x, y)"
      ],
      "execution_count": 0,
      "outputs": [
        {
          "output_type": "execute_result",
          "data": {
            "text/plain": [
              "<matplotlib.collections.PathCollection at 0x7f3034fe1710>"
            ]
          },
          "metadata": {
            "tags": []
          },
          "execution_count": 45
        },
        {
          "output_type": "display_data",
          "data": {
            "image/png": "[encoded data removed]",
            "text/plain": [
              "<Figure size 432x288 with 1 Axes>"
            ]
          },
          "metadata": {
            "tags": []
          }
        }
      ]
    },
    {
      "cell_type": "code",
      "metadata": {
        "colab_type": "code",
        "id": "HZOMvTFwR0gv",
        "colab": {}
      },
      "source": [
        "x = tf.reshape(x, (n, 1))\n",
        "y_true = tf.reshape(y, (n, 1))"
      ],
      "execution_count": 0,
      "outputs": []
    },
    {
      "cell_type": "code",
      "metadata": {
        "colab_type": "code",
        "id": "wvSwOhsbu3Rm",
        "outputId": "5bacc06e-242a-4bdc-90f0-0bd83a241383",
        "colab": {
          "base_uri": "https://localhost:8080/"
        }
      },
      "source": [
        "linear_layer = LinearLayer()\n",
        "\n",
        "a = linear_layer.w.numpy()[0][0]\n",
        "b = linear_layer.b.numpy()[0]\n",
        "\n",
        "def plot_line(a, b, x, y_true):\n",
        "  fig, ax = plt.subplots()\n",
        "  y_pred = a * x + b\n",
        "  \n",
        "  line = ax.plot(x, y_pred)\n",
        "  ax.plot(x, y_true, 'ro')\n",
        "  return fig, line\n",
        "\n",
        "plot_line(a, b, x, y_true)"
      ],
      "execution_count": 0,
      "outputs": [
        {
          "output_type": "execute_result",
          "data": {
            "text/plain": [
              "(<Figure size 432x288 with 1 Axes>,\n",
              " [<matplotlib.lines.Line2D at 0x7f3034f35ba8>])"
            ]
          },
          "metadata": {
            "tags": []
          },
          "execution_count": 47
        },
        {
          "output_type": "display_data",
          "data": {
            "image/png": "[encoded data removed]",
            "text/plain": [
              "<Figure size 432x288 with 1 Axes>"
            ]
          },
          "metadata": {
            "tags": []
          }
        }
      ]
    },
    {
      "cell_type": "code",
      "metadata": {
        "colab_type": "code",
        "id": "WW7xVyGVQeLU",
        "colab": {}
      },
      "source": [
        "# the problem is a little bit harder, train for a little bit longer\n",
        "EPOCHS = 2000\n",
        "\n",
        "losses = []\n",
        "\n",
        "# stores intermediate versions of our line\n",
        "lines = []\n",
        "\n",
        "linear_layer = LinearLayer()\n",
        "\n",
        "for step in range(EPOCHS):\n",
        "  # Open a GradientTape.\n",
        "  with tf.GradientTape() as tape:\n",
        "\n",
        "    # Forward pass.\n",
        "    y_pred = linear_layer(x)\n",
        "\n",
        "    # Loss value for this batch.\n",
        "    loss = loss_fn(y_true=tf.squeeze(y_true), y_pred=tf.squeeze(y_pred))\n",
        "    \n",
        "  losses.append(loss)\n",
        "  \n",
        "  a = linear_layer.w.numpy()[0][0]\n",
        "  b = linear_layer.b.numpy()[0]\n",
        "  lines.append((a, b))\n",
        "     \n",
        "  # Get gradients of weights wrt the loss.\n",
        "  gradients = tape.gradient(loss, linear_layer.trainable_weights)\n",
        "  \n",
        "  # Update the weights of our linear layer.\n",
        "  optimizer.apply_gradients(zip(gradients, linear_layer.trainable_weights))"
      ],
      "execution_count": 0,
      "outputs": []
    },
    {
      "cell_type": "code",
      "metadata": {
        "colab_type": "code",
        "id": "073RfK8UQrAT",
        "outputId": "170669c5-0628-41fd-d95a-c6dde16a692c",
        "colab": {
          "base_uri": "https://localhost:8080/"
        }
      },
      "source": [
        "plt.yscale('log')\n",
        "plt.ylabel(\"loss\")\n",
        "plt.xlabel(\"epochs\")\n",
        "\n",
        "plt.plot(losses)"
      ],
      "execution_count": 0,
      "outputs": [
        {
          "output_type": "execute_result",
          "data": {
            "text/plain": [
              "[<matplotlib.lines.Line2D at 0x7f3034ed4f28>]"
            ]
          },
          "metadata": {
            "tags": []
          },
          "execution_count": 49
        },
        {
          "output_type": "display_data",
          "data": {
            "image/png": "[encoded data removed]",
            "text/plain": [
              "<Figure size 432x288 with 1 Axes>"
            ]
          },
          "metadata": {
            "tags": []
          }
        }
      ]
    },
    {
      "cell_type": "markdown",
      "metadata": {
        "colab_type": "text",
        "id": "BJsSFRwCzAfm"
      },
      "source": [
        "### What lines the model draws over time"
      ]
    },
    {
      "cell_type": "markdown",
      "metadata": {
        "colab_type": "text",
        "id": "VHOreJd4VrKm"
      },
      "source": [
        "#### After 0, 500, 100 steps"
      ]
    },
    {
      "cell_type": "code",
      "metadata": {
        "colab_type": "code",
        "id": "s7uTZVaIy2C5",
        "outputId": "8275cc1a-c0b2-4d66-beeb-674f4bc1a36e",
        "colab": {
          "base_uri": "https://localhost:8080/"
        }
      },
      "source": [
        "a, b = lines[0]\n",
        "\n",
        "plot_line(a, b, x, y_true)\n",
        "plt.title('0')"
      ],
      "execution_count": 0,
      "outputs": [
        {
          "output_type": "execute_result",
          "data": {
            "text/plain": [
              "Text(0.5, 1.0, '0')"
            ]
          },
          "metadata": {
            "tags": []
          },
          "execution_count": 50
        },
        {
          "output_type": "display_data",
          "data": {
            "image/png": "[encoded data removed]",
            "text/plain": [
              "<Figure size 432x288 with 1 Axes>"
            ]
          },
          "metadata": {
            "tags": []
          }
        }
      ]
    },
    {
      "cell_type": "code",
      "metadata": {
        "colab_type": "code",
        "id": "EGuY0tV7zCb4",
        "outputId": "a9c95197-f0a9-4516-c14e-b6b0d410280f",
        "colab": {
          "base_uri": "https://localhost:8080/"
        }
      },
      "source": [
        "a, b = lines[500]\n",
        "\n",
        "plot_line(a, b, x, y_true)\n",
        "plt.title('500')"
      ],
      "execution_count": 0,
      "outputs": [
        {
          "output_type": "execute_result",
          "data": {
            "text/plain": [
              "Text(0.5, 1.0, '500')"
            ]
          },
          "metadata": {
            "tags": []
          },
          "execution_count": 51
        },
        {
          "output_type": "display_data",
          "data": {
            "image/png": "[encoded data removed]",
            "text/plain": [
              "<Figure size 432x288 with 1 Axes>"
            ]
          },
          "metadata": {
            "tags": []
          }
        }
      ]
    },
    {
      "cell_type": "code",
      "metadata": {
        "id": "kIH0UloUu8dM",
        "colab_type": "code",
        "outputId": "f524425f-8ff7-4584-e53b-930a7817f873",
        "colab": {
          "base_uri": "https://localhost:8080/"
        }
      },
      "source": [
        "a, b = lines[1000]\n",
        "\n",
        "plot_line(a, b, x, y_true)\n",
        "plt.title('1000')"
      ],
      "execution_count": 0,
      "outputs": [
        {
          "output_type": "execute_result",
          "data": {
            "text/plain": [
              "Text(0.5, 1.0, '1000')"
            ]
          },
          "metadata": {
            "tags": []
          },
          "execution_count": 52
        },
        {
          "output_type": "display_data",
          "data": {
            "image/png": "[encoded data removed]",
            "text/plain": [
              "<Figure size 432x288 with 1 Axes>"
            ]
          },
          "metadata": {
            "tags": []
          }
        }
      ]
    },
    {
      "cell_type": "code",
      "metadata": {
        "colab_type": "code",
        "id": "1Ps9g06MzHtY",
        "outputId": "4c866f18-3019-4d74-f23d-f076525fa54c",
        "colab": {
          "base_uri": "https://localhost:8080/"
        }
      },
      "source": [
        "a, b = lines[1999]\n",
        "\n",
        "plot_line(a, b, x, y_true)\n",
        "plt.title('2000, Final')"
      ],
      "execution_count": 0,
      "outputs": [
        {
          "output_type": "execute_result",
          "data": {
            "text/plain": [
              "Text(0.5, 1.0, '2000, Final')"
            ]
          },
          "metadata": {
            "tags": []
          },
          "execution_count": 53
        },
        {
          "output_type": "display_data",
          "data": {
            "image/png": "[encoded data removed]",
            "text/plain": [
              "<Figure size 432x288 with 1 Axes>"
            ]
          },
          "metadata": {
            "tags": []
          }
        }
      ]
    },
    {
      "cell_type": "markdown",
      "metadata": {
        "id": "SN4OLJNNyHRk",
        "colab_type": "text"
      },
      "source": [
        "# Exercise: Re-Run experiment with more noise\n",
        "\n",
        "* run the cells above and train our model\n",
        "* change the noise of the line and make it less line like\n",
        "* can you still get good training results?\n",
        "* how would you know? how is the loss changing?"
      ]
    },
    {
      "cell_type": "markdown",
      "metadata": {
        "colab_type": "text",
        "id": "axg318pV9GJ3"
      },
      "source": [
        "## Understandinging the effect of activation functions\n",
        "\n",
        "Typically, the output of a neuron is transformed using an activation function which compresses the output to a value between 0 and 1 (sigmoid), or between -1 and 1 (tanh) or sets all negative values to zero (relu).\n",
        "\n",
        "<img src='https://raw.githubusercontent.com/DJCordhose/deep-learning-crash-course-notebooks/master/img/neuron.jpg'>\n",
        "\n",
        "### Typical Activation Functions\n",
        "\n",
        "<img src='https://djcordhose.github.io/ai/img/activation-functions.jpg'>\n"
      ]
    },
    {
      "cell_type": "code",
      "metadata": {
        "colab_type": "code",
        "id": "qTjQQECGVLAm",
        "outputId": "27413ba1-cabe-4bb2-a202-cdb6c66f4cd3",
        "colab": {
          "base_uri": "https://localhost:8080/"
        }
      },
      "source": [
        "x = tf.reshape(tf.constant(tf.range(-1, 4, 0.1)), (50, 1))\n",
        "y_pred = linear_layer(x)\n",
        "\n",
        "plt.figure(figsize=(20, 10))\n",
        "\n",
        "plt.plot(x, y_pred, linewidth=4)\n",
        "\n",
        "y_pred_relu = tf.nn.relu(y_pred)\n",
        "plt.plot(x, y_pred_relu)\n",
        "\n",
        "y_pred_sigmoid = tf.nn.sigmoid(y_pred)\n",
        "plt.plot(x, y_pred_sigmoid)\n",
        "\n",
        "y_pred_tanh = tf.nn.tanh(y_pred)\n",
        "plt.plot(x, y_pred_tanh)\n",
        "\n",
        "plt.plot(input, output, 'ro')\n",
        "\n",
        "plt.legend(['no activation', 'relu', 'sigmoid', 'tanh'])"
      ],
      "execution_count": 0,
      "outputs": [
        {
          "output_type": "execute_result",
          "data": {
            "text/plain": [
              "<matplotlib.legend.Legend at 0x7f3034c7c9b0>"
            ]
          },
          "metadata": {
            "tags": []
          },
          "execution_count": 54
        },
        {
          "output_type": "display_data",
          "data": {
            "image/png": "[encoded data removed]",
            "text/plain": [
              "<Figure size 1440x720 with 1 Axes>"
            ]
          },
          "metadata": {
            "tags": []
          }
        }
      ]
    },
    {
      "cell_type": "markdown",
      "metadata": {
        "colab_type": "text",
        "id": "6CUXuf_xWghl"
      },
      "source": [
        "## Logictic Regression\n",
        "\n",
        "So far we were inferring a continous value for another, now we want to classify. Imagine we have a line that separates two categories in two dimensions."
      ]
    },
    {
      "cell_type": "code",
      "metadata": {
        "colab_type": "code",
        "id": "y0z1ymltS_a7",
        "outputId": "93edfe6d-edf5-4ae1-e9d6-ea6dca6eb821",
        "colab": {
          "base_uri": "https://localhost:8080/",
          "height": 368
        }
      },
      "source": [
        "from matplotlib.colors import ListedColormap\n",
        "\n",
        "a = -1\n",
        "b = 1\n",
        "n = 100\n",
        "\n",
        "# all points\n",
        "X = np.random.uniform(0, 1, (n, 2))\n",
        "\n",
        "# our line\n",
        "line_x = np.random.uniform(0, 1, n)\n",
        "line_y = a*line_x+b\n",
        "plt.plot(line_x, line_y, 'r')\n",
        "\n",
        "# below and above line\n",
        "noise_level = 0.3\n",
        "noise = noise_level * np.random.normal(0, 1, n)\n",
        "y = X[:, 1] > a*X[:, 0]+b + noise\n",
        "y = y.astype(int)\n",
        "\n",
        "plt.xlabel(\"x1\")\n",
        "plt.ylabel(\"x2\")\n",
        "\n",
        "plt.scatter(X[:,0], X[:,1], c=y, cmap=ListedColormap(['#FF6666', '#6666FF']), marker='o', edgecolors='k')\n",
        "y"
      ],
      "execution_count": 0,
      "outputs": [
        {
          "output_type": "execute_result",
          "data": {
            "text/plain": [
              "array([0, 0, 1, 1, 0, 1, 0, 1, 1, 0, 1, 1, 1, 1, 1, 1, 0, 0, 1, 0, 0, 0,\n",
              "       1, 0, 0, 0, 0, 1, 0, 0, 0, 1, 1, 1, 1, 1, 1, 1, 0, 1, 1, 0, 0, 1,\n",
              "       0, 0, 1, 0, 0, 0, 0, 1, 0, 0, 1, 0, 1, 1, 1, 1, 0, 1, 1, 0, 1, 0,\n",
              "       0, 1, 0, 0, 1, 1, 1, 0, 1, 0, 0, 1, 1, 0, 0, 0, 1, 0, 1, 0, 0, 0,\n",
              "       1, 1, 1, 1, 1, 0, 1, 0, 1, 1, 0, 1])"
            ]
          },
          "metadata": {
            "tags": []
          },
          "execution_count": 55
        },
        {
          "output_type": "display_data",
          "data": {
            "image/png": "[encoded data removed]",
            "text/plain": [
              "<Figure size 432x288 with 1 Axes>"
            ]
          },
          "metadata": {
            "tags": []
          }
        }
      ]
    },
    {
      "cell_type": "markdown",
      "metadata": {
        "colab_type": "text",
        "id": "BEDW2lpFXRmn"
      },
      "source": [
        "### We compress output between 0 and 1 using sigmoid to match y\n",
        "* everything below 0.5 counts as 0, everthing above as 1"
      ]
    },
    {
      "cell_type": "code",
      "metadata": {
        "colab_type": "code",
        "id": "tHaML5z9SI6o",
        "colab": {}
      },
      "source": [
        "# sharing initialization from linear layer, but applying sigmoid when called \n",
        "class SigmoidLayer(LinearLayer):\n",
        "  \"\"\"y = sigmoid(w.x + b)\"\"\"\n",
        "\n",
        "  def __init__(self, **kwargs):\n",
        "      super(SigmoidLayer, self).__init__(**kwargs)\n",
        "\n",
        "  def call(self, inputs):\n",
        "      return tf.sigmoid(super().call(inputs))\n"
      ],
      "execution_count": 0,
      "outputs": []
    },
    {
      "cell_type": "markdown",
      "metadata": {
        "colab_type": "text",
        "id": "gZBtAidEYTNO"
      },
      "source": [
        "### We have 2d input now"
      ]
    },
    {
      "cell_type": "code",
      "metadata": {
        "colab_type": "code",
        "id": "a9IjwBVlvnCk",
        "outputId": "570feb06-cc15-4e23-a3bc-e926486cb8a2",
        "colab": {
          "base_uri": "https://localhost:8080/",
          "height": 34
        }
      },
      "source": [
        "x = tf.constant(X, dtype='float32')\n",
        "y_true = tf.constant(y, dtype='float32')\n",
        "x.shape"
      ],
      "execution_count": 0,
      "outputs": [
        {
          "output_type": "execute_result",
          "data": {
            "text/plain": [
              "TensorShape([100, 2])"
            ]
          },
          "metadata": {
            "tags": []
          },
          "execution_count": 57
        }
      ]
    },
    {
      "cell_type": "code",
      "metadata": {
        "colab_type": "code",
        "id": "ycMPuy0ed3Nx",
        "colab": {}
      },
      "source": [
        "model = SigmoidLayer(input_dim=2)"
      ],
      "execution_count": 0,
      "outputs": []
    },
    {
      "cell_type": "markdown",
      "metadata": {
        "colab_type": "text",
        "id": "WLfqyTcecuoo"
      },
      "source": [
        "### Reconsidering the loss function\n",
        "\n",
        "_cross entropy is an alternative to mean squared error_ \n",
        "\n",
        "* cross entropy can be used as an error measure when a network's outputs can be thought of as representing independent hypotheses\n",
        "* activations can be understood as representing the probability that each hypothesis might be true\n",
        "* the loss indicates the distance between what the network believes this distribution should be, and what the teacher says it should be \n",
        "\n",
        "https://en.wikipedia.org/wiki/Cross_entropy \n",
        "\n",
        "http://www.cse.unsw.edu.au/~billw/cs9444/crossentropy.html"
      ]
    },
    {
      "cell_type": "code",
      "metadata": {
        "colab_type": "code",
        "id": "tLFVcOeRd50X",
        "colab": {}
      },
      "source": [
        "loss_fn = tf.losses.binary_crossentropy"
      ],
      "execution_count": 0,
      "outputs": []
    },
    {
      "cell_type": "markdown",
      "metadata": {
        "id": "7ze9d3NkAXmr",
        "colab_type": "text"
      },
      "source": [
        "### Intuition for the learning process\n",
        "\n",
        "_network stretches and folds the paper until it can find a line to separate red from blue_\n",
        "\n",
        "<img src='https://github.com/djcordhose/ml-workshop/blob/master/notebooks/tf2/img/layers.gif?raw=1'>\n",
        "\n",
        "<!-- <img src='img/layer-linear.jpg'> -->\n",
        "\n",
        "https://twitter.com/random_forests/status/1084618439602298881\n",
        "<br>\n",
        "http://colah.github.io/posts/2014-03-NN-Manifolds-Topology/\n",
        "<br>\n",
        "https://cs.stanford.edu/people/karpathy/convnetjs/\n",
        "<br>\n",
        "https://brohrer.github.io/what_nns_learn.html\n"
      ]
    },
    {
      "cell_type": "code",
      "metadata": {
        "colab_type": "code",
        "id": "nLK7C1L9d8Jk",
        "colab": {}
      },
      "source": [
        "# standard optimizer using advanced properties\n",
        "optimizer = tf.keras.optimizers.Adam(learning_rate=1e-1)"
      ],
      "execution_count": 0,
      "outputs": []
    },
    {
      "cell_type": "code",
      "metadata": {
        "colab_type": "code",
        "id": "TVhpXvlld_IG",
        "colab": {}
      },
      "source": [
        "# basic metric for classification: share of correctly predicted samples\n",
        "# https://www.tensorflow.org/versions/r2.0/api_docs/python/tf/metrics/Accuracy\n",
        "m = tf.keras.metrics.Accuracy()"
      ],
      "execution_count": 0,
      "outputs": []
    },
    {
      "cell_type": "code",
      "metadata": {
        "colab_type": "code",
        "id": "7uF1V08yqXi-",
        "outputId": "ac534ccb-82c6-43f3-bbad-6af73d92b7de",
        "colab": {
          "base_uri": "https://localhost:8080/"
        }
      },
      "source": [
        "EPOCHS = 1000\n",
        "\n",
        "losses = []\n",
        "accuracies = []\n",
        "\n",
        "for step in range(EPOCHS):\n",
        "  # Open a GradientTape.\n",
        "  with tf.GradientTape() as tape:\n",
        "\n",
        "    # Forward pass.\n",
        "    y_pred = model(x)\n",
        "\n",
        "    # Loss value for this batch.\n",
        "    loss = loss_fn(y_true=tf.squeeze(y_true), y_pred=tf.squeeze(y_pred))\n",
        "\n",
        "  y_pred_binary = (tf.squeeze(y_pred) > 0.5).numpy().astype(float)\n",
        "  m.update_state(tf.squeeze(y_true), y_pred_binary)\n",
        "  accuracy = m.result()\n",
        "\n",
        "  losses.append(loss)\n",
        "  accuracies.append(accuracy)\n",
        "     \n",
        "  # Get gradients of weights wrt the loss.\n",
        "  gradients = tape.gradient(loss, model.trainable_weights)\n",
        "  \n",
        "  # Update the weights of our linear layer.\n",
        "  optimizer.apply_gradients(zip(gradients, model.trainable_weights))"
      ],
      "execution_count": 0,
      "outputs": [
        {
          "output_type": "stream",
          "text": [
            "WARNING:tensorflow:From /tensorflow-2.0.0-rc0/python3.6/tensorflow_core/python/ops/math_grad.py:1394: where (from tensorflow.python.ops.array_ops) is deprecated and will be removed in a future version.\n",
            "Instructions for updating:\n",
            "Use tf.where in 2.0, which has the same broadcast rule as np.where\n"
          ],
          "name": "stdout"
        }
      ]
    },
    {
      "cell_type": "code",
      "metadata": {
        "colab_type": "code",
        "id": "-asNXUGQ0HTx",
        "outputId": "03f8ec78-5bbc-4f1f-c8bb-63d4ce196bdf",
        "colab": {
          "base_uri": "https://localhost:8080/"
        }
      },
      "source": [
        "print(loss)"
      ],
      "execution_count": 0,
      "outputs": [
        {
          "output_type": "stream",
          "text": [
            "tf.Tensor(0.3297776, shape=(), dtype=float32)\n"
          ],
          "name": "stdout"
        }
      ]
    },
    {
      "cell_type": "code",
      "metadata": {
        "colab_type": "code",
        "id": "-HMbyRAR3qkw",
        "outputId": "2674a16a-eea0-4915-effc-03ff69e1c106",
        "colab": {
          "base_uri": "https://localhost:8080/"
        }
      },
      "source": [
        "print(accuracy)"
      ],
      "execution_count": 0,
      "outputs": [
        {
          "output_type": "stream",
          "text": [
            "tf.Tensor(0.84004, shape=(), dtype=float32)\n"
          ],
          "name": "stdout"
        }
      ]
    },
    {
      "cell_type": "code",
      "metadata": {
        "colab_type": "code",
        "id": "uxM3-mu_xF5L",
        "outputId": "cc2887ef-d7d9-4f73-cf61-439459099a99",
        "colab": {
          "base_uri": "https://localhost:8080/"
        }
      },
      "source": [
        "plt.yscale('log')\n",
        "plt.ylabel(\"loss\")\n",
        "plt.xlabel(\"epochs\")\n",
        "\n",
        "plt.plot(losses)"
      ],
      "execution_count": 0,
      "outputs": [
        {
          "output_type": "execute_result",
          "data": {
            "text/plain": [
              "[<matplotlib.lines.Line2D at 0x7f3034bc5128>]"
            ]
          },
          "metadata": {
            "tags": []
          },
          "execution_count": 65
        },
        {
          "output_type": "display_data",
          "data": {
            "image/png": "[encoded data removed]",
            "text/plain": [
              "<Figure size 432x288 with 1 Axes>"
            ]
          },
          "metadata": {
            "tags": []
          }
        }
      ]
    },
    {
      "cell_type": "code",
      "metadata": {
        "colab_type": "code",
        "id": "d7sGM5vW4Dcf",
        "outputId": "e5c6b6e9-75b1-4316-8b92-65eedeb44a35",
        "colab": {
          "base_uri": "https://localhost:8080/"
        }
      },
      "source": [
        "plt.ylabel(\"accuracy\")\n",
        "plt.xlabel(\"epochs\")\n",
        "\n",
        "plt.plot(accuracies)"
      ],
      "execution_count": 0,
      "outputs": [
        {
          "output_type": "execute_result",
          "data": {
            "text/plain": [
              "[<matplotlib.lines.Line2D at 0x7f3034b3f080>]"
            ]
          },
          "metadata": {
            "tags": []
          },
          "execution_count": 66
        },
        {
          "output_type": "display_data",
          "data": {
            "image/png": "[encoded data removed]",
            "text/plain": [
              "<Figure size 432x288 with 1 Axes>"
            ]
          },
          "metadata": {
            "tags": []
          }
        }
      ]
    },
    {
      "cell_type": "code",
      "metadata": {
        "id": "l3wW3tZkzJOS",
        "colab_type": "code",
        "outputId": "55a63bae-025b-4492-f149-b1d83bb8f630",
        "colab": {
          "base_uri": "https://localhost:8080/"
        }
      },
      "source": [
        "# tf.squeeze removes addional 1-dim dimensions\n",
        "y_pred = tf.squeeze(model(x))\n",
        "y_pred"
      ],
      "execution_count": 0,
      "outputs": [
        {
          "output_type": "execute_result",
          "data": {
            "text/plain": [
              "<tf.Tensor: id=239889, shape=(100,), dtype=float32, numpy=\n",
              "array([0.02181402, 0.17936182, 0.7138772 , 0.93382573, 0.4379695 ,\n",
              "       0.9049623 , 0.17895329, 0.97681355, 0.99447113, 0.8224781 ,\n",
              "       0.37322795, 0.80917174, 0.946198  , 0.9449435 , 0.9951233 ,\n",
              "       0.9817012 , 0.02318001, 0.03020778, 0.841944  , 0.46927726,\n",
              "       0.05239636, 0.09014601, 0.36917472, 0.00340852, 0.13878864,\n",
              "       0.00722885, 0.03091738, 0.77735746, 0.6533007 , 0.0101358 ,\n",
              "       0.2469756 , 0.86745834, 0.68272126, 0.98780024, 0.06098506,\n",
              "       0.16569933, 0.42205864, 0.99318665, 0.00786242, 0.99665266,\n",
              "       0.9175074 , 0.51040715, 0.00682724, 0.8572302 , 0.43476805,\n",
              "       0.40376464, 0.9901852 , 0.15440089, 0.00211009, 0.3092433 ,\n",
              "       0.00792834, 0.957986  , 0.6117705 , 0.5832657 , 0.5511335 ,\n",
              "       0.08466679, 0.9546565 , 0.83559513, 0.11772007, 0.9901209 ,\n",
              "       0.0074456 , 0.9906536 , 0.9925163 , 0.05619153, 0.9982852 ,\n",
              "       0.7464665 , 0.14283738, 0.82445705, 0.13420007, 0.402238  ,\n",
              "       0.95740914, 0.98130834, 0.5616349 , 0.47763517, 0.54292196,\n",
              "       0.00684482, 0.63089466, 0.577614  , 0.99716365, 0.05794892,\n",
              "       0.04961523, 0.0409801 , 0.967996  , 0.10182771, 0.99635494,\n",
              "       0.13396043, 0.01640853, 0.11903742, 0.25043023, 0.9880364 ,\n",
              "       0.86075366, 0.6937522 , 0.85599816, 0.7661039 , 0.5208845 ,\n",
              "       0.0111146 , 0.8998096 , 0.9971709 , 0.2215341 , 0.99652207],\n",
              "      dtype=float32)>"
            ]
          },
          "metadata": {
            "tags": []
          },
          "execution_count": 67
        }
      ]
    },
    {
      "cell_type": "markdown",
      "metadata": {
        "id": "X3GUBAV3CtE7",
        "colab_type": "text"
      },
      "source": [
        "## We are drawing a sigmoid in 3d and turn it into a step\n",
        "\n",
        "<img src='https://github.com/DJCordhose/ml-workshop/blob/master/notebooks/tf2/img/logistic.jpg?raw=1'>"
      ]
    },
    {
      "cell_type": "code",
      "metadata": {
        "colab_type": "code",
        "id": "3aYL-GyJY_37",
        "outputId": "ce3e4212-e059-48dc-90bc-4fc1bc279d73",
        "colab": {
          "base_uri": "https://localhost:8080/"
        }
      },
      "source": [
        "# everything below 0.5 counts as 0, everthing above as 1\n",
        "# effectively turning this into a step\n",
        "y_pred_binary = (y_pred > 0.5).numpy().astype(float)\n",
        "y_pred_binary"
      ],
      "execution_count": 0,
      "outputs": [
        {
          "output_type": "execute_result",
          "data": {
            "text/plain": [
              "array([0., 0., 1., 1., 0., 1., 0., 1., 1., 1., 0., 1., 1., 1., 1., 1., 0.,\n",
              "       0., 1., 0., 0., 0., 0., 0., 0., 0., 0., 1., 1., 0., 0., 1., 1., 1.,\n",
              "       0., 0., 0., 1., 0., 1., 1., 1., 0., 1., 0., 0., 1., 0., 0., 0., 0.,\n",
              "       1., 1., 1., 1., 0., 1., 1., 0., 1., 0., 1., 1., 0., 1., 1., 0., 1.,\n",
              "       0., 0., 1., 1., 1., 0., 1., 0., 1., 1., 1., 0., 0., 0., 1., 0., 1.,\n",
              "       0., 0., 0., 0., 1., 1., 1., 1., 1., 1., 0., 1., 1., 0., 1.])"
            ]
          },
          "metadata": {
            "tags": []
          },
          "execution_count": 68
        }
      ]
    },
    {
      "cell_type": "code",
      "metadata": {
        "colab_type": "code",
        "id": "5O9WZSTuZBW3",
        "outputId": "942d742b-453e-4840-da49-c2069c97d0e6",
        "colab": {
          "base_uri": "https://localhost:8080/"
        }
      },
      "source": [
        "misclassified = y_true - y_pred_binary\n",
        "misclassified"
      ],
      "execution_count": 0,
      "outputs": [
        {
          "output_type": "execute_result",
          "data": {
            "text/plain": [
              "<tf.Tensor: id=239893, shape=(100,), dtype=float32, numpy=\n",
              "array([ 0.,  0.,  0.,  0.,  0.,  0.,  0.,  0.,  0., -1.,  1.,  0.,  0.,\n",
              "        0.,  0.,  0.,  0.,  0.,  0.,  0.,  0.,  0.,  1.,  0.,  0.,  0.,\n",
              "        0.,  0., -1.,  0.,  0.,  0.,  0.,  0.,  1.,  1.,  1.,  0.,  0.,\n",
              "        0.,  0., -1.,  0.,  0.,  0.,  0.,  0.,  0.,  0.,  0.,  0.,  0.,\n",
              "       -1., -1.,  0.,  0.,  0.,  0.,  1.,  0.,  0.,  0.,  0.,  0.,  0.,\n",
              "       -1.,  0.,  0.,  0.,  0.,  0.,  0.,  0.,  0.,  0.,  0., -1.,  0.,\n",
              "        0.,  0.,  0.,  0.,  0.,  0.,  0.,  0.,  0.,  0.,  1.,  0.,  0.,\n",
              "        0.,  0., -1.,  0.,  0.,  0.,  0.,  0.,  0.], dtype=float32)>"
            ]
          },
          "metadata": {
            "tags": []
          },
          "execution_count": 69
        }
      ]
    },
    {
      "cell_type": "code",
      "metadata": {
        "colab_type": "code",
        "id": "IiIut--IYxWz",
        "outputId": "4966074e-145f-4195-81f9-c6e34d6b96c9",
        "colab": {
          "base_uri": "https://localhost:8080/"
        }
      },
      "source": [
        "# strong colors are misclassified\n",
        "\n",
        "plt.xlabel(\"x1\")\n",
        "plt.ylabel(\"x2\")\n",
        "\n",
        "plt.scatter(X[:,0], X[:,1], c=misclassified, cmap=ListedColormap(['#FF0000', '#FFFFFF', '#0000FF']), marker='o')\n",
        "plt.scatter(X[:,0], X[:,1], c=y_pred_binary, cmap=ListedColormap(['#FF6666', '#6666FF']), marker='o', edgecolors='k', alpha=0.5)\n"
      ],
      "execution_count": 0,
      "outputs": [
        {
          "output_type": "execute_result",
          "data": {
            "text/plain": [
              "<matplotlib.collections.PathCollection at 0x7f3034a68ac8>"
            ]
          },
          "metadata": {
            "tags": []
          },
          "execution_count": 70
        },
        {
          "output_type": "display_data",
          "data": {
            "image/png": "[encoded data removed]",
            "text/plain": [
              "<Figure size 432x288 with 1 Axes>"
            ]
          },
          "metadata": {
            "tags": []
          }
        }
      ]
    },
    {
      "cell_type": "code",
      "metadata": {
        "id": "QDVNVNQH05hS",
        "colab_type": "code",
        "colab": {}
      },
      "source": [
        "# for interactive 3d on local jupyer notebook\n",
        "\n",
        "# %matplotlib notebook"
      ],
      "execution_count": 0,
      "outputs": []
    },
    {
      "cell_type": "code",
      "metadata": {
        "id": "yZddH6Ed0S_e",
        "colab_type": "code",
        "outputId": "f43f0cdd-3e44-4c12-a8ef-fe002101163c",
        "colab": {
          "base_uri": "https://localhost:8080/"
        }
      },
      "source": [
        "from mpl_toolkits.mplot3d import Axes3D\n",
        "\n",
        "fig = plt.figure(figsize=(8, 8))\n",
        "\n",
        "ax = fig.add_subplot(111, projection='3d')\n",
        "\n",
        "# we can have the probability encoded in shade of color\n",
        "# ax.scatter(X[:, 0], X[:, 1], y_pred, c=y_pred_binary, \n",
        "ax.scatter(X[:, 0], X[:, 1], y_pred, c=y_pred, \n",
        "#            https://matplotlib.org/3.1.0/gallery/color/colormap_reference.html\n",
        "           cmap=plt.cm.bwr,\n",
        "           depthshade=False,\n",
        "           marker='o', edgecolors='k')\n",
        "\n",
        "# https://en.wikipedia.org/wiki/Azimuth\n",
        "ax.view_init(elev=10, azim=-40)"
      ],
      "execution_count": 0,
      "outputs": [
        {
          "output_type": "display_data",
          "data": {
            "image/png": "[encoded data removed]",
            "text/plain": [
              "<Figure size 576x576 with 1 Axes>"
            ]
          },
          "metadata": {
            "tags": []
          }
        }
      ]
    },
    {
      "cell_type": "code",
      "metadata": {
        "id": "_GxYPAAk2Ax8",
        "colab_type": "code",
        "outputId": "97ebe96f-c138-451f-a3c8-49fe9524560e",
        "colab": {
          "base_uri": "https://localhost:8080/"
        }
      },
      "source": [
        "fig = plt.figure(figsize=(8, 8))\n",
        "\n",
        "ax = fig.add_subplot(111, projection='3d')\n",
        "ax.scatter(X[:, 0], X[:, 1], y_pred_binary, c=y_pred, \n",
        "           cmap=plt.cm.bwr,\n",
        "           depthshade=False,\n",
        "           marker='o', edgecolors='k')\n",
        "\n",
        "ax.view_init(elev=10, azim=-40)"
      ],
      "execution_count": 0,
      "outputs": [
        {
          "output_type": "display_data",
          "data": {
            "image/png": "[encoded data removed]",
            "text/plain": [
              "<Figure size 576x576 with 1 Axes>"
            ]
          },
          "metadata": {
            "tags": []
          }
        }
      ]
    },
    {
      "cell_type": "markdown",
      "metadata": {
        "id": "XwVRBpM42ry9",
        "colab_type": "text"
      },
      "source": [
        "# Exercise: run this classification experiment with a bit more noise\n",
        "\n",
        "* generated your own dataset using a bit more noise\n",
        "* train the model and generate all the plots\n",
        "* does all this make sense to you?"
      ]
    },
    {
      "cell_type": "markdown",
      "metadata": {
        "colab_type": "text",
        "id": "jZzGU633WNvt"
      },
      "source": [
        "## The same solution using high level Keas API"
      ]
    },
    {
      "cell_type": "code",
      "metadata": {
        "colab_type": "code",
        "id": "STfOU_LmVAnj",
        "outputId": "f5db3eef-7212-4cdd-b735-877cc1024032",
        "colab": {
          "base_uri": "https://localhost:8080/",
          "height": 187
        }
      },
      "source": [
        "from tensorflow.keras.layers import Dense\n",
        " \n",
        "model = tf.keras.Sequential()\n",
        "\n",
        "model.add(Dense(units=1, activation='sigmoid', input_dim=2))\n",
        "\n",
        "model.summary()"
      ],
      "execution_count": 0,
      "outputs": [
        {
          "output_type": "stream",
          "text": [
            "Model: \"sequential\"\n",
            "_________________________________________________________________\n",
            "Layer (type)                 Output Shape              Param #   \n",
            "=================================================================\n",
            "dense (Dense)                (None, 1)                 3         \n",
            "=================================================================\n",
            "Total params: 3\n",
            "Trainable params: 3\n",
            "Non-trainable params: 0\n",
            "_________________________________________________________________\n"
          ],
          "name": "stdout"
        }
      ]
    },
    {
      "cell_type": "code",
      "metadata": {
        "colab_type": "code",
        "id": "_Vffpso6WpgK",
        "outputId": "5ae7a917-2d64-4bb2-da37-d7f19a6d8a40",
        "colab": {
          "base_uri": "https://localhost:8080/",
          "height": 51
        }
      },
      "source": [
        "%%time \n",
        "\n",
        "model.compile(loss=loss_fn, # binary cross entropy, unchanged from low level example\n",
        "             optimizer=optimizer, # adam, unchanged from low level example\n",
        "             metrics=['accuracy'])\n",
        "\n",
        "# does a similar thing internally as our loop from above\n",
        "history = model.fit(x, y_true, epochs=EPOCHS, verbose=0)"
      ],
      "execution_count": 0,
      "outputs": [
        {
          "output_type": "stream",
          "text": [
            "CPU times: user 21.2 s, sys: 2.13 s, total: 23.3 s\n",
            "Wall time: 16.4 s\n"
          ],
          "name": "stdout"
        }
      ]
    },
    {
      "cell_type": "code",
      "metadata": {
        "colab_type": "code",
        "id": "NfKDwhCiWkRI",
        "outputId": "b2098c61-13f7-4e3f-8f15-31eef9d46683",
        "colab": {
          "base_uri": "https://localhost:8080/",
          "height": 71
        }
      },
      "source": [
        "loss, accuracy = model.evaluate(x, y_true)\n",
        "loss, accuracy"
      ],
      "execution_count": 0,
      "outputs": [
        {
          "output_type": "stream",
          "text": [
            "\r100/1 [========================================================================================================================================================================================================================================================================================================================================================================================================================================================================================================================================================================================================================================================================================================================================================================================================================================================================================================================================================================================================================================================================================================================================================================================================================================================================================================================================================================================================================================================================================================================================================================================================================================================================================================================================================================================================================================================================================================================================================================================================================================================================================================================================================================================================================================================================================================================================================================================================================================================================================================================================================================================================================================================================================================================================================================================================================================================================================================================================================================================================================================================================================================================] - 0s 921us/sample - loss: 0.2073 - accuracy: 0.8400\n"
          ],
          "name": "stdout"
        },
        {
          "output_type": "execute_result",
          "data": {
            "text/plain": [
              "(0.3317107552289963, 0.84)"
            ]
          },
          "metadata": {
            "tags": []
          },
          "execution_count": 76
        }
      ]
    },
    {
      "cell_type": "code",
      "metadata": {
        "colab_type": "code",
        "id": "N2U7B9ZEaKAz",
        "outputId": "f8b425fa-2653-4eaf-bf80-77f7eb35d871",
        "colab": {
          "base_uri": "https://localhost:8080/",
          "height": 300
        }
      },
      "source": [
        "plt.ylabel(\"accuracy\")\n",
        "plt.xlabel(\"epochs\")\n",
        "\n",
        "plt.plot(history.history['accuracy'])"
      ],
      "execution_count": 0,
      "outputs": [
        {
          "output_type": "execute_result",
          "data": {
            "text/plain": [
              "[<matplotlib.lines.Line2D at 0x7f3031af9198>]"
            ]
          },
          "metadata": {
            "tags": []
          },
          "execution_count": 77
        },
        {
          "output_type": "display_data",
          "data": {
            "image/png": "[encoded data removed]",
            "text/plain": [
              "<Figure size 432x288 with 1 Axes>"
            ]
          },
          "metadata": {
            "tags": []
          }
        }
      ]
    },
    {
      "cell_type": "code",
      "metadata": {
        "colab_type": "code",
        "id": "O61MfB85aMT6",
        "outputId": "60e42424-b346-449e-e732-e24c79e15c3d",
        "colab": {
          "base_uri": "https://localhost:8080/",
          "height": 300
        }
      },
      "source": [
        "plt.yscale('log')\n",
        "plt.ylabel(\"loss\")\n",
        "plt.xlabel(\"epochs\")\n",
        "\n",
        "plt.plot(history.history['loss'])"
      ],
      "execution_count": 0,
      "outputs": [
        {
          "output_type": "execute_result",
          "data": {
            "text/plain": [
              "[<matplotlib.lines.Line2D at 0x7f3031261dd8>]"
            ]
          },
          "metadata": {
            "tags": []
          },
          "execution_count": 78
        },
        {
          "output_type": "display_data",
          "data": {
            "image/png": "[encoded data removed]",
            "text/plain": [
              "<Figure size 432x288 with 1 Axes>"
            ]
          },
          "metadata": {
            "tags": []
          }
        }
      ]
    },
    {
      "cell_type": "code",
      "metadata": {
        "colab_type": "code",
        "id": "qh8dTuD0a0C3",
        "outputId": "273dfe20-7f17-456f-d335-af359da6749c",
        "colab": {
          "base_uri": "https://localhost:8080/",
          "height": 119
        }
      },
      "source": [
        "y_pred = model.predict(x)\n",
        "y_pred_binary = (tf.squeeze(y_pred) > 0.5).numpy().astype(float)\n",
        "y_pred_binary"
      ],
      "execution_count": 0,
      "outputs": [
        {
          "output_type": "execute_result",
          "data": {
            "text/plain": [
              "array([0., 0., 1., 1., 0., 1., 0., 1., 1., 1., 0., 1., 1., 1., 1., 1., 0.,\n",
              "       0., 1., 0., 0., 0., 0., 0., 0., 0., 0., 1., 1., 0., 0., 1., 1., 1.,\n",
              "       0., 0., 0., 1., 0., 1., 1., 0., 0., 1., 0., 0., 1., 0., 0., 0., 0.,\n",
              "       1., 1., 1., 1., 0., 1., 1., 0., 1., 0., 1., 1., 0., 1., 1., 0., 1.,\n",
              "       0., 0., 1., 1., 1., 0., 0., 0., 1., 1., 1., 0., 0., 0., 1., 0., 1.,\n",
              "       0., 0., 0., 0., 1., 1., 1., 1., 1., 0., 0., 1., 1., 0., 1.])"
            ]
          },
          "metadata": {
            "tags": []
          },
          "execution_count": 79
        }
      ]
    },
    {
      "cell_type": "markdown",
      "metadata": {
        "colab_type": "text",
        "id": "HlPMzDleu4aM"
      },
      "source": [
        "## From single neuron to network in the TensorFlow Playground\n",
        "\n",
        "<img src='https://djcordhose.github.io/ai/img/tf-plaground.png'>\n",
        "\n",
        "https://playground.tensorflow.org/#activation=linear&batchSize=10&dataset=circle&regDataset=reg-plane&learningRate=0.01&regularizationRate=0&noise=0&networkShape=1&seed=0.98437&showTestData=false&discretize=false&percTrainData=50&x=true&y=true&xTimesY=false&xSquared=false&ySquared=false&cosX=false&sinX=false&cosY=false&sinY=false&collectStats=false&problem=classification&initZero=false&hideText=false"
      ]
    }
  ]
}