{
  "nbformat": 4,
  "nbformat_minor": 0,
  "metadata": {
    "colab": {
      "name": "tf-low-level.ipynb",
      "version": "0.3.2",
      "provenance": [],
      "include_colab_link": true
    },
    "language_info": {
      "codemirror_mode": {
        "name": "ipython",
        "version": 3
      },
      "file_extension": ".py",
      "mimetype": "text/x-python",
      "name": "python",
      "nbconvert_exporter": "python",
      "pygments_lexer": "ipython3",
      "version": "3.7.3"
    },
    "kernelspec": {
      "display_name": "Python 3",
      "language": "python",
      "name": "python3"
    },
    "accelerator": "GPU"
  },
  "cells": [
    {
      "cell_type": "markdown",
      "metadata": {
        "id": "view-in-github",
        "colab_type": "text"
      },
      "source": [
        "<a href=\"https://colab.research.google.com/github/DJCordhose/ml-workshop/blob/master/notebooks/tf2/tf-low-level.ipynb\" target=\"_parent\"><img src=\"https://colab.research.google.com/assets/colab-badge.svg\" alt=\"Open In Colab\"/></a>"
      ]
    },
    {
      "cell_type": "markdown",
      "metadata": {
        "colab_type": "text",
        "id": "XdfXfXK2-CiG"
      },
      "source": [
        "# Introduction to Neural Networks with Low Level TensorFlow 2\n",
        "\n",
        "Based on \n",
        "* This thread is a crash course on everything you need to know to use TensorFlow 2.0 + Keras for deep learning research: https://twitter.com/fchollet/status/1105139360226140160\n",
        "* Colab Notebook _tf.keras for Researchers_: https://colab.research.google.com/drive/17u-pRZJnKN0gO5XZmq8n5A2bKGrfKEUg#scrollTo=UHOOlixcQ9Gl\n",
        "* Effective TensorFlow 2: https://www.tensorflow.org/alpha/guide/effective_tf2\n",
        "* Writing a custom training loop: https://twitter.com/fchollet/status/1132013928681050113\n"
      ]
    },
    {
      "cell_type": "code",
      "metadata": {
        "colab_type": "code",
        "id": "u8IonVMfAelY",
        "colab": {
          "base_uri": "https://localhost:8080/",
          "height": 34
        },
        "outputId": "17e16a03-d98a-4f3e-e2f2-6a56def78b96"
      },
      "source": [
        "# Gives us a well defined version of tensorflow\n",
        "\n",
        "try:\n",
        "  # %tensorflow_version only exists in Colab.\n",
        "  %tensorflow_version 2.x\n",
        "except Exception:\n",
        "  pass\n",
        "\n",
        "# will also work, but nightly build might contain surprises\n",
        "\n",
        "# !pip install -q tf-nightly-gpu-2.0-preview"
      ],
      "execution_count": 1,
      "outputs": [
        {
          "output_type": "stream",
          "text": [
            "TensorFlow 2.x selected.\n"
          ],
          "name": "stdout"
        }
      ]
    },
    {
      "cell_type": "code",
      "metadata": {
        "colab_type": "code",
        "id": "0rEa6M11-CiY",
        "outputId": "97a3095b-2470-4976-d123-35c1accbad56",
        "colab": {
          "base_uri": "https://localhost:8080/",
          "height": 34
        }
      },
      "source": [
        "import tensorflow as tf\n",
        "print(tf.__version__)"
      ],
      "execution_count": 2,
      "outputs": [
        {
          "output_type": "stream",
          "text": [
            "2.0.0-beta1\n"
          ],
          "name": "stdout"
        }
      ]
    },
    {
      "cell_type": "code",
      "metadata": {
        "colab_type": "code",
        "id": "I35W9tmrRWF3",
        "outputId": "f6d16775-2fae-44b1-ae19-1fb70913361b",
        "colab": {
          "base_uri": "https://localhost:8080/",
          "height": 34
        }
      },
      "source": [
        "# a small sanity check, does tf seem to work ok?\n",
        "hello = tf.constant('Hello TF!')\n",
        "print(\"This works: {}\".format(hello))"
      ],
      "execution_count": 3,
      "outputs": [
        {
          "output_type": "stream",
          "text": [
            "This works: b'Hello TF!'\n"
          ],
          "name": "stdout"
        }
      ]
    },
    {
      "cell_type": "code",
      "metadata": {
        "colab_type": "code",
        "id": "DpXHERPSQvMD",
        "colab": {}
      },
      "source": [
        "# this should return True even on Colab\n",
        "assert tf.test.is_gpu_available()"
      ],
      "execution_count": 0,
      "outputs": []
    },
    {
      "cell_type": "code",
      "metadata": {
        "colab_type": "code",
        "id": "hEoP6O2r3Jvf",
        "colab": {}
      },
      "source": [
        "# we have the gpu version of TensorFlow running\n",
        "assert tf.test.is_built_with_cuda()"
      ],
      "execution_count": 0,
      "outputs": []
    },
    {
      "cell_type": "code",
      "metadata": {
        "colab_type": "code",
        "id": "N5djlq79Lc5P",
        "outputId": "ecd6808b-137e-450e-d7f8-35e92f12ff91",
        "colab": {
          "base_uri": "https://localhost:8080/",
          "height": 289
        }
      },
      "source": [
        "# What kind of GPU are we running on\n",
        "!nvidia-smi"
      ],
      "execution_count": 6,
      "outputs": [
        {
          "output_type": "stream",
          "text": [
            "Tue Aug 20 06:58:01 2019       \n",
            "+-----------------------------------------------------------------------------+\n",
            "| NVIDIA-SMI 418.67       Driver Version: 410.79       CUDA Version: 10.0     |\n",
            "|-------------------------------+----------------------+----------------------+\n",
            "| GPU  Name        Persistence-M| Bus-Id        Disp.A | Volatile Uncorr. ECC |\n",
            "| Fan  Temp  Perf  Pwr:Usage/Cap|         Memory-Usage | GPU-Util  Compute M. |\n",
            "|===============================+======================+======================|\n",
            "|   0  Tesla T4            Off  | 00000000:00:04.0 Off |                    0 |\n",
            "| N/A   68C    P0    29W /  70W |   2264MiB / 15079MiB |      0%      Default |\n",
            "+-------------------------------+----------------------+----------------------+\n",
            "                                                                               \n",
            "+-----------------------------------------------------------------------------+\n",
            "| Processes:                                                       GPU Memory |\n",
            "|  GPU       PID   Type   Process name                             Usage      |\n",
            "|=============================================================================|\n",
            "+-----------------------------------------------------------------------------+\n"
          ],
          "name": "stdout"
        }
      ]
    },
    {
      "cell_type": "code",
      "metadata": {
        "colab_type": "code",
        "id": "PqalzDXr3OiQ",
        "colab": {}
      },
      "source": [
        "# different from TF 1, everything gets executed immediately \n",
        "assert tf.executing_eagerly()"
      ],
      "execution_count": 0,
      "outputs": []
    },
    {
      "cell_type": "markdown",
      "metadata": {
        "colab_type": "text",
        "id": "iZgqH7oOh73-"
      },
      "source": [
        "## Transforming an input to a known output"
      ]
    },
    {
      "cell_type": "code",
      "metadata": {
        "colab_type": "code",
        "id": "VsTh2muvh8vi",
        "colab": {}
      },
      "source": [
        "input = [[-1], [0], [1], [2], [3], [4]]\n",
        "output = [[2], [1], [0], [-1], [-2], [-3]]"
      ],
      "execution_count": 0,
      "outputs": []
    },
    {
      "cell_type": "code",
      "metadata": {
        "colab_type": "code",
        "id": "WJ70YqfqiBrt",
        "outputId": "3d4d0507-c6af-4fa7-8d61-2772afc531fb",
        "colab": {
          "base_uri": "https://localhost:8080/",
          "height": 300
        }
      },
      "source": [
        "import matplotlib.pyplot as plt\n",
        "\n",
        "plt.xlabel('input')\n",
        "plt.ylabel('output')\n",
        "\n",
        "plt.plot(input, output, 'ro')"
      ],
      "execution_count": 10,
      "outputs": [
        {
          "output_type": "execute_result",
          "data": {
            "text/plain": [
              "[<matplotlib.lines.Line2D at 0x7f1610050470>]"
            ]
          },
          "metadata": {
            "tags": []
          },
          "execution_count": 10
        },
        {
          "output_type": "display_data",
          "data": {
            "image/png": "[encoded data removed]",
            "text/plain": [
              "<Figure size 432x288 with 1 Axes>"
            ]
          },
          "metadata": {
            "tags": []
          }
        }
      ]
    },
    {
      "cell_type": "markdown",
      "metadata": {
        "colab_type": "text",
        "id": "IVyyWLjeiPU0"
      },
      "source": [
        "### relation between input and output is linear"
      ]
    },
    {
      "cell_type": "code",
      "metadata": {
        "colab_type": "code",
        "id": "XBljtpGIiCOj",
        "outputId": "c08b6f57-21e8-48ea-b601-5d02bb0e6d18",
        "colab": {
          "base_uri": "https://localhost:8080/",
          "height": 286
        }
      },
      "source": [
        "plt.plot(input, output)\n",
        "plt.plot(input, output, 'ro')"
      ],
      "execution_count": 11,
      "outputs": [
        {
          "output_type": "execute_result",
          "data": {
            "text/plain": [
              "[<matplotlib.lines.Line2D at 0x7f1626c9bc50>]"
            ]
          },
          "metadata": {
            "tags": []
          },
          "execution_count": 11
        },
        {
          "output_type": "display_data",
          "data": {
            "image/png": "[encoded data removed]",
            "text/plain": [
              "<Figure size 432x288 with 1 Axes>"
            ]
          },
          "metadata": {
            "tags": []
          }
        }
      ]
    },
    {
      "cell_type": "markdown",
      "metadata": {
        "colab_type": "text",
        "id": "WKxxou9oirbE"
      },
      "source": [
        "## Defining the model to train\n",
        "\n",
        "untrained single unit (neuron) also outputs a line from same input, although another one \n",
        "\n",
        "### The Artificial Neuron: Foundation of Deep Neural Networks (simplified, more later)\n",
        "\n",
        "* a neuron takes a number of numerical inputs\n",
        "* multiplies each with a weight, sums up all weighted input and  \n",
        "* adds bias (constant) to that sum\n",
        "* from this it creates a single numerical output\n",
        "* for one input (one dimension) this would be a description of a line\n",
        "* for more dimensions this describes a hyper plane that can serve as a decision boundary\n",
        "* this is typically expressed as a matrix multplication plus an addition\n",
        "\n",
        "\n",
        "<img src='https://djcordhose.github.io/ai/img/insurance/neuron211.jpg'>"
      ]
    },
    {
      "cell_type": "markdown",
      "metadata": {
        "colab_type": "text",
        "id": "O6oo7hM_0pv5"
      },
      "source": [
        "### This can be expressed using a matrix multiplication"
      ]
    },
    {
      "cell_type": "code",
      "metadata": {
        "colab_type": "code",
        "id": "7h8MQieO0vay",
        "outputId": "dd714ece-de8f-429e-dcdf-39257f624f59",
        "colab": {
          "base_uri": "https://localhost:8080/",
          "height": 68
        }
      },
      "source": [
        "%%time \n",
        "\n",
        "# parameters of the neuron (can be learned), defining the function to apply\n",
        "w = tf.constant([[1.5], [-2], [1]], dtype='float32')\n",
        "b = tf.constant([6], dtype='float32')\n",
        "\n",
        "# variable input being fed through the parameterized neuron\n",
        "x = tf.constant([[10, 6, 8]], dtype='float32')\n",
        "\n",
        "# computed output\n",
        "y = tf.matmul(x, w) + b\n",
        "print(y)"
      ],
      "execution_count": 12,
      "outputs": [
        {
          "output_type": "stream",
          "text": [
            "tf.Tensor([[17.]], shape=(1, 1), dtype=float32)\n",
            "CPU times: user 526 ms, sys: 348 ms, total: 874 ms\n",
            "Wall time: 818 ms\n"
          ],
          "name": "stdout"
        }
      ]
    },
    {
      "cell_type": "markdown",
      "metadata": {
        "id": "yvlfhLSP78IZ",
        "colab_type": "text"
      },
      "source": [
        "# Hands-On: Experiment with our neuron\n",
        "\n",
        "* execute the notebook up to this cell\n",
        "* change the values of the input, weights and bias in the cell above\n",
        "* restart the calculation and make sure the result meets your expectations"
      ]
    },
    {
      "cell_type": "markdown",
      "metadata": {
        "colab_type": "text",
        "id": "IGylP_16koS6"
      },
      "source": [
        "### Defining a layer with a random number of neurons and inputs\n",
        "\n",
        "With a little more work this would be a complete implementation of a fully connected layer\n",
        "\n"
      ]
    },
    {
      "cell_type": "code",
      "metadata": {
        "colab_type": "code",
        "id": "aMCDcq4JelaE",
        "outputId": "1e8310c0-9441-46a8-fb63-517aa074dbfc",
        "colab": {
          "base_uri": "https://localhost:8080/",
          "height": 51
        }
      },
      "source": [
        "from tensorflow.keras.layers import Layer\n",
        "\n",
        "# we derive from a TensorFlow Layer\n",
        "class LinearLayer(Layer):\n",
        "  \"\"\"y = w.x + b\"\"\"\n",
        "\n",
        "  # initializing our layer\n",
        "  def __init__(self, units=1, input_dim=1):\n",
        "      super(LinearLayer, self).__init__()\n",
        "      # these are our weights, which can be learned, initialized normally around 0 with stddev of 2\n",
        "      self.w = tf.Variable(\n",
        "          initial_value = tf.random_normal_initializer(stddev=2)(shape=(input_dim, units), dtype='float32'),\n",
        "          trainable=True,\n",
        "          name='weights')\n",
        "      # these are our bisases, also can be learned, initialized as 0\n",
        "      self.b = tf.Variable(\n",
        "          initial_value = tf.zeros_initializer()(shape=(units,), dtype='float32'),\n",
        "          trainable=True,\n",
        "          name='biases')\n",
        "\n",
        "  # what the layer does (some as in our example before)\n",
        "  def call(self, inputs):\n",
        "      return tf.matmul(inputs, self.w) + self.b\n",
        "    \n",
        "# just one neuron and one input (but could be as many as we like)    \n",
        "linear_layer = LinearLayer()\n",
        "linear_layer.trainable_variables"
      ],
      "execution_count": 13,
      "outputs": [
        {
          "output_type": "execute_result",
          "data": {
            "text/plain": [
              "[<tf.Variable 'weights:0' shape=(1, 1) dtype=float32, numpy=array([[0.88379526]], dtype=float32)>,\n",
              " <tf.Variable 'biases:0' shape=(1,) dtype=float32, numpy=array([0.], dtype=float32)>]"
            ]
          },
          "metadata": {
            "tags": []
          },
          "execution_count": 13
        }
      ]
    },
    {
      "cell_type": "markdown",
      "metadata": {
        "colab_type": "text",
        "id": "IlrodnQbkmXZ"
      },
      "source": [
        "### Output of a single untrained neuron"
      ]
    },
    {
      "cell_type": "code",
      "metadata": {
        "id": "fNAOTMN6-lWR",
        "colab_type": "code",
        "outputId": "e46d0e77-beae-4358-dcfb-5a10889b32a0",
        "colab": {
          "base_uri": "https://localhost:8080/",
          "height": 34
        }
      },
      "source": [
        "input"
      ],
      "execution_count": 14,
      "outputs": [
        {
          "output_type": "execute_result",
          "data": {
            "text/plain": [
              "[[-1], [0], [1], [2], [3], [4]]"
            ]
          },
          "metadata": {
            "tags": []
          },
          "execution_count": 14
        }
      ]
    },
    {
      "cell_type": "code",
      "metadata": {
        "id": "kJyX3Ryk-4S1",
        "colab_type": "code",
        "outputId": "eb2f19f6-a1f7-46fe-8749-a168c001e728",
        "colab": {
          "base_uri": "https://localhost:8080/",
          "height": 136
        }
      },
      "source": [
        "# x and y are typically names for input and output in machine learning\n",
        "x = tf.constant(input, dtype=tf.float32)\n",
        "x"
      ],
      "execution_count": 15,
      "outputs": [
        {
          "output_type": "execute_result",
          "data": {
            "text/plain": [
              "<tf.Tensor: id=36, shape=(6, 1), dtype=float32, numpy=\n",
              "array([[-1.],\n",
              "       [ 0.],\n",
              "       [ 1.],\n",
              "       [ 2.],\n",
              "       [ 3.],\n",
              "       [ 4.]], dtype=float32)>"
            ]
          },
          "metadata": {
            "tags": []
          },
          "execution_count": 15
        }
      ]
    },
    {
      "cell_type": "code",
      "metadata": {
        "id": "_pdSw2Bd-nZR",
        "colab_type": "code",
        "outputId": "66d0e298-e8c0-40eb-c6d5-49e1291add4a",
        "colab": {
          "base_uri": "https://localhost:8080/",
          "height": 34
        }
      },
      "source": [
        "output"
      ],
      "execution_count": 16,
      "outputs": [
        {
          "output_type": "execute_result",
          "data": {
            "text/plain": [
              "[[2], [1], [0], [-1], [-2], [-3]]"
            ]
          },
          "metadata": {
            "tags": []
          },
          "execution_count": 16
        }
      ]
    },
    {
      "cell_type": "code",
      "metadata": {
        "colab_type": "code",
        "id": "d1FpEmPgjM76",
        "outputId": "2d461ba4-e4b7-4865-9583-9414fd14dc84",
        "colab": {
          "base_uri": "https://localhost:8080/",
          "height": 136
        }
      },
      "source": [
        "y_true = tf.constant(output, dtype=tf.float32)\n",
        "y_true"
      ],
      "execution_count": 17,
      "outputs": [
        {
          "output_type": "execute_result",
          "data": {
            "text/plain": [
              "<tf.Tensor: id=38, shape=(6, 1), dtype=float32, numpy=\n",
              "array([[ 2.],\n",
              "       [ 1.],\n",
              "       [ 0.],\n",
              "       [-1.],\n",
              "       [-2.],\n",
              "       [-3.]], dtype=float32)>"
            ]
          },
          "metadata": {
            "tags": []
          },
          "execution_count": 17
        }
      ]
    },
    {
      "cell_type": "code",
      "metadata": {
        "colab_type": "code",
        "id": "wJaw2t3ef7Xl",
        "outputId": "72978b33-b973-41eb-c624-2470650dd88d",
        "colab": {
          "base_uri": "https://localhost:8080/",
          "height": 136
        }
      },
      "source": [
        "# we use our layer from above to make a prediction for x\n",
        "y_pred = linear_layer(x)\n",
        "y_pred"
      ],
      "execution_count": 18,
      "outputs": [
        {
          "output_type": "execute_result",
          "data": {
            "text/plain": [
              "<tf.Tensor: id=43, shape=(6, 1), dtype=float32, numpy=\n",
              "array([[-0.88379526],\n",
              "       [ 0.        ],\n",
              "       [ 0.88379526],\n",
              "       [ 1.7675905 ],\n",
              "       [ 2.6513858 ],\n",
              "       [ 3.535181  ]], dtype=float32)>"
            ]
          },
          "metadata": {
            "tags": []
          },
          "execution_count": 18
        }
      ]
    },
    {
      "cell_type": "code",
      "metadata": {
        "id": "Z1mZyZb__CpC",
        "colab_type": "code",
        "outputId": "d9d57fd8-2f05-4f2d-9279-43600d3e11a2",
        "colab": {
          "base_uri": "https://localhost:8080/",
          "height": 136
        }
      },
      "source": [
        "# obviously we are really off (no wonder as the parameters are just random)\n",
        "y_true - y_pred"
      ],
      "execution_count": 19,
      "outputs": [
        {
          "output_type": "execute_result",
          "data": {
            "text/plain": [
              "<tf.Tensor: id=45, shape=(6, 1), dtype=float32, numpy=\n",
              "array([[ 2.8837953 ],\n",
              "       [ 1.        ],\n",
              "       [-0.88379526],\n",
              "       [-2.7675905 ],\n",
              "       [-4.651386  ],\n",
              "       [-6.535181  ]], dtype=float32)>"
            ]
          },
          "metadata": {
            "tags": []
          },
          "execution_count": 19
        }
      ]
    },
    {
      "cell_type": "code",
      "metadata": {
        "colab_type": "code",
        "id": "A5no0NPli-dh",
        "outputId": "dba028f2-47fb-4aa7-f6b7-59ddafe1c325",
        "colab": {
          "base_uri": "https://localhost:8080/",
          "height": 286
        }
      },
      "source": [
        "# let's see how off we are\n",
        "plt.plot(x, y_pred)\n",
        "plt.plot(input, output, 'ro')"
      ],
      "execution_count": 20,
      "outputs": [
        {
          "output_type": "execute_result",
          "data": {
            "text/plain": [
              "[<matplotlib.lines.Line2D at 0x7f15d84ac748>]"
            ]
          },
          "metadata": {
            "tags": []
          },
          "execution_count": 20
        },
        {
          "output_type": "display_data",
          "data": {
            "image/png": "[encoded data removed]",
            "text/plain": [
              "<Figure size 432x288 with 1 Axes>"
            ]
          },
          "metadata": {
            "tags": []
          }
        }
      ]
    },
    {
      "cell_type": "markdown",
      "metadata": {
        "id": "tHVkxkc7_zME",
        "colab_type": "text"
      },
      "source": [
        "# Hands-On: Have a layer with more than one neuron\n",
        "\n",
        "* configure our layer to have more neuron\n",
        "* does the example still work?\n",
        "* how does the output of the layer look like?\n",
        "* why?"
      ]
    },
    {
      "cell_type": "markdown",
      "metadata": {
        "colab_type": "text",
        "id": "zAuxRMiMkyX3"
      },
      "source": [
        "# How wrong are we?\n",
        "## Loss - Mean Squared Error\n",
        "\n",
        "Loss function is the prerequisite to training. We need an objective to optimize for. We calculate the difference between what we get as output and what we would like to get.\n",
        "\n",
        "### Mean Squared Error\n",
        "\n",
        "$MSE = {\\frac {1}{n}}\\sum _{i=1}^{n}(Y_{i}-{\\hat {Y_{i}}})^{2}$\n",
        "\n",
        "\n",
        "https://en.wikipedia.org/wiki/Mean_squared_error\n"
      ]
    },
    {
      "cell_type": "code",
      "metadata": {
        "colab_type": "code",
        "id": "S5qBUY18u2BK",
        "colab": {}
      },
      "source": [
        "# we could also use absolut error which would give less weight to outliers\n",
        "loss_fn = tf.losses.mean_squared_error\n",
        "# loss_fn = tf.losses.mean_absolute_error"
      ],
      "execution_count": 0,
      "outputs": []
    },
    {
      "cell_type": "code",
      "metadata": {
        "colab_type": "code",
        "id": "pIGGjpC4jdjZ",
        "outputId": "7a9158f9-a3fd-420a-9a22-7f2638f6c4a1",
        "colab": {
          "base_uri": "https://localhost:8080/",
          "height": 34
        }
      },
      "source": [
        "# how bad is it, really?\n",
        "loss = loss_fn(y_true=tf.squeeze(y_true), y_pred=tf.squeeze(y_pred))\n",
        "print(loss)"
      ],
      "execution_count": 22,
      "outputs": [
        {
          "output_type": "stream",
          "text": [
            "tf.Tensor(13.683484, shape=(), dtype=float32)\n"
          ],
          "name": "stdout"
        }
      ]
    },
    {
      "cell_type": "code",
      "metadata": {
        "colab_type": "code",
        "id": "6DGusRmhk1JU",
        "colab": {}
      },
      "source": [
        "assert tf.keras.losses.mean_squared_error == tf.losses.mean_squared_error"
      ],
      "execution_count": 0,
      "outputs": []
    },
    {
      "cell_type": "markdown",
      "metadata": {
        "id": "NLXsxuqkB-BN",
        "colab_type": "text"
      },
      "source": [
        "\n",
        "### Backpropagation algorithm\n",
        "\n",
        "1. Predict: Let the network make a prediction \n",
        "1. Calculate the loss: how accurate was the predition\n",
        "1. partial derivations: Find out in which direction to change all parameters to bring down the loss\n",
        "1. Optimizer: Make changes to parameters based on learning rate and other parameters\n"
      ]
    },
    {
      "cell_type": "markdown",
      "metadata": {
        "colab_type": "text",
        "id": "QzcQowwMsZqg"
      },
      "source": [
        "### Loss depends on the trainable variables, in our case two parameters: weight and bias\n",
        "\n",
        "This is how the loss function might change depending on those variables\n",
        "\n",
        "<img src='https://djcordhose.github.io/ai/img/gradients.jpg'>\n",
        "\n",
        "https://twitter.com/colindcarroll/status/1090266016259534848"
      ]
    },
    {
      "cell_type": "code",
      "metadata": {
        "id": "7jkpKqcoB1ma",
        "colab_type": "code",
        "outputId": "8f91bf9d-1bb2-41cd-ec5d-f851971576bf",
        "colab": {
          "base_uri": "https://localhost:8080/",
          "height": 51
        }
      },
      "source": [
        "linear_layer.trainable_variables"
      ],
      "execution_count": 24,
      "outputs": [
        {
          "output_type": "execute_result",
          "data": {
            "text/plain": [
              "[<tf.Variable 'weights:0' shape=(1, 1) dtype=float32, numpy=array([[0.88379526]], dtype=float32)>,\n",
              " <tf.Variable 'biases:0' shape=(1,) dtype=float32, numpy=array([0.], dtype=float32)>]"
            ]
          },
          "metadata": {
            "tags": []
          },
          "execution_count": 24
        }
      ]
    },
    {
      "cell_type": "markdown",
      "metadata": {
        "colab_type": "text",
        "id": "xukGkwFTET56"
      },
      "source": [
        "### For this we need partial derivations\n",
        "\n",
        "TensorFlow offers automatic differentiation: https://www.tensorflow.org/versions/r2.0/api_docs/python/tf/GradientTape\n",
        "\n",
        "* tape will record operations for automatic differentiation\n",
        "* either by making it record explicily (watch) or \n",
        "* by declaring a varible to be trainable (which we did in the layer above) \n",
        "\n"
      ]
    },
    {
      "cell_type": "code",
      "metadata": {
        "id": "ODYIJbadLtkr",
        "colab_type": "code",
        "colab": {}
      },
      "source": [
        "from tensorflow import GradientTape \n",
        "GradientTape?"
      ],
      "execution_count": 0,
      "outputs": []
    },
    {
      "cell_type": "code",
      "metadata": {
        "id": "pr2PjDdwFtui",
        "colab_type": "code",
        "outputId": "2a6ecaa5-88d7-4861-e0d9-93f7fddfd030",
        "colab": {
          "base_uri": "https://localhost:8080/",
          "height": 139
        }
      },
      "source": [
        "\n",
        "def tape_sample():\n",
        "  with GradientTape() as tape:\n",
        "    a = tf.constant(2.0)\n",
        "    b = tf.constant(1.0)\n",
        "    tape.watch(a)\n",
        "    tape.watch(b)\n",
        "    c = a + b\n",
        "    d = b + 1\n",
        "    f = c * d\n",
        "  print(a, b, c, d, f)\n",
        "  # how is f dependending on the other variables\n",
        "  (df_da, df_db, df_dc, df_dd, df_df) = tape.gradient(f, [a, b, c, d, f])\n",
        "  print(df_da)\n",
        "  print(df_db)\n",
        "  print(df_dc)\n",
        "  print(df_dd)\n",
        "  print(df_df)\n",
        "  \n",
        "# just a function in order not to interfere with x on the global scope  \n",
        "tape_sample()"
      ],
      "execution_count": 26,
      "outputs": [
        {
          "output_type": "stream",
          "text": [
            "tf.Tensor(2.0, shape=(), dtype=float32) tf.Tensor(1.0, shape=(), dtype=float32) tf.Tensor(3.0, shape=(), dtype=float32) tf.Tensor(2.0, shape=(), dtype=float32) tf.Tensor(6.0, shape=(), dtype=float32)\n",
            "tf.Tensor(2.0, shape=(), dtype=float32)\n",
            "tf.Tensor(5.0, shape=(), dtype=float32)\n",
            "tf.Tensor(2.0, shape=(), dtype=float32)\n",
            "tf.Tensor(3.0, shape=(), dtype=float32)\n",
            "tf.Tensor(1.0, shape=(), dtype=float32)\n"
          ],
          "name": "stdout"
        }
      ]
    },
    {
      "cell_type": "markdown",
      "metadata": {
        "id": "qHqyB4sDLud-",
        "colab_type": "text"
      },
      "source": [
        "## How does this work?\n",
        "\n",
        "In a multi layer network the chain rule is used to find out how an intermediate neuron affects the overall error\n",
        "\n",
        "### How does the loss (f) change when changing either a or b?\n",
        "\n",
        "<img src='https://github.com/DJCordhose/ml-workshop/blob/master/notebooks/tf2/img/loss_f_a_b.png?raw=1'>\n",
        "\n",
        "### Calculating df/da\n",
        "\n",
        "<img src='https://github.com/DJCordhose/ml-workshop/blob/master/notebooks/tf2/img/chain_rule_a.png?raw=1'>\n",
        "\n",
        "### Calculating df/db\n",
        "\n",
        "<img src='https://github.com/DJCordhose/ml-workshop/blob/master/notebooks/tf2/img/chain_rule_b.png?raw=1'>\n",
        "\n",
        "https://twitter.com/random_forests\n",
        "\n",
        "https://towardsdatascience.com/back-propagation-demystified-in-7-minutes-4294d71a04d7\n",
        "\n"
      ]
    },
    {
      "cell_type": "markdown",
      "metadata": {
        "id": "bUIejU8hJNdU",
        "colab_type": "text"
      },
      "source": [
        "# Hands-On: Work through the above example\n",
        "\n",
        "* above you see the calculation of df/da and df/db\n",
        "* make sure you understand how it is composed based on the different rules you see on the left side\n",
        "* make changes to variables and how they are computed and make sure you will understand the results\n",
        "* if you understand what is going on, help your neighbors"
      ]
    },
    {
      "cell_type": "markdown",
      "metadata": {
        "colab_type": "text",
        "id": "BlVOagySSwyO"
      },
      "source": [
        "## Training\n",
        "\n",
        "https://twitter.com/fchollet/status/1132013928681050113"
      ]
    },
    {
      "cell_type": "code",
      "metadata": {
        "colab_type": "code",
        "id": "V36dlfViTMZR",
        "outputId": "bd4760e5-d623-4215-a4f8-ff96c85e2140",
        "colab": {
          "base_uri": "https://localhost:8080/",
          "height": 51
        }
      },
      "source": [
        "linear_layer = LinearLayer()\n",
        "linear_layer.w, linear_layer.b"
      ],
      "execution_count": 27,
      "outputs": [
        {
          "output_type": "execute_result",
          "data": {
            "text/plain": [
              "(<tf.Variable 'weights:0' shape=(1, 1) dtype=float32, numpy=array([[1.1736058]], dtype=float32)>,\n",
              " <tf.Variable 'biases:0' shape=(1,) dtype=float32, numpy=array([0.], dtype=float32)>)"
            ]
          },
          "metadata": {
            "tags": []
          },
          "execution_count": 27
        }
      ]
    },
    {
      "cell_type": "code",
      "metadata": {
        "colab_type": "code",
        "id": "WbTfKBTMTm1B",
        "outputId": "fd3699c0-fc84-4657-b55c-0cfa36d0722d",
        "colab": {
          "base_uri": "https://localhost:8080/",
          "height": 51
        }
      },
      "source": [
        "linear_layer.trainable_weights"
      ],
      "execution_count": 28,
      "outputs": [
        {
          "output_type": "execute_result",
          "data": {
            "text/plain": [
              "[<tf.Variable 'weights:0' shape=(1, 1) dtype=float32, numpy=array([[1.1736058]], dtype=float32)>,\n",
              " <tf.Variable 'biases:0' shape=(1,) dtype=float32, numpy=array([0.], dtype=float32)>]"
            ]
          },
          "metadata": {
            "tags": []
          },
          "execution_count": 28
        }
      ]
    },
    {
      "cell_type": "markdown",
      "metadata": {
        "id": "xmx0RXV_Qm5C",
        "colab_type": "text"
      },
      "source": [
        "### We follow the backpropagation algorithm from above\n",
        "\n",
        "1. Predict: Let the network make a prediction \n",
        "1. Calculate the loss: how accurate was the predition\n",
        "1. partial derivations: Find out in which direction to change all parameters to bring down the loss\n",
        "1. Optimizer: Make changes to parameters based on learning rate and other parameters\n"
      ]
    },
    {
      "cell_type": "markdown",
      "metadata": {
        "id": "jeVGUldCA12W",
        "colab_type": "text"
      },
      "source": [
        "### Job of the optimizer: Minimize Loss by changing parameters of neuron \n",
        "\n",
        "<img src='https://djcordhose.github.io/ai/img/manning/optimizer.png' height=500>"
      ]
    },
    {
      "cell_type": "markdown",
      "metadata": {
        "id": "F6eu8owGF_G3",
        "colab_type": "text"
      },
      "source": [
        "### Applying backprop to a complex network\n",
        "\n",
        "<img src='https://github.com/DJCordhose/ml-workshop/blob/master/notebooks/tf2/img/backprop.png?raw=1'>\n",
        "\n",
        "From https://google-developers.appspot.com/machine-learning/crash-course/backprop-scroll/\n",
        "\n",
        "More resources to understand back propagation\n",
        "* Mathematical\n",
        "  * http://cs231n.github.io/optimization-2/\n",
        "  * http://neuralnetworksanddeeplearning.com/chap2.html\n",
        "* Intuitive: http://colah.github.io/posts/2015-08-Backprop/\n",
        "* Maths basics: https://www.mathsisfun.com/calculus/derivatives-rules.html  "
      ]
    },
    {
      "cell_type": "code",
      "metadata": {
        "colab_type": "code",
        "id": "B988o-LuC2wf",
        "colab": {}
      },
      "source": [
        "linear_layer = LinearLayer()\n",
        "\n",
        "EPOCHS = 500\n",
        "learning_rate = 1e-2\n",
        "\n",
        "losses = []"
      ],
      "execution_count": 0,
      "outputs": []
    },
    {
      "cell_type": "code",
      "metadata": {
        "id": "CZUySXYNScOx",
        "colab_type": "code",
        "colab": {}
      },
      "source": [
        "for step in range(EPOCHS):\n",
        "  with tf.GradientTape() as tape:\n",
        "\n",
        "    # forward pass, all data\n",
        "    # often we do not use all data to calculate the loss, but only a certain fraction, called the batch\n",
        "    # you could also push data through one by one, being an extreme version of a batched approached\n",
        "    # in our case we use all the data we have and calculate the combined error\n",
        "    y_pred = linear_layer(x)\n",
        "\n",
        "    # loss for this batch\n",
        "    loss = loss_fn(y_true=tf.squeeze(y_true), y_pred=tf.squeeze(y_pred))\n",
        "    \n",
        "  # just for logging\n",
        "  losses.append(loss)\n",
        "\n",
        "  # get gradients of weights wrt the loss\n",
        "  (dw, db) = tape.gradient(loss, linear_layer.trainable_weights)\n",
        "  \n",
        "  # optimizer: backward pass, changing trainable weights in the direction of the mimimum\n",
        "  linear_layer.w.assign_sub(learning_rate * dw)\n",
        "  linear_layer.b.assign_sub(learning_rate * db)"
      ],
      "execution_count": 0,
      "outputs": []
    },
    {
      "cell_type": "code",
      "metadata": {
        "colab_type": "code",
        "id": "dnapizSr1ufF",
        "outputId": "e213b3ae-dacb-4793-b499-c8681efad78f",
        "colab": {
          "base_uri": "https://localhost:8080/",
          "height": 34
        }
      },
      "source": [
        "print(loss)"
      ],
      "execution_count": 31,
      "outputs": [
        {
          "output_type": "stream",
          "text": [
            "tf.Tensor(4.3317643e-05, shape=(), dtype=float32)\n"
          ],
          "name": "stdout"
        }
      ]
    },
    {
      "cell_type": "code",
      "metadata": {
        "colab_type": "code",
        "id": "HVU5pKnVxvch",
        "outputId": "88c6ed91-8f38-46a2-9ce9-017d0f844fca",
        "colab": {
          "base_uri": "https://localhost:8080/",
          "height": 300
        }
      },
      "source": [
        "plt.xlabel('epochs')\n",
        "plt.ylabel('loss')\n",
        "\n",
        "# plt.yscale('log')\n",
        "\n",
        "plt.plot(losses)"
      ],
      "execution_count": 32,
      "outputs": [
        {
          "output_type": "execute_result",
          "data": {
            "text/plain": [
              "[<matplotlib.lines.Line2D at 0x7f15d83b99e8>]"
            ]
          },
          "metadata": {
            "tags": []
          },
          "execution_count": 32
        },
        {
          "output_type": "display_data",
          "data": {
            "image/png": "[encoded data removed]",
            "text/plain": [
              "<Figure size 432x288 with 1 Axes>"
            ]
          },
          "metadata": {
            "tags": []
          }
        }
      ]
    },
    {
      "cell_type": "markdown",
      "metadata": {
        "colab_type": "text",
        "id": "PCTnMgCh1ala"
      },
      "source": [
        "### Line drawn by neuron after training\n",
        "\n",
        "* result after training is not perfect, but almost looks like the same line\n",
        "* https://en.wikipedia.org/wiki/Linear_equation#Slope%E2%80%93intercept_form\n"
      ]
    },
    {
      "cell_type": "code",
      "metadata": {
        "colab_type": "code",
        "id": "WDwLh7RP1alX",
        "outputId": "c47a1b66-6bfc-490b-ccbf-eb6a5995397e",
        "colab": {
          "base_uri": "https://localhost:8080/",
          "height": 136
        }
      },
      "source": [
        "y_pred = linear_layer(x)\n",
        "y_pred"
      ],
      "execution_count": 33,
      "outputs": [
        {
          "output_type": "execute_result",
          "data": {
            "text/plain": [
              "<tf.Tensor: id=26185, shape=(6, 1), dtype=float32, numpy=\n",
              "array([[ 1.9885885 ],\n",
              "       [ 0.9913716 ],\n",
              "       [-0.00584531],\n",
              "       [-1.0030622 ],\n",
              "       [-2.000279  ],\n",
              "       [-2.997496  ]], dtype=float32)>"
            ]
          },
          "metadata": {
            "tags": []
          },
          "execution_count": 33
        }
      ]
    },
    {
      "cell_type": "code",
      "metadata": {
        "id": "10C1pBFuUsw7",
        "colab_type": "code",
        "outputId": "916c4143-be74-4b57-9b8e-920a939e5fea",
        "colab": {
          "base_uri": "https://localhost:8080/",
          "height": 136
        }
      },
      "source": [
        "y_pred - y_true"
      ],
      "execution_count": 34,
      "outputs": [
        {
          "output_type": "execute_result",
          "data": {
            "text/plain": [
              "<tf.Tensor: id=26187, shape=(6, 1), dtype=float32, numpy=\n",
              "array([[-0.01141155],\n",
              "       [-0.00862843],\n",
              "       [-0.00584531],\n",
              "       [-0.00306225],\n",
              "       [-0.00027895],\n",
              "       [ 0.00250411]], dtype=float32)>"
            ]
          },
          "metadata": {
            "tags": []
          },
          "execution_count": 34
        }
      ]
    },
    {
      "cell_type": "code",
      "metadata": {
        "colab_type": "code",
        "id": "D6IsHQhf1alP",
        "outputId": "33550d2f-e8b9-4cf3-f40b-344139fb2047",
        "colab": {
          "base_uri": "https://localhost:8080/",
          "height": 286
        }
      },
      "source": [
        "plt.plot(x, y_pred)\n",
        "plt.plot(input, output, 'ro')"
      ],
      "execution_count": 35,
      "outputs": [
        {
          "output_type": "execute_result",
          "data": {
            "text/plain": [
              "[<matplotlib.lines.Line2D at 0x7f15d8356d68>]"
            ]
          },
          "metadata": {
            "tags": []
          },
          "execution_count": 35
        },
        {
          "output_type": "display_data",
          "data": {
            "image/png": "[encoded data removed]",
            "text/plain": [
              "<Figure size 432x288 with 1 Axes>"
            ]
          },
          "metadata": {
            "tags": []
          }
        }
      ]
    },
    {
      "cell_type": "code",
      "metadata": {
        "colab_type": "code",
        "id": "FtRUMsQf1alI",
        "outputId": "73bb4a30-8bfe-4fef-8606-d0eac0638d43",
        "colab": {
          "base_uri": "https://localhost:8080/",
          "height": 51
        }
      },
      "source": [
        "# single neuron and single input: one weight and one bias\n",
        "# slope m ~ -1 = weight\n",
        "# y-axis offset y0 ~ 1 = bias\n",
        "# https://en.wikipedia.org/wiki/Linear_equation#Slope%E2%80%93intercept_form\n",
        "\n",
        "linear_layer.w, linear_layer.b"
      ],
      "execution_count": 36,
      "outputs": [
        {
          "output_type": "execute_result",
          "data": {
            "text/plain": [
              "(<tf.Variable 'weights:0' shape=(1, 1) dtype=float32, numpy=array([[-0.9972169]], dtype=float32)>,\n",
              " <tf.Variable 'biases:0' shape=(1,) dtype=float32, numpy=array([0.9913716], dtype=float32)>)"
            ]
          },
          "metadata": {
            "tags": []
          },
          "execution_count": 36
        }
      ]
    },
    {
      "cell_type": "markdown",
      "metadata": {
        "id": "ZHOKTWIvU-sd",
        "colab_type": "text"
      },
      "source": [
        "# Hands-On: Train your model to good results\n",
        "\n",
        "* with the cells above check that the variables are reasonably close to what we know this is right\n",
        "* understand that this is not an option your normally have\n",
        "* train for more epochs to see how close you can get to the true result"
      ]
    },
    {
      "cell_type": "markdown",
      "metadata": {
        "colab_type": "text",
        "id": "vbOJfrtgDQiM"
      },
      "source": [
        "### Prebuilt Optimizers do this job (but a bit more efficient and sohpisticated)\n",
        "\n",
        "* http://cs231n.github.io/optimization-1/\n",
        "* http://cs231n.github.io/neural-networks-3/#update\n",
        "* How they sound: http://blog.christianperone.com/2019/08/listening-to-the-neural-network-gradient-norms-during-training/"
      ]
    },
    {
      "cell_type": "code",
      "metadata": {
        "colab_type": "code",
        "id": "eD2YbeHdDM9y",
        "colab": {}
      },
      "source": [
        "optimizer = tf.keras.optimizers.SGD(learning_rate=1e-2)"
      ],
      "execution_count": 0,
      "outputs": []
    },
    {
      "cell_type": "code",
      "metadata": {
        "colab_type": "code",
        "id": "cEuzqGgktmut",
        "colab": {}
      },
      "source": [
        "EPOCHS = 500\n",
        "\n",
        "losses = []\n",
        "\n",
        "linear_layer = LinearLayer()\n",
        "\n",
        "for step in range(EPOCHS):\n",
        "  with tf.GradientTape() as tape:\n",
        "\n",
        "    # Forward pass.\n",
        "    y_pred = linear_layer(x)\n",
        "\n",
        "    # Loss value for this batch.\n",
        "    loss = loss_fn(y_true=tf.squeeze(y_true), y_pred=tf.squeeze(y_pred))\n",
        "    \n",
        "  losses.append(loss)\n",
        "     \n",
        "  # Get gradients of weights wrt the loss.\n",
        "  gradients = tape.gradient(loss, linear_layer.trainable_weights)\n",
        "  \n",
        "  # Update the weights of our linear layer.\n",
        "  optimizer.apply_gradients(zip(gradients, linear_layer.trainable_weights))"
      ],
      "execution_count": 0,
      "outputs": []
    },
    {
      "cell_type": "code",
      "metadata": {
        "colab_type": "code",
        "id": "cqA4saqR0kbq",
        "outputId": "7719380a-b69f-4dcd-9f71-62c0aa69587b",
        "colab": {
          "base_uri": "https://localhost:8080/",
          "height": 300
        }
      },
      "source": [
        "plt.yscale('log')\n",
        "plt.ylabel(\"loss\")\n",
        "plt.xlabel(\"epochs\")\n",
        "\n",
        "plt.plot(losses)"
      ],
      "execution_count": 39,
      "outputs": [
        {
          "output_type": "execute_result",
          "data": {
            "text/plain": [
              "[<matplotlib.lines.Line2D at 0x7f15d82ea4e0>]"
            ]
          },
          "metadata": {
            "tags": []
          },
          "execution_count": 39
        },
        {
          "output_type": "display_data",
          "data": {
            "image/png": "[encoded data removed]",
            "text/plain": [
              "<Figure size 432x288 with 1 Axes>"
            ]
          },
          "metadata": {
            "tags": []
          }
        }
      ]
    },
    {
      "cell_type": "code",
      "metadata": {
        "colab_type": "code",
        "id": "uAQ-LCTW2KkH",
        "outputId": "759def9c-2f62-4a64-edd4-dede7e7f8995",
        "colab": {
          "base_uri": "https://localhost:8080/",
          "height": 303
        }
      },
      "source": [
        "y_pred = linear_layer(x)\n",
        "plt.plot(x, y_pred)\n",
        "plt.plot(input, output, 'ro')\n",
        "linear_layer.trainable_weights"
      ],
      "execution_count": 40,
      "outputs": [
        {
          "output_type": "execute_result",
          "data": {
            "text/plain": [
              "[<tf.Variable 'weights:0' shape=(1, 1) dtype=float32, numpy=array([[-0.9971421]], dtype=float32)>,\n",
              " <tf.Variable 'biases:0' shape=(1,) dtype=float32, numpy=array([0.99113953], dtype=float32)>]"
            ]
          },
          "metadata": {
            "tags": []
          },
          "execution_count": 40
        },
        {
          "output_type": "display_data",
          "data": {
            "image/png": "[encoded data removed]",
            "text/plain": [
              "<Figure size 432x288 with 1 Axes>"
            ]
          },
          "metadata": {
            "tags": []
          }
        }
      ]
    },
    {
      "cell_type": "markdown",
      "metadata": {
        "colab_type": "text",
        "id": "dWIMUIQZObYK"
      },
      "source": [
        "## More data points, more noisy"
      ]
    },
    {
      "cell_type": "code",
      "metadata": {
        "colab_type": "code",
        "id": "Wq0pg9TvOa0k",
        "outputId": "b314c787-e8e5-4628-f706-874cf43395ea",
        "colab": {
          "base_uri": "https://localhost:8080/",
          "height": 286
        }
      },
      "source": [
        "import numpy as np\n",
        "\n",
        "a = -1\n",
        "b = 1\n",
        "n = 50\n",
        "noise = 0.1\n",
        "\n",
        "\n",
        "x = tf.constant(np.random.uniform(0, 1, n), dtype='float32')\n",
        "y = tf.constant(a*x+b + np.random.normal(0, noise, n), dtype='float32')\n",
        "\n",
        "plt.scatter(x, y)"
      ],
      "execution_count": 41,
      "outputs": [
        {
          "output_type": "execute_result",
          "data": {
            "text/plain": [
              "<matplotlib.collections.PathCollection at 0x7f15d804c6a0>"
            ]
          },
          "metadata": {
            "tags": []
          },
          "execution_count": 41
        },
        {
          "output_type": "display_data",
          "data": {
            "image/png": "[encoded data removed]",
            "text/plain": [
              "<Figure size 432x288 with 1 Axes>"
            ]
          },
          "metadata": {
            "tags": []
          }
        }
      ]
    },
    {
      "cell_type": "code",
      "metadata": {
        "colab_type": "code",
        "id": "HZOMvTFwR0gv",
        "colab": {}
      },
      "source": [
        "x = tf.reshape(x, (n, 1))\n",
        "y_true = tf.reshape(y, (n, 1))"
      ],
      "execution_count": 0,
      "outputs": []
    },
    {
      "cell_type": "code",
      "metadata": {
        "colab_type": "code",
        "id": "wvSwOhsbu3Rm",
        "outputId": "2104a544-f8cc-4955-ce67-2c9f9396e54b",
        "colab": {
          "base_uri": "https://localhost:8080/",
          "height": 303
        }
      },
      "source": [
        "linear_layer = LinearLayer()\n",
        "\n",
        "a = linear_layer.w.numpy()[0][0]\n",
        "b = linear_layer.b.numpy()[0]\n",
        "\n",
        "def plot_line(a, b, x, y_true):\n",
        "  fig, ax = plt.subplots()\n",
        "  y_pred = a * x + b\n",
        "  \n",
        "  line = ax.plot(x, y_pred)\n",
        "  ax.plot(x, y_true, 'ro')\n",
        "  return fig, line\n",
        "\n",
        "plot_line(a, b, x, y_true)"
      ],
      "execution_count": 43,
      "outputs": [
        {
          "output_type": "execute_result",
          "data": {
            "text/plain": [
              "(<Figure size 432x288 with 1 Axes>,\n",
              " [<matplotlib.lines.Line2D at 0x7f15d8021f28>])"
            ]
          },
          "metadata": {
            "tags": []
          },
          "execution_count": 43
        },
        {
          "output_type": "display_data",
          "data": {
            "image/png": "[encoded data removed]",
            "text/plain": [
              "<Figure size 432x288 with 1 Axes>"
            ]
          },
          "metadata": {
            "tags": []
          }
        }
      ]
    },
    {
      "cell_type": "code",
      "metadata": {
        "colab_type": "code",
        "id": "WW7xVyGVQeLU",
        "colab": {}
      },
      "source": [
        "# the problem is a little bit harder, train for a little bit longer\n",
        "EPOCHS = 2000\n",
        "\n",
        "losses = []\n",
        "\n",
        "# stores intermediate versions of our line\n",
        "lines = []\n",
        "\n",
        "linear_layer = LinearLayer()\n",
        "\n",
        "for step in range(EPOCHS):\n",
        "  # Open a GradientTape.\n",
        "  with tf.GradientTape() as tape:\n",
        "\n",
        "    # Forward pass.\n",
        "    y_pred = linear_layer(x)\n",
        "\n",
        "    # Loss value for this batch.\n",
        "    loss = loss_fn(y_true=tf.squeeze(y_true), y_pred=tf.squeeze(y_pred))\n",
        "    \n",
        "  losses.append(loss)\n",
        "  \n",
        "  a = linear_layer.w.numpy()[0][0]\n",
        "  b = linear_layer.b.numpy()[0]\n",
        "  lines.append((a, b))\n",
        "     \n",
        "  # Get gradients of weights wrt the loss.\n",
        "  gradients = tape.gradient(loss, linear_layer.trainable_weights)\n",
        "  \n",
        "  # Update the weights of our linear layer.\n",
        "  optimizer.apply_gradients(zip(gradients, linear_layer.trainable_weights))"
      ],
      "execution_count": 0,
      "outputs": []
    },
    {
      "cell_type": "code",
      "metadata": {
        "colab_type": "code",
        "id": "073RfK8UQrAT",
        "outputId": "594f8ab8-7543-40d8-e34b-8e76153b278a",
        "colab": {
          "base_uri": "https://localhost:8080/",
          "height": 300
        }
      },
      "source": [
        "plt.yscale('log')\n",
        "plt.ylabel(\"loss\")\n",
        "plt.xlabel(\"epochs\")\n",
        "\n",
        "plt.plot(losses)"
      ],
      "execution_count": 45,
      "outputs": [
        {
          "output_type": "execute_result",
          "data": {
            "text/plain": [
              "[<matplotlib.lines.Line2D at 0x7f15c9741240>]"
            ]
          },
          "metadata": {
            "tags": []
          },
          "execution_count": 45
        },
        {
          "output_type": "display_data",
          "data": {
            "image/png": "[encoded data removed]",
            "text/plain": [
              "<Figure size 432x288 with 1 Axes>"
            ]
          },
          "metadata": {
            "tags": []
          }
        }
      ]
    },
    {
      "cell_type": "markdown",
      "metadata": {
        "colab_type": "text",
        "id": "BJsSFRwCzAfm"
      },
      "source": [
        "### What lines the model draws over time"
      ]
    },
    {
      "cell_type": "markdown",
      "metadata": {
        "colab_type": "text",
        "id": "VHOreJd4VrKm"
      },
      "source": [
        "#### After 0, 500, 100 steps"
      ]
    },
    {
      "cell_type": "code",
      "metadata": {
        "colab_type": "code",
        "id": "s7uTZVaIy2C5",
        "outputId": "ad50ddf9-8882-451b-da59-489027c818c9",
        "colab": {
          "base_uri": "https://localhost:8080/",
          "height": 298
        }
      },
      "source": [
        "a, b = lines[0]\n",
        "\n",
        "plot_line(a, b, x, y_true)\n",
        "plt.title('0')"
      ],
      "execution_count": 46,
      "outputs": [
        {
          "output_type": "execute_result",
          "data": {
            "text/plain": [
              "Text(0.5, 1.0, '0')"
            ]
          },
          "metadata": {
            "tags": []
          },
          "execution_count": 46
        },
        {
          "output_type": "display_data",
          "data": {
            "image/png": "[encoded data removed]",
            "text/plain": [
              "<Figure size 432x288 with 1 Axes>"
            ]
          },
          "metadata": {
            "tags": []
          }
        }
      ]
    },
    {
      "cell_type": "code",
      "metadata": {
        "colab_type": "code",
        "id": "EGuY0tV7zCb4",
        "outputId": "f5359277-c021-4994-deec-596517d27a0b",
        "colab": {
          "base_uri": "https://localhost:8080/",
          "height": 298
        }
      },
      "source": [
        "a, b = lines[500]\n",
        "\n",
        "plot_line(a, b, x, y_true)\n",
        "plt.title('500')"
      ],
      "execution_count": 47,
      "outputs": [
        {
          "output_type": "execute_result",
          "data": {
            "text/plain": [
              "Text(0.5, 1.0, '500')"
            ]
          },
          "metadata": {
            "tags": []
          },
          "execution_count": 47
        },
        {
          "output_type": "display_data",
          "data": {
            "image/png": "[encoded data removed]",
            "text/plain": [
              "<Figure size 432x288 with 1 Axes>"
            ]
          },
          "metadata": {
            "tags": []
          }
        }
      ]
    },
    {
      "cell_type": "code",
      "metadata": {
        "id": "kIH0UloUu8dM",
        "colab_type": "code",
        "outputId": "bd641e81-4dda-4250-b57a-a9c5462d8e5f",
        "colab": {
          "base_uri": "https://localhost:8080/",
          "height": 298
        }
      },
      "source": [
        "a, b = lines[1000]\n",
        "\n",
        "plot_line(a, b, x, y_true)\n",
        "plt.title('1000')"
      ],
      "execution_count": 48,
      "outputs": [
        {
          "output_type": "execute_result",
          "data": {
            "text/plain": [
              "Text(0.5, 1.0, '1000')"
            ]
          },
          "metadata": {
            "tags": []
          },
          "execution_count": 48
        },
        {
          "output_type": "display_data",
          "data": {
            "image/png": "[encoded data removed]",
            "text/plain": [
              "<Figure size 432x288 with 1 Axes>"
            ]
          },
          "metadata": {
            "tags": []
          }
        }
      ]
    },
    {
      "cell_type": "code",
      "metadata": {
        "colab_type": "code",
        "id": "1Ps9g06MzHtY",
        "outputId": "40d1fb2c-00e3-4e34-dceb-b39e36f18b30",
        "colab": {
          "base_uri": "https://localhost:8080/",
          "height": 298
        }
      },
      "source": [
        "a, b = lines[1999]\n",
        "\n",
        "plot_line(a, b, x, y_true)\n",
        "plt.title('2000, Final')"
      ],
      "execution_count": 49,
      "outputs": [
        {
          "output_type": "execute_result",
          "data": {
            "text/plain": [
              "Text(0.5, 1.0, '2000, Final')"
            ]
          },
          "metadata": {
            "tags": []
          },
          "execution_count": 49
        },
        {
          "output_type": "display_data",
          "data": {
            "image/png": "[encoded data removed]",
            "text/plain": [
              "<Figure size 432x288 with 1 Axes>"
            ]
          },
          "metadata": {
            "tags": []
          }
        }
      ]
    },
    {
      "cell_type": "markdown",
      "metadata": {
        "id": "SN4OLJNNyHRk",
        "colab_type": "text"
      },
      "source": [
        "# Exercise: Re-Run experiment with more noise\n",
        "\n",
        "* run the cells above and train our model\n",
        "* change the noise of the line and make it less line like\n",
        "* can you still get good training results?\n",
        "* how would you know? how is the loss changing?"
      ]
    },
    {
      "cell_type": "markdown",
      "metadata": {
        "colab_type": "text",
        "id": "axg318pV9GJ3"
      },
      "source": [
        "## Understandinging the effect of activation functions\n",
        "\n",
        "Typically, the output of a neuron is transformed using an activation function which compresses the output to a value between 0 and 1 (sigmoid), or between -1 and 1 (tanh) or sets all negative values to zero (relu).\n",
        "\n",
        "<img src='https://raw.githubusercontent.com/DJCordhose/deep-learning-crash-course-notebooks/master/img/neuron.jpg'>\n",
        "\n",
        "### Typical Activation Functions\n",
        "\n",
        "<img src='https://djcordhose.github.io/ai/img/activation-functions.jpg'>\n"
      ]
    },
    {
      "cell_type": "code",
      "metadata": {
        "colab_type": "code",
        "id": "qTjQQECGVLAm",
        "outputId": "16a3d011-2ec5-40f8-be05-3ecfc5acd2ee",
        "colab": {
          "base_uri": "https://localhost:8080/",
          "height": 612
        }
      },
      "source": [
        "x = tf.reshape(tf.constant(tf.range(-1, 4, 0.1)), (50, 1))\n",
        "y_pred = linear_layer(x)\n",
        "\n",
        "plt.figure(figsize=(20, 10))\n",
        "\n",
        "plt.plot(x, y_pred, linewidth=4)\n",
        "\n",
        "y_pred_relu = tf.nn.relu(y_pred)\n",
        "plt.plot(x, y_pred_relu)\n",
        "\n",
        "y_pred_sigmoid = tf.nn.sigmoid(y_pred)\n",
        "plt.plot(x, y_pred_sigmoid)\n",
        "\n",
        "y_pred_tanh = tf.nn.tanh(y_pred)\n",
        "plt.plot(x, y_pred_tanh)\n",
        "\n",
        "plt.plot(input, output, 'ro')\n",
        "\n",
        "plt.legend(['no activation', 'relu', 'sigmoid', 'tanh'])"
      ],
      "execution_count": 50,
      "outputs": [
        {
          "output_type": "execute_result",
          "data": {
            "text/plain": [
              "<matplotlib.legend.Legend at 0x7f15c9481d68>"
            ]
          },
          "metadata": {
            "tags": []
          },
          "execution_count": 50
        },
        {
          "output_type": "display_data",
          "data": {
            "image/png": "[encoded data removed]",
            "text/plain": [
              "<Figure size 1440x720 with 1 Axes>"
            ]
          },
          "metadata": {
            "tags": []
          }
        }
      ]
    },
    {
      "cell_type": "markdown",
      "metadata": {
        "colab_type": "text",
        "id": "6CUXuf_xWghl"
      },
      "source": [
        "## Logictic Regression\n",
        "\n",
        "So far we were inferring a continous value for another, now we want to classify. Imagine we have a line that separates two categories in two dimensions."
      ]
    },
    {
      "cell_type": "code",
      "metadata": {
        "colab_type": "code",
        "id": "y0z1ymltS_a7",
        "outputId": "bc75c8e7-3890-4cc0-fbfc-14bd87fe4a84",
        "colab": {
          "base_uri": "https://localhost:8080/",
          "height": 368
        }
      },
      "source": [
        "from matplotlib.colors import ListedColormap\n",
        "\n",
        "a = -1\n",
        "b = 1\n",
        "n = 100\n",
        "\n",
        "# all points\n",
        "X = np.random.uniform(0, 1, (n, 2))\n",
        "\n",
        "# our line\n",
        "line_x = np.random.uniform(0, 1, n)\n",
        "line_y = a*line_x+b\n",
        "plt.plot(line_x, line_y, 'r')\n",
        "\n",
        "# below and above line\n",
        "noise_level = 0.3\n",
        "noise = noise_level * np.random.normal(0, 1, n)\n",
        "y = X[:, 1] > a*X[:, 0]+b + noise\n",
        "y = y.astype(int)\n",
        "\n",
        "plt.xlabel(\"x1\")\n",
        "plt.ylabel(\"x2\")\n",
        "\n",
        "plt.scatter(X[:,0], X[:,1], c=y, cmap=ListedColormap(['#FF6666', '#6666FF']), marker='o', edgecolors='k')\n",
        "y"
      ],
      "execution_count": 51,
      "outputs": [
        {
          "output_type": "execute_result",
          "data": {
            "text/plain": [
              "array([0, 0, 1, 1, 1, 1, 0, 0, 0, 0, 1, 1, 0, 1, 0, 1, 0, 0, 0, 1, 1, 0,\n",
              "       0, 1, 1, 0, 0, 1, 1, 0, 0, 1, 0, 1, 1, 0, 0, 0, 0, 0, 1, 1, 0, 0,\n",
              "       0, 0, 0, 1, 0, 0, 0, 0, 0, 0, 1, 0, 0, 1, 0, 1, 0, 1, 0, 1, 0, 1,\n",
              "       1, 0, 0, 1, 1, 1, 0, 1, 1, 0, 0, 1, 0, 0, 1, 1, 1, 1, 0, 1, 0, 0,\n",
              "       0, 0, 0, 0, 0, 1, 0, 1, 0, 1, 1, 0])"
            ]
          },
          "metadata": {
            "tags": []
          },
          "execution_count": 51
        },
        {
          "output_type": "display_data",
          "data": {
            "image/png": "[encoded data removed]",
            "text/plain": [
              "<Figure size 432x288 with 1 Axes>"
            ]
          },
          "metadata": {
            "tags": []
          }
        }
      ]
    },
    {
      "cell_type": "markdown",
      "metadata": {
        "colab_type": "text",
        "id": "BEDW2lpFXRmn"
      },
      "source": [
        "### We compress output between 0 and 1 using sigmoid to match y\n",
        "* everything below 0.5 counts as 0, everthing above as 1"
      ]
    },
    {
      "cell_type": "code",
      "metadata": {
        "colab_type": "code",
        "id": "tHaML5z9SI6o",
        "colab": {}
      },
      "source": [
        "# sharing initialization from linear layer, but applying sigmoid when called \n",
        "class SigmoidLayer(LinearLayer):\n",
        "  \"\"\"y = sigmoid(w.x + b)\"\"\"\n",
        "\n",
        "  def __init__(self, **kwargs):\n",
        "      super(SigmoidLayer, self).__init__(**kwargs)\n",
        "\n",
        "  def call(self, inputs):\n",
        "      return tf.sigmoid(super().call(inputs))\n"
      ],
      "execution_count": 0,
      "outputs": []
    },
    {
      "cell_type": "markdown",
      "metadata": {
        "colab_type": "text",
        "id": "gZBtAidEYTNO"
      },
      "source": [
        "### We have 2d input now"
      ]
    },
    {
      "cell_type": "code",
      "metadata": {
        "colab_type": "code",
        "id": "a9IjwBVlvnCk",
        "outputId": "e2fef26d-2e28-46cc-dfa9-9350cf9da7c3",
        "colab": {
          "base_uri": "https://localhost:8080/",
          "height": 34
        }
      },
      "source": [
        "x = tf.constant(X, dtype='float32')\n",
        "y_true = tf.constant(y, dtype='float32')\n",
        "x.shape"
      ],
      "execution_count": 53,
      "outputs": [
        {
          "output_type": "execute_result",
          "data": {
            "text/plain": [
              "TensorShape([100, 2])"
            ]
          },
          "metadata": {
            "tags": []
          },
          "execution_count": 53
        }
      ]
    },
    {
      "cell_type": "code",
      "metadata": {
        "colab_type": "code",
        "id": "ycMPuy0ed3Nx",
        "colab": {}
      },
      "source": [
        "model = SigmoidLayer(input_dim=2)"
      ],
      "execution_count": 0,
      "outputs": []
    },
    {
      "cell_type": "markdown",
      "metadata": {
        "colab_type": "text",
        "id": "WLfqyTcecuoo"
      },
      "source": [
        "### Reconsidering the loss function\n",
        "\n",
        "_cross entropy is an alternative to squared error_ \n",
        "\n",
        "* cross entropy can be used as an error measure when a network's outputs can be thought of as representing independent hypotheses\n",
        "* activations can be understood as representing the probability that each hypothesis might be true\n",
        "* the loss indicates the distance between what the network believes this distribution should be, and what the teacher says it should be \n",
        "\n",
        "http://www.cse.unsw.edu.au/~billw/cs9444/crossentropy.html"
      ]
    },
    {
      "cell_type": "code",
      "metadata": {
        "colab_type": "code",
        "id": "tLFVcOeRd50X",
        "colab": {}
      },
      "source": [
        "loss_fn = tf.losses.binary_crossentropy"
      ],
      "execution_count": 0,
      "outputs": []
    },
    {
      "cell_type": "code",
      "metadata": {
        "colab_type": "code",
        "id": "nLK7C1L9d8Jk",
        "colab": {}
      },
      "source": [
        "# standard optimizer using advanced properties\n",
        "optimizer = tf.keras.optimizers.Adam(learning_rate=1e-1)"
      ],
      "execution_count": 0,
      "outputs": []
    },
    {
      "cell_type": "code",
      "metadata": {
        "colab_type": "code",
        "id": "TVhpXvlld_IG",
        "colab": {}
      },
      "source": [
        "# basic metric for classification: share of correctly predicted samples\n",
        "# https://www.tensorflow.org/versions/r2.0/api_docs/python/tf/metrics/Accuracy\n",
        "m = tf.keras.metrics.Accuracy()"
      ],
      "execution_count": 0,
      "outputs": []
    },
    {
      "cell_type": "code",
      "metadata": {
        "colab_type": "code",
        "id": "7uF1V08yqXi-",
        "outputId": "0429659e-3bf0-489d-f048-831186549b45",
        "colab": {
          "base_uri": "https://localhost:8080/",
          "height": 105
        }
      },
      "source": [
        "EPOCHS = 1000\n",
        "\n",
        "losses = []\n",
        "accuracies = []\n",
        "\n",
        "for step in range(EPOCHS):\n",
        "  # Open a GradientTape.\n",
        "  with tf.GradientTape() as tape:\n",
        "\n",
        "    # Forward pass.\n",
        "    y_pred = model(x)\n",
        "\n",
        "    # Loss value for this batch.\n",
        "    loss = loss_fn(y_true=tf.squeeze(y_true), y_pred=tf.squeeze(y_pred))\n",
        "\n",
        "  y_pred_binary = (tf.squeeze(y_pred) > 0.5).numpy().astype(float)\n",
        "  m.update_state(tf.squeeze(y_true), y_pred_binary)\n",
        "  accuracy = m.result()\n",
        "\n",
        "  losses.append(loss)\n",
        "  accuracies.append(accuracy)\n",
        "     \n",
        "  # Get gradients of weights wrt the loss.\n",
        "  gradients = tape.gradient(loss, model.trainable_weights)\n",
        "  \n",
        "  # Update the weights of our linear layer.\n",
        "  optimizer.apply_gradients(zip(gradients, model.trainable_weights))"
      ],
      "execution_count": 58,
      "outputs": [
        {
          "output_type": "stream",
          "text": [
            "WARNING: Logging before flag parsing goes to stderr.\n",
            "W0820 06:59:34.719056 139734862018432 deprecation.py:323] From /tensorflow-2.0.0b1/python3.6/tensorflow/python/ops/math_grad.py:1220: add_dispatch_support.<locals>.wrapper (from tensorflow.python.ops.array_ops) is deprecated and will be removed in a future version.\n",
            "Instructions for updating:\n",
            "Use tf.where in 2.0, which has the same broadcast rule as np.where\n"
          ],
          "name": "stderr"
        }
      ]
    },
    {
      "cell_type": "code",
      "metadata": {
        "colab_type": "code",
        "id": "-asNXUGQ0HTx",
        "outputId": "79d14515-cc38-4ae6-f15c-671e410e1bec",
        "colab": {
          "base_uri": "https://localhost:8080/",
          "height": 34
        }
      },
      "source": [
        "print(loss)"
      ],
      "execution_count": 59,
      "outputs": [
        {
          "output_type": "stream",
          "text": [
            "tf.Tensor(0.32723677, shape=(), dtype=float32)\n"
          ],
          "name": "stdout"
        }
      ]
    },
    {
      "cell_type": "code",
      "metadata": {
        "colab_type": "code",
        "id": "-HMbyRAR3qkw",
        "outputId": "357382ba-752e-4888-c8d8-56dac0d27802",
        "colab": {
          "base_uri": "https://localhost:8080/",
          "height": 34
        }
      },
      "source": [
        "print(accuracy)"
      ],
      "execution_count": 60,
      "outputs": [
        {
          "output_type": "stream",
          "text": [
            "tf.Tensor(0.86555, shape=(), dtype=float32)\n"
          ],
          "name": "stdout"
        }
      ]
    },
    {
      "cell_type": "code",
      "metadata": {
        "colab_type": "code",
        "id": "uxM3-mu_xF5L",
        "outputId": "992bcc91-ddce-4beb-dab9-435442bd1771",
        "colab": {
          "base_uri": "https://localhost:8080/",
          "height": 300
        }
      },
      "source": [
        "plt.yscale('log')\n",
        "plt.ylabel(\"loss\")\n",
        "plt.xlabel(\"epochs\")\n",
        "\n",
        "plt.plot(losses)"
      ],
      "execution_count": 61,
      "outputs": [
        {
          "output_type": "execute_result",
          "data": {
            "text/plain": [
              "[<matplotlib.lines.Line2D at 0x7f15c93efb38>]"
            ]
          },
          "metadata": {
            "tags": []
          },
          "execution_count": 61
        },
        {
          "output_type": "display_data",
          "data": {
            "image/png": "[encoded data removed]",
            "text/plain": [
              "<Figure size 432x288 with 1 Axes>"
            ]
          },
          "metadata": {
            "tags": []
          }
        }
      ]
    },
    {
      "cell_type": "code",
      "metadata": {
        "colab_type": "code",
        "id": "d7sGM5vW4Dcf",
        "outputId": "f6c94531-8b80-4fd5-b377-b0490824bc88",
        "colab": {
          "base_uri": "https://localhost:8080/",
          "height": 300
        }
      },
      "source": [
        "plt.ylabel(\"accuracy\")\n",
        "plt.xlabel(\"epochs\")\n",
        "\n",
        "plt.plot(accuracies)"
      ],
      "execution_count": 62,
      "outputs": [
        {
          "output_type": "execute_result",
          "data": {
            "text/plain": [
              "[<matplotlib.lines.Line2D at 0x7f15c9446390>]"
            ]
          },
          "metadata": {
            "tags": []
          },
          "execution_count": 62
        },
        {
          "output_type": "display_data",
          "data": {
            "image/png": "[encoded data removed]",
            "text/plain": [
              "<Figure size 432x288 with 1 Axes>"
            ]
          },
          "metadata": {
            "tags": []
          }
        }
      ]
    },
    {
      "cell_type": "code",
      "metadata": {
        "id": "l3wW3tZkzJOS",
        "colab_type": "code",
        "outputId": "6a47fdf7-9bb8-4e55-d7d1-90304eddd6bb",
        "colab": {
          "base_uri": "https://localhost:8080/",
          "height": 391
        }
      },
      "source": [
        "# tf.squeeze removes addional 1-dim dimensions\n",
        "y_pred = tf.squeeze(model(x))\n",
        "y_pred"
      ],
      "execution_count": 63,
      "outputs": [
        {
          "output_type": "execute_result",
          "data": {
            "text/plain": [
              "<tf.Tensor: id=291755, shape=(100,), dtype=float32, numpy=\n",
              "array([0.1288419 , 0.02214211, 0.7640328 , 0.5990649 , 0.9124992 ,\n",
              "       0.9911606 , 0.03936967, 0.12803772, 0.01052758, 0.27324426,\n",
              "       0.99593914, 0.9868479 , 0.01320314, 0.77716124, 0.0571931 ,\n",
              "       0.9954716 , 0.3262965 , 0.38502595, 0.05850261, 0.47189638,\n",
              "       0.6308104 , 0.03218535, 0.05258116, 0.98122704, 0.83344567,\n",
              "       0.02515766, 0.06436911, 0.3040951 , 0.85895824, 0.02779752,\n",
              "       0.0711804 , 0.95156217, 0.49730888, 0.4078225 , 0.71136475,\n",
              "       0.00968617, 0.03644732, 0.26856893, 0.1575523 , 0.48667842,\n",
              "       0.9277979 , 0.9512452 , 0.00618184, 0.25293422, 0.45353246,\n",
              "       0.14672455, 0.16231534, 0.44701695, 0.23756647, 0.05364278,\n",
              "       0.02295235, 0.42311615, 0.05973345, 0.12664616, 0.11867476,\n",
              "       0.00957423, 0.69762087, 0.9312539 , 0.83486724, 0.9528411 ,\n",
              "       0.00871405, 0.93746173, 0.0654192 , 0.991575  , 0.0930638 ,\n",
              "       0.9776521 , 0.9333559 , 0.00268242, 0.00567546, 0.56199396,\n",
              "       0.88289845, 0.98926336, 0.02960584, 0.82451606, 0.95716095,\n",
              "       0.21242842, 0.03310886, 0.94558334, 0.02890009, 0.12792888,\n",
              "       0.03941593, 0.48419157, 0.9343904 , 0.87605107, 0.09558651,\n",
              "       0.50687605, 0.9872556 , 0.05366969, 0.1648193 , 0.01062968,\n",
              "       0.64718187, 0.00198579, 0.01178378, 0.35441288, 0.01803142,\n",
              "       0.58867717, 0.56141967, 0.819029  , 0.97808933, 0.09602693],\n",
              "      dtype=float32)>"
            ]
          },
          "metadata": {
            "tags": []
          },
          "execution_count": 63
        }
      ]
    },
    {
      "cell_type": "markdown",
      "metadata": {
        "id": "X3GUBAV3CtE7",
        "colab_type": "text"
      },
      "source": [
        "## We are drawing a sigmoid in 3d and turn it into a step\n",
        "\n",
        "<img src='https://github.com/DJCordhose/ml-workshop/blob/master/notebooks/tf2/img/logistic.jpg?raw=1'>"
      ]
    },
    {
      "cell_type": "code",
      "metadata": {
        "colab_type": "code",
        "id": "3aYL-GyJY_37",
        "outputId": "677d7f83-58b1-4e3b-fa31-b668a1d9883e",
        "colab": {
          "base_uri": "https://localhost:8080/",
          "height": 119
        }
      },
      "source": [
        "# everything below 0.5 counts as 0, everthing above as 1\n",
        "# effectively turning this into a step\n",
        "y_pred_binary = (y_pred > 0.5).numpy().astype(float)\n",
        "y_pred_binary"
      ],
      "execution_count": 64,
      "outputs": [
        {
          "output_type": "execute_result",
          "data": {
            "text/plain": [
              "array([0., 0., 1., 1., 1., 1., 0., 0., 0., 0., 1., 1., 0., 1., 0., 1., 0.,\n",
              "       0., 0., 0., 1., 0., 0., 1., 1., 0., 0., 0., 1., 0., 0., 1., 0., 0.,\n",
              "       1., 0., 0., 0., 0., 0., 1., 1., 0., 0., 0., 0., 0., 0., 0., 0., 0.,\n",
              "       0., 0., 0., 0., 0., 1., 1., 1., 1., 0., 1., 0., 1., 0., 1., 1., 0.,\n",
              "       0., 1., 1., 1., 0., 1., 1., 0., 0., 1., 0., 0., 0., 0., 1., 1., 0.,\n",
              "       1., 1., 0., 0., 0., 1., 0., 0., 0., 0., 1., 1., 1., 1., 0.])"
            ]
          },
          "metadata": {
            "tags": []
          },
          "execution_count": 64
        }
      ]
    },
    {
      "cell_type": "code",
      "metadata": {
        "colab_type": "code",
        "id": "5O9WZSTuZBW3",
        "outputId": "8190b244-b58c-445a-ccba-7f0c1fbf7184",
        "colab": {
          "base_uri": "https://localhost:8080/",
          "height": 170
        }
      },
      "source": [
        "misclassified = y_true - y_pred_binary\n",
        "misclassified"
      ],
      "execution_count": 65,
      "outputs": [
        {
          "output_type": "execute_result",
          "data": {
            "text/plain": [
              "<tf.Tensor: id=291761, shape=(100,), dtype=float32, numpy=\n",
              "array([ 0.,  0.,  0.,  0.,  0.,  0.,  0.,  0.,  0.,  0.,  0.,  0.,  0.,\n",
              "        0.,  0.,  0.,  0.,  0.,  0.,  1.,  0.,  0.,  0.,  0.,  0.,  0.,\n",
              "        0.,  1.,  0.,  0.,  0.,  0.,  0.,  1.,  0.,  0.,  0.,  0.,  0.,\n",
              "        0.,  0.,  0.,  0.,  0.,  0.,  0.,  0.,  1.,  0.,  0.,  0.,  0.,\n",
              "        0.,  0.,  1.,  0., -1.,  0., -1.,  0.,  0.,  0.,  0.,  0.,  0.,\n",
              "        0.,  0.,  0.,  0.,  0.,  0.,  0.,  0.,  0.,  0.,  0.,  0.,  0.,\n",
              "        0.,  0.,  1.,  1.,  0.,  0.,  0.,  0., -1.,  0.,  0.,  0., -1.,\n",
              "        0.,  0.,  1.,  0.,  0., -1.,  0.,  0.,  0.], dtype=float32)>"
            ]
          },
          "metadata": {
            "tags": []
          },
          "execution_count": 65
        }
      ]
    },
    {
      "cell_type": "code",
      "metadata": {
        "colab_type": "code",
        "id": "IiIut--IYxWz",
        "outputId": "9ffa118d-4781-41aa-8686-84e11cbb6107",
        "colab": {
          "base_uri": "https://localhost:8080/",
          "height": 300
        }
      },
      "source": [
        "# strong colors are misclassified\n",
        "\n",
        "plt.xlabel(\"x1\")\n",
        "plt.ylabel(\"x2\")\n",
        "\n",
        "plt.scatter(X[:,0], X[:,1], c=misclassified, cmap=ListedColormap(['#FF0000', '#FFFFFF', '#0000FF']), marker='o')\n",
        "plt.scatter(X[:,0], X[:,1], c=y_pred_binary, cmap=ListedColormap(['#FF6666', '#6666FF']), marker='o', edgecolors='k', alpha=0.5)\n"
      ],
      "execution_count": 66,
      "outputs": [
        {
          "output_type": "execute_result",
          "data": {
            "text/plain": [
              "<matplotlib.collections.PathCollection at 0x7f15d80a00b8>"
            ]
          },
          "metadata": {
            "tags": []
          },
          "execution_count": 66
        },
        {
          "output_type": "display_data",
          "data": {
            "image/png": "[encoded data removed]",
            "text/plain": [
              "<Figure size 432x288 with 1 Axes>"
            ]
          },
          "metadata": {
            "tags": []
          }
        }
      ]
    },
    {
      "cell_type": "code",
      "metadata": {
        "id": "QDVNVNQH05hS",
        "colab_type": "code",
        "colab": {}
      },
      "source": [
        "# for interactive 3d on local jupyer notebook\n",
        "\n",
        "# %matplotlib notebook"
      ],
      "execution_count": 0,
      "outputs": []
    },
    {
      "cell_type": "code",
      "metadata": {
        "id": "yZddH6Ed0S_e",
        "colab_type": "code",
        "outputId": "7e3fb6a7-9e6d-4606-9ea7-bad60d656c5e",
        "colab": {
          "base_uri": "https://localhost:8080/",
          "height": 466
        }
      },
      "source": [
        "from mpl_toolkits.mplot3d import Axes3D\n",
        "\n",
        "fig = plt.figure(figsize=(8, 8))\n",
        "\n",
        "ax = fig.add_subplot(111, projection='3d')\n",
        "\n",
        "# we can have the probability encoded in shade of color\n",
        "# ax.scatter(X[:, 0], X[:, 1], y_pred, c=y_pred_binary, \n",
        "ax.scatter(X[:, 0], X[:, 1], y_pred, c=y_pred, \n",
        "#            https://matplotlib.org/3.1.0/gallery/color/colormap_reference.html\n",
        "           cmap=plt.cm.bwr,\n",
        "           depthshade=False,\n",
        "           marker='o', edgecolors='k')\n",
        "\n",
        "# https://en.wikipedia.org/wiki/Azimuth\n",
        "ax.view_init(elev=10, azim=-40)"
      ],
      "execution_count": 68,
      "outputs": [
        {
          "output_type": "display_data",
          "data": {
            "image/png": "[encoded data removed]",
            "text/plain": [
              "<Figure size 576x576 with 1 Axes>"
            ]
          },
          "metadata": {
            "tags": []
          }
        }
      ]
    },
    {
      "cell_type": "code",
      "metadata": {
        "id": "_GxYPAAk2Ax8",
        "colab_type": "code",
        "outputId": "6f3662a3-a53e-4a70-a226-ce509f1c9093",
        "colab": {
          "base_uri": "https://localhost:8080/",
          "height": 466
        }
      },
      "source": [
        "fig = plt.figure(figsize=(8, 8))\n",
        "\n",
        "ax = fig.add_subplot(111, projection='3d')\n",
        "ax.scatter(X[:, 0], X[:, 1], y_pred_binary, c=y_pred, \n",
        "           cmap=plt.cm.bwr,\n",
        "           depthshade=False,\n",
        "           marker='o', edgecolors='k')\n",
        "\n",
        "ax.view_init(elev=10, azim=-40)"
      ],
      "execution_count": 69,
      "outputs": [
        {
          "output_type": "display_data",
          "data": {
            "image/png": "[encoded data removed]",
            "text/plain": [
              "<Figure size 576x576 with 1 Axes>"
            ]
          },
          "metadata": {
            "tags": []
          }
        }
      ]
    },
    {
      "cell_type": "markdown",
      "metadata": {
        "id": "XwVRBpM42ry9",
        "colab_type": "text"
      },
      "source": [
        "# Exercise: run this classification experiment with a bit more noise\n",
        "\n",
        "* generated your own dataset using a bit more noise\n",
        "* train the model and generate all the plots\n",
        "* does all this make sense to you?"
      ]
    },
    {
      "cell_type": "markdown",
      "metadata": {
        "colab_type": "text",
        "id": "jZzGU633WNvt"
      },
      "source": [
        "## The same solution using high level Keas API"
      ]
    },
    {
      "cell_type": "code",
      "metadata": {
        "colab_type": "code",
        "id": "STfOU_LmVAnj",
        "outputId": "5dc9ec37-595f-4e02-8f4a-4471290bea03",
        "colab": {
          "base_uri": "https://localhost:8080/",
          "height": 187
        }
      },
      "source": [
        "from tensorflow.keras.layers import Dense\n",
        " \n",
        "model = tf.keras.Sequential()\n",
        "\n",
        "model.add(Dense(units=1, activation='sigmoid', input_dim=2))\n",
        "\n",
        "model.summary()"
      ],
      "execution_count": 70,
      "outputs": [
        {
          "output_type": "stream",
          "text": [
            "Model: \"sequential\"\n",
            "_________________________________________________________________\n",
            "Layer (type)                 Output Shape              Param #   \n",
            "=================================================================\n",
            "dense (Dense)                (None, 1)                 3         \n",
            "=================================================================\n",
            "Total params: 3\n",
            "Trainable params: 3\n",
            "Non-trainable params: 0\n",
            "_________________________________________________________________\n"
          ],
          "name": "stdout"
        }
      ]
    },
    {
      "cell_type": "code",
      "metadata": {
        "colab_type": "code",
        "id": "_Vffpso6WpgK",
        "outputId": "0d1f7a46-5f1d-412f-9bcd-d51d87755b36",
        "colab": {
          "base_uri": "https://localhost:8080/",
          "height": 51
        }
      },
      "source": [
        "%%time \n",
        "\n",
        "model.compile(loss=loss_fn, # binary cross entropy, unchanged from low level example\n",
        "             optimizer=optimizer, # adam, unchanged from low level example\n",
        "             metrics=['accuracy'])\n",
        "\n",
        "# does a similar thing internally as our loop from above\n",
        "history = model.fit(x, y_true, epochs=EPOCHS, verbose=0)"
      ],
      "execution_count": 71,
      "outputs": [
        {
          "output_type": "stream",
          "text": [
            "CPU times: user 9.39 s, sys: 729 ms, total: 10.1 s\n",
            "Wall time: 8.55 s\n"
          ],
          "name": "stdout"
        }
      ]
    },
    {
      "cell_type": "code",
      "metadata": {
        "colab_type": "code",
        "id": "NfKDwhCiWkRI",
        "outputId": "a2e19922-6d2a-4c0c-fb10-539338b8acfe",
        "colab": {
          "base_uri": "https://localhost:8080/",
          "height": 51
        }
      },
      "source": [
        "loss, accuracy = model.evaluate(x, y_true)\n",
        "loss, accuracy"
      ],
      "execution_count": 72,
      "outputs": [
        {
          "output_type": "stream",
          "text": [
            "100/100 [==============================] - 0s 387us/sample - loss: 0.3285 - accuracy: 0.8800\n"
          ],
          "name": "stdout"
        },
        {
          "output_type": "execute_result",
          "data": {
            "text/plain": [
              "(0.32846504807472227, 0.88)"
            ]
          },
          "metadata": {
            "tags": []
          },
          "execution_count": 72
        }
      ]
    },
    {
      "cell_type": "code",
      "metadata": {
        "colab_type": "code",
        "id": "N2U7B9ZEaKAz",
        "outputId": "0903e3f1-d758-4770-ac26-c680f26484f2",
        "colab": {
          "base_uri": "https://localhost:8080/",
          "height": 300
        }
      },
      "source": [
        "plt.yscale('log')\n",
        "plt.ylabel(\"accuracy\")\n",
        "plt.xlabel(\"epochs\")\n",
        "\n",
        "plt.plot(history.history['accuracy'])"
      ],
      "execution_count": 73,
      "outputs": [
        {
          "output_type": "execute_result",
          "data": {
            "text/plain": [
              "[<matplotlib.lines.Line2D at 0x7f15c8d87358>]"
            ]
          },
          "metadata": {
            "tags": []
          },
          "execution_count": 73
        },
        {
          "output_type": "display_data",
          "data": {
            "image/png": "[encoded data removed]",
            "text/plain": [
              "<Figure size 432x288 with 1 Axes>"
            ]
          },
          "metadata": {
            "tags": []
          }
        }
      ]
    },
    {
      "cell_type": "code",
      "metadata": {
        "colab_type": "code",
        "id": "O61MfB85aMT6",
        "outputId": "d0c518dd-9385-4a36-e2e0-6abe7922ce5f",
        "colab": {
          "base_uri": "https://localhost:8080/",
          "height": 300
        }
      },
      "source": [
        "plt.yscale('log')\n",
        "plt.ylabel(\"loss\")\n",
        "plt.xlabel(\"epochs\")\n",
        "\n",
        "plt.plot(history.history['loss'])"
      ],
      "execution_count": 74,
      "outputs": [
        {
          "output_type": "execute_result",
          "data": {
            "text/plain": [
              "[<matplotlib.lines.Line2D at 0x7f15c8ce0f28>]"
            ]
          },
          "metadata": {
            "tags": []
          },
          "execution_count": 74
        },
        {
          "output_type": "display_data",
          "data": {
            "image/png": "[encoded data removed]",
            "text/plain": [
              "<Figure size 432x288 with 1 Axes>"
            ]
          },
          "metadata": {
            "tags": []
          }
        }
      ]
    },
    {
      "cell_type": "code",
      "metadata": {
        "colab_type": "code",
        "id": "qh8dTuD0a0C3",
        "outputId": "f1483a20-34fc-4a5e-9a42-38c52842e967",
        "colab": {
          "base_uri": "https://localhost:8080/",
          "height": 119
        }
      },
      "source": [
        "y_pred = model.predict(x)\n",
        "y_pred_binary = (tf.squeeze(y_pred) > 0.5).numpy().astype(float)\n",
        "y_pred_binary"
      ],
      "execution_count": 75,
      "outputs": [
        {
          "output_type": "execute_result",
          "data": {
            "text/plain": [
              "array([0., 0., 1., 1., 1., 1., 0., 0., 0., 0., 1., 1., 0., 1., 0., 1., 0.,\n",
              "       0., 0., 0., 1., 0., 0., 1., 1., 0., 0., 0., 1., 0., 0., 1., 0., 0.,\n",
              "       1., 0., 0., 0., 0., 1., 1., 1., 0., 0., 0., 0., 0., 1., 0., 0., 0.,\n",
              "       0., 0., 0., 0., 0., 1., 1., 1., 1., 0., 1., 0., 1., 0., 1., 1., 0.,\n",
              "       0., 1., 1., 1., 0., 1., 1., 0., 0., 1., 0., 0., 0., 1., 1., 1., 0.,\n",
              "       1., 1., 0., 0., 0., 1., 0., 0., 0., 0., 1., 1., 1., 1., 0.])"
            ]
          },
          "metadata": {
            "tags": []
          },
          "execution_count": 75
        }
      ]
    },
    {
      "cell_type": "markdown",
      "metadata": {
        "colab_type": "text",
        "id": "HlPMzDleu4aM"
      },
      "source": [
        "## From single neuron to network in the TensorFlow Playground\n",
        "\n",
        "<img src='https://djcordhose.github.io/ai/img/tf-plaground.png'>\n",
        "\n",
        "https://playground.tensorflow.org/#activation=linear&batchSize=10&dataset=circle&regDataset=reg-plane&learningRate=0.01&regularizationRate=0&noise=0&networkShape=1&seed=0.98437&showTestData=false&discretize=false&percTrainData=50&x=true&y=true&xTimesY=false&xSquared=false&ySquared=false&cosX=false&sinX=false&cosY=false&sinY=false&collectStats=false&problem=classification&initZero=false&hideText=false"
      ]
    }
  ]
}