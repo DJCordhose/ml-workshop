{
  "nbformat": 4,
  "nbformat_minor": 0,
  "metadata": {
    "colab": {
      "name": "tf-low-level.ipynb",
      "version": "0.3.2",
      "provenance": [],
      "include_colab_link": true
    },
    "language_info": {
      "codemirror_mode": {
        "name": "ipython",
        "version": 3
      },
      "file_extension": ".py",
      "mimetype": "text/x-python",
      "name": "python",
      "nbconvert_exporter": "python",
      "pygments_lexer": "ipython3",
      "version": "3.7.3"
    },
    "kernelspec": {
      "display_name": "Python 3",
      "language": "python",
      "name": "python3"
    },
    "accelerator": "GPU"
  },
  "cells": [
    {
      "cell_type": "markdown",
      "metadata": {
        "id": "view-in-github",
        "colab_type": "text"
      },
      "source": [
        "<a href=\"https://colab.research.google.com/github/DJCordhose/ml-workshop/blob/master/notebooks/tf2/tf-low-level.ipynb\" target=\"_parent\"><img src=\"https://colab.research.google.com/assets/colab-badge.svg\" alt=\"Open In Colab\"/></a>"
      ]
    },
    {
      "cell_type": "markdown",
      "metadata": {
        "colab_type": "text",
        "id": "XdfXfXK2-CiG"
      },
      "source": [
        "# Introduction to Neural Networks with Low Level TensorFlow 2\n",
        "\n",
        "Based on \n",
        "* This thread is a crash course on everything you need to know to use TensorFlow 2.0 + Keras for deep learning research: https://twitter.com/fchollet/status/1105139360226140160\n",
        "* Colab Notebook _tf.keras for Researchers_: https://colab.research.google.com/drive/17u-pRZJnKN0gO5XZmq8n5A2bKGrfKEUg#scrollTo=UHOOlixcQ9Gl\n",
        "* Effective TensorFlow 2: https://www.tensorflow.org/alpha/guide/effective_tf2\n",
        "* Writing a custom training loop: https://twitter.com/fchollet/status/1132013928681050113\n"
      ]
    },
    {
      "cell_type": "code",
      "metadata": {
        "colab_type": "code",
        "id": "u8IonVMfAelY",
        "colab": {}
      },
      "source": [
        "!pip install -q tf-nightly-gpu-2.0-preview"
      ],
      "execution_count": 0,
      "outputs": []
    },
    {
      "cell_type": "code",
      "metadata": {
        "colab_type": "code",
        "id": "0rEa6M11-CiY",
        "outputId": "eabad619-3f99-427d-a2ec-d4f45c300533",
        "colab": {
          "base_uri": "https://localhost:8080/",
          "height": 34
        }
      },
      "source": [
        "import tensorflow as tf\n",
        "print(tf.__version__)"
      ],
      "execution_count": 2,
      "outputs": [
        {
          "output_type": "stream",
          "text": [
            "2.0.0-dev20190805\n"
          ],
          "name": "stdout"
        }
      ]
    },
    {
      "cell_type": "code",
      "metadata": {
        "colab_type": "code",
        "id": "I35W9tmrRWF3",
        "outputId": "a0dadd34-983c-4d7e-c2ba-e2c168c1f53b",
        "colab": {
          "base_uri": "https://localhost:8080/",
          "height": 34
        }
      },
      "source": [
        "# a small sanity check, does tf seem to work ok?\n",
        "hello = tf.constant('Hello TF!')\n",
        "print(\"This works: {}\".format(hello))"
      ],
      "execution_count": 3,
      "outputs": [
        {
          "output_type": "stream",
          "text": [
            "This works: b'Hello TF!'\n"
          ],
          "name": "stdout"
        }
      ]
    },
    {
      "cell_type": "code",
      "metadata": {
        "colab_type": "code",
        "id": "DpXHERPSQvMD",
        "colab": {}
      },
      "source": [
        "# this should return True even on Colab\n",
        "assert tf.test.is_gpu_available()"
      ],
      "execution_count": 0,
      "outputs": []
    },
    {
      "cell_type": "code",
      "metadata": {
        "colab_type": "code",
        "id": "hEoP6O2r3Jvf",
        "colab": {}
      },
      "source": [
        "# we have the gpu version of TensorFlow running\n",
        "assert tf.test.is_built_with_cuda()"
      ],
      "execution_count": 0,
      "outputs": []
    },
    {
      "cell_type": "code",
      "metadata": {
        "colab_type": "code",
        "id": "N5djlq79Lc5P",
        "outputId": "71133241-af44-4d30-8699-2b10a7e0131a",
        "colab": {
          "base_uri": "https://localhost:8080/",
          "height": 289
        }
      },
      "source": [
        "# What kind of GPU are we running on\n",
        "!nvidia-smi"
      ],
      "execution_count": 6,
      "outputs": [
        {
          "output_type": "stream",
          "text": [
            "Mon Aug  5 15:05:20 2019       \n",
            "+-----------------------------------------------------------------------------+\n",
            "| NVIDIA-SMI 418.67       Driver Version: 410.79       CUDA Version: 10.0     |\n",
            "|-------------------------------+----------------------+----------------------+\n",
            "| GPU  Name        Persistence-M| Bus-Id        Disp.A | Volatile Uncorr. ECC |\n",
            "| Fan  Temp  Perf  Pwr:Usage/Cap|         Memory-Usage | GPU-Util  Compute M. |\n",
            "|===============================+======================+======================|\n",
            "|   0  Tesla T4            Off  | 00000000:00:04.0 Off |                    0 |\n",
            "| N/A   46C    P0    27W /  70W |    129MiB / 15079MiB |      1%      Default |\n",
            "+-------------------------------+----------------------+----------------------+\n",
            "                                                                               \n",
            "+-----------------------------------------------------------------------------+\n",
            "| Processes:                                                       GPU Memory |\n",
            "|  GPU       PID   Type   Process name                             Usage      |\n",
            "|=============================================================================|\n",
            "+-----------------------------------------------------------------------------+\n"
          ],
          "name": "stdout"
        }
      ]
    },
    {
      "cell_type": "code",
      "metadata": {
        "colab_type": "code",
        "id": "PqalzDXr3OiQ",
        "colab": {}
      },
      "source": [
        "# different from TF 1, everything gets executed immediately \n",
        "assert tf.executing_eagerly()"
      ],
      "execution_count": 0,
      "outputs": []
    },
    {
      "cell_type": "markdown",
      "metadata": {
        "colab_type": "text",
        "id": "iZgqH7oOh73-"
      },
      "source": [
        "## Transforming an input to a known output"
      ]
    },
    {
      "cell_type": "code",
      "metadata": {
        "colab_type": "code",
        "id": "VsTh2muvh8vi",
        "colab": {}
      },
      "source": [
        "input = [[-1], [0], [1], [2], [3], [4]]\n",
        "output = [[2], [1], [0], [-1], [-2], [-3]]"
      ],
      "execution_count": 0,
      "outputs": []
    },
    {
      "cell_type": "code",
      "metadata": {
        "colab_type": "code",
        "id": "WJ70YqfqiBrt",
        "outputId": "c3782e07-33b0-4399-df81-6bf27ab733f9",
        "colab": {
          "base_uri": "https://localhost:8080/",
          "height": 300
        }
      },
      "source": [
        "import matplotlib.pyplot as plt\n",
        "\n",
        "plt.xlabel('input')\n",
        "plt.ylabel('output')\n",
        "\n",
        "plt.plot(input, output, 'ro')"
      ],
      "execution_count": 9,
      "outputs": [
        {
          "output_type": "execute_result",
          "data": {
            "text/plain": [
              "[<matplotlib.lines.Line2D at 0x7f23b05e5358>]"
            ]
          },
          "metadata": {
            "tags": []
          },
          "execution_count": 9
        },
        {
          "output_type": "display_data",
          "data": {
            "image/png": "[encoded data removed]",
            "text/plain": [
              "<Figure size 432x288 with 1 Axes>"
            ]
          },
          "metadata": {
            "tags": []
          }
        }
      ]
    },
    {
      "cell_type": "markdown",
      "metadata": {
        "colab_type": "text",
        "id": "IVyyWLjeiPU0"
      },
      "source": [
        "### relation between input and output is linear"
      ]
    },
    {
      "cell_type": "code",
      "metadata": {
        "colab_type": "code",
        "id": "XBljtpGIiCOj",
        "outputId": "81db4e07-818a-425a-ddb2-8c83b2449dc7",
        "colab": {
          "base_uri": "https://localhost:8080/",
          "height": 286
        }
      },
      "source": [
        "plt.plot(input, output)\n",
        "plt.plot(input, output, 'ro')"
      ],
      "execution_count": 10,
      "outputs": [
        {
          "output_type": "execute_result",
          "data": {
            "text/plain": [
              "[<matplotlib.lines.Line2D at 0x7f23c4616c88>]"
            ]
          },
          "metadata": {
            "tags": []
          },
          "execution_count": 10
        },
        {
          "output_type": "display_data",
          "data": {
            "image/png": "[encoded data removed]",
            "text/plain": [
              "<Figure size 432x288 with 1 Axes>"
            ]
          },
          "metadata": {
            "tags": []
          }
        }
      ]
    },
    {
      "cell_type": "markdown",
      "metadata": {
        "colab_type": "text",
        "id": "WKxxou9oirbE"
      },
      "source": [
        "## Defining the model to train\n",
        "\n",
        "untrained single unit (neuron) also outputs a line from same input, although another one \n",
        "\n",
        "### The Artificial Neuron: Foundation of Deep Neural Networks (simplified, more later)\n",
        "\n",
        "* a neuron takes a number of numerical inputs\n",
        "* multiplies each with a weight, sums up all weighted input and  \n",
        "* adds bias (constant) to that sum\n",
        "* from this it creates a single numerical output\n",
        "* for one input (one dimension) this would be a description of a line\n",
        "* for more dimensions this describes a hyper plane that can serve as a decision boundary\n",
        "* this is typically expressed as a matrix multplication plus an addition\n",
        "\n",
        "\n",
        "<img src='https://djcordhose.github.io/ai/img/insurance/neuron211.jpg'>"
      ]
    },
    {
      "cell_type": "markdown",
      "metadata": {
        "colab_type": "text",
        "id": "O6oo7hM_0pv5"
      },
      "source": [
        "### This can be expressed using a matrix multiplication"
      ]
    },
    {
      "cell_type": "code",
      "metadata": {
        "colab_type": "code",
        "id": "7h8MQieO0vay",
        "outputId": "35e87dd6-1829-4ebf-c5fa-43d67907d7f9",
        "colab": {
          "base_uri": "https://localhost:8080/",
          "height": 34
        }
      },
      "source": [
        "# parameters of the neuron (can be learned), defining the function to apply\n",
        "w = tf.constant([[1.5], [-2], [1]], dtype='float32')\n",
        "b = tf.constant([6], dtype='float32')\n",
        "\n",
        "# variable input being fed through the parameterized neuron\n",
        "x = tf.constant([[10, 6, 8]], dtype='float32')\n",
        "\n",
        "# computed output\n",
        "y = tf.matmul(x, w) + b\n",
        "print(y)"
      ],
      "execution_count": 11,
      "outputs": [
        {
          "output_type": "stream",
          "text": [
            "tf.Tensor([[17.]], shape=(1, 1), dtype=float32)\n"
          ],
          "name": "stdout"
        }
      ]
    },
    {
      "cell_type": "markdown",
      "metadata": {
        "id": "yvlfhLSP78IZ",
        "colab_type": "text"
      },
      "source": [
        "# Hands-On: Experiment with our neuron\n",
        "\n",
        "* execute the notebook up to this cell\n",
        "* change the values of the input, weights and bias in the cell above\n",
        "* restart the calculation and make sure the result meets your expectations"
      ]
    },
    {
      "cell_type": "markdown",
      "metadata": {
        "colab_type": "text",
        "id": "IGylP_16koS6"
      },
      "source": [
        "### Defining a layer with a random number of neurons and inputs\n",
        "\n",
        "With a little more work this would be a complete implementation of a fully connected layer\n",
        "\n"
      ]
    },
    {
      "cell_type": "code",
      "metadata": {
        "colab_type": "code",
        "id": "aMCDcq4JelaE",
        "colab": {
          "base_uri": "https://localhost:8080/",
          "height": 51
        },
        "outputId": "cd7eae53-a23f-4654-ee8c-fce1f2547722"
      },
      "source": [
        "from tensorflow.keras.layers import Layer\n",
        "\n",
        "# we derive from a TensorFlow Layer\n",
        "class LinearLayer(Layer):\n",
        "  \"\"\"y = w.x + b\"\"\"\n",
        "\n",
        "  # initializing our layer\n",
        "  def __init__(self, units=1, input_dim=1):\n",
        "      super(LinearLayer, self).__init__()\n",
        "      # these are our weights, which can be learned, initialized normally around 0 with stddev of 2\n",
        "      self.w = tf.Variable(\n",
        "          initial_value = tf.random_normal_initializer(stddev=2)(shape=(input_dim, units), dtype='float32'),\n",
        "          trainable=True,\n",
        "          name='weights')\n",
        "      # these are our bisases, also can be learned, initialized as 0\n",
        "      self.b = tf.Variable(\n",
        "          initial_value = tf.zeros_initializer()(shape=(units,), dtype='float32'),\n",
        "          trainable=True,\n",
        "          name='biases')\n",
        "\n",
        "  # what the layer does (some as in our example before)\n",
        "  def call(self, inputs):\n",
        "      return tf.matmul(inputs, self.w) + self.b\n",
        "    \n",
        "# just one neuron and one input (but could be as many as we like)    \n",
        "linear_layer = LinearLayer()\n",
        "linear_layer.trainable_variables"
      ],
      "execution_count": 12,
      "outputs": [
        {
          "output_type": "execute_result",
          "data": {
            "text/plain": [
              "[<tf.Variable 'weights:0' shape=(1, 1) dtype=float32, numpy=array([[-3.687819]], dtype=float32)>,\n",
              " <tf.Variable 'biases:0' shape=(1,) dtype=float32, numpy=array([0.], dtype=float32)>]"
            ]
          },
          "metadata": {
            "tags": []
          },
          "execution_count": 12
        }
      ]
    },
    {
      "cell_type": "markdown",
      "metadata": {
        "colab_type": "text",
        "id": "IlrodnQbkmXZ"
      },
      "source": [
        "### Output of a single untrained neuron"
      ]
    },
    {
      "cell_type": "code",
      "metadata": {
        "id": "fNAOTMN6-lWR",
        "colab_type": "code",
        "colab": {
          "base_uri": "https://localhost:8080/",
          "height": 34
        },
        "outputId": "f37392aa-66e0-4319-b21b-4c2bf97072fb"
      },
      "source": [
        "input"
      ],
      "execution_count": 13,
      "outputs": [
        {
          "output_type": "execute_result",
          "data": {
            "text/plain": [
              "[[-1], [0], [1], [2], [3], [4]]"
            ]
          },
          "metadata": {
            "tags": []
          },
          "execution_count": 13
        }
      ]
    },
    {
      "cell_type": "code",
      "metadata": {
        "id": "kJyX3Ryk-4S1",
        "colab_type": "code",
        "colab": {
          "base_uri": "https://localhost:8080/",
          "height": 136
        },
        "outputId": "00a8d9c0-54b8-4cc1-9ace-f51dd7b9cf6f"
      },
      "source": [
        "# x and y are typically names for input and output in machine learning\n",
        "x = tf.constant(input, dtype=tf.float32)\n",
        "x"
      ],
      "execution_count": 14,
      "outputs": [
        {
          "output_type": "execute_result",
          "data": {
            "text/plain": [
              "<tf.Tensor: id=32, shape=(6, 1), dtype=float32, numpy=\n",
              "array([[-1.],\n",
              "       [ 0.],\n",
              "       [ 1.],\n",
              "       [ 2.],\n",
              "       [ 3.],\n",
              "       [ 4.]], dtype=float32)>"
            ]
          },
          "metadata": {
            "tags": []
          },
          "execution_count": 14
        }
      ]
    },
    {
      "cell_type": "code",
      "metadata": {
        "id": "_pdSw2Bd-nZR",
        "colab_type": "code",
        "colab": {
          "base_uri": "https://localhost:8080/",
          "height": 34
        },
        "outputId": "4b547f7a-53b5-4972-df05-e710824e9514"
      },
      "source": [
        "output"
      ],
      "execution_count": 15,
      "outputs": [
        {
          "output_type": "execute_result",
          "data": {
            "text/plain": [
              "[[2], [1], [0], [-1], [-2], [-3]]"
            ]
          },
          "metadata": {
            "tags": []
          },
          "execution_count": 15
        }
      ]
    },
    {
      "cell_type": "code",
      "metadata": {
        "colab_type": "code",
        "id": "d1FpEmPgjM76",
        "outputId": "196ca9bf-2ec3-43d5-80b3-e6fb32eee9f6",
        "colab": {
          "base_uri": "https://localhost:8080/",
          "height": 136
        }
      },
      "source": [
        "y_true = tf.constant(output, dtype=tf.float32)\n",
        "y_true"
      ],
      "execution_count": 16,
      "outputs": [
        {
          "output_type": "execute_result",
          "data": {
            "text/plain": [
              "<tf.Tensor: id=33, shape=(6, 1), dtype=float32, numpy=\n",
              "array([[ 2.],\n",
              "       [ 1.],\n",
              "       [ 0.],\n",
              "       [-1.],\n",
              "       [-2.],\n",
              "       [-3.]], dtype=float32)>"
            ]
          },
          "metadata": {
            "tags": []
          },
          "execution_count": 16
        }
      ]
    },
    {
      "cell_type": "code",
      "metadata": {
        "colab_type": "code",
        "id": "wJaw2t3ef7Xl",
        "outputId": "0288e19b-94cc-468e-eb10-c35938a36e3a",
        "colab": {
          "base_uri": "https://localhost:8080/",
          "height": 136
        }
      },
      "source": [
        "# we use our layer from above to make a prediction for x\n",
        "y_pred = linear_layer(x)\n",
        "y_pred"
      ],
      "execution_count": 17,
      "outputs": [
        {
          "output_type": "execute_result",
          "data": {
            "text/plain": [
              "<tf.Tensor: id=37, shape=(6, 1), dtype=float32, numpy=\n",
              "array([[  3.687819 ],\n",
              "       [  0.       ],\n",
              "       [ -3.687819 ],\n",
              "       [ -7.375638 ],\n",
              "       [-11.0634575],\n",
              "       [-14.751276 ]], dtype=float32)>"
            ]
          },
          "metadata": {
            "tags": []
          },
          "execution_count": 17
        }
      ]
    },
    {
      "cell_type": "code",
      "metadata": {
        "id": "Z1mZyZb__CpC",
        "colab_type": "code",
        "colab": {
          "base_uri": "https://localhost:8080/",
          "height": 136
        },
        "outputId": "b219cced-5751-4eba-b31b-f32800fbf22e"
      },
      "source": [
        "# obviously we are really off (no wonder as the parameters are just random)\n",
        "y_true - y_pred"
      ],
      "execution_count": 18,
      "outputs": [
        {
          "output_type": "execute_result",
          "data": {
            "text/plain": [
              "<tf.Tensor: id=38, shape=(6, 1), dtype=float32, numpy=\n",
              "array([[-1.687819 ],\n",
              "       [ 1.       ],\n",
              "       [ 3.687819 ],\n",
              "       [ 6.375638 ],\n",
              "       [ 9.0634575],\n",
              "       [11.751276 ]], dtype=float32)>"
            ]
          },
          "metadata": {
            "tags": []
          },
          "execution_count": 18
        }
      ]
    },
    {
      "cell_type": "code",
      "metadata": {
        "colab_type": "code",
        "id": "A5no0NPli-dh",
        "outputId": "6615f8b9-3068-4250-a73d-66ec2a30cd32",
        "colab": {
          "base_uri": "https://localhost:8080/",
          "height": 286
        }
      },
      "source": [
        "# let's see how off we are\n",
        "plt.plot(x, y_pred)\n",
        "plt.plot(input, output, 'ro')"
      ],
      "execution_count": 19,
      "outputs": [
        {
          "output_type": "execute_result",
          "data": {
            "text/plain": [
              "[<matplotlib.lines.Line2D at 0x7f23eddae128>]"
            ]
          },
          "metadata": {
            "tags": []
          },
          "execution_count": 19
        },
        {
          "output_type": "display_data",
          "data": {
            "image/png": "[encoded data removed]",
            "text/plain": [
              "<Figure size 432x288 with 1 Axes>"
            ]
          },
          "metadata": {
            "tags": []
          }
        }
      ]
    },
    {
      "cell_type": "markdown",
      "metadata": {
        "id": "tHVkxkc7_zME",
        "colab_type": "text"
      },
      "source": [
        "# Hands-On: Have a layer with more than one neuron\n",
        "\n",
        "* configure our layer to have more neuron\n",
        "* does the example still work?\n",
        "* how does the output of the layer look like?\n",
        "* why?"
      ]
    },
    {
      "cell_type": "markdown",
      "metadata": {
        "colab_type": "text",
        "id": "zAuxRMiMkyX3"
      },
      "source": [
        "# How wrong are we?\n",
        "## Loss - Mean Squared Error\n",
        "\n",
        "Loss function is the prerequisite to training. We need an objective to optimize for. We calculate the difference between what we get as output and what we would like to get.\n",
        "\n",
        "### Mean Squared Error\n",
        "\n",
        "$MSE = {\\frac {1}{n}}\\sum _{i=1}^{n}(Y_{i}-{\\hat {Y_{i}}})^{2}$\n",
        "\n",
        "\n",
        "https://en.wikipedia.org/wiki/Mean_squared_error\n"
      ]
    },
    {
      "cell_type": "code",
      "metadata": {
        "colab_type": "code",
        "id": "S5qBUY18u2BK",
        "colab": {}
      },
      "source": [
        "# we could also use absolut error which would give less weight to outliers\n",
        "loss_fn = tf.losses.mean_squared_error\n",
        "# loss_fn = tf.losses.mean_absolute_error"
      ],
      "execution_count": 0,
      "outputs": []
    },
    {
      "cell_type": "code",
      "metadata": {
        "colab_type": "code",
        "id": "pIGGjpC4jdjZ",
        "outputId": "0f98a12d-ee6c-42fc-92f5-7fd1eb7e7546",
        "colab": {
          "base_uri": "https://localhost:8080/",
          "height": 34
        }
      },
      "source": [
        "# how bad is it, really?\n",
        "loss = loss_fn(y_true=tf.squeeze(y_true), y_pred=tf.squeeze(y_pred))\n",
        "print(loss)"
      ],
      "execution_count": 21,
      "outputs": [
        {
          "output_type": "stream",
          "text": [
            "tf.Tensor(46.389374, shape=(), dtype=float32)\n"
          ],
          "name": "stdout"
        }
      ]
    },
    {
      "cell_type": "code",
      "metadata": {
        "colab_type": "code",
        "id": "6DGusRmhk1JU",
        "colab": {}
      },
      "source": [
        "assert tf.keras.losses.mean_squared_error == tf.losses.mean_squared_error"
      ],
      "execution_count": 0,
      "outputs": []
    },
    {
      "cell_type": "markdown",
      "metadata": {
        "id": "NLXsxuqkB-BN",
        "colab_type": "text"
      },
      "source": [
        "\n",
        "### Backpropagation algorithm\n",
        "\n",
        "1. Predict: Let the network make a prediction \n",
        "1. Calculate the loss: how accurate was the predition\n",
        "1. partial derivations: Find out in which direction to change all parameters to bring down the loss\n",
        "1. Optimizer: Make changes to parameters based on learning rate and other parameters\n"
      ]
    },
    {
      "cell_type": "markdown",
      "metadata": {
        "colab_type": "text",
        "id": "QzcQowwMsZqg"
      },
      "source": [
        "### Loss depends on the trainable variables, in our case two parameters: weight and bias\n",
        "\n",
        "This is how the loss function might change depending on those variables\n",
        "\n",
        "<img src='https://djcordhose.github.io/ai/img/gradients.jpg'>\n",
        "\n",
        "https://twitter.com/colindcarroll/status/1090266016259534848"
      ]
    },
    {
      "cell_type": "code",
      "metadata": {
        "id": "7jkpKqcoB1ma",
        "colab_type": "code",
        "colab": {
          "base_uri": "https://localhost:8080/",
          "height": 51
        },
        "outputId": "1a70c016-3b50-4cb5-fae2-48dcbb14e8e5"
      },
      "source": [
        "linear_layer.trainable_variables"
      ],
      "execution_count": 23,
      "outputs": [
        {
          "output_type": "execute_result",
          "data": {
            "text/plain": [
              "[<tf.Variable 'weights:0' shape=(1, 1) dtype=float32, numpy=array([[-3.687819]], dtype=float32)>,\n",
              " <tf.Variable 'biases:0' shape=(1,) dtype=float32, numpy=array([0.], dtype=float32)>]"
            ]
          },
          "metadata": {
            "tags": []
          },
          "execution_count": 23
        }
      ]
    },
    {
      "cell_type": "markdown",
      "metadata": {
        "colab_type": "text",
        "id": "xukGkwFTET56"
      },
      "source": [
        "### For this we need partial derivations\n",
        "\n",
        "TensorFlow offers automatic differentiation: https://www.tensorflow.org/versions/r2.0/api_docs/python/tf/GradientTape\n",
        "\n",
        "* tape will record operations for automatic differentiation\n",
        "* either by making it record explicily (watch) or \n",
        "* by declaring a varible to be trainable (which we did in the layer above) \n",
        "\n"
      ]
    },
    {
      "cell_type": "code",
      "metadata": {
        "id": "ODYIJbadLtkr",
        "colab_type": "code",
        "colab": {}
      },
      "source": [
        "from tensorflow import GradientTape \n",
        "GradientTape?"
      ],
      "execution_count": 0,
      "outputs": []
    },
    {
      "cell_type": "code",
      "metadata": {
        "id": "pr2PjDdwFtui",
        "colab_type": "code",
        "colab": {
          "base_uri": "https://localhost:8080/",
          "height": 119
        },
        "outputId": "11247c1f-20a5-4913-8647-833761e12cf4"
      },
      "source": [
        "\n",
        "def tape_sample():\n",
        "  with GradientTape() as tape:\n",
        "    a = tf.constant(2.0)\n",
        "    b = tf.constant(1.0)\n",
        "    tape.watch(a)\n",
        "    tape.watch(b)\n",
        "    c = a + b\n",
        "    d = b + 1\n",
        "    f = c * d\n",
        "  print(a, b, c, d, f)\n",
        "  # how is f dependending on the other variables\n",
        "  (df_da, df_db, df_dc, df_dd, df_df) = tape.gradient(f, [a, b, c, d, f])\n",
        "  print(df_da)\n",
        "  print(df_db)\n",
        "  print(df_dc)\n",
        "  print(df_dd)\n",
        "  print(df_df)\n",
        "  \n",
        "# just a function in order not to interfere with x on the global scope  \n",
        "tape_sample()"
      ],
      "execution_count": 25,
      "outputs": [
        {
          "output_type": "stream",
          "text": [
            "tf.Tensor(2.0, shape=(), dtype=float32) tf.Tensor(1.0, shape=(), dtype=float32) tf.Tensor(3.0, shape=(), dtype=float32) tf.Tensor(2.0, shape=(), dtype=float32) tf.Tensor(6.0, shape=(), dtype=float32)\n",
            "tf.Tensor(2.0, shape=(), dtype=float32)\n",
            "tf.Tensor(5.0, shape=(), dtype=float32)\n",
            "tf.Tensor(2.0, shape=(), dtype=float32)\n",
            "tf.Tensor(3.0, shape=(), dtype=float32)\n",
            "tf.Tensor(1.0, shape=(), dtype=float32)\n"
          ],
          "name": "stdout"
        }
      ]
    },
    {
      "cell_type": "markdown",
      "metadata": {
        "id": "qHqyB4sDLud-",
        "colab_type": "text"
      },
      "source": [
        "## How does this work?\n",
        "\n",
        "In a multi layer network the chain rule is used to find out how an intermediate neuron affects the overall error\n",
        "\n",
        "### How does the loss (f) change when changing either a or b?\n",
        "\n",
        "<img src='https://github.com/DJCordhose/ml-workshop/blob/master/notebooks/tf2/img/loss_f_a_b.png?raw=1'>\n",
        "\n",
        "### Calculating df/da\n",
        "\n",
        "<img src='https://github.com/DJCordhose/ml-workshop/blob/master/notebooks/tf2/img/chain_rule_a.png?raw=1'>\n",
        "\n",
        "### Calculating df/db\n",
        "\n",
        "<img src='https://github.com/DJCordhose/ml-workshop/blob/master/notebooks/tf2/img/chain_rule_b.png?raw=1'>\n",
        "\n",
        "https://twitter.com/random_forests\n",
        "\n",
        "https://towardsdatascience.com/back-propagation-demystified-in-7-minutes-4294d71a04d7\n",
        "\n"
      ]
    },
    {
      "cell_type": "markdown",
      "metadata": {
        "id": "bUIejU8hJNdU",
        "colab_type": "text"
      },
      "source": [
        "# Hands-On: Work through the above example\n",
        "\n",
        "* above you see the calculation of df/da and df/db\n",
        "* make sure you understand how it is composed based on the different rules you see on the left side\n",
        "* make changes to variables and how they are computed and make sure you will understand the results\n",
        "* if you understand what is going on, help your neighbors"
      ]
    },
    {
      "cell_type": "markdown",
      "metadata": {
        "colab_type": "text",
        "id": "BlVOagySSwyO"
      },
      "source": [
        "## Training\n",
        "\n",
        "https://twitter.com/fchollet/status/1132013928681050113"
      ]
    },
    {
      "cell_type": "code",
      "metadata": {
        "colab_type": "code",
        "id": "V36dlfViTMZR",
        "outputId": "fb04dcd0-4cc9-4d11-abc0-d0cd86627f34",
        "colab": {
          "base_uri": "https://localhost:8080/",
          "height": 51
        }
      },
      "source": [
        "linear_layer = LinearLayer()\n",
        "linear_layer.w, linear_layer.b"
      ],
      "execution_count": 26,
      "outputs": [
        {
          "output_type": "execute_result",
          "data": {
            "text/plain": [
              "(<tf.Variable 'weights:0' shape=(1, 1) dtype=float32, numpy=array([[1.9415619]], dtype=float32)>,\n",
              " <tf.Variable 'biases:0' shape=(1,) dtype=float32, numpy=array([0.], dtype=float32)>)"
            ]
          },
          "metadata": {
            "tags": []
          },
          "execution_count": 26
        }
      ]
    },
    {
      "cell_type": "code",
      "metadata": {
        "colab_type": "code",
        "id": "WbTfKBTMTm1B",
        "outputId": "c089d7a6-b7a3-4042-daad-9733c3ea56e2",
        "colab": {
          "base_uri": "https://localhost:8080/",
          "height": 51
        }
      },
      "source": [
        "linear_layer.trainable_weights"
      ],
      "execution_count": 27,
      "outputs": [
        {
          "output_type": "execute_result",
          "data": {
            "text/plain": [
              "[<tf.Variable 'weights:0' shape=(1, 1) dtype=float32, numpy=array([[1.9415619]], dtype=float32)>,\n",
              " <tf.Variable 'biases:0' shape=(1,) dtype=float32, numpy=array([0.], dtype=float32)>]"
            ]
          },
          "metadata": {
            "tags": []
          },
          "execution_count": 27
        }
      ]
    },
    {
      "cell_type": "markdown",
      "metadata": {
        "id": "xmx0RXV_Qm5C",
        "colab_type": "text"
      },
      "source": [
        "### We follow the backpropagation algorithm from above\n",
        "\n",
        "1. Predict: Let the network make a prediction \n",
        "1. Calculate the loss: how accurate was the predition\n",
        "1. partial derivations: Find out in which direction to change all parameters to bring down the loss\n",
        "1. Optimizer: Make changes to parameters based on learning rate and other parameters\n"
      ]
    },
    {
      "cell_type": "markdown",
      "metadata": {
        "id": "jeVGUldCA12W",
        "colab_type": "text"
      },
      "source": [
        "### Job of the optimizer: Minimize Loss by changing parameters of neuron \n",
        "\n",
        "<img src='https://djcordhose.github.io/ai/img/manning/optimizer.png' height=500>"
      ]
    },
    {
      "cell_type": "code",
      "metadata": {
        "colab_type": "code",
        "id": "B988o-LuC2wf",
        "colab": {}
      },
      "source": [
        "linear_layer = LinearLayer()\n",
        "\n",
        "EPOCHS = 500\n",
        "learning_rate = 1e-2\n",
        "\n",
        "losses = []"
      ],
      "execution_count": 0,
      "outputs": []
    },
    {
      "cell_type": "code",
      "metadata": {
        "id": "CZUySXYNScOx",
        "colab_type": "code",
        "colab": {}
      },
      "source": [
        "for step in range(EPOCHS):\n",
        "  with tf.GradientTape() as tape:\n",
        "\n",
        "    # forward pass\n",
        "    y_pred = linear_layer(x)\n",
        "\n",
        "    # loss for this batch\n",
        "    loss = loss_fn(y_true=tf.squeeze(y_true), y_pred=tf.squeeze(y_pred))\n",
        "    \n",
        "  # just for logging\n",
        "  losses.append(loss.numpy())\n",
        "\n",
        "  # get gradients of weights wrt the loss\n",
        "  (dw, db) = tape.gradient(loss, linear_layer.trainable_weights)\n",
        "  \n",
        "  # optimizer: backward pass, changing trainable weights in the direction of the mimimum\n",
        "  linear_layer.w.assign_sub(learning_rate * dw)\n",
        "  linear_layer.b.assign_sub(learning_rate * db)"
      ],
      "execution_count": 0,
      "outputs": []
    },
    {
      "cell_type": "code",
      "metadata": {
        "colab_type": "code",
        "id": "dnapizSr1ufF",
        "outputId": "9bfed9d4-4ad7-40d8-8567-bf002a18a610",
        "colab": {
          "base_uri": "https://localhost:8080/",
          "height": 34
        }
      },
      "source": [
        "print(loss)"
      ],
      "execution_count": 38,
      "outputs": [
        {
          "output_type": "stream",
          "text": [
            "tf.Tensor(2.204677e-05, shape=(), dtype=float32)\n"
          ],
          "name": "stdout"
        }
      ]
    },
    {
      "cell_type": "code",
      "metadata": {
        "colab_type": "code",
        "id": "HVU5pKnVxvch",
        "outputId": "836170f4-6e48-498e-9629-ea8e99b52a19",
        "colab": {
          "base_uri": "https://localhost:8080/",
          "height": 300
        }
      },
      "source": [
        "plt.xlabel('epochs')\n",
        "plt.ylabel('loss')\n",
        "\n",
        "# plt.yscale('log')\n",
        "\n",
        "plt.plot(losses)"
      ],
      "execution_count": 40,
      "outputs": [
        {
          "output_type": "execute_result",
          "data": {
            "text/plain": [
              "[<matplotlib.lines.Line2D at 0x7f23b006edd8>]"
            ]
          },
          "metadata": {
            "tags": []
          },
          "execution_count": 40
        },
        {
          "output_type": "display_data",
          "data": {
            "image/png": "[encoded data removed]",
            "text/plain": [
              "<Figure size 432x288 with 1 Axes>"
            ]
          },
          "metadata": {
            "tags": []
          }
        }
      ]
    },
    {
      "cell_type": "markdown",
      "metadata": {
        "colab_type": "text",
        "id": "PCTnMgCh1ala"
      },
      "source": [
        "### Line drawn by neuron after training\n",
        "\n",
        "* result after training is not perfect, but almost looks like the same line\n",
        "* https://en.wikipedia.org/wiki/Linear_equation#Slope%E2%80%93intercept_form\n"
      ]
    },
    {
      "cell_type": "code",
      "metadata": {
        "colab_type": "code",
        "id": "WDwLh7RP1alX",
        "outputId": "2cad71c0-e8c3-4a1a-a0cd-8504d58f693f",
        "colab": {
          "base_uri": "https://localhost:8080/",
          "height": 136
        }
      },
      "source": [
        "y_pred = linear_layer(x)\n",
        "y_pred"
      ],
      "execution_count": 42,
      "outputs": [
        {
          "output_type": "execute_result",
          "data": {
            "text/plain": [
              "<tf.Tensor: id=28240, shape=(6, 1), dtype=float32, numpy=\n",
              "array([[ 1.9918588 ],\n",
              "       [ 0.99384433],\n",
              "       [-0.00417018],\n",
              "       [-1.0021846 ],\n",
              "       [-2.0001993 ],\n",
              "       [-2.9982138 ]], dtype=float32)>"
            ]
          },
          "metadata": {
            "tags": []
          },
          "execution_count": 42
        }
      ]
    },
    {
      "cell_type": "code",
      "metadata": {
        "id": "10C1pBFuUsw7",
        "colab_type": "code",
        "colab": {
          "base_uri": "https://localhost:8080/",
          "height": 136
        },
        "outputId": "2895d7e7-8e45-49c1-ab6e-bc66f7356a33"
      },
      "source": [
        "y_pred - y_true"
      ],
      "execution_count": 43,
      "outputs": [
        {
          "output_type": "execute_result",
          "data": {
            "text/plain": [
              "<tf.Tensor: id=28241, shape=(6, 1), dtype=float32, numpy=\n",
              "array([[-0.00814116],\n",
              "       [-0.00615567],\n",
              "       [-0.00417018],\n",
              "       [-0.00218463],\n",
              "       [-0.00019932],\n",
              "       [ 0.00178623]], dtype=float32)>"
            ]
          },
          "metadata": {
            "tags": []
          },
          "execution_count": 43
        }
      ]
    },
    {
      "cell_type": "code",
      "metadata": {
        "colab_type": "code",
        "id": "D6IsHQhf1alP",
        "outputId": "8c42532e-d8d4-4691-bd5d-5ecaf3a752d1",
        "colab": {
          "base_uri": "https://localhost:8080/",
          "height": 286
        }
      },
      "source": [
        "plt.plot(x, y_pred)\n",
        "plt.plot(input, output, 'ro')"
      ],
      "execution_count": 44,
      "outputs": [
        {
          "output_type": "execute_result",
          "data": {
            "text/plain": [
              "[<matplotlib.lines.Line2D at 0x7f23b00a6748>]"
            ]
          },
          "metadata": {
            "tags": []
          },
          "execution_count": 44
        },
        {
          "output_type": "display_data",
          "data": {
            "image/png": "[encoded data removed]",
            "text/plain": [
              "<Figure size 432x288 with 1 Axes>"
            ]
          },
          "metadata": {
            "tags": []
          }
        }
      ]
    },
    {
      "cell_type": "code",
      "metadata": {
        "colab_type": "code",
        "id": "FtRUMsQf1alI",
        "outputId": "1c4afa8c-7af2-4360-f309-97842f748428",
        "colab": {
          "base_uri": "https://localhost:8080/",
          "height": 51
        }
      },
      "source": [
        "# single neuron and single input: one weight and one bias\n",
        "# slope m ~ -1 = weight\n",
        "# y-axis offset y0 ~ 1 = bias\n",
        "# https://en.wikipedia.org/wiki/Linear_equation#Slope%E2%80%93intercept_form\n",
        "\n",
        "linear_layer.w, linear_layer.b"
      ],
      "execution_count": 46,
      "outputs": [
        {
          "output_type": "execute_result",
          "data": {
            "text/plain": [
              "(<tf.Variable 'weights:0' shape=(1, 1) dtype=float32, numpy=array([[-0.9980145]], dtype=float32)>,\n",
              " <tf.Variable 'biases:0' shape=(1,) dtype=float32, numpy=array([0.99384433], dtype=float32)>)"
            ]
          },
          "metadata": {
            "tags": []
          },
          "execution_count": 46
        }
      ]
    },
    {
      "cell_type": "markdown",
      "metadata": {
        "id": "ZHOKTWIvU-sd",
        "colab_type": "text"
      },
      "source": [
        "# Hands-On: Train your model to good results\n",
        "\n",
        "* with the cells above check that the variables are reasonably close to what we know this is right\n",
        "* understand that this is not an option your normally have\n",
        "* train for more epochs to see how close you can get to the true result"
      ]
    },
    {
      "cell_type": "markdown",
      "metadata": {
        "colab_type": "text",
        "id": "vbOJfrtgDQiM"
      },
      "source": [
        "### Prebuilt Optimizers do this job (but a bit more efficient and sohpisticated)"
      ]
    },
    {
      "cell_type": "code",
      "metadata": {
        "colab_type": "code",
        "id": "eD2YbeHdDM9y",
        "colab": {}
      },
      "source": [
        "optimizer = tf.keras.optimizers.SGD(learning_rate=1e-2)"
      ],
      "execution_count": 0,
      "outputs": []
    },
    {
      "cell_type": "code",
      "metadata": {
        "colab_type": "code",
        "id": "cEuzqGgktmut",
        "outputId": "c34ab717-2e4f-42f4-942f-67d74e0be7e5",
        "colab": {
          "base_uri": "https://localhost:8080/",
          "height": 105
        }
      },
      "source": [
        "EPOCHS = 500\n",
        "\n",
        "losses = []\n",
        "\n",
        "linear_layer = LinearLayer()\n",
        "\n",
        "for step in range(EPOCHS):\n",
        "  with tf.GradientTape() as tape:\n",
        "\n",
        "    # Forward pass.\n",
        "    y_pred = linear_layer(x)\n",
        "\n",
        "    # Loss value for this batch.\n",
        "    loss = loss_fn(y_true=tf.squeeze(y_true), y_pred=tf.squeeze(y_pred))\n",
        "    \n",
        "  losses.append(loss)\n",
        "     \n",
        "  # Get gradients of weights wrt the loss.\n",
        "  gradients = tape.gradient(loss, linear_layer.trainable_weights)\n",
        "  \n",
        "  # Update the weights of our linear layer.\n",
        "  optimizer.apply_gradients(zip(gradients, linear_layer.trainable_weights))"
      ],
      "execution_count": 0,
      "outputs": [
        {
          "output_type": "stream",
          "text": [
            "WARNING: Logging before flag parsing goes to stderr.\n",
            "W0718 12:01:44.042295 140135651817344 deprecation.py:323] From /usr/local/lib/python3.6/dist-packages/tensorflow_core/python/keras/optimizer_v2/optimizer_v2.py:468: BaseResourceVariable.constraint (from tensorflow.python.ops.resource_variable_ops) is deprecated and will be removed in a future version.\n",
            "Instructions for updating:\n",
            "Apply a constraint manually following the optimizer update step.\n"
          ],
          "name": "stderr"
        }
      ]
    },
    {
      "cell_type": "code",
      "metadata": {
        "colab_type": "code",
        "id": "cqA4saqR0kbq",
        "outputId": "a7c0c58d-2ac2-4c6f-d389-07789035f4df",
        "colab": {
          "base_uri": "https://localhost:8080/",
          "height": 300
        }
      },
      "source": [
        "plt.yscale('log')\n",
        "plt.ylabel(\"loss\")\n",
        "plt.xlabel(\"epochs\")\n",
        "\n",
        "plt.plot(losses)"
      ],
      "execution_count": 0,
      "outputs": [
        {
          "output_type": "execute_result",
          "data": {
            "text/plain": [
              "[<matplotlib.lines.Line2D at 0x7f73dd92ce48>]"
            ]
          },
          "metadata": {
            "tags": []
          },
          "execution_count": 31
        },
        {
          "output_type": "display_data",
          "data": {
            "image/png": "[encoded data removed]",
            "text/plain": [
              "<Figure size 432x288 with 1 Axes>"
            ]
          },
          "metadata": {
            "tags": []
          }
        }
      ]
    },
    {
      "cell_type": "code",
      "metadata": {
        "colab_type": "code",
        "id": "uAQ-LCTW2KkH",
        "outputId": "5b75963d-c9d3-4bd4-eff4-654bae9f6bf8",
        "colab": {
          "base_uri": "https://localhost:8080/",
          "height": 303
        }
      },
      "source": [
        "y_pred = linear_layer(x)\n",
        "plt.plot(x, y_pred)\n",
        "plt.plot(input, output, 'ro')\n",
        "linear_layer.trainable_weights"
      ],
      "execution_count": 0,
      "outputs": [
        {
          "output_type": "execute_result",
          "data": {
            "text/plain": [
              "[<tf.Variable 'Variable:0' shape=(1, 1) dtype=float32, numpy=array([[-1.0003345]], dtype=float32)>,\n",
              " <tf.Variable 'Variable:0' shape=(1,) dtype=float32, numpy=array([1.0010368], dtype=float32)>]"
            ]
          },
          "metadata": {
            "tags": []
          },
          "execution_count": 32
        },
        {
          "output_type": "display_data",
          "data": {
            "image/png": "[encoded data removed]",
            "text/plain": [
              "<Figure size 432x288 with 1 Axes>"
            ]
          },
          "metadata": {
            "tags": []
          }
        }
      ]
    },
    {
      "cell_type": "markdown",
      "metadata": {
        "colab_type": "text",
        "id": "dWIMUIQZObYK"
      },
      "source": [
        "## More data points, more noisy"
      ]
    },
    {
      "cell_type": "code",
      "metadata": {
        "colab_type": "code",
        "id": "Wq0pg9TvOa0k",
        "outputId": "1eb32faf-45b5-468f-de59-8470d47bbe55",
        "colab": {
          "base_uri": "https://localhost:8080/",
          "height": 286
        }
      },
      "source": [
        "import numpy as np\n",
        "\n",
        "a = -1\n",
        "b = 1\n",
        "n = 50\n",
        "\n",
        "x = tf.constant(np.random.uniform(0, 1, n), dtype='float32')\n",
        "y = tf.constant(a*x+b + 0.1 * np.random.normal(0, 1, n), dtype='float32')\n",
        "\n",
        "plt.scatter(x, y)"
      ],
      "execution_count": 0,
      "outputs": [
        {
          "output_type": "execute_result",
          "data": {
            "text/plain": [
              "<matplotlib.collections.PathCollection at 0x7f7323dfd048>"
            ]
          },
          "metadata": {
            "tags": []
          },
          "execution_count": 33
        },
        {
          "output_type": "display_data",
          "data": {
            "image/png": "[encoded data removed]",
            "text/plain": [
              "<Figure size 432x288 with 1 Axes>"
            ]
          },
          "metadata": {
            "tags": []
          }
        }
      ]
    },
    {
      "cell_type": "code",
      "metadata": {
        "colab_type": "code",
        "id": "HZOMvTFwR0gv",
        "colab": {}
      },
      "source": [
        "x = tf.reshape(x, (n, 1))\n",
        "y_true = tf.reshape(y, (n, 1))"
      ],
      "execution_count": 0,
      "outputs": []
    },
    {
      "cell_type": "code",
      "metadata": {
        "colab_type": "code",
        "id": "wvSwOhsbu3Rm",
        "outputId": "db96e4a7-623d-4320-e8e3-2c948c0e5ce6",
        "colab": {
          "base_uri": "https://localhost:8080/",
          "height": 303
        }
      },
      "source": [
        "linear_layer = LinearLayer()\n",
        "\n",
        "a = linear_layer.w.numpy()[0][0]\n",
        "b = linear_layer.b.numpy()[0]\n",
        "\n",
        "def plot_line(a, b, x, y_true):\n",
        "  fig, ax = plt.subplots()\n",
        "  y_pred = a * x + b\n",
        "  \n",
        "  line = ax.plot(x, y_pred)\n",
        "  ax.plot(x, y_true, 'ro')\n",
        "  return fig, line\n",
        "\n",
        "plot_line(a, b, x, y_true)"
      ],
      "execution_count": 0,
      "outputs": [
        {
          "output_type": "execute_result",
          "data": {
            "text/plain": [
              "(<Figure size 432x288 with 1 Axes>,\n",
              " [<matplotlib.lines.Line2D at 0x7f7323d519e8>])"
            ]
          },
          "metadata": {
            "tags": []
          },
          "execution_count": 35
        },
        {
          "output_type": "display_data",
          "data": {
            "image/png": "[encoded data removed]",
            "text/plain": [
              "<Figure size 432x288 with 1 Axes>"
            ]
          },
          "metadata": {
            "tags": []
          }
        }
      ]
    },
    {
      "cell_type": "code",
      "metadata": {
        "colab_type": "code",
        "id": "WW7xVyGVQeLU",
        "colab": {}
      },
      "source": [
        "# the problem is a little bit harder, train for a little bit longer\n",
        "EPOCHS = 2000\n",
        "\n",
        "losses = []\n",
        "\n",
        "# stores intermediate versions of our line\n",
        "lines = []\n",
        "\n",
        "linear_layer = LinearLayer()\n",
        "\n",
        "for step in range(EPOCHS):\n",
        "  # Open a GradientTape.\n",
        "  with tf.GradientTape() as tape:\n",
        "\n",
        "    # Forward pass.\n",
        "    y_pred = linear_layer(x)\n",
        "\n",
        "    # Loss value for this batch.\n",
        "    loss = loss_fn(y_true=tf.squeeze(y_true), y_pred=tf.squeeze(y_pred))\n",
        "    \n",
        "  losses.append(loss)\n",
        "  \n",
        "  a = linear_layer.w.numpy()[0][0]\n",
        "  b = linear_layer.b.numpy()[0]\n",
        "  lines.append((a, b))\n",
        "     \n",
        "  # Get gradients of weights wrt the loss.\n",
        "  gradients = tape.gradient(loss, linear_layer.trainable_weights)\n",
        "  \n",
        "  # Update the weights of our linear layer.\n",
        "  optimizer.apply_gradients(zip(gradients, linear_layer.trainable_weights))"
      ],
      "execution_count": 0,
      "outputs": []
    },
    {
      "cell_type": "code",
      "metadata": {
        "colab_type": "code",
        "id": "073RfK8UQrAT",
        "outputId": "2a850c02-b627-4a1b-cf26-c7626a827fac",
        "colab": {
          "base_uri": "https://localhost:8080/",
          "height": 300
        }
      },
      "source": [
        "plt.yscale('log')\n",
        "plt.ylabel(\"loss\")\n",
        "plt.xlabel(\"epochs\")\n",
        "\n",
        "plt.plot(losses)"
      ],
      "execution_count": 0,
      "outputs": [
        {
          "output_type": "execute_result",
          "data": {
            "text/plain": [
              "[<matplotlib.lines.Line2D at 0x7f7323d0b940>]"
            ]
          },
          "metadata": {
            "tags": []
          },
          "execution_count": 37
        },
        {
          "output_type": "display_data",
          "data": {
            "image/png": "[encoded data removed]",
            "text/plain": [
              "<Figure size 432x288 with 1 Axes>"
            ]
          },
          "metadata": {
            "tags": []
          }
        }
      ]
    },
    {
      "cell_type": "markdown",
      "metadata": {
        "colab_type": "text",
        "id": "BJsSFRwCzAfm"
      },
      "source": [
        "### What lines the model draws over time"
      ]
    },
    {
      "cell_type": "markdown",
      "metadata": {
        "colab_type": "text",
        "id": "VHOreJd4VrKm"
      },
      "source": [
        "#### After 0, 500, 100 steps"
      ]
    },
    {
      "cell_type": "code",
      "metadata": {
        "colab_type": "code",
        "id": "s7uTZVaIy2C5",
        "outputId": "d4adc84c-f6ce-4826-d010-78b8aef10669",
        "colab": {
          "base_uri": "https://localhost:8080/",
          "height": 298
        }
      },
      "source": [
        "a, b = lines[0]\n",
        "\n",
        "plot_line(a, b, x, y_true)\n",
        "plt.title('0')"
      ],
      "execution_count": 0,
      "outputs": [
        {
          "output_type": "execute_result",
          "data": {
            "text/plain": [
              "Text(0.5, 1.0, '0')"
            ]
          },
          "metadata": {
            "tags": []
          },
          "execution_count": 38
        },
        {
          "output_type": "display_data",
          "data": {
            "image/png": "[encoded data removed]",
            "text/plain": [
              "<Figure size 432x288 with 1 Axes>"
            ]
          },
          "metadata": {
            "tags": []
          }
        }
      ]
    },
    {
      "cell_type": "code",
      "metadata": {
        "colab_type": "code",
        "id": "EGuY0tV7zCb4",
        "outputId": "7edd6244-9d76-480a-a8bb-549ac8874b57",
        "colab": {
          "base_uri": "https://localhost:8080/",
          "height": 298
        }
      },
      "source": [
        "a, b = lines[500]\n",
        "\n",
        "plot_line(a, b, x, y_true)\n",
        "plt.title('500')"
      ],
      "execution_count": 0,
      "outputs": [
        {
          "output_type": "execute_result",
          "data": {
            "text/plain": [
              "Text(0.5, 1.0, '500')"
            ]
          },
          "metadata": {
            "tags": []
          },
          "execution_count": 39
        },
        {
          "output_type": "display_data",
          "data": {
            "image/png": "[encoded data removed]",
            "text/plain": [
              "<Figure size 432x288 with 1 Axes>"
            ]
          },
          "metadata": {
            "tags": []
          }
        }
      ]
    },
    {
      "cell_type": "code",
      "metadata": {
        "id": "kIH0UloUu8dM",
        "colab_type": "code",
        "outputId": "876d6d1b-318f-4f4a-8238-6c35ff87a9d5",
        "colab": {
          "base_uri": "https://localhost:8080/",
          "height": 298
        }
      },
      "source": [
        "a, b = lines[1000]\n",
        "\n",
        "plot_line(a, b, x, y_true)\n",
        "plt.title('1000')"
      ],
      "execution_count": 0,
      "outputs": [
        {
          "output_type": "execute_result",
          "data": {
            "text/plain": [
              "Text(0.5, 1.0, '1000')"
            ]
          },
          "metadata": {
            "tags": []
          },
          "execution_count": 40
        },
        {
          "output_type": "display_data",
          "data": {
            "image/png": "[encoded data removed]",
            "text/plain": [
              "<Figure size 432x288 with 1 Axes>"
            ]
          },
          "metadata": {
            "tags": []
          }
        }
      ]
    },
    {
      "cell_type": "code",
      "metadata": {
        "colab_type": "code",
        "id": "1Ps9g06MzHtY",
        "outputId": "3e94c285-c9d1-4a35-f7dd-7b2d60ebdc96",
        "colab": {
          "base_uri": "https://localhost:8080/",
          "height": 298
        }
      },
      "source": [
        "a, b = lines[1999]\n",
        "\n",
        "plot_line(a, b, x, y_true)\n",
        "plt.title('2000, Final')"
      ],
      "execution_count": 0,
      "outputs": [
        {
          "output_type": "execute_result",
          "data": {
            "text/plain": [
              "Text(0.5, 1.0, '2000, Final')"
            ]
          },
          "metadata": {
            "tags": []
          },
          "execution_count": 41
        },
        {
          "output_type": "display_data",
          "data": {
            "image/png": "[encoded data removed]",
            "text/plain": [
              "<Figure size 432x288 with 1 Axes>"
            ]
          },
          "metadata": {
            "tags": []
          }
        }
      ]
    },
    {
      "cell_type": "markdown",
      "metadata": {
        "colab_type": "text",
        "id": "axg318pV9GJ3"
      },
      "source": [
        "## Understandinging the effect of activation functions\n",
        "\n",
        "Typically, the output of a neuron is transformed using an activation function which compresses the output to a value between 0 and 1 (sigmoid), or between -1 and 1 (tanh) or sets all negative values to zero (relu).\n",
        "\n",
        "<img src='https://raw.githubusercontent.com/DJCordhose/deep-learning-crash-course-notebooks/master/img/neuron.jpg'>\n",
        "\n",
        "### Typical Activation Functions\n",
        "\n",
        "<img src='https://djcordhose.github.io/ai/img/activation-functions.jpg'>\n"
      ]
    },
    {
      "cell_type": "code",
      "metadata": {
        "id": "-xRx9rVZwkGF",
        "colab_type": "code",
        "colab": {}
      },
      "source": [
        ""
      ],
      "execution_count": 0,
      "outputs": []
    },
    {
      "cell_type": "code",
      "metadata": {
        "colab_type": "code",
        "id": "qTjQQECGVLAm",
        "outputId": "0afba566-dd24-4aec-85c5-fb35382cc7dd",
        "colab": {
          "base_uri": "https://localhost:8080/",
          "height": 612
        }
      },
      "source": [
        "x = tf.reshape(tf.constant(tf.range(-1, 4, 0.1)), (50, 1))\n",
        "y_pred = linear_layer(x)\n",
        "\n",
        "plt.figure(figsize=(20, 10))\n",
        "\n",
        "plt.plot(x, y_pred)\n",
        "\n",
        "y_pred_relu = tf.nn.relu(y_pred)\n",
        "plt.plot(x, y_pred_relu)\n",
        "\n",
        "y_pred_sigmoid = tf.nn.sigmoid(y_pred)\n",
        "plt.plot(x, y_pred_sigmoid)\n",
        "\n",
        "y_pred_tanh = tf.nn.tanh(y_pred)\n",
        "plt.plot(x, y_pred_tanh)\n",
        "\n",
        "plt.plot(input, output, 'ro')\n",
        "\n",
        "plt.legend(['no activation', 'relu', 'sigmoid', 'tanh'])"
      ],
      "execution_count": 0,
      "outputs": [
        {
          "output_type": "execute_result",
          "data": {
            "text/plain": [
              "<matplotlib.legend.Legend at 0x7f73239f8128>"
            ]
          },
          "metadata": {
            "tags": []
          },
          "execution_count": 42
        },
        {
          "output_type": "display_data",
          "data": {
            "image/png": "[encoded data removed]",
            "text/plain": [
              "<Figure size 1440x720 with 1 Axes>"
            ]
          },
          "metadata": {
            "tags": []
          }
        }
      ]
    },
    {
      "cell_type": "markdown",
      "metadata": {
        "colab_type": "text",
        "id": "6CUXuf_xWghl"
      },
      "source": [
        "## Logictic Regression\n",
        "\n",
        "So far we were inferring a continous value for another, now we want to classify. Imagine we have a line that separates two categories in two dimensions."
      ]
    },
    {
      "cell_type": "code",
      "metadata": {
        "colab_type": "code",
        "id": "y0z1ymltS_a7",
        "outputId": "f726651c-7b6b-472d-db3f-f32cf9264a8a",
        "colab": {
          "base_uri": "https://localhost:8080/",
          "height": 368
        }
      },
      "source": [
        "from matplotlib.colors import ListedColormap\n",
        "\n",
        "a = -1\n",
        "b = 1\n",
        "n = 100\n",
        "\n",
        "# all points\n",
        "X = np.random.uniform(0, 1, (n, 2))\n",
        "\n",
        "# our line\n",
        "line_x = np.random.uniform(0, 1, n)\n",
        "line_y = a*line_x+b\n",
        "plt.plot(line_x, line_y, 'r')\n",
        "\n",
        "# below and above line\n",
        "noise = 0.3 * np.random.normal(0, 1, n)\n",
        "y = X[:, 1] > a*X[:, 0]+b + noise\n",
        "y = y.astype(int)\n",
        "\n",
        "plt.xlabel(\"x1\")\n",
        "plt.ylabel(\"x2\")\n",
        "\n",
        "plt.scatter(X[:,0], X[:,1], c=y, cmap=ListedColormap(['#FF6666', '#6666FF']), marker='o', edgecolors='k')\n",
        "y"
      ],
      "execution_count": 0,
      "outputs": [
        {
          "output_type": "execute_result",
          "data": {
            "text/plain": [
              "array([0, 1, 1, 1, 1, 1, 0, 1, 1, 0, 0, 0, 1, 1, 0, 1, 0, 1, 1, 1, 1, 1,\n",
              "       1, 0, 1, 0, 1, 0, 1, 1, 1, 0, 1, 0, 0, 0, 1, 1, 0, 1, 0, 1, 1, 1,\n",
              "       0, 1, 0, 1, 1, 0, 0, 1, 0, 1, 1, 1, 1, 0, 1, 1, 1, 1, 0, 1, 0, 1,\n",
              "       1, 0, 1, 1, 1, 0, 0, 1, 0, 0, 1, 1, 1, 1, 1, 1, 1, 1, 1, 1, 1, 0,\n",
              "       1, 0, 1, 1, 0, 1, 0, 1, 1, 0, 1, 0])"
            ]
          },
          "metadata": {
            "tags": []
          },
          "execution_count": 43
        },
        {
          "output_type": "display_data",
          "data": {
            "image/png": "[encoded data removed]",
            "text/plain": [
              "<Figure size 432x288 with 1 Axes>"
            ]
          },
          "metadata": {
            "tags": []
          }
        }
      ]
    },
    {
      "cell_type": "markdown",
      "metadata": {
        "colab_type": "text",
        "id": "BEDW2lpFXRmn"
      },
      "source": [
        "### We compress output between 0 and 1 using sigmoid to match y\n",
        "* everything below 0.5 counts as 0, everthing above as 1"
      ]
    },
    {
      "cell_type": "code",
      "metadata": {
        "colab_type": "code",
        "id": "tHaML5z9SI6o",
        "colab": {}
      },
      "source": [
        "class SigmoidLayer(LinearLayer):\n",
        "  \"\"\"y = sigmoid(w.x + b)\"\"\"\n",
        "\n",
        "  def __init__(self, **kwargs):\n",
        "      super(SigmoidLayer, self).__init__(**kwargs)\n",
        "\n",
        "  def call(self, inputs):\n",
        "      return tf.sigmoid(super().call(inputs))\n"
      ],
      "execution_count": 0,
      "outputs": []
    },
    {
      "cell_type": "markdown",
      "metadata": {
        "colab_type": "text",
        "id": "gZBtAidEYTNO"
      },
      "source": [
        "### We have 2d input now"
      ]
    },
    {
      "cell_type": "code",
      "metadata": {
        "colab_type": "code",
        "id": "a9IjwBVlvnCk",
        "outputId": "9f1ba115-6eba-4b9b-df76-57d49f487379",
        "colab": {
          "base_uri": "https://localhost:8080/",
          "height": 34
        }
      },
      "source": [
        "x = tf.constant(X, dtype='float32')\n",
        "y_true = tf.constant(y, dtype='float32')\n",
        "x.shape"
      ],
      "execution_count": 0,
      "outputs": [
        {
          "output_type": "execute_result",
          "data": {
            "text/plain": [
              "TensorShape([100, 2])"
            ]
          },
          "metadata": {
            "tags": []
          },
          "execution_count": 45
        }
      ]
    },
    {
      "cell_type": "code",
      "metadata": {
        "colab_type": "code",
        "id": "ycMPuy0ed3Nx",
        "colab": {}
      },
      "source": [
        "model = SigmoidLayer(input_dim=2)"
      ],
      "execution_count": 0,
      "outputs": []
    },
    {
      "cell_type": "markdown",
      "metadata": {
        "colab_type": "text",
        "id": "WLfqyTcecuoo"
      },
      "source": [
        "### Reconsidering the loss function\n",
        "\n",
        "_cross entropy is an alternative to squared error_ \n",
        "\n",
        "* cross entropy can be used as an error measure when a network's outputs can be thought of as representing independent hypotheses\n",
        "* activations can be understood as representing the probability that each hypothesis might be true\n",
        "* the loss indicates the distance between what the network believes this distribution should be, and what the teacher says it should be \n",
        "\n",
        "http://www.cse.unsw.edu.au/~billw/cs9444/crossentropy.html"
      ]
    },
    {
      "cell_type": "code",
      "metadata": {
        "colab_type": "code",
        "id": "tLFVcOeRd50X",
        "colab": {}
      },
      "source": [
        "loss_fn = tf.losses.binary_crossentropy"
      ],
      "execution_count": 0,
      "outputs": []
    },
    {
      "cell_type": "code",
      "metadata": {
        "colab_type": "code",
        "id": "nLK7C1L9d8Jk",
        "colab": {}
      },
      "source": [
        "# standard optimizer using advanced properties\n",
        "optimizer = tf.keras.optimizers.Adam(learning_rate=1e-1)"
      ],
      "execution_count": 0,
      "outputs": []
    },
    {
      "cell_type": "code",
      "metadata": {
        "colab_type": "code",
        "id": "TVhpXvlld_IG",
        "colab": {}
      },
      "source": [
        "# https://www.tensorflow.org/versions/r2.0/api_docs/python/tf/metrics/Accuracy\n",
        "m = tf.keras.metrics.Accuracy()"
      ],
      "execution_count": 0,
      "outputs": []
    },
    {
      "cell_type": "code",
      "metadata": {
        "colab_type": "code",
        "id": "7uF1V08yqXi-",
        "outputId": "c82ec213-1bcd-4abd-e66c-cbef9a57ff24",
        "colab": {
          "base_uri": "https://localhost:8080/",
          "height": 88
        }
      },
      "source": [
        "EPOCHS = 1000\n",
        "\n",
        "losses = []\n",
        "accuracies = []\n",
        "\n",
        "for step in range(EPOCHS):\n",
        "  # Open a GradientTape.\n",
        "  with tf.GradientTape() as tape:\n",
        "\n",
        "    # Forward pass.\n",
        "    y_pred = model(x)\n",
        "\n",
        "    # Loss value for this batch.\n",
        "    loss = loss_fn(y_true=tf.squeeze(y_true), y_pred=tf.squeeze(y_pred))\n",
        "\n",
        "  y_pred_binary = (tf.squeeze(y_pred) > 0.5).numpy().astype(float)\n",
        "  m.update_state(tf.squeeze(y_true), y_pred_binary)\n",
        "  accuracy = m.result().numpy()\n",
        "\n",
        "  losses.append(loss)\n",
        "  accuracies.append(accuracy)\n",
        "     \n",
        "  # Get gradients of weights wrt the loss.\n",
        "  gradients = tape.gradient(loss, model.trainable_weights)\n",
        "  \n",
        "  # Update the weights of our linear layer.\n",
        "  optimizer.apply_gradients(zip(gradients, model.trainable_weights))"
      ],
      "execution_count": 0,
      "outputs": [
        {
          "output_type": "stream",
          "text": [
            "W0718 12:02:01.426721 140135651817344 deprecation.py:323] From /usr/local/lib/python3.6/dist-packages/tensorflow_core/python/ops/math_grad.py:1221: where (from tensorflow.python.ops.array_ops) is deprecated and will be removed in a future version.\n",
            "Instructions for updating:\n",
            "Use tf.where in 2.0, which has the same broadcast rule as np.where\n"
          ],
          "name": "stderr"
        }
      ]
    },
    {
      "cell_type": "code",
      "metadata": {
        "colab_type": "code",
        "id": "-asNXUGQ0HTx",
        "outputId": "59020c27-217d-4fdc-f5f9-5523e5284fda",
        "colab": {
          "base_uri": "https://localhost:8080/",
          "height": 34
        }
      },
      "source": [
        "print(loss)"
      ],
      "execution_count": 0,
      "outputs": [
        {
          "output_type": "stream",
          "text": [
            "tf.Tensor(0.32322365, shape=(), dtype=float32)\n"
          ],
          "name": "stdout"
        }
      ]
    },
    {
      "cell_type": "code",
      "metadata": {
        "colab_type": "code",
        "id": "-HMbyRAR3qkw",
        "outputId": "95c4058f-da0c-4b8f-bb65-95d36bdc4d3c",
        "colab": {
          "base_uri": "https://localhost:8080/",
          "height": 34
        }
      },
      "source": [
        "print(accuracy)"
      ],
      "execution_count": 0,
      "outputs": [
        {
          "output_type": "stream",
          "text": [
            "0.83361\n"
          ],
          "name": "stdout"
        }
      ]
    },
    {
      "cell_type": "code",
      "metadata": {
        "colab_type": "code",
        "id": "uxM3-mu_xF5L",
        "outputId": "80097d1c-be93-43e3-beee-7248a70727ef",
        "colab": {
          "base_uri": "https://localhost:8080/",
          "height": 300
        }
      },
      "source": [
        "plt.yscale('log')\n",
        "plt.ylabel(\"loss\")\n",
        "plt.xlabel(\"epochs\")\n",
        "\n",
        "plt.plot(losses)"
      ],
      "execution_count": 0,
      "outputs": [
        {
          "output_type": "execute_result",
          "data": {
            "text/plain": [
              "[<matplotlib.lines.Line2D at 0x7f7323cd4e10>]"
            ]
          },
          "metadata": {
            "tags": []
          },
          "execution_count": 53
        },
        {
          "output_type": "display_data",
          "data": {
            "image/png": "[encoded data removed]",
            "text/plain": [
              "<Figure size 432x288 with 1 Axes>"
            ]
          },
          "metadata": {
            "tags": []
          }
        }
      ]
    },
    {
      "cell_type": "code",
      "metadata": {
        "colab_type": "code",
        "id": "d7sGM5vW4Dcf",
        "outputId": "33cdf63c-cf19-4be4-9a50-996fb89dd7e3",
        "colab": {
          "base_uri": "https://localhost:8080/",
          "height": 300
        }
      },
      "source": [
        "plt.ylabel(\"accuracy\")\n",
        "plt.xlabel(\"epochs\")\n",
        "\n",
        "plt.plot(accuracies)"
      ],
      "execution_count": 0,
      "outputs": [
        {
          "output_type": "execute_result",
          "data": {
            "text/plain": [
              "[<matplotlib.lines.Line2D at 0x7f7323e26588>]"
            ]
          },
          "metadata": {
            "tags": []
          },
          "execution_count": 54
        },
        {
          "output_type": "display_data",
          "data": {
            "image/png": "[encoded data removed]",
            "text/plain": [
              "<Figure size 432x288 with 1 Axes>"
            ]
          },
          "metadata": {
            "tags": []
          }
        }
      ]
    },
    {
      "cell_type": "code",
      "metadata": {
        "id": "l3wW3tZkzJOS",
        "colab_type": "code",
        "outputId": "c9b9d34d-ecd2-4ce6-e3b7-0519a558da25",
        "colab": {
          "base_uri": "https://localhost:8080/",
          "height": 391
        }
      },
      "source": [
        "# tf.squeeze removes addional 1-dim dimensions\n",
        "y_pred = tf.squeeze(model(x))\n",
        "y_pred"
      ],
      "execution_count": 0,
      "outputs": [
        {
          "output_type": "execute_result",
          "data": {
            "text/plain": [
              "<tf.Tensor: id=252088, shape=(100,), dtype=float32, numpy=\n",
              "array([0.536501  , 0.99758   , 0.88347733, 0.94305307, 0.89392054,\n",
              "       0.98377275, 0.4510847 , 0.9335607 , 0.93596643, 0.52747554,\n",
              "       0.06696948, 0.04313514, 0.23617965, 0.88483787, 0.03108275,\n",
              "       0.8967044 , 0.10103753, 0.8836168 , 0.9618577 , 0.9728819 ,\n",
              "       0.946121  , 0.93930197, 0.6070607 , 0.05133602, 0.98807967,\n",
              "       0.23956767, 0.96504927, 0.5302225 , 0.91284215, 0.65296227,\n",
              "       0.97088593, 0.4192599 , 0.9978502 , 0.2027697 , 0.22514102,\n",
              "       0.05002117, 0.9913939 , 0.9117509 , 0.5091676 , 0.9680932 ,\n",
              "       0.28388694, 0.25308388, 0.90067565, 0.59751856, 0.01690915,\n",
              "       0.96781915, 0.14527544, 0.13212028, 0.9982699 , 0.02581972,\n",
              "       0.6378955 , 0.971983  , 0.5387423 , 0.90013325, 0.37655103,\n",
              "       0.6685957 , 0.84786534, 0.1498307 , 0.97089183, 0.9827745 ,\n",
              "       0.15045726, 0.94860077, 0.01247692, 0.9699776 , 0.16243005,\n",
              "       0.9963608 , 0.8589054 , 0.04516593, 0.9288485 , 0.9700051 ,\n",
              "       0.68712777, 0.19009525, 0.3521102 , 0.96282494, 0.8247553 ,\n",
              "       0.05299723, 0.91893244, 0.9932183 , 0.96205723, 0.99258745,\n",
              "       0.99705553, 0.9981201 , 0.8657118 , 0.99024403, 0.9249456 ,\n",
              "       0.9078803 , 0.8566031 , 0.05335176, 0.9368679 , 0.93737864,\n",
              "       0.9988799 , 0.9025208 , 0.34434214, 0.8774215 , 0.06027588,\n",
              "       0.08780587, 0.46379238, 0.8141775 , 0.9235796 , 0.4690153 ],\n",
              "      dtype=float32)>"
            ]
          },
          "metadata": {
            "tags": []
          },
          "execution_count": 55
        }
      ]
    },
    {
      "cell_type": "markdown",
      "metadata": {
        "id": "X3GUBAV3CtE7",
        "colab_type": "text"
      },
      "source": [
        "## We are drawing a sigmoid in 3d and turn it into a step\n",
        "\n",
        "<img src='https://github.com/DJCordhose/ml-workshop/blob/master/notebooks/tf2/img/logistic.jpg?raw=1'>"
      ]
    },
    {
      "cell_type": "code",
      "metadata": {
        "colab_type": "code",
        "id": "3aYL-GyJY_37",
        "outputId": "0e640a1a-537e-4955-d715-50919c7d265f",
        "colab": {
          "base_uri": "https://localhost:8080/",
          "height": 119
        }
      },
      "source": [
        "# everything below 0.5 counts as 0, everthing above as 1\n",
        "# effectively turning this into a step\n",
        "y_pred_binary = (y_pred > 0.5).numpy().astype(float)\n",
        "y_pred_binary"
      ],
      "execution_count": 0,
      "outputs": [
        {
          "output_type": "execute_result",
          "data": {
            "text/plain": [
              "array([1., 1., 1., 1., 1., 1., 0., 1., 1., 1., 0., 0., 0., 1., 0., 1., 0.,\n",
              "       1., 1., 1., 1., 1., 1., 0., 1., 0., 1., 1., 1., 1., 1., 0., 1., 0.,\n",
              "       0., 0., 1., 1., 1., 1., 0., 0., 1., 1., 0., 1., 0., 0., 1., 0., 1.,\n",
              "       1., 1., 1., 0., 1., 1., 0., 1., 1., 0., 1., 0., 1., 0., 1., 1., 0.,\n",
              "       1., 1., 1., 0., 0., 1., 1., 0., 1., 1., 1., 1., 1., 1., 1., 1., 1.,\n",
              "       1., 1., 0., 1., 1., 1., 1., 0., 1., 0., 0., 0., 1., 1., 0.])"
            ]
          },
          "metadata": {
            "tags": []
          },
          "execution_count": 56
        }
      ]
    },
    {
      "cell_type": "code",
      "metadata": {
        "colab_type": "code",
        "id": "5O9WZSTuZBW3",
        "outputId": "624de283-e347-4a21-fdd4-32346e5e1299",
        "colab": {
          "base_uri": "https://localhost:8080/",
          "height": 170
        }
      },
      "source": [
        "misclassified = y_true - y_pred_binary\n",
        "misclassified"
      ],
      "execution_count": 0,
      "outputs": [
        {
          "output_type": "execute_result",
          "data": {
            "text/plain": [
              "<tf.Tensor: id=252092, shape=(100,), dtype=float32, numpy=\n",
              "array([-1.,  0.,  0.,  0.,  0.,  0.,  0.,  0.,  0., -1.,  0.,  0.,  1.,\n",
              "        0.,  0.,  0.,  0.,  0.,  0.,  0.,  0.,  0.,  0.,  0.,  0.,  0.,\n",
              "        0., -1.,  0.,  0.,  0.,  0.,  0.,  0.,  0.,  0.,  0.,  0., -1.,\n",
              "        0.,  0.,  1.,  0.,  0.,  0.,  0.,  0.,  1.,  0.,  0., -1.,  0.,\n",
              "       -1.,  0.,  1.,  0.,  0.,  0.,  0.,  0.,  1.,  0.,  0.,  0.,  0.,\n",
              "        0.,  0.,  0.,  0.,  0.,  0.,  0.,  0.,  0., -1.,  0.,  0.,  0.,\n",
              "        0.,  0.,  0.,  0.,  0.,  0.,  0.,  0.,  0.,  0.,  0., -1.,  0.,\n",
              "        0.,  0.,  0.,  0.,  1.,  1., -1.,  0.,  0.], dtype=float32)>"
            ]
          },
          "metadata": {
            "tags": []
          },
          "execution_count": 57
        }
      ]
    },
    {
      "cell_type": "code",
      "metadata": {
        "colab_type": "code",
        "id": "IiIut--IYxWz",
        "outputId": "5430acb1-a8d2-4a9c-b937-e10bce0a95b3",
        "colab": {
          "base_uri": "https://localhost:8080/",
          "height": 300
        }
      },
      "source": [
        "# strong colors are misclassified\n",
        "\n",
        "plt.xlabel(\"x1\")\n",
        "plt.ylabel(\"x2\")\n",
        "\n",
        "plt.scatter(X[:,0], X[:,1], c=misclassified, cmap=ListedColormap(['#FF0000', '#FFFFFF', '#0000FF']), marker='o')\n",
        "plt.scatter(X[:,0], X[:,1], c=y_pred_binary, cmap=ListedColormap(['#FF6666', '#6666FF']), marker='o', edgecolors='k', alpha=0.5)\n"
      ],
      "execution_count": 0,
      "outputs": [
        {
          "output_type": "execute_result",
          "data": {
            "text/plain": [
              "<matplotlib.collections.PathCollection at 0x7f7323bc0048>"
            ]
          },
          "metadata": {
            "tags": []
          },
          "execution_count": 58
        },
        {
          "output_type": "display_data",
          "data": {
            "image/png": "[encoded data removed]",
            "text/plain": [
              "<Figure size 432x288 with 1 Axes>"
            ]
          },
          "metadata": {
            "tags": []
          }
        }
      ]
    },
    {
      "cell_type": "code",
      "metadata": {
        "id": "QDVNVNQH05hS",
        "colab_type": "code",
        "colab": {}
      },
      "source": [
        "# for interactive 3d on local jupyer notebook\n",
        "\n",
        "# %matplotlib notebook"
      ],
      "execution_count": 0,
      "outputs": []
    },
    {
      "cell_type": "code",
      "metadata": {
        "id": "yZddH6Ed0S_e",
        "colab_type": "code",
        "outputId": "b220fc94-ce22-44a9-d9b6-f94e37577cdf",
        "colab": {
          "base_uri": "https://localhost:8080/",
          "height": 466
        }
      },
      "source": [
        "from mpl_toolkits.mplot3d import Axes3D\n",
        "\n",
        "fig = plt.figure(figsize=(8, 8))\n",
        "\n",
        "ax = fig.add_subplot(111, projection='3d')\n",
        "ax.scatter(X[:, 0], X[:, 1], y_pred, c=y_pred, \n",
        "#            https://matplotlib.org/3.1.0/gallery/color/colormap_reference.html\n",
        "           cmap=plt.cm.bwr,\n",
        "           depthshade=False,\n",
        "           marker='o', edgecolors='k')\n",
        "\n",
        "# https://en.wikipedia.org/wiki/Azimuth\n",
        "ax.view_init(elev=10, azim=-40)"
      ],
      "execution_count": 0,
      "outputs": [
        {
          "output_type": "display_data",
          "data": {
            "image/png": "[encoded data removed]",
            "text/plain": [
              "<Figure size 576x576 with 1 Axes>"
            ]
          },
          "metadata": {
            "tags": []
          }
        }
      ]
    },
    {
      "cell_type": "code",
      "metadata": {
        "id": "_GxYPAAk2Ax8",
        "colab_type": "code",
        "outputId": "4c91608b-3bf5-44e5-fdb6-a1730f94ffd9",
        "colab": {
          "base_uri": "https://localhost:8080/",
          "height": 466
        }
      },
      "source": [
        "fig = plt.figure(figsize=(8, 8))\n",
        "\n",
        "ax = fig.add_subplot(111, projection='3d')\n",
        "ax.scatter(X[:, 0], X[:, 1], y_pred_binary, c=y_pred, \n",
        "           cmap=plt.cm.bwr,\n",
        "           depthshade=False,\n",
        "           marker='o', edgecolors='k')\n",
        "\n",
        "ax.view_init(elev=10, azim=-40)"
      ],
      "execution_count": 0,
      "outputs": [
        {
          "output_type": "display_data",
          "data": {
            "image/png": "[encoded data removed]",
            "text/plain": [
              "<Figure size 576x576 with 1 Axes>"
            ]
          },
          "metadata": {
            "tags": []
          }
        }
      ]
    },
    {
      "cell_type": "markdown",
      "metadata": {
        "colab_type": "text",
        "id": "jZzGU633WNvt"
      },
      "source": [
        "## The same solution using high level Keas API"
      ]
    },
    {
      "cell_type": "code",
      "metadata": {
        "colab_type": "code",
        "id": "STfOU_LmVAnj",
        "outputId": "d64bd2c3-4d71-4592-9100-45a2be65b18a",
        "colab": {
          "base_uri": "https://localhost:8080/",
          "height": 187
        }
      },
      "source": [
        "from tensorflow.keras.layers import Dense\n",
        " \n",
        "model = tf.keras.Sequential()\n",
        "\n",
        "model.add(Dense(units=1, activation='sigmoid', input_dim=2))\n",
        "\n",
        "model.summary()"
      ],
      "execution_count": 0,
      "outputs": [
        {
          "output_type": "stream",
          "text": [
            "Model: \"sequential\"\n",
            "_________________________________________________________________\n",
            "Layer (type)                 Output Shape              Param #   \n",
            "=================================================================\n",
            "dense (Dense)                (None, 1)                 3         \n",
            "=================================================================\n",
            "Total params: 3\n",
            "Trainable params: 3\n",
            "Non-trainable params: 0\n",
            "_________________________________________________________________\n"
          ],
          "name": "stdout"
        }
      ]
    },
    {
      "cell_type": "code",
      "metadata": {
        "colab_type": "code",
        "id": "_Vffpso6WpgK",
        "outputId": "e88c9108-4024-45d0-f1e6-577b8ac76be6",
        "colab": {
          "base_uri": "https://localhost:8080/",
          "height": 51
        }
      },
      "source": [
        "%%time \n",
        "\n",
        "model.compile(loss=loss_fn, # binary cross entropy, unchanged from low level example\n",
        "             optimizer=optimizer, # adam, unchanged from low level example\n",
        "             metrics=['accuracy'])\n",
        "\n",
        "# does a similar thing internally as our loop from above\n",
        "history = model.fit(x, y_true, epochs=EPOCHS, verbose=0)"
      ],
      "execution_count": 0,
      "outputs": [
        {
          "output_type": "stream",
          "text": [
            "CPU times: user 11.6 s, sys: 1.26 s, total: 12.8 s\n",
            "Wall time: 10.3 s\n"
          ],
          "name": "stdout"
        }
      ]
    },
    {
      "cell_type": "code",
      "metadata": {
        "colab_type": "code",
        "id": "NfKDwhCiWkRI",
        "outputId": "34af0068-602e-4340-d02a-c53e9177bd4b",
        "colab": {
          "base_uri": "https://localhost:8080/",
          "height": 51
        }
      },
      "source": [
        "loss, accuracy = model.evaluate(x, y_true)\n",
        "loss, accuracy"
      ],
      "execution_count": 0,
      "outputs": [
        {
          "output_type": "stream",
          "text": [
            "100/100 [==============================] - 0s 485us/sample - loss: 0.3240 - accuracy: 0.8600\n"
          ],
          "name": "stdout"
        },
        {
          "output_type": "execute_result",
          "data": {
            "text/plain": [
              "(0.32400725603103636, 0.86)"
            ]
          },
          "metadata": {
            "tags": []
          },
          "execution_count": 64
        }
      ]
    },
    {
      "cell_type": "code",
      "metadata": {
        "colab_type": "code",
        "id": "N2U7B9ZEaKAz",
        "outputId": "0a383d9c-6470-4fac-f329-603ed24751d1",
        "colab": {
          "base_uri": "https://localhost:8080/",
          "height": 300
        }
      },
      "source": [
        "plt.yscale('log')\n",
        "plt.ylabel(\"accuracy\")\n",
        "plt.xlabel(\"epochs\")\n",
        "\n",
        "plt.plot(history.history['accuracy'])"
      ],
      "execution_count": 0,
      "outputs": [
        {
          "output_type": "execute_result",
          "data": {
            "text/plain": [
              "[<matplotlib.lines.Line2D at 0x7f7322b838d0>]"
            ]
          },
          "metadata": {
            "tags": []
          },
          "execution_count": 65
        },
        {
          "output_type": "display_data",
          "data": {
            "image/png": "[encoded data removed]",
            "text/plain": [
              "<Figure size 432x288 with 1 Axes>"
            ]
          },
          "metadata": {
            "tags": []
          }
        }
      ]
    },
    {
      "cell_type": "code",
      "metadata": {
        "colab_type": "code",
        "id": "O61MfB85aMT6",
        "outputId": "9d5bc32e-dd2c-4797-966a-bedb99cc0bd3",
        "colab": {
          "base_uri": "https://localhost:8080/",
          "height": 300
        }
      },
      "source": [
        "plt.yscale('log')\n",
        "plt.ylabel(\"loss\")\n",
        "plt.xlabel(\"epochs\")\n",
        "\n",
        "plt.plot(history.history['loss'])"
      ],
      "execution_count": 0,
      "outputs": [
        {
          "output_type": "execute_result",
          "data": {
            "text/plain": [
              "[<matplotlib.lines.Line2D at 0x7f7322afa3c8>]"
            ]
          },
          "metadata": {
            "tags": []
          },
          "execution_count": 66
        },
        {
          "output_type": "display_data",
          "data": {
            "image/png": "[encoded data removed]",
            "text/plain": [
              "<Figure size 432x288 with 1 Axes>"
            ]
          },
          "metadata": {
            "tags": []
          }
        }
      ]
    },
    {
      "cell_type": "code",
      "metadata": {
        "colab_type": "code",
        "id": "qh8dTuD0a0C3",
        "outputId": "03c4dfdf-31e9-4aea-ed0f-413754ec2585",
        "colab": {
          "base_uri": "https://localhost:8080/",
          "height": 119
        }
      },
      "source": [
        "y_pred = model.predict(x)\n",
        "y_pred_binary = (tf.squeeze(y_pred) > 0.5).numpy().astype(float)\n",
        "y_pred_binary"
      ],
      "execution_count": 0,
      "outputs": [
        {
          "output_type": "execute_result",
          "data": {
            "text/plain": [
              "array([1., 1., 1., 1., 1., 1., 0., 1., 1., 0., 0., 0., 0., 1., 0., 1., 0.,\n",
              "       1., 1., 1., 1., 1., 1., 0., 1., 0., 1., 1., 1., 1., 1., 0., 1., 0.,\n",
              "       0., 0., 1., 1., 0., 1., 0., 0., 1., 1., 0., 1., 0., 0., 1., 0., 1.,\n",
              "       1., 1., 1., 0., 1., 1., 0., 1., 1., 0., 1., 0., 1., 0., 1., 1., 0.,\n",
              "       1., 1., 1., 0., 0., 1., 1., 0., 1., 1., 1., 1., 1., 1., 1., 1., 1.,\n",
              "       1., 1., 0., 1., 1., 1., 1., 0., 1., 0., 0., 0., 1., 1., 0.])"
            ]
          },
          "metadata": {
            "tags": []
          },
          "execution_count": 67
        }
      ]
    },
    {
      "cell_type": "markdown",
      "metadata": {
        "colab_type": "text",
        "id": "HlPMzDleu4aM"
      },
      "source": [
        "## From single neuron to network in the TensorFlow Playground\n",
        "\n",
        "<img src='https://djcordhose.github.io/ai/img/tf-plaground.png'>\n",
        "\n",
        "https://playground.tensorflow.org/#activation=linear&batchSize=10&dataset=circle&regDataset=reg-plane&learningRate=0.01&regularizationRate=0&noise=0&networkShape=1&seed=0.98437&showTestData=false&discretize=false&percTrainData=50&x=true&y=true&xTimesY=false&xSquared=false&ySquared=false&cosX=false&sinX=false&cosY=false&sinY=false&collectStats=false&problem=classification&initZero=false&hideText=false"
      ]
    },
    {
      "cell_type": "markdown",
      "metadata": {
        "id": "F6eu8owGF_G3",
        "colab_type": "text"
      },
      "source": [
        "### Applying backprop to a complex network\n",
        "\n",
        "<img src='https://github.com/DJCordhose/ml-workshop/blob/master/notebooks/tf2/img/backprop.png?raw=1'>\n",
        "\n",
        "From https://google-developers.appspot.com/machine-learning/crash-course/backprop-scroll/\n",
        "\n",
        "More resources to understand back propagation\n",
        "* Mathematical\n",
        "  * http://cs231n.github.io/optimization-2/\n",
        "  * http://neuralnetworksanddeeplearning.com/chap2.html\n",
        "* Intuitive: http://colah.github.io/posts/2015-08-Backprop/\n",
        "* Maths basics: https://www.mathsisfun.com/calculus/derivatives-rules.html  "
      ]
    },
    {
      "cell_type": "code",
      "metadata": {
        "id": "8OO39fBoF8do",
        "colab_type": "code",
        "colab": {}
      },
      "source": [
        ""
      ],
      "execution_count": 0,
      "outputs": []
    }
  ]
}