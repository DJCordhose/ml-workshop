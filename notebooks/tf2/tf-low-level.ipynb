{
  "nbformat": 4,
  "nbformat_minor": 0,
  "metadata": {
    "colab": {
      "name": "tf-low-level.ipynb",
      "version": "0.3.2",
      "provenance": [],
      "include_colab_link": true
    },
    "language_info": {
      "codemirror_mode": {
        "name": "ipython",
        "version": 3
      },
      "file_extension": ".py",
      "mimetype": "text/x-python",
      "name": "python",
      "nbconvert_exporter": "python",
      "pygments_lexer": "ipython3",
      "version": "3.7.3"
    },
    "kernelspec": {
      "display_name": "Python 3",
      "language": "python",
      "name": "python3"
    },
    "accelerator": "GPU"
  },
  "cells": [
    {
      "cell_type": "markdown",
      "metadata": {
        "id": "view-in-github",
        "colab_type": "text"
      },
      "source": [
        "<a href=\"https://colab.research.google.com/github/DJCordhose/ml-workshop/blob/master/notebooks/tf2/tf-low-level.ipynb\" target=\"_parent\"><img src=\"https://colab.research.google.com/assets/colab-badge.svg\" alt=\"Open In Colab\"/></a>"
      ]
    },
    {
      "cell_type": "markdown",
      "metadata": {
        "colab_type": "text",
        "id": "XdfXfXK2-CiG"
      },
      "source": [
        "# Introduction to Neural Networks with Low Level TensorFlow 2\n",
        "\n",
        "Based on \n",
        "* This thread is a crash course on everything you need to know to use TensorFlow 2.0 + Keras for deep learning research: https://twitter.com/fchollet/status/1105139360226140160\n",
        "* Colab Notebook _tf.keras for Researchers_: https://colab.research.google.com/drive/17u-pRZJnKN0gO5XZmq8n5A2bKGrfKEUg#scrollTo=UHOOlixcQ9Gl\n",
        "* Effective TensorFlow 2: https://www.tensorflow.org/alpha/guide/effective_tf2\n",
        "* Writing a custom training loop: https://twitter.com/fchollet/status/1132013928681050113\n"
      ]
    },
    {
      "cell_type": "code",
      "metadata": {
        "colab_type": "code",
        "id": "u8IonVMfAelY",
        "colab": {}
      },
      "source": [
        "!pip install -q tf-nightly-gpu-2.0-preview"
      ],
      "execution_count": 0,
      "outputs": []
    },
    {
      "cell_type": "code",
      "metadata": {
        "colab_type": "code",
        "id": "0rEa6M11-CiY",
        "outputId": "dfe75c6f-a699-445a-e707-3ec95087b4ce",
        "colab": {
          "base_uri": "https://localhost:8080/",
          "height": 34
        }
      },
      "source": [
        "import tensorflow as tf\n",
        "print(tf.__version__)"
      ],
      "execution_count": 2,
      "outputs": [
        {
          "output_type": "stream",
          "text": [
            "2.0.0-dev20190806\n"
          ],
          "name": "stdout"
        }
      ]
    },
    {
      "cell_type": "code",
      "metadata": {
        "colab_type": "code",
        "id": "I35W9tmrRWF3",
        "outputId": "8a4f012b-6082-47c2-d395-7a9988f6dc00",
        "colab": {
          "base_uri": "https://localhost:8080/",
          "height": 34
        }
      },
      "source": [
        "# a small sanity check, does tf seem to work ok?\n",
        "hello = tf.constant('Hello TF!')\n",
        "print(\"This works: {}\".format(hello))"
      ],
      "execution_count": 3,
      "outputs": [
        {
          "output_type": "stream",
          "text": [
            "This works: b'Hello TF!'\n"
          ],
          "name": "stdout"
        }
      ]
    },
    {
      "cell_type": "code",
      "metadata": {
        "colab_type": "code",
        "id": "DpXHERPSQvMD",
        "colab": {}
      },
      "source": [
        "# this should return True even on Colab\n",
        "assert tf.test.is_gpu_available()"
      ],
      "execution_count": 0,
      "outputs": []
    },
    {
      "cell_type": "code",
      "metadata": {
        "colab_type": "code",
        "id": "hEoP6O2r3Jvf",
        "colab": {}
      },
      "source": [
        "# we have the gpu version of TensorFlow running\n",
        "assert tf.test.is_built_with_cuda()"
      ],
      "execution_count": 0,
      "outputs": []
    },
    {
      "cell_type": "code",
      "metadata": {
        "colab_type": "code",
        "id": "N5djlq79Lc5P",
        "outputId": "1d68e290-ad0a-48d0-d56d-6b40fcc00c05",
        "colab": {
          "base_uri": "https://localhost:8080/",
          "height": 289
        }
      },
      "source": [
        "# What kind of GPU are we running on\n",
        "!nvidia-smi"
      ],
      "execution_count": 6,
      "outputs": [
        {
          "output_type": "stream",
          "text": [
            "Tue Aug  6 17:02:05 2019       \n",
            "+-----------------------------------------------------------------------------+\n",
            "| NVIDIA-SMI 418.67       Driver Version: 410.79       CUDA Version: 10.0     |\n",
            "|-------------------------------+----------------------+----------------------+\n",
            "| GPU  Name        Persistence-M| Bus-Id        Disp.A | Volatile Uncorr. ECC |\n",
            "| Fan  Temp  Perf  Pwr:Usage/Cap|         Memory-Usage | GPU-Util  Compute M. |\n",
            "|===============================+======================+======================|\n",
            "|   0  Tesla T4            Off  | 00000000:00:04.0 Off |                    0 |\n",
            "| N/A   72C    P0    30W /  70W |    129MiB / 15079MiB |      1%      Default |\n",
            "+-------------------------------+----------------------+----------------------+\n",
            "                                                                               \n",
            "+-----------------------------------------------------------------------------+\n",
            "| Processes:                                                       GPU Memory |\n",
            "|  GPU       PID   Type   Process name                             Usage      |\n",
            "|=============================================================================|\n",
            "+-----------------------------------------------------------------------------+\n"
          ],
          "name": "stdout"
        }
      ]
    },
    {
      "cell_type": "code",
      "metadata": {
        "colab_type": "code",
        "id": "PqalzDXr3OiQ",
        "colab": {}
      },
      "source": [
        "# different from TF 1, everything gets executed immediately \n",
        "assert tf.executing_eagerly()"
      ],
      "execution_count": 0,
      "outputs": []
    },
    {
      "cell_type": "markdown",
      "metadata": {
        "colab_type": "text",
        "id": "iZgqH7oOh73-"
      },
      "source": [
        "## Transforming an input to a known output"
      ]
    },
    {
      "cell_type": "code",
      "metadata": {
        "colab_type": "code",
        "id": "VsTh2muvh8vi",
        "colab": {}
      },
      "source": [
        "input = [[-1], [0], [1], [2], [3], [4]]\n",
        "output = [[2], [1], [0], [-1], [-2], [-3]]"
      ],
      "execution_count": 0,
      "outputs": []
    },
    {
      "cell_type": "code",
      "metadata": {
        "colab_type": "code",
        "id": "WJ70YqfqiBrt",
        "outputId": "74e6dd16-f7f8-4029-f7a0-43ccb4380283",
        "colab": {
          "base_uri": "https://localhost:8080/",
          "height": 300
        }
      },
      "source": [
        "import matplotlib.pyplot as plt\n",
        "\n",
        "plt.xlabel('input')\n",
        "plt.ylabel('output')\n",
        "\n",
        "plt.plot(input, output, 'ro')"
      ],
      "execution_count": 9,
      "outputs": [
        {
          "output_type": "execute_result",
          "data": {
            "text/plain": [
              "[<matplotlib.lines.Line2D at 0x7fcbfd77f978>]"
            ]
          },
          "metadata": {
            "tags": []
          },
          "execution_count": 9
        },
        {
          "output_type": "display_data",
          "data": {
            "image/png": "[encoded data removed]",
            "text/plain": [
              "<Figure size 432x288 with 1 Axes>"
            ]
          },
          "metadata": {
            "tags": []
          }
        }
      ]
    },
    {
      "cell_type": "markdown",
      "metadata": {
        "colab_type": "text",
        "id": "IVyyWLjeiPU0"
      },
      "source": [
        "### relation between input and output is linear"
      ]
    },
    {
      "cell_type": "code",
      "metadata": {
        "colab_type": "code",
        "id": "XBljtpGIiCOj",
        "outputId": "424dfa0b-d6fe-4b9b-a3ec-7c158e8c211b",
        "colab": {
          "base_uri": "https://localhost:8080/",
          "height": 286
        }
      },
      "source": [
        "plt.plot(input, output)\n",
        "plt.plot(input, output, 'ro')"
      ],
      "execution_count": 10,
      "outputs": [
        {
          "output_type": "execute_result",
          "data": {
            "text/plain": [
              "[<matplotlib.lines.Line2D at 0x7fcbc95534e0>]"
            ]
          },
          "metadata": {
            "tags": []
          },
          "execution_count": 10
        },
        {
          "output_type": "display_data",
          "data": {
            "image/png": "[encoded data removed]",
            "text/plain": [
              "<Figure size 432x288 with 1 Axes>"
            ]
          },
          "metadata": {
            "tags": []
          }
        }
      ]
    },
    {
      "cell_type": "markdown",
      "metadata": {
        "colab_type": "text",
        "id": "WKxxou9oirbE"
      },
      "source": [
        "## Defining the model to train\n",
        "\n",
        "untrained single unit (neuron) also outputs a line from same input, although another one \n",
        "\n",
        "### The Artificial Neuron: Foundation of Deep Neural Networks (simplified, more later)\n",
        "\n",
        "* a neuron takes a number of numerical inputs\n",
        "* multiplies each with a weight, sums up all weighted input and  \n",
        "* adds bias (constant) to that sum\n",
        "* from this it creates a single numerical output\n",
        "* for one input (one dimension) this would be a description of a line\n",
        "* for more dimensions this describes a hyper plane that can serve as a decision boundary\n",
        "* this is typically expressed as a matrix multplication plus an addition\n",
        "\n",
        "\n",
        "<img src='https://djcordhose.github.io/ai/img/insurance/neuron211.jpg'>"
      ]
    },
    {
      "cell_type": "markdown",
      "metadata": {
        "colab_type": "text",
        "id": "O6oo7hM_0pv5"
      },
      "source": [
        "### This can be expressed using a matrix multiplication"
      ]
    },
    {
      "cell_type": "code",
      "metadata": {
        "colab_type": "code",
        "id": "7h8MQieO0vay",
        "outputId": "6d6dbc4d-270c-4ee7-86d0-5383c418e851",
        "colab": {
          "base_uri": "https://localhost:8080/",
          "height": 68
        }
      },
      "source": [
        "%%time \n",
        "\n",
        "# parameters of the neuron (can be learned), defining the function to apply\n",
        "w = tf.constant([[1.5], [-2], [1]], dtype='float32')\n",
        "b = tf.constant([6], dtype='float32')\n",
        "\n",
        "# variable input being fed through the parameterized neuron\n",
        "x = tf.constant([[10, 6, 8]], dtype='float32')\n",
        "\n",
        "# computed output\n",
        "y = tf.matmul(x, w) + b\n",
        "print(y)"
      ],
      "execution_count": 11,
      "outputs": [
        {
          "output_type": "stream",
          "text": [
            "tf.Tensor([[17.]], shape=(1, 1), dtype=float32)\n",
            "CPU times: user 1 s, sys: 428 ms, total: 1.43 s\n",
            "Wall time: 1.39 s\n"
          ],
          "name": "stdout"
        }
      ]
    },
    {
      "cell_type": "markdown",
      "metadata": {
        "id": "yvlfhLSP78IZ",
        "colab_type": "text"
      },
      "source": [
        "# Hands-On: Experiment with our neuron\n",
        "\n",
        "* execute the notebook up to this cell\n",
        "* change the values of the input, weights and bias in the cell above\n",
        "* restart the calculation and make sure the result meets your expectations"
      ]
    },
    {
      "cell_type": "markdown",
      "metadata": {
        "colab_type": "text",
        "id": "IGylP_16koS6"
      },
      "source": [
        "### Defining a layer with a random number of neurons and inputs\n",
        "\n",
        "With a little more work this would be a complete implementation of a fully connected layer\n",
        "\n"
      ]
    },
    {
      "cell_type": "code",
      "metadata": {
        "colab_type": "code",
        "id": "aMCDcq4JelaE",
        "outputId": "52e2a77c-98a2-4497-e3bc-36c3e45ed47a",
        "colab": {
          "base_uri": "https://localhost:8080/",
          "height": 51
        }
      },
      "source": [
        "from tensorflow.keras.layers import Layer\n",
        "\n",
        "# we derive from a TensorFlow Layer\n",
        "class LinearLayer(Layer):\n",
        "  \"\"\"y = w.x + b\"\"\"\n",
        "\n",
        "  # initializing our layer\n",
        "  def __init__(self, units=1, input_dim=1):\n",
        "      super(LinearLayer, self).__init__()\n",
        "      # these are our weights, which can be learned, initialized normally around 0 with stddev of 2\n",
        "      self.w = tf.Variable(\n",
        "          initial_value = tf.random_normal_initializer(stddev=2)(shape=(input_dim, units), dtype='float32'),\n",
        "          trainable=True,\n",
        "          name='weights')\n",
        "      # these are our bisases, also can be learned, initialized as 0\n",
        "      self.b = tf.Variable(\n",
        "          initial_value = tf.zeros_initializer()(shape=(units,), dtype='float32'),\n",
        "          trainable=True,\n",
        "          name='biases')\n",
        "\n",
        "  # what the layer does (some as in our example before)\n",
        "  def call(self, inputs):\n",
        "      return tf.matmul(inputs, self.w) + self.b\n",
        "    \n",
        "# just one neuron and one input (but could be as many as we like)    \n",
        "linear_layer = LinearLayer()\n",
        "linear_layer.trainable_variables"
      ],
      "execution_count": 12,
      "outputs": [
        {
          "output_type": "execute_result",
          "data": {
            "text/plain": [
              "[<tf.Variable 'weights:0' shape=(1, 1) dtype=float32, numpy=array([[0.6731738]], dtype=float32)>,\n",
              " <tf.Variable 'biases:0' shape=(1,) dtype=float32, numpy=array([0.], dtype=float32)>]"
            ]
          },
          "metadata": {
            "tags": []
          },
          "execution_count": 12
        }
      ]
    },
    {
      "cell_type": "markdown",
      "metadata": {
        "colab_type": "text",
        "id": "IlrodnQbkmXZ"
      },
      "source": [
        "### Output of a single untrained neuron"
      ]
    },
    {
      "cell_type": "code",
      "metadata": {
        "id": "fNAOTMN6-lWR",
        "colab_type": "code",
        "outputId": "305f6cba-b40e-4921-d015-2e7ff65684ce",
        "colab": {
          "base_uri": "https://localhost:8080/",
          "height": 34
        }
      },
      "source": [
        "input"
      ],
      "execution_count": 13,
      "outputs": [
        {
          "output_type": "execute_result",
          "data": {
            "text/plain": [
              "[[-1], [0], [1], [2], [3], [4]]"
            ]
          },
          "metadata": {
            "tags": []
          },
          "execution_count": 13
        }
      ]
    },
    {
      "cell_type": "code",
      "metadata": {
        "id": "kJyX3Ryk-4S1",
        "colab_type": "code",
        "outputId": "79601fa4-3933-401f-e17c-b169b1f68546",
        "colab": {
          "base_uri": "https://localhost:8080/",
          "height": 136
        }
      },
      "source": [
        "# x and y are typically names for input and output in machine learning\n",
        "x = tf.constant(input, dtype=tf.float32)\n",
        "x"
      ],
      "execution_count": 14,
      "outputs": [
        {
          "output_type": "execute_result",
          "data": {
            "text/plain": [
              "<tf.Tensor: id=32, shape=(6, 1), dtype=float32, numpy=\n",
              "array([[-1.],\n",
              "       [ 0.],\n",
              "       [ 1.],\n",
              "       [ 2.],\n",
              "       [ 3.],\n",
              "       [ 4.]], dtype=float32)>"
            ]
          },
          "metadata": {
            "tags": []
          },
          "execution_count": 14
        }
      ]
    },
    {
      "cell_type": "code",
      "metadata": {
        "id": "_pdSw2Bd-nZR",
        "colab_type": "code",
        "outputId": "864d62a4-d07a-44b8-fed9-d50f9eabf548",
        "colab": {
          "base_uri": "https://localhost:8080/",
          "height": 34
        }
      },
      "source": [
        "output"
      ],
      "execution_count": 15,
      "outputs": [
        {
          "output_type": "execute_result",
          "data": {
            "text/plain": [
              "[[2], [1], [0], [-1], [-2], [-3]]"
            ]
          },
          "metadata": {
            "tags": []
          },
          "execution_count": 15
        }
      ]
    },
    {
      "cell_type": "code",
      "metadata": {
        "colab_type": "code",
        "id": "d1FpEmPgjM76",
        "outputId": "eee6214c-e1b6-48b8-e12a-b96299e7a17c",
        "colab": {
          "base_uri": "https://localhost:8080/",
          "height": 136
        }
      },
      "source": [
        "y_true = tf.constant(output, dtype=tf.float32)\n",
        "y_true"
      ],
      "execution_count": 16,
      "outputs": [
        {
          "output_type": "execute_result",
          "data": {
            "text/plain": [
              "<tf.Tensor: id=33, shape=(6, 1), dtype=float32, numpy=\n",
              "array([[ 2.],\n",
              "       [ 1.],\n",
              "       [ 0.],\n",
              "       [-1.],\n",
              "       [-2.],\n",
              "       [-3.]], dtype=float32)>"
            ]
          },
          "metadata": {
            "tags": []
          },
          "execution_count": 16
        }
      ]
    },
    {
      "cell_type": "code",
      "metadata": {
        "colab_type": "code",
        "id": "wJaw2t3ef7Xl",
        "outputId": "c76ef946-117a-4a94-8a7b-13bd76e8e8d8",
        "colab": {
          "base_uri": "https://localhost:8080/",
          "height": 136
        }
      },
      "source": [
        "# we use our layer from above to make a prediction for x\n",
        "y_pred = linear_layer(x)\n",
        "y_pred"
      ],
      "execution_count": 17,
      "outputs": [
        {
          "output_type": "execute_result",
          "data": {
            "text/plain": [
              "<tf.Tensor: id=37, shape=(6, 1), dtype=float32, numpy=\n",
              "array([[-0.6731738],\n",
              "       [ 0.       ],\n",
              "       [ 0.6731738],\n",
              "       [ 1.3463476],\n",
              "       [ 2.0195212],\n",
              "       [ 2.6926951]], dtype=float32)>"
            ]
          },
          "metadata": {
            "tags": []
          },
          "execution_count": 17
        }
      ]
    },
    {
      "cell_type": "code",
      "metadata": {
        "id": "Z1mZyZb__CpC",
        "colab_type": "code",
        "outputId": "443d68ac-a6f8-4c16-bb6d-a93973d80b18",
        "colab": {
          "base_uri": "https://localhost:8080/",
          "height": 136
        }
      },
      "source": [
        "# obviously we are really off (no wonder as the parameters are just random)\n",
        "y_true - y_pred"
      ],
      "execution_count": 18,
      "outputs": [
        {
          "output_type": "execute_result",
          "data": {
            "text/plain": [
              "<tf.Tensor: id=38, shape=(6, 1), dtype=float32, numpy=\n",
              "array([[ 2.673174 ],\n",
              "       [ 1.       ],\n",
              "       [-0.6731738],\n",
              "       [-2.3463476],\n",
              "       [-4.019521 ],\n",
              "       [-5.692695 ]], dtype=float32)>"
            ]
          },
          "metadata": {
            "tags": []
          },
          "execution_count": 18
        }
      ]
    },
    {
      "cell_type": "code",
      "metadata": {
        "colab_type": "code",
        "id": "A5no0NPli-dh",
        "outputId": "2dc93325-4399-4e84-97c3-f8f63280865a",
        "colab": {
          "base_uri": "https://localhost:8080/",
          "height": 286
        }
      },
      "source": [
        "# let's see how off we are\n",
        "plt.plot(x, y_pred)\n",
        "plt.plot(input, output, 'ro')"
      ],
      "execution_count": 19,
      "outputs": [
        {
          "output_type": "execute_result",
          "data": {
            "text/plain": [
              "[<matplotlib.lines.Line2D at 0x7fcbc0681160>]"
            ]
          },
          "metadata": {
            "tags": []
          },
          "execution_count": 19
        },
        {
          "output_type": "display_data",
          "data": {
            "image/png": "[encoded data removed]",
            "text/plain": [
              "<Figure size 432x288 with 1 Axes>"
            ]
          },
          "metadata": {
            "tags": []
          }
        }
      ]
    },
    {
      "cell_type": "markdown",
      "metadata": {
        "id": "tHVkxkc7_zME",
        "colab_type": "text"
      },
      "source": [
        "# Hands-On: Have a layer with more than one neuron\n",
        "\n",
        "* configure our layer to have more neuron\n",
        "* does the example still work?\n",
        "* how does the output of the layer look like?\n",
        "* why?"
      ]
    },
    {
      "cell_type": "markdown",
      "metadata": {
        "colab_type": "text",
        "id": "zAuxRMiMkyX3"
      },
      "source": [
        "# How wrong are we?\n",
        "## Loss - Mean Squared Error\n",
        "\n",
        "Loss function is the prerequisite to training. We need an objective to optimize for. We calculate the difference between what we get as output and what we would like to get.\n",
        "\n",
        "### Mean Squared Error\n",
        "\n",
        "$MSE = {\\frac {1}{n}}\\sum _{i=1}^{n}(Y_{i}-{\\hat {Y_{i}}})^{2}$\n",
        "\n",
        "\n",
        "https://en.wikipedia.org/wiki/Mean_squared_error\n"
      ]
    },
    {
      "cell_type": "code",
      "metadata": {
        "colab_type": "code",
        "id": "S5qBUY18u2BK",
        "colab": {}
      },
      "source": [
        "# we could also use absolut error which would give less weight to outliers\n",
        "loss_fn = tf.losses.mean_squared_error\n",
        "# loss_fn = tf.losses.mean_absolute_error"
      ],
      "execution_count": 0,
      "outputs": []
    },
    {
      "cell_type": "code",
      "metadata": {
        "colab_type": "code",
        "id": "pIGGjpC4jdjZ",
        "outputId": "81b0a21b-2a7e-48ee-b563-3651222b94af",
        "colab": {
          "base_uri": "https://localhost:8080/",
          "height": 34
        }
      },
      "source": [
        "# how bad is it, really?\n",
        "loss = loss_fn(y_true=tf.squeeze(y_true), y_pred=tf.squeeze(y_pred))\n",
        "print(loss)"
      ],
      "execution_count": 21,
      "outputs": [
        {
          "output_type": "stream",
          "text": [
            "tf.Tensor(10.444615, shape=(), dtype=float32)\n"
          ],
          "name": "stdout"
        }
      ]
    },
    {
      "cell_type": "code",
      "metadata": {
        "colab_type": "code",
        "id": "6DGusRmhk1JU",
        "colab": {}
      },
      "source": [
        "assert tf.keras.losses.mean_squared_error == tf.losses.mean_squared_error"
      ],
      "execution_count": 0,
      "outputs": []
    },
    {
      "cell_type": "markdown",
      "metadata": {
        "id": "NLXsxuqkB-BN",
        "colab_type": "text"
      },
      "source": [
        "\n",
        "### Backpropagation algorithm\n",
        "\n",
        "1. Predict: Let the network make a prediction \n",
        "1. Calculate the loss: how accurate was the predition\n",
        "1. partial derivations: Find out in which direction to change all parameters to bring down the loss\n",
        "1. Optimizer: Make changes to parameters based on learning rate and other parameters\n"
      ]
    },
    {
      "cell_type": "markdown",
      "metadata": {
        "colab_type": "text",
        "id": "QzcQowwMsZqg"
      },
      "source": [
        "### Loss depends on the trainable variables, in our case two parameters: weight and bias\n",
        "\n",
        "This is how the loss function might change depending on those variables\n",
        "\n",
        "<img src='https://djcordhose.github.io/ai/img/gradients.jpg'>\n",
        "\n",
        "https://twitter.com/colindcarroll/status/1090266016259534848"
      ]
    },
    {
      "cell_type": "code",
      "metadata": {
        "id": "7jkpKqcoB1ma",
        "colab_type": "code",
        "outputId": "dc10ab16-b58e-43c2-eacd-7da60e3e346a",
        "colab": {
          "base_uri": "https://localhost:8080/",
          "height": 51
        }
      },
      "source": [
        "linear_layer.trainable_variables"
      ],
      "execution_count": 23,
      "outputs": [
        {
          "output_type": "execute_result",
          "data": {
            "text/plain": [
              "[<tf.Variable 'weights:0' shape=(1, 1) dtype=float32, numpy=array([[0.6731738]], dtype=float32)>,\n",
              " <tf.Variable 'biases:0' shape=(1,) dtype=float32, numpy=array([0.], dtype=float32)>]"
            ]
          },
          "metadata": {
            "tags": []
          },
          "execution_count": 23
        }
      ]
    },
    {
      "cell_type": "markdown",
      "metadata": {
        "colab_type": "text",
        "id": "xukGkwFTET56"
      },
      "source": [
        "### For this we need partial derivations\n",
        "\n",
        "TensorFlow offers automatic differentiation: https://www.tensorflow.org/versions/r2.0/api_docs/python/tf/GradientTape\n",
        "\n",
        "* tape will record operations for automatic differentiation\n",
        "* either by making it record explicily (watch) or \n",
        "* by declaring a varible to be trainable (which we did in the layer above) \n",
        "\n"
      ]
    },
    {
      "cell_type": "code",
      "metadata": {
        "id": "ODYIJbadLtkr",
        "colab_type": "code",
        "colab": {}
      },
      "source": [
        "from tensorflow import GradientTape \n",
        "GradientTape?"
      ],
      "execution_count": 0,
      "outputs": []
    },
    {
      "cell_type": "code",
      "metadata": {
        "id": "pr2PjDdwFtui",
        "colab_type": "code",
        "outputId": "f118ace3-b01e-4bad-9f80-a4cd6fe1edf7",
        "colab": {
          "base_uri": "https://localhost:8080/",
          "height": 139
        }
      },
      "source": [
        "\n",
        "def tape_sample():\n",
        "  with GradientTape() as tape:\n",
        "    a = tf.constant(2.0)\n",
        "    b = tf.constant(1.0)\n",
        "    tape.watch(a)\n",
        "    tape.watch(b)\n",
        "    c = a + b\n",
        "    d = b + 1\n",
        "    f = c * d\n",
        "  print(a, b, c, d, f)\n",
        "  # how is f dependending on the other variables\n",
        "  (df_da, df_db, df_dc, df_dd, df_df) = tape.gradient(f, [a, b, c, d, f])\n",
        "  print(df_da)\n",
        "  print(df_db)\n",
        "  print(df_dc)\n",
        "  print(df_dd)\n",
        "  print(df_df)\n",
        "  \n",
        "# just a function in order not to interfere with x on the global scope  \n",
        "tape_sample()"
      ],
      "execution_count": 25,
      "outputs": [
        {
          "output_type": "stream",
          "text": [
            "tf.Tensor(2.0, shape=(), dtype=float32) tf.Tensor(1.0, shape=(), dtype=float32) tf.Tensor(3.0, shape=(), dtype=float32) tf.Tensor(2.0, shape=(), dtype=float32) tf.Tensor(6.0, shape=(), dtype=float32)\n",
            "tf.Tensor(2.0, shape=(), dtype=float32)\n",
            "tf.Tensor(5.0, shape=(), dtype=float32)\n",
            "tf.Tensor(2.0, shape=(), dtype=float32)\n",
            "tf.Tensor(3.0, shape=(), dtype=float32)\n",
            "tf.Tensor(1.0, shape=(), dtype=float32)\n"
          ],
          "name": "stdout"
        }
      ]
    },
    {
      "cell_type": "markdown",
      "metadata": {
        "id": "qHqyB4sDLud-",
        "colab_type": "text"
      },
      "source": [
        "## How does this work?\n",
        "\n",
        "In a multi layer network the chain rule is used to find out how an intermediate neuron affects the overall error\n",
        "\n",
        "### How does the loss (f) change when changing either a or b?\n",
        "\n",
        "<img src='https://github.com/DJCordhose/ml-workshop/blob/master/notebooks/tf2/img/loss_f_a_b.png?raw=1'>\n",
        "\n",
        "### Calculating df/da\n",
        "\n",
        "<img src='https://github.com/DJCordhose/ml-workshop/blob/master/notebooks/tf2/img/chain_rule_a.png?raw=1'>\n",
        "\n",
        "### Calculating df/db\n",
        "\n",
        "<img src='https://github.com/DJCordhose/ml-workshop/blob/master/notebooks/tf2/img/chain_rule_b.png?raw=1'>\n",
        "\n",
        "https://twitter.com/random_forests\n",
        "\n",
        "https://towardsdatascience.com/back-propagation-demystified-in-7-minutes-4294d71a04d7\n",
        "\n"
      ]
    },
    {
      "cell_type": "markdown",
      "metadata": {
        "id": "bUIejU8hJNdU",
        "colab_type": "text"
      },
      "source": [
        "# Hands-On: Work through the above example\n",
        "\n",
        "* above you see the calculation of df/da and df/db\n",
        "* make sure you understand how it is composed based on the different rules you see on the left side\n",
        "* make changes to variables and how they are computed and make sure you will understand the results\n",
        "* if you understand what is going on, help your neighbors"
      ]
    },
    {
      "cell_type": "markdown",
      "metadata": {
        "colab_type": "text",
        "id": "BlVOagySSwyO"
      },
      "source": [
        "## Training\n",
        "\n",
        "https://twitter.com/fchollet/status/1132013928681050113"
      ]
    },
    {
      "cell_type": "code",
      "metadata": {
        "colab_type": "code",
        "id": "V36dlfViTMZR",
        "outputId": "e1620963-4752-4d01-f9b5-7acc8a8d9343",
        "colab": {
          "base_uri": "https://localhost:8080/",
          "height": 51
        }
      },
      "source": [
        "linear_layer = LinearLayer()\n",
        "linear_layer.w, linear_layer.b"
      ],
      "execution_count": 26,
      "outputs": [
        {
          "output_type": "execute_result",
          "data": {
            "text/plain": [
              "(<tf.Variable 'weights:0' shape=(1, 1) dtype=float32, numpy=array([[-3.1927326]], dtype=float32)>,\n",
              " <tf.Variable 'biases:0' shape=(1,) dtype=float32, numpy=array([0.], dtype=float32)>)"
            ]
          },
          "metadata": {
            "tags": []
          },
          "execution_count": 26
        }
      ]
    },
    {
      "cell_type": "code",
      "metadata": {
        "colab_type": "code",
        "id": "WbTfKBTMTm1B",
        "outputId": "e08a2d14-9882-428f-fa78-49332ba7715d",
        "colab": {
          "base_uri": "https://localhost:8080/",
          "height": 51
        }
      },
      "source": [
        "linear_layer.trainable_weights"
      ],
      "execution_count": 27,
      "outputs": [
        {
          "output_type": "execute_result",
          "data": {
            "text/plain": [
              "[<tf.Variable 'weights:0' shape=(1, 1) dtype=float32, numpy=array([[-3.1927326]], dtype=float32)>,\n",
              " <tf.Variable 'biases:0' shape=(1,) dtype=float32, numpy=array([0.], dtype=float32)>]"
            ]
          },
          "metadata": {
            "tags": []
          },
          "execution_count": 27
        }
      ]
    },
    {
      "cell_type": "markdown",
      "metadata": {
        "id": "xmx0RXV_Qm5C",
        "colab_type": "text"
      },
      "source": [
        "### We follow the backpropagation algorithm from above\n",
        "\n",
        "1. Predict: Let the network make a prediction \n",
        "1. Calculate the loss: how accurate was the predition\n",
        "1. partial derivations: Find out in which direction to change all parameters to bring down the loss\n",
        "1. Optimizer: Make changes to parameters based on learning rate and other parameters\n"
      ]
    },
    {
      "cell_type": "markdown",
      "metadata": {
        "id": "jeVGUldCA12W",
        "colab_type": "text"
      },
      "source": [
        "### Job of the optimizer: Minimize Loss by changing parameters of neuron \n",
        "\n",
        "<img src='https://djcordhose.github.io/ai/img/manning/optimizer.png' height=500>"
      ]
    },
    {
      "cell_type": "markdown",
      "metadata": {
        "id": "F6eu8owGF_G3",
        "colab_type": "text"
      },
      "source": [
        "### Applying backprop to a complex network\n",
        "\n",
        "<img src='https://github.com/DJCordhose/ml-workshop/blob/master/notebooks/tf2/img/backprop.png?raw=1'>\n",
        "\n",
        "From https://google-developers.appspot.com/machine-learning/crash-course/backprop-scroll/\n",
        "\n",
        "More resources to understand back propagation\n",
        "* Mathematical\n",
        "  * http://cs231n.github.io/optimization-2/\n",
        "  * http://neuralnetworksanddeeplearning.com/chap2.html\n",
        "* Intuitive: http://colah.github.io/posts/2015-08-Backprop/\n",
        "* Maths basics: https://www.mathsisfun.com/calculus/derivatives-rules.html  "
      ]
    },
    {
      "cell_type": "code",
      "metadata": {
        "colab_type": "code",
        "id": "B988o-LuC2wf",
        "colab": {}
      },
      "source": [
        "linear_layer = LinearLayer()\n",
        "\n",
        "EPOCHS = 500\n",
        "learning_rate = 1e-2\n",
        "\n",
        "losses = []"
      ],
      "execution_count": 0,
      "outputs": []
    },
    {
      "cell_type": "code",
      "metadata": {
        "id": "CZUySXYNScOx",
        "colab_type": "code",
        "colab": {}
      },
      "source": [
        "for step in range(EPOCHS):\n",
        "  with tf.GradientTape() as tape:\n",
        "\n",
        "    # forward pass, all data\n",
        "    # often we do not use all data to calculate the loss, but only a certain fraction, called the batch\n",
        "    # you could also push data through one by one, being an extreme version of a batched approached\n",
        "    # in our case we use all the data we have and calculate the combined error\n",
        "    y_pred = linear_layer(x)\n",
        "\n",
        "    # loss for this batch\n",
        "    loss = loss_fn(y_true=tf.squeeze(y_true), y_pred=tf.squeeze(y_pred))\n",
        "    \n",
        "  # just for logging\n",
        "  losses.append(loss)\n",
        "\n",
        "  # get gradients of weights wrt the loss\n",
        "  (dw, db) = tape.gradient(loss, linear_layer.trainable_weights)\n",
        "  \n",
        "  # optimizer: backward pass, changing trainable weights in the direction of the mimimum\n",
        "  linear_layer.w.assign_sub(learning_rate * dw)\n",
        "  linear_layer.b.assign_sub(learning_rate * db)"
      ],
      "execution_count": 0,
      "outputs": []
    },
    {
      "cell_type": "code",
      "metadata": {
        "colab_type": "code",
        "id": "dnapizSr1ufF",
        "outputId": "734967cc-af3d-4f92-a278-e9c3472a3f80",
        "colab": {
          "base_uri": "https://localhost:8080/",
          "height": 34
        }
      },
      "source": [
        "print(loss)"
      ],
      "execution_count": 30,
      "outputs": [
        {
          "output_type": "stream",
          "text": [
            "tf.Tensor(1.8918476e-05, shape=(), dtype=float32)\n"
          ],
          "name": "stdout"
        }
      ]
    },
    {
      "cell_type": "code",
      "metadata": {
        "colab_type": "code",
        "id": "HVU5pKnVxvch",
        "outputId": "225805b7-b5de-4210-f9da-d577fe5871da",
        "colab": {
          "base_uri": "https://localhost:8080/",
          "height": 300
        }
      },
      "source": [
        "plt.xlabel('epochs')\n",
        "plt.ylabel('loss')\n",
        "\n",
        "# plt.yscale('log')\n",
        "\n",
        "plt.plot(losses)"
      ],
      "execution_count": 31,
      "outputs": [
        {
          "output_type": "execute_result",
          "data": {
            "text/plain": [
              "[<matplotlib.lines.Line2D at 0x7fcbc05adbe0>]"
            ]
          },
          "metadata": {
            "tags": []
          },
          "execution_count": 31
        },
        {
          "output_type": "display_data",
          "data": {
            "image/png": "[encoded data removed]",
            "text/plain": [
              "<Figure size 432x288 with 1 Axes>"
            ]
          },
          "metadata": {
            "tags": []
          }
        }
      ]
    },
    {
      "cell_type": "markdown",
      "metadata": {
        "colab_type": "text",
        "id": "PCTnMgCh1ala"
      },
      "source": [
        "### Line drawn by neuron after training\n",
        "\n",
        "* result after training is not perfect, but almost looks like the same line\n",
        "* https://en.wikipedia.org/wiki/Linear_equation#Slope%E2%80%93intercept_form\n"
      ]
    },
    {
      "cell_type": "code",
      "metadata": {
        "colab_type": "code",
        "id": "WDwLh7RP1alX",
        "outputId": "9acc471f-9c60-49bf-9f1d-bd041ca94330",
        "colab": {
          "base_uri": "https://localhost:8080/",
          "height": 136
        }
      },
      "source": [
        "y_pred = linear_layer(x)\n",
        "y_pred"
      ],
      "execution_count": 32,
      "outputs": [
        {
          "output_type": "execute_result",
          "data": {
            "text/plain": [
              "<tf.Tensor: id=20159, shape=(6, 1), dtype=float32, numpy=\n",
              "array([[ 1.9924586 ],\n",
              "       [ 0.99429774],\n",
              "       [-0.00386304],\n",
              "       [-1.0020238 ],\n",
              "       [-2.0001845 ],\n",
              "       [-2.9983454 ]], dtype=float32)>"
            ]
          },
          "metadata": {
            "tags": []
          },
          "execution_count": 32
        }
      ]
    },
    {
      "cell_type": "code",
      "metadata": {
        "id": "10C1pBFuUsw7",
        "colab_type": "code",
        "outputId": "88ef629d-1078-4730-a1b2-641319d96db9",
        "colab": {
          "base_uri": "https://localhost:8080/",
          "height": 136
        }
      },
      "source": [
        "y_pred - y_true"
      ],
      "execution_count": 33,
      "outputs": [
        {
          "output_type": "execute_result",
          "data": {
            "text/plain": [
              "<tf.Tensor: id=20160, shape=(6, 1), dtype=float32, numpy=\n",
              "array([[-0.00754142],\n",
              "       [-0.00570226],\n",
              "       [-0.00386304],\n",
              "       [-0.00202382],\n",
              "       [-0.00018454],\n",
              "       [ 0.00165462]], dtype=float32)>"
            ]
          },
          "metadata": {
            "tags": []
          },
          "execution_count": 33
        }
      ]
    },
    {
      "cell_type": "code",
      "metadata": {
        "colab_type": "code",
        "id": "D6IsHQhf1alP",
        "outputId": "ee817c4d-54b0-48cf-9a3e-9e9e8cbe7202",
        "colab": {
          "base_uri": "https://localhost:8080/",
          "height": 286
        }
      },
      "source": [
        "plt.plot(x, y_pred)\n",
        "plt.plot(input, output, 'ro')"
      ],
      "execution_count": 34,
      "outputs": [
        {
          "output_type": "execute_result",
          "data": {
            "text/plain": [
              "[<matplotlib.lines.Line2D at 0x7fcbc062a2b0>]"
            ]
          },
          "metadata": {
            "tags": []
          },
          "execution_count": 34
        },
        {
          "output_type": "display_data",
          "data": {
            "image/png": "[encoded data removed]",
            "text/plain": [
              "<Figure size 432x288 with 1 Axes>"
            ]
          },
          "metadata": {
            "tags": []
          }
        }
      ]
    },
    {
      "cell_type": "code",
      "metadata": {
        "colab_type": "code",
        "id": "FtRUMsQf1alI",
        "outputId": "aaab7de6-c6c0-4bdb-8314-23b6fe28feb3",
        "colab": {
          "base_uri": "https://localhost:8080/",
          "height": 51
        }
      },
      "source": [
        "# single neuron and single input: one weight and one bias\n",
        "# slope m ~ -1 = weight\n",
        "# y-axis offset y0 ~ 1 = bias\n",
        "# https://en.wikipedia.org/wiki/Linear_equation#Slope%E2%80%93intercept_form\n",
        "\n",
        "linear_layer.w, linear_layer.b"
      ],
      "execution_count": 35,
      "outputs": [
        {
          "output_type": "execute_result",
          "data": {
            "text/plain": [
              "(<tf.Variable 'weights:0' shape=(1, 1) dtype=float32, numpy=array([[-0.9981608]], dtype=float32)>,\n",
              " <tf.Variable 'biases:0' shape=(1,) dtype=float32, numpy=array([0.99429774], dtype=float32)>)"
            ]
          },
          "metadata": {
            "tags": []
          },
          "execution_count": 35
        }
      ]
    },
    {
      "cell_type": "markdown",
      "metadata": {
        "id": "ZHOKTWIvU-sd",
        "colab_type": "text"
      },
      "source": [
        "# Hands-On: Train your model to good results\n",
        "\n",
        "* with the cells above check that the variables are reasonably close to what we know this is right\n",
        "* understand that this is not an option your normally have\n",
        "* train for more epochs to see how close you can get to the true result"
      ]
    },
    {
      "cell_type": "markdown",
      "metadata": {
        "colab_type": "text",
        "id": "vbOJfrtgDQiM"
      },
      "source": [
        "### Prebuilt Optimizers do this job (but a bit more efficient and sohpisticated)\n",
        "\n",
        "* http://cs231n.github.io/optimization-1/\n",
        "* http://cs231n.github.io/neural-networks-3/#update\n",
        "* How they sound: http://blog.christianperone.com/2019/08/listening-to-the-neural-network-gradient-norms-during-training/"
      ]
    },
    {
      "cell_type": "code",
      "metadata": {
        "colab_type": "code",
        "id": "eD2YbeHdDM9y",
        "colab": {}
      },
      "source": [
        "optimizer = tf.keras.optimizers.SGD(learning_rate=1e-2)"
      ],
      "execution_count": 0,
      "outputs": []
    },
    {
      "cell_type": "code",
      "metadata": {
        "colab_type": "code",
        "id": "cEuzqGgktmut",
        "outputId": "ca684326-fce5-44c5-b4a0-03eae435a782",
        "colab": {
          "base_uri": "https://localhost:8080/",
          "height": 105
        }
      },
      "source": [
        "EPOCHS = 500\n",
        "\n",
        "losses = []\n",
        "\n",
        "linear_layer = LinearLayer()\n",
        "\n",
        "for step in range(EPOCHS):\n",
        "  with tf.GradientTape() as tape:\n",
        "\n",
        "    # Forward pass.\n",
        "    y_pred = linear_layer(x)\n",
        "\n",
        "    # Loss value for this batch.\n",
        "    loss = loss_fn(y_true=tf.squeeze(y_true), y_pred=tf.squeeze(y_pred))\n",
        "    \n",
        "  losses.append(loss)\n",
        "     \n",
        "  # Get gradients of weights wrt the loss.\n",
        "  gradients = tape.gradient(loss, linear_layer.trainable_weights)\n",
        "  \n",
        "  # Update the weights of our linear layer.\n",
        "  optimizer.apply_gradients(zip(gradients, linear_layer.trainable_weights))"
      ],
      "execution_count": 37,
      "outputs": [
        {
          "output_type": "stream",
          "text": [
            "WARNING: Logging before flag parsing goes to stderr.\n",
            "W0806 17:02:11.352343 140514517358464 deprecation.py:323] From /usr/local/lib/python3.6/dist-packages/tensorflow_core/python/keras/optimizer_v2/optimizer_v2.py:468: BaseResourceVariable.constraint (from tensorflow.python.ops.resource_variable_ops) is deprecated and will be removed in a future version.\n",
            "Instructions for updating:\n",
            "Apply a constraint manually following the optimizer update step.\n"
          ],
          "name": "stderr"
        }
      ]
    },
    {
      "cell_type": "code",
      "metadata": {
        "colab_type": "code",
        "id": "cqA4saqR0kbq",
        "outputId": "99cc742c-cb83-4144-a2c8-2ca73d2e4085",
        "colab": {
          "base_uri": "https://localhost:8080/",
          "height": 300
        }
      },
      "source": [
        "plt.yscale('log')\n",
        "plt.ylabel(\"loss\")\n",
        "plt.xlabel(\"epochs\")\n",
        "\n",
        "plt.plot(losses)"
      ],
      "execution_count": 38,
      "outputs": [
        {
          "output_type": "execute_result",
          "data": {
            "text/plain": [
              "[<matplotlib.lines.Line2D at 0x7fcbc95a25c0>]"
            ]
          },
          "metadata": {
            "tags": []
          },
          "execution_count": 38
        },
        {
          "output_type": "display_data",
          "data": {
            "image/png": "[encoded data removed]",
            "text/plain": [
              "<Figure size 432x288 with 1 Axes>"
            ]
          },
          "metadata": {
            "tags": []
          }
        }
      ]
    },
    {
      "cell_type": "code",
      "metadata": {
        "colab_type": "code",
        "id": "uAQ-LCTW2KkH",
        "outputId": "c1344ced-4eed-4b68-e62e-6cbd69bd639e",
        "colab": {
          "base_uri": "https://localhost:8080/",
          "height": 303
        }
      },
      "source": [
        "y_pred = linear_layer(x)\n",
        "plt.plot(x, y_pred)\n",
        "plt.plot(input, output, 'ro')\n",
        "linear_layer.trainable_weights"
      ],
      "execution_count": 39,
      "outputs": [
        {
          "output_type": "execute_result",
          "data": {
            "text/plain": [
              "[<tf.Variable 'weights:0' shape=(1, 1) dtype=float32, numpy=array([[-0.99688804]], dtype=float32)>,\n",
              " <tf.Variable 'biases:0' shape=(1,) dtype=float32, numpy=array([0.9903517], dtype=float32)>]"
            ]
          },
          "metadata": {
            "tags": []
          },
          "execution_count": 39
        },
        {
          "output_type": "display_data",
          "data": {
            "image/png": "[encoded data removed]",
            "text/plain": [
              "<Figure size 432x288 with 1 Axes>"
            ]
          },
          "metadata": {
            "tags": []
          }
        }
      ]
    },
    {
      "cell_type": "markdown",
      "metadata": {
        "colab_type": "text",
        "id": "dWIMUIQZObYK"
      },
      "source": [
        "## More data points, more noisy"
      ]
    },
    {
      "cell_type": "code",
      "metadata": {
        "colab_type": "code",
        "id": "Wq0pg9TvOa0k",
        "outputId": "e8e681ae-ce22-4a38-d1a9-c54f25b97bb1",
        "colab": {
          "base_uri": "https://localhost:8080/",
          "height": 286
        }
      },
      "source": [
        "import numpy as np\n",
        "\n",
        "a = -1\n",
        "b = 1\n",
        "n = 50\n",
        "noise = 0.1\n",
        "\n",
        "\n",
        "x = tf.constant(np.random.uniform(0, 1, n), dtype='float32')\n",
        "y = tf.constant(a*x+b + np.random.normal(0, noise, n), dtype='float32')\n",
        "\n",
        "plt.scatter(x, y)"
      ],
      "execution_count": 40,
      "outputs": [
        {
          "output_type": "execute_result",
          "data": {
            "text/plain": [
              "<matplotlib.collections.PathCollection at 0x7fcbc024ada0>"
            ]
          },
          "metadata": {
            "tags": []
          },
          "execution_count": 40
        },
        {
          "output_type": "display_data",
          "data": {
            "image/png": "[encoded data removed]",
            "text/plain": [
              "<Figure size 432x288 with 1 Axes>"
            ]
          },
          "metadata": {
            "tags": []
          }
        }
      ]
    },
    {
      "cell_type": "code",
      "metadata": {
        "colab_type": "code",
        "id": "HZOMvTFwR0gv",
        "colab": {}
      },
      "source": [
        "x = tf.reshape(x, (n, 1))\n",
        "y_true = tf.reshape(y, (n, 1))"
      ],
      "execution_count": 0,
      "outputs": []
    },
    {
      "cell_type": "code",
      "metadata": {
        "colab_type": "code",
        "id": "wvSwOhsbu3Rm",
        "outputId": "02952374-59a4-4ae0-940f-ef07ae0a3836",
        "colab": {
          "base_uri": "https://localhost:8080/",
          "height": 303
        }
      },
      "source": [
        "linear_layer = LinearLayer()\n",
        "\n",
        "a = linear_layer.w.numpy()[0][0]\n",
        "b = linear_layer.b.numpy()[0]\n",
        "\n",
        "def plot_line(a, b, x, y_true):\n",
        "  fig, ax = plt.subplots()\n",
        "  y_pred = a * x + b\n",
        "  \n",
        "  line = ax.plot(x, y_pred)\n",
        "  ax.plot(x, y_true, 'ro')\n",
        "  return fig, line\n",
        "\n",
        "plot_line(a, b, x, y_true)"
      ],
      "execution_count": 42,
      "outputs": [
        {
          "output_type": "execute_result",
          "data": {
            "text/plain": [
              "(<Figure size 432x288 with 1 Axes>,\n",
              " [<matplotlib.lines.Line2D at 0x7fcbc0226c18>])"
            ]
          },
          "metadata": {
            "tags": []
          },
          "execution_count": 42
        },
        {
          "output_type": "display_data",
          "data": {
            "image/png": "[encoded data removed]",
            "text/plain": [
              "<Figure size 432x288 with 1 Axes>"
            ]
          },
          "metadata": {
            "tags": []
          }
        }
      ]
    },
    {
      "cell_type": "code",
      "metadata": {
        "colab_type": "code",
        "id": "WW7xVyGVQeLU",
        "colab": {}
      },
      "source": [
        "# the problem is a little bit harder, train for a little bit longer\n",
        "EPOCHS = 2000\n",
        "\n",
        "losses = []\n",
        "\n",
        "# stores intermediate versions of our line\n",
        "lines = []\n",
        "\n",
        "linear_layer = LinearLayer()\n",
        "\n",
        "for step in range(EPOCHS):\n",
        "  # Open a GradientTape.\n",
        "  with tf.GradientTape() as tape:\n",
        "\n",
        "    # Forward pass.\n",
        "    y_pred = linear_layer(x)\n",
        "\n",
        "    # Loss value for this batch.\n",
        "    loss = loss_fn(y_true=tf.squeeze(y_true), y_pred=tf.squeeze(y_pred))\n",
        "    \n",
        "  losses.append(loss)\n",
        "  \n",
        "  a = linear_layer.w.numpy()[0][0]\n",
        "  b = linear_layer.b.numpy()[0]\n",
        "  lines.append((a, b))\n",
        "     \n",
        "  # Get gradients of weights wrt the loss.\n",
        "  gradients = tape.gradient(loss, linear_layer.trainable_weights)\n",
        "  \n",
        "  # Update the weights of our linear layer.\n",
        "  optimizer.apply_gradients(zip(gradients, linear_layer.trainable_weights))"
      ],
      "execution_count": 0,
      "outputs": []
    },
    {
      "cell_type": "code",
      "metadata": {
        "colab_type": "code",
        "id": "073RfK8UQrAT",
        "outputId": "2adce43d-63a8-45f7-8ab6-892f13ba5d5c",
        "colab": {
          "base_uri": "https://localhost:8080/",
          "height": 300
        }
      },
      "source": [
        "plt.yscale('log')\n",
        "plt.ylabel(\"loss\")\n",
        "plt.xlabel(\"epochs\")\n",
        "\n",
        "plt.plot(losses)"
      ],
      "execution_count": 44,
      "outputs": [
        {
          "output_type": "execute_result",
          "data": {
            "text/plain": [
              "[<matplotlib.lines.Line2D at 0x7fcbc0480400>]"
            ]
          },
          "metadata": {
            "tags": []
          },
          "execution_count": 44
        },
        {
          "output_type": "display_data",
          "data": {
            "image/png": "[encoded data removed]",
            "text/plain": [
              "<Figure size 432x288 with 1 Axes>"
            ]
          },
          "metadata": {
            "tags": []
          }
        }
      ]
    },
    {
      "cell_type": "markdown",
      "metadata": {
        "colab_type": "text",
        "id": "BJsSFRwCzAfm"
      },
      "source": [
        "### What lines the model draws over time"
      ]
    },
    {
      "cell_type": "markdown",
      "metadata": {
        "colab_type": "text",
        "id": "VHOreJd4VrKm"
      },
      "source": [
        "#### After 0, 500, 100 steps"
      ]
    },
    {
      "cell_type": "code",
      "metadata": {
        "colab_type": "code",
        "id": "s7uTZVaIy2C5",
        "outputId": "ac28733a-2036-4f7a-f99b-0b8be75b9430",
        "colab": {
          "base_uri": "https://localhost:8080/",
          "height": 298
        }
      },
      "source": [
        "a, b = lines[0]\n",
        "\n",
        "plot_line(a, b, x, y_true)\n",
        "plt.title('0')"
      ],
      "execution_count": 45,
      "outputs": [
        {
          "output_type": "execute_result",
          "data": {
            "text/plain": [
              "Text(0.5, 1.0, '0')"
            ]
          },
          "metadata": {
            "tags": []
          },
          "execution_count": 45
        },
        {
          "output_type": "display_data",
          "data": {
            "image/png": "[encoded data removed]",
            "text/plain": [
              "<Figure size 432x288 with 1 Axes>"
            ]
          },
          "metadata": {
            "tags": []
          }
        }
      ]
    },
    {
      "cell_type": "code",
      "metadata": {
        "colab_type": "code",
        "id": "EGuY0tV7zCb4",
        "outputId": "df35fb08-ba7e-4106-fe1f-df4d3a63b30e",
        "colab": {
          "base_uri": "https://localhost:8080/",
          "height": 298
        }
      },
      "source": [
        "a, b = lines[500]\n",
        "\n",
        "plot_line(a, b, x, y_true)\n",
        "plt.title('500')"
      ],
      "execution_count": 46,
      "outputs": [
        {
          "output_type": "execute_result",
          "data": {
            "text/plain": [
              "Text(0.5, 1.0, '500')"
            ]
          },
          "metadata": {
            "tags": []
          },
          "execution_count": 46
        },
        {
          "output_type": "display_data",
          "data": {
            "image/png": "[encoded data removed]",
            "text/plain": [
              "<Figure size 432x288 with 1 Axes>"
            ]
          },
          "metadata": {
            "tags": []
          }
        }
      ]
    },
    {
      "cell_type": "code",
      "metadata": {
        "id": "kIH0UloUu8dM",
        "colab_type": "code",
        "outputId": "3d1f03b0-e998-4875-d909-c6177e5a9158",
        "colab": {
          "base_uri": "https://localhost:8080/",
          "height": 298
        }
      },
      "source": [
        "a, b = lines[1000]\n",
        "\n",
        "plot_line(a, b, x, y_true)\n",
        "plt.title('1000')"
      ],
      "execution_count": 47,
      "outputs": [
        {
          "output_type": "execute_result",
          "data": {
            "text/plain": [
              "Text(0.5, 1.0, '1000')"
            ]
          },
          "metadata": {
            "tags": []
          },
          "execution_count": 47
        },
        {
          "output_type": "display_data",
          "data": {
            "image/png": "[encoded data removed]",
            "text/plain": [
              "<Figure size 432x288 with 1 Axes>"
            ]
          },
          "metadata": {
            "tags": []
          }
        }
      ]
    },
    {
      "cell_type": "code",
      "metadata": {
        "colab_type": "code",
        "id": "1Ps9g06MzHtY",
        "outputId": "9c6dac32-e030-48a4-bb44-ffebaec76511",
        "colab": {
          "base_uri": "https://localhost:8080/",
          "height": 298
        }
      },
      "source": [
        "a, b = lines[1999]\n",
        "\n",
        "plot_line(a, b, x, y_true)\n",
        "plt.title('2000, Final')"
      ],
      "execution_count": 48,
      "outputs": [
        {
          "output_type": "execute_result",
          "data": {
            "text/plain": [
              "Text(0.5, 1.0, '2000, Final')"
            ]
          },
          "metadata": {
            "tags": []
          },
          "execution_count": 48
        },
        {
          "output_type": "display_data",
          "data": {
            "image/png": "[encoded data removed]",
            "text/plain": [
              "<Figure size 432x288 with 1 Axes>"
            ]
          },
          "metadata": {
            "tags": []
          }
        }
      ]
    },
    {
      "cell_type": "markdown",
      "metadata": {
        "id": "SN4OLJNNyHRk",
        "colab_type": "text"
      },
      "source": [
        "# Exercise: Re-Run experiment with more noise\n",
        "\n",
        "* run the cells above and train our model\n",
        "* change the noise of the line and make it less line like\n",
        "* can you still get good training results?\n",
        "* how would you know? how is the loss changing?"
      ]
    },
    {
      "cell_type": "markdown",
      "metadata": {
        "colab_type": "text",
        "id": "axg318pV9GJ3"
      },
      "source": [
        "## Understandinging the effect of activation functions\n",
        "\n",
        "Typically, the output of a neuron is transformed using an activation function which compresses the output to a value between 0 and 1 (sigmoid), or between -1 and 1 (tanh) or sets all negative values to zero (relu).\n",
        "\n",
        "<img src='https://raw.githubusercontent.com/DJCordhose/deep-learning-crash-course-notebooks/master/img/neuron.jpg'>\n",
        "\n",
        "### Typical Activation Functions\n",
        "\n",
        "<img src='https://djcordhose.github.io/ai/img/activation-functions.jpg'>\n"
      ]
    },
    {
      "cell_type": "code",
      "metadata": {
        "colab_type": "code",
        "id": "qTjQQECGVLAm",
        "outputId": "21b8256d-ff82-4bac-b376-62b05fe0a852",
        "colab": {
          "base_uri": "https://localhost:8080/",
          "height": 612
        }
      },
      "source": [
        "x = tf.reshape(tf.constant(tf.range(-1, 4, 0.1)), (50, 1))\n",
        "y_pred = linear_layer(x)\n",
        "\n",
        "plt.figure(figsize=(20, 10))\n",
        "\n",
        "plt.plot(x, y_pred, linewidth=4)\n",
        "\n",
        "y_pred_relu = tf.nn.relu(y_pred)\n",
        "plt.plot(x, y_pred_relu)\n",
        "\n",
        "y_pred_sigmoid = tf.nn.sigmoid(y_pred)\n",
        "plt.plot(x, y_pred_sigmoid)\n",
        "\n",
        "y_pred_tanh = tf.nn.tanh(y_pred)\n",
        "plt.plot(x, y_pred_tanh)\n",
        "\n",
        "plt.plot(input, output, 'ro')\n",
        "\n",
        "plt.legend(['no activation', 'relu', 'sigmoid', 'tanh'])"
      ],
      "execution_count": 49,
      "outputs": [
        {
          "output_type": "execute_result",
          "data": {
            "text/plain": [
              "<matplotlib.legend.Legend at 0x7fcb78205860>"
            ]
          },
          "metadata": {
            "tags": []
          },
          "execution_count": 49
        },
        {
          "output_type": "display_data",
          "data": {
            "image/png": "[encoded data removed]",
            "text/plain": [
              "<Figure size 1440x720 with 1 Axes>"
            ]
          },
          "metadata": {
            "tags": []
          }
        }
      ]
    },
    {
      "cell_type": "markdown",
      "metadata": {
        "colab_type": "text",
        "id": "6CUXuf_xWghl"
      },
      "source": [
        "## Logictic Regression\n",
        "\n",
        "So far we were inferring a continous value for another, now we want to classify. Imagine we have a line that separates two categories in two dimensions."
      ]
    },
    {
      "cell_type": "code",
      "metadata": {
        "colab_type": "code",
        "id": "y0z1ymltS_a7",
        "outputId": "0ec426cc-0d7f-4e79-c2a3-5088c87a98e1",
        "colab": {
          "base_uri": "https://localhost:8080/",
          "height": 368
        }
      },
      "source": [
        "from matplotlib.colors import ListedColormap\n",
        "\n",
        "a = -1\n",
        "b = 1\n",
        "n = 100\n",
        "\n",
        "# all points\n",
        "X = np.random.uniform(0, 1, (n, 2))\n",
        "\n",
        "# our line\n",
        "line_x = np.random.uniform(0, 1, n)\n",
        "line_y = a*line_x+b\n",
        "plt.plot(line_x, line_y, 'r')\n",
        "\n",
        "# below and above line\n",
        "noise_level = 0.3\n",
        "noise = noise_level * np.random.normal(0, 1, n)\n",
        "y = X[:, 1] > a*X[:, 0]+b + noise\n",
        "y = y.astype(int)\n",
        "\n",
        "plt.xlabel(\"x1\")\n",
        "plt.ylabel(\"x2\")\n",
        "\n",
        "plt.scatter(X[:,0], X[:,1], c=y, cmap=ListedColormap(['#FF6666', '#6666FF']), marker='o', edgecolors='k')\n",
        "y"
      ],
      "execution_count": 50,
      "outputs": [
        {
          "output_type": "execute_result",
          "data": {
            "text/plain": [
              "array([1, 1, 1, 0, 1, 0, 0, 1, 0, 1, 0, 0, 1, 1, 1, 0, 1, 1, 0, 1, 1, 1,\n",
              "       1, 1, 1, 0, 0, 1, 1, 1, 1, 1, 1, 0, 1, 1, 0, 1, 0, 1, 1, 1, 0, 1,\n",
              "       1, 1, 0, 0, 1, 1, 0, 1, 0, 0, 0, 0, 1, 0, 1, 1, 1, 0, 0, 0, 1, 0,\n",
              "       1, 0, 1, 0, 0, 1, 0, 0, 1, 1, 1, 0, 1, 1, 0, 0, 0, 0, 1, 1, 1, 1,\n",
              "       0, 1, 1, 0, 0, 1, 0, 1, 1, 1, 1, 0])"
            ]
          },
          "metadata": {
            "tags": []
          },
          "execution_count": 50
        },
        {
          "output_type": "display_data",
          "data": {
            "image/png": "[encoded data removed]",
            "text/plain": [
              "<Figure size 432x288 with 1 Axes>"
            ]
          },
          "metadata": {
            "tags": []
          }
        }
      ]
    },
    {
      "cell_type": "markdown",
      "metadata": {
        "colab_type": "text",
        "id": "BEDW2lpFXRmn"
      },
      "source": [
        "### We compress output between 0 and 1 using sigmoid to match y\n",
        "* everything below 0.5 counts as 0, everthing above as 1"
      ]
    },
    {
      "cell_type": "code",
      "metadata": {
        "colab_type": "code",
        "id": "tHaML5z9SI6o",
        "colab": {}
      },
      "source": [
        "# sharing initialization from linear layer, but applying sigmoid when called \n",
        "class SigmoidLayer(LinearLayer):\n",
        "  \"\"\"y = sigmoid(w.x + b)\"\"\"\n",
        "\n",
        "  def __init__(self, **kwargs):\n",
        "      super(SigmoidLayer, self).__init__(**kwargs)\n",
        "\n",
        "  def call(self, inputs):\n",
        "      return tf.sigmoid(super().call(inputs))\n"
      ],
      "execution_count": 0,
      "outputs": []
    },
    {
      "cell_type": "markdown",
      "metadata": {
        "colab_type": "text",
        "id": "gZBtAidEYTNO"
      },
      "source": [
        "### We have 2d input now"
      ]
    },
    {
      "cell_type": "code",
      "metadata": {
        "colab_type": "code",
        "id": "a9IjwBVlvnCk",
        "outputId": "def4fd11-f549-4083-b53a-e3b43631bd64",
        "colab": {
          "base_uri": "https://localhost:8080/",
          "height": 34
        }
      },
      "source": [
        "x = tf.constant(X, dtype='float32')\n",
        "y_true = tf.constant(y, dtype='float32')\n",
        "x.shape"
      ],
      "execution_count": 52,
      "outputs": [
        {
          "output_type": "execute_result",
          "data": {
            "text/plain": [
              "TensorShape([100, 2])"
            ]
          },
          "metadata": {
            "tags": []
          },
          "execution_count": 52
        }
      ]
    },
    {
      "cell_type": "code",
      "metadata": {
        "colab_type": "code",
        "id": "ycMPuy0ed3Nx",
        "colab": {}
      },
      "source": [
        "model = SigmoidLayer(input_dim=2)"
      ],
      "execution_count": 0,
      "outputs": []
    },
    {
      "cell_type": "markdown",
      "metadata": {
        "colab_type": "text",
        "id": "WLfqyTcecuoo"
      },
      "source": [
        "### Reconsidering the loss function\n",
        "\n",
        "_cross entropy is an alternative to squared error_ \n",
        "\n",
        "* cross entropy can be used as an error measure when a network's outputs can be thought of as representing independent hypotheses\n",
        "* activations can be understood as representing the probability that each hypothesis might be true\n",
        "* the loss indicates the distance between what the network believes this distribution should be, and what the teacher says it should be \n",
        "\n",
        "http://www.cse.unsw.edu.au/~billw/cs9444/crossentropy.html"
      ]
    },
    {
      "cell_type": "code",
      "metadata": {
        "colab_type": "code",
        "id": "tLFVcOeRd50X",
        "colab": {}
      },
      "source": [
        "loss_fn = tf.losses.binary_crossentropy"
      ],
      "execution_count": 0,
      "outputs": []
    },
    {
      "cell_type": "code",
      "metadata": {
        "colab_type": "code",
        "id": "nLK7C1L9d8Jk",
        "colab": {}
      },
      "source": [
        "# standard optimizer using advanced properties\n",
        "optimizer = tf.keras.optimizers.Adam(learning_rate=1e-1)"
      ],
      "execution_count": 0,
      "outputs": []
    },
    {
      "cell_type": "code",
      "metadata": {
        "colab_type": "code",
        "id": "TVhpXvlld_IG",
        "colab": {}
      },
      "source": [
        "# basic metric for classification: share of correctly predicted samples\n",
        "# https://www.tensorflow.org/versions/r2.0/api_docs/python/tf/metrics/Accuracy\n",
        "m = tf.keras.metrics.Accuracy()"
      ],
      "execution_count": 0,
      "outputs": []
    },
    {
      "cell_type": "code",
      "metadata": {
        "colab_type": "code",
        "id": "7uF1V08yqXi-",
        "outputId": "9f8ed67f-7a12-40cb-8b35-46d4a734cd4d",
        "colab": {
          "base_uri": "https://localhost:8080/",
          "height": 88
        }
      },
      "source": [
        "EPOCHS = 1000\n",
        "\n",
        "losses = []\n",
        "accuracies = []\n",
        "\n",
        "for step in range(EPOCHS):\n",
        "  # Open a GradientTape.\n",
        "  with tf.GradientTape() as tape:\n",
        "\n",
        "    # Forward pass.\n",
        "    y_pred = model(x)\n",
        "\n",
        "    # Loss value for this batch.\n",
        "    loss = loss_fn(y_true=tf.squeeze(y_true), y_pred=tf.squeeze(y_pred))\n",
        "\n",
        "  y_pred_binary = (tf.squeeze(y_pred) > 0.5).numpy().astype(float)\n",
        "  m.update_state(tf.squeeze(y_true), y_pred_binary)\n",
        "  accuracy = m.result()\n",
        "\n",
        "  losses.append(loss)\n",
        "  accuracies.append(accuracy)\n",
        "     \n",
        "  # Get gradients of weights wrt the loss.\n",
        "  gradients = tape.gradient(loss, model.trainable_weights)\n",
        "  \n",
        "  # Update the weights of our linear layer.\n",
        "  optimizer.apply_gradients(zip(gradients, model.trainable_weights))"
      ],
      "execution_count": 57,
      "outputs": [
        {
          "output_type": "stream",
          "text": [
            "W0806 17:02:23.279634 140514517358464 deprecation.py:323] From /usr/local/lib/python3.6/dist-packages/tensorflow_core/python/ops/math_grad.py:1393: where (from tensorflow.python.ops.array_ops) is deprecated and will be removed in a future version.\n",
            "Instructions for updating:\n",
            "Use tf.where in 2.0, which has the same broadcast rule as np.where\n"
          ],
          "name": "stderr"
        }
      ]
    },
    {
      "cell_type": "code",
      "metadata": {
        "colab_type": "code",
        "id": "-asNXUGQ0HTx",
        "outputId": "d167e4ea-d715-4f9f-fad3-57319682268b",
        "colab": {
          "base_uri": "https://localhost:8080/",
          "height": 34
        }
      },
      "source": [
        "print(loss)"
      ],
      "execution_count": 58,
      "outputs": [
        {
          "output_type": "stream",
          "text": [
            "tf.Tensor(0.35101113, shape=(), dtype=float32)\n"
          ],
          "name": "stdout"
        }
      ]
    },
    {
      "cell_type": "code",
      "metadata": {
        "colab_type": "code",
        "id": "-HMbyRAR3qkw",
        "outputId": "fdaa8395-2718-4ac3-9970-4f57debb457a",
        "colab": {
          "base_uri": "https://localhost:8080/",
          "height": 34
        }
      },
      "source": [
        "print(accuracy)"
      ],
      "execution_count": 59,
      "outputs": [
        {
          "output_type": "stream",
          "text": [
            "tf.Tensor(0.82298, shape=(), dtype=float32)\n"
          ],
          "name": "stdout"
        }
      ]
    },
    {
      "cell_type": "code",
      "metadata": {
        "colab_type": "code",
        "id": "uxM3-mu_xF5L",
        "outputId": "e2299177-e754-4ddf-8e7c-cbf01b5d6e9b",
        "colab": {
          "base_uri": "https://localhost:8080/",
          "height": 300
        }
      },
      "source": [
        "plt.yscale('log')\n",
        "plt.ylabel(\"loss\")\n",
        "plt.xlabel(\"epochs\")\n",
        "\n",
        "plt.plot(losses)"
      ],
      "execution_count": 60,
      "outputs": [
        {
          "output_type": "execute_result",
          "data": {
            "text/plain": [
              "[<matplotlib.lines.Line2D at 0x7fcb78132c88>]"
            ]
          },
          "metadata": {
            "tags": []
          },
          "execution_count": 60
        },
        {
          "output_type": "display_data",
          "data": {
            "image/png": "[encoded data removed]",
            "text/plain": [
              "<Figure size 432x288 with 1 Axes>"
            ]
          },
          "metadata": {
            "tags": []
          }
        }
      ]
    },
    {
      "cell_type": "code",
      "metadata": {
        "colab_type": "code",
        "id": "d7sGM5vW4Dcf",
        "outputId": "272d763a-8f0b-4337-9d2b-4ead842a48fd",
        "colab": {
          "base_uri": "https://localhost:8080/",
          "height": 300
        }
      },
      "source": [
        "plt.ylabel(\"accuracy\")\n",
        "plt.xlabel(\"epochs\")\n",
        "\n",
        "plt.plot(accuracies)"
      ],
      "execution_count": 61,
      "outputs": [
        {
          "output_type": "execute_result",
          "data": {
            "text/plain": [
              "[<matplotlib.lines.Line2D at 0x7fcbc02c81d0>]"
            ]
          },
          "metadata": {
            "tags": []
          },
          "execution_count": 61
        },
        {
          "output_type": "display_data",
          "data": {
            "image/png": "[encoded data removed]",
            "text/plain": [
              "<Figure size 432x288 with 1 Axes>"
            ]
          },
          "metadata": {
            "tags": []
          }
        }
      ]
    },
    {
      "cell_type": "code",
      "metadata": {
        "id": "l3wW3tZkzJOS",
        "colab_type": "code",
        "outputId": "cde32e68-3a45-474f-9867-6a11f13ea1cd",
        "colab": {
          "base_uri": "https://localhost:8080/",
          "height": 391
        }
      },
      "source": [
        "# tf.squeeze removes addional 1-dim dimensions\n",
        "y_pred = tf.squeeze(model(x))\n",
        "y_pred"
      ],
      "execution_count": 62,
      "outputs": [
        {
          "output_type": "execute_result",
          "data": {
            "text/plain": [
              "<tf.Tensor: id=239719, shape=(100,), dtype=float32, numpy=\n",
              "array([0.50125134, 0.99216783, 0.9949305 , 0.42983705, 0.8597556 ,\n",
              "       0.81695974, 0.02506414, 0.92211676, 0.12665042, 0.9401988 ,\n",
              "       0.7493815 , 0.1279509 , 0.96820366, 0.54164606, 0.7931065 ,\n",
              "       0.02806255, 0.29048288, 0.9608706 , 0.08125117, 0.6425848 ,\n",
              "       0.96739554, 0.8765391 , 0.7674562 , 0.8753302 , 0.78084034,\n",
              "       0.35928434, 0.1300937 , 0.9940627 , 0.9609091 , 0.06234008,\n",
              "       0.704714  , 0.6912421 , 0.9018252 , 0.58185863, 0.8878655 ,\n",
              "       0.8431506 , 0.78296936, 0.98830247, 0.02277151, 0.16250324,\n",
              "       0.92564774, 0.9606723 , 0.05756718, 0.99249196, 0.99824274,\n",
              "       0.981583  , 0.20112059, 0.01291811, 0.88320196, 0.47253835,\n",
              "       0.17211527, 0.8724636 , 0.02673474, 0.31441543, 0.80321246,\n",
              "       0.02655569, 0.99910367, 0.63960814, 0.82477164, 0.86561584,\n",
              "       0.2927192 , 0.39269546, 0.00388545, 0.42931476, 0.63077044,\n",
              "       0.72460115, 0.9932438 , 0.00415349, 0.994734  , 0.17848015,\n",
              "       0.56217074, 0.9978839 , 0.00311905, 0.41533878, 0.9393544 ,\n",
              "       0.91255563, 0.7796756 , 0.57955253, 0.27686656, 0.1998781 ,\n",
              "       0.36364976, 0.12980843, 0.1618979 , 0.1155279 , 0.8284694 ,\n",
              "       0.99185425, 0.72708946, 0.7259505 , 0.08011916, 0.97809637,\n",
              "       0.9737965 , 0.01378071, 0.02157292, 0.99323726, 0.57799333,\n",
              "       0.952453  , 0.89081097, 0.96920604, 0.97946835, 0.04973888],\n",
              "      dtype=float32)>"
            ]
          },
          "metadata": {
            "tags": []
          },
          "execution_count": 62
        }
      ]
    },
    {
      "cell_type": "markdown",
      "metadata": {
        "id": "X3GUBAV3CtE7",
        "colab_type": "text"
      },
      "source": [
        "## We are drawing a sigmoid in 3d and turn it into a step\n",
        "\n",
        "<img src='https://github.com/DJCordhose/ml-workshop/blob/master/notebooks/tf2/img/logistic.jpg?raw=1'>"
      ]
    },
    {
      "cell_type": "code",
      "metadata": {
        "colab_type": "code",
        "id": "3aYL-GyJY_37",
        "outputId": "b2b9bfd5-152c-4e69-8e30-21474c453304",
        "colab": {
          "base_uri": "https://localhost:8080/",
          "height": 119
        }
      },
      "source": [
        "# everything below 0.5 counts as 0, everthing above as 1\n",
        "# effectively turning this into a step\n",
        "y_pred_binary = (y_pred > 0.5).numpy().astype(float)\n",
        "y_pred_binary"
      ],
      "execution_count": 63,
      "outputs": [
        {
          "output_type": "execute_result",
          "data": {
            "text/plain": [
              "array([1., 1., 1., 0., 1., 1., 0., 1., 0., 1., 1., 0., 1., 1., 1., 0., 0.,\n",
              "       1., 0., 1., 1., 1., 1., 1., 1., 0., 0., 1., 1., 0., 1., 1., 1., 1.,\n",
              "       1., 1., 1., 1., 0., 0., 1., 1., 0., 1., 1., 1., 0., 0., 1., 0., 0.,\n",
              "       1., 0., 0., 1., 0., 1., 1., 1., 1., 0., 0., 0., 0., 1., 1., 1., 0.,\n",
              "       1., 0., 1., 1., 0., 0., 1., 1., 1., 1., 0., 0., 0., 0., 0., 0., 1.,\n",
              "       1., 1., 1., 0., 1., 1., 0., 0., 1., 1., 1., 1., 1., 1., 0.])"
            ]
          },
          "metadata": {
            "tags": []
          },
          "execution_count": 63
        }
      ]
    },
    {
      "cell_type": "code",
      "metadata": {
        "colab_type": "code",
        "id": "5O9WZSTuZBW3",
        "outputId": "52485586-1359-42b3-8628-5869b96f5d52",
        "colab": {
          "base_uri": "https://localhost:8080/",
          "height": 170
        }
      },
      "source": [
        "misclassified = y_true - y_pred_binary\n",
        "misclassified"
      ],
      "execution_count": 64,
      "outputs": [
        {
          "output_type": "execute_result",
          "data": {
            "text/plain": [
              "<tf.Tensor: id=239723, shape=(100,), dtype=float32, numpy=\n",
              "array([ 0.,  0.,  0.,  0.,  0., -1.,  0.,  0.,  0.,  0., -1.,  0.,  0.,\n",
              "        0.,  0.,  0.,  1.,  0.,  0.,  0.,  0.,  0.,  0.,  0.,  0.,  0.,\n",
              "        0.,  0.,  0.,  1.,  0.,  0.,  0., -1.,  0.,  0., -1.,  0.,  0.,\n",
              "        1.,  0.,  0.,  0.,  0.,  0.,  0.,  0.,  0.,  0.,  1.,  0.,  0.,\n",
              "        0.,  0., -1.,  0.,  0., -1.,  0.,  0.,  1.,  0.,  0.,  0.,  0.,\n",
              "       -1.,  0.,  0.,  0.,  0., -1.,  0.,  0.,  0.,  0.,  0.,  0., -1.,\n",
              "        1.,  1.,  0.,  0.,  0.,  0.,  0.,  0.,  0.,  0.,  0.,  0.,  0.,\n",
              "        0.,  0.,  0., -1.,  0.,  0.,  0.,  0.,  0.], dtype=float32)>"
            ]
          },
          "metadata": {
            "tags": []
          },
          "execution_count": 64
        }
      ]
    },
    {
      "cell_type": "code",
      "metadata": {
        "colab_type": "code",
        "id": "IiIut--IYxWz",
        "outputId": "e60ed916-568d-443c-df39-24551601b5a5",
        "colab": {
          "base_uri": "https://localhost:8080/",
          "height": 300
        }
      },
      "source": [
        "# strong colors are misclassified\n",
        "\n",
        "plt.xlabel(\"x1\")\n",
        "plt.ylabel(\"x2\")\n",
        "\n",
        "plt.scatter(X[:,0], X[:,1], c=misclassified, cmap=ListedColormap(['#FF0000', '#FFFFFF', '#0000FF']), marker='o')\n",
        "plt.scatter(X[:,0], X[:,1], c=y_pred_binary, cmap=ListedColormap(['#FF6666', '#6666FF']), marker='o', edgecolors='k', alpha=0.5)\n"
      ],
      "execution_count": 65,
      "outputs": [
        {
          "output_type": "execute_result",
          "data": {
            "text/plain": [
              "<matplotlib.collections.PathCollection at 0x7fcbc0371668>"
            ]
          },
          "metadata": {
            "tags": []
          },
          "execution_count": 65
        },
        {
          "output_type": "display_data",
          "data": {
            "image/png": "[encoded data removed]",
            "text/plain": [
              "<Figure size 432x288 with 1 Axes>"
            ]
          },
          "metadata": {
            "tags": []
          }
        }
      ]
    },
    {
      "cell_type": "code",
      "metadata": {
        "id": "QDVNVNQH05hS",
        "colab_type": "code",
        "colab": {}
      },
      "source": [
        "# for interactive 3d on local jupyer notebook\n",
        "\n",
        "# %matplotlib notebook"
      ],
      "execution_count": 0,
      "outputs": []
    },
    {
      "cell_type": "code",
      "metadata": {
        "id": "yZddH6Ed0S_e",
        "colab_type": "code",
        "outputId": "e9f1a9ee-0f77-497b-ffca-af7447bc19bf",
        "colab": {
          "base_uri": "https://localhost:8080/",
          "height": 466
        }
      },
      "source": [
        "from mpl_toolkits.mplot3d import Axes3D\n",
        "\n",
        "fig = plt.figure(figsize=(8, 8))\n",
        "\n",
        "ax = fig.add_subplot(111, projection='3d')\n",
        "\n",
        "# we can have the probability encoded in shade of color\n",
        "# ax.scatter(X[:, 0], X[:, 1], y_pred, c=y_pred_binary, \n",
        "ax.scatter(X[:, 0], X[:, 1], y_pred, c=y_pred, \n",
        "#            https://matplotlib.org/3.1.0/gallery/color/colormap_reference.html\n",
        "           cmap=plt.cm.bwr,\n",
        "           depthshade=False,\n",
        "           marker='o', edgecolors='k')\n",
        "\n",
        "# https://en.wikipedia.org/wiki/Azimuth\n",
        "ax.view_init(elev=10, azim=-40)"
      ],
      "execution_count": 67,
      "outputs": [
        {
          "output_type": "display_data",
          "data": {
            "image/png": "[encoded data removed]",
            "text/plain": [
              "<Figure size 576x576 with 1 Axes>"
            ]
          },
          "metadata": {
            "tags": []
          }
        }
      ]
    },
    {
      "cell_type": "code",
      "metadata": {
        "id": "_GxYPAAk2Ax8",
        "colab_type": "code",
        "outputId": "619764d3-6028-4f76-a80c-2acb4d7531cc",
        "colab": {
          "base_uri": "https://localhost:8080/",
          "height": 466
        }
      },
      "source": [
        "fig = plt.figure(figsize=(8, 8))\n",
        "\n",
        "ax = fig.add_subplot(111, projection='3d')\n",
        "ax.scatter(X[:, 0], X[:, 1], y_pred_binary, c=y_pred, \n",
        "           cmap=plt.cm.bwr,\n",
        "           depthshade=False,\n",
        "           marker='o', edgecolors='k')\n",
        "\n",
        "ax.view_init(elev=10, azim=-40)"
      ],
      "execution_count": 68,
      "outputs": [
        {
          "output_type": "display_data",
          "data": {
            "image/png": "[encoded data removed]",
            "text/plain": [
              "<Figure size 576x576 with 1 Axes>"
            ]
          },
          "metadata": {
            "tags": []
          }
        }
      ]
    },
    {
      "cell_type": "markdown",
      "metadata": {
        "id": "XwVRBpM42ry9",
        "colab_type": "text"
      },
      "source": [
        "# Exercise: run this classification experiment with a bit more noise\n",
        "\n",
        "* generated your own dataset using a bit more noise\n",
        "* train the model and generate all the plots\n",
        "* does all this make sense to you?"
      ]
    },
    {
      "cell_type": "markdown",
      "metadata": {
        "colab_type": "text",
        "id": "jZzGU633WNvt"
      },
      "source": [
        "## The same solution using high level Keas API"
      ]
    },
    {
      "cell_type": "code",
      "metadata": {
        "colab_type": "code",
        "id": "STfOU_LmVAnj",
        "outputId": "faf044ae-7442-4d4e-eeb4-47728ce8b91b",
        "colab": {
          "base_uri": "https://localhost:8080/",
          "height": 187
        }
      },
      "source": [
        "from tensorflow.keras.layers import Dense\n",
        " \n",
        "model = tf.keras.Sequential()\n",
        "\n",
        "model.add(Dense(units=1, activation='sigmoid', input_dim=2))\n",
        "\n",
        "model.summary()"
      ],
      "execution_count": 69,
      "outputs": [
        {
          "output_type": "stream",
          "text": [
            "Model: \"sequential\"\n",
            "_________________________________________________________________\n",
            "Layer (type)                 Output Shape              Param #   \n",
            "=================================================================\n",
            "dense (Dense)                (None, 1)                 3         \n",
            "=================================================================\n",
            "Total params: 3\n",
            "Trainable params: 3\n",
            "Non-trainable params: 0\n",
            "_________________________________________________________________\n"
          ],
          "name": "stdout"
        }
      ]
    },
    {
      "cell_type": "code",
      "metadata": {
        "colab_type": "code",
        "id": "_Vffpso6WpgK",
        "outputId": "0f78240c-828f-4d22-cdc1-f7d0d2ae1dc9",
        "colab": {
          "base_uri": "https://localhost:8080/",
          "height": 51
        }
      },
      "source": [
        "%%time \n",
        "\n",
        "model.compile(loss=loss_fn, # binary cross entropy, unchanged from low level example\n",
        "             optimizer=optimizer, # adam, unchanged from low level example\n",
        "             metrics=['accuracy'])\n",
        "\n",
        "# does a similar thing internally as our loop from above\n",
        "history = model.fit(x, y_true, epochs=EPOCHS, verbose=0)"
      ],
      "execution_count": 70,
      "outputs": [
        {
          "output_type": "stream",
          "text": [
            "CPU times: user 14.3 s, sys: 1.31 s, total: 15.6 s\n",
            "Wall time: 11.6 s\n"
          ],
          "name": "stdout"
        }
      ]
    },
    {
      "cell_type": "code",
      "metadata": {
        "colab_type": "code",
        "id": "NfKDwhCiWkRI",
        "outputId": "c2b66c6c-299f-4e2e-cf6a-471060b30a94",
        "colab": {
          "base_uri": "https://localhost:8080/",
          "height": 71
        }
      },
      "source": [
        "loss, accuracy = model.evaluate(x, y_true)\n",
        "loss, accuracy"
      ],
      "execution_count": 71,
      "outputs": [
        {
          "output_type": "stream",
          "text": [
            "\r100/1 [========================================================================================================================================================================================================================================================================================================================================================================================================================================================================================================================================================================================================================================================================================================================================================================================================================================================================================================================================================================================================================================================================================================================================================================================================================================================================================================================================================================================================================================================================================================================================================================================================================================================================================================================================================================================================================================================================================================================================================================================================================================================================================================================================================================================================================================================================================================================================================================================================================================================================================================================================================================================================================================================================================================================================================================================================================================================================================================================================================================================================================================================================================================================] - 0s 679us/sample - loss: 0.2169 - accuracy: 0.8400\n"
          ],
          "name": "stdout"
        },
        {
          "output_type": "execute_result",
          "data": {
            "text/plain": [
              "(0.35946536421775815, 0.84)"
            ]
          },
          "metadata": {
            "tags": []
          },
          "execution_count": 71
        }
      ]
    },
    {
      "cell_type": "code",
      "metadata": {
        "colab_type": "code",
        "id": "N2U7B9ZEaKAz",
        "outputId": "fdc97ca3-041c-4b02-b82f-d783fbeb732a",
        "colab": {
          "base_uri": "https://localhost:8080/",
          "height": 300
        }
      },
      "source": [
        "plt.yscale('log')\n",
        "plt.ylabel(\"accuracy\")\n",
        "plt.xlabel(\"epochs\")\n",
        "\n",
        "plt.plot(history.history['accuracy'])"
      ],
      "execution_count": 72,
      "outputs": [
        {
          "output_type": "execute_result",
          "data": {
            "text/plain": [
              "[<matplotlib.lines.Line2D at 0x7fcb6a1ea8d0>]"
            ]
          },
          "metadata": {
            "tags": []
          },
          "execution_count": 72
        },
        {
          "output_type": "display_data",
          "data": {
            "image/png": "[encoded data removed]",
            "text/plain": [
              "<Figure size 432x288 with 1 Axes>"
            ]
          },
          "metadata": {
            "tags": []
          }
        }
      ]
    },
    {
      "cell_type": "code",
      "metadata": {
        "colab_type": "code",
        "id": "O61MfB85aMT6",
        "outputId": "a5ec3501-9e1b-4f38-da85-ac3966bfcf5a",
        "colab": {
          "base_uri": "https://localhost:8080/",
          "height": 300
        }
      },
      "source": [
        "plt.yscale('log')\n",
        "plt.ylabel(\"loss\")\n",
        "plt.xlabel(\"epochs\")\n",
        "\n",
        "plt.plot(history.history['loss'])"
      ],
      "execution_count": 73,
      "outputs": [
        {
          "output_type": "execute_result",
          "data": {
            "text/plain": [
              "[<matplotlib.lines.Line2D at 0x7fcb6a12a630>]"
            ]
          },
          "metadata": {
            "tags": []
          },
          "execution_count": 73
        },
        {
          "output_type": "display_data",
          "data": {
            "image/png": "[encoded data removed]",
            "text/plain": [
              "<Figure size 432x288 with 1 Axes>"
            ]
          },
          "metadata": {
            "tags": []
          }
        }
      ]
    },
    {
      "cell_type": "code",
      "metadata": {
        "colab_type": "code",
        "id": "qh8dTuD0a0C3",
        "outputId": "000657fb-1db7-4ec0-e47c-f06030c36eb5",
        "colab": {
          "base_uri": "https://localhost:8080/",
          "height": 119
        }
      },
      "source": [
        "y_pred = model.predict(x)\n",
        "y_pred_binary = (tf.squeeze(y_pred) > 0.5).numpy().astype(float)\n",
        "y_pred_binary"
      ],
      "execution_count": 74,
      "outputs": [
        {
          "output_type": "execute_result",
          "data": {
            "text/plain": [
              "array([0., 1., 1., 0., 1., 1., 0., 1., 0., 1., 1., 0., 1., 0., 1., 0., 0.,\n",
              "       1., 0., 1., 1., 1., 1., 1., 1., 0., 0., 1., 1., 0., 1., 1., 1., 0.,\n",
              "       1., 1., 1., 1., 0., 0., 1., 1., 0., 1., 1., 1., 0., 0., 1., 0., 0.,\n",
              "       1., 0., 0., 1., 0., 1., 1., 1., 1., 0., 0., 0., 0., 1., 1., 1., 0.,\n",
              "       1., 0., 0., 1., 0., 0., 1., 1., 1., 1., 0., 0., 0., 0., 0., 0., 1.,\n",
              "       1., 1., 1., 0., 1., 1., 0., 0., 1., 0., 1., 1., 1., 1., 0.])"
            ]
          },
          "metadata": {
            "tags": []
          },
          "execution_count": 74
        }
      ]
    },
    {
      "cell_type": "markdown",
      "metadata": {
        "colab_type": "text",
        "id": "HlPMzDleu4aM"
      },
      "source": [
        "## From single neuron to network in the TensorFlow Playground\n",
        "\n",
        "<img src='https://djcordhose.github.io/ai/img/tf-plaground.png'>\n",
        "\n",
        "https://playground.tensorflow.org/#activation=linear&batchSize=10&dataset=circle&regDataset=reg-plane&learningRate=0.01&regularizationRate=0&noise=0&networkShape=1&seed=0.98437&showTestData=false&discretize=false&percTrainData=50&x=true&y=true&xTimesY=false&xSquared=false&ySquared=false&cosX=false&sinX=false&cosY=false&sinY=false&collectStats=false&problem=classification&initZero=false&hideText=false"
      ]
    }
  ]
}