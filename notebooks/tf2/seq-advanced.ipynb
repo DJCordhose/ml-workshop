{
  "nbformat": 4,
  "nbformat_minor": 0,
  "metadata": {
    "colab": {
      "name": "seq-advanced.ipynb",
      "provenance": [],
      "collapsed_sections": [],
      "toc_visible": true,
      "include_colab_link": true
    },
    "kernelspec": {
      "name": "python3",
      "display_name": "Python 3"
    }
  },
  "cells": [
    {
      "cell_type": "markdown",
      "metadata": {
        "id": "view-in-github",
        "colab_type": "text"
      },
      "source": [
        "<a href=\"https://colab.research.google.com/github/DJCordhose/ml-workshop/blob/master/notebooks/tf2/seq-advanced.ipynb\" target=\"_parent\"><img src=\"https://colab.research.google.com/assets/colab-badge.svg\" alt=\"Open In Colab\"/></a>"
      ]
    },
    {
      "cell_type": "markdown",
      "metadata": {
        "id": "t0SNZ3gZDa36",
        "colab_type": "text"
      },
      "source": [
        "# Advanced Sequences\n",
        "\n",
        "Example, some code and a lot of inspiration taken from: https://machinelearningmastery.com/how-to-develop-lstm-models-for-time-series-forecasting/\n"
      ]
    },
    {
      "cell_type": "code",
      "metadata": {
        "id": "NLf1M-3w7G7W",
        "colab_type": "code",
        "colab": {
          "base_uri": "https://localhost:8080/",
          "height": 34
        },
        "outputId": "29ad0bac-f7ff-48c7-c692-e1440683708b"
      },
      "source": [
        "try:\n",
        "  # %tensorflow_version only exists in Colab.\n",
        "  %tensorflow_version 2.x\n",
        "except Exception:\n",
        "  pass"
      ],
      "execution_count": 1,
      "outputs": [
        {
          "output_type": "stream",
          "text": [
            "TensorFlow 2.x selected.\n"
          ],
          "name": "stdout"
        }
      ]
    },
    {
      "cell_type": "code",
      "metadata": {
        "id": "3wt0_gCS7HkM",
        "colab_type": "code",
        "outputId": "46756912-9bd1-4b49-ee2e-97a268c0ae8f",
        "colab": {
          "base_uri": "https://localhost:8080/",
          "height": 34
        }
      },
      "source": [
        "import tensorflow as tf\n",
        "print(tf.__version__)"
      ],
      "execution_count": 2,
      "outputs": [
        {
          "output_type": "stream",
          "text": [
            "2.0.0-rc0\n"
          ],
          "name": "stdout"
        }
      ]
    },
    {
      "cell_type": "code",
      "metadata": {
        "id": "YD8l0gArC66I",
        "colab_type": "code",
        "colab": {}
      },
      "source": [
        "# univariate data preparation\n",
        "import numpy as np\n",
        "\n",
        "# split a univariate sequence into samples\n",
        "def split_sequence(sequence, n_steps):\n",
        "\tX, y = list(), list()\n",
        "\tfor i in range(len(sequence)):\n",
        "\t\t# find the end of this pattern\n",
        "\t\tend_ix = i + n_steps\n",
        "\t\t# check if we are beyond the sequence\n",
        "\t\tif end_ix > len(sequence)-1:\n",
        "\t\t\tbreak\n",
        "\t\t# gather input and output parts of the pattern\n",
        "\t\tseq_x, seq_y = sequence[i:end_ix], sequence[end_ix]\n",
        "\t\tX.append(seq_x)\n",
        "\t\ty.append(seq_y)\n",
        "\treturn np.array(X), np.array(y)"
      ],
      "execution_count": 0,
      "outputs": []
    },
    {
      "cell_type": "code",
      "metadata": {
        "id": "gZJ8hnj0C7bQ",
        "colab_type": "code",
        "outputId": "f5b40063-7d13-417e-d8cb-da1e033b8df6",
        "colab": {
          "base_uri": "https://localhost:8080/",
          "height": 119
        }
      },
      "source": [
        "# define input sequence\n",
        "raw_seq = [10, 20, 30, 40, 50, 60, 70, 80, 90]\n",
        "\n",
        "# choose a number of time steps\n",
        "n_steps = 3\n",
        "\n",
        "# split into samples\n",
        "X, y = split_sequence(raw_seq, n_steps)\n",
        "\n",
        "# summarize the data\n",
        "list(zip(X, y))"
      ],
      "execution_count": 4,
      "outputs": [
        {
          "output_type": "execute_result",
          "data": {
            "text/plain": [
              "[(array([10, 20, 30]), 40),\n",
              " (array([20, 30, 40]), 50),\n",
              " (array([30, 40, 50]), 60),\n",
              " (array([40, 50, 60]), 70),\n",
              " (array([50, 60, 70]), 80),\n",
              " (array([60, 70, 80]), 90)]"
            ]
          },
          "metadata": {
            "tags": []
          },
          "execution_count": 4
        }
      ]
    },
    {
      "cell_type": "code",
      "metadata": {
        "id": "6P1Agd-XDA-P",
        "colab_type": "code",
        "colab": {}
      },
      "source": [
        "n_features = 1\n",
        "X = X.reshape((X.shape[0], X.shape[1], n_features))"
      ],
      "execution_count": 0,
      "outputs": []
    },
    {
      "cell_type": "code",
      "metadata": {
        "id": "5NADe6G-JJHY",
        "colab_type": "code",
        "colab": {}
      },
      "source": [
        "def predict(model, samples, n_features=1):\n",
        "  input = np.array(samples).astype(np.float32)\n",
        "  input = input.reshape((input.shape[0], input.shape[1], n_features))\n",
        "  y_pred = model.predict(input)\n",
        "  return y_pred"
      ],
      "execution_count": 0,
      "outputs": []
    },
    {
      "cell_type": "markdown",
      "metadata": {
        "colab_type": "text",
        "id": "NQYi_XNJERzO"
      },
      "source": [
        "### Multi Layer RNNs"
      ]
    },
    {
      "cell_type": "code",
      "metadata": {
        "id": "Fyy6tY6iS9aG",
        "colab_type": "code",
        "outputId": "eb0b6e49-7165-4c07-ee4a-fc035f8dde80",
        "colab": {
          "base_uri": "https://localhost:8080/",
          "height": 68
        }
      },
      "source": [
        "# one output for each input timestep\n",
        "# ideal for feeding into something that *expects* timesteps\n",
        "rnn_units = 1\n",
        "\n",
        "from tensorflow.keras.layers import Dense, LSTM, GRU, SimpleRNN, Bidirectional\n",
        "from tensorflow.keras.models import Sequential, Model\n",
        "\n",
        "model = Sequential([\n",
        "    SimpleRNN(units=rnn_units, activation='relu', return_sequences=True)\n",
        "    # SimpleRNN(units=rnn_units, activation='relu')\n",
        "])\n",
        "\n",
        "# https://keras.io/layers/recurrent/\n",
        "# input: (samples, timesteps, input_dim)\n",
        "# output with return_sequences: (samples, timesteps, units)\n",
        "\n",
        "predict(model, [[10, 20, 30]])"
      ],
      "execution_count": 7,
      "outputs": [
        {
          "output_type": "execute_result",
          "data": {
            "text/plain": [
              "array([[[0.],\n",
              "        [0.],\n",
              "        [0.]]], dtype=float32)"
            ]
          },
          "metadata": {
            "tags": []
          },
          "execution_count": 7
        }
      ]
    },
    {
      "cell_type": "markdown",
      "metadata": {
        "id": "uRzYs3JBJZIW",
        "colab_type": "text"
      },
      "source": [
        "# Exercise: Understand RNNs\n",
        "\n",
        "* Supply more input values\n",
        "* Change the network to only output the final value\n",
        "\n",
        "How does the output change?\n"
      ]
    },
    {
      "cell_type": "code",
      "metadata": {
        "id": "2F2BARiZVKcZ",
        "colab_type": "code",
        "outputId": "26763dc9-f666-4b68-b2a4-c18b6dcd50f6",
        "colab": {
          "base_uri": "https://localhost:8080/",
          "height": 255
        }
      },
      "source": [
        "rnn_units = 50\n",
        "\n",
        "model = Sequential([\n",
        "    SimpleRNN(units=rnn_units, activation='relu', input_shape=(n_steps, n_features), return_sequences=True, name=\"RNN_Input\"),\n",
        "    SimpleRNN(units=rnn_units, activation='relu', name=\"RNN_Latent\"),\n",
        "    Dense(units=1, name=\"Linear_Output\")\n",
        "])\n",
        "model.compile(optimizer='adam', loss='mse')\n",
        "model.summary()"
      ],
      "execution_count": 8,
      "outputs": [
        {
          "output_type": "stream",
          "text": [
            "Model: \"sequential_1\"\n",
            "_________________________________________________________________\n",
            "Layer (type)                 Output Shape              Param #   \n",
            "=================================================================\n",
            "RNN_Input (SimpleRNN)        (None, 3, 50)             2600      \n",
            "_________________________________________________________________\n",
            "RNN_Latent (SimpleRNN)       (None, 50)                5050      \n",
            "_________________________________________________________________\n",
            "Linear_Output (Dense)        (None, 1)                 51        \n",
            "=================================================================\n",
            "Total params: 7,701\n",
            "Trainable params: 7,701\n",
            "Non-trainable params: 0\n",
            "_________________________________________________________________\n"
          ],
          "name": "stdout"
        }
      ]
    },
    {
      "cell_type": "code",
      "metadata": {
        "id": "CeeF8jd2nerI",
        "colab_type": "code",
        "outputId": "ccae719d-3e26-4729-d680-299de2862141",
        "colab": {
          "base_uri": "https://localhost:8080/",
          "height": 388
        }
      },
      "source": [
        "%time history = model.fit(X, y, epochs=2000, verbose=0)\n",
        "\n",
        "import matplotlib.pyplot as plt\n",
        "\n",
        "plt.yscale('log')\n",
        "plt.ylabel(\"loss\")\n",
        "plt.xlabel(\"epochs\")\n",
        "\n",
        "plt.plot(history.history['loss'])"
      ],
      "execution_count": 9,
      "outputs": [
        {
          "output_type": "stream",
          "text": [
            "WARNING:tensorflow:Entity <function Function._initialize_uninitialized_variables.<locals>.initialize_variables at 0x7fb9e71e2620> could not be transformed and will be executed as-is. Please report this to the AutoGraph team. When filing the bug, set the verbosity to 10 (on Linux, `export AUTOGRAPH_VERBOSITY=10`) and attach the full output. Cause: module 'gast' has no attribute 'Num'\n",
            "WARNING: Entity <function Function._initialize_uninitialized_variables.<locals>.initialize_variables at 0x7fb9e71e2620> could not be transformed and will be executed as-is. Please report this to the AutoGraph team. When filing the bug, set the verbosity to 10 (on Linux, `export AUTOGRAPH_VERBOSITY=10`) and attach the full output. Cause: module 'gast' has no attribute 'Num'\n",
            "CPU times: user 11.6 s, sys: 509 ms, total: 12.1 s\n",
            "Wall time: 8.69 s\n"
          ],
          "name": "stdout"
        },
        {
          "output_type": "execute_result",
          "data": {
            "text/plain": [
              "[<matplotlib.lines.Line2D at 0x7fb9e3ee5be0>]"
            ]
          },
          "metadata": {
            "tags": []
          },
          "execution_count": 9
        },
        {
          "output_type": "display_data",
          "data": {
            "image/png": "[encoded data removed]",
            "text/plain": [
              "<Figure size 432x288 with 1 Axes>"
            ]
          },
          "metadata": {
            "tags": []
          }
        }
      ]
    },
    {
      "cell_type": "code",
      "metadata": {
        "id": "VB2ZXbCRntl4",
        "colab_type": "code",
        "outputId": "b59626a3-2048-4405-bfdc-95b417d69a87",
        "colab": {
          "base_uri": "https://localhost:8080/",
          "height": 102
        }
      },
      "source": [
        "predict(model, [[10, 20, 30], [70, 80, 90], [100, 110, 120], [200, 210, 220], [200, 300, 400]])"
      ],
      "execution_count": 10,
      "outputs": [
        {
          "output_type": "execute_result",
          "data": {
            "text/plain": [
              "array([[ 40.001324],\n",
              "       [100.54651 ],\n",
              "       [132.90181 ],\n",
              "       [241.99188 ],\n",
              "       [488.92972 ]], dtype=float32)"
            ]
          },
          "metadata": {
            "tags": []
          },
          "execution_count": 10
        }
      ]
    },
    {
      "cell_type": "markdown",
      "metadata": {
        "id": "xJwXPkE5vEIZ",
        "colab_type": "text"
      },
      "source": [
        "### LSMTs / GRUs\n",
        "\n",
        "* mainly beneficial for long sequences\n",
        "* but also 3-4 times more expensive\n",
        "* might not have better results for short sequences like these"
      ]
    },
    {
      "cell_type": "markdown",
      "metadata": {
        "id": "ytumjpQlKx5P",
        "colab_type": "text"
      },
      "source": [
        "### LSTM"
      ]
    },
    {
      "cell_type": "code",
      "metadata": {
        "id": "xISS3v8Zu-C-",
        "colab_type": "code",
        "outputId": "02228c31-a21a-495a-8a93-2ab1aee61927",
        "colab": {
          "base_uri": "https://localhost:8080/",
          "height": 221
        }
      },
      "source": [
        "rnn_units = 50\n",
        "\n",
        "model = Sequential([\n",
        "    LSTM(units=rnn_units, activation='relu', input_shape=(n_steps, n_features), name=\"RNN_Input\"),\n",
        "    Dense(units=1, name=\"Linear_Output\")\n",
        "])\n",
        "model.compile(optimizer='adam', loss='mse')\n",
        "model.summary()"
      ],
      "execution_count": 11,
      "outputs": [
        {
          "output_type": "stream",
          "text": [
            "Model: \"sequential_2\"\n",
            "_________________________________________________________________\n",
            "Layer (type)                 Output Shape              Param #   \n",
            "=================================================================\n",
            "RNN_Input (LSTM)             (None, 50)                10400     \n",
            "_________________________________________________________________\n",
            "Linear_Output (Dense)        (None, 1)                 51        \n",
            "=================================================================\n",
            "Total params: 10,451\n",
            "Trainable params: 10,451\n",
            "Non-trainable params: 0\n",
            "_________________________________________________________________\n"
          ],
          "name": "stdout"
        }
      ]
    },
    {
      "cell_type": "code",
      "metadata": {
        "id": "teTa0X7txFf2",
        "colab_type": "code",
        "outputId": "2b0101ed-1589-43df-fbc4-f1164c9f564e",
        "colab": {
          "base_uri": "https://localhost:8080/",
          "height": 34
        }
      },
      "source": [
        "# https://arxiv.org/ftp/arxiv/papers/1701/1701.05923.pdf\n",
        "# n = output dimension\n",
        "# m = input dimension\n",
        "# Total number of parameters for \n",
        "# Simple RNN = n**2 + nm + n\n",
        "# GRU = 3 × (n**2 + nm + n)\n",
        "# LSTM = 4 × (n**2 + nm + n)\n",
        "\n",
        "output_dimension = rnn_units\n",
        "input_dimension = n_features\n",
        "parameters = 4 * (output_dimension ** 2 +  output_dimension * input_dimension + output_dimension) \n",
        "parameters"
      ],
      "execution_count": 12,
      "outputs": [
        {
          "output_type": "execute_result",
          "data": {
            "text/plain": [
              "10400"
            ]
          },
          "metadata": {
            "tags": []
          },
          "execution_count": 12
        }
      ]
    },
    {
      "cell_type": "code",
      "metadata": {
        "id": "f9WIk3lgsvu-",
        "colab_type": "code",
        "outputId": "2f4be6b1-9d37-4e15-8617-e505ddaf9590",
        "colab": {
          "base_uri": "https://localhost:8080/",
          "height": 388
        }
      },
      "source": [
        "%time history = model.fit(X, y, epochs=2000, verbose=0)\n",
        "\n",
        "plt.yscale('log')\n",
        "plt.ylabel(\"loss\")\n",
        "plt.xlabel(\"epochs\")\n",
        "plt.plot(history.history['loss'])"
      ],
      "execution_count": 13,
      "outputs": [
        {
          "output_type": "stream",
          "text": [
            "WARNING:tensorflow:Entity <function Function._initialize_uninitialized_variables.<locals>.initialize_variables at 0x7fb9e090a0d0> could not be transformed and will be executed as-is. Please report this to the AutoGraph team. When filing the bug, set the verbosity to 10 (on Linux, `export AUTOGRAPH_VERBOSITY=10`) and attach the full output. Cause: module 'gast' has no attribute 'Num'\n",
            "WARNING: Entity <function Function._initialize_uninitialized_variables.<locals>.initialize_variables at 0x7fb9e090a0d0> could not be transformed and will be executed as-is. Please report this to the AutoGraph team. When filing the bug, set the verbosity to 10 (on Linux, `export AUTOGRAPH_VERBOSITY=10`) and attach the full output. Cause: module 'gast' has no attribute 'Num'\n",
            "CPU times: user 9.88 s, sys: 364 ms, total: 10.2 s\n",
            "Wall time: 7.23 s\n"
          ],
          "name": "stdout"
        },
        {
          "output_type": "execute_result",
          "data": {
            "text/plain": [
              "[<matplotlib.lines.Line2D at 0x7fb9df1ab080>]"
            ]
          },
          "metadata": {
            "tags": []
          },
          "execution_count": 13
        },
        {
          "output_type": "display_data",
          "data": {
            "image/png": "[encoded data removed]",
            "text/plain": [
              "<Figure size 432x288 with 1 Axes>"
            ]
          },
          "metadata": {
            "tags": []
          }
        }
      ]
    },
    {
      "cell_type": "code",
      "metadata": {
        "id": "PrChIAKivga_",
        "colab_type": "code",
        "outputId": "20fbf641-14fd-4908-8504-61bda2389c3a",
        "colab": {
          "base_uri": "https://localhost:8080/",
          "height": 102
        }
      },
      "source": [
        "predict(model, [[10, 20, 30], [70, 80, 90], [100, 110, 120], [200, 210, 220], [200, 300, 400]])"
      ],
      "execution_count": 14,
      "outputs": [
        {
          "output_type": "execute_result",
          "data": {
            "text/plain": [
              "array([[ 39.99903],\n",
              "       [100.08368],\n",
              "       [130.95247],\n",
              "       [237.39426],\n",
              "       [336.88516]], dtype=float32)"
            ]
          },
          "metadata": {
            "tags": []
          },
          "execution_count": 14
        }
      ]
    },
    {
      "cell_type": "markdown",
      "metadata": {
        "id": "IpzFOzkgK0KU",
        "colab_type": "text"
      },
      "source": [
        "### GRU"
      ]
    },
    {
      "cell_type": "code",
      "metadata": {
        "id": "0-6-qw2Uw-kG",
        "colab_type": "code",
        "outputId": "ceaa373c-9b64-488f-8a1c-c4f9d865ba60",
        "colab": {
          "base_uri": "https://localhost:8080/",
          "height": 221
        }
      },
      "source": [
        "rnn_units = 50\n",
        "\n",
        "model = Sequential([\n",
        "    GRU(units=rnn_units, activation='relu', input_shape=(n_steps, n_features), name=\"RNN_Input\"),\n",
        "    Dense(units=1, name=\"Linear_Output\")\n",
        "])\n",
        "model.compile(optimizer='adam', loss='mse')\n",
        "model.summary()"
      ],
      "execution_count": 15,
      "outputs": [
        {
          "output_type": "stream",
          "text": [
            "Model: \"sequential_3\"\n",
            "_________________________________________________________________\n",
            "Layer (type)                 Output Shape              Param #   \n",
            "=================================================================\n",
            "RNN_Input (GRU)              (None, 50)                7950      \n",
            "_________________________________________________________________\n",
            "Linear_Output (Dense)        (None, 1)                 51        \n",
            "=================================================================\n",
            "Total params: 8,001\n",
            "Trainable params: 8,001\n",
            "Non-trainable params: 0\n",
            "_________________________________________________________________\n"
          ],
          "name": "stdout"
        }
      ]
    },
    {
      "cell_type": "code",
      "metadata": {
        "id": "V96JbGbWxJYl",
        "colab_type": "code",
        "outputId": "cf77265d-9840-46e6-8088-26853643bc92",
        "colab": {
          "base_uri": "https://localhost:8080/",
          "height": 34
        }
      },
      "source": [
        "output_dimension = rnn_units\n",
        "input_dimension = n_features\n",
        "parameters = 3 * (output_dimension ** 2 +  output_dimension * input_dimension + output_dimension) \n",
        "parameters"
      ],
      "execution_count": 16,
      "outputs": [
        {
          "output_type": "execute_result",
          "data": {
            "text/plain": [
              "7800"
            ]
          },
          "metadata": {
            "tags": []
          },
          "execution_count": 16
        }
      ]
    },
    {
      "cell_type": "code",
      "metadata": {
        "id": "ZItEwNiBxKCn",
        "colab_type": "code",
        "outputId": "11b9e8ee-4d07-4c52-d5ac-72a64959618f",
        "colab": {
          "base_uri": "https://localhost:8080/",
          "height": 388
        }
      },
      "source": [
        "%time history = model.fit(X, y, epochs=2000, verbose=0)\n",
        "\n",
        "plt.yscale('log')\n",
        "plt.ylabel(\"loss\")\n",
        "plt.xlabel(\"epochs\")\n",
        "plt.plot(history.history['loss'])"
      ],
      "execution_count": 17,
      "outputs": [
        {
          "output_type": "stream",
          "text": [
            "WARNING:tensorflow:Entity <function Function._initialize_uninitialized_variables.<locals>.initialize_variables at 0x7fb9de36c7b8> could not be transformed and will be executed as-is. Please report this to the AutoGraph team. When filing the bug, set the verbosity to 10 (on Linux, `export AUTOGRAPH_VERBOSITY=10`) and attach the full output. Cause: module 'gast' has no attribute 'Num'\n",
            "WARNING: Entity <function Function._initialize_uninitialized_variables.<locals>.initialize_variables at 0x7fb9de36c7b8> could not be transformed and will be executed as-is. Please report this to the AutoGraph team. When filing the bug, set the verbosity to 10 (on Linux, `export AUTOGRAPH_VERBOSITY=10`) and attach the full output. Cause: module 'gast' has no attribute 'Num'\n",
            "CPU times: user 11.9 s, sys: 449 ms, total: 12.3 s\n",
            "Wall time: 8.84 s\n"
          ],
          "name": "stdout"
        },
        {
          "output_type": "execute_result",
          "data": {
            "text/plain": [
              "[<matplotlib.lines.Line2D at 0x7fb9e5ee45f8>]"
            ]
          },
          "metadata": {
            "tags": []
          },
          "execution_count": 17
        },
        {
          "output_type": "display_data",
          "data": {
            "image/png": "[encoded data removed]",
            "text/plain": [
              "<Figure size 432x288 with 1 Axes>"
            ]
          },
          "metadata": {
            "tags": []
          }
        }
      ]
    },
    {
      "cell_type": "code",
      "metadata": {
        "id": "Qz7hU9x2xOCP",
        "colab_type": "code",
        "outputId": "40c5f322-460c-418f-c9ac-6b1302a5fa9b",
        "colab": {
          "base_uri": "https://localhost:8080/",
          "height": 102
        }
      },
      "source": [
        "predict(model, [[10, 20, 30], [70, 80, 90], [100, 110, 120], [200, 210, 220], [200, 300, 400]])"
      ],
      "execution_count": 18,
      "outputs": [
        {
          "output_type": "execute_result",
          "data": {
            "text/plain": [
              "array([[ 40.012753],\n",
              "       [100.387985],\n",
              "       [133.15556 ],\n",
              "       [249.42116 ],\n",
              "       [368.67865 ]], dtype=float32)"
            ]
          },
          "metadata": {
            "tags": []
          },
          "execution_count": 18
        }
      ]
    },
    {
      "cell_type": "markdown",
      "metadata": {
        "id": "6O1p-MKsZoPx",
        "colab_type": "text"
      },
      "source": [
        "## Multivariate LSTM Models"
      ]
    },
    {
      "cell_type": "markdown",
      "metadata": {
        "id": "ogVauet4kvha",
        "colab_type": "text"
      },
      "source": [
        "### Multiple Input Series"
      ]
    },
    {
      "cell_type": "code",
      "metadata": {
        "id": "sI478dzhxSFQ",
        "colab_type": "code",
        "outputId": "b87df8ff-b300-4290-860a-58e6d5712550",
        "colab": {
          "base_uri": "https://localhost:8080/",
          "height": 34
        }
      },
      "source": [
        "in_seq1 = [10, 20, 30, 40, 50, 60, 70, 80, 90]\n",
        "in_seq2 = [15, 25, 35, 45, 55, 65, 75, 85, 95]\n",
        "out_seq = [in1 + in2 for in1, in2 in zip(in_seq1, in_seq2)]\n",
        "out_seq"
      ],
      "execution_count": 19,
      "outputs": [
        {
          "output_type": "execute_result",
          "data": {
            "text/plain": [
              "[25, 45, 65, 85, 105, 125, 145, 165, 185]"
            ]
          },
          "metadata": {
            "tags": []
          },
          "execution_count": 19
        }
      ]
    },
    {
      "cell_type": "code",
      "metadata": {
        "id": "Z3j4mZI1acf7",
        "colab_type": "code",
        "outputId": "a0513f29-bba3-4c7f-cdd9-c442b3976268",
        "colab": {
          "base_uri": "https://localhost:8080/",
          "height": 170
        }
      },
      "source": [
        "# convert to [rows, columns] structure\n",
        "in_seq1 = np.array(in_seq1).reshape((len(in_seq1), 1))\n",
        "in_seq2 = np.array(in_seq2).reshape((len(in_seq2), 1))\n",
        "out_seq = np.array(out_seq).reshape((len(out_seq), 1))\n",
        "out_seq"
      ],
      "execution_count": 20,
      "outputs": [
        {
          "output_type": "execute_result",
          "data": {
            "text/plain": [
              "array([[ 25],\n",
              "       [ 45],\n",
              "       [ 65],\n",
              "       [ 85],\n",
              "       [105],\n",
              "       [125],\n",
              "       [145],\n",
              "       [165],\n",
              "       [185]])"
            ]
          },
          "metadata": {
            "tags": []
          },
          "execution_count": 20
        }
      ]
    },
    {
      "cell_type": "code",
      "metadata": {
        "id": "gWno1RcVaivS",
        "colab_type": "code",
        "outputId": "52352db1-2bd4-450b-8bed-7346ee2e4792",
        "colab": {
          "base_uri": "https://localhost:8080/",
          "height": 170
        }
      },
      "source": [
        "# horizontally stack columns\n",
        "dataset = np.hstack((in_seq1, in_seq2, out_seq))\n",
        "dataset"
      ],
      "execution_count": 21,
      "outputs": [
        {
          "output_type": "execute_result",
          "data": {
            "text/plain": [
              "array([[ 10,  15,  25],\n",
              "       [ 20,  25,  45],\n",
              "       [ 30,  35,  65],\n",
              "       [ 40,  45,  85],\n",
              "       [ 50,  55, 105],\n",
              "       [ 60,  65, 125],\n",
              "       [ 70,  75, 145],\n",
              "       [ 80,  85, 165],\n",
              "       [ 90,  95, 185]])"
            ]
          },
          "metadata": {
            "tags": []
          },
          "execution_count": 21
        }
      ]
    },
    {
      "cell_type": "code",
      "metadata": {
        "id": "wODT6DFGcYCi",
        "colab_type": "code",
        "colab": {}
      },
      "source": [
        "# split a multivariate sequence into samples\n",
        "def split_sequences(sequences, n_steps):\n",
        "\tX, y = list(), list()\n",
        "\tfor i in range(len(sequences)):\n",
        "\t\t# find the end of this pattern\n",
        "\t\tend_ix = i + n_steps\n",
        "\t\t# check if we are beyond the dataset\n",
        "\t\tif end_ix > len(sequences):\n",
        "\t\t\tbreak\n",
        "\t\t# gather input and output parts of the pattern\n",
        "\t\tseq_x, seq_y = sequences[i:end_ix, :-1], sequences[end_ix-1, -1]\n",
        "\t\tX.append(seq_x)\n",
        "\t\ty.append(seq_y)\n",
        "\treturn np.array(X), np.array(y)"
      ],
      "execution_count": 0,
      "outputs": []
    },
    {
      "cell_type": "code",
      "metadata": {
        "id": "YfTgkdcFc8Iu",
        "colab_type": "code",
        "outputId": "3f18f67f-409b-46ad-e7d2-7e3ab7e3ba70",
        "colab": {
          "base_uri": "https://localhost:8080/",
          "height": 272
        }
      },
      "source": [
        "# choose a number of time steps\n",
        "n_steps = 3\n",
        "\n",
        "# convert into input/output\n",
        "X, y = split_sequences(dataset, n_steps)\n",
        "\n",
        "# summarize the data\n",
        "list(zip(X, y))"
      ],
      "execution_count": 23,
      "outputs": [
        {
          "output_type": "execute_result",
          "data": {
            "text/plain": [
              "[(array([[10, 15],\n",
              "         [20, 25],\n",
              "         [30, 35]]), 65), (array([[20, 25],\n",
              "         [30, 35],\n",
              "         [40, 45]]), 85), (array([[30, 35],\n",
              "         [40, 45],\n",
              "         [50, 55]]), 105), (array([[40, 45],\n",
              "         [50, 55],\n",
              "         [60, 65]]), 125), (array([[50, 55],\n",
              "         [60, 65],\n",
              "         [70, 75]]), 145), (array([[60, 65],\n",
              "         [70, 75],\n",
              "         [80, 85]]), 165), (array([[70, 75],\n",
              "         [80, 85],\n",
              "         [90, 95]]), 185)]"
            ]
          },
          "metadata": {
            "tags": []
          },
          "execution_count": 23
        }
      ]
    },
    {
      "cell_type": "code",
      "metadata": {
        "id": "XYhnq4Hzc_tu",
        "colab_type": "code",
        "colab": {}
      },
      "source": [
        "# the dataset knows the number of features, e.g. 2\n",
        "n_features = X.shape[2]\n",
        "\n",
        "# define model\n",
        "model = Sequential()\n",
        "model.add(GRU(units=50, activation='relu', input_shape=(n_steps, n_features), name=\"RNN_Input\"))\n",
        "model.add(Dense(units=1, name=\"Linear_Output\"))\n",
        "model.compile(optimizer='adam', loss='mse')"
      ],
      "execution_count": 0,
      "outputs": []
    },
    {
      "cell_type": "code",
      "metadata": {
        "id": "5DKcnuvGegj5",
        "colab_type": "code",
        "outputId": "540ee281-2e5a-4ecc-873c-522a2cd753f6",
        "colab": {
          "base_uri": "https://localhost:8080/",
          "height": 374
        }
      },
      "source": [
        "# fit model\n",
        "%time history = model.fit(X, y, epochs=2000, verbose=0)\n",
        "import matplotlib.pyplot as plt\n",
        "\n",
        "plt.yscale('log')\n",
        "plt.plot(history.history['loss'])"
      ],
      "execution_count": 25,
      "outputs": [
        {
          "output_type": "stream",
          "text": [
            "WARNING:tensorflow:Entity <function Function._initialize_uninitialized_variables.<locals>.initialize_variables at 0x7fb9e72b8f28> could not be transformed and will be executed as-is. Please report this to the AutoGraph team. When filing the bug, set the verbosity to 10 (on Linux, `export AUTOGRAPH_VERBOSITY=10`) and attach the full output. Cause: module 'gast' has no attribute 'Num'\n",
            "WARNING: Entity <function Function._initialize_uninitialized_variables.<locals>.initialize_variables at 0x7fb9e72b8f28> could not be transformed and will be executed as-is. Please report this to the AutoGraph team. When filing the bug, set the verbosity to 10 (on Linux, `export AUTOGRAPH_VERBOSITY=10`) and attach the full output. Cause: module 'gast' has no attribute 'Num'\n",
            "CPU times: user 12.1 s, sys: 467 ms, total: 12.6 s\n",
            "Wall time: 9.02 s\n"
          ],
          "name": "stdout"
        },
        {
          "output_type": "execute_result",
          "data": {
            "text/plain": [
              "[<matplotlib.lines.Line2D at 0x7fb9e5b45c50>]"
            ]
          },
          "metadata": {
            "tags": []
          },
          "execution_count": 25
        },
        {
          "output_type": "display_data",
          "data": {
            "image/png": "[encoded data removed]",
            "text/plain": [
              "<Figure size 432x288 with 1 Axes>"
            ]
          },
          "metadata": {
            "tags": []
          }
        }
      ]
    },
    {
      "cell_type": "code",
      "metadata": {
        "id": "tAYti6Fae3GA",
        "colab_type": "code",
        "colab": {}
      },
      "source": [
        "def predict_multi(model, samples):\n",
        "  input = np.array(samples).astype(np.float32)\n",
        "  input = input.reshape(1, input.shape[0], input.shape[1])\n",
        "  y_pred = model.predict(input)\n",
        "  return y_pred"
      ],
      "execution_count": 0,
      "outputs": []
    },
    {
      "cell_type": "code",
      "metadata": {
        "id": "To1M1jeLhKFT",
        "colab_type": "code",
        "outputId": "ebdb8f45-1e67-4f76-c6eb-1317e96d2655",
        "colab": {
          "base_uri": "https://localhost:8080/",
          "height": 34
        }
      },
      "source": [
        "predict_multi(model, [[80, 85], [90, 95], [100, 105]])"
      ],
      "execution_count": 27,
      "outputs": [
        {
          "output_type": "execute_result",
          "data": {
            "text/plain": [
              "array([[205.47577]], dtype=float32)"
            ]
          },
          "metadata": {
            "tags": []
          },
          "execution_count": 27
        }
      ]
    },
    {
      "cell_type": "code",
      "metadata": {
        "id": "pwYcgfEbfdJp",
        "colab_type": "code",
        "outputId": "d89b7114-c502-4d1a-d92d-f16e3eac4394",
        "colab": {
          "base_uri": "https://localhost:8080/",
          "height": 34
        }
      },
      "source": [
        "predict_multi(model, [[10, 15], [20, 25], [30, 35]])"
      ],
      "execution_count": 28,
      "outputs": [
        {
          "output_type": "execute_result",
          "data": {
            "text/plain": [
              "array([[65.02515]], dtype=float32)"
            ]
          },
          "metadata": {
            "tags": []
          },
          "execution_count": 28
        }
      ]
    },
    {
      "cell_type": "code",
      "metadata": {
        "id": "yN3tDmkRhboU",
        "colab_type": "code",
        "outputId": "f71e0f95-51e0-456d-9087-9a1c716cbcfe",
        "colab": {
          "base_uri": "https://localhost:8080/",
          "height": 34
        }
      },
      "source": [
        "predict_multi(model, [[180, 185], [190, 195], [200, 205]])"
      ],
      "execution_count": 29,
      "outputs": [
        {
          "output_type": "execute_result",
          "data": {
            "text/plain": [
              "array([[415.05746]], dtype=float32)"
            ]
          },
          "metadata": {
            "tags": []
          },
          "execution_count": 29
        }
      ]
    },
    {
      "cell_type": "markdown",
      "metadata": {
        "id": "ttmXnBPtjVPG",
        "colab_type": "text"
      },
      "source": [
        "#### Let's make this a little bit harder\n",
        "\n",
        "* output y can be inferred from final timestep\n",
        "* now we try to infer following ouput"
      ]
    },
    {
      "cell_type": "code",
      "metadata": {
        "id": "p_L-_VVUhh5z",
        "colab_type": "code",
        "outputId": "10972c4a-4af4-4b78-deaf-403d4fe92e4c",
        "colab": {
          "base_uri": "https://localhost:8080/",
          "height": 272
        }
      },
      "source": [
        "y += 20\n",
        "list(zip(X, y))"
      ],
      "execution_count": 30,
      "outputs": [
        {
          "output_type": "execute_result",
          "data": {
            "text/plain": [
              "[(array([[10, 15],\n",
              "         [20, 25],\n",
              "         [30, 35]]), 85), (array([[20, 25],\n",
              "         [30, 35],\n",
              "         [40, 45]]), 105), (array([[30, 35],\n",
              "         [40, 45],\n",
              "         [50, 55]]), 125), (array([[40, 45],\n",
              "         [50, 55],\n",
              "         [60, 65]]), 145), (array([[50, 55],\n",
              "         [60, 65],\n",
              "         [70, 75]]), 165), (array([[60, 65],\n",
              "         [70, 75],\n",
              "         [80, 85]]), 185), (array([[70, 75],\n",
              "         [80, 85],\n",
              "         [90, 95]]), 205)]"
            ]
          },
          "metadata": {
            "tags": []
          },
          "execution_count": 30
        }
      ]
    },
    {
      "cell_type": "code",
      "metadata": {
        "id": "0heNGKIljMx_",
        "colab_type": "code",
        "outputId": "136ad45d-2505-45d7-cc53-765667816694",
        "colab": {
          "base_uri": "https://localhost:8080/",
          "height": 374
        }
      },
      "source": [
        "model = Sequential()\n",
        "model.add(GRU(units=50, activation='relu', input_shape=(n_steps, n_features), name=\"RNN_Input\"))\n",
        "model.add(Dense(units=1, name=\"Linear_Output\"))\n",
        "model.compile(optimizer='adam', loss='mse')\n",
        "\n",
        "# train a little bit longer, as this should be harder now\n",
        "%time history = model.fit(X, y, epochs=2000, verbose=0)\n",
        "import matplotlib.pyplot as plt\n",
        "\n",
        "plt.yscale('log')\n",
        "plt.plot(history.history['loss'])"
      ],
      "execution_count": 31,
      "outputs": [
        {
          "output_type": "stream",
          "text": [
            "WARNING:tensorflow:Entity <function Function._initialize_uninitialized_variables.<locals>.initialize_variables at 0x7fb9e09a6268> could not be transformed and will be executed as-is. Please report this to the AutoGraph team. When filing the bug, set the verbosity to 10 (on Linux, `export AUTOGRAPH_VERBOSITY=10`) and attach the full output. Cause: module 'gast' has no attribute 'Num'\n",
            "WARNING: Entity <function Function._initialize_uninitialized_variables.<locals>.initialize_variables at 0x7fb9e09a6268> could not be transformed and will be executed as-is. Please report this to the AutoGraph team. When filing the bug, set the verbosity to 10 (on Linux, `export AUTOGRAPH_VERBOSITY=10`) and attach the full output. Cause: module 'gast' has no attribute 'Num'\n",
            "CPU times: user 11.6 s, sys: 411 ms, total: 12 s\n",
            "Wall time: 8.52 s\n"
          ],
          "name": "stdout"
        },
        {
          "output_type": "execute_result",
          "data": {
            "text/plain": [
              "[<matplotlib.lines.Line2D at 0x7fb9e08b95c0>]"
            ]
          },
          "metadata": {
            "tags": []
          },
          "execution_count": 31
        },
        {
          "output_type": "display_data",
          "data": {
            "image/png": "[encoded data removed]",
            "text/plain": [
              "<Figure size 432x288 with 1 Axes>"
            ]
          },
          "metadata": {
            "tags": []
          }
        }
      ]
    },
    {
      "cell_type": "code",
      "metadata": {
        "id": "sNT0WDvZjsa6",
        "colab_type": "code",
        "outputId": "c7ffe64b-4d62-4a4e-8d58-a1de313429c8",
        "colab": {
          "base_uri": "https://localhost:8080/",
          "height": 34
        }
      },
      "source": [
        "predict_multi(model, [[80, 85], [90, 95], [100, 105]])"
      ],
      "execution_count": 32,
      "outputs": [
        {
          "output_type": "execute_result",
          "data": {
            "text/plain": [
              "array([[226.51447]], dtype=float32)"
            ]
          },
          "metadata": {
            "tags": []
          },
          "execution_count": 32
        }
      ]
    },
    {
      "cell_type": "code",
      "metadata": {
        "id": "nrQlR38ajtYA",
        "colab_type": "code",
        "outputId": "70f5f044-b053-4e38-b6ed-7d7c0167a613",
        "colab": {
          "base_uri": "https://localhost:8080/",
          "height": 34
        }
      },
      "source": [
        "predict_multi(model, [[10, 15], [20, 25], [30, 35]])"
      ],
      "execution_count": 33,
      "outputs": [
        {
          "output_type": "execute_result",
          "data": {
            "text/plain": [
              "array([[85.02862]], dtype=float32)"
            ]
          },
          "metadata": {
            "tags": []
          },
          "execution_count": 33
        }
      ]
    },
    {
      "cell_type": "code",
      "metadata": {
        "id": "UbO7DDTjkFsh",
        "colab_type": "code",
        "outputId": "db7e3732-9918-4078-f166-5711ba4dcd78",
        "colab": {
          "base_uri": "https://localhost:8080/",
          "height": 34
        }
      },
      "source": [
        "predict_multi(model, [[180, 185], [190, 195], [200, 205]])"
      ],
      "execution_count": 34,
      "outputs": [
        {
          "output_type": "execute_result",
          "data": {
            "text/plain": [
              "array([[455.27472]], dtype=float32)"
            ]
          },
          "metadata": {
            "tags": []
          },
          "execution_count": 34
        }
      ]
    },
    {
      "cell_type": "markdown",
      "metadata": {
        "id": "X8TsV-MdkmEy",
        "colab_type": "text"
      },
      "source": [
        "## Multi-Step LSTM Models\n",
        "* this might just as well be an encoder / decoder approach"
      ]
    },
    {
      "cell_type": "code",
      "metadata": {
        "id": "4veJ7_fxkSow",
        "colab_type": "code",
        "outputId": "ffe7fef7-5f25-411b-ee02-0d8da4a47c05",
        "colab": {
          "base_uri": "https://localhost:8080/",
          "height": 102
        }
      },
      "source": [
        "# split a univariate sequence into samples\n",
        "def split_sequence(sequence, n_steps_in, n_steps_out):\n",
        "\tX, y = list(), list()\n",
        "\tfor i in range(len(sequence)):\n",
        "\t\t# find the end of this pattern\n",
        "\t\tend_ix = i + n_steps_in\n",
        "\t\tout_end_ix = end_ix + n_steps_out\n",
        "\t\t# check if we are beyond the sequence\n",
        "\t\tif out_end_ix > len(sequence):\n",
        "\t\t\tbreak\n",
        "\t\t# gather input and output parts of the pattern\n",
        "\t\tseq_x, seq_y = sequence[i:end_ix], sequence[end_ix:out_end_ix]\n",
        "\t\tX.append(seq_x)\n",
        "\t\ty.append(seq_y)\n",
        "\treturn np.array(X), np.array(y)\n",
        " \n",
        "# define input sequence\n",
        "raw_seq = [10, 20, 30, 40, 50, 60, 70, 80, 90]\n",
        "# choose a number of time steps\n",
        "n_steps_in, n_steps_out = 3, 2\n",
        "# split into samples\n",
        "X, y = split_sequence(raw_seq, n_steps_in, n_steps_out)\n",
        "# summarize the data\n",
        "for input, output in zip(X, y):\n",
        "  print (input, output)"
      ],
      "execution_count": 35,
      "outputs": [
        {
          "output_type": "stream",
          "text": [
            "[10 20 30] [40 50]\n",
            "[20 30 40] [50 60]\n",
            "[30 40 50] [60 70]\n",
            "[40 50 60] [70 80]\n",
            "[50 60 70] [80 90]\n"
          ],
          "name": "stdout"
        }
      ]
    },
    {
      "cell_type": "code",
      "metadata": {
        "id": "geX0EgYx3xaR",
        "colab_type": "code",
        "colab": {}
      },
      "source": [
        "# reshape from [samples, timesteps] into [samples, timesteps, features]\n",
        "n_features = 1\n",
        "X = X.reshape((X.shape[0], X.shape[1], n_features))\n",
        "# define model\n",
        "model = Sequential()\n",
        "model.add(GRU(100, activation='relu', input_shape=(n_steps_in, n_features)))\n",
        "# model.add(GRU(100, activation='relu', return_sequences=True, input_shape=(n_steps_in, n_features)))\n",
        "# model.add(GRU(100, activation='relu'))\n",
        "model.add(Dense(n_steps_out))\n",
        "model.compile(optimizer='adam', loss='mse')"
      ],
      "execution_count": 0,
      "outputs": []
    },
    {
      "cell_type": "code",
      "metadata": {
        "id": "_9bw2H-w_9Fk",
        "colab_type": "code",
        "outputId": "87c72110-87ee-4000-82ea-b78489781b14",
        "colab": {
          "base_uri": "https://localhost:8080/",
          "height": 374
        }
      },
      "source": [
        "# fit model\n",
        "%time history = model.fit(X, y, epochs=2000, verbose=0)\n",
        "import matplotlib.pyplot as plt\n",
        "\n",
        "plt.yscale('log')\n",
        "plt.plot(history.history['loss'])"
      ],
      "execution_count": 37,
      "outputs": [
        {
          "output_type": "stream",
          "text": [
            "WARNING:tensorflow:Entity <function Function._initialize_uninitialized_variables.<locals>.initialize_variables at 0x7fb9e04860d0> could not be transformed and will be executed as-is. Please report this to the AutoGraph team. When filing the bug, set the verbosity to 10 (on Linux, `export AUTOGRAPH_VERBOSITY=10`) and attach the full output. Cause: module 'gast' has no attribute 'Num'\n",
            "WARNING: Entity <function Function._initialize_uninitialized_variables.<locals>.initialize_variables at 0x7fb9e04860d0> could not be transformed and will be executed as-is. Please report this to the AutoGraph team. When filing the bug, set the verbosity to 10 (on Linux, `export AUTOGRAPH_VERBOSITY=10`) and attach the full output. Cause: module 'gast' has no attribute 'Num'\n",
            "CPU times: user 13.4 s, sys: 379 ms, total: 13.8 s\n",
            "Wall time: 9.52 s\n"
          ],
          "name": "stdout"
        },
        {
          "output_type": "execute_result",
          "data": {
            "text/plain": [
              "[<matplotlib.lines.Line2D at 0x7fb9e05ceb38>]"
            ]
          },
          "metadata": {
            "tags": []
          },
          "execution_count": 37
        },
        {
          "output_type": "display_data",
          "data": {
            "image/png": "[encoded data removed]",
            "text/plain": [
              "<Figure size 432x288 with 1 Axes>"
            ]
          },
          "metadata": {
            "tags": []
          }
        }
      ]
    },
    {
      "cell_type": "code",
      "metadata": {
        "id": "BvVhFBcpAHCt",
        "colab_type": "code",
        "outputId": "e2310d60-72f7-4e58-8ad5-598cd448f760",
        "colab": {
          "base_uri": "https://localhost:8080/",
          "height": 34
        }
      },
      "source": [
        "X_sample = np.array([70, 80, 90]).reshape((1, n_steps_in, n_features)).astype(np.float32)\n",
        "y_pred = model.predict(X_sample)\n",
        "print(y_pred)"
      ],
      "execution_count": 38,
      "outputs": [
        {
          "output_type": "stream",
          "text": [
            "[[101.55542 111.85673]]\n"
          ],
          "name": "stdout"
        }
      ]
    },
    {
      "cell_type": "code",
      "metadata": {
        "id": "TU98-CwHAYor",
        "colab_type": "code",
        "outputId": "4f7f2b6e-02ac-4617-91c6-5f7ef55e40cc",
        "colab": {
          "base_uri": "https://localhost:8080/",
          "height": 34
        }
      },
      "source": [
        "X_sample = np.array([10, 20, 30]).reshape((1, n_steps_in, n_features)).astype(np.float32)\n",
        "y_pred = model.predict(X_sample)\n",
        "print(y_pred)"
      ],
      "execution_count": 39,
      "outputs": [
        {
          "output_type": "stream",
          "text": [
            "[[39.99977 50.00007]]\n"
          ],
          "name": "stdout"
        }
      ]
    },
    {
      "cell_type": "code",
      "metadata": {
        "id": "vZ6nA3VuM-6l",
        "colab_type": "code",
        "colab": {}
      },
      "source": [
        ""
      ],
      "execution_count": 0,
      "outputs": []
    }
  ]
}