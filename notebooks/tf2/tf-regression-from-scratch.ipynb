{
  "nbformat": 4,
  "nbformat_minor": 0,
  "metadata": {
    "colab": {
      "name": "tf-regression-from-scratch.ipynb",
      "provenance": [],
      "include_colab_link": true
    },
    "language_info": {
      "codemirror_mode": {
        "name": "ipython",
        "version": 3
      },
      "file_extension": ".py",
      "mimetype": "text/x-python",
      "name": "python",
      "nbconvert_exporter": "python",
      "pygments_lexer": "ipython3",
      "version": "3.7.3"
    },
    "kernelspec": {
      "display_name": "Python 3",
      "language": "python",
      "name": "python3"
    },
    "accelerator": "GPU"
  },
  "cells": [
    {
      "cell_type": "markdown",
      "metadata": {
        "id": "view-in-github",
        "colab_type": "text"
      },
      "source": [
        "<a href=\"https://colab.research.google.com/github/DJCordhose/ml-workshop/blob/master/notebooks/tf2/tf-regression-from-scratch.ipynb\" target=\"_parent\"><img src=\"https://colab.research.google.com/assets/colab-badge.svg\" alt=\"Open In Colab\"/></a>"
      ]
    },
    {
      "cell_type": "markdown",
      "metadata": {
        "colab_type": "text",
        "id": "XdfXfXK2-CiG"
      },
      "source": [
        "# Regression from Scatch with TensorFlow 2\n",
        "\n",
        "## Objectives\n",
        "\n",
        "- how matrix multiplication is the basis of neural networks\n",
        "- how loss functions work\n",
        "- backpropagation\n",
        "- optimizers\n",
        "- regression"
      ]
    },
    {
      "cell_type": "markdown",
      "metadata": {
        "id": "iuUy8f6W-Gns",
        "colab_type": "text"
      },
      "source": [
        "### Challenge: How do we fit the best line possible?"
      ]
    },
    {
      "cell_type": "code",
      "metadata": {
        "id": "j6tt1Z9cEV9m",
        "colab_type": "code",
        "colab": {}
      },
      "source": [
        "import matplotlib.pyplot as plt\n",
        "# plt.xkcd()\n",
        "# plt.style.use('ggplot')\n",
        "%matplotlib inline\n",
        "\n",
        "import matplotlib as mpl\n",
        "mpl.rcParams['figure.figsize'] = (20, 8)"
      ],
      "execution_count": 0,
      "outputs": []
    },
    {
      "cell_type": "code",
      "metadata": {
        "id": "fxRBCo2QIuI9",
        "colab_type": "code",
        "outputId": "977489ff-1242-4f0e-b031-26171c6e9eb4",
        "colab": {
          "base_uri": "https://localhost:8080/",
          "height": 513
        }
      },
      "source": [
        "#@title A noisy line of shape y = m*x + b { run: \"auto\", display-mode: \"both\" }\n",
        "\n",
        "# https://colab.research.google.com/notebooks/forms.ipynb\n",
        "\n",
        "n = 50 #@param {type:\"slider\", min:10, max:500, step:1}\n",
        "m = -1 #@param {type:\"slider\", min:-10, max:10, step: 0.1}\n",
        "b = 1 #@param {type:\"slider\", min:-10, max:10, step: 0.1}\n",
        "\n",
        "noise_level = 0.1 #@param {type:\"slider\", min:0.1, max:1.0, step:0.1}\n",
        "\n",
        "title = 'Predict y from x (based on a line with noise)' #@param {type:\"string\"}\n",
        "x_label = 'x' #@param {type:\"string\"}\n",
        "y_label = 'y' #@param {type:\"string\"}\n",
        "\n",
        "import numpy as np\n",
        "\n",
        "x = np.random.uniform(0, 1, n)\n",
        "y = m*x+b + np.random.normal(0, noise_level, n)\n",
        "\n",
        "plt.xlabel(x_label)\n",
        "plt.ylabel(y_label)\n",
        "plt.title(title)\n",
        "\n",
        "plt.scatter(x, y);"
      ],
      "execution_count": 2,
      "outputs": [
        {
          "output_type": "display_data",
          "data": {
            "image/png": "[encoded data removed]",
            "text/plain": [
              "<Figure size 1440x576 with 1 Axes>"
            ]
          },
          "metadata": {
            "tags": []
          }
        }
      ]
    },
    {
      "cell_type": "markdown",
      "metadata": {
        "id": "Q37hoRPLKI5H",
        "colab_type": "text"
      },
      "source": [
        "## Exercise: Get familiar with Colab notebooks and the example\n",
        "\n",
        "* Execute all cells up to this point by pressing shift+enter in each cell\n",
        "* Change the title and what is on the axis to match any application you might have\n",
        "* Play with the parameters using the sliders above to get an idea of what kind of problem we are dealing with\n",
        "* If the data does not match your application, adjust it in a reasonable way"
      ]
    },
    {
      "cell_type": "markdown",
      "metadata": {
        "id": "Foa3nuaywB09",
        "colab_type": "text"
      },
      "source": [
        "# Starting off with a naive approach"
      ]
    },
    {
      "cell_type": "markdown",
      "metadata": {
        "id": "_18EAgpD-NEe",
        "colab_type": "text"
      },
      "source": [
        "## Our model: linear\n",
        "\n",
        "### ```y = m*x + b```\n",
        "\n",
        "* `m` is the slope \n",
        "* `b` is the y-intercept\n"
      ]
    },
    {
      "cell_type": "code",
      "metadata": {
        "colab_type": "code",
        "id": "B988o-LuC2wf",
        "colab": {}
      },
      "source": [
        "class LinearModel:\n",
        "  \n",
        "  def __init__(self, m=0, b=0):\n",
        "    self.m = m\n",
        "    self.b = b\n",
        "    \n",
        "  def __call__(self, x):\n",
        "    y = self.m * x + self.b\n",
        "    return y"
      ],
      "execution_count": 0,
      "outputs": []
    },
    {
      "cell_type": "code",
      "metadata": {
        "id": "a4iCGJG8BURt",
        "colab_type": "code",
        "outputId": "93600ffe-9c65-40c8-c4da-91b263962ef3",
        "colab": {
          "base_uri": "https://localhost:8080/",
          "height": 486
        }
      },
      "source": [
        "model = LinearModel()\n",
        "y_pred = model(x)\n",
        "plt.plot(x, y_pred, color='r')\n",
        "plt.scatter(x, y);"
      ],
      "execution_count": 4,
      "outputs": [
        {
          "output_type": "display_data",
          "data": {
            "image/png": "[encoded data removed]",
            "text/plain": [
              "<Figure size 1440x576 with 1 Axes>"
            ]
          },
          "metadata": {
            "tags": []
          }
        }
      ]
    },
    {
      "cell_type": "markdown",
      "metadata": {
        "id": "OfEHyVDQBlgy",
        "colab_type": "text"
      },
      "source": [
        "## How wrong are we?\n",
        "### This is obviously wrong, but how wrong are we?"
      ]
    },
    {
      "cell_type": "code",
      "metadata": {
        "id": "wssjxewwBofu",
        "colab_type": "code",
        "outputId": "1572cd6a-d301-41f1-c0fa-9d9d41acaac2",
        "colab": {
          "base_uri": "https://localhost:8080/",
          "height": 34
        }
      },
      "source": [
        "def loss1(y_true, y_pred):\n",
        "  return np.sum(y_true - y_pred)\n",
        "loss1(y, y_pred)"
      ],
      "execution_count": 5,
      "outputs": [
        {
          "output_type": "execute_result",
          "data": {
            "text/plain": [
              "28.58612506590381"
            ]
          },
          "metadata": {
            "tags": []
          },
          "execution_count": 5
        }
      ]
    },
    {
      "cell_type": "code",
      "metadata": {
        "id": "ljcSucGuCL1T",
        "colab_type": "code",
        "outputId": "e14bdbe7-2c0b-4f24-f134-23ba0d2b2fae",
        "colab": {
          "base_uri": "https://localhost:8080/",
          "height": 34
        }
      },
      "source": [
        "def loss_no_negative(y_true, y_pred):\n",
        "  return np.sum(np.abs(y_true - y_pred))\n",
        "loss_no_negative(y, y_pred)"
      ],
      "execution_count": 6,
      "outputs": [
        {
          "output_type": "execute_result",
          "data": {
            "text/plain": [
              "28.792642018909437"
            ]
          },
          "metadata": {
            "tags": []
          },
          "execution_count": 6
        }
      ]
    },
    {
      "cell_type": "code",
      "metadata": {
        "id": "1yzLG9n6CjIs",
        "colab_type": "code",
        "outputId": "559a64f8-9e7d-4ae3-c4a4-fe9360ed931d",
        "colab": {
          "base_uri": "https://localhost:8080/",
          "height": 34
        }
      },
      "source": [
        "def loss_no_negative_normalize(y_true, y_pred):\n",
        "  return np.sum(np.abs(y_true - y_pred)) / len(y_true)\n",
        "loss_no_negative_normalize(y, y_pred)"
      ],
      "execution_count": 7,
      "outputs": [
        {
          "output_type": "execute_result",
          "data": {
            "text/plain": [
              "0.5758528403781887"
            ]
          },
          "metadata": {
            "tags": []
          },
          "execution_count": 7
        }
      ]
    },
    {
      "cell_type": "markdown",
      "metadata": {
        "id": "-Pq6rCREC3Qr",
        "colab_type": "text"
      },
      "source": [
        "## Trying to bring the loss down in loop\n",
        "\n",
        "Parameters to tweak\n",
        "* m for the slope\n",
        "* b for the y-intercept"
      ]
    },
    {
      "cell_type": "markdown",
      "metadata": {
        "id": "LrzJzzG1Gh8N",
        "colab_type": "text"
      },
      "source": [
        "### Let's begin with naive implementation\n",
        "\n",
        "1. if we bring m or b up or down, does this improve the loss?\n",
        "1. if so, do it\n",
        "1. rinse and repeat for a number of times"
      ]
    },
    {
      "cell_type": "code",
      "metadata": {
        "id": "CZUySXYNScOx",
        "colab_type": "code",
        "outputId": "025e4af4-e398-468a-f969-be43b6dfe7fa",
        "colab": {
          "base_uri": "https://localhost:8080/",
          "height": 34
        }
      },
      "source": [
        "model = LinearModel()\n",
        "\n",
        "EPOCHS = 500\n",
        "learning_rate = 0.01\n",
        "\n",
        "losses = []\n",
        "\n",
        "for step in range(EPOCHS):\n",
        "  y_pred = model(x)\n",
        "  \n",
        "  loss = loss_no_negative_normalize(y, y_pred)\n",
        "    \n",
        "  # just for logging\n",
        "  losses.append(loss)\n",
        "  \n",
        "  # let's try m\n",
        "  new_model = LinearModel(m = model.m + learning_rate, b = model.b)\n",
        "  new_y_pred = new_model(x)\n",
        "  new_loss = loss_no_negative_normalize(y, new_y_pred)\n",
        "  \n",
        "  if new_loss < loss:\n",
        "    model.m += learning_rate\n",
        "  else:\n",
        "    model.m -= learning_rate\n",
        "    \n",
        "  # then b\n",
        "  new_model = LinearModel(m = model.m, b = model.b + learning_rate)\n",
        "  new_y_pred = new_model(x)\n",
        "  new_loss = loss_no_negative_normalize(y, new_y_pred)\n",
        "  \n",
        "  if new_loss < loss:\n",
        "    model.b += learning_rate\n",
        "  else:\n",
        "    model.b -= learning_rate\n",
        "\n",
        "\n",
        "model.m, model.b    "
      ],
      "execution_count": 8,
      "outputs": [
        {
          "output_type": "execute_result",
          "data": {
            "text/plain": [
              "(-0.9000000000000006, 0.9400000000000006)"
            ]
          },
          "metadata": {
            "tags": []
          },
          "execution_count": 8
        }
      ]
    },
    {
      "cell_type": "code",
      "metadata": {
        "id": "2oP8Ggt_Gvp3",
        "colab_type": "code",
        "outputId": "1a942747-1b77-4cf5-9694-8354792de374",
        "colab": {
          "base_uri": "https://localhost:8080/",
          "height": 486
        }
      },
      "source": [
        "y_pred = model(x)\n",
        "plt.plot(x, y_pred, color='r')\n",
        "plt.scatter(x, y);"
      ],
      "execution_count": 9,
      "outputs": [
        {
          "output_type": "display_data",
          "data": {
            "image/png": "[encoded data removed]",
            "text/plain": [
              "<Figure size 1440x576 with 1 Axes>"
            ]
          },
          "metadata": {
            "tags": []
          }
        }
      ]
    },
    {
      "cell_type": "code",
      "metadata": {
        "id": "x_3PHObDDiEd",
        "colab_type": "code",
        "outputId": "e09a4d58-6843-4937-c675-6cd996051224",
        "colab": {
          "base_uri": "https://localhost:8080/",
          "height": 487
        }
      },
      "source": [
        "# plt.yscale('log')\n",
        "plt.plot(losses);"
      ],
      "execution_count": 10,
      "outputs": [
        {
          "output_type": "display_data",
          "data": {
            "image/png": "[encoded data removed]",
            "text/plain": [
              "<Figure size 1440x576 with 1 Axes>"
            ]
          },
          "metadata": {
            "tags": []
          }
        }
      ]
    },
    {
      "cell_type": "markdown",
      "metadata": {
        "id": "6Ms_6xMGIQjK",
        "colab_type": "text"
      },
      "source": [
        "# We already have a working solution"
      ]
    },
    {
      "cell_type": "markdown",
      "metadata": {
        "id": "YmGc7CiaIbSg",
        "colab_type": "text"
      },
      "source": [
        "## But does this scale to an example with many more parameters and more inputs?\n",
        "\n",
        "1. Calculating the output might be expensive\n",
        "2. Trying out all parameters in a random we like we do would have a bad performance for a large problem\n",
        "3. Wouldn't we also need to try them in combination?"
      ]
    },
    {
      "cell_type": "markdown",
      "metadata": {
        "id": "R59mTAYHIVTE",
        "colab_type": "text"
      },
      "source": [
        "# Let's see what we need to change for this to become a state of the art neural network using TensorFlow 2\n",
        "\n",
        "1. Replace our model with a fully connected layer\n",
        "2. Use a standard loss function\n",
        "3. Finding parameters to tune\n",
        "4. Changing parameters"
      ]
    },
    {
      "cell_type": "code",
      "metadata": {
        "id": "5gcdokENxG-s",
        "colab_type": "code",
        "outputId": "852bf4f0-3fa7-4e16-cbe2-e815a60dc0ef",
        "colab": {
          "base_uri": "https://localhost:8080/",
          "height": 52
        }
      },
      "source": [
        "try:\n",
        "  # %tensorflow_version only exists in Colab.\n",
        "  %tensorflow_version 2.x\n",
        "except Exception:\n",
        "  pass\n",
        "\n",
        "import tensorflow as tf\n",
        "tf.__version__"
      ],
      "execution_count": 11,
      "outputs": [
        {
          "output_type": "stream",
          "text": [
            "TensorFlow 2.x selected.\n"
          ],
          "name": "stdout"
        },
        {
          "output_type": "execute_result",
          "data": {
            "text/plain": [
              "'2.0.0-rc2'"
            ]
          },
          "metadata": {
            "tags": []
          },
          "execution_count": 11
        }
      ]
    },
    {
      "cell_type": "markdown",
      "metadata": {
        "id": "6HHSUkrxxNy_",
        "colab_type": "text"
      },
      "source": [
        "## Step one: use a dense layer instead of our simple model\n",
        "* Scales well for as many neurons and inputs as we want\n",
        "* Efficient implementation on GPUs\n",
        "\n"
      ]
    },
    {
      "cell_type": "markdown",
      "metadata": {
        "colab_type": "text",
        "id": "WKxxou9oirbE"
      },
      "source": [
        "### The Artificial Neuron: Foundation of Deep Neural Networks (simplified, more later)\n",
        "\n",
        "* a neuron takes a number of numerical inputs\n",
        "* multiplies each with a weight, sums up all weighted input and  \n",
        "* adds bias (constant) to that sum\n",
        "* from this it creates a single numerical output\n",
        "* for one input (one dimension) this would be a description of a line\n",
        "* for more dimensions this describes a hyper plane that can serve as a decision boundary\n",
        "* this is typically expressed as a matrix multplication plus an addition\n",
        "\n",
        "\n",
        "<img src='https://djcordhose.github.io/ai/img/insurance/neuron211.jpg'>"
      ]
    },
    {
      "cell_type": "markdown",
      "metadata": {
        "colab_type": "text",
        "id": "O6oo7hM_0pv5"
      },
      "source": [
        "### This can be expressed using a matrix multiplication"
      ]
    },
    {
      "cell_type": "code",
      "metadata": {
        "colab_type": "code",
        "id": "7h8MQieO0vay",
        "outputId": "4d792f83-b4c2-49e5-a088-65ace8c32da1",
        "colab": {
          "base_uri": "https://localhost:8080/",
          "height": 69
        }
      },
      "source": [
        "%%time \n",
        "\n",
        "# parameters of the neuron (can be learned), defining the function to apply\n",
        "w = tf.constant([[1.5], [-2], [1]], dtype='float32')\n",
        "b = tf.constant([6], dtype='float32')\n",
        "\n",
        "# variable input being fed through the parameterized neuron\n",
        "example_x = tf.constant([[10, 6, 8]], dtype='float32')\n",
        "\n",
        "# computed output\n",
        "example_y = tf.matmul(example_x, w) + b\n",
        "print(example_y)"
      ],
      "execution_count": 12,
      "outputs": [
        {
          "output_type": "stream",
          "text": [
            "tf.Tensor([[17.]], shape=(1, 1), dtype=float32)\n",
            "CPU times: user 412 ms, sys: 276 ms, total: 688 ms\n",
            "Wall time: 707 ms\n"
          ],
          "name": "stdout"
        }
      ]
    },
    {
      "cell_type": "markdown",
      "metadata": {
        "colab_type": "text",
        "id": "IGylP_16koS6"
      },
      "source": [
        "### Defining a dense layer with a random number of neurons and inputs\n",
        "\n",
        "With a little more work this would be a complete implementation of a fully connected layer\n",
        "\n"
      ]
    },
    {
      "cell_type": "code",
      "metadata": {
        "colab_type": "code",
        "id": "aMCDcq4JelaE",
        "outputId": "fd580556-422c-4ded-bc52-da67c460ba1f",
        "colab": {
          "base_uri": "https://localhost:8080/",
          "height": 52
        }
      },
      "source": [
        "from tensorflow.keras.layers import Layer\n",
        "\n",
        "# we derive from a TensorFlow Layer\n",
        "class LinearLayer(Layer):\n",
        "  \"\"\"y = w.x + b\"\"\"\n",
        "\n",
        "  # initializing our layer\n",
        "  def __init__(self, units=1, input_dim=1):\n",
        "      super(LinearLayer, self).__init__()\n",
        "      # these are our weights, which can be learned, initialized normally around 0 with stddev of 2\n",
        "      self.w = tf.Variable(\n",
        "          initial_value = tf.random_normal_initializer(stddev=2)(shape=(input_dim, units), dtype='float32'),\n",
        "          trainable=True,\n",
        "          name='weights')\n",
        "      # these are our bisases, also can be learned, initialized as 0\n",
        "      self.b = tf.Variable(\n",
        "          initial_value = tf.zeros_initializer()(shape=(units,), dtype='float32'),\n",
        "          trainable=True,\n",
        "          name='biases')\n",
        "\n",
        "  # what the layer does (some as in our example before)\n",
        "  def call(self, inputs):\n",
        "      return tf.matmul(inputs, self.w) + self.b\n",
        "    \n",
        "# just one neuron and one input (but could be as many as we like)    \n",
        "linear_layer = LinearLayer()\n",
        "linear_layer.trainable_variables"
      ],
      "execution_count": 13,
      "outputs": [
        {
          "output_type": "execute_result",
          "data": {
            "text/plain": [
              "[<tf.Variable 'weights:0' shape=(1, 1) dtype=float32, numpy=array([[0.44268495]], dtype=float32)>,\n",
              " <tf.Variable 'biases:0' shape=(1,) dtype=float32, numpy=array([0.], dtype=float32)>]"
            ]
          },
          "metadata": {
            "tags": []
          },
          "execution_count": 13
        }
      ]
    },
    {
      "cell_type": "code",
      "metadata": {
        "id": "1aYgn1IHyFlQ",
        "colab_type": "code",
        "outputId": "7a26371d-cc9e-4a93-b585-92609dd16c7f",
        "colab": {
          "base_uri": "https://localhost:8080/",
          "height": 486
        }
      },
      "source": [
        "x_tensor = tf.reshape(tf.constant(x, dtype=tf.float32), (n, 1))\n",
        "y_tensor = tf.reshape(tf.constant(y, dtype=tf.float32), (n, 1))\n",
        "\n",
        "y_pred = linear_layer(x_tensor)\n",
        "plt.plot(x, y_pred, color='r')\n",
        "plt.scatter(x, y);"
      ],
      "execution_count": 14,
      "outputs": [
        {
          "output_type": "display_data",
          "data": {
            "image/png": "[encoded data removed]",
            "text/plain": [
              "<Figure size 1440x576 with 1 Axes>"
            ]
          },
          "metadata": {
            "tags": []
          }
        }
      ]
    },
    {
      "cell_type": "code",
      "metadata": {
        "id": "JgnuebDDGDMA",
        "colab_type": "code",
        "outputId": "bd0cd950-2b3e-49be-bf6c-14608073798f",
        "colab": {
          "base_uri": "https://localhost:8080/",
          "height": 52
        }
      },
      "source": [
        "# you can see slope and offset are just not right\n",
        "slope = linear_layer.w; offset = linear_layer.b\n",
        "slope, offset"
      ],
      "execution_count": 15,
      "outputs": [
        {
          "output_type": "execute_result",
          "data": {
            "text/plain": [
              "(<tf.Variable 'weights:0' shape=(1, 1) dtype=float32, numpy=array([[0.44268495]], dtype=float32)>,\n",
              " <tf.Variable 'biases:0' shape=(1,) dtype=float32, numpy=array([0.], dtype=float32)>)"
            ]
          },
          "metadata": {
            "tags": []
          },
          "execution_count": 15
        }
      ]
    },
    {
      "cell_type": "markdown",
      "metadata": {
        "id": "OOnPfr8Z0TMv",
        "colab_type": "text"
      },
      "source": [
        "## Step two: use a standard loss function\n",
        "* what we defined is called mean absolute error: mae\n",
        "* mean squared error is more common, it squares the differences and gives high values a larger weight: mse\n",
        "* both are pre-defined efficiently in TensorFlow 2\n",
        "\n"
      ]
    },
    {
      "cell_type": "markdown",
      "metadata": {
        "id": "NXGOjCNr2vQU",
        "colab_type": "text"
      },
      "source": [
        "### Mean Absolute Error"
      ]
    },
    {
      "cell_type": "code",
      "metadata": {
        "id": "v0oTMNID2kJ8",
        "colab_type": "code",
        "outputId": "ee1484c1-191f-43c2-df91-ffbadab53e8a",
        "colab": {
          "base_uri": "https://localhost:8080/",
          "height": 34
        }
      },
      "source": [
        "tf.losses.mean_absolute_error(y_true=tf.squeeze(y), y_pred=tf.squeeze(y_pred))"
      ],
      "execution_count": 16,
      "outputs": [
        {
          "output_type": "execute_result",
          "data": {
            "text/plain": [
              "<tf.Tensor: id=76, shape=(), dtype=float32, numpy=0.4821144>"
            ]
          },
          "metadata": {
            "tags": []
          },
          "execution_count": 16
        }
      ]
    },
    {
      "cell_type": "markdown",
      "metadata": {
        "id": "9Ktk750l2GrJ",
        "colab_type": "text"
      },
      "source": [
        "### Mean Squared Error\n",
        "\n",
        "$MSE = {\\frac {1}{n}}\\sum _{i=1}^{n}(Y_{i}-{\\hat {Y_{i}}})^{2}$\n",
        "\n",
        "\n",
        "https://en.wikipedia.org/wiki/Mean_squared_error\n"
      ]
    },
    {
      "cell_type": "code",
      "metadata": {
        "id": "wdqgj24ZF5xf",
        "colab_type": "code",
        "outputId": "50bb199f-0405-4306-d79e-19d9ec14d98f",
        "colab": {
          "base_uri": "https://localhost:8080/",
          "height": 34
        }
      },
      "source": [
        "tf.losses.mean_squared_error(y_true=tf.squeeze(y), y_pred=tf.squeeze(y_pred))"
      ],
      "execution_count": 17,
      "outputs": [
        {
          "output_type": "execute_result",
          "data": {
            "text/plain": [
              "<tf.Tensor: id=83, shape=(), dtype=float32, numpy=0.3065863>"
            ]
          },
          "metadata": {
            "tags": []
          },
          "execution_count": 17
        }
      ]
    },
    {
      "cell_type": "markdown",
      "metadata": {
        "id": "nfg7K1Hx204z",
        "colab_type": "text"
      },
      "source": [
        "### R2 Metric: MSE and MAE are not speaking\n",
        "\n",
        "* R^2 score, the closer to 1 the better\n",
        "* loosely speaking: how much better is this than predicting the constant mean\n",
        "* 0 would mean just as good\n",
        "* 1 is perfect\n",
        "* neg. would mean even worse\n",
        "* it can become arbitrarily worse\n",
        "\n",
        "https://en.wikipedia.org/wiki/Coefficient_of_determination\n"
      ]
    },
    {
      "cell_type": "code",
      "metadata": {
        "id": "AavxSDrH2Xj6",
        "colab_type": "code",
        "colab": {}
      },
      "source": [
        "# https://keras.io/metrics/#custom-metrics\n",
        "\n",
        "# ported to TF 2 from \n",
        "# * https://stackoverflow.com/a/42351397/1756489 and\n",
        "# * https://www.kaggle.com/c/mercedes-benz-greener-manufacturing/discussion/34019 (for use of epsilon to avoid strange inf or -inf)\n",
        "\n",
        "# only works properly on tensors\n",
        "\n",
        "def r2_metric(y_true, y_pred):\n",
        "  total_error = tf.reduce_sum(tf.square(tf.subtract(y_true, tf.reduce_mean(y_true))))\n",
        "  unexplained_error = tf.reduce_sum(tf.square(tf.subtract(y_true, y_pred)))\n",
        "  R_squared = tf.subtract(1.0, tf.divide(unexplained_error, tf.add(total_error, tf.keras.backend.epsilon())))\n",
        "  \n",
        "  return R_squared"
      ],
      "execution_count": 0,
      "outputs": []
    },
    {
      "cell_type": "code",
      "metadata": {
        "id": "D9YUrDR63DA9",
        "colab_type": "code",
        "outputId": "ecdf39e1-6187-426e-ceaf-0ad10e5d66c1",
        "colab": {
          "base_uri": "https://localhost:8080/",
          "height": 34
        }
      },
      "source": [
        "r2_metric(y_true=tf.squeeze(y_tensor), y_pred=tf.squeeze(y_pred))"
      ],
      "execution_count": 19,
      "outputs": [
        {
          "output_type": "execute_result",
          "data": {
            "text/plain": [
              "<tf.Tensor: id=100, shape=(), dtype=float32, numpy=-2.601032>"
            ]
          },
          "metadata": {
            "tags": []
          },
          "execution_count": 19
        }
      ]
    },
    {
      "cell_type": "markdown",
      "metadata": {
        "id": "Myjb5duB7Rfi",
        "colab_type": "text"
      },
      "source": [
        "## Step three: Finding parameters to tune"
      ]
    },
    {
      "cell_type": "markdown",
      "metadata": {
        "id": "wOpI5DdvLqoq",
        "colab_type": "text"
      },
      "source": [
        "## Backpropagation algorithm"
      ]
    },
    {
      "cell_type": "markdown",
      "metadata": {
        "id": "NLXsxuqkB-BN",
        "colab_type": "text"
      },
      "source": [
        "\n",
        "### The core of how a neural network learns\n",
        "\n",
        "_In a nutshell:_\n",
        "1. Predict: Let the network make a prediction \n",
        "1. Calculate the loss: how accurate was the predition\n",
        "1. Record a function of how the trainable parameters affect the loss \n",
        "1. partial derivations: find out in which direction to change all parameters to bring down the loss\n",
        "1. Optimizer: Make changes to parameters based on learning rate and other parameters\n"
      ]
    },
    {
      "cell_type": "markdown",
      "metadata": {
        "colab_type": "text",
        "id": "QzcQowwMsZqg"
      },
      "source": [
        "### Loss depends on the trainable variables, in our case two parameters: weight and bias\n",
        "\n",
        "This is how the loss function might change depending on those variables\n",
        "\n",
        "<img src='https://djcordhose.github.io/ai/img/gradients.jpg'>\n",
        "\n",
        "https://twitter.com/colindcarroll/status/1090266016259534848"
      ]
    },
    {
      "cell_type": "code",
      "metadata": {
        "id": "7jkpKqcoB1ma",
        "colab_type": "code",
        "outputId": "242c3e77-cc62-4a03-9eb5-5d2591d13ace",
        "colab": {
          "base_uri": "https://localhost:8080/",
          "height": 52
        }
      },
      "source": [
        "linear_layer.trainable_variables"
      ],
      "execution_count": 20,
      "outputs": [
        {
          "output_type": "execute_result",
          "data": {
            "text/plain": [
              "[<tf.Variable 'weights:0' shape=(1, 1) dtype=float32, numpy=array([[0.44268495]], dtype=float32)>,\n",
              " <tf.Variable 'biases:0' shape=(1,) dtype=float32, numpy=array([0.], dtype=float32)>]"
            ]
          },
          "metadata": {
            "tags": []
          },
          "execution_count": 20
        }
      ]
    },
    {
      "cell_type": "markdown",
      "metadata": {
        "colab_type": "text",
        "id": "xukGkwFTET56"
      },
      "source": [
        "### For this we need partial derivations\n",
        "\n",
        "TensorFlow offers automatic differentiation: https://www.tensorflow.org/versions/r2.0/api_docs/python/tf/GradientTape\n",
        "\n",
        "* tape will record operations for automatic differentiation\n",
        "* either by making it record explicily (watch) or \n",
        "* by declaring a varible to be trainable (which we did in the layer above) \n",
        "\n"
      ]
    },
    {
      "cell_type": "code",
      "metadata": {
        "id": "ODYIJbadLtkr",
        "colab_type": "code",
        "colab": {}
      },
      "source": [
        "from tensorflow import GradientTape \n",
        "GradientTape?"
      ],
      "execution_count": 0,
      "outputs": []
    },
    {
      "cell_type": "code",
      "metadata": {
        "id": "6HZyUhPIKJC1",
        "colab_type": "code",
        "outputId": "c20f55fe-0c77-448f-a611-89e3a45a2db8",
        "colab": {
          "base_uri": "https://localhost:8080/",
          "height": 52
        }
      },
      "source": [
        "def tape_sample():\n",
        "  x = tf.Variable(3.0)\n",
        "  with tf.GradientTape() as tape:\n",
        "    y = x * x\n",
        "  print(x, y)\n",
        "  # how is y dependending on x\n",
        "  dy_dx = tape.gradient(y, x)\n",
        "  print(dy_dx)\n",
        "  \n",
        "# just a function in order not to interfere with x on the global scope  \n",
        "tape_sample()"
      ],
      "execution_count": 22,
      "outputs": [
        {
          "output_type": "stream",
          "text": [
            "<tf.Variable 'Variable:0' shape=() dtype=float32, numpy=3.0> tf.Tensor(9.0, shape=(), dtype=float32)\n",
            "tf.Tensor(6.0, shape=(), dtype=float32)\n"
          ],
          "name": "stdout"
        }
      ]
    },
    {
      "cell_type": "markdown",
      "metadata": {
        "id": "YCuIaPriMQc2",
        "colab_type": "text"
      },
      "source": [
        "### Short Exercise: create your own example\n",
        "\n",
        "* first understand the example above: do the values make sense to you?\n",
        "* change the value for x\n",
        "* create your own function\n",
        "* add another variable y depdends on"
      ]
    },
    {
      "cell_type": "code",
      "metadata": {
        "id": "8RxUcXQUWPQ1",
        "colab_type": "code",
        "outputId": "be2efeb1-5421-4353-c74c-a76aee9cad1f",
        "colab": {
          "base_uri": "https://localhost:8080/",
          "height": 52
        }
      },
      "source": [
        "import math\n",
        "\n",
        "def tape_sample():\n",
        "  x = tf.Variable(math.pi)\n",
        "  with tf.GradientTape() as tape:\n",
        "#     y = math.sin(x)\n",
        "    y = tf.sin(x) # when you use mathematic functions, you need to use the tensorflow version\n",
        "  print(x, y)\n",
        "  # how is y dependending on x\n",
        "  dy_dx = tape.gradient(y, x)\n",
        "  print(dy_dx)\n",
        "  \n",
        "# just a function in order not to interfere with x on the global scope  \n",
        "tape_sample()"
      ],
      "execution_count": 23,
      "outputs": [
        {
          "output_type": "stream",
          "text": [
            "<tf.Variable 'Variable:0' shape=() dtype=float32, numpy=3.1415927> tf.Tensor(-8.742278e-08, shape=(), dtype=float32)\n",
            "tf.Tensor(-1.0, shape=(), dtype=float32)\n"
          ],
          "name": "stdout"
        }
      ]
    },
    {
      "cell_type": "markdown",
      "metadata": {
        "id": "IhN9Ced-77fM",
        "colab_type": "text"
      },
      "source": [
        "## Intermediate solution: applying all this to our training loop"
      ]
    },
    {
      "cell_type": "code",
      "metadata": {
        "id": "wUCDpfRE7_5o",
        "colab_type": "code",
        "colab": {}
      },
      "source": [
        "linear_layer = LinearLayer()\n",
        "\n",
        "EPOCHS = 500\n",
        "learning_rate = 0.01\n",
        "\n",
        "losses = []\n",
        "\n",
        "for step in range(EPOCHS):\n",
        "  with tf.GradientTape() as tape:\n",
        "\n",
        "    # forward pass, all data\n",
        "    # often we do not use all data to calculate the loss, but only a certain fraction, called the batch\n",
        "    # you could also push data through one by one, being an extreme version of a batched approached\n",
        "    # in our case we use all the data we have and calculate the combined error\n",
        "    y_pred = linear_layer(x_tensor)\n",
        "\n",
        "    # loss for this batch\n",
        "    loss = tf.losses.mean_squared_error(y_true=tf.squeeze(y_tensor), y_pred=tf.squeeze(y_pred))\n",
        "    \n",
        "  # just for logging\n",
        "  losses.append(loss)\n",
        "\n",
        "  # get gradients of weights wrt the loss\n",
        "  (dw, db) = tape.gradient(loss, linear_layer.trainable_weights)\n",
        "  \n",
        "  # optimizer: backward pass, changing trainable weights in the direction of the mimimum\n",
        "  linear_layer.w.assign_sub(learning_rate * dw)\n",
        "  linear_layer.b.assign_sub(learning_rate * db)"
      ],
      "execution_count": 0,
      "outputs": []
    },
    {
      "cell_type": "code",
      "metadata": {
        "id": "CtnO71lW8Lda",
        "colab_type": "code",
        "outputId": "339226b3-6d39-4a0d-e083-f68f264bf831",
        "colab": {
          "base_uri": "https://localhost:8080/",
          "height": 500
        }
      },
      "source": [
        "plt.xlabel('epochs')\n",
        "plt.ylabel('loss')\n",
        "\n",
        "plt.yscale('log')\n",
        "\n",
        "plt.plot(losses);"
      ],
      "execution_count": 25,
      "outputs": [
        {
          "output_type": "display_data",
          "data": {
            "image/png": "[encoded data removed]",
            "text/plain": [
              "<Figure size 1440x576 with 1 Axes>"
            ]
          },
          "metadata": {
            "tags": []
          }
        }
      ]
    },
    {
      "cell_type": "code",
      "metadata": {
        "id": "UYg_2zkq8VJT",
        "colab_type": "code",
        "outputId": "8ad3b04d-2788-4ed1-bcb3-52724ab7e47c",
        "colab": {
          "base_uri": "https://localhost:8080/",
          "height": 486
        }
      },
      "source": [
        "y_pred = linear_layer(x_tensor)\n",
        "plt.plot(x, y_pred, color='r')\n",
        "plt.scatter(x, y);"
      ],
      "execution_count": 26,
      "outputs": [
        {
          "output_type": "display_data",
          "data": {
            "image/png": "[encoded data removed]",
            "text/plain": [
              "<Figure size 1440x576 with 1 Axes>"
            ]
          },
          "metadata": {
            "tags": []
          }
        }
      ]
    },
    {
      "cell_type": "markdown",
      "metadata": {
        "id": "N7UPe4pP8vkW",
        "colab_type": "text"
      },
      "source": [
        "## Final step: Changing parameters"
      ]
    },
    {
      "cell_type": "markdown",
      "metadata": {
        "colab_type": "text",
        "id": "vbOJfrtgDQiM"
      },
      "source": [
        "## Prebuilt Optimizers do this job (but a bit more efficient and sohpisticated)\n",
        "\n",
        "* http://cs231n.github.io/optimization-1/\n",
        "* http://cs231n.github.io/neural-networks-3/#update\n",
        "* How they sound: http://blog.christianperone.com/2019/08/listening-to-the-neural-network-gradient-norms-during-training/"
      ]
    },
    {
      "cell_type": "code",
      "metadata": {
        "colab_type": "code",
        "id": "eD2YbeHdDM9y",
        "colab": {}
      },
      "source": [
        "optimizer = tf.keras.optimizers.SGD(learning_rate=1e-2)"
      ],
      "execution_count": 0,
      "outputs": []
    },
    {
      "cell_type": "code",
      "metadata": {
        "colab_type": "code",
        "id": "cEuzqGgktmut",
        "colab": {}
      },
      "source": [
        "EPOCHS = 1000\n",
        "\n",
        "losses = []\n",
        "\n",
        "linear_layer = LinearLayer()\n",
        "\n",
        "for step in range(EPOCHS):\n",
        "  with tf.GradientTape() as tape:\n",
        "\n",
        "    # forward pass, all data\n",
        "    # often we do not use all data to calculate the loss, but only a certain fraction, called the batch\n",
        "    # you could also push data through one by one, being an extreme version of a batched approached\n",
        "    # in our case we use all the data we have and calculate the combined error\n",
        "    y_pred = linear_layer(x_tensor)\n",
        "\n",
        "    # loss for this batch\n",
        "    loss = tf.losses.mean_squared_error(y_true=tf.squeeze(y_tensor), y_pred=tf.squeeze(y_pred))\n",
        "    \n",
        "  # just for logging\n",
        "  losses.append(loss)\n",
        "\n",
        "  # Get gradients of weights wrt the loss.\n",
        "  gradients = tape.gradient(loss, linear_layer.trainable_weights)\n",
        "  \n",
        "  # Update the weights of our linear layer.\n",
        "  optimizer.apply_gradients(zip(gradients, linear_layer.trainable_weights))"
      ],
      "execution_count": 0,
      "outputs": []
    },
    {
      "cell_type": "code",
      "metadata": {
        "colab_type": "code",
        "id": "cqA4saqR0kbq",
        "outputId": "a614b34c-16dc-4f1b-8c40-04295c35c1a6",
        "colab": {
          "base_uri": "https://localhost:8080/",
          "height": 500
        }
      },
      "source": [
        "plt.yscale('log')\n",
        "plt.ylabel(\"loss\")\n",
        "plt.xlabel(\"epochs\")\n",
        "\n",
        "plt.plot(losses);"
      ],
      "execution_count": 29,
      "outputs": [
        {
          "output_type": "display_data",
          "data": {
            "image/png": "[encoded data removed]",
            "text/plain": [
              "<Figure size 1440x576 with 1 Axes>"
            ]
          },
          "metadata": {
            "tags": []
          }
        }
      ]
    },
    {
      "cell_type": "code",
      "metadata": {
        "colab_type": "code",
        "id": "uAQ-LCTW2KkH",
        "outputId": "94b299cd-c072-451f-872e-f5cfc80d30c4",
        "colab": {
          "base_uri": "https://localhost:8080/",
          "height": 487
        }
      },
      "source": [
        "y_pred = linear_layer(x_tensor)\n",
        "plt.plot(x, y_pred, color='r')\n",
        "plt.scatter(x, y);"
      ],
      "execution_count": 30,
      "outputs": [
        {
          "output_type": "display_data",
          "data": {
            "image/png": "[encoded data removed]",
            "text/plain": [
              "<Figure size 1440x576 with 1 Axes>"
            ]
          },
          "metadata": {
            "tags": []
          }
        }
      ]
    },
    {
      "cell_type": "markdown",
      "metadata": {
        "colab_type": "text",
        "id": "jZzGU633WNvt"
      },
      "source": [
        "## The same solution using high level Keas API"
      ]
    },
    {
      "cell_type": "code",
      "metadata": {
        "colab_type": "code",
        "id": "STfOU_LmVAnj",
        "outputId": "6102157e-b2f8-4ff8-bdf3-74e9f706fc0c",
        "colab": {
          "base_uri": "https://localhost:8080/",
          "height": 192
        }
      },
      "source": [
        "from tensorflow.keras.layers import Dense\n",
        " \n",
        "model = tf.keras.Sequential([\n",
        "  Dense(units=1, input_dim=1)                   \n",
        "])\n",
        "model.summary()"
      ],
      "execution_count": 31,
      "outputs": [
        {
          "output_type": "stream",
          "text": [
            "Model: \"sequential\"\n",
            "_________________________________________________________________\n",
            "Layer (type)                 Output Shape              Param #   \n",
            "=================================================================\n",
            "dense (Dense)                (None, 1)                 2         \n",
            "=================================================================\n",
            "Total params: 2\n",
            "Trainable params: 2\n",
            "Non-trainable params: 0\n",
            "_________________________________________________________________\n"
          ],
          "name": "stdout"
        }
      ]
    },
    {
      "cell_type": "code",
      "metadata": {
        "colab_type": "code",
        "id": "_Vffpso6WpgK",
        "outputId": "7f657256-3861-44c8-c3ea-3b34fa827b83",
        "colab": {
          "base_uri": "https://localhost:8080/",
          "height": 52
        }
      },
      "source": [
        "%%time \n",
        "\n",
        "model.compile(loss=tf.losses.mean_squared_error, # mean squared error, unchanged from low level example\n",
        "             optimizer=tf.keras.optimizers.SGD(learning_rate=1e-2), # SGD, unchanged from low level example\n",
        "             metrics=[r2_metric]) # we can track the r2 metric over time\n",
        "\n",
        "# does a similar thing internally as our loop from above\n",
        "history = model.fit(x, y, epochs=1000, verbose=0)"
      ],
      "execution_count": 32,
      "outputs": [
        {
          "output_type": "stream",
          "text": [
            "CPU times: user 9.18 s, sys: 830 ms, total: 10 s\n",
            "Wall time: 7.52 s\n"
          ],
          "name": "stdout"
        }
      ]
    },
    {
      "cell_type": "code",
      "metadata": {
        "colab_type": "code",
        "id": "NfKDwhCiWkRI",
        "outputId": "903fb91d-589a-44db-ccc2-602b282f6aec",
        "colab": {
          "base_uri": "https://localhost:8080/",
          "height": 34
        }
      },
      "source": [
        "loss, r2 = model.evaluate(x, y, verbose=0)\n",
        "loss, r2"
      ],
      "execution_count": 33,
      "outputs": [
        {
          "output_type": "execute_result",
          "data": {
            "text/plain": [
              "(0.013342659547924995, 0.8432117)"
            ]
          },
          "metadata": {
            "tags": []
          },
          "execution_count": 33
        }
      ]
    },
    {
      "cell_type": "code",
      "metadata": {
        "colab_type": "code",
        "id": "O61MfB85aMT6",
        "outputId": "5fb90a52-516a-4e7e-bea2-52343ad53ea5",
        "colab": {
          "base_uri": "https://localhost:8080/",
          "height": 513
        }
      },
      "source": [
        "plt.yscale('log')\n",
        "plt.ylabel(\"loss\")\n",
        "plt.xlabel(\"epochs\")\n",
        "plt.title('Loss over Epochs (log scale)')\n",
        "\n",
        "plt.plot(history.history['loss']);"
      ],
      "execution_count": 34,
      "outputs": [
        {
          "output_type": "display_data",
          "data": {
            "image/png": "[encoded data removed]",
            "text/plain": [
              "<Figure size 1440x576 with 1 Axes>"
            ]
          },
          "metadata": {
            "tags": []
          }
        }
      ]
    },
    {
      "cell_type": "code",
      "metadata": {
        "colab_type": "code",
        "id": "N2U7B9ZEaKAz",
        "outputId": "90a868d6-e3f0-4abe-d887-0eca6110deb3",
        "colab": {
          "base_uri": "https://localhost:8080/",
          "height": 513
        }
      },
      "source": [
        "plt.ylabel(\"r2\")\n",
        "plt.xlabel(\"epochs\")\n",
        "plt.title('R^2 over Epochs')\n",
        "\n",
        "plt.plot(history.history['r2_metric']);"
      ],
      "execution_count": 35,
      "outputs": [
        {
          "output_type": "display_data",
          "data": {
            "image/png": "[encoded data removed]",
            "text/plain": [
              "<Figure size 1440x576 with 1 Axes>"
            ]
          },
          "metadata": {
            "tags": []
          }
        }
      ]
    },
    {
      "cell_type": "code",
      "metadata": {
        "id": "GbKB2pRfWl6E",
        "colab_type": "code",
        "outputId": "f562ba11-67ab-48b4-bda5-03394da3ce15",
        "colab": {
          "base_uri": "https://localhost:8080/",
          "height": 486
        }
      },
      "source": [
        "y_pred = model.predict(x)\n",
        "plt.plot(x, y_pred, color='red')\n",
        "plt.scatter(x, y);"
      ],
      "execution_count": 36,
      "outputs": [
        {
          "output_type": "display_data",
          "data": {
            "image/png": "[encoded data removed]",
            "text/plain": [
              "<Figure size 1440x576 with 1 Axes>"
            ]
          },
          "metadata": {
            "tags": []
          }
        }
      ]
    },
    {
      "cell_type": "markdown",
      "metadata": {
        "id": "SN4OLJNNyHRk",
        "colab_type": "text"
      },
      "source": [
        "### Exercise: Re-Run experiment with more noise\n",
        "\n",
        "* run the cells above and train our model\n",
        "* change the noise of the line and make it less line like\n",
        "* can you still get good training results?\n",
        "* how would you know? how is the loss changing?"
      ]
    }
  ]
}