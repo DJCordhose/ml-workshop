{
  "nbformat": 4,
  "nbformat_minor": 0,
  "metadata": {
    "colab": {
      "name": "tf-regression-from-scratch.ipynb",
      "provenance": [],
      "include_colab_link": true
    },
    "language_info": {
      "codemirror_mode": {
        "name": "ipython",
        "version": 3
      },
      "file_extension": ".py",
      "mimetype": "text/x-python",
      "name": "python",
      "nbconvert_exporter": "python",
      "pygments_lexer": "ipython3",
      "version": "3.7.3"
    },
    "kernelspec": {
      "display_name": "Python 3",
      "language": "python",
      "name": "python3"
    },
    "accelerator": "GPU"
  },
  "cells": [
    {
      "cell_type": "markdown",
      "metadata": {
        "id": "view-in-github",
        "colab_type": "text"
      },
      "source": [
        "<a href=\"https://colab.research.google.com/github/DJCordhose/ml-workshop/blob/master/notebooks/tf2/tf-regression-from-scratch.ipynb\" target=\"_parent\"><img src=\"https://colab.research.google.com/assets/colab-badge.svg\" alt=\"Open In Colab\"/></a>"
      ]
    },
    {
      "cell_type": "markdown",
      "metadata": {
        "colab_type": "text",
        "id": "XdfXfXK2-CiG"
      },
      "source": [
        "# Regression from Scatch with TensorFlow 2\n",
        "\n",
        "## Objectives\n",
        "\n",
        "- how matrix multiplication is the basis of neural networks\n",
        "- how loss functions work\n",
        "- backpropagation\n",
        "- optimizers\n",
        "- regression\n",
        "\n",
        "## Steps\n",
        "\n",
        "1. Example: 2d: What could x and y be?\n",
        "1. \n",
        "model: linear\n",
        "\n",
        "1. \n",
        "y=mx+b where m is the slope and b is the y-intercept\n",
        "2. \n",
        "m and b are the parameters\n",
        "3. \n",
        "How to tune them in a way to fit the model to the data?\n",
        "2. \n",
        "loss: mse as a mean of telling how far we are off, implement from scratch\n",
        "3. \n",
        "Training loop, simply trying out possibilities, seeing when loss goes down\n",
        "\n",
        "TODO\n",
        "\n",
        "4. Is there a better way?\n",
        "  * always changing by the same factor\n",
        "   * how would we do this with a more complex model with more than just a few parameters?\n",
        "\n",
        "5. \n",
        "drawing: loss in relation to m\n",
        "6. \n",
        "Going down the slope of the loss\n",
        "7. \n",
        "partial derivations \n",
        "8. \n",
        "How to do in tf\n",
        "9. \n",
        "Optimizer\n",
        "\n"
      ]
    },
    {
      "cell_type": "markdown",
      "metadata": {
        "id": "iuUy8f6W-Gns",
        "colab_type": "text"
      },
      "source": [
        "### Challenge: How do we fit the best line possible?"
      ]
    },
    {
      "cell_type": "code",
      "metadata": {
        "id": "j6tt1Z9cEV9m",
        "colab_type": "code",
        "colab": {}
      },
      "source": [
        "import matplotlib.pyplot as plt\n",
        "# plt.xkcd()\n",
        "# plt.style.use('ggplot')\n",
        "%matplotlib inline\n",
        "\n",
        "import matplotlib as mpl\n",
        "mpl.rcParams['figure.figsize'] = (20, 8)"
      ],
      "execution_count": 0,
      "outputs": []
    },
    {
      "cell_type": "code",
      "metadata": {
        "id": "fxRBCo2QIuI9",
        "colab_type": "code",
        "outputId": "f05e285d-ebf1-4c55-af89-a3465b770c25",
        "colab": {
          "base_uri": "https://localhost:8080/",
          "height": 513
        }
      },
      "source": [
        "#@title Configure our example { display-mode: \"form\", run: \"auto\" }\n",
        "\n",
        "# https://colab.research.google.com/notebooks/forms.ipynb\n",
        "\n",
        "n = 120 #@param {type:\"slider\", min:10, max:500, step:1}\n",
        "m = -1 #@param {type:\"slider\", min:-10, max:10, step: 0.1}\n",
        "b = 1 #@param {type:\"slider\", min:-10, max:10, step: 0.1}\n",
        "\n",
        "noise_level = 0.2 #@param {type:\"slider\", min:0.1, max:1.0, step:0.1}\n",
        "\n",
        "title = 'Predict y from x (based on a line with noise)' #@param {type:\"string\"}\n",
        "x_label = 'x' #@param {type:\"string\"}\n",
        "y_label = 'y' #@param {type:\"string\"}\n",
        "\n",
        "import numpy as np\n",
        "\n",
        "a = -1\n",
        "b = 1\n",
        "n = 50\n",
        "noise = 0.1\n",
        "\n",
        "x = np.random.uniform(0, 1, n)\n",
        "y = a*x+b + np.random.normal(0, noise, n)\n",
        "\n",
        "plt.xlabel(x_label)\n",
        "plt.ylabel(y_label)\n",
        "plt.title(title)\n",
        "\n",
        "plt.scatter(x, y);"
      ],
      "execution_count": 2,
      "outputs": [
        {
          "output_type": "display_data",
          "data": {
            "image/png": "[encoded data removed]",
            "text/plain": [
              "<Figure size 1440x576 with 1 Axes>"
            ]
          },
          "metadata": {
            "tags": []
          }
        }
      ]
    },
    {
      "cell_type": "markdown",
      "metadata": {
        "id": "Q37hoRPLKI5H",
        "colab_type": "text"
      },
      "source": [
        "## Exercise: Get familiar with Colab notebooks and the example\n",
        "\n",
        "* Execute all cells up to this point by pressing shift+enter in each cell\n",
        "* Change the title and what is on the axis to match any application you might have\n",
        "* Play with the parameters using the sliders above to get an idea of what kind of problem we are dealing with\n",
        "* If the data does not match your application, adjust it in a reasonable way"
      ]
    },
    {
      "cell_type": "markdown",
      "metadata": {
        "id": "_18EAgpD-NEe",
        "colab_type": "text"
      },
      "source": [
        "## Our model: linear\n",
        "\n",
        "### ```y = m*x + b```\n",
        "\n",
        "* `m` is the slope \n",
        "* `b` is the y-intercept\n"
      ]
    },
    {
      "cell_type": "code",
      "metadata": {
        "colab_type": "code",
        "id": "B988o-LuC2wf",
        "colab": {}
      },
      "source": [
        "class LinearModel:\n",
        "  \n",
        "  def __init__(self, m=0, b=0):\n",
        "    self.m = m\n",
        "    self.b = b\n",
        "    \n",
        "  def __call__(self, x):\n",
        "    y = self.m * x + self.b\n",
        "    return y"
      ],
      "execution_count": 0,
      "outputs": []
    },
    {
      "cell_type": "code",
      "metadata": {
        "id": "a4iCGJG8BURt",
        "colab_type": "code",
        "outputId": "af870184-3be0-4dd6-ce57-37ef556c969a",
        "colab": {
          "base_uri": "https://localhost:8080/",
          "height": 486
        }
      },
      "source": [
        "model = LinearModel()\n",
        "y_pred = model(x)\n",
        "plt.plot(x, y_pred, color='r')\n",
        "plt.scatter(x, y);"
      ],
      "execution_count": 5,
      "outputs": [
        {
          "output_type": "display_data",
          "data": {
            "image/png": "[encoded data removed]",
            "text/plain": [
              "<Figure size 1440x576 with 1 Axes>"
            ]
          },
          "metadata": {
            "tags": []
          }
        }
      ]
    },
    {
      "cell_type": "markdown",
      "metadata": {
        "id": "OfEHyVDQBlgy",
        "colab_type": "text"
      },
      "source": [
        "## How wrong are we?\n",
        "### This is obviously wrong, but how wrong are we?"
      ]
    },
    {
      "cell_type": "code",
      "metadata": {
        "id": "wssjxewwBofu",
        "colab_type": "code",
        "outputId": "e58ea922-adfb-476f-f94d-38792ce54569",
        "colab": {
          "base_uri": "https://localhost:8080/",
          "height": 34
        }
      },
      "source": [
        "def loss1(y_true, y_pred):\n",
        "  return np.sum(y_true - y_pred)\n",
        "loss1(y, y_pred)"
      ],
      "execution_count": 6,
      "outputs": [
        {
          "output_type": "execute_result",
          "data": {
            "text/plain": [
              "24.741813520085504"
            ]
          },
          "metadata": {
            "tags": []
          },
          "execution_count": 6
        }
      ]
    },
    {
      "cell_type": "code",
      "metadata": {
        "id": "ljcSucGuCL1T",
        "colab_type": "code",
        "outputId": "7ecdde61-1369-49b9-bbe9-94edbc1d3d4c",
        "colab": {
          "base_uri": "https://localhost:8080/",
          "height": 34
        }
      },
      "source": [
        "def loss_no_negative(y_true, y_pred):\n",
        "  return np.sum(np.abs(y_true - y_pred))\n",
        "loss_no_negative(y, y_pred)"
      ],
      "execution_count": 7,
      "outputs": [
        {
          "output_type": "execute_result",
          "data": {
            "text/plain": [
              "24.797823464861658"
            ]
          },
          "metadata": {
            "tags": []
          },
          "execution_count": 7
        }
      ]
    },
    {
      "cell_type": "code",
      "metadata": {
        "id": "1yzLG9n6CjIs",
        "colab_type": "code",
        "outputId": "2cbb50e9-ae86-449d-b7e3-2605e330982a",
        "colab": {
          "base_uri": "https://localhost:8080/",
          "height": 34
        }
      },
      "source": [
        "def loss_no_negative_normalize(y_true, y_pred):\n",
        "  return np.sum(np.abs(y_true - y_pred)) / len(y_true)\n",
        "loss_no_negative_normalize(y, y_pred)"
      ],
      "execution_count": 8,
      "outputs": [
        {
          "output_type": "execute_result",
          "data": {
            "text/plain": [
              "0.49595646929723314"
            ]
          },
          "metadata": {
            "tags": []
          },
          "execution_count": 8
        }
      ]
    },
    {
      "cell_type": "markdown",
      "metadata": {
        "id": "-Pq6rCREC3Qr",
        "colab_type": "text"
      },
      "source": [
        "## Trying to bring the loss down in loop"
      ]
    },
    {
      "cell_type": "markdown",
      "metadata": {
        "id": "LrzJzzG1Gh8N",
        "colab_type": "text"
      },
      "source": [
        "### Let's begin with naive implementation\n",
        "\n",
        "1. if we bring m or b up or down, does this improve the loss?\n",
        "1. if so, do it\n",
        "1. rinse and repeat for a number of times"
      ]
    },
    {
      "cell_type": "code",
      "metadata": {
        "id": "CZUySXYNScOx",
        "colab_type": "code",
        "outputId": "8c435c43-79ce-4290-9447-dcdfa91be669",
        "colab": {
          "base_uri": "https://localhost:8080/",
          "height": 34
        }
      },
      "source": [
        "model = LinearModel()\n",
        "\n",
        "EPOCHS = 500\n",
        "learning_rate = 0.01\n",
        "\n",
        "losses = []\n",
        "\n",
        "for step in range(EPOCHS):\n",
        "  y_pred = model(x)\n",
        "  \n",
        "  loss = loss_no_negative_normalize(y, y_pred)\n",
        "    \n",
        "  # just for logging\n",
        "  losses.append(loss)\n",
        "  \n",
        "  # let's try m\n",
        "  new_model = LinearModel(m = model.m + learning_rate, b = model.b)\n",
        "  new_y_pred = new_model(x)\n",
        "  new_loss = loss_no_negative_normalize(y, new_y_pred)\n",
        "  \n",
        "  if new_loss < loss:\n",
        "    model.m += learning_rate\n",
        "  else:\n",
        "    model.m -= learning_rate\n",
        "    \n",
        "  # then b\n",
        "  new_model = LinearModel(m = model.m, b = model.b + learning_rate)\n",
        "  new_y_pred = new_model(x)\n",
        "  new_loss = loss_no_negative_normalize(y, new_y_pred)\n",
        "  \n",
        "  if new_loss < loss:\n",
        "    model.b += learning_rate\n",
        "  else:\n",
        "    model.b -= learning_rate\n",
        "\n",
        "\n",
        "model.m, model.b    "
      ],
      "execution_count": 9,
      "outputs": [
        {
          "output_type": "execute_result",
          "data": {
            "text/plain": [
              "(-0.9400000000000006, 0.9400000000000006)"
            ]
          },
          "metadata": {
            "tags": []
          },
          "execution_count": 9
        }
      ]
    },
    {
      "cell_type": "code",
      "metadata": {
        "id": "2oP8Ggt_Gvp3",
        "colab_type": "code",
        "outputId": "301a7600-e230-4fd1-f559-f1ba52aa62f7",
        "colab": {
          "base_uri": "https://localhost:8080/",
          "height": 486
        }
      },
      "source": [
        "y_pred = model(x)\n",
        "plt.plot(x, y_pred, color='r')\n",
        "plt.scatter(x, y);"
      ],
      "execution_count": 10,
      "outputs": [
        {
          "output_type": "display_data",
          "data": {
            "image/png": "[encoded data removed]",
            "text/plain": [
              "<Figure size 1440x576 with 1 Axes>"
            ]
          },
          "metadata": {
            "tags": []
          }
        }
      ]
    },
    {
      "cell_type": "code",
      "metadata": {
        "id": "x_3PHObDDiEd",
        "colab_type": "code",
        "outputId": "8d0806cf-cc55-437e-e057-300faf57845e",
        "colab": {
          "base_uri": "https://localhost:8080/",
          "height": 486
        }
      },
      "source": [
        "# plt.yscale('log')\n",
        "plt.plot(losses);"
      ],
      "execution_count": 11,
      "outputs": [
        {
          "output_type": "display_data",
          "data": {
            "image/png": "[encoded data removed]",
            "text/plain": [
              "<Figure size 1440x576 with 1 Axes>"
            ]
          },
          "metadata": {
            "tags": []
          }
        }
      ]
    },
    {
      "cell_type": "markdown",
      "metadata": {
        "id": "6Ms_6xMGIQjK",
        "colab_type": "text"
      },
      "source": [
        "## We already have a working solution"
      ]
    },
    {
      "cell_type": "markdown",
      "metadata": {
        "id": "YmGc7CiaIbSg",
        "colab_type": "text"
      },
      "source": [
        "### But does this scale to an example with many more parameters and more inputs?\n",
        "\n",
        "1. Calculating the output might be expensive\n",
        "2. Trying out all parameters in a random we like we do would have a bad performance for a large problem\n",
        "3. Wouldn't we also need to try them in combination?"
      ]
    },
    {
      "cell_type": "markdown",
      "metadata": {
        "id": "R59mTAYHIVTE",
        "colab_type": "text"
      },
      "source": [
        "\n",
        "### Let's see what we need to change for this to become a state of the art neural network using TensorFlow 2\n",
        "\n",
        "1. Replace our model with a matrix multiplication\n",
        "\n",
        "   * Scales well for as many neurons and inputs as we want\n",
        "   * Efficient implementation on GPUs\n",
        "\n",
        "2. Loss\n",
        "\n",
        "3. Finding parameters to tune\n",
        "\n",
        "4. Changing parameters"
      ]
    },
    {
      "cell_type": "code",
      "metadata": {
        "id": "DtzrKPbRIUrm",
        "colab_type": "code",
        "colab": {}
      },
      "source": [
        ""
      ],
      "execution_count": 0,
      "outputs": []
    },
    {
      "cell_type": "code",
      "metadata": {
        "id": "wdqgj24ZF5xf",
        "colab_type": "code",
        "colab": {}
      },
      "source": [
        ""
      ],
      "execution_count": 0,
      "outputs": []
    }
  ]
}