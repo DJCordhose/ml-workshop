{
  "nbformat": 4,
  "nbformat_minor": 0,
  "metadata": {
    "colab": {
      "name": "images-skeleton.ipynb",
      "version": "0.3.2",
      "provenance": [],
      "include_colab_link": true
    },
    "kernelspec": {
      "display_name": "Python 3",
      "language": "python",
      "name": "python3"
    },
    "accelerator": "GPU"
  },
  "cells": [
    {
      "cell_type": "markdown",
      "metadata": {
        "id": "view-in-github",
        "colab_type": "text"
      },
      "source": [
        "<a href=\"https://colab.research.google.com/github/DJCordhose/ml-workshop/blob/master/notebooks/tf2/images-skeleton.ipynb\" target=\"_parent\"><img src=\"https://colab.research.google.com/assets/colab-badge.svg\" alt=\"Open In Colab\"/></a>"
      ]
    },
    {
      "cell_type": "markdown",
      "metadata": {
        "colab_type": "text",
        "id": "XdfXfXK2-CiG"
      },
      "source": [
        "# Skeleton for Sequences and Time Series data\n",
        "\n",
        "* OPSD time series data set explained here: https://www.dataquest.io/blog/tutorial-time-series-analysis-with-pandas/"
      ]
    },
    {
      "cell_type": "code",
      "metadata": {
        "id": "iztUacrB_hEZ",
        "colab_type": "code",
        "outputId": "5f7da8c0-f5e7-4361-877c-8ce3c50a844b",
        "colab": {
          "base_uri": "https://localhost:8080/",
          "height": 34
        }
      },
      "source": [
        "import pandas as pd\n",
        "print(pd.__version__)"
      ],
      "execution_count": 1,
      "outputs": [
        {
          "output_type": "stream",
          "text": [
            "0.24.2\n"
          ],
          "name": "stdout"
        }
      ]
    },
    {
      "cell_type": "code",
      "metadata": {
        "id": "96G78a9HJKN7",
        "colab_type": "code",
        "outputId": "527622f8-1444-4ab3-ed05-a9f400c5c03f",
        "colab": {
          "base_uri": "https://localhost:8080/",
          "height": 34
        }
      },
      "source": [
        "import numpy as np\n",
        "print(np.__version__)"
      ],
      "execution_count": 2,
      "outputs": [
        {
          "output_type": "stream",
          "text": [
            "1.16.4\n"
          ],
          "name": "stdout"
        }
      ]
    },
    {
      "cell_type": "markdown",
      "metadata": {
        "id": "I0-PsNWjTX9O",
        "colab_type": "text"
      },
      "source": [
        "## Standard Case: explicit time stamp\n",
        "\n",
        "* each entry belongs to one time stamp\n",
        "* we just have a sequence of events\n",
        "\n",
        "_let me know if your case looks different_"
      ]
    },
    {
      "cell_type": "code",
      "metadata": {
        "id": "k48asHbSO6Bo",
        "colab_type": "code",
        "colab": {}
      },
      "source": [
        "pd.read_csv?"
      ],
      "execution_count": 0,
      "outputs": []
    },
    {
      "cell_type": "code",
      "metadata": {
        "id": "rSpXyDZ5MbgE",
        "colab_type": "code",
        "colab": {}
      },
      "source": [
        "time_series_df = pd.read_csv('https://raw.githubusercontent.com/jenfly/opsd/master/opsd_germany_daily.csv', \n",
        "                             sep=',', \n",
        "                             index_col=0, # you can use the date as the index for pandas\n",
        "                             parse_dates=[0]) # where is the time stamp?"
      ],
      "execution_count": 0,
      "outputs": []
    },
    {
      "cell_type": "code",
      "metadata": {
        "id": "5AswjI-4MsFP",
        "colab_type": "code",
        "outputId": "b90e1ed2-eda1-4805-e9ab-b734226704e2",
        "colab": {
          "base_uri": "https://localhost:8080/",
          "height": 34
        }
      },
      "source": [
        "time_series_df.shape"
      ],
      "execution_count": 5,
      "outputs": [
        {
          "output_type": "execute_result",
          "data": {
            "text/plain": [
              "(4383, 4)"
            ]
          },
          "metadata": {
            "tags": []
          },
          "execution_count": 5
        }
      ]
    },
    {
      "cell_type": "code",
      "metadata": {
        "id": "ucBDKuZsR8J9",
        "colab_type": "code",
        "outputId": "4bc95b60-3a17-41e8-f1a9-9dce9d7fd19c",
        "colab": {
          "base_uri": "https://localhost:8080/",
          "height": 102
        }
      },
      "source": [
        "time_series_df.dtypes"
      ],
      "execution_count": 6,
      "outputs": [
        {
          "output_type": "execute_result",
          "data": {
            "text/plain": [
              "Consumption    float64\n",
              "Wind           float64\n",
              "Solar          float64\n",
              "Wind+Solar     float64\n",
              "dtype: object"
            ]
          },
          "metadata": {
            "tags": []
          },
          "execution_count": 6
        }
      ]
    },
    {
      "cell_type": "code",
      "metadata": {
        "id": "dA3-6YsyMuH4",
        "colab_type": "code",
        "outputId": "3825e513-ced7-487d-b4c9-13ffb4061449",
        "colab": {
          "base_uri": "https://localhost:8080/",
          "height": 235
        }
      },
      "source": [
        "time_series_df.head()"
      ],
      "execution_count": 7,
      "outputs": [
        {
          "output_type": "execute_result",
          "data": {
            "text/html": [
              "<div>\n",
              "<style scoped>\n",
              "    .dataframe tbody tr th:only-of-type {\n",
              "        vertical-align: middle;\n",
              "    }\n",
              "\n",
              "    .dataframe tbody tr th {\n",
              "        vertical-align: top;\n",
              "    }\n",
              "\n",
              "    .dataframe thead th {\n",
              "        text-align: right;\n",
              "    }\n",
              "</style>\n",
              "<table border=\"1\" class=\"dataframe\">\n",
              "  <thead>\n",
              "    <tr style=\"text-align: right;\">\n",
              "      <th></th>\n",
              "      <th>Consumption</th>\n",
              "      <th>Wind</th>\n",
              "      <th>Solar</th>\n",
              "      <th>Wind+Solar</th>\n",
              "    </tr>\n",
              "    <tr>\n",
              "      <th>Date</th>\n",
              "      <th></th>\n",
              "      <th></th>\n",
              "      <th></th>\n",
              "      <th></th>\n",
              "    </tr>\n",
              "  </thead>\n",
              "  <tbody>\n",
              "    <tr>\n",
              "      <th>2006-01-01</th>\n",
              "      <td>1069.184</td>\n",
              "      <td>NaN</td>\n",
              "      <td>NaN</td>\n",
              "      <td>NaN</td>\n",
              "    </tr>\n",
              "    <tr>\n",
              "      <th>2006-01-02</th>\n",
              "      <td>1380.521</td>\n",
              "      <td>NaN</td>\n",
              "      <td>NaN</td>\n",
              "      <td>NaN</td>\n",
              "    </tr>\n",
              "    <tr>\n",
              "      <th>2006-01-03</th>\n",
              "      <td>1442.533</td>\n",
              "      <td>NaN</td>\n",
              "      <td>NaN</td>\n",
              "      <td>NaN</td>\n",
              "    </tr>\n",
              "    <tr>\n",
              "      <th>2006-01-04</th>\n",
              "      <td>1457.217</td>\n",
              "      <td>NaN</td>\n",
              "      <td>NaN</td>\n",
              "      <td>NaN</td>\n",
              "    </tr>\n",
              "    <tr>\n",
              "      <th>2006-01-05</th>\n",
              "      <td>1477.131</td>\n",
              "      <td>NaN</td>\n",
              "      <td>NaN</td>\n",
              "      <td>NaN</td>\n",
              "    </tr>\n",
              "  </tbody>\n",
              "</table>\n",
              "</div>"
            ],
            "text/plain": [
              "            Consumption  Wind  Solar  Wind+Solar\n",
              "Date                                            \n",
              "2006-01-01     1069.184   NaN    NaN         NaN\n",
              "2006-01-02     1380.521   NaN    NaN         NaN\n",
              "2006-01-03     1442.533   NaN    NaN         NaN\n",
              "2006-01-04     1457.217   NaN    NaN         NaN\n",
              "2006-01-05     1477.131   NaN    NaN         NaN"
            ]
          },
          "metadata": {
            "tags": []
          },
          "execution_count": 7
        }
      ]
    },
    {
      "cell_type": "code",
      "metadata": {
        "id": "OXfVWCj6M7Jz",
        "colab_type": "code",
        "outputId": "2295049d-2ef9-4e95-e176-d016f2a9e89d",
        "colab": {
          "base_uri": "https://localhost:8080/",
          "height": 235
        }
      },
      "source": [
        "time_series_df.tail()"
      ],
      "execution_count": 8,
      "outputs": [
        {
          "output_type": "execute_result",
          "data": {
            "text/html": [
              "<div>\n",
              "<style scoped>\n",
              "    .dataframe tbody tr th:only-of-type {\n",
              "        vertical-align: middle;\n",
              "    }\n",
              "\n",
              "    .dataframe tbody tr th {\n",
              "        vertical-align: top;\n",
              "    }\n",
              "\n",
              "    .dataframe thead th {\n",
              "        text-align: right;\n",
              "    }\n",
              "</style>\n",
              "<table border=\"1\" class=\"dataframe\">\n",
              "  <thead>\n",
              "    <tr style=\"text-align: right;\">\n",
              "      <th></th>\n",
              "      <th>Consumption</th>\n",
              "      <th>Wind</th>\n",
              "      <th>Solar</th>\n",
              "      <th>Wind+Solar</th>\n",
              "    </tr>\n",
              "    <tr>\n",
              "      <th>Date</th>\n",
              "      <th></th>\n",
              "      <th></th>\n",
              "      <th></th>\n",
              "      <th></th>\n",
              "    </tr>\n",
              "  </thead>\n",
              "  <tbody>\n",
              "    <tr>\n",
              "      <th>2017-12-27</th>\n",
              "      <td>1263.94091</td>\n",
              "      <td>394.507</td>\n",
              "      <td>16.530</td>\n",
              "      <td>411.037</td>\n",
              "    </tr>\n",
              "    <tr>\n",
              "      <th>2017-12-28</th>\n",
              "      <td>1299.86398</td>\n",
              "      <td>506.424</td>\n",
              "      <td>14.162</td>\n",
              "      <td>520.586</td>\n",
              "    </tr>\n",
              "    <tr>\n",
              "      <th>2017-12-29</th>\n",
              "      <td>1295.08753</td>\n",
              "      <td>584.277</td>\n",
              "      <td>29.854</td>\n",
              "      <td>614.131</td>\n",
              "    </tr>\n",
              "    <tr>\n",
              "      <th>2017-12-30</th>\n",
              "      <td>1215.44897</td>\n",
              "      <td>721.247</td>\n",
              "      <td>7.467</td>\n",
              "      <td>728.714</td>\n",
              "    </tr>\n",
              "    <tr>\n",
              "      <th>2017-12-31</th>\n",
              "      <td>1107.11488</td>\n",
              "      <td>721.176</td>\n",
              "      <td>19.980</td>\n",
              "      <td>741.156</td>\n",
              "    </tr>\n",
              "  </tbody>\n",
              "</table>\n",
              "</div>"
            ],
            "text/plain": [
              "            Consumption     Wind   Solar  Wind+Solar\n",
              "Date                                                \n",
              "2017-12-27   1263.94091  394.507  16.530     411.037\n",
              "2017-12-28   1299.86398  506.424  14.162     520.586\n",
              "2017-12-29   1295.08753  584.277  29.854     614.131\n",
              "2017-12-30   1215.44897  721.247   7.467     728.714\n",
              "2017-12-31   1107.11488  721.176  19.980     741.156"
            ]
          },
          "metadata": {
            "tags": []
          },
          "execution_count": 8
        }
      ]
    },
    {
      "cell_type": "code",
      "metadata": {
        "id": "kp1R6MLsM9SR",
        "colab_type": "code",
        "outputId": "576f18d7-38b3-46ab-c59e-e8d593159607",
        "colab": {
          "base_uri": "https://localhost:8080/",
          "height": 297
        }
      },
      "source": [
        "time_series_df.describe()"
      ],
      "execution_count": 9,
      "outputs": [
        {
          "output_type": "execute_result",
          "data": {
            "text/html": [
              "<div>\n",
              "<style scoped>\n",
              "    .dataframe tbody tr th:only-of-type {\n",
              "        vertical-align: middle;\n",
              "    }\n",
              "\n",
              "    .dataframe tbody tr th {\n",
              "        vertical-align: top;\n",
              "    }\n",
              "\n",
              "    .dataframe thead th {\n",
              "        text-align: right;\n",
              "    }\n",
              "</style>\n",
              "<table border=\"1\" class=\"dataframe\">\n",
              "  <thead>\n",
              "    <tr style=\"text-align: right;\">\n",
              "      <th></th>\n",
              "      <th>Consumption</th>\n",
              "      <th>Wind</th>\n",
              "      <th>Solar</th>\n",
              "      <th>Wind+Solar</th>\n",
              "    </tr>\n",
              "  </thead>\n",
              "  <tbody>\n",
              "    <tr>\n",
              "      <th>count</th>\n",
              "      <td>4383.000000</td>\n",
              "      <td>2920.000000</td>\n",
              "      <td>2188.000000</td>\n",
              "      <td>2187.000000</td>\n",
              "    </tr>\n",
              "    <tr>\n",
              "      <th>mean</th>\n",
              "      <td>1338.675836</td>\n",
              "      <td>164.814173</td>\n",
              "      <td>89.258695</td>\n",
              "      <td>272.663481</td>\n",
              "    </tr>\n",
              "    <tr>\n",
              "      <th>std</th>\n",
              "      <td>165.775710</td>\n",
              "      <td>143.692732</td>\n",
              "      <td>58.550099</td>\n",
              "      <td>146.319884</td>\n",
              "    </tr>\n",
              "    <tr>\n",
              "      <th>min</th>\n",
              "      <td>842.395000</td>\n",
              "      <td>5.757000</td>\n",
              "      <td>1.968000</td>\n",
              "      <td>21.478000</td>\n",
              "    </tr>\n",
              "    <tr>\n",
              "      <th>25%</th>\n",
              "      <td>1217.859000</td>\n",
              "      <td>62.353250</td>\n",
              "      <td>35.179250</td>\n",
              "      <td>172.185500</td>\n",
              "    </tr>\n",
              "    <tr>\n",
              "      <th>50%</th>\n",
              "      <td>1367.123000</td>\n",
              "      <td>119.098000</td>\n",
              "      <td>86.407000</td>\n",
              "      <td>240.991000</td>\n",
              "    </tr>\n",
              "    <tr>\n",
              "      <th>75%</th>\n",
              "      <td>1457.761000</td>\n",
              "      <td>217.900250</td>\n",
              "      <td>135.071500</td>\n",
              "      <td>338.988000</td>\n",
              "    </tr>\n",
              "    <tr>\n",
              "      <th>max</th>\n",
              "      <td>1709.568000</td>\n",
              "      <td>826.278000</td>\n",
              "      <td>241.580000</td>\n",
              "      <td>851.556000</td>\n",
              "    </tr>\n",
              "  </tbody>\n",
              "</table>\n",
              "</div>"
            ],
            "text/plain": [
              "       Consumption         Wind        Solar   Wind+Solar\n",
              "count  4383.000000  2920.000000  2188.000000  2187.000000\n",
              "mean   1338.675836   164.814173    89.258695   272.663481\n",
              "std     165.775710   143.692732    58.550099   146.319884\n",
              "min     842.395000     5.757000     1.968000    21.478000\n",
              "25%    1217.859000    62.353250    35.179250   172.185500\n",
              "50%    1367.123000   119.098000    86.407000   240.991000\n",
              "75%    1457.761000   217.900250   135.071500   338.988000\n",
              "max    1709.568000   826.278000   241.580000   851.556000"
            ]
          },
          "metadata": {
            "tags": []
          },
          "execution_count": 9
        }
      ]
    },
    {
      "cell_type": "code",
      "metadata": {
        "id": "wL9QbbnfND_5",
        "colab_type": "code",
        "outputId": "ff421a27-1b97-4891-f72e-ef538ddc6f0f",
        "colab": {
          "base_uri": "https://localhost:8080/",
          "height": 1000
        }
      },
      "source": [
        "# just january 2017\n",
        "time_series_df['2017-01']"
      ],
      "execution_count": 10,
      "outputs": [
        {
          "output_type": "execute_result",
          "data": {
            "text/html": [
              "<div>\n",
              "<style scoped>\n",
              "    .dataframe tbody tr th:only-of-type {\n",
              "        vertical-align: middle;\n",
              "    }\n",
              "\n",
              "    .dataframe tbody tr th {\n",
              "        vertical-align: top;\n",
              "    }\n",
              "\n",
              "    .dataframe thead th {\n",
              "        text-align: right;\n",
              "    }\n",
              "</style>\n",
              "<table border=\"1\" class=\"dataframe\">\n",
              "  <thead>\n",
              "    <tr style=\"text-align: right;\">\n",
              "      <th></th>\n",
              "      <th>Consumption</th>\n",
              "      <th>Wind</th>\n",
              "      <th>Solar</th>\n",
              "      <th>Wind+Solar</th>\n",
              "    </tr>\n",
              "    <tr>\n",
              "      <th>Date</th>\n",
              "      <th></th>\n",
              "      <th></th>\n",
              "      <th></th>\n",
              "      <th></th>\n",
              "    </tr>\n",
              "  </thead>\n",
              "  <tbody>\n",
              "    <tr>\n",
              "      <th>2017-01-01</th>\n",
              "      <td>1130.413</td>\n",
              "      <td>307.125</td>\n",
              "      <td>35.291</td>\n",
              "      <td>342.416</td>\n",
              "    </tr>\n",
              "    <tr>\n",
              "      <th>2017-01-02</th>\n",
              "      <td>1441.052</td>\n",
              "      <td>295.099</td>\n",
              "      <td>12.479</td>\n",
              "      <td>307.578</td>\n",
              "    </tr>\n",
              "    <tr>\n",
              "      <th>2017-01-03</th>\n",
              "      <td>1529.990</td>\n",
              "      <td>666.173</td>\n",
              "      <td>9.351</td>\n",
              "      <td>675.524</td>\n",
              "    </tr>\n",
              "    <tr>\n",
              "      <th>2017-01-04</th>\n",
              "      <td>1553.083</td>\n",
              "      <td>686.578</td>\n",
              "      <td>12.814</td>\n",
              "      <td>699.392</td>\n",
              "    </tr>\n",
              "    <tr>\n",
              "      <th>2017-01-05</th>\n",
              "      <td>1547.238</td>\n",
              "      <td>261.758</td>\n",
              "      <td>20.797</td>\n",
              "      <td>282.555</td>\n",
              "    </tr>\n",
              "    <tr>\n",
              "      <th>2017-01-06</th>\n",
              "      <td>1501.795</td>\n",
              "      <td>115.723</td>\n",
              "      <td>33.341</td>\n",
              "      <td>149.064</td>\n",
              "    </tr>\n",
              "    <tr>\n",
              "      <th>2017-01-07</th>\n",
              "      <td>1405.145</td>\n",
              "      <td>252.307</td>\n",
              "      <td>8.387</td>\n",
              "      <td>260.694</td>\n",
              "    </tr>\n",
              "    <tr>\n",
              "      <th>2017-01-08</th>\n",
              "      <td>1301.011</td>\n",
              "      <td>41.261</td>\n",
              "      <td>4.991</td>\n",
              "      <td>46.252</td>\n",
              "    </tr>\n",
              "    <tr>\n",
              "      <th>2017-01-09</th>\n",
              "      <td>1604.348</td>\n",
              "      <td>190.983</td>\n",
              "      <td>7.070</td>\n",
              "      <td>198.053</td>\n",
              "    </tr>\n",
              "    <tr>\n",
              "      <th>2017-01-10</th>\n",
              "      <td>1639.046</td>\n",
              "      <td>280.373</td>\n",
              "      <td>13.045</td>\n",
              "      <td>293.418</td>\n",
              "    </tr>\n",
              "    <tr>\n",
              "      <th>2017-01-11</th>\n",
              "      <td>1654.809</td>\n",
              "      <td>637.259</td>\n",
              "      <td>7.379</td>\n",
              "      <td>644.638</td>\n",
              "    </tr>\n",
              "    <tr>\n",
              "      <th>2017-01-12</th>\n",
              "      <td>1620.597</td>\n",
              "      <td>584.792</td>\n",
              "      <td>17.865</td>\n",
              "      <td>602.657</td>\n",
              "    </tr>\n",
              "    <tr>\n",
              "      <th>2017-01-13</th>\n",
              "      <td>1608.895</td>\n",
              "      <td>518.618</td>\n",
              "      <td>14.311</td>\n",
              "      <td>532.929</td>\n",
              "    </tr>\n",
              "    <tr>\n",
              "      <th>2017-01-14</th>\n",
              "      <td>1392.736</td>\n",
              "      <td>487.189</td>\n",
              "      <td>16.767</td>\n",
              "      <td>503.956</td>\n",
              "    </tr>\n",
              "    <tr>\n",
              "      <th>2017-01-15</th>\n",
              "      <td>1289.904</td>\n",
              "      <td>229.770</td>\n",
              "      <td>16.105</td>\n",
              "      <td>245.875</td>\n",
              "    </tr>\n",
              "    <tr>\n",
              "      <th>2017-01-16</th>\n",
              "      <td>1605.465</td>\n",
              "      <td>69.209</td>\n",
              "      <td>17.600</td>\n",
              "      <td>86.809</td>\n",
              "    </tr>\n",
              "    <tr>\n",
              "      <th>2017-01-17</th>\n",
              "      <td>1649.104</td>\n",
              "      <td>79.363</td>\n",
              "      <td>22.909</td>\n",
              "      <td>102.272</td>\n",
              "    </tr>\n",
              "    <tr>\n",
              "      <th>2017-01-18</th>\n",
              "      <td>1669.395</td>\n",
              "      <td>148.915</td>\n",
              "      <td>22.709</td>\n",
              "      <td>171.624</td>\n",
              "    </tr>\n",
              "    <tr>\n",
              "      <th>2017-01-19</th>\n",
              "      <td>1667.477</td>\n",
              "      <td>121.272</td>\n",
              "      <td>38.191</td>\n",
              "      <td>159.463</td>\n",
              "    </tr>\n",
              "    <tr>\n",
              "      <th>2017-01-20</th>\n",
              "      <td>1641.737</td>\n",
              "      <td>109.383</td>\n",
              "      <td>39.633</td>\n",
              "      <td>149.016</td>\n",
              "    </tr>\n",
              "    <tr>\n",
              "      <th>2017-01-21</th>\n",
              "      <td>1423.020</td>\n",
              "      <td>78.893</td>\n",
              "      <td>45.477</td>\n",
              "      <td>124.370</td>\n",
              "    </tr>\n",
              "    <tr>\n",
              "      <th>2017-01-22</th>\n",
              "      <td>1340.341</td>\n",
              "      <td>50.774</td>\n",
              "      <td>47.386</td>\n",
              "      <td>98.160</td>\n",
              "    </tr>\n",
              "    <tr>\n",
              "      <th>2017-01-23</th>\n",
              "      <td>1663.492</td>\n",
              "      <td>39.710</td>\n",
              "      <td>30.939</td>\n",
              "      <td>70.649</td>\n",
              "    </tr>\n",
              "    <tr>\n",
              "      <th>2017-01-24</th>\n",
              "      <td>1682.002</td>\n",
              "      <td>31.375</td>\n",
              "      <td>10.300</td>\n",
              "      <td>41.675</td>\n",
              "    </tr>\n",
              "    <tr>\n",
              "      <th>2017-01-25</th>\n",
              "      <td>1674.171</td>\n",
              "      <td>70.772</td>\n",
              "      <td>17.720</td>\n",
              "      <td>88.492</td>\n",
              "    </tr>\n",
              "    <tr>\n",
              "      <th>2017-01-26</th>\n",
              "      <td>1659.527</td>\n",
              "      <td>235.128</td>\n",
              "      <td>56.487</td>\n",
              "      <td>291.615</td>\n",
              "    </tr>\n",
              "    <tr>\n",
              "      <th>2017-01-27</th>\n",
              "      <td>1629.164</td>\n",
              "      <td>254.270</td>\n",
              "      <td>68.625</td>\n",
              "      <td>322.895</td>\n",
              "    </tr>\n",
              "    <tr>\n",
              "      <th>2017-01-28</th>\n",
              "      <td>1394.033</td>\n",
              "      <td>208.827</td>\n",
              "      <td>65.964</td>\n",
              "      <td>274.791</td>\n",
              "    </tr>\n",
              "    <tr>\n",
              "      <th>2017-01-29</th>\n",
              "      <td>1296.170</td>\n",
              "      <td>304.952</td>\n",
              "      <td>53.854</td>\n",
              "      <td>358.806</td>\n",
              "    </tr>\n",
              "    <tr>\n",
              "      <th>2017-01-30</th>\n",
              "      <td>1605.356</td>\n",
              "      <td>338.292</td>\n",
              "      <td>18.577</td>\n",
              "      <td>356.869</td>\n",
              "    </tr>\n",
              "    <tr>\n",
              "      <th>2017-01-31</th>\n",
              "      <td>1620.860</td>\n",
              "      <td>124.784</td>\n",
              "      <td>12.064</td>\n",
              "      <td>136.848</td>\n",
              "    </tr>\n",
              "  </tbody>\n",
              "</table>\n",
              "</div>"
            ],
            "text/plain": [
              "            Consumption     Wind   Solar  Wind+Solar\n",
              "Date                                                \n",
              "2017-01-01     1130.413  307.125  35.291     342.416\n",
              "2017-01-02     1441.052  295.099  12.479     307.578\n",
              "2017-01-03     1529.990  666.173   9.351     675.524\n",
              "2017-01-04     1553.083  686.578  12.814     699.392\n",
              "2017-01-05     1547.238  261.758  20.797     282.555\n",
              "2017-01-06     1501.795  115.723  33.341     149.064\n",
              "2017-01-07     1405.145  252.307   8.387     260.694\n",
              "2017-01-08     1301.011   41.261   4.991      46.252\n",
              "2017-01-09     1604.348  190.983   7.070     198.053\n",
              "2017-01-10     1639.046  280.373  13.045     293.418\n",
              "2017-01-11     1654.809  637.259   7.379     644.638\n",
              "2017-01-12     1620.597  584.792  17.865     602.657\n",
              "2017-01-13     1608.895  518.618  14.311     532.929\n",
              "2017-01-14     1392.736  487.189  16.767     503.956\n",
              "2017-01-15     1289.904  229.770  16.105     245.875\n",
              "2017-01-16     1605.465   69.209  17.600      86.809\n",
              "2017-01-17     1649.104   79.363  22.909     102.272\n",
              "2017-01-18     1669.395  148.915  22.709     171.624\n",
              "2017-01-19     1667.477  121.272  38.191     159.463\n",
              "2017-01-20     1641.737  109.383  39.633     149.016\n",
              "2017-01-21     1423.020   78.893  45.477     124.370\n",
              "2017-01-22     1340.341   50.774  47.386      98.160\n",
              "2017-01-23     1663.492   39.710  30.939      70.649\n",
              "2017-01-24     1682.002   31.375  10.300      41.675\n",
              "2017-01-25     1674.171   70.772  17.720      88.492\n",
              "2017-01-26     1659.527  235.128  56.487     291.615\n",
              "2017-01-27     1629.164  254.270  68.625     322.895\n",
              "2017-01-28     1394.033  208.827  65.964     274.791\n",
              "2017-01-29     1296.170  304.952  53.854     358.806\n",
              "2017-01-30     1605.356  338.292  18.577     356.869\n",
              "2017-01-31     1620.860  124.784  12.064     136.848"
            ]
          },
          "metadata": {
            "tags": []
          },
          "execution_count": 10
        }
      ]
    },
    {
      "cell_type": "code",
      "metadata": {
        "id": "CmVmWoy5P3ci",
        "colab_type": "code",
        "outputId": "ebd475f0-0e0a-4765-9186-021b6f826192",
        "colab": {
          "base_uri": "https://localhost:8080/",
          "height": 235
        }
      },
      "source": [
        "# exactly what you think it does\n",
        "time_series_df['2017-01-01': '2017-01-05']"
      ],
      "execution_count": 11,
      "outputs": [
        {
          "output_type": "execute_result",
          "data": {
            "text/html": [
              "<div>\n",
              "<style scoped>\n",
              "    .dataframe tbody tr th:only-of-type {\n",
              "        vertical-align: middle;\n",
              "    }\n",
              "\n",
              "    .dataframe tbody tr th {\n",
              "        vertical-align: top;\n",
              "    }\n",
              "\n",
              "    .dataframe thead th {\n",
              "        text-align: right;\n",
              "    }\n",
              "</style>\n",
              "<table border=\"1\" class=\"dataframe\">\n",
              "  <thead>\n",
              "    <tr style=\"text-align: right;\">\n",
              "      <th></th>\n",
              "      <th>Consumption</th>\n",
              "      <th>Wind</th>\n",
              "      <th>Solar</th>\n",
              "      <th>Wind+Solar</th>\n",
              "    </tr>\n",
              "    <tr>\n",
              "      <th>Date</th>\n",
              "      <th></th>\n",
              "      <th></th>\n",
              "      <th></th>\n",
              "      <th></th>\n",
              "    </tr>\n",
              "  </thead>\n",
              "  <tbody>\n",
              "    <tr>\n",
              "      <th>2017-01-01</th>\n",
              "      <td>1130.413</td>\n",
              "      <td>307.125</td>\n",
              "      <td>35.291</td>\n",
              "      <td>342.416</td>\n",
              "    </tr>\n",
              "    <tr>\n",
              "      <th>2017-01-02</th>\n",
              "      <td>1441.052</td>\n",
              "      <td>295.099</td>\n",
              "      <td>12.479</td>\n",
              "      <td>307.578</td>\n",
              "    </tr>\n",
              "    <tr>\n",
              "      <th>2017-01-03</th>\n",
              "      <td>1529.990</td>\n",
              "      <td>666.173</td>\n",
              "      <td>9.351</td>\n",
              "      <td>675.524</td>\n",
              "    </tr>\n",
              "    <tr>\n",
              "      <th>2017-01-04</th>\n",
              "      <td>1553.083</td>\n",
              "      <td>686.578</td>\n",
              "      <td>12.814</td>\n",
              "      <td>699.392</td>\n",
              "    </tr>\n",
              "    <tr>\n",
              "      <th>2017-01-05</th>\n",
              "      <td>1547.238</td>\n",
              "      <td>261.758</td>\n",
              "      <td>20.797</td>\n",
              "      <td>282.555</td>\n",
              "    </tr>\n",
              "  </tbody>\n",
              "</table>\n",
              "</div>"
            ],
            "text/plain": [
              "            Consumption     Wind   Solar  Wind+Solar\n",
              "Date                                                \n",
              "2017-01-01     1130.413  307.125  35.291     342.416\n",
              "2017-01-02     1441.052  295.099  12.479     307.578\n",
              "2017-01-03     1529.990  666.173   9.351     675.524\n",
              "2017-01-04     1553.083  686.578  12.814     699.392\n",
              "2017-01-05     1547.238  261.758  20.797     282.555"
            ]
          },
          "metadata": {
            "tags": []
          },
          "execution_count": 11
        }
      ]
    },
    {
      "cell_type": "code",
      "metadata": {
        "id": "ZABHJ2VRM4Zi",
        "colab_type": "code",
        "outputId": "66281967-c881-4715-e662-d6a62ca0c353",
        "colab": {
          "base_uri": "https://localhost:8080/",
          "height": 544
        }
      },
      "source": [
        "# if you want to train just on January data\n",
        "x = time_series_df['2017-01'].to_numpy()\n",
        "x"
      ],
      "execution_count": 12,
      "outputs": [
        {
          "output_type": "execute_result",
          "data": {
            "text/plain": [
              "array([[1130.413,  307.125,   35.291,  342.416],\n",
              "       [1441.052,  295.099,   12.479,  307.578],\n",
              "       [1529.99 ,  666.173,    9.351,  675.524],\n",
              "       [1553.083,  686.578,   12.814,  699.392],\n",
              "       [1547.238,  261.758,   20.797,  282.555],\n",
              "       [1501.795,  115.723,   33.341,  149.064],\n",
              "       [1405.145,  252.307,    8.387,  260.694],\n",
              "       [1301.011,   41.261,    4.991,   46.252],\n",
              "       [1604.348,  190.983,    7.07 ,  198.053],\n",
              "       [1639.046,  280.373,   13.045,  293.418],\n",
              "       [1654.809,  637.259,    7.379,  644.638],\n",
              "       [1620.597,  584.792,   17.865,  602.657],\n",
              "       [1608.895,  518.618,   14.311,  532.929],\n",
              "       [1392.736,  487.189,   16.767,  503.956],\n",
              "       [1289.904,  229.77 ,   16.105,  245.875],\n",
              "       [1605.465,   69.209,   17.6  ,   86.809],\n",
              "       [1649.104,   79.363,   22.909,  102.272],\n",
              "       [1669.395,  148.915,   22.709,  171.624],\n",
              "       [1667.477,  121.272,   38.191,  159.463],\n",
              "       [1641.737,  109.383,   39.633,  149.016],\n",
              "       [1423.02 ,   78.893,   45.477,  124.37 ],\n",
              "       [1340.341,   50.774,   47.386,   98.16 ],\n",
              "       [1663.492,   39.71 ,   30.939,   70.649],\n",
              "       [1682.002,   31.375,   10.3  ,   41.675],\n",
              "       [1674.171,   70.772,   17.72 ,   88.492],\n",
              "       [1659.527,  235.128,   56.487,  291.615],\n",
              "       [1629.164,  254.27 ,   68.625,  322.895],\n",
              "       [1394.033,  208.827,   65.964,  274.791],\n",
              "       [1296.17 ,  304.952,   53.854,  358.806],\n",
              "       [1605.356,  338.292,   18.577,  356.869],\n",
              "       [1620.86 ,  124.784,   12.064,  136.848]])"
            ]
          },
          "metadata": {
            "tags": []
          },
          "execution_count": 12
        }
      ]
    }
  ]
}