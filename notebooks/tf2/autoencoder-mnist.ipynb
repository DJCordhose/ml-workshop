{
  "nbformat": 4,
  "nbformat_minor": 0,
  "metadata": {
    "accelerator": "GPU",
    "colab": {
      "name": "autoencoder-mnist",
      "provenance": [],
      "include_colab_link": true
    },
    "kernelspec": {
      "display_name": "Python 3",
      "language": "python",
      "name": "python3"
    },
    "language_info": {
      "codemirror_mode": {
        "name": "ipython",
        "version": 3
      },
      "file_extension": ".py",
      "mimetype": "text/x-python",
      "name": "python",
      "nbconvert_exporter": "python",
      "pygments_lexer": "ipython3",
      "version": "3.7.4"
    }
  },
  "cells": [
    {
      "cell_type": "markdown",
      "metadata": {
        "id": "view-in-github",
        "colab_type": "text"
      },
      "source": [
        "<a href=\"https://colab.research.google.com/github/DJCordhose/ml-workshop/blob/master/notebooks/tf2/autoencoder-mnist.ipynb\" target=\"_parent\"><img src=\"https://colab.research.google.com/assets/colab-badge.svg\" alt=\"Open In Colab\"/></a>"
      ]
    },
    {
      "cell_type": "markdown",
      "metadata": {
        "id": "Xrxz2kmJDuPh",
        "colab_type": "text"
      },
      "source": [
        "# Autoencoder on MNIST data with TensorFlow 2\n",
        "\n",
        "* https://blog.keras.io/building-autoencoders-in-keras.html\n",
        "* https://towardsdatascience.com/deep-inside-autoencoders-7e41f319999f"
      ]
    },
    {
      "cell_type": "code",
      "metadata": {
        "id": "BtVLlfXGGYgt",
        "colab_type": "code",
        "colab": {}
      },
      "source": [
        "import matplotlib.pyplot as plt\n",
        "%matplotlib inline\n",
        "\n",
        "dpi = 96\n",
        "# dpi = 300\n",
        "\n",
        "import matplotlib as mpl\n",
        "mpl.rcParams['figure.figsize'] = (15, 8)\n",
        "# mpl.rcParams[\"figure.dpi\"] = dpi\n",
        "mpl.rc('xtick', labelsize=15) \n",
        "mpl.rc('ytick', labelsize=15)\n",
        "\n",
        "font_size=15\n",
        "title_font_size=25\n",
        "\n",
        "# https://matplotlib.org/users/colormaps.html\n",
        "from matplotlib.colors import ListedColormap\n",
        "\n",
        "colors = ['#FF0000', '#0000FF', '#FFFF00']\n",
        "cmap = ListedColormap(colors) "
      ],
      "execution_count": 0,
      "outputs": []
    },
    {
      "cell_type": "code",
      "metadata": {
        "colab_type": "code",
        "id": "BgRmy8QPEGkz",
        "outputId": "69d8d116-36b6-459a-dccd-51f8192c8ee9",
        "colab": {
          "base_uri": "https://localhost:8080/",
          "height": 34
        }
      },
      "source": [
        "# Gives us a well defined version of tensorflow\n",
        "\n",
        "try:\n",
        "  # %tensorflow_version only exists in Colab.\n",
        "  %tensorflow_version 2.x\n",
        "except Exception:\n",
        "  pass"
      ],
      "execution_count": 2,
      "outputs": [
        {
          "output_type": "stream",
          "text": [
            "TensorFlow 2.x selected.\n"
          ],
          "name": "stdout"
        }
      ]
    },
    {
      "cell_type": "code",
      "metadata": {
        "colab_type": "code",
        "id": "293DW4kG87rp",
        "outputId": "c06ad418-3462-4969-97ec-c9c5f4d066ed",
        "colab": {
          "base_uri": "https://localhost:8080/",
          "height": 34
        }
      },
      "source": [
        "import tensorflow as tf\n",
        "print(tf.__version__)"
      ],
      "execution_count": 3,
      "outputs": [
        {
          "output_type": "stream",
          "text": [
            "2.1.0-rc1\n"
          ],
          "name": "stdout"
        }
      ]
    },
    {
      "cell_type": "code",
      "metadata": {
        "id": "xex2dweHLojA",
        "colab_type": "code",
        "colab": {}
      },
      "source": [
        "tf.random.set_seed(42)"
      ],
      "execution_count": 0,
      "outputs": []
    },
    {
      "cell_type": "code",
      "metadata": {
        "id": "-Sm8sz8zsMfX",
        "colab_type": "code",
        "outputId": "9b9cd0e7-fbd4-4d73-a913-f7b2674ea72f",
        "colab": {
          "base_uri": "https://localhost:8080/",
          "height": 306
        }
      },
      "source": [
        "!nvidia-smi"
      ],
      "execution_count": 5,
      "outputs": [
        {
          "output_type": "stream",
          "text": [
            "Sat Dec 28 11:49:08 2019       \n",
            "+-----------------------------------------------------------------------------+\n",
            "| NVIDIA-SMI 440.44       Driver Version: 418.67       CUDA Version: 10.1     |\n",
            "|-------------------------------+----------------------+----------------------+\n",
            "| GPU  Name        Persistence-M| Bus-Id        Disp.A | Volatile Uncorr. ECC |\n",
            "| Fan  Temp  Perf  Pwr:Usage/Cap|         Memory-Usage | GPU-Util  Compute M. |\n",
            "|===============================+======================+======================|\n",
            "|   0  Tesla P4            Off  | 00000000:00:04.0 Off |                    0 |\n",
            "| N/A   56C    P8     9W /  75W |      0MiB /  7611MiB |      0%      Default |\n",
            "+-------------------------------+----------------------+----------------------+\n",
            "                                                                               \n",
            "+-----------------------------------------------------------------------------+\n",
            "| Processes:                                                       GPU Memory |\n",
            "|  GPU       PID   Type   Process name                             Usage      |\n",
            "|=============================================================================|\n",
            "|  No running processes found                                                 |\n",
            "+-----------------------------------------------------------------------------+\n"
          ],
          "name": "stdout"
        }
      ]
    },
    {
      "cell_type": "markdown",
      "metadata": {
        "id": "EC2PvYtBxbTO",
        "colab_type": "text"
      },
      "source": [
        "## MNIST data set"
      ]
    },
    {
      "cell_type": "code",
      "metadata": {
        "id": "CXcAXADBw9aF",
        "colab_type": "code",
        "colab": {
          "base_uri": "https://localhost:8080/",
          "height": 34
        },
        "outputId": "97cebc5d-cbf2-4853-cc37-53aaf274d7a5"
      },
      "source": [
        "import numpy as np\n",
        "from tensorflow.keras.datasets import mnist, fashion_mnist\n",
        "(x_train, y_train), (x_test, y_test) = tf.keras.datasets.fashion_mnist.load_data()\n",
        "\n",
        "# (x_train, y_train), (x_test, y_test) = mnist.load_data()\n",
        "(x_train, y_train), (x_test, y_test) = fashion_mnist.load_data()\n",
        "x_train.shape, x_test.shape"
      ],
      "execution_count": 6,
      "outputs": [
        {
          "output_type": "execute_result",
          "data": {
            "text/plain": [
              "((60000, 28, 28), (10000, 28, 28))"
            ]
          },
          "metadata": {
            "tags": []
          },
          "execution_count": 6
        }
      ]
    },
    {
      "cell_type": "markdown",
      "metadata": {
        "id": "edZYuvqS9iA5",
        "colab_type": "text"
      },
      "source": [
        "can not use 2d rep as autoencoder needs to spit out flat image"
      ]
    },
    {
      "cell_type": "code",
      "metadata": {
        "id": "c2e6enP49om1",
        "colab_type": "code",
        "colab": {
          "base_uri": "https://localhost:8080/",
          "height": 34
        },
        "outputId": "8e02b4d2-0983-4173-8ebd-bbd41ac32775"
      },
      "source": [
        "x_res = 28\n",
        "y_res = 28\n",
        "image_size = x_res * y_res\n",
        "\n",
        "x_train = x_train.astype('float32') / 255.\n",
        "x_test = x_test.astype('float32') / 255.\n",
        "\n",
        "x_train = x_train.reshape(-1, image_size)\n",
        "x_test = x_test.reshape(-1, image_size)\n",
        "x_train.shape, x_test.shape"
      ],
      "execution_count": 7,
      "outputs": [
        {
          "output_type": "execute_result",
          "data": {
            "text/plain": [
              "((60000, 784), (10000, 784))"
            ]
          },
          "metadata": {
            "tags": []
          },
          "execution_count": 7
        }
      ]
    },
    {
      "cell_type": "code",
      "metadata": {
        "id": "W0U06lxl1sI7",
        "colab_type": "code",
        "colab": {}
      },
      "source": [
        "def plot_samples(x, y, n_samples=15, labels=None):\n",
        "  \n",
        "  plt.gray()\n",
        "  figure = plt.figure(figsize=(20, 8))\n",
        "  for i, index in enumerate(np.random.choice(x_test.shape[0], size=n_samples, replace=False)):\n",
        "      ax = figure.add_subplot(3, 5, i + 1, xticks=[], yticks=[])\n",
        "      ax.imshow(x[index].reshape(x_res, y_res))\n",
        "      if labels:\n",
        "        ax.set_title(\"{}\".format(labels[y[index]]))\n",
        "      else:\n",
        "        ax.set_title(\"{}\".format(y[index]))"
      ],
      "execution_count": 0,
      "outputs": []
    },
    {
      "cell_type": "code",
      "metadata": {
        "id": "SWhKZaao2klB",
        "colab_type": "code",
        "colab": {
          "base_uri": "https://localhost:8080/",
          "height": 502
        },
        "outputId": "39c35382-6b7c-4351-de59-05d3131d55f3"
      },
      "source": [
        "fashion_mnist_labels = [\"T-shirt/top\",  # index 0\n",
        "                        \"Trouser\",      # index 1\n",
        "                        \"Pullover\",     # index 2 \n",
        "                        \"Dress\",        # index 3 \n",
        "                        \"Coat\",         # index 4\n",
        "                        \"Sandal\",       # index 5\n",
        "                        \"Shirt\",        # index 6 \n",
        "                        \"Sneaker\",      # index 7 \n",
        "                        \"Bag\",          # index 8 \n",
        "                        \"Ankle boot\"]   # index 9\n",
        "\n",
        "\n",
        "plot_samples(x_train, y_train, labels=fashion_mnist_labels)"
      ],
      "execution_count": 9,
      "outputs": [
        {
          "output_type": "display_data",
          "data": {
            "text/plain": [
              "<Figure size 1080x576 with 0 Axes>"
            ]
          },
          "metadata": {
            "tags": []
          }
        },
        {
          "output_type": "display_data",
          "data": {
            "image/png": "[encoded data removed]",
            "text/plain": [
              "<Figure size 1440x576 with 15 Axes>"
            ]
          },
          "metadata": {
            "tags": []
          }
        }
      ]
    },
    {
      "cell_type": "markdown",
      "metadata": {
        "id": "yEpZ-X4G7xS3",
        "colab_type": "text"
      },
      "source": [
        "autoencoder using functional API"
      ]
    },
    {
      "cell_type": "code",
      "metadata": {
        "colab_type": "code",
        "id": "aQ9zaYau8-SR",
        "colab": {
          "base_uri": "https://localhost:8080/",
          "height": 255
        },
        "outputId": "e856be7a-6a70-4d17-c72e-702f4c3a1503"
      },
      "source": [
        "from tensorflow.keras.layers import Input, Dense, Reshape, Flatten\n",
        "from tensorflow.keras.models import Model\n",
        "\n",
        "encoding_dim = 32\n",
        "\n",
        "# input_img = Input(shape=(28, 28), name='2d_input')\n",
        "input_img = Input(shape=image_size, name='1d_input')\n",
        "# flattened = Flatten(name='flattened_input')(input_img)\n",
        "encoded = Dense(encoding_dim, activation='relu', name='encoder')(input_img)\n",
        "decoded = Dense(image_size, activation='sigmoid', name='decoder')(encoded)\n",
        "# reshaped = Reshape((28, 28), name='2d_output')(decoded)\n",
        "\n",
        "autoencoder = Model(input_img, decoded)\n",
        "autoencoder.summary()"
      ],
      "execution_count": 10,
      "outputs": [
        {
          "output_type": "stream",
          "text": [
            "Model: \"model\"\n",
            "_________________________________________________________________\n",
            "Layer (type)                 Output Shape              Param #   \n",
            "=================================================================\n",
            "1d_input (InputLayer)        [(None, 784)]             0         \n",
            "_________________________________________________________________\n",
            "encoder (Dense)              (None, 32)                25120     \n",
            "_________________________________________________________________\n",
            "decoder (Dense)              (None, 784)               25872     \n",
            "=================================================================\n",
            "Total params: 50,992\n",
            "Trainable params: 50,992\n",
            "Non-trainable params: 0\n",
            "_________________________________________________________________\n"
          ],
          "name": "stdout"
        }
      ]
    },
    {
      "cell_type": "code",
      "metadata": {
        "id": "FVtqhlaH4_Fv",
        "colab_type": "code",
        "colab": {
          "base_uri": "https://localhost:8080/",
          "height": 312
        },
        "outputId": "ce3188a0-7aa7-4e01-ebbd-7f873613ba4c"
      },
      "source": [
        "from tensorflow.keras.utils import plot_model\n",
        "\n",
        "plot_model(autoencoder, show_shapes=True, dpi=dpi)"
      ],
      "execution_count": 11,
      "outputs": [
        {
          "output_type": "execute_result",
          "data": {
            "image/png": "[encoded data removed]",
            "text/plain": [
              "<IPython.core.display.Image object>"
            ]
          },
          "metadata": {
            "tags": []
          },
          "execution_count": 11
        }
      ]
    },
    {
      "cell_type": "code",
      "metadata": {
        "colab_type": "code",
        "id": "Hz3RRQQAEGl2",
        "outputId": "d2c7cbab-6eb7-4f30-dc59-4767e9866450",
        "colab": {
          "base_uri": "https://localhost:8080/",
          "height": 1000
        }
      },
      "source": [
        "%%time \n",
        "\n",
        "BATCH_SIZE = 256\n",
        "EPOCHS = 50\n",
        "\n",
        "# binary_crossentropy seems to encourage more sparsity all by itself\n",
        "autoencoder.compile(optimizer='adam', loss='binary_crossentropy')\n",
        "# autoencoder.compile(optimizer='adam', loss='mse')\n",
        "\n",
        "# we expect 0.09 for mninst and around 0.28 for fahshin mnist\n",
        "history = autoencoder.fit(x = x_train,\n",
        "                    y = x_train,\n",
        "                    validation_data=(x_test, x_test),\n",
        "                    epochs=EPOCHS, \n",
        "                    batch_size=BATCH_SIZE, \n",
        "                    verbose=1)"
      ],
      "execution_count": 12,
      "outputs": [
        {
          "output_type": "stream",
          "text": [
            "Train on 60000 samples, validate on 10000 samples\n",
            "Epoch 1/50\n",
            "60000/60000 [==============================] - 1s 24us/sample - loss: 0.4145 - val_loss: 0.3425\n",
            "Epoch 2/50\n",
            "60000/60000 [==============================] - 1s 15us/sample - loss: 0.3263 - val_loss: 0.3186\n",
            "Epoch 3/50\n",
            "60000/60000 [==============================] - 1s 15us/sample - loss: 0.3104 - val_loss: 0.3073\n",
            "Epoch 4/50\n",
            "60000/60000 [==============================] - 1s 16us/sample - loss: 0.3014 - val_loss: 0.3000\n",
            "Epoch 5/50\n",
            "60000/60000 [==============================] - 1s 15us/sample - loss: 0.2956 - val_loss: 0.2957\n",
            "Epoch 6/50\n",
            "60000/60000 [==============================] - 1s 15us/sample - loss: 0.2919 - val_loss: 0.2926\n",
            "Epoch 7/50\n",
            "60000/60000 [==============================] - 1s 15us/sample - loss: 0.2894 - val_loss: 0.2909\n",
            "Epoch 8/50\n",
            "60000/60000 [==============================] - 1s 15us/sample - loss: 0.2878 - val_loss: 0.2894\n",
            "Epoch 9/50\n",
            "60000/60000 [==============================] - 1s 16us/sample - loss: 0.2868 - val_loss: 0.2885\n",
            "Epoch 10/50\n",
            "60000/60000 [==============================] - 1s 14us/sample - loss: 0.2861 - val_loss: 0.2883\n",
            "Epoch 11/50\n",
            "60000/60000 [==============================] - 1s 14us/sample - loss: 0.2856 - val_loss: 0.2875\n",
            "Epoch 12/50\n",
            "60000/60000 [==============================] - 1s 14us/sample - loss: 0.2851 - val_loss: 0.2872\n",
            "Epoch 13/50\n",
            "60000/60000 [==============================] - 1s 16us/sample - loss: 0.2848 - val_loss: 0.2868\n",
            "Epoch 14/50\n",
            "60000/60000 [==============================] - 1s 15us/sample - loss: 0.2845 - val_loss: 0.2865\n",
            "Epoch 15/50\n",
            "60000/60000 [==============================] - 1s 15us/sample - loss: 0.2843 - val_loss: 0.2864\n",
            "Epoch 16/50\n",
            "60000/60000 [==============================] - 1s 14us/sample - loss: 0.2840 - val_loss: 0.2860\n",
            "Epoch 17/50\n",
            "60000/60000 [==============================] - 1s 14us/sample - loss: 0.2835 - val_loss: 0.2855\n",
            "Epoch 18/50\n",
            "60000/60000 [==============================] - 1s 15us/sample - loss: 0.2832 - val_loss: 0.2856\n",
            "Epoch 19/50\n",
            "60000/60000 [==============================] - 1s 15us/sample - loss: 0.2830 - val_loss: 0.2852\n",
            "Epoch 20/50\n",
            "60000/60000 [==============================] - 1s 14us/sample - loss: 0.2828 - val_loss: 0.2850\n",
            "Epoch 21/50\n",
            "60000/60000 [==============================] - 1s 14us/sample - loss: 0.2827 - val_loss: 0.2850\n",
            "Epoch 22/50\n",
            "60000/60000 [==============================] - 1s 15us/sample - loss: 0.2826 - val_loss: 0.2849\n",
            "Epoch 23/50\n",
            "60000/60000 [==============================] - 1s 15us/sample - loss: 0.2825 - val_loss: 0.2848\n",
            "Epoch 24/50\n",
            "60000/60000 [==============================] - 1s 15us/sample - loss: 0.2824 - val_loss: 0.2847\n",
            "Epoch 25/50\n",
            "60000/60000 [==============================] - 1s 15us/sample - loss: 0.2823 - val_loss: 0.2846\n",
            "Epoch 26/50\n",
            "60000/60000 [==============================] - 1s 15us/sample - loss: 0.2822 - val_loss: 0.2846\n",
            "Epoch 27/50\n",
            "60000/60000 [==============================] - 1s 15us/sample - loss: 0.2822 - val_loss: 0.2845\n",
            "Epoch 28/50\n",
            "60000/60000 [==============================] - 1s 15us/sample - loss: 0.2821 - val_loss: 0.2845\n",
            "Epoch 29/50\n",
            "60000/60000 [==============================] - 1s 16us/sample - loss: 0.2821 - val_loss: 0.2844\n",
            "Epoch 30/50\n",
            "60000/60000 [==============================] - 1s 15us/sample - loss: 0.2820 - val_loss: 0.2843\n",
            "Epoch 31/50\n",
            "60000/60000 [==============================] - 1s 15us/sample - loss: 0.2820 - val_loss: 0.2843\n",
            "Epoch 32/50\n",
            "60000/60000 [==============================] - 1s 14us/sample - loss: 0.2819 - val_loss: 0.2842\n",
            "Epoch 33/50\n",
            "60000/60000 [==============================] - 1s 15us/sample - loss: 0.2819 - val_loss: 0.2842\n",
            "Epoch 34/50\n",
            "60000/60000 [==============================] - 1s 16us/sample - loss: 0.2818 - val_loss: 0.2842\n",
            "Epoch 35/50\n",
            "60000/60000 [==============================] - 1s 15us/sample - loss: 0.2818 - val_loss: 0.2841\n",
            "Epoch 36/50\n",
            "60000/60000 [==============================] - 1s 15us/sample - loss: 0.2817 - val_loss: 0.2841\n",
            "Epoch 37/50\n",
            "60000/60000 [==============================] - 1s 16us/sample - loss: 0.2817 - val_loss: 0.2840\n",
            "Epoch 38/50\n",
            "60000/60000 [==============================] - 1s 16us/sample - loss: 0.2817 - val_loss: 0.2840\n",
            "Epoch 39/50\n",
            "60000/60000 [==============================] - 1s 16us/sample - loss: 0.2816 - val_loss: 0.2841\n",
            "Epoch 40/50\n",
            "60000/60000 [==============================] - 1s 15us/sample - loss: 0.2816 - val_loss: 0.2841\n",
            "Epoch 41/50\n",
            "60000/60000 [==============================] - 1s 14us/sample - loss: 0.2816 - val_loss: 0.2840\n",
            "Epoch 42/50\n",
            "60000/60000 [==============================] - 1s 14us/sample - loss: 0.2816 - val_loss: 0.2840\n",
            "Epoch 43/50\n",
            "60000/60000 [==============================] - 1s 15us/sample - loss: 0.2815 - val_loss: 0.2840\n",
            "Epoch 44/50\n",
            "60000/60000 [==============================] - 1s 15us/sample - loss: 0.2815 - val_loss: 0.2839\n",
            "Epoch 45/50\n",
            "60000/60000 [==============================] - 1s 15us/sample - loss: 0.2815 - val_loss: 0.2839\n",
            "Epoch 46/50\n",
            "60000/60000 [==============================] - 1s 16us/sample - loss: 0.2815 - val_loss: 0.2839\n",
            "Epoch 47/50\n",
            "60000/60000 [==============================] - 1s 15us/sample - loss: 0.2815 - val_loss: 0.2838\n",
            "Epoch 48/50\n",
            "60000/60000 [==============================] - 1s 15us/sample - loss: 0.2814 - val_loss: 0.2838\n",
            "Epoch 49/50\n",
            "60000/60000 [==============================] - 1s 15us/sample - loss: 0.2814 - val_loss: 0.2839\n",
            "Epoch 50/50\n",
            "60000/60000 [==============================] - 1s 14us/sample - loss: 0.2814 - val_loss: 0.2838\n",
            "CPU times: user 59 s, sys: 5.08 s, total: 1min 4s\n",
            "Wall time: 45.6 s\n"
          ],
          "name": "stdout"
        }
      ]
    },
    {
      "cell_type": "code",
      "metadata": {
        "colab_type": "code",
        "id": "d8x9kNbyEGmM",
        "outputId": "f0238e3a-1a89-4d9d-fc3a-3398e3c50d5f",
        "colab": {
          "base_uri": "https://localhost:8080/",
          "height": 502
        }
      },
      "source": [
        "plt.yscale('log')\n",
        "\n",
        "plt.ylabel(\"loss\")\n",
        "plt.xlabel(\"epochs\")\n",
        "\n",
        "plt.plot(history.history['loss'])\n",
        "plt.plot(history.history['val_loss'])\n",
        "\n",
        "plt.legend([\"Loss\", \"Valdation Loss\"]);"
      ],
      "execution_count": 13,
      "outputs": [
        {
          "output_type": "display_data",
          "data": {
            "image/png": "[encoded data removed]",
            "text/plain": [
              "<Figure size 1080x576 with 1 Axes>"
            ]
          },
          "metadata": {
            "tags": []
          }
        }
      ]
    },
    {
      "cell_type": "code",
      "metadata": {
        "id": "MpfdB-NeAo6Y",
        "colab_type": "code",
        "colab": {}
      },
      "source": [
        "encoder = Model(input_img, encoded)\n",
        "\n",
        "encoded_input = Input(shape=(encoding_dim,))\n",
        "decoder_layer = autoencoder.get_layer('decoder')\n",
        "decoder = Model(encoded_input, decoder_layer(encoded_input))\n",
        "\n",
        "embedded_imgs = encoder.predict(x_test)\n",
        "decoded_imgs = decoder.predict(embedded_imgs)"
      ],
      "execution_count": 0,
      "outputs": []
    },
    {
      "cell_type": "code",
      "metadata": {
        "id": "BzYtz0GWCzS1",
        "colab_type": "code",
        "colab": {}
      },
      "source": [
        "# shortcut\n",
        "# x_test_pred = autoencoder.predict(x_test)\n",
        "x_test_pred = decoded_imgs"
      ],
      "execution_count": 0,
      "outputs": []
    },
    {
      "cell_type": "code",
      "metadata": {
        "id": "FKFHlrJqAcTw",
        "colab_type": "code",
        "colab": {
          "base_uri": "https://localhost:8080/",
          "height": 502
        },
        "outputId": "34e7ebc1-6515-4d82-92d6-49e0d304b9fd"
      },
      "source": [
        "plot_samples(x_test_pred, y_test, labels=fashion_mnist_labels)"
      ],
      "execution_count": 16,
      "outputs": [
        {
          "output_type": "display_data",
          "data": {
            "text/plain": [
              "<Figure size 1080x576 with 0 Axes>"
            ]
          },
          "metadata": {
            "tags": []
          }
        },
        {
          "output_type": "display_data",
          "data": {
            "image/png": "[encoded data removed]",
            "text/plain": [
              "<Figure size 1440x576 with 15 Axes>"
            ]
          },
          "metadata": {
            "tags": []
          }
        }
      ]
    },
    {
      "cell_type": "markdown",
      "metadata": {
        "id": "EvdzeThkREAG",
        "colab_type": "text"
      },
      "source": [
        "## let's consider the sparsity of an embedding \n",
        "### how big are the embeddings on avearge and how many zeros do the embeddings contain on average"
      ]
    },
    {
      "cell_type": "code",
      "metadata": {
        "id": "AJcApDw1OHsh",
        "colab_type": "code",
        "outputId": "23fca59d-f033-4a14-9292-42fadce687ef",
        "colab": {
          "base_uri": "https://localhost:8080/",
          "height": 34
        }
      },
      "source": [
        "embedded_imgs.shape"
      ],
      "execution_count": 17,
      "outputs": [
        {
          "output_type": "execute_result",
          "data": {
            "text/plain": [
              "(10000, 32)"
            ]
          },
          "metadata": {
            "tags": []
          },
          "execution_count": 17
        }
      ]
    },
    {
      "cell_type": "code",
      "metadata": {
        "id": "MdPxlxj0OtdO",
        "colab_type": "code",
        "outputId": "75651cfc-9abf-4837-d365-0f53326f0c30",
        "colab": {
          "base_uri": "https://localhost:8080/",
          "height": 136
        }
      },
      "source": [
        "# embedding for first image\n",
        "embedded_imgs[0]"
      ],
      "execution_count": 18,
      "outputs": [
        {
          "output_type": "execute_result",
          "data": {
            "text/plain": [
              "array([ 3.1188533, 10.628473 ,  3.54011  ,  0.       ,  2.4883995,\n",
              "        2.6886082,  5.206221 ,  0.       ,  2.8169785,  5.1306167,\n",
              "        6.085863 ,  8.6452465,  7.7110896,  6.4787693,  2.197678 ,\n",
              "        3.207438 ,  9.066402 ,  6.5575967,  8.101747 ,  8.281113 ,\n",
              "        4.278742 ,  4.043585 ,  8.712522 ,  4.851784 ,  2.3702748,\n",
              "        3.861826 ,  5.9619985,  1.8000879,  3.3649015,  7.1576104,\n",
              "        0.8744221,  3.461512 ], dtype=float32)"
            ]
          },
          "metadata": {
            "tags": []
          },
          "execution_count": 18
        }
      ]
    },
    {
      "cell_type": "code",
      "metadata": {
        "id": "39fEwt4YPGVR",
        "colab_type": "code",
        "outputId": "cc52c897-6ffb-4034-f1e5-d21766ab289a",
        "colab": {
          "base_uri": "https://localhost:8080/",
          "height": 34
        }
      },
      "source": [
        "tf.reduce_mean(embedded_imgs)"
      ],
      "execution_count": 19,
      "outputs": [
        {
          "output_type": "execute_result",
          "data": {
            "text/plain": [
              "<tf.Tensor: shape=(), dtype=float32, numpy=4.580473>"
            ]
          },
          "metadata": {
            "tags": []
          },
          "execution_count": 19
        }
      ]
    },
    {
      "cell_type": "code",
      "metadata": {
        "id": "NyFxjo8wOTR7",
        "colab_type": "code",
        "outputId": "6655b743-28f5-4b49-c057-70ea36fb4e09",
        "colab": {
          "base_uri": "https://localhost:8080/",
          "height": 34
        }
      },
      "source": [
        "# how many zeros do the embeddings contain on average\n",
        "tf.reduce_mean(32 - tf.math.count_nonzero(embedded_imgs, axis=1))"
      ],
      "execution_count": 20,
      "outputs": [
        {
          "output_type": "execute_result",
          "data": {
            "text/plain": [
              "<tf.Tensor: shape=(), dtype=int64, numpy=3>"
            ]
          },
          "metadata": {
            "tags": []
          },
          "execution_count": 20
        }
      ]
    },
    {
      "cell_type": "markdown",
      "metadata": {
        "id": "vcP13qQrWqBT",
        "colab_type": "text"
      },
      "source": [
        "## Exercise\n",
        "\n",
        "Experiment with\n",
        "* the size of the embedding\n",
        "* MSE as a loss function\n",
        "* mnist digits dataset instead of fashin mninst"
      ]
    },
    {
      "cell_type": "markdown",
      "metadata": {
        "id": "Bwmvq2PdWVMM",
        "colab_type": "text"
      },
      "source": [
        "# STOP HERE"
      ]
    },
    {
      "cell_type": "markdown",
      "metadata": {
        "id": "auGA95RGEmIx",
        "colab_type": "text"
      },
      "source": [
        "## Adding sparsity"
      ]
    },
    {
      "cell_type": "code",
      "metadata": {
        "id": "46nsgAtRCqqE",
        "colab_type": "code",
        "colab": {
          "base_uri": "https://localhost:8080/",
          "height": 255
        },
        "outputId": "ad02c12e-0744-43be-d72d-bac95ac9d935"
      },
      "source": [
        "from tensorflow.keras import regularizers\n",
        "\n",
        "encoding_dim = 32\n",
        "\n",
        "input_img = Input(shape=(image_size,))\n",
        "# add a Dense layer with a L1 activity regularizer\n",
        "encoded = Dense(encoding_dim, activation='relu',\n",
        "                activity_regularizer=regularizers.l1(1e-3))(input_img)\n",
        "decoded = Dense(784, activation='sigmoid', name='decoder')(encoded)\n",
        "\n",
        "autoencoder = Model(input_img, decoded)\n",
        "autoencoder.summary()"
      ],
      "execution_count": 21,
      "outputs": [
        {
          "output_type": "stream",
          "text": [
            "Model: \"model_3\"\n",
            "_________________________________________________________________\n",
            "Layer (type)                 Output Shape              Param #   \n",
            "=================================================================\n",
            "input_2 (InputLayer)         [(None, 784)]             0         \n",
            "_________________________________________________________________\n",
            "dense (Dense)                (None, 32)                25120     \n",
            "_________________________________________________________________\n",
            "decoder (Dense)              (None, 784)               25872     \n",
            "=================================================================\n",
            "Total params: 50,992\n",
            "Trainable params: 50,992\n",
            "Non-trainable params: 0\n",
            "_________________________________________________________________\n"
          ],
          "name": "stdout"
        }
      ]
    },
    {
      "cell_type": "code",
      "metadata": {
        "id": "CjR2aHyeJwqU",
        "colab_type": "code",
        "colab": {
          "base_uri": "https://localhost:8080/",
          "height": 1000
        },
        "outputId": "de8e6b32-dc3b-43d0-a47c-a7f2a9c7a8ee"
      },
      "source": [
        "%%time \n",
        "\n",
        "BATCH_SIZE = 256\n",
        "EPOCHS = 100\n",
        "\n",
        "autoencoder.compile(optimizer='adam', loss='binary_crossentropy')\n",
        "\n",
        "# we expect 0.09 for mninst and around 0.28 for fahshin mnist\n",
        "history = autoencoder.fit(x = x_train,\n",
        "                    y = x_train,\n",
        "                    validation_data=(x_test, x_test),\n",
        "                    epochs=EPOCHS, \n",
        "                    batch_size=BATCH_SIZE, \n",
        "                    verbose=1)"
      ],
      "execution_count": 22,
      "outputs": [
        {
          "output_type": "stream",
          "text": [
            "Train on 60000 samples, validate on 10000 samples\n",
            "Epoch 1/100\n",
            "60000/60000 [==============================] - 1s 22us/sample - loss: 0.4825 - val_loss: 0.3974\n",
            "Epoch 2/100\n",
            "60000/60000 [==============================] - 1s 17us/sample - loss: 0.3732 - val_loss: 0.3603\n",
            "Epoch 3/100\n",
            "60000/60000 [==============================] - 1s 16us/sample - loss: 0.3507 - val_loss: 0.3465\n",
            "Epoch 4/100\n",
            "60000/60000 [==============================] - 1s 16us/sample - loss: 0.3401 - val_loss: 0.3381\n",
            "Epoch 5/100\n",
            "60000/60000 [==============================] - 1s 16us/sample - loss: 0.3329 - val_loss: 0.3319\n",
            "Epoch 6/100\n",
            "60000/60000 [==============================] - 1s 17us/sample - loss: 0.3277 - val_loss: 0.3277\n",
            "Epoch 7/100\n",
            "60000/60000 [==============================] - 1s 16us/sample - loss: 0.3243 - val_loss: 0.3251\n",
            "Epoch 8/100\n",
            "60000/60000 [==============================] - 1s 16us/sample - loss: 0.3221 - val_loss: 0.3233\n",
            "Epoch 9/100\n",
            "60000/60000 [==============================] - 1s 16us/sample - loss: 0.3205 - val_loss: 0.3219\n",
            "Epoch 10/100\n",
            "60000/60000 [==============================] - 1s 16us/sample - loss: 0.3193 - val_loss: 0.3209\n",
            "Epoch 11/100\n",
            "60000/60000 [==============================] - 1s 17us/sample - loss: 0.3181 - val_loss: 0.3194\n",
            "Epoch 12/100\n",
            "60000/60000 [==============================] - 1s 17us/sample - loss: 0.3168 - val_loss: 0.3183\n",
            "Epoch 13/100\n",
            "60000/60000 [==============================] - 1s 16us/sample - loss: 0.3158 - val_loss: 0.3176\n",
            "Epoch 14/100\n",
            "60000/60000 [==============================] - 1s 16us/sample - loss: 0.3149 - val_loss: 0.3167\n",
            "Epoch 15/100\n",
            "60000/60000 [==============================] - 1s 16us/sample - loss: 0.3142 - val_loss: 0.3162\n",
            "Epoch 16/100\n",
            "60000/60000 [==============================] - 1s 16us/sample - loss: 0.3134 - val_loss: 0.3153\n",
            "Epoch 17/100\n",
            "60000/60000 [==============================] - 1s 17us/sample - loss: 0.3128 - val_loss: 0.3146\n",
            "Epoch 18/100\n",
            "60000/60000 [==============================] - 1s 17us/sample - loss: 0.3122 - val_loss: 0.3143\n",
            "Epoch 19/100\n",
            "60000/60000 [==============================] - 1s 17us/sample - loss: 0.3117 - val_loss: 0.3138\n",
            "Epoch 20/100\n",
            "60000/60000 [==============================] - 1s 17us/sample - loss: 0.3112 - val_loss: 0.3134\n",
            "Epoch 21/100\n",
            "60000/60000 [==============================] - 1s 17us/sample - loss: 0.3108 - val_loss: 0.3127\n",
            "Epoch 22/100\n",
            "60000/60000 [==============================] - 1s 17us/sample - loss: 0.3104 - val_loss: 0.3123\n",
            "Epoch 23/100\n",
            "60000/60000 [==============================] - 1s 17us/sample - loss: 0.3100 - val_loss: 0.3120\n",
            "Epoch 24/100\n",
            "60000/60000 [==============================] - 1s 17us/sample - loss: 0.3096 - val_loss: 0.3116\n",
            "Epoch 25/100\n",
            "60000/60000 [==============================] - 1s 16us/sample - loss: 0.3093 - val_loss: 0.3113\n",
            "Epoch 26/100\n",
            "60000/60000 [==============================] - 1s 16us/sample - loss: 0.3089 - val_loss: 0.3110\n",
            "Epoch 27/100\n",
            "60000/60000 [==============================] - 1s 16us/sample - loss: 0.3086 - val_loss: 0.3109\n",
            "Epoch 28/100\n",
            "60000/60000 [==============================] - 1s 16us/sample - loss: 0.3084 - val_loss: 0.3105\n",
            "Epoch 29/100\n",
            "60000/60000 [==============================] - 1s 17us/sample - loss: 0.3080 - val_loss: 0.3101\n",
            "Epoch 30/100\n",
            "60000/60000 [==============================] - 1s 17us/sample - loss: 0.3078 - val_loss: 0.3100\n",
            "Epoch 31/100\n",
            "60000/60000 [==============================] - 1s 16us/sample - loss: 0.3076 - val_loss: 0.3098\n",
            "Epoch 32/100\n",
            "60000/60000 [==============================] - 1s 16us/sample - loss: 0.3073 - val_loss: 0.3094\n",
            "Epoch 33/100\n",
            "60000/60000 [==============================] - 1s 15us/sample - loss: 0.3071 - val_loss: 0.3092\n",
            "Epoch 34/100\n",
            "60000/60000 [==============================] - 1s 16us/sample - loss: 0.3069 - val_loss: 0.3091\n",
            "Epoch 35/100\n",
            "60000/60000 [==============================] - 1s 16us/sample - loss: 0.3067 - val_loss: 0.3088\n",
            "Epoch 36/100\n",
            "60000/60000 [==============================] - 1s 17us/sample - loss: 0.3065 - val_loss: 0.3087\n",
            "Epoch 37/100\n",
            "60000/60000 [==============================] - 1s 17us/sample - loss: 0.3063 - val_loss: 0.3086\n",
            "Epoch 38/100\n",
            "60000/60000 [==============================] - 1s 17us/sample - loss: 0.3062 - val_loss: 0.3085\n",
            "Epoch 39/100\n",
            "60000/60000 [==============================] - 1s 16us/sample - loss: 0.3060 - val_loss: 0.3083\n",
            "Epoch 40/100\n",
            "60000/60000 [==============================] - 1s 17us/sample - loss: 0.3058 - val_loss: 0.3081\n",
            "Epoch 41/100\n",
            "60000/60000 [==============================] - 1s 17us/sample - loss: 0.3057 - val_loss: 0.3082\n",
            "Epoch 42/100\n",
            "60000/60000 [==============================] - 1s 15us/sample - loss: 0.3056 - val_loss: 0.3079\n",
            "Epoch 43/100\n",
            "60000/60000 [==============================] - 1s 17us/sample - loss: 0.3054 - val_loss: 0.3078\n",
            "Epoch 44/100\n",
            "60000/60000 [==============================] - 1s 17us/sample - loss: 0.3053 - val_loss: 0.3075\n",
            "Epoch 45/100\n",
            "60000/60000 [==============================] - 1s 17us/sample - loss: 0.3052 - val_loss: 0.3077\n",
            "Epoch 46/100\n",
            "60000/60000 [==============================] - 1s 15us/sample - loss: 0.3050 - val_loss: 0.3074\n",
            "Epoch 47/100\n",
            "60000/60000 [==============================] - 1s 16us/sample - loss: 0.3049 - val_loss: 0.3075\n",
            "Epoch 48/100\n",
            "60000/60000 [==============================] - 1s 16us/sample - loss: 0.3048 - val_loss: 0.3071\n",
            "Epoch 49/100\n",
            "60000/60000 [==============================] - 1s 16us/sample - loss: 0.3047 - val_loss: 0.3070\n",
            "Epoch 50/100\n",
            "60000/60000 [==============================] - 1s 17us/sample - loss: 0.3046 - val_loss: 0.3069\n",
            "Epoch 51/100\n",
            "60000/60000 [==============================] - 1s 16us/sample - loss: 0.3045 - val_loss: 0.3070\n",
            "Epoch 52/100\n",
            "60000/60000 [==============================] - 1s 16us/sample - loss: 0.3044 - val_loss: 0.3066\n",
            "Epoch 53/100\n",
            "60000/60000 [==============================] - 1s 17us/sample - loss: 0.3043 - val_loss: 0.3066\n",
            "Epoch 54/100\n",
            "60000/60000 [==============================] - 1s 16us/sample - loss: 0.3042 - val_loss: 0.3066\n",
            "Epoch 55/100\n",
            "60000/60000 [==============================] - 1s 16us/sample - loss: 0.3042 - val_loss: 0.3065\n",
            "Epoch 56/100\n",
            "60000/60000 [==============================] - 1s 16us/sample - loss: 0.3040 - val_loss: 0.3062\n",
            "Epoch 57/100\n",
            "60000/60000 [==============================] - 1s 16us/sample - loss: 0.3040 - val_loss: 0.3063\n",
            "Epoch 58/100\n",
            "60000/60000 [==============================] - 1s 16us/sample - loss: 0.3039 - val_loss: 0.3061\n",
            "Epoch 59/100\n",
            "60000/60000 [==============================] - 1s 16us/sample - loss: 0.3038 - val_loss: 0.3064\n",
            "Epoch 60/100\n",
            "60000/60000 [==============================] - 1s 17us/sample - loss: 0.3038 - val_loss: 0.3059\n",
            "Epoch 61/100\n",
            "60000/60000 [==============================] - 1s 16us/sample - loss: 0.3037 - val_loss: 0.3066\n",
            "Epoch 62/100\n",
            "60000/60000 [==============================] - 1s 17us/sample - loss: 0.3036 - val_loss: 0.3062\n",
            "Epoch 63/100\n",
            "60000/60000 [==============================] - 1s 17us/sample - loss: 0.3035 - val_loss: 0.3058\n",
            "Epoch 64/100\n",
            "60000/60000 [==============================] - 1s 17us/sample - loss: 0.3034 - val_loss: 0.3060\n",
            "Epoch 65/100\n",
            "60000/60000 [==============================] - 1s 17us/sample - loss: 0.3035 - val_loss: 0.3061\n",
            "Epoch 66/100\n",
            "60000/60000 [==============================] - 1s 18us/sample - loss: 0.3034 - val_loss: 0.3061\n",
            "Epoch 67/100\n",
            "60000/60000 [==============================] - 1s 17us/sample - loss: 0.3033 - val_loss: 0.3059\n",
            "Epoch 68/100\n",
            "60000/60000 [==============================] - 1s 16us/sample - loss: 0.3033 - val_loss: 0.3055\n",
            "Epoch 69/100\n",
            "60000/60000 [==============================] - 1s 18us/sample - loss: 0.3032 - val_loss: 0.3056\n",
            "Epoch 70/100\n",
            "60000/60000 [==============================] - 1s 17us/sample - loss: 0.3031 - val_loss: 0.3054\n",
            "Epoch 71/100\n",
            "60000/60000 [==============================] - 1s 17us/sample - loss: 0.3031 - val_loss: 0.3056\n",
            "Epoch 72/100\n",
            "60000/60000 [==============================] - 1s 16us/sample - loss: 0.3031 - val_loss: 0.3052\n",
            "Epoch 73/100\n",
            "60000/60000 [==============================] - 1s 15us/sample - loss: 0.3030 - val_loss: 0.3054\n",
            "Epoch 74/100\n",
            "60000/60000 [==============================] - 1s 16us/sample - loss: 0.3030 - val_loss: 0.3053\n",
            "Epoch 75/100\n",
            "60000/60000 [==============================] - 1s 17us/sample - loss: 0.3030 - val_loss: 0.3054\n",
            "Epoch 76/100\n",
            "60000/60000 [==============================] - 1s 15us/sample - loss: 0.3029 - val_loss: 0.3052\n",
            "Epoch 77/100\n",
            "60000/60000 [==============================] - 1s 17us/sample - loss: 0.3028 - val_loss: 0.3053\n",
            "Epoch 78/100\n",
            "60000/60000 [==============================] - 1s 16us/sample - loss: 0.3027 - val_loss: 0.3051\n",
            "Epoch 79/100\n",
            "60000/60000 [==============================] - 1s 17us/sample - loss: 0.3027 - val_loss: 0.3051\n",
            "Epoch 80/100\n",
            "60000/60000 [==============================] - 1s 17us/sample - loss: 0.3026 - val_loss: 0.3051\n",
            "Epoch 81/100\n",
            "60000/60000 [==============================] - 1s 17us/sample - loss: 0.3027 - val_loss: 0.3055\n",
            "Epoch 82/100\n",
            "60000/60000 [==============================] - 1s 15us/sample - loss: 0.3026 - val_loss: 0.3051\n",
            "Epoch 83/100\n",
            "60000/60000 [==============================] - 1s 15us/sample - loss: 0.3026 - val_loss: 0.3059\n",
            "Epoch 84/100\n",
            "60000/60000 [==============================] - 1s 15us/sample - loss: 0.3026 - val_loss: 0.3050\n",
            "Epoch 85/100\n",
            "60000/60000 [==============================] - 1s 16us/sample - loss: 0.3026 - val_loss: 0.3050\n",
            "Epoch 86/100\n",
            "60000/60000 [==============================] - 1s 17us/sample - loss: 0.3025 - val_loss: 0.3047\n",
            "Epoch 87/100\n",
            "60000/60000 [==============================] - 1s 17us/sample - loss: 0.3024 - val_loss: 0.3049\n",
            "Epoch 88/100\n",
            "60000/60000 [==============================] - 1s 17us/sample - loss: 0.3024 - val_loss: 0.3048\n",
            "Epoch 89/100\n",
            "60000/60000 [==============================] - 1s 17us/sample - loss: 0.3024 - val_loss: 0.3049\n",
            "Epoch 90/100\n",
            "60000/60000 [==============================] - 1s 17us/sample - loss: 0.3024 - val_loss: 0.3050\n",
            "Epoch 91/100\n",
            "60000/60000 [==============================] - 1s 16us/sample - loss: 0.3023 - val_loss: 0.3047\n",
            "Epoch 92/100\n",
            "60000/60000 [==============================] - 1s 16us/sample - loss: 0.3023 - val_loss: 0.3052\n",
            "Epoch 93/100\n",
            "60000/60000 [==============================] - 1s 15us/sample - loss: 0.3022 - val_loss: 0.3045\n",
            "Epoch 94/100\n",
            "60000/60000 [==============================] - 1s 16us/sample - loss: 0.3022 - val_loss: 0.3047\n",
            "Epoch 95/100\n",
            "60000/60000 [==============================] - 1s 16us/sample - loss: 0.3022 - val_loss: 0.3046\n",
            "Epoch 96/100\n",
            "60000/60000 [==============================] - 1s 17us/sample - loss: 0.3022 - val_loss: 0.3047\n",
            "Epoch 97/100\n",
            "60000/60000 [==============================] - 1s 17us/sample - loss: 0.3021 - val_loss: 0.3051\n",
            "Epoch 98/100\n",
            "60000/60000 [==============================] - 1s 17us/sample - loss: 0.3021 - val_loss: 0.3044\n",
            "Epoch 99/100\n",
            "60000/60000 [==============================] - 1s 16us/sample - loss: 0.3022 - val_loss: 0.3048\n",
            "Epoch 100/100\n",
            "60000/60000 [==============================] - 1s 17us/sample - loss: 0.3021 - val_loss: 0.3047\n",
            "CPU times: user 2min 9s, sys: 11.1 s, total: 2min 20s\n",
            "Wall time: 1min 38s\n"
          ],
          "name": "stdout"
        }
      ]
    },
    {
      "cell_type": "code",
      "metadata": {
        "id": "okpx8cjnMqOQ",
        "colab_type": "code",
        "colab": {}
      },
      "source": [
        "encoder = Model(input_img, encoded)\n",
        "\n",
        "encoded_input = Input(shape=(encoding_dim,))\n",
        "decoder_layer = autoencoder.get_layer('decoder')\n",
        "decoder = Model(encoded_input, decoder_layer(encoded_input))\n",
        "\n",
        "embedded_imgs = encoder.predict(x_test)\n",
        "decoded_imgs = decoder.predict(embedded_imgs)"
      ],
      "execution_count": 0,
      "outputs": []
    },
    {
      "cell_type": "markdown",
      "metadata": {
        "id": "wm1TMDTPSn6X",
        "colab_type": "text"
      },
      "source": [
        "numbers of zeros should go up, while average should go down"
      ]
    },
    {
      "cell_type": "code",
      "metadata": {
        "id": "_zNrmppRURbU",
        "colab_type": "code",
        "colab": {
          "base_uri": "https://localhost:8080/",
          "height": 136
        },
        "outputId": "d179c45f-a517-4187-ef3c-0efa0708c4fc"
      },
      "source": [
        "# embedding for first image\n",
        "embedded_imgs[0]"
      ],
      "execution_count": 24,
      "outputs": [
        {
          "output_type": "execute_result",
          "data": {
            "text/plain": [
              "array([0.        , 0.        , 0.56428206, 0.        , 0.        ,\n",
              "       0.        , 1.1240408 , 0.21235467, 0.        , 0.        ,\n",
              "       0.        , 0.        , 0.        , 0.        , 0.        ,\n",
              "       0.        , 0.02714276, 0.40240937, 0.22843915, 0.        ,\n",
              "       0.17264879, 0.        , 0.88914853, 0.08568703, 0.12659046,\n",
              "       0.777438  , 0.        , 0.        , 0.        , 0.        ,\n",
              "       0.3402785 , 0.        ], dtype=float32)"
            ]
          },
          "metadata": {
            "tags": []
          },
          "execution_count": 24
        }
      ]
    },
    {
      "cell_type": "code",
      "metadata": {
        "id": "d5jdNFSSOQlC",
        "colab_type": "code",
        "colab": {
          "base_uri": "https://localhost:8080/",
          "height": 51
        },
        "outputId": "27bff12e-7d08-4a1c-ef5a-66c334cb7f98"
      },
      "source": [
        "tf.reduce_mean(embedded_imgs), tf.reduce_mean(32 - tf.math.count_nonzero(embedded_imgs, axis=1))"
      ],
      "execution_count": 25,
      "outputs": [
        {
          "output_type": "execute_result",
          "data": {
            "text/plain": [
              "(<tf.Tensor: shape=(), dtype=float32, numpy=0.14778405>,\n",
              " <tf.Tensor: shape=(), dtype=int64, numpy=19>)"
            ]
          },
          "metadata": {
            "tags": []
          },
          "execution_count": 25
        }
      ]
    },
    {
      "cell_type": "code",
      "metadata": {
        "id": "mjBzU1z4S0E5",
        "colab_type": "code",
        "colab": {
          "base_uri": "https://localhost:8080/",
          "height": 502
        },
        "outputId": "39b2f332-2617-40ef-a6d9-469beb618e85"
      },
      "source": [
        "plot_samples(decoded_imgs, y_test, labels=fashion_mnist_labels)"
      ],
      "execution_count": 26,
      "outputs": [
        {
          "output_type": "display_data",
          "data": {
            "text/plain": [
              "<Figure size 1080x576 with 0 Axes>"
            ]
          },
          "metadata": {
            "tags": []
          }
        },
        {
          "output_type": "display_data",
          "data": {
            "image/png": "[encoded data removed]",
            "text/plain": [
              "<Figure size 1440x576 with 15 Axes>"
            ]
          },
          "metadata": {
            "tags": []
          }
        }
      ]
    },
    {
      "cell_type": "code",
      "metadata": {
        "id": "A4vQW5IcS1jP",
        "colab_type": "code",
        "colab": {}
      },
      "source": [
        ""
      ],
      "execution_count": 0,
      "outputs": []
    }
  ]
}