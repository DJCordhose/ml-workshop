{
  "nbformat": 4,
  "nbformat_minor": 0,
  "metadata": {
    "accelerator": "GPU",
    "colab": {
      "name": "autoencoder-mnist",
      "provenance": [],
      "include_colab_link": true
    },
    "kernelspec": {
      "display_name": "Python 3",
      "language": "python",
      "name": "python3"
    },
    "language_info": {
      "codemirror_mode": {
        "name": "ipython",
        "version": 3
      },
      "file_extension": ".py",
      "mimetype": "text/x-python",
      "name": "python",
      "nbconvert_exporter": "python",
      "pygments_lexer": "ipython3",
      "version": "3.7.4"
    }
  },
  "cells": [
    {
      "cell_type": "markdown",
      "metadata": {
        "id": "view-in-github",
        "colab_type": "text"
      },
      "source": [
        "<a href=\"https://colab.research.google.com/github/DJCordhose/ml-workshop/blob/master/notebooks/tf2/autoencoder-mnist.ipynb\" target=\"_parent\"><img src=\"https://colab.research.google.com/assets/colab-badge.svg\" alt=\"Open In Colab\"/></a>"
      ]
    },
    {
      "cell_type": "markdown",
      "metadata": {
        "id": "Xrxz2kmJDuPh",
        "colab_type": "text"
      },
      "source": [
        "# Autoencoder on MNIST data with TensorFlow 2\n",
        "\n",
        "* https://blog.keras.io/building-autoencoders-in-keras.html\n",
        "* https://towardsdatascience.com/deep-inside-autoencoders-7e41f319999f\n",
        "* https://colab.research.google.com/github/ageron/handson-ml2/blob/master/17_autoencoders_and_gans.ipynb"
      ]
    },
    {
      "cell_type": "code",
      "metadata": {
        "id": "BtVLlfXGGYgt",
        "colab_type": "code",
        "colab": {}
      },
      "source": [
        "import matplotlib.pyplot as plt\n",
        "%matplotlib inline\n",
        "\n",
        "dpi = 96\n",
        "# dpi = 300\n",
        "\n",
        "import matplotlib as mpl\n",
        "mpl.rcParams['figure.figsize'] = (15, 8)\n",
        "# mpl.rcParams[\"figure.dpi\"] = dpi\n",
        "mpl.rc('xtick', labelsize=15) \n",
        "mpl.rc('ytick', labelsize=15)\n",
        "\n",
        "font_size=15\n",
        "title_font_size=25\n",
        "\n",
        "# https://matplotlib.org/users/colormaps.html\n",
        "from matplotlib.colors import ListedColormap\n",
        "\n",
        "colors = ['#FF0000', '#0000FF', '#FFFF00']\n",
        "cmap = ListedColormap(colors) "
      ],
      "execution_count": 0,
      "outputs": []
    },
    {
      "cell_type": "code",
      "metadata": {
        "colab_type": "code",
        "id": "BgRmy8QPEGkz",
        "outputId": "e4ddfa39-cd4a-4acb-b783-7eaab1af66d6",
        "colab": {
          "base_uri": "https://localhost:8080/",
          "height": 34
        }
      },
      "source": [
        "# Gives us a well defined version of tensorflow\n",
        "\n",
        "try:\n",
        "  # %tensorflow_version only exists in Colab.\n",
        "  %tensorflow_version 2.x\n",
        "except Exception:\n",
        "  pass"
      ],
      "execution_count": 2,
      "outputs": [
        {
          "output_type": "stream",
          "text": [
            "TensorFlow 2.x selected.\n"
          ],
          "name": "stdout"
        }
      ]
    },
    {
      "cell_type": "code",
      "metadata": {
        "colab_type": "code",
        "id": "293DW4kG87rp",
        "outputId": "3056e495-c509-4ba1-b79d-b443cbabe114",
        "colab": {
          "base_uri": "https://localhost:8080/",
          "height": 34
        }
      },
      "source": [
        "import tensorflow as tf\n",
        "print(tf.__version__)"
      ],
      "execution_count": 3,
      "outputs": [
        {
          "output_type": "stream",
          "text": [
            "2.1.0-rc1\n"
          ],
          "name": "stdout"
        }
      ]
    },
    {
      "cell_type": "code",
      "metadata": {
        "id": "xex2dweHLojA",
        "colab_type": "code",
        "colab": {}
      },
      "source": [
        "tf.random.set_seed(42)"
      ],
      "execution_count": 0,
      "outputs": []
    },
    {
      "cell_type": "code",
      "metadata": {
        "id": "-Sm8sz8zsMfX",
        "colab_type": "code",
        "outputId": "58a8aad5-53fc-4572-e999-085c64713b3d",
        "colab": {
          "base_uri": "https://localhost:8080/",
          "height": 306
        }
      },
      "source": [
        "!nvidia-smi"
      ],
      "execution_count": 5,
      "outputs": [
        {
          "output_type": "stream",
          "text": [
            "Sat Dec 28 18:54:52 2019       \n",
            "+-----------------------------------------------------------------------------+\n",
            "| NVIDIA-SMI 440.44       Driver Version: 418.67       CUDA Version: 10.1     |\n",
            "|-------------------------------+----------------------+----------------------+\n",
            "| GPU  Name        Persistence-M| Bus-Id        Disp.A | Volatile Uncorr. ECC |\n",
            "| Fan  Temp  Perf  Pwr:Usage/Cap|         Memory-Usage | GPU-Util  Compute M. |\n",
            "|===============================+======================+======================|\n",
            "|   0  Tesla P100-PCIE...  Off  | 00000000:00:04.0 Off |                    0 |\n",
            "| N/A   49C    P0    29W / 250W |      0MiB / 16280MiB |      0%      Default |\n",
            "+-------------------------------+----------------------+----------------------+\n",
            "                                                                               \n",
            "+-----------------------------------------------------------------------------+\n",
            "| Processes:                                                       GPU Memory |\n",
            "|  GPU       PID   Type   Process name                             Usage      |\n",
            "|=============================================================================|\n",
            "|  No running processes found                                                 |\n",
            "+-----------------------------------------------------------------------------+\n"
          ],
          "name": "stdout"
        }
      ]
    },
    {
      "cell_type": "markdown",
      "metadata": {
        "id": "EC2PvYtBxbTO",
        "colab_type": "text"
      },
      "source": [
        "## MNIST data set"
      ]
    },
    {
      "cell_type": "code",
      "metadata": {
        "id": "CXcAXADBw9aF",
        "colab_type": "code",
        "colab": {
          "base_uri": "https://localhost:8080/",
          "height": 34
        },
        "outputId": "289ec71e-22be-42be-d898-58ffb36a366c"
      },
      "source": [
        "import numpy as np\n",
        "from tensorflow.keras.datasets import mnist, fashion_mnist\n",
        "\n",
        "x_res = 28\n",
        "y_res = 28\n",
        "image_size = x_res * y_res\n",
        "\n",
        "# (x_train, y_train), (x_test, y_test) = mnist.load_data()\n",
        "(x_train, y_train), (x_test, y_test) = fashion_mnist.load_data()\n",
        "\n",
        "x_train = x_train.astype('float32') / 255.\n",
        "x_test = x_test.astype('float32') / 255.\n",
        "\n",
        "x_train.shape, x_test.shape"
      ],
      "execution_count": 6,
      "outputs": [
        {
          "output_type": "execute_result",
          "data": {
            "text/plain": [
              "((60000, 28, 28), (10000, 28, 28))"
            ]
          },
          "metadata": {
            "tags": []
          },
          "execution_count": 6
        }
      ]
    },
    {
      "cell_type": "markdown",
      "metadata": {
        "id": "edZYuvqS9iA5",
        "colab_type": "text"
      },
      "source": [
        "can not use 2d rep as autoencoder needs to spit out flat image"
      ]
    },
    {
      "cell_type": "code",
      "metadata": {
        "id": "c2e6enP49om1",
        "colab_type": "code",
        "colab": {
          "base_uri": "https://localhost:8080/",
          "height": 34
        },
        "outputId": "20cb06f7-1eec-4463-c0ff-b0af7d2d1263"
      },
      "source": [
        "x_train = x_train.reshape(-1, image_size)\n",
        "x_test = x_test.reshape(-1, image_size)\n",
        "x_train.shape, x_test.shape"
      ],
      "execution_count": 7,
      "outputs": [
        {
          "output_type": "execute_result",
          "data": {
            "text/plain": [
              "((60000, 784), (10000, 784))"
            ]
          },
          "metadata": {
            "tags": []
          },
          "execution_count": 7
        }
      ]
    },
    {
      "cell_type": "code",
      "metadata": {
        "id": "W0U06lxl1sI7",
        "colab_type": "code",
        "colab": {}
      },
      "source": [
        "def plot_samples(x, y, n_samples=15, labels=None):\n",
        "  \n",
        "  plt.gray()\n",
        "  figure = plt.figure(figsize=(20, 8))\n",
        "  for i, index in enumerate(np.random.choice(x_test.shape[0], size=n_samples, replace=False)):\n",
        "      ax = figure.add_subplot(3, 5, i + 1, xticks=[], yticks=[])\n",
        "      ax.imshow(x[index].reshape(x_res, y_res))\n",
        "      if labels:\n",
        "        ax.set_title(\"{}\".format(labels[y[index]]))\n",
        "      else:\n",
        "        ax.set_title(\"{}\".format(y[index]))"
      ],
      "execution_count": 0,
      "outputs": []
    },
    {
      "cell_type": "code",
      "metadata": {
        "id": "SWhKZaao2klB",
        "colab_type": "code",
        "colab": {
          "base_uri": "https://localhost:8080/",
          "height": 502
        },
        "outputId": "f8ac6420-593a-41fc-b387-27e10f52931d"
      },
      "source": [
        "fashion_mnist_labels = [\"T-shirt/top\",  # index 0\n",
        "                        \"Trouser\",      # index 1\n",
        "                        \"Pullover\",     # index 2 \n",
        "                        \"Dress\",        # index 3 \n",
        "                        \"Coat\",         # index 4\n",
        "                        \"Sandal\",       # index 5\n",
        "                        \"Shirt\",        # index 6 \n",
        "                        \"Sneaker\",      # index 7 \n",
        "                        \"Bag\",          # index 8 \n",
        "                        \"Ankle boot\"]   # index 9\n",
        "\n",
        "\n",
        "plot_samples(x_train, y_train, labels=fashion_mnist_labels)"
      ],
      "execution_count": 9,
      "outputs": [
        {
          "output_type": "display_data",
          "data": {
            "text/plain": [
              "<Figure size 1080x576 with 0 Axes>"
            ]
          },
          "metadata": {
            "tags": []
          }
        },
        {
          "output_type": "display_data",
          "data": {
            "image/png": "[encoded data removed]",
            "text/plain": [
              "<Figure size 1440x576 with 15 Axes>"
            ]
          },
          "metadata": {
            "tags": []
          }
        }
      ]
    },
    {
      "cell_type": "markdown",
      "metadata": {
        "id": "yEpZ-X4G7xS3",
        "colab_type": "text"
      },
      "source": [
        "autoencoder using functional API"
      ]
    },
    {
      "cell_type": "code",
      "metadata": {
        "colab_type": "code",
        "id": "aQ9zaYau8-SR",
        "colab": {
          "base_uri": "https://localhost:8080/",
          "height": 255
        },
        "outputId": "ccb55b11-57a5-44a4-f7e0-71038bb70cf0"
      },
      "source": [
        "from tensorflow.keras.layers import Input, Dense, Reshape, Flatten\n",
        "from tensorflow.keras.models import Model\n",
        "\n",
        "encoding_dim = 32\n",
        "\n",
        "# input_img = Input(shape=(28, 28), name='2d_input')\n",
        "input_img = Input(shape=image_size, name='1d_input')\n",
        "# flattened = Flatten(name='flattened_input')(input_img)\n",
        "encoded = Dense(encoding_dim, activation='relu', name='encoder')(input_img)\n",
        "decoded = Dense(image_size, activation='sigmoid', name='decoder')(encoded)\n",
        "# reshaped = Reshape((28, 28), name='2d_output')(decoded)\n",
        "\n",
        "autoencoder = Model(input_img, decoded)\n",
        "autoencoder.summary()"
      ],
      "execution_count": 10,
      "outputs": [
        {
          "output_type": "stream",
          "text": [
            "Model: \"model\"\n",
            "_________________________________________________________________\n",
            "Layer (type)                 Output Shape              Param #   \n",
            "=================================================================\n",
            "1d_input (InputLayer)        [(None, 784)]             0         \n",
            "_________________________________________________________________\n",
            "encoder (Dense)              (None, 32)                25120     \n",
            "_________________________________________________________________\n",
            "decoder (Dense)              (None, 784)               25872     \n",
            "=================================================================\n",
            "Total params: 50,992\n",
            "Trainable params: 50,992\n",
            "Non-trainable params: 0\n",
            "_________________________________________________________________\n"
          ],
          "name": "stdout"
        }
      ]
    },
    {
      "cell_type": "code",
      "metadata": {
        "id": "FVtqhlaH4_Fv",
        "colab_type": "code",
        "colab": {
          "base_uri": "https://localhost:8080/",
          "height": 312
        },
        "outputId": "8020bfb2-20af-411b-9d53-348ecbd49948"
      },
      "source": [
        "from tensorflow.keras.utils import plot_model\n",
        "\n",
        "plot_model(autoencoder, show_shapes=True, dpi=dpi)"
      ],
      "execution_count": 11,
      "outputs": [
        {
          "output_type": "execute_result",
          "data": {
            "image/png": "[encoded data removed]",
            "text/plain": [
              "<IPython.core.display.Image object>"
            ]
          },
          "metadata": {
            "tags": []
          },
          "execution_count": 11
        }
      ]
    },
    {
      "cell_type": "code",
      "metadata": {
        "colab_type": "code",
        "id": "Hz3RRQQAEGl2",
        "outputId": "d7c7b998-acbe-40dd-a911-4946aa5bdfea",
        "colab": {
          "base_uri": "https://localhost:8080/",
          "height": 1000
        }
      },
      "source": [
        "%%time \n",
        "\n",
        "BATCH_SIZE = 256\n",
        "EPOCHS = 50\n",
        "\n",
        "# binary_crossentropy seems to encourage more sparsity all by itself\n",
        "autoencoder.compile(optimizer='adam', loss='binary_crossentropy')\n",
        "# autoencoder.compile(optimizer='adam', loss='mse')\n",
        "\n",
        "# we expect 0.09 for mninst and around 0.28 for fahshin mnist\n",
        "history = autoencoder.fit(x = x_train,\n",
        "                    y = x_train,\n",
        "                    validation_data=(x_test, x_test),\n",
        "                    epochs=EPOCHS, \n",
        "                    batch_size=BATCH_SIZE, \n",
        "                    verbose=1)"
      ],
      "execution_count": 12,
      "outputs": [
        {
          "output_type": "stream",
          "text": [
            "Train on 60000 samples, validate on 10000 samples\n",
            "Epoch 1/50\n",
            "60000/60000 [==============================] - 2s 28us/sample - loss: 0.4145 - val_loss: 0.3425\n",
            "Epoch 2/50\n",
            "60000/60000 [==============================] - 1s 17us/sample - loss: 0.3263 - val_loss: 0.3186\n",
            "Epoch 3/50\n",
            "60000/60000 [==============================] - 1s 17us/sample - loss: 0.3104 - val_loss: 0.3073\n",
            "Epoch 4/50\n",
            "60000/60000 [==============================] - 1s 18us/sample - loss: 0.3014 - val_loss: 0.3000\n",
            "Epoch 5/50\n",
            "60000/60000 [==============================] - 1s 17us/sample - loss: 0.2956 - val_loss: 0.2957\n",
            "Epoch 6/50\n",
            "60000/60000 [==============================] - 1s 17us/sample - loss: 0.2919 - val_loss: 0.2926\n",
            "Epoch 7/50\n",
            "60000/60000 [==============================] - 1s 17us/sample - loss: 0.2894 - val_loss: 0.2909\n",
            "Epoch 8/50\n",
            "60000/60000 [==============================] - 1s 18us/sample - loss: 0.2878 - val_loss: 0.2894\n",
            "Epoch 9/50\n",
            "60000/60000 [==============================] - 1s 17us/sample - loss: 0.2868 - val_loss: 0.2885\n",
            "Epoch 10/50\n",
            "60000/60000 [==============================] - 1s 17us/sample - loss: 0.2861 - val_loss: 0.2883\n",
            "Epoch 11/50\n",
            "60000/60000 [==============================] - 1s 18us/sample - loss: 0.2856 - val_loss: 0.2875\n",
            "Epoch 12/50\n",
            "60000/60000 [==============================] - 1s 17us/sample - loss: 0.2851 - val_loss: 0.2872\n",
            "Epoch 13/50\n",
            "60000/60000 [==============================] - 1s 17us/sample - loss: 0.2848 - val_loss: 0.2868\n",
            "Epoch 14/50\n",
            "60000/60000 [==============================] - 1s 18us/sample - loss: 0.2845 - val_loss: 0.2865\n",
            "Epoch 15/50\n",
            "60000/60000 [==============================] - 1s 17us/sample - loss: 0.2843 - val_loss: 0.2864\n",
            "Epoch 16/50\n",
            "60000/60000 [==============================] - 1s 17us/sample - loss: 0.2840 - val_loss: 0.2860\n",
            "Epoch 17/50\n",
            "60000/60000 [==============================] - 1s 18us/sample - loss: 0.2835 - val_loss: 0.2855\n",
            "Epoch 18/50\n",
            "60000/60000 [==============================] - 1s 18us/sample - loss: 0.2832 - val_loss: 0.2856\n",
            "Epoch 19/50\n",
            "60000/60000 [==============================] - 1s 18us/sample - loss: 0.2830 - val_loss: 0.2852\n",
            "Epoch 20/50\n",
            "60000/60000 [==============================] - 1s 18us/sample - loss: 0.2828 - val_loss: 0.2850\n",
            "Epoch 21/50\n",
            "60000/60000 [==============================] - 1s 19us/sample - loss: 0.2827 - val_loss: 0.2850\n",
            "Epoch 22/50\n",
            "60000/60000 [==============================] - 1s 18us/sample - loss: 0.2826 - val_loss: 0.2849\n",
            "Epoch 23/50\n",
            "60000/60000 [==============================] - 1s 19us/sample - loss: 0.2825 - val_loss: 0.2848\n",
            "Epoch 24/50\n",
            "60000/60000 [==============================] - 1s 19us/sample - loss: 0.2824 - val_loss: 0.2847\n",
            "Epoch 25/50\n",
            "60000/60000 [==============================] - 1s 19us/sample - loss: 0.2823 - val_loss: 0.2846\n",
            "Epoch 26/50\n",
            "60000/60000 [==============================] - 1s 18us/sample - loss: 0.2822 - val_loss: 0.2846\n",
            "Epoch 27/50\n",
            "60000/60000 [==============================] - 1s 17us/sample - loss: 0.2822 - val_loss: 0.2845\n",
            "Epoch 28/50\n",
            "60000/60000 [==============================] - 1s 17us/sample - loss: 0.2821 - val_loss: 0.2845\n",
            "Epoch 29/50\n",
            "60000/60000 [==============================] - 1s 17us/sample - loss: 0.2821 - val_loss: 0.2844\n",
            "Epoch 30/50\n",
            "60000/60000 [==============================] - 1s 17us/sample - loss: 0.2820 - val_loss: 0.2843\n",
            "Epoch 31/50\n",
            "60000/60000 [==============================] - 1s 17us/sample - loss: 0.2820 - val_loss: 0.2843\n",
            "Epoch 32/50\n",
            "60000/60000 [==============================] - 1s 17us/sample - loss: 0.2819 - val_loss: 0.2842\n",
            "Epoch 33/50\n",
            "60000/60000 [==============================] - 1s 17us/sample - loss: 0.2819 - val_loss: 0.2842\n",
            "Epoch 34/50\n",
            "60000/60000 [==============================] - 1s 18us/sample - loss: 0.2818 - val_loss: 0.2842\n",
            "Epoch 35/50\n",
            "60000/60000 [==============================] - 1s 17us/sample - loss: 0.2818 - val_loss: 0.2841\n",
            "Epoch 36/50\n",
            "60000/60000 [==============================] - 1s 17us/sample - loss: 0.2817 - val_loss: 0.2841\n",
            "Epoch 37/50\n",
            "60000/60000 [==============================] - 1s 17us/sample - loss: 0.2817 - val_loss: 0.2840\n",
            "Epoch 38/50\n",
            "60000/60000 [==============================] - 1s 17us/sample - loss: 0.2817 - val_loss: 0.2840\n",
            "Epoch 39/50\n",
            "60000/60000 [==============================] - 1s 17us/sample - loss: 0.2816 - val_loss: 0.2841\n",
            "Epoch 40/50\n",
            "60000/60000 [==============================] - 1s 18us/sample - loss: 0.2816 - val_loss: 0.2841\n",
            "Epoch 41/50\n",
            "60000/60000 [==============================] - 1s 18us/sample - loss: 0.2816 - val_loss: 0.2840\n",
            "Epoch 42/50\n",
            "60000/60000 [==============================] - 1s 18us/sample - loss: 0.2816 - val_loss: 0.2840\n",
            "Epoch 43/50\n",
            "60000/60000 [==============================] - 1s 17us/sample - loss: 0.2815 - val_loss: 0.2840\n",
            "Epoch 44/50\n",
            "60000/60000 [==============================] - 1s 18us/sample - loss: 0.2815 - val_loss: 0.2839\n",
            "Epoch 45/50\n",
            "60000/60000 [==============================] - 1s 17us/sample - loss: 0.2815 - val_loss: 0.2839\n",
            "Epoch 46/50\n",
            "60000/60000 [==============================] - 1s 17us/sample - loss: 0.2815 - val_loss: 0.2839\n",
            "Epoch 47/50\n",
            "60000/60000 [==============================] - 1s 17us/sample - loss: 0.2815 - val_loss: 0.2838\n",
            "Epoch 48/50\n",
            "60000/60000 [==============================] - 1s 17us/sample - loss: 0.2814 - val_loss: 0.2838\n",
            "Epoch 49/50\n",
            "60000/60000 [==============================] - 1s 17us/sample - loss: 0.2814 - val_loss: 0.2839\n",
            "Epoch 50/50\n",
            "60000/60000 [==============================] - 1s 17us/sample - loss: 0.2814 - val_loss: 0.2838\n",
            "CPU times: user 1min 7s, sys: 6.7 s, total: 1min 13s\n",
            "Wall time: 53.6 s\n"
          ],
          "name": "stdout"
        }
      ]
    },
    {
      "cell_type": "code",
      "metadata": {
        "colab_type": "code",
        "id": "d8x9kNbyEGmM",
        "outputId": "6680c9aa-9201-4d30-f3b9-9f767066a56c",
        "colab": {
          "base_uri": "https://localhost:8080/",
          "height": 502
        }
      },
      "source": [
        "plt.yscale('log')\n",
        "\n",
        "plt.ylabel(\"loss\")\n",
        "plt.xlabel(\"epochs\")\n",
        "\n",
        "plt.plot(history.history['loss'])\n",
        "plt.plot(history.history['val_loss'])\n",
        "\n",
        "plt.legend([\"Loss\", \"Valdation Loss\"]);"
      ],
      "execution_count": 13,
      "outputs": [
        {
          "output_type": "display_data",
          "data": {
            "image/png": "[encoded data removed]",
            "text/plain": [
              "<Figure size 1080x576 with 1 Axes>"
            ]
          },
          "metadata": {
            "tags": []
          }
        }
      ]
    },
    {
      "cell_type": "code",
      "metadata": {
        "id": "MpfdB-NeAo6Y",
        "colab_type": "code",
        "colab": {}
      },
      "source": [
        "encoder = Model(input_img, encoded)\n",
        "\n",
        "encoded_input = Input(shape=(encoding_dim,))\n",
        "decoder_layer = autoencoder.get_layer('decoder')\n",
        "decoder = Model(encoded_input, decoder_layer(encoded_input))\n",
        "\n",
        "embedded_imgs = encoder.predict(x_test)\n",
        "decoded_imgs = decoder.predict(embedded_imgs)"
      ],
      "execution_count": 0,
      "outputs": []
    },
    {
      "cell_type": "code",
      "metadata": {
        "id": "BzYtz0GWCzS1",
        "colab_type": "code",
        "colab": {}
      },
      "source": [
        "# shortcut\n",
        "# x_test_pred = autoencoder.predict(x_test)\n",
        "x_test_pred = decoded_imgs"
      ],
      "execution_count": 0,
      "outputs": []
    },
    {
      "cell_type": "code",
      "metadata": {
        "id": "FKFHlrJqAcTw",
        "colab_type": "code",
        "colab": {
          "base_uri": "https://localhost:8080/",
          "height": 502
        },
        "outputId": "c514e5e5-5d6f-45e5-ae93-70b9a560f50f"
      },
      "source": [
        "plot_samples(x_test_pred, y_test, labels=fashion_mnist_labels)"
      ],
      "execution_count": 16,
      "outputs": [
        {
          "output_type": "display_data",
          "data": {
            "text/plain": [
              "<Figure size 1080x576 with 0 Axes>"
            ]
          },
          "metadata": {
            "tags": []
          }
        },
        {
          "output_type": "display_data",
          "data": {
            "image/png": "[encoded data removed]",
            "text/plain": [
              "<Figure size 1440x576 with 15 Axes>"
            ]
          },
          "metadata": {
            "tags": []
          }
        }
      ]
    },
    {
      "cell_type": "markdown",
      "metadata": {
        "id": "EvdzeThkREAG",
        "colab_type": "text"
      },
      "source": [
        "## let's consider the sparsity of an embedding \n",
        "### how big are the embeddings on avearge and how many zeros do the embeddings contain on average"
      ]
    },
    {
      "cell_type": "code",
      "metadata": {
        "id": "AJcApDw1OHsh",
        "colab_type": "code",
        "outputId": "08c1115c-bef9-498a-d57a-2cb045ce0ab2",
        "colab": {
          "base_uri": "https://localhost:8080/",
          "height": 34
        }
      },
      "source": [
        "embedded_imgs.shape"
      ],
      "execution_count": 17,
      "outputs": [
        {
          "output_type": "execute_result",
          "data": {
            "text/plain": [
              "(10000, 32)"
            ]
          },
          "metadata": {
            "tags": []
          },
          "execution_count": 17
        }
      ]
    },
    {
      "cell_type": "code",
      "metadata": {
        "id": "MdPxlxj0OtdO",
        "colab_type": "code",
        "outputId": "c46bcbcd-216c-4352-c696-d2ec1218264a",
        "colab": {
          "base_uri": "https://localhost:8080/",
          "height": 136
        }
      },
      "source": [
        "# embedding for first image\n",
        "embedded_imgs[0]"
      ],
      "execution_count": 18,
      "outputs": [
        {
          "output_type": "execute_result",
          "data": {
            "text/plain": [
              "array([ 3.1190462, 10.62861  ,  3.5407434,  0.       ,  2.4856448,\n",
              "        2.685505 ,  5.2052474,  0.       ,  2.8165011,  5.1303024,\n",
              "        6.0845175,  8.643307 ,  7.7129354,  6.4810696,  2.198099 ,\n",
              "        3.2067802,  9.063464 ,  6.5347075,  8.101348 ,  8.282154 ,\n",
              "        4.277429 ,  4.04232  ,  8.712006 ,  4.8522987,  2.3722847,\n",
              "        3.862379 ,  5.9637785,  1.8001074,  3.3654954,  7.1567707,\n",
              "        0.8744916,  3.4615965], dtype=float32)"
            ]
          },
          "metadata": {
            "tags": []
          },
          "execution_count": 18
        }
      ]
    },
    {
      "cell_type": "code",
      "metadata": {
        "id": "39fEwt4YPGVR",
        "colab_type": "code",
        "outputId": "b801186d-bfc1-44b7-df00-4baf4e110d98",
        "colab": {
          "base_uri": "https://localhost:8080/",
          "height": 34
        }
      },
      "source": [
        "tf.reduce_mean(embedded_imgs)"
      ],
      "execution_count": 19,
      "outputs": [
        {
          "output_type": "execute_result",
          "data": {
            "text/plain": [
              "<tf.Tensor: shape=(), dtype=float32, numpy=4.579753>"
            ]
          },
          "metadata": {
            "tags": []
          },
          "execution_count": 19
        }
      ]
    },
    {
      "cell_type": "code",
      "metadata": {
        "id": "NyFxjo8wOTR7",
        "colab_type": "code",
        "outputId": "a192a813-e4ef-48d8-fb1e-39b5936e7d8f",
        "colab": {
          "base_uri": "https://localhost:8080/",
          "height": 34
        }
      },
      "source": [
        "# how many zeros do the embeddings contain on average\n",
        "tf.reduce_mean(32 - tf.math.count_nonzero(embedded_imgs, axis=1))"
      ],
      "execution_count": 20,
      "outputs": [
        {
          "output_type": "execute_result",
          "data": {
            "text/plain": [
              "<tf.Tensor: shape=(), dtype=int64, numpy=3>"
            ]
          },
          "metadata": {
            "tags": []
          },
          "execution_count": 20
        }
      ]
    },
    {
      "cell_type": "markdown",
      "metadata": {
        "id": "vcP13qQrWqBT",
        "colab_type": "text"
      },
      "source": [
        "## Exercise\n",
        "\n",
        "Experiment with\n",
        "* the size of the embedding\n",
        "* MSE as a loss function\n",
        "* mnist digits dataset instead of fashin mninst"
      ]
    },
    {
      "cell_type": "markdown",
      "metadata": {
        "id": "Bwmvq2PdWVMM",
        "colab_type": "text"
      },
      "source": [
        "# STOP HERE"
      ]
    },
    {
      "cell_type": "markdown",
      "metadata": {
        "id": "auGA95RGEmIx",
        "colab_type": "text"
      },
      "source": [
        "## Adding sparsity"
      ]
    },
    {
      "cell_type": "code",
      "metadata": {
        "id": "46nsgAtRCqqE",
        "colab_type": "code",
        "colab": {
          "base_uri": "https://localhost:8080/",
          "height": 255
        },
        "outputId": "253c1424-1db4-4d98-8b54-b93c475bdb60"
      },
      "source": [
        "from tensorflow.keras import regularizers\n",
        "\n",
        "encoding_dim = 32\n",
        "\n",
        "input_img = Input(shape=(image_size,))\n",
        "# add a Dense layer with a L1 activity regularizer\n",
        "encoded = Dense(encoding_dim, activation='relu',\n",
        "                activity_regularizer=regularizers.l1(1e-3))(input_img)\n",
        "decoded = Dense(784, activation='sigmoid', name='decoder')(encoded)\n",
        "\n",
        "autoencoder = Model(input_img, decoded)\n",
        "autoencoder.summary()"
      ],
      "execution_count": 21,
      "outputs": [
        {
          "output_type": "stream",
          "text": [
            "Model: \"model_3\"\n",
            "_________________________________________________________________\n",
            "Layer (type)                 Output Shape              Param #   \n",
            "=================================================================\n",
            "input_2 (InputLayer)         [(None, 784)]             0         \n",
            "_________________________________________________________________\n",
            "dense (Dense)                (None, 32)                25120     \n",
            "_________________________________________________________________\n",
            "decoder (Dense)              (None, 784)               25872     \n",
            "=================================================================\n",
            "Total params: 50,992\n",
            "Trainable params: 50,992\n",
            "Non-trainable params: 0\n",
            "_________________________________________________________________\n"
          ],
          "name": "stdout"
        }
      ]
    },
    {
      "cell_type": "code",
      "metadata": {
        "id": "JaZgKTU7lObU",
        "colab_type": "code",
        "colab": {}
      },
      "source": [
        "from tensorflow import keras\n",
        "\n",
        "@tf.function\n",
        "def rounded_accuracy(y_true, y_pred):\n",
        "    return keras.metrics.binary_accuracy(tf.round(y_true), tf.round(y_pred))"
      ],
      "execution_count": 0,
      "outputs": []
    },
    {
      "cell_type": "code",
      "metadata": {
        "id": "CjR2aHyeJwqU",
        "colab_type": "code",
        "colab": {
          "base_uri": "https://localhost:8080/",
          "height": 1000
        },
        "outputId": "518f2a0b-5253-4978-eca1-481c26e66ca2"
      },
      "source": [
        "%%time \n",
        "\n",
        "BATCH_SIZE = 256\n",
        "EPOCHS = 100\n",
        "\n",
        "autoencoder.compile(optimizer='adam', loss='binary_crossentropy', metrics=[rounded_accuracy])\n",
        "\n",
        "# we expect 0.09 for mninst and around 0.28 for fahshin mnist\n",
        "history = autoencoder.fit(x = x_train,\n",
        "                    y = x_train,\n",
        "                    validation_data=(x_test, x_test),\n",
        "                    epochs=EPOCHS, \n",
        "                    batch_size=BATCH_SIZE, \n",
        "                    verbose=1)"
      ],
      "execution_count": 23,
      "outputs": [
        {
          "output_type": "stream",
          "text": [
            "Train on 60000 samples, validate on 10000 samples\n",
            "Epoch 1/100\n",
            "60000/60000 [==============================] - 2s 29us/sample - loss: 0.4825 - rounded_accuracy: 0.7910 - val_loss: 0.3974 - val_rounded_accuracy: 0.8592\n",
            "Epoch 2/100\n",
            "60000/60000 [==============================] - 1s 21us/sample - loss: 0.3732 - rounded_accuracy: 0.8776 - val_loss: 0.3603 - val_rounded_accuracy: 0.8869\n",
            "Epoch 3/100\n",
            "60000/60000 [==============================] - 1s 21us/sample - loss: 0.3507 - rounded_accuracy: 0.8943 - val_loss: 0.3465 - val_rounded_accuracy: 0.8981\n",
            "Epoch 4/100\n",
            "60000/60000 [==============================] - 1s 21us/sample - loss: 0.3401 - rounded_accuracy: 0.9030 - val_loss: 0.3381 - val_rounded_accuracy: 0.9049\n",
            "Epoch 5/100\n",
            "60000/60000 [==============================] - 1s 21us/sample - loss: 0.3329 - rounded_accuracy: 0.9089 - val_loss: 0.3319 - val_rounded_accuracy: 0.9089\n",
            "Epoch 6/100\n",
            "60000/60000 [==============================] - 1s 20us/sample - loss: 0.3277 - rounded_accuracy: 0.9125 - val_loss: 0.3277 - val_rounded_accuracy: 0.9130\n",
            "Epoch 7/100\n",
            "60000/60000 [==============================] - 1s 21us/sample - loss: 0.3243 - rounded_accuracy: 0.9145 - val_loss: 0.3251 - val_rounded_accuracy: 0.9143\n",
            "Epoch 8/100\n",
            "60000/60000 [==============================] - 1s 21us/sample - loss: 0.3221 - rounded_accuracy: 0.9158 - val_loss: 0.3233 - val_rounded_accuracy: 0.9155\n",
            "Epoch 9/100\n",
            "60000/60000 [==============================] - 1s 21us/sample - loss: 0.3205 - rounded_accuracy: 0.9165 - val_loss: 0.3219 - val_rounded_accuracy: 0.9159\n",
            "Epoch 10/100\n",
            "60000/60000 [==============================] - 1s 21us/sample - loss: 0.3193 - rounded_accuracy: 0.9170 - val_loss: 0.3209 - val_rounded_accuracy: 0.9171\n",
            "Epoch 11/100\n",
            "60000/60000 [==============================] - 1s 21us/sample - loss: 0.3181 - rounded_accuracy: 0.9175 - val_loss: 0.3194 - val_rounded_accuracy: 0.9167\n",
            "Epoch 12/100\n",
            "60000/60000 [==============================] - 1s 20us/sample - loss: 0.3168 - rounded_accuracy: 0.9183 - val_loss: 0.3183 - val_rounded_accuracy: 0.9177\n",
            "Epoch 13/100\n",
            "60000/60000 [==============================] - 1s 21us/sample - loss: 0.3158 - rounded_accuracy: 0.9189 - val_loss: 0.3176 - val_rounded_accuracy: 0.9170\n",
            "Epoch 14/100\n",
            "60000/60000 [==============================] - 1s 21us/sample - loss: 0.3149 - rounded_accuracy: 0.9193 - val_loss: 0.3167 - val_rounded_accuracy: 0.9180\n",
            "Epoch 15/100\n",
            "60000/60000 [==============================] - 1s 20us/sample - loss: 0.3142 - rounded_accuracy: 0.9196 - val_loss: 0.3162 - val_rounded_accuracy: 0.9174\n",
            "Epoch 16/100\n",
            "60000/60000 [==============================] - 1s 21us/sample - loss: 0.3134 - rounded_accuracy: 0.9200 - val_loss: 0.3153 - val_rounded_accuracy: 0.9187\n",
            "Epoch 17/100\n",
            "60000/60000 [==============================] - 1s 21us/sample - loss: 0.3128 - rounded_accuracy: 0.9202 - val_loss: 0.3146 - val_rounded_accuracy: 0.9191\n",
            "Epoch 18/100\n",
            "60000/60000 [==============================] - 1s 21us/sample - loss: 0.3122 - rounded_accuracy: 0.9204 - val_loss: 0.3143 - val_rounded_accuracy: 0.9184\n",
            "Epoch 19/100\n",
            "60000/60000 [==============================] - 1s 21us/sample - loss: 0.3117 - rounded_accuracy: 0.9206 - val_loss: 0.3138 - val_rounded_accuracy: 0.9189\n",
            "Epoch 20/100\n",
            "60000/60000 [==============================] - 1s 21us/sample - loss: 0.3112 - rounded_accuracy: 0.9207 - val_loss: 0.3134 - val_rounded_accuracy: 0.9203\n",
            "Epoch 21/100\n",
            "60000/60000 [==============================] - 1s 21us/sample - loss: 0.3108 - rounded_accuracy: 0.9209 - val_loss: 0.3127 - val_rounded_accuracy: 0.9197\n",
            "Epoch 22/100\n",
            "60000/60000 [==============================] - 1s 20us/sample - loss: 0.3104 - rounded_accuracy: 0.9210 - val_loss: 0.3123 - val_rounded_accuracy: 0.9203\n",
            "Epoch 23/100\n",
            "60000/60000 [==============================] - 1s 21us/sample - loss: 0.3100 - rounded_accuracy: 0.9211 - val_loss: 0.3120 - val_rounded_accuracy: 0.9202\n",
            "Epoch 24/100\n",
            "60000/60000 [==============================] - 1s 21us/sample - loss: 0.3096 - rounded_accuracy: 0.9212 - val_loss: 0.3116 - val_rounded_accuracy: 0.9207\n",
            "Epoch 25/100\n",
            "60000/60000 [==============================] - 1s 20us/sample - loss: 0.3093 - rounded_accuracy: 0.9213 - val_loss: 0.3113 - val_rounded_accuracy: 0.9208\n",
            "Epoch 26/100\n",
            "60000/60000 [==============================] - 1s 21us/sample - loss: 0.3089 - rounded_accuracy: 0.9215 - val_loss: 0.3110 - val_rounded_accuracy: 0.9199\n",
            "Epoch 27/100\n",
            "60000/60000 [==============================] - 1s 21us/sample - loss: 0.3086 - rounded_accuracy: 0.9216 - val_loss: 0.3109 - val_rounded_accuracy: 0.9195\n",
            "Epoch 28/100\n",
            "60000/60000 [==============================] - 1s 21us/sample - loss: 0.3084 - rounded_accuracy: 0.9217 - val_loss: 0.3105 - val_rounded_accuracy: 0.9200\n",
            "Epoch 29/100\n",
            "60000/60000 [==============================] - 1s 21us/sample - loss: 0.3080 - rounded_accuracy: 0.9218 - val_loss: 0.3101 - val_rounded_accuracy: 0.9209\n",
            "Epoch 30/100\n",
            "60000/60000 [==============================] - 1s 20us/sample - loss: 0.3078 - rounded_accuracy: 0.9218 - val_loss: 0.3100 - val_rounded_accuracy: 0.9215\n",
            "Epoch 31/100\n",
            "60000/60000 [==============================] - 1s 21us/sample - loss: 0.3076 - rounded_accuracy: 0.9219 - val_loss: 0.3098 - val_rounded_accuracy: 0.9216\n",
            "Epoch 32/100\n",
            "60000/60000 [==============================] - 1s 21us/sample - loss: 0.3073 - rounded_accuracy: 0.9220 - val_loss: 0.3095 - val_rounded_accuracy: 0.9204\n",
            "Epoch 33/100\n",
            "60000/60000 [==============================] - 1s 20us/sample - loss: 0.3071 - rounded_accuracy: 0.9221 - val_loss: 0.3092 - val_rounded_accuracy: 0.9207\n",
            "Epoch 34/100\n",
            "60000/60000 [==============================] - 1s 21us/sample - loss: 0.3069 - rounded_accuracy: 0.9222 - val_loss: 0.3091 - val_rounded_accuracy: 0.9219\n",
            "Epoch 35/100\n",
            "60000/60000 [==============================] - 1s 21us/sample - loss: 0.3067 - rounded_accuracy: 0.9222 - val_loss: 0.3088 - val_rounded_accuracy: 0.9211\n",
            "Epoch 36/100\n",
            "60000/60000 [==============================] - 1s 21us/sample - loss: 0.3065 - rounded_accuracy: 0.9222 - val_loss: 0.3088 - val_rounded_accuracy: 0.9206\n",
            "Epoch 37/100\n",
            "60000/60000 [==============================] - 1s 21us/sample - loss: 0.3063 - rounded_accuracy: 0.9224 - val_loss: 0.3086 - val_rounded_accuracy: 0.9218\n",
            "Epoch 38/100\n",
            "60000/60000 [==============================] - 1s 20us/sample - loss: 0.3062 - rounded_accuracy: 0.9223 - val_loss: 0.3084 - val_rounded_accuracy: 0.9204\n",
            "Epoch 39/100\n",
            "60000/60000 [==============================] - 1s 21us/sample - loss: 0.3060 - rounded_accuracy: 0.9224 - val_loss: 0.3083 - val_rounded_accuracy: 0.9210\n",
            "Epoch 40/100\n",
            "60000/60000 [==============================] - 1s 21us/sample - loss: 0.3058 - rounded_accuracy: 0.9224 - val_loss: 0.3081 - val_rounded_accuracy: 0.9215\n",
            "Epoch 41/100\n",
            "60000/60000 [==============================] - 1s 21us/sample - loss: 0.3057 - rounded_accuracy: 0.9225 - val_loss: 0.3082 - val_rounded_accuracy: 0.9195\n",
            "Epoch 42/100\n",
            "60000/60000 [==============================] - 1s 21us/sample - loss: 0.3056 - rounded_accuracy: 0.9224 - val_loss: 0.3079 - val_rounded_accuracy: 0.9206\n",
            "Epoch 43/100\n",
            "60000/60000 [==============================] - 1s 21us/sample - loss: 0.3054 - rounded_accuracy: 0.9226 - val_loss: 0.3078 - val_rounded_accuracy: 0.9219\n",
            "Epoch 44/100\n",
            "60000/60000 [==============================] - 1s 21us/sample - loss: 0.3053 - rounded_accuracy: 0.9226 - val_loss: 0.3075 - val_rounded_accuracy: 0.9217\n",
            "Epoch 45/100\n",
            "60000/60000 [==============================] - 1s 21us/sample - loss: 0.3052 - rounded_accuracy: 0.9226 - val_loss: 0.3078 - val_rounded_accuracy: 0.9205\n",
            "Epoch 46/100\n",
            "60000/60000 [==============================] - 1s 21us/sample - loss: 0.3050 - rounded_accuracy: 0.9227 - val_loss: 0.3074 - val_rounded_accuracy: 0.9222\n",
            "Epoch 47/100\n",
            "60000/60000 [==============================] - 1s 21us/sample - loss: 0.3049 - rounded_accuracy: 0.9228 - val_loss: 0.3075 - val_rounded_accuracy: 0.9194\n",
            "Epoch 48/100\n",
            "60000/60000 [==============================] - 1s 21us/sample - loss: 0.3048 - rounded_accuracy: 0.9228 - val_loss: 0.3071 - val_rounded_accuracy: 0.9208\n",
            "Epoch 49/100\n",
            "60000/60000 [==============================] - 1s 20us/sample - loss: 0.3047 - rounded_accuracy: 0.9228 - val_loss: 0.3070 - val_rounded_accuracy: 0.9224\n",
            "Epoch 50/100\n",
            "60000/60000 [==============================] - 1s 21us/sample - loss: 0.3046 - rounded_accuracy: 0.9228 - val_loss: 0.3069 - val_rounded_accuracy: 0.9205\n",
            "Epoch 51/100\n",
            "60000/60000 [==============================] - 1s 21us/sample - loss: 0.3045 - rounded_accuracy: 0.9228 - val_loss: 0.3071 - val_rounded_accuracy: 0.9226\n",
            "Epoch 52/100\n",
            "60000/60000 [==============================] - 1s 21us/sample - loss: 0.3044 - rounded_accuracy: 0.9229 - val_loss: 0.3066 - val_rounded_accuracy: 0.9211\n",
            "Epoch 53/100\n",
            "60000/60000 [==============================] - 1s 20us/sample - loss: 0.3043 - rounded_accuracy: 0.9229 - val_loss: 0.3066 - val_rounded_accuracy: 0.9210\n",
            "Epoch 54/100\n",
            "60000/60000 [==============================] - 1s 21us/sample - loss: 0.3042 - rounded_accuracy: 0.9229 - val_loss: 0.3067 - val_rounded_accuracy: 0.9221\n",
            "Epoch 55/100\n",
            "60000/60000 [==============================] - 1s 20us/sample - loss: 0.3042 - rounded_accuracy: 0.9228 - val_loss: 0.3065 - val_rounded_accuracy: 0.9217\n",
            "Epoch 56/100\n",
            "60000/60000 [==============================] - 1s 21us/sample - loss: 0.3040 - rounded_accuracy: 0.9230 - val_loss: 0.3062 - val_rounded_accuracy: 0.9216\n",
            "Epoch 57/100\n",
            "60000/60000 [==============================] - 1s 21us/sample - loss: 0.3040 - rounded_accuracy: 0.9229 - val_loss: 0.3063 - val_rounded_accuracy: 0.9214\n",
            "Epoch 58/100\n",
            "60000/60000 [==============================] - 1s 21us/sample - loss: 0.3040 - rounded_accuracy: 0.9229 - val_loss: 0.3061 - val_rounded_accuracy: 0.9215\n",
            "Epoch 59/100\n",
            "60000/60000 [==============================] - 1s 21us/sample - loss: 0.3038 - rounded_accuracy: 0.9230 - val_loss: 0.3064 - val_rounded_accuracy: 0.9200\n",
            "Epoch 60/100\n",
            "60000/60000 [==============================] - 1s 22us/sample - loss: 0.3038 - rounded_accuracy: 0.9230 - val_loss: 0.3059 - val_rounded_accuracy: 0.9217\n",
            "Epoch 61/100\n",
            "60000/60000 [==============================] - 1s 20us/sample - loss: 0.3036 - rounded_accuracy: 0.9231 - val_loss: 0.3066 - val_rounded_accuracy: 0.9228\n",
            "Epoch 62/100\n",
            "60000/60000 [==============================] - 1s 20us/sample - loss: 0.3036 - rounded_accuracy: 0.9231 - val_loss: 0.3061 - val_rounded_accuracy: 0.9223\n",
            "Epoch 63/100\n",
            "60000/60000 [==============================] - 1s 21us/sample - loss: 0.3035 - rounded_accuracy: 0.9231 - val_loss: 0.3058 - val_rounded_accuracy: 0.9216\n",
            "Epoch 64/100\n",
            "60000/60000 [==============================] - 1s 20us/sample - loss: 0.3034 - rounded_accuracy: 0.9232 - val_loss: 0.3059 - val_rounded_accuracy: 0.9210\n",
            "Epoch 65/100\n",
            "60000/60000 [==============================] - 1s 21us/sample - loss: 0.3035 - rounded_accuracy: 0.9231 - val_loss: 0.3061 - val_rounded_accuracy: 0.9201\n",
            "Epoch 66/100\n",
            "60000/60000 [==============================] - 1s 20us/sample - loss: 0.3034 - rounded_accuracy: 0.9231 - val_loss: 0.3060 - val_rounded_accuracy: 0.9212\n",
            "Epoch 67/100\n",
            "60000/60000 [==============================] - 1s 21us/sample - loss: 0.3033 - rounded_accuracy: 0.9231 - val_loss: 0.3059 - val_rounded_accuracy: 0.9202\n",
            "Epoch 68/100\n",
            "60000/60000 [==============================] - 1s 21us/sample - loss: 0.3033 - rounded_accuracy: 0.9232 - val_loss: 0.3055 - val_rounded_accuracy: 0.9226\n",
            "Epoch 69/100\n",
            "60000/60000 [==============================] - 1s 21us/sample - loss: 0.3032 - rounded_accuracy: 0.9232 - val_loss: 0.3056 - val_rounded_accuracy: 0.9214\n",
            "Epoch 70/100\n",
            "60000/60000 [==============================] - 1s 21us/sample - loss: 0.3031 - rounded_accuracy: 0.9232 - val_loss: 0.3055 - val_rounded_accuracy: 0.9218\n",
            "Epoch 71/100\n",
            "60000/60000 [==============================] - 1s 20us/sample - loss: 0.3031 - rounded_accuracy: 0.9232 - val_loss: 0.3056 - val_rounded_accuracy: 0.9218\n",
            "Epoch 72/100\n",
            "60000/60000 [==============================] - 1s 20us/sample - loss: 0.3031 - rounded_accuracy: 0.9232 - val_loss: 0.3053 - val_rounded_accuracy: 0.9227\n",
            "Epoch 73/100\n",
            "60000/60000 [==============================] - 1s 21us/sample - loss: 0.3030 - rounded_accuracy: 0.9233 - val_loss: 0.3053 - val_rounded_accuracy: 0.9218\n",
            "Epoch 74/100\n",
            "60000/60000 [==============================] - 1s 21us/sample - loss: 0.3030 - rounded_accuracy: 0.9232 - val_loss: 0.3053 - val_rounded_accuracy: 0.9213\n",
            "Epoch 75/100\n",
            "60000/60000 [==============================] - 1s 21us/sample - loss: 0.3030 - rounded_accuracy: 0.9232 - val_loss: 0.3053 - val_rounded_accuracy: 0.9207\n",
            "Epoch 76/100\n",
            "60000/60000 [==============================] - 1s 21us/sample - loss: 0.3029 - rounded_accuracy: 0.9231 - val_loss: 0.3053 - val_rounded_accuracy: 0.9224\n",
            "Epoch 77/100\n",
            "60000/60000 [==============================] - 1s 21us/sample - loss: 0.3028 - rounded_accuracy: 0.9233 - val_loss: 0.3053 - val_rounded_accuracy: 0.9224\n",
            "Epoch 78/100\n",
            "60000/60000 [==============================] - 1s 21us/sample - loss: 0.3027 - rounded_accuracy: 0.9233 - val_loss: 0.3052 - val_rounded_accuracy: 0.9228\n",
            "Epoch 79/100\n",
            "60000/60000 [==============================] - 1s 20us/sample - loss: 0.3027 - rounded_accuracy: 0.9233 - val_loss: 0.3051 - val_rounded_accuracy: 0.9215\n",
            "Epoch 80/100\n",
            "60000/60000 [==============================] - 1s 21us/sample - loss: 0.3026 - rounded_accuracy: 0.9234 - val_loss: 0.3051 - val_rounded_accuracy: 0.9216\n",
            "Epoch 81/100\n",
            "60000/60000 [==============================] - 1s 21us/sample - loss: 0.3027 - rounded_accuracy: 0.9233 - val_loss: 0.3055 - val_rounded_accuracy: 0.9196\n",
            "Epoch 82/100\n",
            "60000/60000 [==============================] - 1s 21us/sample - loss: 0.3026 - rounded_accuracy: 0.9233 - val_loss: 0.3051 - val_rounded_accuracy: 0.9218\n",
            "Epoch 83/100\n",
            "60000/60000 [==============================] - 1s 21us/sample - loss: 0.3026 - rounded_accuracy: 0.9233 - val_loss: 0.3059 - val_rounded_accuracy: 0.9231\n",
            "Epoch 84/100\n",
            "60000/60000 [==============================] - 1s 21us/sample - loss: 0.3026 - rounded_accuracy: 0.9232 - val_loss: 0.3050 - val_rounded_accuracy: 0.9212\n",
            "Epoch 85/100\n",
            "60000/60000 [==============================] - 1s 21us/sample - loss: 0.3026 - rounded_accuracy: 0.9232 - val_loss: 0.3049 - val_rounded_accuracy: 0.9225\n",
            "Epoch 86/100\n",
            "60000/60000 [==============================] - 1s 21us/sample - loss: 0.3025 - rounded_accuracy: 0.9233 - val_loss: 0.3047 - val_rounded_accuracy: 0.9219\n",
            "Epoch 87/100\n",
            "60000/60000 [==============================] - 1s 21us/sample - loss: 0.3024 - rounded_accuracy: 0.9234 - val_loss: 0.3049 - val_rounded_accuracy: 0.9206\n",
            "Epoch 88/100\n",
            "60000/60000 [==============================] - 1s 21us/sample - loss: 0.3024 - rounded_accuracy: 0.9234 - val_loss: 0.3048 - val_rounded_accuracy: 0.9222\n",
            "Epoch 89/100\n",
            "60000/60000 [==============================] - 1s 20us/sample - loss: 0.3024 - rounded_accuracy: 0.9234 - val_loss: 0.3049 - val_rounded_accuracy: 0.9229\n",
            "Epoch 90/100\n",
            "60000/60000 [==============================] - 1s 21us/sample - loss: 0.3024 - rounded_accuracy: 0.9233 - val_loss: 0.3049 - val_rounded_accuracy: 0.9216\n",
            "Epoch 91/100\n",
            "60000/60000 [==============================] - 1s 21us/sample - loss: 0.3023 - rounded_accuracy: 0.9234 - val_loss: 0.3046 - val_rounded_accuracy: 0.9222\n",
            "Epoch 92/100\n",
            "60000/60000 [==============================] - 1s 21us/sample - loss: 0.3023 - rounded_accuracy: 0.9234 - val_loss: 0.3053 - val_rounded_accuracy: 0.9205\n",
            "Epoch 93/100\n",
            "60000/60000 [==============================] - 1s 21us/sample - loss: 0.3022 - rounded_accuracy: 0.9234 - val_loss: 0.3045 - val_rounded_accuracy: 0.9223\n",
            "Epoch 94/100\n",
            "60000/60000 [==============================] - 1s 21us/sample - loss: 0.3022 - rounded_accuracy: 0.9234 - val_loss: 0.3047 - val_rounded_accuracy: 0.9221\n",
            "Epoch 95/100\n",
            "60000/60000 [==============================] - 1s 21us/sample - loss: 0.3022 - rounded_accuracy: 0.9235 - val_loss: 0.3046 - val_rounded_accuracy: 0.9228\n",
            "Epoch 96/100\n",
            "60000/60000 [==============================] - 1s 21us/sample - loss: 0.3022 - rounded_accuracy: 0.9234 - val_loss: 0.3047 - val_rounded_accuracy: 0.9221\n",
            "Epoch 97/100\n",
            "60000/60000 [==============================] - 1s 21us/sample - loss: 0.3021 - rounded_accuracy: 0.9235 - val_loss: 0.3051 - val_rounded_accuracy: 0.9229\n",
            "Epoch 98/100\n",
            "60000/60000 [==============================] - 1s 21us/sample - loss: 0.3021 - rounded_accuracy: 0.9234 - val_loss: 0.3044 - val_rounded_accuracy: 0.9227\n",
            "Epoch 99/100\n",
            "60000/60000 [==============================] - 1s 21us/sample - loss: 0.3022 - rounded_accuracy: 0.9233 - val_loss: 0.3048 - val_rounded_accuracy: 0.9234\n",
            "Epoch 100/100\n",
            "60000/60000 [==============================] - 1s 21us/sample - loss: 0.3021 - rounded_accuracy: 0.9234 - val_loss: 0.3047 - val_rounded_accuracy: 0.9229\n",
            "CPU times: user 2min 40s, sys: 17.1 s, total: 2min 57s\n",
            "Wall time: 2min 5s\n"
          ],
          "name": "stdout"
        }
      ]
    },
    {
      "cell_type": "code",
      "metadata": {
        "id": "okpx8cjnMqOQ",
        "colab_type": "code",
        "colab": {}
      },
      "source": [
        "encoder = Model(input_img, encoded)\n",
        "\n",
        "encoded_input = Input(shape=(encoding_dim,))\n",
        "decoder_layer = autoencoder.get_layer('decoder')\n",
        "decoder = Model(encoded_input, decoder_layer(encoded_input))\n",
        "\n",
        "embedded_imgs = encoder.predict(x_test)\n",
        "decoded_imgs = decoder.predict(embedded_imgs)"
      ],
      "execution_count": 0,
      "outputs": []
    },
    {
      "cell_type": "markdown",
      "metadata": {
        "id": "wm1TMDTPSn6X",
        "colab_type": "text"
      },
      "source": [
        "numbers of zeros should go up, while average should go down"
      ]
    },
    {
      "cell_type": "code",
      "metadata": {
        "id": "_zNrmppRURbU",
        "colab_type": "code",
        "colab": {
          "base_uri": "https://localhost:8080/",
          "height": 136
        },
        "outputId": "cf21f1f2-87a3-4074-dce1-9c4c251af3aa"
      },
      "source": [
        "# embedding for first image\n",
        "embedded_imgs[0]"
      ],
      "execution_count": 25,
      "outputs": [
        {
          "output_type": "execute_result",
          "data": {
            "text/plain": [
              "array([0.        , 0.        , 0.5640788 , 0.        , 0.        ,\n",
              "       0.        , 1.1248239 , 0.21123149, 0.        , 0.        ,\n",
              "       0.        , 0.        , 0.        , 0.        , 0.        ,\n",
              "       0.        , 0.02739235, 0.39987665, 0.22738358, 0.        ,\n",
              "       0.17525971, 0.        , 0.8857421 , 0.08589924, 0.12886502,\n",
              "       0.77307165, 0.        , 0.        , 0.        , 0.        ,\n",
              "       0.34075558, 0.        ], dtype=float32)"
            ]
          },
          "metadata": {
            "tags": []
          },
          "execution_count": 25
        }
      ]
    },
    {
      "cell_type": "code",
      "metadata": {
        "id": "d5jdNFSSOQlC",
        "colab_type": "code",
        "colab": {
          "base_uri": "https://localhost:8080/",
          "height": 51
        },
        "outputId": "b202857f-face-4691-a7d1-d7a7b3d66864"
      },
      "source": [
        "tf.reduce_mean(embedded_imgs), tf.reduce_mean(32 - tf.math.count_nonzero(embedded_imgs, axis=1))"
      ],
      "execution_count": 26,
      "outputs": [
        {
          "output_type": "execute_result",
          "data": {
            "text/plain": [
              "(<tf.Tensor: shape=(), dtype=float32, numpy=0.14765847>,\n",
              " <tf.Tensor: shape=(), dtype=int64, numpy=19>)"
            ]
          },
          "metadata": {
            "tags": []
          },
          "execution_count": 26
        }
      ]
    },
    {
      "cell_type": "code",
      "metadata": {
        "id": "mjBzU1z4S0E5",
        "colab_type": "code",
        "colab": {
          "base_uri": "https://localhost:8080/",
          "height": 502
        },
        "outputId": "08486bbb-008b-47e7-db71-ca9ce0289a1f"
      },
      "source": [
        "plot_samples(decoded_imgs, y_test, labels=fashion_mnist_labels)"
      ],
      "execution_count": 27,
      "outputs": [
        {
          "output_type": "display_data",
          "data": {
            "text/plain": [
              "<Figure size 1080x576 with 0 Axes>"
            ]
          },
          "metadata": {
            "tags": []
          }
        },
        {
          "output_type": "display_data",
          "data": {
            "image/png": "[encoded data removed]",
            "text/plain": [
              "<Figure size 1440x576 with 15 Axes>"
            ]
          },
          "metadata": {
            "tags": []
          }
        }
      ]
    },
    {
      "cell_type": "markdown",
      "metadata": {
        "id": "1LwBz324lwwp",
        "colab_type": "text"
      },
      "source": [
        "## Deeper Autoencoder\n",
        "https://colab.research.google.com/github/ageron/handson-ml2/blob/master/17_autoencoders_and_gans.ipynb"
      ]
    },
    {
      "cell_type": "code",
      "metadata": {
        "id": "A4vQW5IcS1jP",
        "colab_type": "code",
        "colab": {
          "base_uri": "https://localhost:8080/",
          "height": 34
        },
        "outputId": "52d73637-f145-4d7b-dc44-41e7d47cdbeb"
      },
      "source": [
        "# (x_train, y_train), (x_test, y_test) = mnist.load_data()\n",
        "(x_train, y_train), (x_test, y_test) = fashion_mnist.load_data()\n",
        "\n",
        "x_train = x_train.astype('float32') / 255.\n",
        "x_test = x_test.astype('float32') / 255.\n",
        "\n",
        "x_train.shape, x_test.shape"
      ],
      "execution_count": 28,
      "outputs": [
        {
          "output_type": "execute_result",
          "data": {
            "text/plain": [
              "((60000, 28, 28), (10000, 28, 28))"
            ]
          },
          "metadata": {
            "tags": []
          },
          "execution_count": 28
        }
      ]
    },
    {
      "cell_type": "code",
      "metadata": {
        "id": "IIoFClPYlbCN",
        "colab_type": "code",
        "colab": {
          "base_uri": "https://localhost:8080/",
          "height": 785
        },
        "outputId": "54d15b26-f0d8-41e4-f9fb-2cc047e8e722"
      },
      "source": [
        "%%time\n",
        "\n",
        "encoding_dim = 32\n",
        "\n",
        "stacked_encoder = keras.models.Sequential([\n",
        "    keras.layers.Input(shape=(x_res, y_res)),\n",
        "    keras.layers.Flatten(),\n",
        "    keras.layers.Dense(100, activation=\"selu\"),\n",
        "    keras.layers.Dense(encoding_dim, activation=\"relu\", activity_regularizer=keras.regularizers.l1(5e-4)),\n",
        "])\n",
        "stacked_decoder = keras.models.Sequential([\n",
        "    keras.layers.Input(shape=encoding_dim),\n",
        "    keras.layers.Dense(100, activation=\"selu\"),\n",
        "    keras.layers.Dense(image_size, activation=\"sigmoid\"),\n",
        "    keras.layers.Reshape((x_res, y_res))\n",
        "])\n",
        "stacked_ae = keras.models.Sequential([stacked_encoder, stacked_decoder])\n",
        "stacked_ae.compile(loss=\"binary_crossentropy\",\n",
        "                   optimizer='adam', metrics=[rounded_accuracy])\n",
        "history = stacked_ae.fit(x_train, x_train, \n",
        "                         epochs=20,\n",
        "                         validation_data=(x_test, x_test))"
      ],
      "execution_count": 29,
      "outputs": [
        {
          "output_type": "stream",
          "text": [
            "Train on 60000 samples, validate on 10000 samples\n",
            "Epoch 1/20\n",
            "59520/60000 [============================>.] - ETA: 0s - loss: 0.3270 - rounded_accuracy: 0.9025WARNING:tensorflow:5 out of the last 8 calls to <function rounded_accuracy at 0x7fa4f24af048> triggered tf.function retracing. Tracing is expensive and the excessive number of tracings is likely due to passing python objects instead of tensors. Also, tf.function has experimental_relax_shapes=True option that relaxes argument shapes that can avoid unnecessary retracing. Please refer to https://www.tensorflow.org/tutorials/customization/performance#python_or_tensor_args and https://www.tensorflow.org/api_docs/python/tf/function for more details.\n",
            "60000/60000 [==============================] - 8s 127us/sample - loss: 0.3269 - rounded_accuracy: 0.9026 - val_loss: 0.3096 - val_rounded_accuracy: 0.9163\n",
            "Epoch 2/20\n",
            "60000/60000 [==============================] - 7s 118us/sample - loss: 0.3047 - rounded_accuracy: 0.9189 - val_loss: 0.3047 - val_rounded_accuracy: 0.9196\n",
            "Epoch 3/20\n",
            "60000/60000 [==============================] - 7s 118us/sample - loss: 0.3001 - rounded_accuracy: 0.9225 - val_loss: 0.3001 - val_rounded_accuracy: 0.9232\n",
            "Epoch 4/20\n",
            "60000/60000 [==============================] - 7s 116us/sample - loss: 0.2967 - rounded_accuracy: 0.9254 - val_loss: 0.2974 - val_rounded_accuracy: 0.9256\n",
            "Epoch 5/20\n",
            "60000/60000 [==============================] - 7s 116us/sample - loss: 0.2943 - rounded_accuracy: 0.9275 - val_loss: 0.2958 - val_rounded_accuracy: 0.9278\n",
            "Epoch 6/20\n",
            "60000/60000 [==============================] - 7s 117us/sample - loss: 0.2926 - rounded_accuracy: 0.9288 - val_loss: 0.2940 - val_rounded_accuracy: 0.9294\n",
            "Epoch 7/20\n",
            "60000/60000 [==============================] - 7s 116us/sample - loss: 0.2913 - rounded_accuracy: 0.9299 - val_loss: 0.2927 - val_rounded_accuracy: 0.9299\n",
            "Epoch 8/20\n",
            "60000/60000 [==============================] - 7s 118us/sample - loss: 0.2902 - rounded_accuracy: 0.9308 - val_loss: 0.2918 - val_rounded_accuracy: 0.9311\n",
            "Epoch 9/20\n",
            "60000/60000 [==============================] - 7s 118us/sample - loss: 0.2893 - rounded_accuracy: 0.9314 - val_loss: 0.2913 - val_rounded_accuracy: 0.9305\n",
            "Epoch 10/20\n",
            "60000/60000 [==============================] - 7s 123us/sample - loss: 0.2886 - rounded_accuracy: 0.9320 - val_loss: 0.2903 - val_rounded_accuracy: 0.9320\n",
            "Epoch 11/20\n",
            "60000/60000 [==============================] - 7s 117us/sample - loss: 0.2881 - rounded_accuracy: 0.9324 - val_loss: 0.2901 - val_rounded_accuracy: 0.9314\n",
            "Epoch 12/20\n",
            "60000/60000 [==============================] - 7s 118us/sample - loss: 0.2876 - rounded_accuracy: 0.9328 - val_loss: 0.2900 - val_rounded_accuracy: 0.9313\n",
            "Epoch 13/20\n",
            "60000/60000 [==============================] - 7s 117us/sample - loss: 0.2873 - rounded_accuracy: 0.9328 - val_loss: 0.2896 - val_rounded_accuracy: 0.9325\n",
            "Epoch 14/20\n",
            "60000/60000 [==============================] - 7s 119us/sample - loss: 0.2868 - rounded_accuracy: 0.9332 - val_loss: 0.2894 - val_rounded_accuracy: 0.9313\n",
            "Epoch 15/20\n",
            "60000/60000 [==============================] - 7s 117us/sample - loss: 0.2865 - rounded_accuracy: 0.9334 - val_loss: 0.2888 - val_rounded_accuracy: 0.9328\n",
            "Epoch 16/20\n",
            "60000/60000 [==============================] - 7s 116us/sample - loss: 0.2862 - rounded_accuracy: 0.9336 - val_loss: 0.2895 - val_rounded_accuracy: 0.9318\n",
            "Epoch 17/20\n",
            "60000/60000 [==============================] - 7s 118us/sample - loss: 0.2859 - rounded_accuracy: 0.9339 - val_loss: 0.2881 - val_rounded_accuracy: 0.9334\n",
            "Epoch 18/20\n",
            "60000/60000 [==============================] - 7s 115us/sample - loss: 0.2857 - rounded_accuracy: 0.9340 - val_loss: 0.2883 - val_rounded_accuracy: 0.9331\n",
            "Epoch 19/20\n",
            "60000/60000 [==============================] - 7s 117us/sample - loss: 0.2854 - rounded_accuracy: 0.9342 - val_loss: 0.2888 - val_rounded_accuracy: 0.9295\n",
            "Epoch 20/20\n",
            "60000/60000 [==============================] - 7s 118us/sample - loss: 0.2852 - rounded_accuracy: 0.9343 - val_loss: 0.2872 - val_rounded_accuracy: 0.9338\n",
            "CPU times: user 2min 41s, sys: 15.4 s, total: 2min 57s\n",
            "Wall time: 2min 21s\n"
          ],
          "name": "stdout"
        }
      ]
    },
    {
      "cell_type": "code",
      "metadata": {
        "colab_type": "code",
        "id": "MmI0_hbQrC2t",
        "colab": {}
      },
      "source": [
        "x_test_pred = stacked_ae.predict(x_test)"
      ],
      "execution_count": 0,
      "outputs": []
    },
    {
      "cell_type": "code",
      "metadata": {
        "colab_type": "code",
        "outputId": "4ed3c40f-f6ec-4b12-9da8-e9ac4dffb488",
        "id": "22_pLxPcrC23",
        "colab": {
          "base_uri": "https://localhost:8080/",
          "height": 502
        }
      },
      "source": [
        "plot_samples(x_test_pred, y_test, labels=fashion_mnist_labels)"
      ],
      "execution_count": 31,
      "outputs": [
        {
          "output_type": "display_data",
          "data": {
            "text/plain": [
              "<Figure size 1080x576 with 0 Axes>"
            ]
          },
          "metadata": {
            "tags": []
          }
        },
        {
          "output_type": "display_data",
          "data": {
            "image/png": "[encoded data removed]",
            "text/plain": [
              "<Figure size 1440x576 with 15 Axes>"
            ]
          },
          "metadata": {
            "tags": []
          }
        }
      ]
    },
    {
      "cell_type": "code",
      "metadata": {
        "id": "heoO6bILr2F8",
        "colab_type": "code",
        "colab": {
          "base_uri": "https://localhost:8080/",
          "height": 34
        },
        "outputId": "327b3fad-2b88-406b-921d-887346899185"
      },
      "source": [
        "embedded_imgs = stacked_encoder.predict(x_test)\n",
        "embedded_imgs.shape"
      ],
      "execution_count": 32,
      "outputs": [
        {
          "output_type": "execute_result",
          "data": {
            "text/plain": [
              "(10000, 32)"
            ]
          },
          "metadata": {
            "tags": []
          },
          "execution_count": 32
        }
      ]
    },
    {
      "cell_type": "code",
      "metadata": {
        "id": "VdSBlmySsN6d",
        "colab_type": "code",
        "colab": {
          "base_uri": "https://localhost:8080/",
          "height": 136
        },
        "outputId": "20361397-d3cb-4318-a7bf-dc01f207390e"
      },
      "source": [
        "embedded_imgs[0]"
      ],
      "execution_count": 33,
      "outputs": [
        {
          "output_type": "execute_result",
          "data": {
            "text/plain": [
              "array([0.12992159, 0.        , 0.61597276, 0.        , 0.21869087,\n",
              "       0.08647783, 0.        , 0.1344982 , 0.        , 0.        ,\n",
              "       0.        , 0.        , 0.        , 0.        , 1.3919469 ,\n",
              "       0.        , 0.4214774 , 0.        , 0.        , 0.        ,\n",
              "       0.        , 0.6634596 , 0.84897816, 0.        , 1.4240352 ,\n",
              "       0.        , 0.02172848, 0.06020091, 0.        , 0.25212017,\n",
              "       0.        , 0.        ], dtype=float32)"
            ]
          },
          "metadata": {
            "tags": []
          },
          "execution_count": 33
        }
      ]
    },
    {
      "cell_type": "code",
      "metadata": {
        "id": "7xb-KEnBsSnA",
        "colab_type": "code",
        "colab": {
          "base_uri": "https://localhost:8080/",
          "height": 51
        },
        "outputId": "d8b064f7-3a3d-4a49-99af-f517a25041b8"
      },
      "source": [
        "tf.reduce_mean(embedded_imgs), tf.reduce_mean(32 - tf.math.count_nonzero(embedded_imgs, axis=1))"
      ],
      "execution_count": 34,
      "outputs": [
        {
          "output_type": "execute_result",
          "data": {
            "text/plain": [
              "(<tf.Tensor: shape=(), dtype=float32, numpy=0.18851957>,\n",
              " <tf.Tensor: shape=(), dtype=int64, numpy=18>)"
            ]
          },
          "metadata": {
            "tags": []
          },
          "execution_count": 34
        }
      ]
    },
    {
      "cell_type": "code",
      "metadata": {
        "id": "aLeoszyG0NU2",
        "colab_type": "code",
        "colab": {}
      },
      "source": [
        ""
      ],
      "execution_count": 0,
      "outputs": []
    }
  ]
}