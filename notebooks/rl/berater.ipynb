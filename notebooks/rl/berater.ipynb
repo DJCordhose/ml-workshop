{
  "nbformat": 4,
  "nbformat_minor": 0,
  "metadata": {
    "colab": {
      "name": "berater.ipynb",
      "version": "0.3.2",
      "provenance": [],
      "collapsed_sections": [
        "zpzHtN3-kQ26",
        "w3OdHyWEEEwy",
        "bzoq0VM85p46"
      ],
      "include_colab_link": true
    },
    "kernelspec": {
      "name": "python3",
      "display_name": "Python 3"
    },
    "accelerator": "GPU"
  },
  "cells": [
    {
      "cell_type": "markdown",
      "metadata": {
        "id": "view-in-github",
        "colab_type": "text"
      },
      "source": [
        "<a href=\"https://colab.research.google.com/github/DJCordhose/ml-workshop/blob/master/notebooks/rl/berater.ipynb\" target=\"_parent\"><img src=\"https://colab.research.google.com/assets/colab-badge.svg\" alt=\"Open In Colab\"/></a>"
      ]
    },
    {
      "cell_type": "markdown",
      "metadata": {
        "colab_type": "text",
        "id": "eU7ylMh1kQ2y"
      },
      "source": [
        "# Berater Environment v13\n",
        "\n",
        "* https://github.com/tensorflow/agents\n",
        "\n",
        "## Changes from v12 (work in progress)\n",
        "* port to tfagents with ppo\n",
        "* openai implementation removed"
      ]
    },
    {
      "cell_type": "code",
      "metadata": {
        "id": "7d9BXqt339Z7",
        "colab_type": "code",
        "colab": {}
      },
      "source": [
        "import warnings\n",
        "warnings.filterwarnings('ignore')"
      ],
      "execution_count": 0,
      "outputs": []
    },
    {
      "cell_type": "code",
      "metadata": {
        "id": "PQiN7IVMS6SC",
        "colab_type": "code",
        "colab": {}
      },
      "source": [
        "berater_show_step=False \n",
        "berater_show_done=False \n",
        "berater_debug_step=False "
      ],
      "execution_count": 0,
      "outputs": []
    },
    {
      "cell_type": "markdown",
      "metadata": {
        "colab_type": "text",
        "id": "zpzHtN3-kQ26"
      },
      "source": [
        "## Install tf-agents"
      ]
    },
    {
      "cell_type": "code",
      "metadata": {
        "colab_type": "code",
        "id": "0E567zPTkQ28",
        "colab": {}
      },
      "source": [
        "!pip install -q tf-nightly-gpu-2.0-preview\n",
        "!pip install -q tfp-nightly\n",
        "!pip install -q tf-agents-nightly"
      ],
      "execution_count": 0,
      "outputs": []
    },
    {
      "cell_type": "code",
      "metadata": {
        "id": "6JTWPuoD-6KX",
        "colab_type": "code",
        "colab": {
          "base_uri": "https://localhost:8080/",
          "height": 34
        },
        "outputId": "d037c1e0-ce13-4496-fa8b-1e1c68da9959"
      },
      "source": [
        "import tensorflow\n",
        "tensorflow.__version__"
      ],
      "execution_count": 4,
      "outputs": [
        {
          "output_type": "execute_result",
          "data": {
            "text/plain": [
              "'2.0.0-dev20190608'"
            ]
          },
          "metadata": {
            "tags": []
          },
          "execution_count": 4
        }
      ]
    },
    {
      "cell_type": "code",
      "metadata": {
        "id": "nY2O1eO4-7ze",
        "colab_type": "code",
        "colab": {
          "base_uri": "https://localhost:8080/",
          "height": 34
        },
        "outputId": "a5ce1b60-d9fe-407f-81bc-8690a7e4ba3a"
      },
      "source": [
        "import tf_agents\n",
        "tf_agents.__version__"
      ],
      "execution_count": 5,
      "outputs": [
        {
          "output_type": "execute_result",
          "data": {
            "text/plain": [
              "'0.2.0'"
            ]
          },
          "metadata": {
            "tags": []
          },
          "execution_count": 5
        }
      ]
    },
    {
      "cell_type": "code",
      "metadata": {
        "id": "HYTwe4-X-9Tq",
        "colab_type": "code",
        "colab": {
          "base_uri": "https://localhost:8080/",
          "height": 34
        },
        "outputId": "d5dc1a39-aad6-42a4-a1e4-3b6d33c3f7a1"
      },
      "source": [
        "import tensorflow_probability\n",
        "tensorflow_probability.__version__"
      ],
      "execution_count": 6,
      "outputs": [
        {
          "output_type": "execute_result",
          "data": {
            "text/plain": [
              "'0.8.0-dev20190608'"
            ]
          },
          "metadata": {
            "tags": []
          },
          "execution_count": 6
        }
      ]
    },
    {
      "cell_type": "markdown",
      "metadata": {
        "id": "w3OdHyWEEEwy",
        "colab_type": "text"
      },
      "source": [
        "# Define Environment"
      ]
    },
    {
      "cell_type": "markdown",
      "metadata": {
        "id": "sQ8Nfk3MKgLt",
        "colab_type": "text"
      },
      "source": [
        "### Imports"
      ]
    },
    {
      "cell_type": "code",
      "metadata": {
        "id": "HQyb_Aq8Kg9j",
        "colab_type": "code",
        "colab": {}
      },
      "source": [
        "import numpy as np\n",
        "import random\n",
        "\n",
        "import gym\n",
        "from gym.utils import seeding\n",
        "from gym import spaces\n",
        "\n",
        "import pdb"
      ],
      "execution_count": 0,
      "outputs": []
    },
    {
      "cell_type": "markdown",
      "metadata": {
        "id": "OsJ6zcXvwN53",
        "colab_type": "text"
      },
      "source": [
        "### Helper methods"
      ]
    },
    {
      "cell_type": "code",
      "metadata": {
        "colab_type": "code",
        "id": "-S4sZG5ZkQ3T",
        "colab": {}
      },
      "source": [
        "def state_name_to_int(state):\n",
        "    state_name_map = {\n",
        "        'S': 0,\n",
        "        'A': 1,\n",
        "        'B': 2,\n",
        "        'C': 3,\n",
        "        'D': 4,\n",
        "        'E': 5,\n",
        "        'F': 6,\n",
        "        'G': 7,\n",
        "        'H': 8,\n",
        "        'K': 9,\n",
        "        'L': 10,\n",
        "        'M': 11,\n",
        "        'N': 12,\n",
        "        'O': 13\n",
        "    }\n",
        "    return state_name_map[state]\n",
        "\n",
        "def int_to_state_name(state_as_int):\n",
        "    state_map = {\n",
        "        0: 'S',\n",
        "        1: 'A',\n",
        "        2: 'B',\n",
        "        3: 'C',\n",
        "        4: 'D',\n",
        "        5: 'E',\n",
        "        6: 'F',\n",
        "        7: 'G',\n",
        "        8: 'H',\n",
        "        9: 'K',\n",
        "        10: 'L',\n",
        "        11: 'M',\n",
        "        12: 'N',\n",
        "        13: 'O'\n",
        "    }\n",
        "    return state_map[state_as_int]\n",
        "    \n"
      ],
      "execution_count": 0,
      "outputs": []
    },
    {
      "cell_type": "markdown",
      "metadata": {
        "id": "x-olom0nwiSX",
        "colab_type": "text"
      },
      "source": [
        "### Berater Environment (OpenAI Gym)"
      ]
    },
    {
      "cell_type": "code",
      "metadata": {
        "id": "3plH2u3Swotj",
        "colab_type": "code",
        "colab": {}
      },
      "source": [
        "class BeraterEnv(gym.Env):\n",
        "    \"\"\"\n",
        "    The Berater Problem\n",
        "\n",
        "    Actions: \n",
        "    There are 4 discrete deterministic actions, each choosing one direction\n",
        "    \"\"\"\n",
        "    metadata = {'render.modes': ['ansi']}\n",
        "    \n",
        "    showStep = False\n",
        "    showDone = True\n",
        "    envEpisodeModulo = 100\n",
        "\n",
        "    def __init__(self):\n",
        "#         self.map = {\n",
        "#             'S': [('A', 100), ('B', 400), ('C', 200 )],\n",
        "#             'A': [('B', 250), ('C', 400), ('S', 100 )],\n",
        "#             'B': [('A', 250), ('C', 250), ('S', 400 )],\n",
        "#             'C': [('A', 400), ('B', 250), ('S', 200 )]\n",
        "#         }\n",
        "        self.map = {\n",
        "            'S': [('A', 300), ('B', 100), ('C', 200 )],\n",
        "            'A': [('S', 300), ('B', 100), ('E', 100 ), ('D', 100 )],\n",
        "            'B': [('S', 100), ('A', 100), ('C', 50 ), ('K', 200 )],\n",
        "            'C': [('S', 200), ('B', 50), ('M', 100 ), ('L', 200 )],\n",
        "            'D': [('A', 100), ('F', 50)],\n",
        "            'E': [('A', 100), ('F', 100), ('H', 100)],\n",
        "            'F': [('D', 50), ('E', 100), ('G', 200)],\n",
        "            'G': [('F', 200), ('O', 300)],\n",
        "            'H': [('E', 100), ('K', 300)],\n",
        "            'K': [('B', 200), ('H', 300)],\n",
        "            'L': [('C', 200), ('M', 50)],\n",
        "            'M': [('C', 100), ('L', 50), ('N', 100)],\n",
        "            'N': [('M', 100), ('O', 100)],\n",
        "            'O': [('N', 100), ('G', 300)]\n",
        "        }\n",
        "        max_paths = 4\n",
        "        self.action_space = spaces.Discrete(max_paths)\n",
        "      \n",
        "        positions = len(self.map)\n",
        "        # observations: position, reward of all 4 local paths, rest reward of all locations\n",
        "        # non existing path is -1000 and no position change\n",
        "        # look at what #getObservation returns if you are confused\n",
        "        low = np.append(np.append([0], np.full(max_paths, -1000)), np.full(positions, 0))\n",
        "        high = np.append(np.append([positions - 1], np.full(max_paths, 1000)), np.full(positions, 1000))\n",
        "        self.observation_space = spaces.Box(low=low,\n",
        "                                             high=high,\n",
        "                                             dtype=np.float32)\n",
        "        self.reward_range = (-1, 1)\n",
        "\n",
        "        self.totalReward = 0\n",
        "        self.stepCount = 0\n",
        "        self.isDone = False\n",
        "\n",
        "        self.envReward = 0\n",
        "        self.envEpisodeCount = 0\n",
        "        self.envStepCount = 0\n",
        "\n",
        "        self.reset()\n",
        "        self.optimum = self.calculate_customers_reward()\n",
        "\n",
        "    def seed(self, seed=None):\n",
        "        self.np_random, seed = seeding.np_random(seed)\n",
        "        return [seed]\n",
        "\n",
        "    def iterate_path(self, state, action):\n",
        "        paths = self.map[state]\n",
        "        if action < len(paths):\n",
        "          return paths[action]\n",
        "        else:\n",
        "          # sorry, no such action, stay where you are and pay a high penalty\n",
        "          return (state, 1000)\n",
        "      \n",
        "    def step(self, action):\n",
        "        if self.debugStep:\n",
        "          pdb.set_trace()\n",
        "        destination, cost = self.iterate_path(self.state, action)\n",
        "        lastState = self.state\n",
        "        customerReward = self.customer_reward[destination]\n",
        "        reward = (customerReward - cost) / self.optimum\n",
        "\n",
        "        self.state = destination\n",
        "        self.customer_visited(destination)\n",
        "        done = (destination == 'S' and self.all_customers_visited())\n",
        "        if self.stepCount >= 200:\n",
        "          if BeraterEnv.showDone:\n",
        "            print(\"Done: stepCount >= 200\")\n",
        "          done = True\n",
        "\n",
        "        stateAsInt = state_name_to_int(self.state)\n",
        "        self.totalReward += reward\n",
        "        self.stepCount += 1\n",
        "        self.envReward += reward\n",
        "        self.envStepCount += 1\n",
        "\n",
        "        if self.showStep:\n",
        "            print( \"Episode: \" + (\"%4.0f  \" % self.envEpisodeCount) + \n",
        "                   \" Step: \" + (\"%4.0f  \" % self.stepCount) + \n",
        "                   lastState + ' --' + str(action) + '-> ' + self.state + \n",
        "                   ' R=' + (\"% 2.2f\" % reward) + ' totalR=' + (\"% 3.2f\" % self.totalReward) + \n",
        "                   ' cost=' + (\"%4.0f\" % cost) + ' customerR=' + (\"%4.0f\" % customerReward) + ' optimum=' + (\"%4.0f\" % self.optimum)      \n",
        "                   )\n",
        "\n",
        "        if done and not self.isDone:\n",
        "            self.envEpisodeCount += 1\n",
        "            if BeraterEnv.showDone:\n",
        "                episodes = BeraterEnv.envEpisodeModulo\n",
        "                if (self.envEpisodeCount % BeraterEnv.envEpisodeModulo != 0):\n",
        "                    episodes = self.envEpisodeCount % BeraterEnv.envEpisodeModulo\n",
        "                print( \"Done: \" + \n",
        "                        (\"episodes=%6.0f  \" % self.envEpisodeCount) + \n",
        "                        (\"avgSteps=%6.2f  \" % (self.envStepCount/episodes)) + \n",
        "                        (\"avgTotalReward=% 3.2f\" % (self.envReward/episodes) )\n",
        "                        )\n",
        "                if (self.envEpisodeCount%BeraterEnv.envEpisodeModulo) == 0:\n",
        "                    self.envReward = 0\n",
        "                    self.envStepCount = 0\n",
        "\n",
        "        self.isDone = done\n",
        "        observation = self.getObservation(stateAsInt)\n",
        "        info = {\"from\": self.state, \"to\": destination}\n",
        "\n",
        "        return observation, reward, done, info\n",
        "\n",
        "    def getObservation(self, position):\n",
        "        result = np.array([ position, \n",
        "                               self.getPathObservation(position, 0),\n",
        "                               self.getPathObservation(position, 1),\n",
        "                               self.getPathObservation(position, 2),\n",
        "                               self.getPathObservation(position, 3)\n",
        "                              ],\n",
        "                             dtype=np.float32)\n",
        "        all_rest_rewards = list(self.customer_reward.values())\n",
        "        result = np.append(result, all_rest_rewards)\n",
        "        return result\n",
        "\n",
        "    def getPathObservation(self, position, path):\n",
        "        source = int_to_state_name(position)\n",
        "        paths = self.map[self.state]\n",
        "        if path < len(paths):\n",
        "          target, cost = paths[path]\n",
        "          reward = self.customer_reward[target] \n",
        "          result = reward - cost\n",
        "        else:\n",
        "          result = -1000\n",
        "\n",
        "        return result\n",
        "\n",
        "    def customer_visited(self, customer):\n",
        "        self.customer_reward[customer] = 0\n",
        "\n",
        "    def all_customers_visited(self):\n",
        "        return self.calculate_customers_reward() == 0\n",
        "\n",
        "    def calculate_customers_reward(self):\n",
        "        sum = 0\n",
        "        for value in self.customer_reward.values():\n",
        "            sum += value\n",
        "        return sum\n",
        "\n",
        "      \n",
        "    def modulate_reward(self):\n",
        "      number_of_customers = len(self.map) - 1\n",
        "      number_per_consultant = int(number_of_customers/2)\n",
        "#       number_per_consultant = int(number_of_customers/1.5)\n",
        "      self.customer_reward = {\n",
        "          'S': 0\n",
        "      }\n",
        "      for customer_nr in range(1, number_of_customers + 1):\n",
        "        self.customer_reward[int_to_state_name(customer_nr)] = 0\n",
        "      \n",
        "      # every consultant only visits a few random customers\n",
        "      samples = random.sample(range(1, number_of_customers + 1), k=number_per_consultant)\n",
        "      key_list = list(self.customer_reward.keys())\n",
        "      for sample in samples:\n",
        "        self.customer_reward[key_list[sample]] = 1000\n",
        "\n",
        "      \n",
        "    def reset(self):\n",
        "        self.totalReward = 0\n",
        "        self.stepCount = 0\n",
        "        self.isDone = False\n",
        "\n",
        "        self.modulate_reward()\n",
        "        self.state = 'S'\n",
        "        return self.getObservation(state_name_to_int(self.state))\n",
        "      \n",
        "    def render(self):\n",
        "      print(self.customer_reward)"
      ],
      "execution_count": 0,
      "outputs": []
    },
    {
      "cell_type": "code",
      "metadata": {
        "id": "9J54w2URZIme",
        "colab_type": "code",
        "colab": {}
      },
      "source": [
        "BeraterEnv.showStep = berater_show_step\n",
        "BeraterEnv.showDone = berater_show_done\n",
        "BeraterEnv.debugStep = berater_debug_step"
      ],
      "execution_count": 0,
      "outputs": []
    },
    {
      "cell_type": "markdown",
      "metadata": {
        "id": "EYaTAvAyYO-U",
        "colab_type": "text"
      },
      "source": [
        "### Register with OpenAI Gym"
      ]
    },
    {
      "cell_type": "code",
      "metadata": {
        "id": "yhI9abUVYNrU",
        "colab_type": "code",
        "outputId": "ab65c451-b0fe-4c8d-9b44-53587155abfc",
        "colab": {
          "base_uri": "https://localhost:8080/",
          "height": 34
        }
      },
      "source": [
        "if not 'isEnvRegistered' in locals():\n",
        "  env_name=\"Berater-v1\"\n",
        "  gym.envs.registration.register(id=env_name,entry_point=BeraterEnv,max_episode_steps=1000)\n",
        "  isEnvRegistered=True\n",
        "  print(\"Berater registered as '\" + env_name + \"'\")\n",
        "else:\n",
        "  print(\"Already registered\")"
      ],
      "execution_count": 11,
      "outputs": [
        {
          "output_type": "stream",
          "text": [
            "Berater registered as 'Berater-v1'\n"
          ],
          "name": "stdout"
        }
      ]
    },
    {
      "cell_type": "markdown",
      "metadata": {
        "id": "sX8eJGcbOJ30",
        "colab_type": "text"
      },
      "source": [
        "# PPO TF-Agent: setup, train, visualize"
      ]
    },
    {
      "cell_type": "markdown",
      "metadata": {
        "id": "bzoq0VM85p46",
        "colab_type": "text"
      },
      "source": [
        "### Imports & Helpers"
      ]
    },
    {
      "cell_type": "code",
      "metadata": {
        "id": "5ofYknQFRkRT",
        "colab_type": "code",
        "colab": {}
      },
      "source": [
        "import tensorflow as tf\n",
        "\n",
        "from tf_agents.agents.ppo import ppo_agent\n",
        "from tf_agents.networks import actor_distribution_network\n",
        "from tf_agents.networks import value_network\n",
        "\n",
        "from tf_agents.drivers import dynamic_step_driver\n",
        "from tf_agents.environments import suite_gym\n",
        "from tf_agents.environments import tf_py_environment\n",
        "from tf_agents.metrics import tf_metrics\n",
        "from tf_agents.policies import random_tf_policy\n",
        "from tf_agents.replay_buffers import tf_uniform_replay_buffer\n",
        "from tf_agents.utils import common\n",
        "\n",
        "from tf_agents.drivers import dynamic_episode_driver\n",
        "from tf_agents.environments import parallel_py_environment\n",
        "\n",
        "# tf.compat.v1.enable_v2_behavior()\n"
      ],
      "execution_count": 0,
      "outputs": []
    },
    {
      "cell_type": "code",
      "metadata": {
        "id": "KiP6UgA65163",
        "colab_type": "code",
        "colab": {}
      },
      "source": [
        "#@test {\"skip\": true}\n",
        "def compute_avg_return(environment, policy, num_episodes=10):\n",
        "  old_show_step = BeraterEnv.showStep\n",
        "  old_show_done = BeraterEnv.showDone\n",
        "  old_debug_step = BeraterEnv.debugStep\n",
        "  BeraterEnv.showStep=False\n",
        "  BeraterEnv.showDone=False\n",
        "  BeraterEnv.debugStep=False\n",
        "  \n",
        "  total_return = 0.0\n",
        "  for _ in range(num_episodes):\n",
        "\n",
        "    time_step = environment.reset()\n",
        "    episode_return = 0.0\n",
        "\n",
        "    while not time_step.is_last():\n",
        "      action_step = policy.action(time_step)\n",
        "      time_step = environment.step(action_step.action)\n",
        "      episode_return += time_step.reward\n",
        "    total_return += episode_return\n",
        "\n",
        "  avg_return = total_return / num_episodes\n",
        "  BeraterEnv.showStep=old_show_step\n",
        "  BeraterEnv.showDone=old_show_done\n",
        "  BeraterEnv.debugStep=old_debug_step\n",
        "  return avg_return.numpy()[0]\n"
      ],
      "execution_count": 0,
      "outputs": []
    },
    {
      "cell_type": "markdown",
      "metadata": {
        "id": "NZoGMeUBr2tx",
        "colab_type": "text"
      },
      "source": [
        "### Setup and train"
      ]
    },
    {
      "cell_type": "code",
      "metadata": {
        "id": "RNaP-8Ej4N7O",
        "colab_type": "code",
        "cellView": "both",
        "colab": {}
      },
      "source": [
        "BeraterEnv.showStep=False # @param\n",
        "BeraterEnv.showDone=False # @param\n",
        "\n",
        "actor_fc_layers=(500, 500, 500) # @param\n",
        "value_fc_layers=(500, 500, 500) # @param\n",
        "\n",
        "# Params for collect\n",
        "collect_episodes_per_iteration=100 # @param\n",
        "num_parallel_environments=1\n",
        "replay_buffer_capacity=10001  # @param\n",
        "# Params for train\n",
        "num_train_iterations=200 # @param\n",
        "num_epochs=5 # @param\n",
        "learning_rate=1e-4 # @param\n",
        "# Params for summaries and logging\n",
        "log_interval=1 # @param\n",
        "use_tf_functions=True\n",
        "debug_summaries=False\n",
        "summarize_grads_and_vars=False\n",
        "\n",
        "num_eval_episodes = 10  # @param\n",
        "eval_interval = 10  # @param"
      ],
      "execution_count": 0,
      "outputs": []
    },
    {
      "cell_type": "code",
      "metadata": {
        "id": "Uk5R1TlGZ5he",
        "colab_type": "code",
        "colab": {}
      },
      "source": [
        "global_step = tf.compat.v1.train.get_or_create_global_step()\n",
        "tf.compat.v1.set_random_seed(0)\n",
        "eval_py_env = suite_gym.load(env_name)\n",
        "tf_env = tf_py_environment.TFPyEnvironment( suite_gym.load(env_name))\n",
        "optimizer = tf.compat.v1.train.AdamOptimizer(learning_rate=learning_rate)\n",
        "\n",
        "actor_net = actor_distribution_network.ActorDistributionNetwork(\n",
        "    tf_env.observation_spec(),\n",
        "    tf_env.action_spec(),\n",
        "    fc_layer_params=actor_fc_layers)\n",
        "value_net = value_network.ValueNetwork(\n",
        "    tf_env.observation_spec(), fc_layer_params=value_fc_layers)\n",
        "\n",
        "tf_agent = ppo_agent.PPOAgent(\n",
        "    tf_env.time_step_spec(),\n",
        "    tf_env.action_spec(),\n",
        "    optimizer,\n",
        "    actor_net=actor_net,\n",
        "    value_net=value_net,\n",
        "    num_epochs=num_epochs,\n",
        "    debug_summaries=debug_summaries,\n",
        "    summarize_grads_and_vars=summarize_grads_and_vars,\n",
        "    train_step_counter=global_step)\n",
        "tf_agent.initialize()\n",
        "\n",
        "eval_py_env = suite_gym.load(env_name)\n",
        "eval_env = tf_py_environment.TFPyEnvironment(eval_py_env)\n",
        "\n",
        "collect_policy = tf_agent.collect_policy\n",
        "\n",
        "replay_buffer = tf_uniform_replay_buffer.TFUniformReplayBuffer(\n",
        "    tf_agent.collect_data_spec,\n",
        "    batch_size=num_parallel_environments,\n",
        "    max_length=replay_buffer_capacity)\n",
        "\n",
        "collect_driver = dynamic_episode_driver.DynamicEpisodeDriver(\n",
        "    tf_env,\n",
        "    collect_policy,\n",
        "    observers=[replay_buffer.add_batch],\n",
        "    num_episodes=collect_episodes_per_iteration)\n",
        "\n",
        "collect_driver.run = common.function(collect_driver.run, autograph=False)\n",
        "tf_agent.train = common.function(tf_agent.train, autograph=False)"
      ],
      "execution_count": 0,
      "outputs": []
    },
    {
      "cell_type": "code",
      "metadata": {
        "id": "B6jO7QZC39R4",
        "colab_type": "code",
        "outputId": "97f04ef3-f01f-451c-eda3-0a33642370a3",
        "colab": {
          "base_uri": "https://localhost:8080/",
          "height": 4559
        }
      },
      "source": [
        "%%time\n",
        "\n",
        "avg_return = compute_avg_return(eval_env, tf_agent.policy, num_eval_episodes)\n",
        "returns=[avg_return]\n",
        "loss=[]\n",
        "\n",
        "for step in range(num_train_iterations):\n",
        "  collect_driver.run()\n",
        "  trajectories = replay_buffer.gather_all()\n",
        "  total_loss, _ = tf_agent.train(experience=trajectories)\n",
        "  replay_buffer.clear()\n",
        "\n",
        "  if step % log_interval == 0:\n",
        "    print('iteration/train_step = {}, loss = {}'.format(step, total_loss.numpy()))\n",
        "    loss.append(total_loss.numpy())\n",
        "\n",
        "  if step % eval_interval == 0:\n",
        "    avg_return = compute_avg_return(eval_env, tf_agent.policy, num_eval_episodes)\n",
        "    print('iteration/train_step = {}, Average Return = {}'.format(step, avg_return))\n",
        "    returns.append(avg_return)"
      ],
      "execution_count": 16,
      "outputs": [
        {
          "output_type": "stream",
          "text": [
            "WARNING: Logging before flag parsing goes to stderr.\n",
            "W0608 12:24:35.972012 140367954540416 ag_logging.py:145] Entity <bound method ActorDistributionNetwork.call of <tf_agents.networks.actor_distribution_network.ActorDistributionNetwork object at 0x7fa993950588>> could not be transformed and will be executed as-is. Please report this to the AutoGraph team. When filing the bug, set the verbosity to 10 (on Linux, `export AUTOGRAPH_VERBOSITY=10`) and attach the full output. Cause: No module named 'tensorflow_core.contrib'\n",
            "W0608 12:24:35.996918 140367954540416 ag_logging.py:145] Entity <bound method CategoricalProjectionNetwork.call of <tf_agents.networks.categorical_projection_network.CategoricalProjectionNetwork object at 0x7fa9939507f0>> could not be transformed and will be executed as-is. Please report this to the AutoGraph team. When filing the bug, set the verbosity to 10 (on Linux, `export AUTOGRAPH_VERBOSITY=10`) and attach the full output. Cause: No module named 'tensorflow_core.contrib'\n"
          ],
          "name": "stderr"
        },
        {
          "output_type": "stream",
          "text": [
            "WARNING: Entity <bound method ActorDistributionNetwork.call of <tf_agents.networks.actor_distribution_network.ActorDistributionNetwork object at 0x7fa993950588>> could not be transformed and will be executed as-is. Please report this to the AutoGraph team. When filing the bug, set the verbosity to 10 (on Linux, `export AUTOGRAPH_VERBOSITY=10`) and attach the full output. Cause: No module named 'tensorflow_core.contrib'\n",
            "WARNING: Entity <bound method CategoricalProjectionNetwork.call of <tf_agents.networks.categorical_projection_network.CategoricalProjectionNetwork object at 0x7fa9939507f0>> could not be transformed and will be executed as-is. Please report this to the AutoGraph team. When filing the bug, set the verbosity to 10 (on Linux, `export AUTOGRAPH_VERBOSITY=10`) and attach the full output. Cause: No module named 'tensorflow_core.contrib'\n"
          ],
          "name": "stdout"
        },
        {
          "output_type": "stream",
          "text": [
            "W0608 12:25:06.018086 140367954540416 ag_logging.py:145] Entity <bound method ValueNetwork.call of <tf_agents.networks.value_network.ValueNetwork object at 0x7fa9ef711400>> could not be transformed and will be executed as-is. Please report this to the AutoGraph team. When filing the bug, set the verbosity to 10 (on Linux, `export AUTOGRAPH_VERBOSITY=10`) and attach the full output. Cause: No module named 'tensorflow_core.contrib'\n",
            "W0608 12:25:06.191917 140367954540416 ag_logging.py:145] Entity <bound method ActorDistributionNetwork.call of <tf_agents.networks.actor_distribution_network.ActorDistributionNetwork object at 0x7fa993950588>> could not be transformed and will be executed as-is. Please report this to the AutoGraph team. When filing the bug, set the verbosity to 10 (on Linux, `export AUTOGRAPH_VERBOSITY=10`) and attach the full output. Cause: No module named 'tensorflow_core.contrib'\n"
          ],
          "name": "stderr"
        },
        {
          "output_type": "stream",
          "text": [
            "WARNING: Entity <bound method ValueNetwork.call of <tf_agents.networks.value_network.ValueNetwork object at 0x7fa9ef711400>> could not be transformed and will be executed as-is. Please report this to the AutoGraph team. When filing the bug, set the verbosity to 10 (on Linux, `export AUTOGRAPH_VERBOSITY=10`) and attach the full output. Cause: No module named 'tensorflow_core.contrib'\n",
            "WARNING: Entity <bound method ActorDistributionNetwork.call of <tf_agents.networks.actor_distribution_network.ActorDistributionNetwork object at 0x7fa993950588>> could not be transformed and will be executed as-is. Please report this to the AutoGraph team. When filing the bug, set the verbosity to 10 (on Linux, `export AUTOGRAPH_VERBOSITY=10`) and attach the full output. Cause: No module named 'tensorflow_core.contrib'\n"
          ],
          "name": "stdout"
        },
        {
          "output_type": "stream",
          "text": [
            "W0608 12:25:06.232112 140367954540416 ag_logging.py:145] Entity <bound method CategoricalProjectionNetwork.call of <tf_agents.networks.categorical_projection_network.CategoricalProjectionNetwork object at 0x7fa9939507f0>> could not be transformed and will be executed as-is. Please report this to the AutoGraph team. When filing the bug, set the verbosity to 10 (on Linux, `export AUTOGRAPH_VERBOSITY=10`) and attach the full output. Cause: No module named 'tensorflow_core.contrib'\n",
            "W0608 12:25:06.277770 140367954540416 ag_logging.py:145] Entity <bound method ValueNetwork.call of <tf_agents.networks.value_network.ValueNetwork object at 0x7fa9ef711400>> could not be transformed and will be executed as-is. Please report this to the AutoGraph team. When filing the bug, set the verbosity to 10 (on Linux, `export AUTOGRAPH_VERBOSITY=10`) and attach the full output. Cause: No module named 'tensorflow_core.contrib'\n",
            "W0608 12:25:06.387994 140367954540416 deprecation.py:323] From /usr/local/lib/python3.6/dist-packages/tensorflow_core/python/ops/math_grad.py:1221: add_dispatch_support.<locals>.wrapper (from tensorflow.python.ops.array_ops) is deprecated and will be removed in a future version.\n",
            "Instructions for updating:\n",
            "Use tf.where in 2.0, which has the same broadcast rule as np.where\n"
          ],
          "name": "stderr"
        },
        {
          "output_type": "stream",
          "text": [
            "WARNING: Entity <bound method CategoricalProjectionNetwork.call of <tf_agents.networks.categorical_projection_network.CategoricalProjectionNetwork object at 0x7fa9939507f0>> could not be transformed and will be executed as-is. Please report this to the AutoGraph team. When filing the bug, set the verbosity to 10 (on Linux, `export AUTOGRAPH_VERBOSITY=10`) and attach the full output. Cause: No module named 'tensorflow_core.contrib'\n",
            "WARNING: Entity <bound method ValueNetwork.call of <tf_agents.networks.value_network.ValueNetwork object at 0x7fa9ef711400>> could not be transformed and will be executed as-is. Please report this to the AutoGraph team. When filing the bug, set the verbosity to 10 (on Linux, `export AUTOGRAPH_VERBOSITY=10`) and attach the full output. Cause: No module named 'tensorflow_core.contrib'\n"
          ],
          "name": "stdout"
        },
        {
          "output_type": "stream",
          "text": [
            "W0608 12:25:06.682139 140367954540416 ag_logging.py:145] Entity <bound method ActorDistributionNetwork.call of <tf_agents.networks.actor_distribution_network.ActorDistributionNetwork object at 0x7fa993950588>> could not be transformed and will be executed as-is. Please report this to the AutoGraph team. When filing the bug, set the verbosity to 10 (on Linux, `export AUTOGRAPH_VERBOSITY=10`) and attach the full output. Cause: No module named 'tensorflow_core.contrib'\n",
            "W0608 12:25:06.819384 140367954540416 ag_logging.py:145] Entity <bound method CategoricalProjectionNetwork.call of <tf_agents.networks.categorical_projection_network.CategoricalProjectionNetwork object at 0x7fa9939507f0>> could not be transformed and will be executed as-is. Please report this to the AutoGraph team. When filing the bug, set the verbosity to 10 (on Linux, `export AUTOGRAPH_VERBOSITY=10`) and attach the full output. Cause: No module named 'tensorflow_core.contrib'\n",
            "W0608 12:25:06.864778 140367954540416 ag_logging.py:145] Entity <bound method ValueNetwork.call of <tf_agents.networks.value_network.ValueNetwork object at 0x7fa9ef711400>> could not be transformed and will be executed as-is. Please report this to the AutoGraph team. When filing the bug, set the verbosity to 10 (on Linux, `export AUTOGRAPH_VERBOSITY=10`) and attach the full output. Cause: No module named 'tensorflow_core.contrib'\n"
          ],
          "name": "stderr"
        },
        {
          "output_type": "stream",
          "text": [
            "WARNING: Entity <bound method ActorDistributionNetwork.call of <tf_agents.networks.actor_distribution_network.ActorDistributionNetwork object at 0x7fa993950588>> could not be transformed and will be executed as-is. Please report this to the AutoGraph team. When filing the bug, set the verbosity to 10 (on Linux, `export AUTOGRAPH_VERBOSITY=10`) and attach the full output. Cause: No module named 'tensorflow_core.contrib'\n",
            "WARNING: Entity <bound method CategoricalProjectionNetwork.call of <tf_agents.networks.categorical_projection_network.CategoricalProjectionNetwork object at 0x7fa9939507f0>> could not be transformed and will be executed as-is. Please report this to the AutoGraph team. When filing the bug, set the verbosity to 10 (on Linux, `export AUTOGRAPH_VERBOSITY=10`) and attach the full output. Cause: No module named 'tensorflow_core.contrib'\n",
            "WARNING: Entity <bound method ValueNetwork.call of <tf_agents.networks.value_network.ValueNetwork object at 0x7fa9ef711400>> could not be transformed and will be executed as-is. Please report this to the AutoGraph team. When filing the bug, set the verbosity to 10 (on Linux, `export AUTOGRAPH_VERBOSITY=10`) and attach the full output. Cause: No module named 'tensorflow_core.contrib'\n"
          ],
          "name": "stdout"
        },
        {
          "output_type": "stream",
          "text": [
            "W0608 12:25:07.180123 140367954540416 ag_logging.py:145] Entity <bound method ActorDistributionNetwork.call of <tf_agents.networks.actor_distribution_network.ActorDistributionNetwork object at 0x7fa993950588>> could not be transformed and will be executed as-is. Please report this to the AutoGraph team. When filing the bug, set the verbosity to 10 (on Linux, `export AUTOGRAPH_VERBOSITY=10`) and attach the full output. Cause: No module named 'tensorflow_core.contrib'\n",
            "W0608 12:25:07.212545 140367954540416 ag_logging.py:145] Entity <bound method CategoricalProjectionNetwork.call of <tf_agents.networks.categorical_projection_network.CategoricalProjectionNetwork object at 0x7fa9939507f0>> could not be transformed and will be executed as-is. Please report this to the AutoGraph team. When filing the bug, set the verbosity to 10 (on Linux, `export AUTOGRAPH_VERBOSITY=10`) and attach the full output. Cause: No module named 'tensorflow_core.contrib'\n",
            "W0608 12:25:07.256728 140367954540416 ag_logging.py:145] Entity <bound method ValueNetwork.call of <tf_agents.networks.value_network.ValueNetwork object at 0x7fa9ef711400>> could not be transformed and will be executed as-is. Please report this to the AutoGraph team. When filing the bug, set the verbosity to 10 (on Linux, `export AUTOGRAPH_VERBOSITY=10`) and attach the full output. Cause: No module named 'tensorflow_core.contrib'\n"
          ],
          "name": "stderr"
        },
        {
          "output_type": "stream",
          "text": [
            "WARNING: Entity <bound method ActorDistributionNetwork.call of <tf_agents.networks.actor_distribution_network.ActorDistributionNetwork object at 0x7fa993950588>> could not be transformed and will be executed as-is. Please report this to the AutoGraph team. When filing the bug, set the verbosity to 10 (on Linux, `export AUTOGRAPH_VERBOSITY=10`) and attach the full output. Cause: No module named 'tensorflow_core.contrib'\n",
            "WARNING: Entity <bound method CategoricalProjectionNetwork.call of <tf_agents.networks.categorical_projection_network.CategoricalProjectionNetwork object at 0x7fa9939507f0>> could not be transformed and will be executed as-is. Please report this to the AutoGraph team. When filing the bug, set the verbosity to 10 (on Linux, `export AUTOGRAPH_VERBOSITY=10`) and attach the full output. Cause: No module named 'tensorflow_core.contrib'\n",
            "WARNING: Entity <bound method ValueNetwork.call of <tf_agents.networks.value_network.ValueNetwork object at 0x7fa9ef711400>> could not be transformed and will be executed as-is. Please report this to the AutoGraph team. When filing the bug, set the verbosity to 10 (on Linux, `export AUTOGRAPH_VERBOSITY=10`) and attach the full output. Cause: No module named 'tensorflow_core.contrib'\n"
          ],
          "name": "stdout"
        },
        {
          "output_type": "stream",
          "text": [
            "W0608 12:25:07.562211 140367954540416 ag_logging.py:145] Entity <bound method ActorDistributionNetwork.call of <tf_agents.networks.actor_distribution_network.ActorDistributionNetwork object at 0x7fa993950588>> could not be transformed and will be executed as-is. Please report this to the AutoGraph team. When filing the bug, set the verbosity to 10 (on Linux, `export AUTOGRAPH_VERBOSITY=10`) and attach the full output. Cause: No module named 'tensorflow_core.contrib'\n",
            "W0608 12:25:07.593166 140367954540416 ag_logging.py:145] Entity <bound method CategoricalProjectionNetwork.call of <tf_agents.networks.categorical_projection_network.CategoricalProjectionNetwork object at 0x7fa9939507f0>> could not be transformed and will be executed as-is. Please report this to the AutoGraph team. When filing the bug, set the verbosity to 10 (on Linux, `export AUTOGRAPH_VERBOSITY=10`) and attach the full output. Cause: No module named 'tensorflow_core.contrib'\n",
            "W0608 12:25:07.636788 140367954540416 ag_logging.py:145] Entity <bound method ValueNetwork.call of <tf_agents.networks.value_network.ValueNetwork object at 0x7fa9ef711400>> could not be transformed and will be executed as-is. Please report this to the AutoGraph team. When filing the bug, set the verbosity to 10 (on Linux, `export AUTOGRAPH_VERBOSITY=10`) and attach the full output. Cause: No module named 'tensorflow_core.contrib'\n"
          ],
          "name": "stderr"
        },
        {
          "output_type": "stream",
          "text": [
            "WARNING: Entity <bound method ActorDistributionNetwork.call of <tf_agents.networks.actor_distribution_network.ActorDistributionNetwork object at 0x7fa993950588>> could not be transformed and will be executed as-is. Please report this to the AutoGraph team. When filing the bug, set the verbosity to 10 (on Linux, `export AUTOGRAPH_VERBOSITY=10`) and attach the full output. Cause: No module named 'tensorflow_core.contrib'\n",
            "WARNING: Entity <bound method CategoricalProjectionNetwork.call of <tf_agents.networks.categorical_projection_network.CategoricalProjectionNetwork object at 0x7fa9939507f0>> could not be transformed and will be executed as-is. Please report this to the AutoGraph team. When filing the bug, set the verbosity to 10 (on Linux, `export AUTOGRAPH_VERBOSITY=10`) and attach the full output. Cause: No module named 'tensorflow_core.contrib'\n",
            "WARNING: Entity <bound method ValueNetwork.call of <tf_agents.networks.value_network.ValueNetwork object at 0x7fa9ef711400>> could not be transformed and will be executed as-is. Please report this to the AutoGraph team. When filing the bug, set the verbosity to 10 (on Linux, `export AUTOGRAPH_VERBOSITY=10`) and attach the full output. Cause: No module named 'tensorflow_core.contrib'\n"
          ],
          "name": "stdout"
        },
        {
          "output_type": "stream",
          "text": [
            "W0608 12:25:08.067847 140367954540416 ag_logging.py:145] Entity <bound method ActorDistributionNetwork.call of <tf_agents.networks.actor_distribution_network.ActorDistributionNetwork object at 0x7fa993950588>> could not be transformed and will be executed as-is. Please report this to the AutoGraph team. When filing the bug, set the verbosity to 10 (on Linux, `export AUTOGRAPH_VERBOSITY=10`) and attach the full output. Cause: No module named 'tensorflow_core.contrib'\n",
            "W0608 12:25:08.101574 140367954540416 ag_logging.py:145] Entity <bound method CategoricalProjectionNetwork.call of <tf_agents.networks.categorical_projection_network.CategoricalProjectionNetwork object at 0x7fa9939507f0>> could not be transformed and will be executed as-is. Please report this to the AutoGraph team. When filing the bug, set the verbosity to 10 (on Linux, `export AUTOGRAPH_VERBOSITY=10`) and attach the full output. Cause: No module named 'tensorflow_core.contrib'\n",
            "W0608 12:25:08.146697 140367954540416 ag_logging.py:145] Entity <bound method ValueNetwork.call of <tf_agents.networks.value_network.ValueNetwork object at 0x7fa9ef711400>> could not be transformed and will be executed as-is. Please report this to the AutoGraph team. When filing the bug, set the verbosity to 10 (on Linux, `export AUTOGRAPH_VERBOSITY=10`) and attach the full output. Cause: No module named 'tensorflow_core.contrib'\n"
          ],
          "name": "stderr"
        },
        {
          "output_type": "stream",
          "text": [
            "WARNING: Entity <bound method ActorDistributionNetwork.call of <tf_agents.networks.actor_distribution_network.ActorDistributionNetwork object at 0x7fa993950588>> could not be transformed and will be executed as-is. Please report this to the AutoGraph team. When filing the bug, set the verbosity to 10 (on Linux, `export AUTOGRAPH_VERBOSITY=10`) and attach the full output. Cause: No module named 'tensorflow_core.contrib'\n",
            "WARNING: Entity <bound method CategoricalProjectionNetwork.call of <tf_agents.networks.categorical_projection_network.CategoricalProjectionNetwork object at 0x7fa9939507f0>> could not be transformed and will be executed as-is. Please report this to the AutoGraph team. When filing the bug, set the verbosity to 10 (on Linux, `export AUTOGRAPH_VERBOSITY=10`) and attach the full output. Cause: No module named 'tensorflow_core.contrib'\n",
            "WARNING: Entity <bound method ValueNetwork.call of <tf_agents.networks.value_network.ValueNetwork object at 0x7fa9ef711400>> could not be transformed and will be executed as-is. Please report this to the AutoGraph team. When filing the bug, set the verbosity to 10 (on Linux, `export AUTOGRAPH_VERBOSITY=10`) and attach the full output. Cause: No module named 'tensorflow_core.contrib'\n"
          ],
          "name": "stdout"
        },
        {
          "output_type": "stream",
          "text": [
            "W0608 12:25:08.458115 140367954540416 ag_logging.py:145] Entity <bound method ActorDistributionNetwork.call of <tf_agents.networks.actor_distribution_network.ActorDistributionNetwork object at 0x7fa993950588>> could not be transformed and will be executed as-is. Please report this to the AutoGraph team. When filing the bug, set the verbosity to 10 (on Linux, `export AUTOGRAPH_VERBOSITY=10`) and attach the full output. Cause: No module named 'tensorflow_core.contrib'\n",
            "W0608 12:25:08.488742 140367954540416 ag_logging.py:145] Entity <bound method CategoricalProjectionNetwork.call of <tf_agents.networks.categorical_projection_network.CategoricalProjectionNetwork object at 0x7fa9939507f0>> could not be transformed and will be executed as-is. Please report this to the AutoGraph team. When filing the bug, set the verbosity to 10 (on Linux, `export AUTOGRAPH_VERBOSITY=10`) and attach the full output. Cause: No module named 'tensorflow_core.contrib'\n"
          ],
          "name": "stderr"
        },
        {
          "output_type": "stream",
          "text": [
            "WARNING: Entity <bound method ActorDistributionNetwork.call of <tf_agents.networks.actor_distribution_network.ActorDistributionNetwork object at 0x7fa993950588>> could not be transformed and will be executed as-is. Please report this to the AutoGraph team. When filing the bug, set the verbosity to 10 (on Linux, `export AUTOGRAPH_VERBOSITY=10`) and attach the full output. Cause: No module named 'tensorflow_core.contrib'\n",
            "WARNING: Entity <bound method CategoricalProjectionNetwork.call of <tf_agents.networks.categorical_projection_network.CategoricalProjectionNetwork object at 0x7fa9939507f0>> could not be transformed and will be executed as-is. Please report this to the AutoGraph team. When filing the bug, set the verbosity to 10 (on Linux, `export AUTOGRAPH_VERBOSITY=10`) and attach the full output. Cause: No module named 'tensorflow_core.contrib'\n"
          ],
          "name": "stdout"
        },
        {
          "output_type": "stream",
          "text": [
            "W0608 12:25:08.768255 140367954540416 ag_logging.py:145] Entity <function Function._initialize_uninitialized_variables.<locals>.initialize_variables at 0x7fa92ceff048> could not be transformed and will be executed as-is. Please report this to the AutoGraph team. When filing the bug, set the verbosity to 10 (on Linux, `export AUTOGRAPH_VERBOSITY=10`) and attach the full output. Cause: No module named 'tensorflow_core.contrib'\n",
            "W0608 12:25:08.863018 140367954540416 ag_logging.py:145] Entity <bound method ValueNetwork.call of <tf_agents.networks.value_network.ValueNetwork object at 0x7fa9ef711400>> could not be transformed and will be executed as-is. Please report this to the AutoGraph team. When filing the bug, set the verbosity to 10 (on Linux, `export AUTOGRAPH_VERBOSITY=10`) and attach the full output. Cause: No module named 'tensorflow_core.contrib'\n"
          ],
          "name": "stderr"
        },
        {
          "output_type": "stream",
          "text": [
            "WARNING: Entity <function Function._initialize_uninitialized_variables.<locals>.initialize_variables at 0x7fa92ceff048> could not be transformed and will be executed as-is. Please report this to the AutoGraph team. When filing the bug, set the verbosity to 10 (on Linux, `export AUTOGRAPH_VERBOSITY=10`) and attach the full output. Cause: No module named 'tensorflow_core.contrib'\n",
            "WARNING: Entity <bound method ValueNetwork.call of <tf_agents.networks.value_network.ValueNetwork object at 0x7fa9ef711400>> could not be transformed and will be executed as-is. Please report this to the AutoGraph team. When filing the bug, set the verbosity to 10 (on Linux, `export AUTOGRAPH_VERBOSITY=10`) and attach the full output. Cause: No module named 'tensorflow_core.contrib'\n"
          ],
          "name": "stdout"
        },
        {
          "output_type": "stream",
          "text": [
            "W0608 12:25:09.014286 140367954540416 ag_logging.py:145] Entity <bound method ActorDistributionNetwork.call of <tf_agents.networks.actor_distribution_network.ActorDistributionNetwork object at 0x7fa993950588>> could not be transformed and will be executed as-is. Please report this to the AutoGraph team. When filing the bug, set the verbosity to 10 (on Linux, `export AUTOGRAPH_VERBOSITY=10`) and attach the full output. Cause: No module named 'tensorflow_core.contrib'\n",
            "W0608 12:25:09.050444 140367954540416 ag_logging.py:145] Entity <bound method CategoricalProjectionNetwork.call of <tf_agents.networks.categorical_projection_network.CategoricalProjectionNetwork object at 0x7fa9939507f0>> could not be transformed and will be executed as-is. Please report this to the AutoGraph team. When filing the bug, set the verbosity to 10 (on Linux, `export AUTOGRAPH_VERBOSITY=10`) and attach the full output. Cause: No module named 'tensorflow_core.contrib'\n",
            "W0608 12:25:09.100520 140367954540416 ag_logging.py:145] Entity <bound method ValueNetwork.call of <tf_agents.networks.value_network.ValueNetwork object at 0x7fa9ef711400>> could not be transformed and will be executed as-is. Please report this to the AutoGraph team. When filing the bug, set the verbosity to 10 (on Linux, `export AUTOGRAPH_VERBOSITY=10`) and attach the full output. Cause: No module named 'tensorflow_core.contrib'\n"
          ],
          "name": "stderr"
        },
        {
          "output_type": "stream",
          "text": [
            "WARNING: Entity <bound method ActorDistributionNetwork.call of <tf_agents.networks.actor_distribution_network.ActorDistributionNetwork object at 0x7fa993950588>> could not be transformed and will be executed as-is. Please report this to the AutoGraph team. When filing the bug, set the verbosity to 10 (on Linux, `export AUTOGRAPH_VERBOSITY=10`) and attach the full output. Cause: No module named 'tensorflow_core.contrib'\n",
            "WARNING: Entity <bound method CategoricalProjectionNetwork.call of <tf_agents.networks.categorical_projection_network.CategoricalProjectionNetwork object at 0x7fa9939507f0>> could not be transformed and will be executed as-is. Please report this to the AutoGraph team. When filing the bug, set the verbosity to 10 (on Linux, `export AUTOGRAPH_VERBOSITY=10`) and attach the full output. Cause: No module named 'tensorflow_core.contrib'\n",
            "WARNING: Entity <bound method ValueNetwork.call of <tf_agents.networks.value_network.ValueNetwork object at 0x7fa9ef711400>> could not be transformed and will be executed as-is. Please report this to the AutoGraph team. When filing the bug, set the verbosity to 10 (on Linux, `export AUTOGRAPH_VERBOSITY=10`) and attach the full output. Cause: No module named 'tensorflow_core.contrib'\n"
          ],
          "name": "stdout"
        },
        {
          "output_type": "stream",
          "text": [
            "W0608 12:25:09.432476 140367954540416 ag_logging.py:145] Entity <bound method ActorDistributionNetwork.call of <tf_agents.networks.actor_distribution_network.ActorDistributionNetwork object at 0x7fa993950588>> could not be transformed and will be executed as-is. Please report this to the AutoGraph team. When filing the bug, set the verbosity to 10 (on Linux, `export AUTOGRAPH_VERBOSITY=10`) and attach the full output. Cause: No module named 'tensorflow_core.contrib'\n",
            "W0608 12:25:09.462978 140367954540416 ag_logging.py:145] Entity <bound method CategoricalProjectionNetwork.call of <tf_agents.networks.categorical_projection_network.CategoricalProjectionNetwork object at 0x7fa9939507f0>> could not be transformed and will be executed as-is. Please report this to the AutoGraph team. When filing the bug, set the verbosity to 10 (on Linux, `export AUTOGRAPH_VERBOSITY=10`) and attach the full output. Cause: No module named 'tensorflow_core.contrib'\n"
          ],
          "name": "stderr"
        },
        {
          "output_type": "stream",
          "text": [
            "WARNING: Entity <bound method ActorDistributionNetwork.call of <tf_agents.networks.actor_distribution_network.ActorDistributionNetwork object at 0x7fa993950588>> could not be transformed and will be executed as-is. Please report this to the AutoGraph team. When filing the bug, set the verbosity to 10 (on Linux, `export AUTOGRAPH_VERBOSITY=10`) and attach the full output. Cause: No module named 'tensorflow_core.contrib'\n",
            "WARNING: Entity <bound method CategoricalProjectionNetwork.call of <tf_agents.networks.categorical_projection_network.CategoricalProjectionNetwork object at 0x7fa9939507f0>> could not be transformed and will be executed as-is. Please report this to the AutoGraph team. When filing the bug, set the verbosity to 10 (on Linux, `export AUTOGRAPH_VERBOSITY=10`) and attach the full output. Cause: No module named 'tensorflow_core.contrib'\n"
          ],
          "name": "stdout"
        },
        {
          "output_type": "stream",
          "text": [
            "W0608 12:25:09.653071 140367954540416 ag_logging.py:145] Entity <bound method ValueNetwork.call of <tf_agents.networks.value_network.ValueNetwork object at 0x7fa9ef711400>> could not be transformed and will be executed as-is. Please report this to the AutoGraph team. When filing the bug, set the verbosity to 10 (on Linux, `export AUTOGRAPH_VERBOSITY=10`) and attach the full output. Cause: No module named 'tensorflow_core.contrib'\n"
          ],
          "name": "stderr"
        },
        {
          "output_type": "stream",
          "text": [
            "WARNING: Entity <bound method ValueNetwork.call of <tf_agents.networks.value_network.ValueNetwork object at 0x7fa9ef711400>> could not be transformed and will be executed as-is. Please report this to the AutoGraph team. When filing the bug, set the verbosity to 10 (on Linux, `export AUTOGRAPH_VERBOSITY=10`) and attach the full output. Cause: No module named 'tensorflow_core.contrib'\n"
          ],
          "name": "stdout"
        },
        {
          "output_type": "stream",
          "text": [
            "W0608 12:25:09.961307 140367954540416 ag_logging.py:145] Entity <bound method ActorDistributionNetwork.call of <tf_agents.networks.actor_distribution_network.ActorDistributionNetwork object at 0x7fa993950588>> could not be transformed and will be executed as-is. Please report this to the AutoGraph team. When filing the bug, set the verbosity to 10 (on Linux, `export AUTOGRAPH_VERBOSITY=10`) and attach the full output. Cause: No module named 'tensorflow_core.contrib'\n",
            "W0608 12:25:09.992436 140367954540416 ag_logging.py:145] Entity <bound method CategoricalProjectionNetwork.call of <tf_agents.networks.categorical_projection_network.CategoricalProjectionNetwork object at 0x7fa9939507f0>> could not be transformed and will be executed as-is. Please report this to the AutoGraph team. When filing the bug, set the verbosity to 10 (on Linux, `export AUTOGRAPH_VERBOSITY=10`) and attach the full output. Cause: No module named 'tensorflow_core.contrib'\n",
            "W0608 12:25:10.036174 140367954540416 ag_logging.py:145] Entity <bound method ValueNetwork.call of <tf_agents.networks.value_network.ValueNetwork object at 0x7fa9ef711400>> could not be transformed and will be executed as-is. Please report this to the AutoGraph team. When filing the bug, set the verbosity to 10 (on Linux, `export AUTOGRAPH_VERBOSITY=10`) and attach the full output. Cause: No module named 'tensorflow_core.contrib'\n"
          ],
          "name": "stderr"
        },
        {
          "output_type": "stream",
          "text": [
            "WARNING: Entity <bound method ActorDistributionNetwork.call of <tf_agents.networks.actor_distribution_network.ActorDistributionNetwork object at 0x7fa993950588>> could not be transformed and will be executed as-is. Please report this to the AutoGraph team. When filing the bug, set the verbosity to 10 (on Linux, `export AUTOGRAPH_VERBOSITY=10`) and attach the full output. Cause: No module named 'tensorflow_core.contrib'\n",
            "WARNING: Entity <bound method CategoricalProjectionNetwork.call of <tf_agents.networks.categorical_projection_network.CategoricalProjectionNetwork object at 0x7fa9939507f0>> could not be transformed and will be executed as-is. Please report this to the AutoGraph team. When filing the bug, set the verbosity to 10 (on Linux, `export AUTOGRAPH_VERBOSITY=10`) and attach the full output. Cause: No module named 'tensorflow_core.contrib'\n",
            "WARNING: Entity <bound method ValueNetwork.call of <tf_agents.networks.value_network.ValueNetwork object at 0x7fa9ef711400>> could not be transformed and will be executed as-is. Please report this to the AutoGraph team. When filing the bug, set the verbosity to 10 (on Linux, `export AUTOGRAPH_VERBOSITY=10`) and attach the full output. Cause: No module named 'tensorflow_core.contrib'\n"
          ],
          "name": "stdout"
        },
        {
          "output_type": "stream",
          "text": [
            "W0608 12:25:10.356141 140367954540416 ag_logging.py:145] Entity <bound method ActorDistributionNetwork.call of <tf_agents.networks.actor_distribution_network.ActorDistributionNetwork object at 0x7fa993950588>> could not be transformed and will be executed as-is. Please report this to the AutoGraph team. When filing the bug, set the verbosity to 10 (on Linux, `export AUTOGRAPH_VERBOSITY=10`) and attach the full output. Cause: No module named 'tensorflow_core.contrib'\n",
            "W0608 12:25:10.387595 140367954540416 ag_logging.py:145] Entity <bound method CategoricalProjectionNetwork.call of <tf_agents.networks.categorical_projection_network.CategoricalProjectionNetwork object at 0x7fa9939507f0>> could not be transformed and will be executed as-is. Please report this to the AutoGraph team. When filing the bug, set the verbosity to 10 (on Linux, `export AUTOGRAPH_VERBOSITY=10`) and attach the full output. Cause: No module named 'tensorflow_core.contrib'\n",
            "W0608 12:25:10.431565 140367954540416 ag_logging.py:145] Entity <bound method ValueNetwork.call of <tf_agents.networks.value_network.ValueNetwork object at 0x7fa9ef711400>> could not be transformed and will be executed as-is. Please report this to the AutoGraph team. When filing the bug, set the verbosity to 10 (on Linux, `export AUTOGRAPH_VERBOSITY=10`) and attach the full output. Cause: No module named 'tensorflow_core.contrib'\n"
          ],
          "name": "stderr"
        },
        {
          "output_type": "stream",
          "text": [
            "WARNING: Entity <bound method ActorDistributionNetwork.call of <tf_agents.networks.actor_distribution_network.ActorDistributionNetwork object at 0x7fa993950588>> could not be transformed and will be executed as-is. Please report this to the AutoGraph team. When filing the bug, set the verbosity to 10 (on Linux, `export AUTOGRAPH_VERBOSITY=10`) and attach the full output. Cause: No module named 'tensorflow_core.contrib'\n",
            "WARNING: Entity <bound method CategoricalProjectionNetwork.call of <tf_agents.networks.categorical_projection_network.CategoricalProjectionNetwork object at 0x7fa9939507f0>> could not be transformed and will be executed as-is. Please report this to the AutoGraph team. When filing the bug, set the verbosity to 10 (on Linux, `export AUTOGRAPH_VERBOSITY=10`) and attach the full output. Cause: No module named 'tensorflow_core.contrib'\n",
            "WARNING: Entity <bound method ValueNetwork.call of <tf_agents.networks.value_network.ValueNetwork object at 0x7fa9ef711400>> could not be transformed and will be executed as-is. Please report this to the AutoGraph team. When filing the bug, set the verbosity to 10 (on Linux, `export AUTOGRAPH_VERBOSITY=10`) and attach the full output. Cause: No module named 'tensorflow_core.contrib'\n"
          ],
          "name": "stdout"
        },
        {
          "output_type": "stream",
          "text": [
            "W0608 12:25:10.741625 140367954540416 ag_logging.py:145] Entity <bound method ActorDistributionNetwork.call of <tf_agents.networks.actor_distribution_network.ActorDistributionNetwork object at 0x7fa993950588>> could not be transformed and will be executed as-is. Please report this to the AutoGraph team. When filing the bug, set the verbosity to 10 (on Linux, `export AUTOGRAPH_VERBOSITY=10`) and attach the full output. Cause: No module named 'tensorflow_core.contrib'\n",
            "W0608 12:25:10.773726 140367954540416 ag_logging.py:145] Entity <bound method CategoricalProjectionNetwork.call of <tf_agents.networks.categorical_projection_network.CategoricalProjectionNetwork object at 0x7fa9939507f0>> could not be transformed and will be executed as-is. Please report this to the AutoGraph team. When filing the bug, set the verbosity to 10 (on Linux, `export AUTOGRAPH_VERBOSITY=10`) and attach the full output. Cause: No module named 'tensorflow_core.contrib'\n",
            "W0608 12:25:10.817878 140367954540416 ag_logging.py:145] Entity <bound method ValueNetwork.call of <tf_agents.networks.value_network.ValueNetwork object at 0x7fa9ef711400>> could not be transformed and will be executed as-is. Please report this to the AutoGraph team. When filing the bug, set the verbosity to 10 (on Linux, `export AUTOGRAPH_VERBOSITY=10`) and attach the full output. Cause: No module named 'tensorflow_core.contrib'\n"
          ],
          "name": "stderr"
        },
        {
          "output_type": "stream",
          "text": [
            "WARNING: Entity <bound method ActorDistributionNetwork.call of <tf_agents.networks.actor_distribution_network.ActorDistributionNetwork object at 0x7fa993950588>> could not be transformed and will be executed as-is. Please report this to the AutoGraph team. When filing the bug, set the verbosity to 10 (on Linux, `export AUTOGRAPH_VERBOSITY=10`) and attach the full output. Cause: No module named 'tensorflow_core.contrib'\n",
            "WARNING: Entity <bound method CategoricalProjectionNetwork.call of <tf_agents.networks.categorical_projection_network.CategoricalProjectionNetwork object at 0x7fa9939507f0>> could not be transformed and will be executed as-is. Please report this to the AutoGraph team. When filing the bug, set the verbosity to 10 (on Linux, `export AUTOGRAPH_VERBOSITY=10`) and attach the full output. Cause: No module named 'tensorflow_core.contrib'\n",
            "WARNING: Entity <bound method ValueNetwork.call of <tf_agents.networks.value_network.ValueNetwork object at 0x7fa9ef711400>> could not be transformed and will be executed as-is. Please report this to the AutoGraph team. When filing the bug, set the verbosity to 10 (on Linux, `export AUTOGRAPH_VERBOSITY=10`) and attach the full output. Cause: No module named 'tensorflow_core.contrib'\n"
          ],
          "name": "stdout"
        },
        {
          "output_type": "stream",
          "text": [
            "W0608 12:25:11.131392 140367954540416 ag_logging.py:145] Entity <bound method ActorDistributionNetwork.call of <tf_agents.networks.actor_distribution_network.ActorDistributionNetwork object at 0x7fa993950588>> could not be transformed and will be executed as-is. Please report this to the AutoGraph team. When filing the bug, set the verbosity to 10 (on Linux, `export AUTOGRAPH_VERBOSITY=10`) and attach the full output. Cause: No module named 'tensorflow_core.contrib'\n",
            "W0608 12:25:11.162525 140367954540416 ag_logging.py:145] Entity <bound method CategoricalProjectionNetwork.call of <tf_agents.networks.categorical_projection_network.CategoricalProjectionNetwork object at 0x7fa9939507f0>> could not be transformed and will be executed as-is. Please report this to the AutoGraph team. When filing the bug, set the verbosity to 10 (on Linux, `export AUTOGRAPH_VERBOSITY=10`) and attach the full output. Cause: No module named 'tensorflow_core.contrib'\n"
          ],
          "name": "stderr"
        },
        {
          "output_type": "stream",
          "text": [
            "WARNING: Entity <bound method ActorDistributionNetwork.call of <tf_agents.networks.actor_distribution_network.ActorDistributionNetwork object at 0x7fa993950588>> could not be transformed and will be executed as-is. Please report this to the AutoGraph team. When filing the bug, set the verbosity to 10 (on Linux, `export AUTOGRAPH_VERBOSITY=10`) and attach the full output. Cause: No module named 'tensorflow_core.contrib'\n",
            "WARNING: Entity <bound method CategoricalProjectionNetwork.call of <tf_agents.networks.categorical_projection_network.CategoricalProjectionNetwork object at 0x7fa9939507f0>> could not be transformed and will be executed as-is. Please report this to the AutoGraph team. When filing the bug, set the verbosity to 10 (on Linux, `export AUTOGRAPH_VERBOSITY=10`) and attach the full output. Cause: No module named 'tensorflow_core.contrib'\n",
            "iteration/train_step = 0, loss = 5321.96240234375\n",
            "iteration/train_step = 0, Average Return = -5.453338623046875\n",
            "iteration/train_step = 1, loss = 4844.61962890625\n",
            "iteration/train_step = 2, loss = 5176.94384765625\n",
            "iteration/train_step = 3, loss = 4422.3984375\n",
            "iteration/train_step = 4, loss = 4127.9658203125\n",
            "iteration/train_step = 5, loss = 3402.145263671875\n",
            "iteration/train_step = 6, loss = 2908.93359375\n",
            "iteration/train_step = 7, loss = 2543.975341796875\n",
            "iteration/train_step = 8, loss = 2387.975341796875\n",
            "iteration/train_step = 9, loss = 1542.888427734375\n",
            "iteration/train_step = 10, loss = 1397.680419921875\n",
            "iteration/train_step = 10, Average Return = -3.2199974060058594\n",
            "iteration/train_step = 11, loss = 1192.7784423828125\n",
            "iteration/train_step = 12, loss = 774.8829345703125\n",
            "iteration/train_step = 13, loss = 593.5308227539062\n",
            "iteration/train_step = 14, loss = 379.962158203125\n",
            "iteration/train_step = 15, loss = 271.9405822753906\n",
            "iteration/train_step = 16, loss = 166.34716796875\n",
            "iteration/train_step = 17, loss = 162.73727416992188\n",
            "iteration/train_step = 18, loss = 100.65437316894531\n"
          ],
          "name": "stdout"
        },
        {
          "output_type": "stream",
          "text": [
            "W0608 12:34:48.352882 140367954540416 ag_logging.py:145] Entity <bound method ValueNetwork.call of <tf_agents.networks.value_network.ValueNetwork object at 0x7fa9ef711400>> could not be transformed and will be executed as-is. Please report this to the AutoGraph team. When filing the bug, set the verbosity to 10 (on Linux, `export AUTOGRAPH_VERBOSITY=10`) and attach the full output. Cause: No module named 'tensorflow_core.contrib'\n",
            "W0608 12:34:48.505182 140367954540416 ag_logging.py:145] Entity <bound method ActorDistributionNetwork.call of <tf_agents.networks.actor_distribution_network.ActorDistributionNetwork object at 0x7fa993950588>> could not be transformed and will be executed as-is. Please report this to the AutoGraph team. When filing the bug, set the verbosity to 10 (on Linux, `export AUTOGRAPH_VERBOSITY=10`) and attach the full output. Cause: No module named 'tensorflow_core.contrib'\n",
            "W0608 12:34:48.539593 140367954540416 ag_logging.py:145] Entity <bound method CategoricalProjectionNetwork.call of <tf_agents.networks.categorical_projection_network.CategoricalProjectionNetwork object at 0x7fa9939507f0>> could not be transformed and will be executed as-is. Please report this to the AutoGraph team. When filing the bug, set the verbosity to 10 (on Linux, `export AUTOGRAPH_VERBOSITY=10`) and attach the full output. Cause: No module named 'tensorflow_core.contrib'\n"
          ],
          "name": "stderr"
        },
        {
          "output_type": "stream",
          "text": [
            "WARNING: Entity <bound method ValueNetwork.call of <tf_agents.networks.value_network.ValueNetwork object at 0x7fa9ef711400>> could not be transformed and will be executed as-is. Please report this to the AutoGraph team. When filing the bug, set the verbosity to 10 (on Linux, `export AUTOGRAPH_VERBOSITY=10`) and attach the full output. Cause: No module named 'tensorflow_core.contrib'\n",
            "WARNING: Entity <bound method ActorDistributionNetwork.call of <tf_agents.networks.actor_distribution_network.ActorDistributionNetwork object at 0x7fa993950588>> could not be transformed and will be executed as-is. Please report this to the AutoGraph team. When filing the bug, set the verbosity to 10 (on Linux, `export AUTOGRAPH_VERBOSITY=10`) and attach the full output. Cause: No module named 'tensorflow_core.contrib'\n",
            "WARNING: Entity <bound method CategoricalProjectionNetwork.call of <tf_agents.networks.categorical_projection_network.CategoricalProjectionNetwork object at 0x7fa9939507f0>> could not be transformed and will be executed as-is. Please report this to the AutoGraph team. When filing the bug, set the verbosity to 10 (on Linux, `export AUTOGRAPH_VERBOSITY=10`) and attach the full output. Cause: No module named 'tensorflow_core.contrib'\n"
          ],
          "name": "stdout"
        },
        {
          "output_type": "stream",
          "text": [
            "W0608 12:34:48.587159 140367954540416 ag_logging.py:145] Entity <bound method ValueNetwork.call of <tf_agents.networks.value_network.ValueNetwork object at 0x7fa9ef711400>> could not be transformed and will be executed as-is. Please report this to the AutoGraph team. When filing the bug, set the verbosity to 10 (on Linux, `export AUTOGRAPH_VERBOSITY=10`) and attach the full output. Cause: No module named 'tensorflow_core.contrib'\n"
          ],
          "name": "stderr"
        },
        {
          "output_type": "stream",
          "text": [
            "WARNING: Entity <bound method ValueNetwork.call of <tf_agents.networks.value_network.ValueNetwork object at 0x7fa9ef711400>> could not be transformed and will be executed as-is. Please report this to the AutoGraph team. When filing the bug, set the verbosity to 10 (on Linux, `export AUTOGRAPH_VERBOSITY=10`) and attach the full output. Cause: No module named 'tensorflow_core.contrib'\n"
          ],
          "name": "stdout"
        },
        {
          "output_type": "stream",
          "text": [
            "W0608 12:34:48.925295 140367954540416 ag_logging.py:145] Entity <bound method ActorDistributionNetwork.call of <tf_agents.networks.actor_distribution_network.ActorDistributionNetwork object at 0x7fa993950588>> could not be transformed and will be executed as-is. Please report this to the AutoGraph team. When filing the bug, set the verbosity to 10 (on Linux, `export AUTOGRAPH_VERBOSITY=10`) and attach the full output. Cause: No module named 'tensorflow_core.contrib'\n",
            "W0608 12:34:48.955892 140367954540416 ag_logging.py:145] Entity <bound method CategoricalProjectionNetwork.call of <tf_agents.networks.categorical_projection_network.CategoricalProjectionNetwork object at 0x7fa9939507f0>> could not be transformed and will be executed as-is. Please report this to the AutoGraph team. When filing the bug, set the verbosity to 10 (on Linux, `export AUTOGRAPH_VERBOSITY=10`) and attach the full output. Cause: No module named 'tensorflow_core.contrib'\n",
            "W0608 12:34:49.002954 140367954540416 ag_logging.py:145] Entity <bound method ValueNetwork.call of <tf_agents.networks.value_network.ValueNetwork object at 0x7fa9ef711400>> could not be transformed and will be executed as-is. Please report this to the AutoGraph team. When filing the bug, set the verbosity to 10 (on Linux, `export AUTOGRAPH_VERBOSITY=10`) and attach the full output. Cause: No module named 'tensorflow_core.contrib'\n"
          ],
          "name": "stderr"
        },
        {
          "output_type": "stream",
          "text": [
            "WARNING: Entity <bound method ActorDistributionNetwork.call of <tf_agents.networks.actor_distribution_network.ActorDistributionNetwork object at 0x7fa993950588>> could not be transformed and will be executed as-is. Please report this to the AutoGraph team. When filing the bug, set the verbosity to 10 (on Linux, `export AUTOGRAPH_VERBOSITY=10`) and attach the full output. Cause: No module named 'tensorflow_core.contrib'\n",
            "WARNING: Entity <bound method CategoricalProjectionNetwork.call of <tf_agents.networks.categorical_projection_network.CategoricalProjectionNetwork object at 0x7fa9939507f0>> could not be transformed and will be executed as-is. Please report this to the AutoGraph team. When filing the bug, set the verbosity to 10 (on Linux, `export AUTOGRAPH_VERBOSITY=10`) and attach the full output. Cause: No module named 'tensorflow_core.contrib'\n",
            "WARNING: Entity <bound method ValueNetwork.call of <tf_agents.networks.value_network.ValueNetwork object at 0x7fa9ef711400>> could not be transformed and will be executed as-is. Please report this to the AutoGraph team. When filing the bug, set the verbosity to 10 (on Linux, `export AUTOGRAPH_VERBOSITY=10`) and attach the full output. Cause: No module named 'tensorflow_core.contrib'\n"
          ],
          "name": "stdout"
        },
        {
          "output_type": "stream",
          "text": [
            "W0608 12:34:49.313430 140367954540416 ag_logging.py:145] Entity <bound method ActorDistributionNetwork.call of <tf_agents.networks.actor_distribution_network.ActorDistributionNetwork object at 0x7fa993950588>> could not be transformed and will be executed as-is. Please report this to the AutoGraph team. When filing the bug, set the verbosity to 10 (on Linux, `export AUTOGRAPH_VERBOSITY=10`) and attach the full output. Cause: No module named 'tensorflow_core.contrib'\n",
            "W0608 12:34:49.348572 140367954540416 ag_logging.py:145] Entity <bound method CategoricalProjectionNetwork.call of <tf_agents.networks.categorical_projection_network.CategoricalProjectionNetwork object at 0x7fa9939507f0>> could not be transformed and will be executed as-is. Please report this to the AutoGraph team. When filing the bug, set the verbosity to 10 (on Linux, `export AUTOGRAPH_VERBOSITY=10`) and attach the full output. Cause: No module named 'tensorflow_core.contrib'\n",
            "W0608 12:34:49.393478 140367954540416 ag_logging.py:145] Entity <bound method ValueNetwork.call of <tf_agents.networks.value_network.ValueNetwork object at 0x7fa9ef711400>> could not be transformed and will be executed as-is. Please report this to the AutoGraph team. When filing the bug, set the verbosity to 10 (on Linux, `export AUTOGRAPH_VERBOSITY=10`) and attach the full output. Cause: No module named 'tensorflow_core.contrib'\n"
          ],
          "name": "stderr"
        },
        {
          "output_type": "stream",
          "text": [
            "WARNING: Entity <bound method ActorDistributionNetwork.call of <tf_agents.networks.actor_distribution_network.ActorDistributionNetwork object at 0x7fa993950588>> could not be transformed and will be executed as-is. Please report this to the AutoGraph team. When filing the bug, set the verbosity to 10 (on Linux, `export AUTOGRAPH_VERBOSITY=10`) and attach the full output. Cause: No module named 'tensorflow_core.contrib'\n",
            "WARNING: Entity <bound method CategoricalProjectionNetwork.call of <tf_agents.networks.categorical_projection_network.CategoricalProjectionNetwork object at 0x7fa9939507f0>> could not be transformed and will be executed as-is. Please report this to the AutoGraph team. When filing the bug, set the verbosity to 10 (on Linux, `export AUTOGRAPH_VERBOSITY=10`) and attach the full output. Cause: No module named 'tensorflow_core.contrib'\n",
            "WARNING: Entity <bound method ValueNetwork.call of <tf_agents.networks.value_network.ValueNetwork object at 0x7fa9ef711400>> could not be transformed and will be executed as-is. Please report this to the AutoGraph team. When filing the bug, set the verbosity to 10 (on Linux, `export AUTOGRAPH_VERBOSITY=10`) and attach the full output. Cause: No module named 'tensorflow_core.contrib'\n"
          ],
          "name": "stdout"
        },
        {
          "output_type": "stream",
          "text": [
            "W0608 12:34:49.704266 140367954540416 ag_logging.py:145] Entity <bound method ActorDistributionNetwork.call of <tf_agents.networks.actor_distribution_network.ActorDistributionNetwork object at 0x7fa993950588>> could not be transformed and will be executed as-is. Please report this to the AutoGraph team. When filing the bug, set the verbosity to 10 (on Linux, `export AUTOGRAPH_VERBOSITY=10`) and attach the full output. Cause: No module named 'tensorflow_core.contrib'\n",
            "W0608 12:34:49.735076 140367954540416 ag_logging.py:145] Entity <bound method CategoricalProjectionNetwork.call of <tf_agents.networks.categorical_projection_network.CategoricalProjectionNetwork object at 0x7fa9939507f0>> could not be transformed and will be executed as-is. Please report this to the AutoGraph team. When filing the bug, set the verbosity to 10 (on Linux, `export AUTOGRAPH_VERBOSITY=10`) and attach the full output. Cause: No module named 'tensorflow_core.contrib'\n",
            "W0608 12:34:49.786844 140367954540416 ag_logging.py:145] Entity <bound method ValueNetwork.call of <tf_agents.networks.value_network.ValueNetwork object at 0x7fa9ef711400>> could not be transformed and will be executed as-is. Please report this to the AutoGraph team. When filing the bug, set the verbosity to 10 (on Linux, `export AUTOGRAPH_VERBOSITY=10`) and attach the full output. Cause: No module named 'tensorflow_core.contrib'\n"
          ],
          "name": "stderr"
        },
        {
          "output_type": "stream",
          "text": [
            "WARNING: Entity <bound method ActorDistributionNetwork.call of <tf_agents.networks.actor_distribution_network.ActorDistributionNetwork object at 0x7fa993950588>> could not be transformed and will be executed as-is. Please report this to the AutoGraph team. When filing the bug, set the verbosity to 10 (on Linux, `export AUTOGRAPH_VERBOSITY=10`) and attach the full output. Cause: No module named 'tensorflow_core.contrib'\n",
            "WARNING: Entity <bound method CategoricalProjectionNetwork.call of <tf_agents.networks.categorical_projection_network.CategoricalProjectionNetwork object at 0x7fa9939507f0>> could not be transformed and will be executed as-is. Please report this to the AutoGraph team. When filing the bug, set the verbosity to 10 (on Linux, `export AUTOGRAPH_VERBOSITY=10`) and attach the full output. Cause: No module named 'tensorflow_core.contrib'\n",
            "WARNING: Entity <bound method ValueNetwork.call of <tf_agents.networks.value_network.ValueNetwork object at 0x7fa9ef711400>> could not be transformed and will be executed as-is. Please report this to the AutoGraph team. When filing the bug, set the verbosity to 10 (on Linux, `export AUTOGRAPH_VERBOSITY=10`) and attach the full output. Cause: No module named 'tensorflow_core.contrib'\n"
          ],
          "name": "stdout"
        },
        {
          "output_type": "stream",
          "text": [
            "W0608 12:34:50.096369 140367954540416 ag_logging.py:145] Entity <bound method ActorDistributionNetwork.call of <tf_agents.networks.actor_distribution_network.ActorDistributionNetwork object at 0x7fa993950588>> could not be transformed and will be executed as-is. Please report this to the AutoGraph team. When filing the bug, set the verbosity to 10 (on Linux, `export AUTOGRAPH_VERBOSITY=10`) and attach the full output. Cause: No module named 'tensorflow_core.contrib'\n",
            "W0608 12:34:50.128032 140367954540416 ag_logging.py:145] Entity <bound method CategoricalProjectionNetwork.call of <tf_agents.networks.categorical_projection_network.CategoricalProjectionNetwork object at 0x7fa9939507f0>> could not be transformed and will be executed as-is. Please report this to the AutoGraph team. When filing the bug, set the verbosity to 10 (on Linux, `export AUTOGRAPH_VERBOSITY=10`) and attach the full output. Cause: No module named 'tensorflow_core.contrib'\n",
            "W0608 12:34:50.174697 140367954540416 ag_logging.py:145] Entity <bound method ValueNetwork.call of <tf_agents.networks.value_network.ValueNetwork object at 0x7fa9ef711400>> could not be transformed and will be executed as-is. Please report this to the AutoGraph team. When filing the bug, set the verbosity to 10 (on Linux, `export AUTOGRAPH_VERBOSITY=10`) and attach the full output. Cause: No module named 'tensorflow_core.contrib'\n"
          ],
          "name": "stderr"
        },
        {
          "output_type": "stream",
          "text": [
            "WARNING: Entity <bound method ActorDistributionNetwork.call of <tf_agents.networks.actor_distribution_network.ActorDistributionNetwork object at 0x7fa993950588>> could not be transformed and will be executed as-is. Please report this to the AutoGraph team. When filing the bug, set the verbosity to 10 (on Linux, `export AUTOGRAPH_VERBOSITY=10`) and attach the full output. Cause: No module named 'tensorflow_core.contrib'\n",
            "WARNING: Entity <bound method CategoricalProjectionNetwork.call of <tf_agents.networks.categorical_projection_network.CategoricalProjectionNetwork object at 0x7fa9939507f0>> could not be transformed and will be executed as-is. Please report this to the AutoGraph team. When filing the bug, set the verbosity to 10 (on Linux, `export AUTOGRAPH_VERBOSITY=10`) and attach the full output. Cause: No module named 'tensorflow_core.contrib'\n",
            "WARNING: Entity <bound method ValueNetwork.call of <tf_agents.networks.value_network.ValueNetwork object at 0x7fa9ef711400>> could not be transformed and will be executed as-is. Please report this to the AutoGraph team. When filing the bug, set the verbosity to 10 (on Linux, `export AUTOGRAPH_VERBOSITY=10`) and attach the full output. Cause: No module named 'tensorflow_core.contrib'\n"
          ],
          "name": "stdout"
        },
        {
          "output_type": "stream",
          "text": [
            "W0608 12:34:50.676553 140367954540416 ag_logging.py:145] Entity <bound method ActorDistributionNetwork.call of <tf_agents.networks.actor_distribution_network.ActorDistributionNetwork object at 0x7fa993950588>> could not be transformed and will be executed as-is. Please report this to the AutoGraph team. When filing the bug, set the verbosity to 10 (on Linux, `export AUTOGRAPH_VERBOSITY=10`) and attach the full output. Cause: No module named 'tensorflow_core.contrib'\n",
            "W0608 12:34:50.707206 140367954540416 ag_logging.py:145] Entity <bound method CategoricalProjectionNetwork.call of <tf_agents.networks.categorical_projection_network.CategoricalProjectionNetwork object at 0x7fa9939507f0>> could not be transformed and will be executed as-is. Please report this to the AutoGraph team. When filing the bug, set the verbosity to 10 (on Linux, `export AUTOGRAPH_VERBOSITY=10`) and attach the full output. Cause: No module named 'tensorflow_core.contrib'\n"
          ],
          "name": "stderr"
        },
        {
          "output_type": "stream",
          "text": [
            "WARNING: Entity <bound method ActorDistributionNetwork.call of <tf_agents.networks.actor_distribution_network.ActorDistributionNetwork object at 0x7fa993950588>> could not be transformed and will be executed as-is. Please report this to the AutoGraph team. When filing the bug, set the verbosity to 10 (on Linux, `export AUTOGRAPH_VERBOSITY=10`) and attach the full output. Cause: No module named 'tensorflow_core.contrib'\n",
            "WARNING: Entity <bound method CategoricalProjectionNetwork.call of <tf_agents.networks.categorical_projection_network.CategoricalProjectionNetwork object at 0x7fa9939507f0>> could not be transformed and will be executed as-is. Please report this to the AutoGraph team. When filing the bug, set the verbosity to 10 (on Linux, `export AUTOGRAPH_VERBOSITY=10`) and attach the full output. Cause: No module named 'tensorflow_core.contrib'\n",
            "iteration/train_step = 19, loss = 124.35781860351562\n"
          ],
          "name": "stdout"
        },
        {
          "output_type": "stream",
          "text": [
            "W0608 12:35:07.421661 140367954540416 ag_logging.py:145] Entity <bound method ValueNetwork.call of <tf_agents.networks.value_network.ValueNetwork object at 0x7fa9ef711400>> could not be transformed and will be executed as-is. Please report this to the AutoGraph team. When filing the bug, set the verbosity to 10 (on Linux, `export AUTOGRAPH_VERBOSITY=10`) and attach the full output. Cause: No module named 'tensorflow_core.contrib'\n",
            "W0608 12:35:07.584186 140367954540416 ag_logging.py:145] Entity <bound method ActorDistributionNetwork.call of <tf_agents.networks.actor_distribution_network.ActorDistributionNetwork object at 0x7fa993950588>> could not be transformed and will be executed as-is. Please report this to the AutoGraph team. When filing the bug, set the verbosity to 10 (on Linux, `export AUTOGRAPH_VERBOSITY=10`) and attach the full output. Cause: No module named 'tensorflow_core.contrib'\n"
          ],
          "name": "stderr"
        },
        {
          "output_type": "stream",
          "text": [
            "WARNING: Entity <bound method ValueNetwork.call of <tf_agents.networks.value_network.ValueNetwork object at 0x7fa9ef711400>> could not be transformed and will be executed as-is. Please report this to the AutoGraph team. When filing the bug, set the verbosity to 10 (on Linux, `export AUTOGRAPH_VERBOSITY=10`) and attach the full output. Cause: No module named 'tensorflow_core.contrib'\n",
            "WARNING: Entity <bound method ActorDistributionNetwork.call of <tf_agents.networks.actor_distribution_network.ActorDistributionNetwork object at 0x7fa993950588>> could not be transformed and will be executed as-is. Please report this to the AutoGraph team. When filing the bug, set the verbosity to 10 (on Linux, `export AUTOGRAPH_VERBOSITY=10`) and attach the full output. Cause: No module named 'tensorflow_core.contrib'\n"
          ],
          "name": "stdout"
        },
        {
          "output_type": "stream",
          "text": [
            "W0608 12:35:07.624685 140367954540416 ag_logging.py:145] Entity <bound method CategoricalProjectionNetwork.call of <tf_agents.networks.categorical_projection_network.CategoricalProjectionNetwork object at 0x7fa9939507f0>> could not be transformed and will be executed as-is. Please report this to the AutoGraph team. When filing the bug, set the verbosity to 10 (on Linux, `export AUTOGRAPH_VERBOSITY=10`) and attach the full output. Cause: No module named 'tensorflow_core.contrib'\n",
            "W0608 12:35:07.677910 140367954540416 ag_logging.py:145] Entity <bound method ValueNetwork.call of <tf_agents.networks.value_network.ValueNetwork object at 0x7fa9ef711400>> could not be transformed and will be executed as-is. Please report this to the AutoGraph team. When filing the bug, set the verbosity to 10 (on Linux, `export AUTOGRAPH_VERBOSITY=10`) and attach the full output. Cause: No module named 'tensorflow_core.contrib'\n"
          ],
          "name": "stderr"
        },
        {
          "output_type": "stream",
          "text": [
            "WARNING: Entity <bound method CategoricalProjectionNetwork.call of <tf_agents.networks.categorical_projection_network.CategoricalProjectionNetwork object at 0x7fa9939507f0>> could not be transformed and will be executed as-is. Please report this to the AutoGraph team. When filing the bug, set the verbosity to 10 (on Linux, `export AUTOGRAPH_VERBOSITY=10`) and attach the full output. Cause: No module named 'tensorflow_core.contrib'\n",
            "WARNING: Entity <bound method ValueNetwork.call of <tf_agents.networks.value_network.ValueNetwork object at 0x7fa9ef711400>> could not be transformed and will be executed as-is. Please report this to the AutoGraph team. When filing the bug, set the verbosity to 10 (on Linux, `export AUTOGRAPH_VERBOSITY=10`) and attach the full output. Cause: No module named 'tensorflow_core.contrib'\n"
          ],
          "name": "stdout"
        },
        {
          "output_type": "stream",
          "text": [
            "W0608 12:35:08.109180 140367954540416 ag_logging.py:145] Entity <bound method ActorDistributionNetwork.call of <tf_agents.networks.actor_distribution_network.ActorDistributionNetwork object at 0x7fa993950588>> could not be transformed and will be executed as-is. Please report this to the AutoGraph team. When filing the bug, set the verbosity to 10 (on Linux, `export AUTOGRAPH_VERBOSITY=10`) and attach the full output. Cause: No module named 'tensorflow_core.contrib'\n",
            "W0608 12:35:08.146019 140367954540416 ag_logging.py:145] Entity <bound method CategoricalProjectionNetwork.call of <tf_agents.networks.categorical_projection_network.CategoricalProjectionNetwork object at 0x7fa9939507f0>> could not be transformed and will be executed as-is. Please report this to the AutoGraph team. When filing the bug, set the verbosity to 10 (on Linux, `export AUTOGRAPH_VERBOSITY=10`) and attach the full output. Cause: No module named 'tensorflow_core.contrib'\n",
            "W0608 12:35:08.192118 140367954540416 ag_logging.py:145] Entity <bound method ValueNetwork.call of <tf_agents.networks.value_network.ValueNetwork object at 0x7fa9ef711400>> could not be transformed and will be executed as-is. Please report this to the AutoGraph team. When filing the bug, set the verbosity to 10 (on Linux, `export AUTOGRAPH_VERBOSITY=10`) and attach the full output. Cause: No module named 'tensorflow_core.contrib'\n"
          ],
          "name": "stderr"
        },
        {
          "output_type": "stream",
          "text": [
            "WARNING: Entity <bound method ActorDistributionNetwork.call of <tf_agents.networks.actor_distribution_network.ActorDistributionNetwork object at 0x7fa993950588>> could not be transformed and will be executed as-is. Please report this to the AutoGraph team. When filing the bug, set the verbosity to 10 (on Linux, `export AUTOGRAPH_VERBOSITY=10`) and attach the full output. Cause: No module named 'tensorflow_core.contrib'\n",
            "WARNING: Entity <bound method CategoricalProjectionNetwork.call of <tf_agents.networks.categorical_projection_network.CategoricalProjectionNetwork object at 0x7fa9939507f0>> could not be transformed and will be executed as-is. Please report this to the AutoGraph team. When filing the bug, set the verbosity to 10 (on Linux, `export AUTOGRAPH_VERBOSITY=10`) and attach the full output. Cause: No module named 'tensorflow_core.contrib'\n",
            "WARNING: Entity <bound method ValueNetwork.call of <tf_agents.networks.value_network.ValueNetwork object at 0x7fa9ef711400>> could not be transformed and will be executed as-is. Please report this to the AutoGraph team. When filing the bug, set the verbosity to 10 (on Linux, `export AUTOGRAPH_VERBOSITY=10`) and attach the full output. Cause: No module named 'tensorflow_core.contrib'\n"
          ],
          "name": "stdout"
        },
        {
          "output_type": "stream",
          "text": [
            "W0608 12:35:08.615692 140367954540416 ag_logging.py:145] Entity <bound method ActorDistributionNetwork.call of <tf_agents.networks.actor_distribution_network.ActorDistributionNetwork object at 0x7fa993950588>> could not be transformed and will be executed as-is. Please report this to the AutoGraph team. When filing the bug, set the verbosity to 10 (on Linux, `export AUTOGRAPH_VERBOSITY=10`) and attach the full output. Cause: No module named 'tensorflow_core.contrib'\n",
            "W0608 12:35:08.650964 140367954540416 ag_logging.py:145] Entity <bound method CategoricalProjectionNetwork.call of <tf_agents.networks.categorical_projection_network.CategoricalProjectionNetwork object at 0x7fa9939507f0>> could not be transformed and will be executed as-is. Please report this to the AutoGraph team. When filing the bug, set the verbosity to 10 (on Linux, `export AUTOGRAPH_VERBOSITY=10`) and attach the full output. Cause: No module named 'tensorflow_core.contrib'\n",
            "W0608 12:35:08.698012 140367954540416 ag_logging.py:145] Entity <bound method ValueNetwork.call of <tf_agents.networks.value_network.ValueNetwork object at 0x7fa9ef711400>> could not be transformed and will be executed as-is. Please report this to the AutoGraph team. When filing the bug, set the verbosity to 10 (on Linux, `export AUTOGRAPH_VERBOSITY=10`) and attach the full output. Cause: No module named 'tensorflow_core.contrib'\n"
          ],
          "name": "stderr"
        },
        {
          "output_type": "stream",
          "text": [
            "WARNING: Entity <bound method ActorDistributionNetwork.call of <tf_agents.networks.actor_distribution_network.ActorDistributionNetwork object at 0x7fa993950588>> could not be transformed and will be executed as-is. Please report this to the AutoGraph team. When filing the bug, set the verbosity to 10 (on Linux, `export AUTOGRAPH_VERBOSITY=10`) and attach the full output. Cause: No module named 'tensorflow_core.contrib'\n",
            "WARNING: Entity <bound method CategoricalProjectionNetwork.call of <tf_agents.networks.categorical_projection_network.CategoricalProjectionNetwork object at 0x7fa9939507f0>> could not be transformed and will be executed as-is. Please report this to the AutoGraph team. When filing the bug, set the verbosity to 10 (on Linux, `export AUTOGRAPH_VERBOSITY=10`) and attach the full output. Cause: No module named 'tensorflow_core.contrib'\n",
            "WARNING: Entity <bound method ValueNetwork.call of <tf_agents.networks.value_network.ValueNetwork object at 0x7fa9ef711400>> could not be transformed and will be executed as-is. Please report this to the AutoGraph team. When filing the bug, set the verbosity to 10 (on Linux, `export AUTOGRAPH_VERBOSITY=10`) and attach the full output. Cause: No module named 'tensorflow_core.contrib'\n"
          ],
          "name": "stdout"
        },
        {
          "output_type": "stream",
          "text": [
            "W0608 12:35:09.105142 140367954540416 ag_logging.py:145] Entity <bound method ActorDistributionNetwork.call of <tf_agents.networks.actor_distribution_network.ActorDistributionNetwork object at 0x7fa993950588>> could not be transformed and will be executed as-is. Please report this to the AutoGraph team. When filing the bug, set the verbosity to 10 (on Linux, `export AUTOGRAPH_VERBOSITY=10`) and attach the full output. Cause: No module named 'tensorflow_core.contrib'\n",
            "W0608 12:35:09.141591 140367954540416 ag_logging.py:145] Entity <bound method CategoricalProjectionNetwork.call of <tf_agents.networks.categorical_projection_network.CategoricalProjectionNetwork object at 0x7fa9939507f0>> could not be transformed and will be executed as-is. Please report this to the AutoGraph team. When filing the bug, set the verbosity to 10 (on Linux, `export AUTOGRAPH_VERBOSITY=10`) and attach the full output. Cause: No module named 'tensorflow_core.contrib'\n",
            "W0608 12:35:09.189610 140367954540416 ag_logging.py:145] Entity <bound method ValueNetwork.call of <tf_agents.networks.value_network.ValueNetwork object at 0x7fa9ef711400>> could not be transformed and will be executed as-is. Please report this to the AutoGraph team. When filing the bug, set the verbosity to 10 (on Linux, `export AUTOGRAPH_VERBOSITY=10`) and attach the full output. Cause: No module named 'tensorflow_core.contrib'\n"
          ],
          "name": "stderr"
        },
        {
          "output_type": "stream",
          "text": [
            "WARNING: Entity <bound method ActorDistributionNetwork.call of <tf_agents.networks.actor_distribution_network.ActorDistributionNetwork object at 0x7fa993950588>> could not be transformed and will be executed as-is. Please report this to the AutoGraph team. When filing the bug, set the verbosity to 10 (on Linux, `export AUTOGRAPH_VERBOSITY=10`) and attach the full output. Cause: No module named 'tensorflow_core.contrib'\n",
            "WARNING: Entity <bound method CategoricalProjectionNetwork.call of <tf_agents.networks.categorical_projection_network.CategoricalProjectionNetwork object at 0x7fa9939507f0>> could not be transformed and will be executed as-is. Please report this to the AutoGraph team. When filing the bug, set the verbosity to 10 (on Linux, `export AUTOGRAPH_VERBOSITY=10`) and attach the full output. Cause: No module named 'tensorflow_core.contrib'\n",
            "WARNING: Entity <bound method ValueNetwork.call of <tf_agents.networks.value_network.ValueNetwork object at 0x7fa9ef711400>> could not be transformed and will be executed as-is. Please report this to the AutoGraph team. When filing the bug, set the verbosity to 10 (on Linux, `export AUTOGRAPH_VERBOSITY=10`) and attach the full output. Cause: No module named 'tensorflow_core.contrib'\n"
          ],
          "name": "stdout"
        },
        {
          "output_type": "stream",
          "text": [
            "W0608 12:35:09.843436 140367954540416 ag_logging.py:145] Entity <bound method ActorDistributionNetwork.call of <tf_agents.networks.actor_distribution_network.ActorDistributionNetwork object at 0x7fa993950588>> could not be transformed and will be executed as-is. Please report this to the AutoGraph team. When filing the bug, set the verbosity to 10 (on Linux, `export AUTOGRAPH_VERBOSITY=10`) and attach the full output. Cause: No module named 'tensorflow_core.contrib'\n",
            "W0608 12:35:09.880697 140367954540416 ag_logging.py:145] Entity <bound method CategoricalProjectionNetwork.call of <tf_agents.networks.categorical_projection_network.CategoricalProjectionNetwork object at 0x7fa9939507f0>> could not be transformed and will be executed as-is. Please report this to the AutoGraph team. When filing the bug, set the verbosity to 10 (on Linux, `export AUTOGRAPH_VERBOSITY=10`) and attach the full output. Cause: No module named 'tensorflow_core.contrib'\n",
            "W0608 12:35:09.927064 140367954540416 ag_logging.py:145] Entity <bound method ValueNetwork.call of <tf_agents.networks.value_network.ValueNetwork object at 0x7fa9ef711400>> could not be transformed and will be executed as-is. Please report this to the AutoGraph team. When filing the bug, set the verbosity to 10 (on Linux, `export AUTOGRAPH_VERBOSITY=10`) and attach the full output. Cause: No module named 'tensorflow_core.contrib'\n"
          ],
          "name": "stderr"
        },
        {
          "output_type": "stream",
          "text": [
            "WARNING: Entity <bound method ActorDistributionNetwork.call of <tf_agents.networks.actor_distribution_network.ActorDistributionNetwork object at 0x7fa993950588>> could not be transformed and will be executed as-is. Please report this to the AutoGraph team. When filing the bug, set the verbosity to 10 (on Linux, `export AUTOGRAPH_VERBOSITY=10`) and attach the full output. Cause: No module named 'tensorflow_core.contrib'\n",
            "WARNING: Entity <bound method CategoricalProjectionNetwork.call of <tf_agents.networks.categorical_projection_network.CategoricalProjectionNetwork object at 0x7fa9939507f0>> could not be transformed and will be executed as-is. Please report this to the AutoGraph team. When filing the bug, set the verbosity to 10 (on Linux, `export AUTOGRAPH_VERBOSITY=10`) and attach the full output. Cause: No module named 'tensorflow_core.contrib'\n",
            "WARNING: Entity <bound method ValueNetwork.call of <tf_agents.networks.value_network.ValueNetwork object at 0x7fa9ef711400>> could not be transformed and will be executed as-is. Please report this to the AutoGraph team. When filing the bug, set the verbosity to 10 (on Linux, `export AUTOGRAPH_VERBOSITY=10`) and attach the full output. Cause: No module named 'tensorflow_core.contrib'\n"
          ],
          "name": "stdout"
        },
        {
          "output_type": "stream",
          "text": [
            "W0608 12:35:10.339768 140367954540416 ag_logging.py:145] Entity <bound method ActorDistributionNetwork.call of <tf_agents.networks.actor_distribution_network.ActorDistributionNetwork object at 0x7fa993950588>> could not be transformed and will be executed as-is. Please report this to the AutoGraph team. When filing the bug, set the verbosity to 10 (on Linux, `export AUTOGRAPH_VERBOSITY=10`) and attach the full output. Cause: No module named 'tensorflow_core.contrib'\n",
            "W0608 12:35:10.378710 140367954540416 ag_logging.py:145] Entity <bound method CategoricalProjectionNetwork.call of <tf_agents.networks.categorical_projection_network.CategoricalProjectionNetwork object at 0x7fa9939507f0>> could not be transformed and will be executed as-is. Please report this to the AutoGraph team. When filing the bug, set the verbosity to 10 (on Linux, `export AUTOGRAPH_VERBOSITY=10`) and attach the full output. Cause: No module named 'tensorflow_core.contrib'\n"
          ],
          "name": "stderr"
        },
        {
          "output_type": "stream",
          "text": [
            "WARNING: Entity <bound method ActorDistributionNetwork.call of <tf_agents.networks.actor_distribution_network.ActorDistributionNetwork object at 0x7fa993950588>> could not be transformed and will be executed as-is. Please report this to the AutoGraph team. When filing the bug, set the verbosity to 10 (on Linux, `export AUTOGRAPH_VERBOSITY=10`) and attach the full output. Cause: No module named 'tensorflow_core.contrib'\n",
            "WARNING: Entity <bound method CategoricalProjectionNetwork.call of <tf_agents.networks.categorical_projection_network.CategoricalProjectionNetwork object at 0x7fa9939507f0>> could not be transformed and will be executed as-is. Please report this to the AutoGraph team. When filing the bug, set the verbosity to 10 (on Linux, `export AUTOGRAPH_VERBOSITY=10`) and attach the full output. Cause: No module named 'tensorflow_core.contrib'\n",
            "iteration/train_step = 20, loss = 117.87751770019531\n",
            "iteration/train_step = 20, Average Return = -1.727499008178711\n",
            "iteration/train_step = 21, loss = 101.84487915039062\n",
            "iteration/train_step = 22, loss = 86.5594253540039\n",
            "iteration/train_step = 23, loss = 88.99153900146484\n",
            "iteration/train_step = 24, loss = 78.10750579833984\n",
            "iteration/train_step = 25, loss = 73.3403549194336\n",
            "iteration/train_step = 26, loss = 72.13238525390625\n",
            "iteration/train_step = 27, loss = 65.32530975341797\n",
            "iteration/train_step = 28, loss = 72.18787384033203\n",
            "iteration/train_step = 29, loss = 66.91616821289062\n",
            "iteration/train_step = 30, loss = 60.66153335571289\n",
            "iteration/train_step = 30, Average Return = -1.5991655588150024\n",
            "iteration/train_step = 31, loss = 63.99037170410156\n",
            "iteration/train_step = 32, loss = 72.52469635009766\n",
            "iteration/train_step = 33, loss = 58.289615631103516\n",
            "iteration/train_step = 34, loss = 48.8765869140625\n",
            "iteration/train_step = 35, loss = 44.52915573120117\n",
            "iteration/train_step = 36, loss = 51.242088317871094\n",
            "iteration/train_step = 37, loss = 48.312198638916016\n",
            "iteration/train_step = 38, loss = 48.1110954284668\n",
            "iteration/train_step = 39, loss = 44.39202880859375\n",
            "iteration/train_step = 40, loss = 43.88469314575195\n",
            "iteration/train_step = 40, Average Return = -0.3566661477088928\n",
            "iteration/train_step = 41, loss = 49.18430709838867\n",
            "iteration/train_step = 42, loss = 43.631813049316406\n",
            "iteration/train_step = 43, loss = 39.29374694824219\n",
            "iteration/train_step = 44, loss = 42.81330108642578\n",
            "iteration/train_step = 45, loss = 38.74152374267578\n",
            "iteration/train_step = 46, loss = 40.39944839477539\n",
            "iteration/train_step = 47, loss = 40.59941482543945\n",
            "iteration/train_step = 48, loss = 36.46749496459961\n",
            "iteration/train_step = 49, loss = 45.87690353393555\n",
            "iteration/train_step = 50, loss = 33.65718460083008\n",
            "iteration/train_step = 50, Average Return = -0.13583290576934814\n",
            "iteration/train_step = 51, loss = 39.789306640625\n",
            "iteration/train_step = 52, loss = 39.169654846191406\n",
            "iteration/train_step = 53, loss = 38.30754852294922\n",
            "iteration/train_step = 54, loss = 36.35627746582031\n",
            "iteration/train_step = 55, loss = 35.63383102416992\n",
            "iteration/train_step = 56, loss = 32.03945541381836\n",
            "iteration/train_step = 57, loss = 32.803367614746094\n",
            "iteration/train_step = 58, loss = 37.43075942993164\n",
            "iteration/train_step = 59, loss = 30.57486915588379\n",
            "iteration/train_step = 60, loss = 35.419429779052734\n",
            "iteration/train_step = 60, Average Return = -1.2533323764801025\n",
            "iteration/train_step = 61, loss = 29.911657333374023\n",
            "iteration/train_step = 62, loss = 32.89559555053711\n",
            "iteration/train_step = 63, loss = 28.818246841430664\n",
            "iteration/train_step = 64, loss = 26.006040573120117\n",
            "iteration/train_step = 65, loss = 28.389469146728516\n",
            "iteration/train_step = 66, loss = 26.42622947692871\n",
            "iteration/train_step = 67, loss = 23.794828414916992\n",
            "iteration/train_step = 68, loss = 23.611841201782227\n",
            "iteration/train_step = 69, loss = 20.84539222717285\n",
            "iteration/train_step = 70, loss = 23.774009704589844\n",
            "iteration/train_step = 70, Average Return = -1.0574991703033447\n",
            "iteration/train_step = 71, loss = 21.201322555541992\n",
            "iteration/train_step = 72, loss = 19.6068172454834\n",
            "iteration/train_step = 73, loss = 27.405380249023438\n",
            "iteration/train_step = 74, loss = 22.40314292907715\n",
            "iteration/train_step = 75, loss = 16.80304718017578\n",
            "iteration/train_step = 76, loss = 23.487659454345703\n",
            "iteration/train_step = 77, loss = 16.91737937927246\n",
            "iteration/train_step = 78, loss = 19.920703887939453\n",
            "iteration/train_step = 79, loss = 14.28731918334961\n",
            "iteration/train_step = 80, loss = 13.357832908630371\n",
            "iteration/train_step = 80, Average Return = -0.3541661500930786\n",
            "iteration/train_step = 81, loss = 12.065630912780762\n",
            "iteration/train_step = 82, loss = 14.67192268371582\n",
            "iteration/train_step = 83, loss = 9.988375663757324\n",
            "iteration/train_step = 84, loss = 7.767794132232666\n",
            "iteration/train_step = 85, loss = 8.714452743530273\n",
            "iteration/train_step = 86, loss = 6.753851413726807\n",
            "iteration/train_step = 87, loss = 8.207478523254395\n",
            "iteration/train_step = 88, loss = 8.977291107177734\n",
            "iteration/train_step = 89, loss = 13.780385971069336\n",
            "iteration/train_step = 90, loss = 5.753668785095215\n",
            "iteration/train_step = 90, Average Return = -0.7125015258789062\n",
            "iteration/train_step = 91, loss = 8.567953109741211\n",
            "iteration/train_step = 92, loss = 8.863997459411621\n",
            "iteration/train_step = 93, loss = 13.564850807189941\n",
            "iteration/train_step = 94, loss = 6.344222068786621\n",
            "iteration/train_step = 95, loss = 11.60545825958252\n",
            "iteration/train_step = 96, loss = 8.223652839660645\n",
            "iteration/train_step = 97, loss = 7.565685749053955\n",
            "iteration/train_step = 98, loss = 5.32834529876709\n",
            "iteration/train_step = 99, loss = 3.9994983673095703\n",
            "CPU times: user 33min 32s, sys: 3min 14s, total: 36min 47s\n",
            "Wall time: 24min 48s\n"
          ],
          "name": "stdout"
        }
      ]
    },
    {
      "cell_type": "markdown",
      "metadata": {
        "id": "vMDJZNG3akLF",
        "colab_type": "text"
      },
      "source": [
        "## Visualize"
      ]
    },
    {
      "cell_type": "code",
      "metadata": {
        "id": "mTI4jEGaVTbW",
        "colab_type": "code",
        "outputId": "9a25ab8d-8cb3-413d-dbeb-e3004a15603f",
        "colab": {
          "base_uri": "https://localhost:8080/",
          "height": 300
        }
      },
      "source": [
        "#@test {\"skip\": true}\n",
        "import matplotlib\n",
        "import matplotlib.pyplot as plt\n",
        "\n",
        "\n",
        "steps = range(0, len(returns)*eval_interval, eval_interval)\n",
        "plt.plot(steps, returns)\n",
        "plt.ylabel('Average Return')\n",
        "plt.xlabel('Step')\n",
        "plt.ylim(top=1,bottom=-25)"
      ],
      "execution_count": 17,
      "outputs": [
        {
          "output_type": "execute_result",
          "data": {
            "text/plain": [
              "(-25, 1)"
            ]
          },
          "metadata": {
            "tags": []
          },
          "execution_count": 17
        },
        {
          "output_type": "display_data",
          "data": {
            "image/png": "[encoded data removed]",
            "text/plain": [
              "<Figure size 432x288 with 1 Axes>"
            ]
          },
          "metadata": {
            "tags": []
          }
        }
      ]
    },
    {
      "cell_type": "code",
      "metadata": {
        "id": "FD3Ifrev_LV_",
        "colab_type": "code",
        "colab": {}
      },
      "source": [
        ""
      ],
      "execution_count": 0,
      "outputs": []
    }
  ]
}