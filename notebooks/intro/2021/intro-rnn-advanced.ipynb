{
  "nbformat": 4,
  "nbformat_minor": 0,
  "metadata": {
    "colab": {
      "name": "intro-rnn-advanced.ipynb",
      "provenance": [],
      "collapsed_sections": [],
      "include_colab_link": true
    },
    "kernelspec": {
      "name": "python3",
      "display_name": "Python 3"
    }
  },
  "cells": [
    {
      "cell_type": "markdown",
      "metadata": {
        "id": "view-in-github",
        "colab_type": "text"
      },
      "source": [
        "<a href=\"https://colab.research.google.com/github/DJCordhose/ml-workshop/blob/master/notebooks/intro/2021/intro-rnn-advanced.ipynb\" target=\"_parent\"><img src=\"https://colab.research.google.com/assets/colab-badge.svg\" alt=\"Open In Colab\"/></a>"
      ]
    },
    {
      "cell_type": "markdown",
      "metadata": {
        "id": "t0SNZ3gZDa36",
        "colab_type": "text"
      },
      "source": [
        "# Advanced Sequences\n",
        "\n",
        "Example, some code and a lot of inspiration taken from: https://machinelearningmastery.com/how-to-develop-lstm-models-for-time-series-forecasting/\n"
      ]
    },
    {
      "cell_type": "code",
      "metadata": {
        "id": "PBz160FB5AsT",
        "colab_type": "code",
        "colab": {}
      },
      "source": [
        "import matplotlib.pyplot as plt\n",
        "%matplotlib inline"
      ],
      "execution_count": 0,
      "outputs": []
    },
    {
      "cell_type": "code",
      "metadata": {
        "id": "mVDG_jby5BCS",
        "colab_type": "code",
        "colab": {}
      },
      "source": [
        "import matplotlib as mpl\n",
        "mpl.rcParams['figure.figsize'] = (20, 8)"
      ],
      "execution_count": 0,
      "outputs": []
    },
    {
      "cell_type": "code",
      "metadata": {
        "id": "NLf1M-3w7G7W",
        "colab_type": "code",
        "colab": {}
      },
      "source": [
        "try:\n",
        "  # %tensorflow_version only exists in Colab.\n",
        "  %tensorflow_version 2.x\n",
        "except Exception:\n",
        "  pass"
      ],
      "execution_count": 0,
      "outputs": []
    },
    {
      "cell_type": "code",
      "metadata": {
        "id": "3wt0_gCS7HkM",
        "colab_type": "code",
        "outputId": "0e2e944a-cd2b-4906-a581-a3dbc3c598a2",
        "colab": {
          "base_uri": "https://localhost:8080/",
          "height": 34
        }
      },
      "source": [
        "import tensorflow as tf\n",
        "print(tf.__version__)"
      ],
      "execution_count": 4,
      "outputs": [
        {
          "output_type": "stream",
          "text": [
            "2.2.0-rc3\n"
          ],
          "name": "stdout"
        }
      ]
    },
    {
      "cell_type": "code",
      "metadata": {
        "id": "YD8l0gArC66I",
        "colab_type": "code",
        "colab": {}
      },
      "source": [
        "# univariate data preparation\n",
        "import numpy as np\n",
        "\n",
        "# split a univariate sequence into samples\n",
        "def split_sequence(sequence, n_steps):\n",
        "\tX, y = list(), list()\n",
        "\tfor i in range(len(sequence)):\n",
        "\t\t# find the end of this pattern\n",
        "\t\tend_ix = i + n_steps\n",
        "\t\t# check if we are beyond the sequence\n",
        "\t\tif end_ix > len(sequence)-1:\n",
        "\t\t\tbreak\n",
        "\t\t# gather input and output parts of the pattern\n",
        "\t\tseq_x, seq_y = sequence[i:end_ix], sequence[end_ix]\n",
        "\t\tX.append(seq_x)\n",
        "\t\ty.append(seq_y)\n",
        "\treturn np.array(X), np.array(y)"
      ],
      "execution_count": 0,
      "outputs": []
    },
    {
      "cell_type": "code",
      "metadata": {
        "id": "gZJ8hnj0C7bQ",
        "colab_type": "code",
        "outputId": "3312b816-6814-4b5e-af0d-c3b6a3a268cd",
        "colab": {
          "base_uri": "https://localhost:8080/",
          "height": 119
        }
      },
      "source": [
        "# define input sequence\n",
        "raw_seq = [10, 20, 30, 40, 50, 60, 70, 80, 90]\n",
        "\n",
        "# choose a number of time steps\n",
        "n_steps = 3\n",
        "\n",
        "# split into samples\n",
        "X, y = split_sequence(raw_seq, n_steps)\n",
        "\n",
        "# summarize the data\n",
        "list(zip(X, y))"
      ],
      "execution_count": 6,
      "outputs": [
        {
          "output_type": "execute_result",
          "data": {
            "text/plain": [
              "[(array([10, 20, 30]), 40),\n",
              " (array([20, 30, 40]), 50),\n",
              " (array([30, 40, 50]), 60),\n",
              " (array([40, 50, 60]), 70),\n",
              " (array([50, 60, 70]), 80),\n",
              " (array([60, 70, 80]), 90)]"
            ]
          },
          "metadata": {
            "tags": []
          },
          "execution_count": 6
        }
      ]
    },
    {
      "cell_type": "code",
      "metadata": {
        "id": "6P1Agd-XDA-P",
        "colab_type": "code",
        "colab": {}
      },
      "source": [
        "n_features = 1\n",
        "X = X.reshape((X.shape[0], X.shape[1], n_features))"
      ],
      "execution_count": 0,
      "outputs": []
    },
    {
      "cell_type": "code",
      "metadata": {
        "id": "5NADe6G-JJHY",
        "colab_type": "code",
        "colab": {}
      },
      "source": [
        "def predict(model, samples, n_features=1):\n",
        "  input = np.array(samples).astype(np.float32)\n",
        "  input = input.reshape((input.shape[0], input.shape[1], n_features))\n",
        "  y_pred = model.predict(input)\n",
        "  return y_pred"
      ],
      "execution_count": 0,
      "outputs": []
    },
    {
      "cell_type": "markdown",
      "metadata": {
        "colab_type": "text",
        "id": "NQYi_XNJERzO"
      },
      "source": [
        "### Multi Layer RNNs"
      ]
    },
    {
      "cell_type": "code",
      "metadata": {
        "id": "Fyy6tY6iS9aG",
        "colab_type": "code",
        "outputId": "77d8e54e-5b95-41d0-d43e-01cb5bc20802",
        "colab": {
          "base_uri": "https://localhost:8080/",
          "height": 68
        }
      },
      "source": [
        "# one output for each input timestep\n",
        "# ideal for feeding into something that *expects* timesteps\n",
        "rnn_units = 1\n",
        "\n",
        "from tensorflow.keras.layers import Dense, LSTM, GRU, SimpleRNN, Bidirectional\n",
        "from tensorflow.keras.models import Sequential, Model\n",
        "\n",
        "model = Sequential([\n",
        "    SimpleRNN(units=rnn_units, activation='relu', return_sequences=True)\n",
        "    # SimpleRNN(units=rnn_units, activation='relu')\n",
        "])\n",
        "\n",
        "# https://keras.io/layers/recurrent/\n",
        "# input: (samples, timesteps, input_dim)\n",
        "# output with return_sequences: (samples, timesteps, units)\n",
        "\n",
        "predict(model, [[10, 20, 30]])"
      ],
      "execution_count": 9,
      "outputs": [
        {
          "output_type": "execute_result",
          "data": {
            "text/plain": [
              "array([[[0.],\n",
              "        [0.],\n",
              "        [0.]]], dtype=float32)"
            ]
          },
          "metadata": {
            "tags": []
          },
          "execution_count": 9
        }
      ]
    },
    {
      "cell_type": "markdown",
      "metadata": {
        "id": "uRzYs3JBJZIW",
        "colab_type": "text"
      },
      "source": [
        "# Exercise: Understand RNNs\n",
        "\n",
        "* Supply more input values\n",
        "* Change the network to only output the final value\n",
        "\n",
        "How does the output change?\n"
      ]
    },
    {
      "cell_type": "code",
      "metadata": {
        "id": "2F2BARiZVKcZ",
        "colab_type": "code",
        "outputId": "6f69749f-ff1c-418e-80b4-50d6fca1d828",
        "colab": {
          "base_uri": "https://localhost:8080/",
          "height": 255
        }
      },
      "source": [
        "rnn_units = 50\n",
        "\n",
        "model = Sequential([\n",
        "    SimpleRNN(units=rnn_units, activation='relu', input_shape=(n_steps, n_features), return_sequences=True, name=\"RNN_Input\"),\n",
        "    SimpleRNN(units=rnn_units, activation='relu', name=\"RNN_Latent\"),\n",
        "    Dense(units=1, name=\"Linear_Output\")\n",
        "])\n",
        "model.compile(optimizer='adam', loss='mse')\n",
        "model.summary()"
      ],
      "execution_count": 10,
      "outputs": [
        {
          "output_type": "stream",
          "text": [
            "Model: \"sequential_1\"\n",
            "_________________________________________________________________\n",
            "Layer (type)                 Output Shape              Param #   \n",
            "=================================================================\n",
            "RNN_Input (SimpleRNN)        (None, 3, 50)             2600      \n",
            "_________________________________________________________________\n",
            "RNN_Latent (SimpleRNN)       (None, 50)                5050      \n",
            "_________________________________________________________________\n",
            "Linear_Output (Dense)        (None, 1)                 51        \n",
            "=================================================================\n",
            "Total params: 7,701\n",
            "Trainable params: 7,701\n",
            "Non-trainable params: 0\n",
            "_________________________________________________________________\n"
          ],
          "name": "stdout"
        }
      ]
    },
    {
      "cell_type": "code",
      "metadata": {
        "id": "CeeF8jd2nerI",
        "colab_type": "code",
        "outputId": "8f8be63b-795d-4fc6-f42d-c3861c8df87a",
        "colab": {
          "base_uri": "https://localhost:8080/",
          "height": 531
        }
      },
      "source": [
        "%time history = model.fit(X, y, epochs=2000, verbose=0)\n",
        "\n",
        "import matplotlib.pyplot as plt\n",
        "\n",
        "plt.yscale('log')\n",
        "plt.ylabel(\"loss\")\n",
        "plt.xlabel(\"epochs\")\n",
        "\n",
        "plt.plot(history.history['loss']);"
      ],
      "execution_count": 11,
      "outputs": [
        {
          "output_type": "stream",
          "text": [
            "CPU times: user 8.4 s, sys: 537 ms, total: 8.94 s\n",
            "Wall time: 6.27 s\n"
          ],
          "name": "stdout"
        },
        {
          "output_type": "display_data",
          "data": {
            "image/png": "[encoded data removed]",
            "text/plain": [
              "<Figure size 1440x576 with 1 Axes>"
            ]
          },
          "metadata": {
            "tags": [],
            "needs_background": "light"
          }
        }
      ]
    },
    {
      "cell_type": "code",
      "metadata": {
        "id": "VB2ZXbCRntl4",
        "colab_type": "code",
        "outputId": "ed7620ba-24e5-42c4-8cc3-2f256ce62fba",
        "colab": {
          "base_uri": "https://localhost:8080/",
          "height": 102
        }
      },
      "source": [
        "predict(model, [[10, 20, 30], [70, 80, 90], [100, 110, 120], [200, 210, 220], [200, 300, 400]])"
      ],
      "execution_count": 12,
      "outputs": [
        {
          "output_type": "execute_result",
          "data": {
            "text/plain": [
              "array([[ 39.999462],\n",
              "       [100.511826],\n",
              "       [133.21211 ],\n",
              "       [243.21635 ],\n",
              "       [487.15735 ]], dtype=float32)"
            ]
          },
          "metadata": {
            "tags": []
          },
          "execution_count": 12
        }
      ]
    },
    {
      "cell_type": "markdown",
      "metadata": {
        "id": "xJwXPkE5vEIZ",
        "colab_type": "text"
      },
      "source": [
        "### LSMTs / GRUs\n",
        "\n",
        "* mainly beneficial for long sequences\n",
        "* but also 3-4 times more expensive\n",
        "* might not have better results for short sequences like these"
      ]
    },
    {
      "cell_type": "markdown",
      "metadata": {
        "id": "ytumjpQlKx5P",
        "colab_type": "text"
      },
      "source": [
        "### LSTM"
      ]
    },
    {
      "cell_type": "code",
      "metadata": {
        "id": "xISS3v8Zu-C-",
        "colab_type": "code",
        "outputId": "2ee0996e-d2f1-4401-9fc3-7efa6d606f84",
        "colab": {
          "base_uri": "https://localhost:8080/",
          "height": 221
        }
      },
      "source": [
        "rnn_units = 50\n",
        "\n",
        "model = Sequential([\n",
        "    LSTM(units=rnn_units, activation='relu', input_shape=(n_steps, n_features), name=\"RNN_Input\"),\n",
        "    Dense(units=1, name=\"Linear_Output\")\n",
        "])\n",
        "model.compile(optimizer='adam', loss='mse')\n",
        "model.summary()"
      ],
      "execution_count": 13,
      "outputs": [
        {
          "output_type": "stream",
          "text": [
            "Model: \"sequential_2\"\n",
            "_________________________________________________________________\n",
            "Layer (type)                 Output Shape              Param #   \n",
            "=================================================================\n",
            "RNN_Input (LSTM)             (None, 50)                10400     \n",
            "_________________________________________________________________\n",
            "Linear_Output (Dense)        (None, 1)                 51        \n",
            "=================================================================\n",
            "Total params: 10,451\n",
            "Trainable params: 10,451\n",
            "Non-trainable params: 0\n",
            "_________________________________________________________________\n"
          ],
          "name": "stdout"
        }
      ]
    },
    {
      "cell_type": "code",
      "metadata": {
        "id": "teTa0X7txFf2",
        "colab_type": "code",
        "outputId": "ee71e245-77a9-4387-ef8e-e2d5e2948f65",
        "colab": {
          "base_uri": "https://localhost:8080/",
          "height": 34
        }
      },
      "source": [
        "# https://arxiv.org/ftp/arxiv/papers/1701/1701.05923.pdf\n",
        "# n = output dimension\n",
        "# m = input dimension\n",
        "# Total number of parameters for \n",
        "# Simple RNN = n**2 + nm + n\n",
        "# GRU = 3 × (n**2 + nm + n)\n",
        "# LSTM = 4 × (n**2 + nm + n)\n",
        "\n",
        "output_dimension = rnn_units\n",
        "input_dimension = n_features\n",
        "parameters = 4 * (output_dimension ** 2 +  output_dimension * input_dimension + output_dimension) \n",
        "parameters"
      ],
      "execution_count": 14,
      "outputs": [
        {
          "output_type": "execute_result",
          "data": {
            "text/plain": [
              "10400"
            ]
          },
          "metadata": {
            "tags": []
          },
          "execution_count": 14
        }
      ]
    },
    {
      "cell_type": "code",
      "metadata": {
        "id": "f9WIk3lgsvu-",
        "colab_type": "code",
        "outputId": "fd2a259f-7493-467c-e7db-492a0dd474b9",
        "colab": {
          "base_uri": "https://localhost:8080/",
          "height": 531
        }
      },
      "source": [
        "%time history = model.fit(X, y, epochs=2000, verbose=0)\n",
        "\n",
        "plt.yscale('log')\n",
        "plt.ylabel(\"loss\")\n",
        "plt.xlabel(\"epochs\")\n",
        "plt.plot(history.history['loss']);"
      ],
      "execution_count": 15,
      "outputs": [
        {
          "output_type": "stream",
          "text": [
            "CPU times: user 7.81 s, sys: 411 ms, total: 8.22 s\n",
            "Wall time: 5.64 s\n"
          ],
          "name": "stdout"
        },
        {
          "output_type": "display_data",
          "data": {
            "image/png": "[encoded data removed]",
            "text/plain": [
              "<Figure size 1440x576 with 1 Axes>"
            ]
          },
          "metadata": {
            "tags": [],
            "needs_background": "light"
          }
        }
      ]
    },
    {
      "cell_type": "code",
      "metadata": {
        "id": "PrChIAKivga_",
        "colab_type": "code",
        "outputId": "152edeca-57a7-49b2-ae7b-469776f932d6",
        "colab": {
          "base_uri": "https://localhost:8080/",
          "height": 102
        }
      },
      "source": [
        "predict(model, [[10, 20, 30], [70, 80, 90], [100, 110, 120], [200, 210, 220], [200, 300, 400]])"
      ],
      "execution_count": 16,
      "outputs": [
        {
          "output_type": "execute_result",
          "data": {
            "text/plain": [
              "array([[ 39.999084],\n",
              "       [100.33796 ],\n",
              "       [133.06349 ],\n",
              "       [250.23741 ],\n",
              "       [353.885   ]], dtype=float32)"
            ]
          },
          "metadata": {
            "tags": []
          },
          "execution_count": 16
        }
      ]
    },
    {
      "cell_type": "markdown",
      "metadata": {
        "id": "IpzFOzkgK0KU",
        "colab_type": "text"
      },
      "source": [
        "### GRU"
      ]
    },
    {
      "cell_type": "code",
      "metadata": {
        "id": "0-6-qw2Uw-kG",
        "colab_type": "code",
        "outputId": "a3b49382-a029-43fa-a69a-16c4c1a018bf",
        "colab": {
          "base_uri": "https://localhost:8080/",
          "height": 221
        }
      },
      "source": [
        "rnn_units = 50\n",
        "\n",
        "model = Sequential([\n",
        "    GRU(units=rnn_units, activation='relu', input_shape=(n_steps, n_features), name=\"RNN_Input\"),\n",
        "    Dense(units=1, name=\"Linear_Output\")\n",
        "])\n",
        "model.compile(optimizer='adam', loss='mse')\n",
        "model.summary()"
      ],
      "execution_count": 17,
      "outputs": [
        {
          "output_type": "stream",
          "text": [
            "Model: \"sequential_3\"\n",
            "_________________________________________________________________\n",
            "Layer (type)                 Output Shape              Param #   \n",
            "=================================================================\n",
            "RNN_Input (GRU)              (None, 50)                7950      \n",
            "_________________________________________________________________\n",
            "Linear_Output (Dense)        (None, 1)                 51        \n",
            "=================================================================\n",
            "Total params: 8,001\n",
            "Trainable params: 8,001\n",
            "Non-trainable params: 0\n",
            "_________________________________________________________________\n"
          ],
          "name": "stdout"
        }
      ]
    },
    {
      "cell_type": "code",
      "metadata": {
        "id": "V96JbGbWxJYl",
        "colab_type": "code",
        "outputId": "1f2f178e-5e3b-4020-d988-9aaa634fd245",
        "colab": {
          "base_uri": "https://localhost:8080/",
          "height": 34
        }
      },
      "source": [
        "output_dimension = rnn_units\n",
        "input_dimension = n_features\n",
        "parameters = 3 * (output_dimension ** 2 +  output_dimension * input_dimension + output_dimension) \n",
        "parameters"
      ],
      "execution_count": 18,
      "outputs": [
        {
          "output_type": "execute_result",
          "data": {
            "text/plain": [
              "7800"
            ]
          },
          "metadata": {
            "tags": []
          },
          "execution_count": 18
        }
      ]
    },
    {
      "cell_type": "code",
      "metadata": {
        "id": "ZItEwNiBxKCn",
        "colab_type": "code",
        "outputId": "1b6b9df0-e42a-4a72-f324-134462c030f8",
        "colab": {
          "base_uri": "https://localhost:8080/",
          "height": 531
        }
      },
      "source": [
        "%time history = model.fit(X, y, epochs=2000, verbose=0)\n",
        "\n",
        "plt.yscale('log')\n",
        "plt.ylabel(\"loss\")\n",
        "plt.xlabel(\"epochs\")\n",
        "plt.plot(history.history['loss']);"
      ],
      "execution_count": 19,
      "outputs": [
        {
          "output_type": "stream",
          "text": [
            "CPU times: user 8.37 s, sys: 487 ms, total: 8.85 s\n",
            "Wall time: 6.06 s\n"
          ],
          "name": "stdout"
        },
        {
          "output_type": "display_data",
          "data": {
            "image/png": "[encoded data removed]",
            "text/plain": [
              "<Figure size 1440x576 with 1 Axes>"
            ]
          },
          "metadata": {
            "tags": [],
            "needs_background": "light"
          }
        }
      ]
    },
    {
      "cell_type": "code",
      "metadata": {
        "id": "Qz7hU9x2xOCP",
        "colab_type": "code",
        "outputId": "aa04abde-6483-49cb-a282-9200208fc591",
        "colab": {
          "base_uri": "https://localhost:8080/",
          "height": 102
        }
      },
      "source": [
        "predict(model, [[10, 20, 30], [70, 80, 90], [100, 110, 120], [200, 210, 220], [200, 300, 400]])"
      ],
      "execution_count": 20,
      "outputs": [
        {
          "output_type": "execute_result",
          "data": {
            "text/plain": [
              "array([[ 39.99903],\n",
              "       [100.60526],\n",
              "       [133.60805],\n",
              "       [248.74025],\n",
              "       [421.23074]], dtype=float32)"
            ]
          },
          "metadata": {
            "tags": []
          },
          "execution_count": 20
        }
      ]
    },
    {
      "cell_type": "markdown",
      "metadata": {
        "id": "6O1p-MKsZoPx",
        "colab_type": "text"
      },
      "source": [
        "## Multivariate LSTM Models"
      ]
    },
    {
      "cell_type": "markdown",
      "metadata": {
        "id": "ogVauet4kvha",
        "colab_type": "text"
      },
      "source": [
        "### Multiple Input Series"
      ]
    },
    {
      "cell_type": "code",
      "metadata": {
        "id": "sI478dzhxSFQ",
        "colab_type": "code",
        "outputId": "9eada831-3736-430f-bea5-27c912138e9c",
        "colab": {
          "base_uri": "https://localhost:8080/",
          "height": 34
        }
      },
      "source": [
        "in_seq1 = [10, 20, 30, 40, 50, 60, 70, 80, 90]\n",
        "in_seq2 = [15, 25, 35, 45, 55, 65, 75, 85, 95]\n",
        "out_seq = [in1 + in2 for in1, in2 in zip(in_seq1, in_seq2)]\n",
        "out_seq"
      ],
      "execution_count": 21,
      "outputs": [
        {
          "output_type": "execute_result",
          "data": {
            "text/plain": [
              "[25, 45, 65, 85, 105, 125, 145, 165, 185]"
            ]
          },
          "metadata": {
            "tags": []
          },
          "execution_count": 21
        }
      ]
    },
    {
      "cell_type": "code",
      "metadata": {
        "id": "Z3j4mZI1acf7",
        "colab_type": "code",
        "outputId": "308eaa20-67fb-4ca4-8dee-79ef8531cf1c",
        "colab": {
          "base_uri": "https://localhost:8080/",
          "height": 170
        }
      },
      "source": [
        "# convert to [rows, columns] structure\n",
        "in_seq1 = np.array(in_seq1).reshape((len(in_seq1), 1))\n",
        "in_seq2 = np.array(in_seq2).reshape((len(in_seq2), 1))\n",
        "out_seq = np.array(out_seq).reshape((len(out_seq), 1))\n",
        "out_seq"
      ],
      "execution_count": 22,
      "outputs": [
        {
          "output_type": "execute_result",
          "data": {
            "text/plain": [
              "array([[ 25],\n",
              "       [ 45],\n",
              "       [ 65],\n",
              "       [ 85],\n",
              "       [105],\n",
              "       [125],\n",
              "       [145],\n",
              "       [165],\n",
              "       [185]])"
            ]
          },
          "metadata": {
            "tags": []
          },
          "execution_count": 22
        }
      ]
    },
    {
      "cell_type": "code",
      "metadata": {
        "id": "gWno1RcVaivS",
        "colab_type": "code",
        "outputId": "1ee56d6b-3faf-4fa5-a445-97a2fdfd1c69",
        "colab": {
          "base_uri": "https://localhost:8080/",
          "height": 170
        }
      },
      "source": [
        "# horizontally stack columns\n",
        "dataset = np.hstack((in_seq1, in_seq2, out_seq))\n",
        "dataset"
      ],
      "execution_count": 23,
      "outputs": [
        {
          "output_type": "execute_result",
          "data": {
            "text/plain": [
              "array([[ 10,  15,  25],\n",
              "       [ 20,  25,  45],\n",
              "       [ 30,  35,  65],\n",
              "       [ 40,  45,  85],\n",
              "       [ 50,  55, 105],\n",
              "       [ 60,  65, 125],\n",
              "       [ 70,  75, 145],\n",
              "       [ 80,  85, 165],\n",
              "       [ 90,  95, 185]])"
            ]
          },
          "metadata": {
            "tags": []
          },
          "execution_count": 23
        }
      ]
    },
    {
      "cell_type": "code",
      "metadata": {
        "id": "wODT6DFGcYCi",
        "colab_type": "code",
        "colab": {}
      },
      "source": [
        "# split a multivariate sequence into samples\n",
        "def split_sequences(sequences, n_steps):\n",
        "\tX, y = list(), list()\n",
        "\tfor i in range(len(sequences)):\n",
        "\t\t# find the end of this pattern\n",
        "\t\tend_ix = i + n_steps\n",
        "\t\t# check if we are beyond the dataset\n",
        "\t\tif end_ix > len(sequences):\n",
        "\t\t\tbreak\n",
        "\t\t# gather input and output parts of the pattern\n",
        "\t\tseq_x, seq_y = sequences[i:end_ix, :-1], sequences[end_ix-1, -1]\n",
        "\t\tX.append(seq_x)\n",
        "\t\ty.append(seq_y)\n",
        "\treturn np.array(X), np.array(y)"
      ],
      "execution_count": 0,
      "outputs": []
    },
    {
      "cell_type": "code",
      "metadata": {
        "id": "YfTgkdcFc8Iu",
        "colab_type": "code",
        "outputId": "161f4b21-da12-467f-f374-b191f1c44c19",
        "colab": {
          "base_uri": "https://localhost:8080/",
          "height": 272
        }
      },
      "source": [
        "# choose a number of time steps\n",
        "n_steps = 3\n",
        "\n",
        "# convert into input/output\n",
        "X, y = split_sequences(dataset, n_steps)\n",
        "\n",
        "# summarize the data\n",
        "list(zip(X, y))"
      ],
      "execution_count": 25,
      "outputs": [
        {
          "output_type": "execute_result",
          "data": {
            "text/plain": [
              "[(array([[10, 15],\n",
              "         [20, 25],\n",
              "         [30, 35]]), 65), (array([[20, 25],\n",
              "         [30, 35],\n",
              "         [40, 45]]), 85), (array([[30, 35],\n",
              "         [40, 45],\n",
              "         [50, 55]]), 105), (array([[40, 45],\n",
              "         [50, 55],\n",
              "         [60, 65]]), 125), (array([[50, 55],\n",
              "         [60, 65],\n",
              "         [70, 75]]), 145), (array([[60, 65],\n",
              "         [70, 75],\n",
              "         [80, 85]]), 165), (array([[70, 75],\n",
              "         [80, 85],\n",
              "         [90, 95]]), 185)]"
            ]
          },
          "metadata": {
            "tags": []
          },
          "execution_count": 25
        }
      ]
    },
    {
      "cell_type": "code",
      "metadata": {
        "id": "XYhnq4Hzc_tu",
        "colab_type": "code",
        "colab": {}
      },
      "source": [
        "# the dataset knows the number of features, e.g. 2\n",
        "n_features = X.shape[2]\n",
        "\n",
        "# define model\n",
        "model = Sequential()\n",
        "model.add(GRU(units=50, activation='relu', input_shape=(n_steps, n_features), name=\"RNN_Input\"))\n",
        "model.add(Dense(units=1, name=\"Linear_Output\"))\n",
        "model.compile(optimizer='adam', loss='mse')"
      ],
      "execution_count": 0,
      "outputs": []
    },
    {
      "cell_type": "code",
      "metadata": {
        "id": "5DKcnuvGegj5",
        "colab_type": "code",
        "outputId": "5f17c374-cd3d-451d-a51a-883811b61a0f",
        "colab": {
          "base_uri": "https://localhost:8080/",
          "height": 517
        }
      },
      "source": [
        "# fit model\n",
        "%time history = model.fit(X, y, epochs=2000, verbose=0)\n",
        "import matplotlib.pyplot as plt\n",
        "\n",
        "plt.yscale('log')\n",
        "plt.plot(history.history['loss']);"
      ],
      "execution_count": 27,
      "outputs": [
        {
          "output_type": "stream",
          "text": [
            "CPU times: user 8.39 s, sys: 523 ms, total: 8.92 s\n",
            "Wall time: 6.08 s\n"
          ],
          "name": "stdout"
        },
        {
          "output_type": "display_data",
          "data": {
            "image/png": "[encoded data removed]",
            "text/plain": [
              "<Figure size 1440x576 with 1 Axes>"
            ]
          },
          "metadata": {
            "tags": [],
            "needs_background": "light"
          }
        }
      ]
    },
    {
      "cell_type": "code",
      "metadata": {
        "id": "tAYti6Fae3GA",
        "colab_type": "code",
        "colab": {}
      },
      "source": [
        "def predict_multi(model, samples):\n",
        "  input = np.array(samples).astype(np.float32)\n",
        "  input = input.reshape(1, input.shape[0], input.shape[1])\n",
        "  y_pred = model.predict(input)\n",
        "  return y_pred"
      ],
      "execution_count": 0,
      "outputs": []
    },
    {
      "cell_type": "code",
      "metadata": {
        "id": "To1M1jeLhKFT",
        "colab_type": "code",
        "outputId": "574e417d-1cac-4c1f-d6e4-86d1972c3ab6",
        "colab": {
          "base_uri": "https://localhost:8080/",
          "height": 34
        }
      },
      "source": [
        "predict_multi(model, [[80, 85], [90, 95], [100, 105]])"
      ],
      "execution_count": 29,
      "outputs": [
        {
          "output_type": "execute_result",
          "data": {
            "text/plain": [
              "array([[205.12825]], dtype=float32)"
            ]
          },
          "metadata": {
            "tags": []
          },
          "execution_count": 29
        }
      ]
    },
    {
      "cell_type": "code",
      "metadata": {
        "id": "pwYcgfEbfdJp",
        "colab_type": "code",
        "outputId": "70e1bafa-9be5-46b0-a46f-5de8c3e4b558",
        "colab": {
          "base_uri": "https://localhost:8080/",
          "height": 34
        }
      },
      "source": [
        "predict_multi(model, [[10, 15], [20, 25], [30, 35]])"
      ],
      "execution_count": 30,
      "outputs": [
        {
          "output_type": "execute_result",
          "data": {
            "text/plain": [
              "array([[64.999916]], dtype=float32)"
            ]
          },
          "metadata": {
            "tags": []
          },
          "execution_count": 30
        }
      ]
    },
    {
      "cell_type": "code",
      "metadata": {
        "id": "yN3tDmkRhboU",
        "colab_type": "code",
        "outputId": "8ccd664e-6866-45af-dff9-3033c2f5e87a",
        "colab": {
          "base_uri": "https://localhost:8080/",
          "height": 34
        }
      },
      "source": [
        "predict_multi(model, [[180, 185], [190, 195], [200, 205]])"
      ],
      "execution_count": 31,
      "outputs": [
        {
          "output_type": "execute_result",
          "data": {
            "text/plain": [
              "array([[426.02975]], dtype=float32)"
            ]
          },
          "metadata": {
            "tags": []
          },
          "execution_count": 31
        }
      ]
    },
    {
      "cell_type": "markdown",
      "metadata": {
        "id": "ttmXnBPtjVPG",
        "colab_type": "text"
      },
      "source": [
        "#### Let's make this a little bit harder\n",
        "\n",
        "* output y can be inferred from final timestep\n",
        "* now we try to infer following ouput"
      ]
    },
    {
      "cell_type": "code",
      "metadata": {
        "id": "p_L-_VVUhh5z",
        "colab_type": "code",
        "outputId": "6a1c04ae-8195-40c9-d94b-b072a79af903",
        "colab": {
          "base_uri": "https://localhost:8080/",
          "height": 272
        }
      },
      "source": [
        "y += 20\n",
        "list(zip(X, y))"
      ],
      "execution_count": 32,
      "outputs": [
        {
          "output_type": "execute_result",
          "data": {
            "text/plain": [
              "[(array([[10, 15],\n",
              "         [20, 25],\n",
              "         [30, 35]]), 85), (array([[20, 25],\n",
              "         [30, 35],\n",
              "         [40, 45]]), 105), (array([[30, 35],\n",
              "         [40, 45],\n",
              "         [50, 55]]), 125), (array([[40, 45],\n",
              "         [50, 55],\n",
              "         [60, 65]]), 145), (array([[50, 55],\n",
              "         [60, 65],\n",
              "         [70, 75]]), 165), (array([[60, 65],\n",
              "         [70, 75],\n",
              "         [80, 85]]), 185), (array([[70, 75],\n",
              "         [80, 85],\n",
              "         [90, 95]]), 205)]"
            ]
          },
          "metadata": {
            "tags": []
          },
          "execution_count": 32
        }
      ]
    },
    {
      "cell_type": "code",
      "metadata": {
        "id": "0heNGKIljMx_",
        "colab_type": "code",
        "outputId": "a00eb874-5564-4c83-b0b6-4502299daab8",
        "colab": {
          "base_uri": "https://localhost:8080/",
          "height": 522
        }
      },
      "source": [
        "model = Sequential()\n",
        "model.add(GRU(units=50, activation='relu', input_shape=(n_steps, n_features), name=\"RNN_Input\"))\n",
        "model.add(Dense(units=1, name=\"Linear_Output\"))\n",
        "model.compile(optimizer='adam', loss='mse')\n",
        "\n",
        "# train a little bit longer, as this should be harder now\n",
        "%time history = model.fit(X, y, epochs=2000, verbose=0)\n",
        "\n",
        "plt.yscale('log')\n",
        "plt.plot(history.history['loss']);"
      ],
      "execution_count": 33,
      "outputs": [
        {
          "output_type": "stream",
          "text": [
            "CPU times: user 8.78 s, sys: 513 ms, total: 9.29 s\n",
            "Wall time: 6.39 s\n"
          ],
          "name": "stdout"
        },
        {
          "output_type": "display_data",
          "data": {
            "image/png": "[encoded data removed]",
            "text/plain": [
              "<Figure size 1440x576 with 1 Axes>"
            ]
          },
          "metadata": {
            "tags": [],
            "needs_background": "light"
          }
        }
      ]
    },
    {
      "cell_type": "code",
      "metadata": {
        "id": "sNT0WDvZjsa6",
        "colab_type": "code",
        "outputId": "83a1551e-149c-4f49-8c6f-9e1495e63c45",
        "colab": {
          "base_uri": "https://localhost:8080/",
          "height": 34
        }
      },
      "source": [
        "predict_multi(model, [[80, 85], [90, 95], [100, 105]])"
      ],
      "execution_count": 34,
      "outputs": [
        {
          "output_type": "execute_result",
          "data": {
            "text/plain": [
              "array([[226.31184]], dtype=float32)"
            ]
          },
          "metadata": {
            "tags": []
          },
          "execution_count": 34
        }
      ]
    },
    {
      "cell_type": "code",
      "metadata": {
        "id": "nrQlR38ajtYA",
        "colab_type": "code",
        "outputId": "03a69460-3fe8-4c7a-e40e-27144a935c65",
        "colab": {
          "base_uri": "https://localhost:8080/",
          "height": 34
        }
      },
      "source": [
        "predict_multi(model, [[10, 15], [20, 25], [30, 35]])"
      ],
      "execution_count": 35,
      "outputs": [
        {
          "output_type": "execute_result",
          "data": {
            "text/plain": [
              "array([[85.0033]], dtype=float32)"
            ]
          },
          "metadata": {
            "tags": []
          },
          "execution_count": 35
        }
      ]
    },
    {
      "cell_type": "code",
      "metadata": {
        "id": "UbO7DDTjkFsh",
        "colab_type": "code",
        "outputId": "264c022d-9616-4895-b0db-9f9d88da6ac0",
        "colab": {
          "base_uri": "https://localhost:8080/",
          "height": 34
        }
      },
      "source": [
        "predict_multi(model, [[180, 185], [190, 195], [200, 205]])"
      ],
      "execution_count": 36,
      "outputs": [
        {
          "output_type": "execute_result",
          "data": {
            "text/plain": [
              "array([[456.28085]], dtype=float32)"
            ]
          },
          "metadata": {
            "tags": []
          },
          "execution_count": 36
        }
      ]
    },
    {
      "cell_type": "markdown",
      "metadata": {
        "id": "X8TsV-MdkmEy",
        "colab_type": "text"
      },
      "source": [
        "## Multi-Step LSTM Models\n",
        "* this might just as well be an encoder / decoder approach"
      ]
    },
    {
      "cell_type": "code",
      "metadata": {
        "id": "4veJ7_fxkSow",
        "colab_type": "code",
        "outputId": "993fecea-0a92-4fd2-8934-16cd9c4e0dd5",
        "colab": {
          "base_uri": "https://localhost:8080/",
          "height": 102
        }
      },
      "source": [
        "# split a univariate sequence into samples\n",
        "def split_sequence(sequence, n_steps_in, n_steps_out):\n",
        "\tX, y = list(), list()\n",
        "\tfor i in range(len(sequence)):\n",
        "\t\t# find the end of this pattern\n",
        "\t\tend_ix = i + n_steps_in\n",
        "\t\tout_end_ix = end_ix + n_steps_out\n",
        "\t\t# check if we are beyond the sequence\n",
        "\t\tif out_end_ix > len(sequence):\n",
        "\t\t\tbreak\n",
        "\t\t# gather input and output parts of the pattern\n",
        "\t\tseq_x, seq_y = sequence[i:end_ix], sequence[end_ix:out_end_ix]\n",
        "\t\tX.append(seq_x)\n",
        "\t\ty.append(seq_y)\n",
        "\treturn np.array(X), np.array(y)\n",
        " \n",
        "# define input sequence\n",
        "raw_seq = [10, 20, 30, 40, 50, 60, 70, 80, 90]\n",
        "# choose a number of time steps\n",
        "n_steps_in, n_steps_out = 3, 2\n",
        "# split into samples\n",
        "X, y = split_sequence(raw_seq, n_steps_in, n_steps_out)\n",
        "# summarize the data\n",
        "for input, output in zip(X, y):\n",
        "  print (input, output)"
      ],
      "execution_count": 37,
      "outputs": [
        {
          "output_type": "stream",
          "text": [
            "[10 20 30] [40 50]\n",
            "[20 30 40] [50 60]\n",
            "[30 40 50] [60 70]\n",
            "[40 50 60] [70 80]\n",
            "[50 60 70] [80 90]\n"
          ],
          "name": "stdout"
        }
      ]
    },
    {
      "cell_type": "code",
      "metadata": {
        "id": "geX0EgYx3xaR",
        "colab_type": "code",
        "colab": {}
      },
      "source": [
        "# reshape from [samples, timesteps] into [samples, timesteps, features]\n",
        "n_features = 1\n",
        "X = X.reshape((X.shape[0], X.shape[1], n_features))\n",
        "# define model\n",
        "model = Sequential()\n",
        "model.add(GRU(100, activation='relu', input_shape=(n_steps_in, n_features)))\n",
        "# model.add(GRU(100, activation='relu', return_sequences=True, input_shape=(n_steps_in, n_features)))\n",
        "# model.add(GRU(100, activation='relu'))\n",
        "model.add(Dense(n_steps_out))\n",
        "model.compile(optimizer='adam', loss='mse')"
      ],
      "execution_count": 0,
      "outputs": []
    },
    {
      "cell_type": "code",
      "metadata": {
        "id": "_9bw2H-w_9Fk",
        "colab_type": "code",
        "outputId": "33ae9f6a-8e9f-4739-8eb1-7bda2cedbb34",
        "colab": {
          "base_uri": "https://localhost:8080/",
          "height": 519
        }
      },
      "source": [
        "# fit model\n",
        "%time history = model.fit(X, y, epochs=2000, verbose=0)\n",
        "\n",
        "plt.yscale('log')\n",
        "plt.plot(history.history['loss']);"
      ],
      "execution_count": 39,
      "outputs": [
        {
          "output_type": "stream",
          "text": [
            "CPU times: user 9.44 s, sys: 528 ms, total: 9.97 s\n",
            "Wall time: 6.68 s\n"
          ],
          "name": "stdout"
        },
        {
          "output_type": "display_data",
          "data": {
            "image/png": "[encoded data removed]",
            "text/plain": [
              "<Figure size 1440x576 with 1 Axes>"
            ]
          },
          "metadata": {
            "tags": [],
            "needs_background": "light"
          }
        }
      ]
    },
    {
      "cell_type": "code",
      "metadata": {
        "id": "BvVhFBcpAHCt",
        "colab_type": "code",
        "outputId": "a597dc27-cb9d-4bd3-8e30-bef9b9b250c3",
        "colab": {
          "base_uri": "https://localhost:8080/",
          "height": 34
        }
      },
      "source": [
        "X_sample = np.array([70, 80, 90]).reshape((1, n_steps_in, n_features)).astype(np.float32)\n",
        "y_pred = model.predict(X_sample)\n",
        "print(y_pred)"
      ],
      "execution_count": 40,
      "outputs": [
        {
          "output_type": "stream",
          "text": [
            "[[101.075874 111.77935 ]]\n"
          ],
          "name": "stdout"
        }
      ]
    },
    {
      "cell_type": "code",
      "metadata": {
        "id": "TU98-CwHAYor",
        "colab_type": "code",
        "outputId": "1184837f-fa57-487f-853f-d811f150d821",
        "colab": {
          "base_uri": "https://localhost:8080/",
          "height": 34
        }
      },
      "source": [
        "X_sample = np.array([10, 20, 30]).reshape((1, n_steps_in, n_features)).astype(np.float32)\n",
        "y_pred = model.predict(X_sample)\n",
        "print(y_pred)"
      ],
      "execution_count": 41,
      "outputs": [
        {
          "output_type": "stream",
          "text": [
            "[[40.00032 49.99975]]\n"
          ],
          "name": "stdout"
        }
      ]
    }
  ]
}