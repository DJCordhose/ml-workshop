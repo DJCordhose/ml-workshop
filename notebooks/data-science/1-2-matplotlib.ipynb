{
  "nbformat": 4,
  "nbformat_minor": 0,
  "metadata": {
    "kernelspec": {
      "display_name": "Python 3",
      "language": "python",
      "name": "python3"
    },
    "language_info": {
      "codemirror_mode": {
        "name": "ipython",
        "version": 3
      },
      "file_extension": ".py",
      "mimetype": "text/x-python",
      "name": "python",
      "nbconvert_exporter": "python",
      "pygments_lexer": "ipython3",
      "version": "3.7.3"
    },
    "colab": {
      "name": "1-2-matplotlib.ipynb",
      "version": "0.3.2",
      "provenance": [],
      "include_colab_link": true
    }
  },
  "cells": [
    {
      "cell_type": "markdown",
      "metadata": {
        "id": "view-in-github",
        "colab_type": "text"
      },
      "source": [
        "<a href=\"https://colab.research.google.com/github/DJCordhose/ml-workshop/blob/master/notebooks/data-science/1-2-matplotlib.ipynb\" target=\"_parent\"><img src=\"https://colab.research.google.com/assets/colab-badge.svg\" alt=\"Open In Colab\"/></a>"
      ]
    },
    {
      "cell_type": "markdown",
      "metadata": {
        "id": "gpqKFG2rRwmk",
        "colab_type": "text"
      },
      "source": [
        "# Matplotlib Hello World\n",
        "\n",
        "* standard library for plotting\n",
        "* offers simple, procedural, state-based MATLAB-like way of plotting\n",
        "  * intended for interactive plots and \n",
        "  * simple cases of programmatic plot generation\n",
        "  \n",
        "  https://matplotlib.org/api/_as_gen/matplotlib.pyplot.html\n",
        " "
      ]
    },
    {
      "cell_type": "code",
      "metadata": {
        "id": "VjE92aBFRwmn",
        "colab_type": "code",
        "colab": {}
      },
      "source": [
        "import matplotlib\n",
        "import matplotlib.pyplot as plt\n",
        "import numpy as np"
      ],
      "execution_count": 0,
      "outputs": []
    },
    {
      "cell_type": "markdown",
      "metadata": {
        "id": "QYJ5_U1JWGWB",
        "colab_type": "text"
      },
      "source": [
        "## Plotting data as lines"
      ]
    },
    {
      "cell_type": "code",
      "metadata": {
        "id": "6DKs3YAj_GFf",
        "colab_type": "code",
        "colab": {}
      },
      "source": [
        "# tricky API, but very flexible\n",
        "plt.plot?"
      ],
      "execution_count": 0,
      "outputs": []
    },
    {
      "cell_type": "code",
      "metadata": {
        "id": "qn6h8R3IRwmt",
        "colab_type": "code",
        "outputId": "b4095a66-842e-413c-f4e6-a2a5d7eb84b0",
        "colab": {
          "base_uri": "https://localhost:8080/",
          "height": 286
        }
      },
      "source": [
        "x = [1, 2, 3, 4]\n",
        "y = [10, 20, 25, 30]\n",
        "plt.plot(x, y)"
      ],
      "execution_count": 3,
      "outputs": [
        {
          "output_type": "execute_result",
          "data": {
            "text/plain": [
              "[<matplotlib.lines.Line2D at 0x7f45c86b10b8>]"
            ]
          },
          "metadata": {
            "tags": []
          },
          "execution_count": 3
        },
        {
          "output_type": "display_data",
          "data": {
            "image/png": "[encoded data removed]",
            "text/plain": [
              "<Figure size 432x288 with 1 Axes>"
            ]
          },
          "metadata": {
            "tags": []
          }
        }
      ]
    },
    {
      "cell_type": "code",
      "metadata": {
        "id": "tXpUcfJBSYh-",
        "colab_type": "code",
        "outputId": "889835d4-b262-42f7-a253-c7d8976983d5",
        "colab": {
          "base_uri": "https://localhost:8080/",
          "height": 286
        }
      },
      "source": [
        "# be careful when plotting from point to point, first parameter is all the xs and second all the ys, this is not pairs\n",
        "plt.plot([-1, 1], [-1, 1], 'ro-')"
      ],
      "execution_count": 0,
      "outputs": [
        {
          "output_type": "execute_result",
          "data": {
            "text/plain": [
              "[<matplotlib.lines.Line2D at 0x7f6d3ca4e0f0>]"
            ]
          },
          "metadata": {
            "tags": []
          },
          "execution_count": 4
        },
        {
          "output_type": "display_data",
          "data": {
            "image/png": "[encoded data removed]",
            "text/plain": [
              "<Figure size 432x288 with 1 Axes>"
            ]
          },
          "metadata": {
            "tags": []
          }
        }
      ]
    },
    {
      "cell_type": "markdown",
      "metadata": {
        "id": "en5-RbhhRwmx",
        "colab_type": "text"
      },
      "source": [
        "### What can you pass as data?\n",
        "\n",
        "* all plotting functions expect <em>np.array</em>\n",
        "* array-like data structures <em>might</em> work\n",
        "* safest to explicitely convert everything to <em>np.array</em>\n",
        "* Pandas Dataframe: <em>df.values</em>\n"
      ]
    },
    {
      "cell_type": "markdown",
      "metadata": {
        "id": "1DSHzRyAWL-t",
        "colab_type": "text"
      },
      "source": [
        "## Plotting as scattered points"
      ]
    },
    {
      "cell_type": "code",
      "metadata": {
        "id": "_UdoeS0aRwmx",
        "colab_type": "code",
        "outputId": "bdbc70b4-da26-4554-cba2-093f388f0cf8",
        "colab": {
          "base_uri": "https://localhost:8080/",
          "height": 286
        }
      },
      "source": [
        "plt.scatter([1, 2, 3, 4], [10, 20, 25, 30], color='red')"
      ],
      "execution_count": 4,
      "outputs": [
        {
          "output_type": "execute_result",
          "data": {
            "text/plain": [
              "<matplotlib.collections.PathCollection at 0x7f45c5e47b00>"
            ]
          },
          "metadata": {
            "tags": []
          },
          "execution_count": 4
        },
        {
          "output_type": "display_data",
          "data": {
            "image/png": "[encoded data removed]",
            "text/plain": [
              "<Figure size 432x288 with 1 Axes>"
            ]
          },
          "metadata": {
            "tags": []
          }
        }
      ]
    },
    {
      "cell_type": "code",
      "metadata": {
        "id": "nqgItPDyRwm2",
        "colab_type": "code",
        "outputId": "853e05cf-e765-4e84-d56d-9affaf702841",
        "colab": {
          "base_uri": "https://localhost:8080/",
          "height": 269
        }
      },
      "source": [
        "x = np.random.normal(size=500)\n",
        "y = np.random.normal(size=500)\n",
        "plt.scatter(x, y);"
      ],
      "execution_count": 5,
      "outputs": [
        {
          "output_type": "display_data",
          "data": {
            "image/png": "[encoded data removed]",
            "text/plain": [
              "<Figure size 432x288 with 1 Axes>"
            ]
          },
          "metadata": {
            "tags": []
          }
        }
      ]
    },
    {
      "cell_type": "markdown",
      "metadata": {
        "id": "T6t6QGjJRwmz",
        "colab_type": "text"
      },
      "source": [
        "## Exercise\n",
        "\n",
        "### Create a scatter plot that has 4 data points\n",
        "* freely choose the four data points\n",
        "* they shall be displayed as triangles\n",
        "* zoom into the plot so that you only see the two bottom left values"
      ]
    },
    {
      "cell_type": "code",
      "metadata": {
        "id": "qncgzwrURwm0",
        "colab_type": "code",
        "colab": {}
      },
      "source": [
        "# matplotlib.markers?\n",
        "# plt.scatter?\n",
        "# plt.xlim?\n",
        "# plt.ylim?"
      ],
      "execution_count": 0,
      "outputs": []
    },
    {
      "cell_type": "markdown",
      "metadata": {
        "id": "sP9zfqIeAVdT",
        "colab_type": "text"
      },
      "source": [
        "## STOP HERE\n",
        "\n",
        ".\n",
        ".\n",
        ".\n",
        "\n",
        "---\n",
        "\n",
        ".\n",
        ".\n",
        ".\n",
        "\n",
        "\n",
        "\n",
        "---\n",
        "\n",
        ".\n",
        ".\n",
        ".\n",
        "\n",
        "\n",
        "\n",
        "---\n",
        "\n",
        ".\n",
        ".\n",
        ".\n",
        "\n",
        "\n",
        "\n",
        "---\n",
        "\n",
        ".\n",
        ".\n",
        ".\n",
        "\n",
        "\n",
        "\n",
        "---\n",
        "\n",
        ".\n",
        ".\n",
        ".\n",
        "\n",
        "\n",
        "\n",
        "---\n",
        "\n",
        ".\n",
        ".\n",
        ".\n",
        "\n",
        "\n",
        "\n",
        "\n",
        "\n",
        "\n",
        "\n",
        "\n",
        "\n",
        "\n",
        "\n",
        "\n",
        "\n",
        "\n",
        "\n",
        "\n",
        "\n",
        "\n",
        "\n",
        "\n",
        "\n"
      ]
    },
    {
      "cell_type": "code",
      "metadata": {
        "id": "49fVF8WaRwm7",
        "colab_type": "code",
        "colab": {
          "base_uri": "https://localhost:8080/",
          "height": 286
        },
        "outputId": "9615d651-aa20-45d2-dec6-bded3877684f"
      },
      "source": [
        "plt.scatter([0.3, 3.8, 1.2, 2.5], [11, 25, 9, 26], marker='v')\n",
        "plt.xlim(0, 2)\n",
        "plt.ylim(0, 50)\n",
        "# plt.yscale('log')"
      ],
      "execution_count": 25,
      "outputs": [
        {
          "output_type": "execute_result",
          "data": {
            "text/plain": [
              "(0, 50)"
            ]
          },
          "metadata": {
            "tags": []
          },
          "execution_count": 25
        },
        {
          "output_type": "display_data",
          "data": {
            "image/png": "[encoded data removed]",
            "text/plain": [
              "<Figure size 432x288 with 1 Axes>"
            ]
          },
          "metadata": {
            "tags": []
          }
        }
      ]
    },
    {
      "cell_type": "code",
      "metadata": {
        "id": "_McX0mNeAYTZ",
        "colab_type": "code",
        "colab": {}
      },
      "source": [
        ""
      ],
      "execution_count": 0,
      "outputs": []
    }
  ]
}