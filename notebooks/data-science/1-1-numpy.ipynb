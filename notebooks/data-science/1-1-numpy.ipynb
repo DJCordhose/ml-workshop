{
  "nbformat": 4,
  "nbformat_minor": 0,
  "metadata": {
    "kernelspec": {
      "display_name": "Python 3",
      "language": "python",
      "name": "python3"
    },
    "language_info": {
      "codemirror_mode": {
        "name": "ipython",
        "version": 3
      },
      "file_extension": ".py",
      "mimetype": "text/x-python",
      "name": "python",
      "nbconvert_exporter": "python",
      "pygments_lexer": "ipython3",
      "version": "3.7.3"
    },
    "colab": {
      "name": "1-1-numpy.ipynb",
      "version": "0.3.2",
      "provenance": [],
      "include_colab_link": true
    }
  },
  "cells": [
    {
      "cell_type": "markdown",
      "metadata": {
        "id": "view-in-github",
        "colab_type": "text"
      },
      "source": [
        "<a href=\"https://colab.research.google.com/github/DJCordhose/ml-workshop/blob/master/notebooks/data-science/1-1-numpy.ipynb\" target=\"_parent\"><img src=\"https://colab.research.google.com/assets/colab-badge.svg\" alt=\"Open In Colab\"/></a>"
      ]
    },
    {
      "cell_type": "markdown",
      "metadata": {
        "id": "dxAU3oLMRnOw",
        "colab_type": "text"
      },
      "source": [
        "# Numpy Hello World\n",
        "\n",
        "* numpy offers optimized data structures\n",
        "* many ML libraries expect input as a numpy array and also give results as a numpy array\n",
        "* a large part of machine learning consists of massaging data into the format you need\n",
        "* numpy is a low level tool to do that\n",
        "\n",
        "https://numpy.org/"
      ]
    },
    {
      "cell_type": "code",
      "metadata": {
        "id": "f5Y37ZniRnOy",
        "colab_type": "code",
        "colab": {}
      },
      "source": [
        "# np is the common name\n",
        "import numpy as np"
      ],
      "execution_count": 0,
      "outputs": []
    },
    {
      "cell_type": "code",
      "metadata": {
        "id": "CeVYCcbnRnO2",
        "colab_type": "code",
        "outputId": "4a7eb6a5-f859-4a79-c835-17b3b2333cc0",
        "colab": {
          "base_uri": "https://localhost:8080/",
          "height": 87
        }
      },
      "source": [
        "# create an array\n",
        "\n",
        "array = np.array([[1, 2, 3], [4, 5, 6], [7, 8, 9], [10, 11, 12]])\n",
        "array"
      ],
      "execution_count": 2,
      "outputs": [
        {
          "output_type": "execute_result",
          "data": {
            "text/plain": [
              "array([[ 1,  2,  3],\n",
              "       [ 4,  5,  6],\n",
              "       [ 7,  8,  9],\n",
              "       [10, 11, 12]])"
            ]
          },
          "metadata": {
            "tags": []
          },
          "execution_count": 2
        }
      ]
    },
    {
      "cell_type": "code",
      "metadata": {
        "id": "nwcZ3GW_RnO5",
        "colab_type": "code",
        "outputId": "1b33d149-ad4a-4b08-d29b-2a7002d41318",
        "colab": {
          "base_uri": "https://localhost:8080/",
          "height": 34
        }
      },
      "source": [
        "type(array)"
      ],
      "execution_count": 3,
      "outputs": [
        {
          "output_type": "execute_result",
          "data": {
            "text/plain": [
              "numpy.ndarray"
            ]
          },
          "metadata": {
            "tags": []
          },
          "execution_count": 3
        }
      ]
    },
    {
      "cell_type": "code",
      "metadata": {
        "id": "0BWqwLSyRnO6",
        "colab_type": "code",
        "outputId": "5c0b1e73-6b1a-4de4-ed00-4c93f4cacde1",
        "colab": {
          "base_uri": "https://localhost:8080/",
          "height": 34
        }
      },
      "source": [
        "# you can always ask for the shape of an numpy arrary\n",
        "\n",
        "array.shape"
      ],
      "execution_count": 4,
      "outputs": [
        {
          "output_type": "execute_result",
          "data": {
            "text/plain": [
              "(4, 3)"
            ]
          },
          "metadata": {
            "tags": []
          },
          "execution_count": 4
        }
      ]
    },
    {
      "cell_type": "code",
      "metadata": {
        "id": "xGug1xUwRnO8",
        "colab_type": "code",
        "outputId": "69168d70-be8a-4cb8-9229-4a03c390bcd8",
        "colab": {
          "base_uri": "https://localhost:8080/",
          "height": 34
        }
      },
      "source": [
        "# accessing a single element\n",
        "\n",
        "array[0, 0]"
      ],
      "execution_count": 5,
      "outputs": [
        {
          "output_type": "execute_result",
          "data": {
            "text/plain": [
              "1"
            ]
          },
          "metadata": {
            "tags": []
          },
          "execution_count": 5
        }
      ]
    },
    {
      "cell_type": "code",
      "metadata": {
        "id": "FLHh6FARRnO-",
        "colab_type": "code",
        "outputId": "916f224f-c635-4c70-a3d0-6aecc0a5befc",
        "colab": {
          "base_uri": "https://localhost:8080/",
          "height": 34
        }
      },
      "source": [
        "# accessing a single row\n",
        "\n",
        "array[0]"
      ],
      "execution_count": 6,
      "outputs": [
        {
          "output_type": "execute_result",
          "data": {
            "text/plain": [
              "array([1, 2, 3])"
            ]
          },
          "metadata": {
            "tags": []
          },
          "execution_count": 6
        }
      ]
    },
    {
      "cell_type": "code",
      "metadata": {
        "id": "guM49srGRnO_",
        "colab_type": "code",
        "outputId": "c85d2d4d-1773-440c-edc2-a103ddcd180a",
        "colab": {
          "base_uri": "https://localhost:8080/",
          "height": 34
        }
      },
      "source": [
        "# accessing a single column\n",
        "\n",
        "array[:, 0]"
      ],
      "execution_count": 7,
      "outputs": [
        {
          "output_type": "execute_result",
          "data": {
            "text/plain": [
              "array([ 1,  4,  7, 10])"
            ]
          },
          "metadata": {
            "tags": []
          },
          "execution_count": 7
        }
      ]
    },
    {
      "cell_type": "code",
      "metadata": {
        "id": "EENz1pPdRnPB",
        "colab_type": "code",
        "outputId": "21fba9a8-1fe4-4994-c2d3-6250ee24e2bb",
        "colab": {
          "base_uri": "https://localhost:8080/",
          "height": 52
        }
      },
      "source": [
        "# accessing a range\n",
        "\n",
        "array[1:3, 0:2]"
      ],
      "execution_count": 8,
      "outputs": [
        {
          "output_type": "execute_result",
          "data": {
            "text/plain": [
              "array([[4, 5],\n",
              "       [7, 8]])"
            ]
          },
          "metadata": {
            "tags": []
          },
          "execution_count": 8
        }
      ]
    },
    {
      "cell_type": "code",
      "metadata": {
        "id": "dMJleFJiSPEC",
        "colab_type": "code",
        "outputId": "00e60cf2-b934-43ee-f8c3-6913fa335dc7",
        "colab": {
          "base_uri": "https://localhost:8080/",
          "height": 52
        }
      },
      "source": [
        "# accessing a some elements\n",
        "\n",
        "array[[1, 3], 0:2]"
      ],
      "execution_count": 9,
      "outputs": [
        {
          "output_type": "execute_result",
          "data": {
            "text/plain": [
              "array([[ 4,  5],\n",
              "       [10, 11]])"
            ]
          },
          "metadata": {
            "tags": []
          },
          "execution_count": 9
        }
      ]
    },
    {
      "cell_type": "code",
      "metadata": {
        "id": "WWFgwYWLRnPE",
        "colab_type": "code",
        "outputId": "9de03ca9-3d36-42ae-b22b-0820cd4dd1d6",
        "colab": {
          "base_uri": "https://localhost:8080/",
          "height": 69
        }
      },
      "source": [
        "# transpostion\n",
        "\n",
        "array.T"
      ],
      "execution_count": 10,
      "outputs": [
        {
          "output_type": "execute_result",
          "data": {
            "text/plain": [
              "array([[ 1,  4,  7, 10],\n",
              "       [ 2,  5,  8, 11],\n",
              "       [ 3,  6,  9, 12]])"
            ]
          },
          "metadata": {
            "tags": []
          },
          "execution_count": 10
        }
      ]
    },
    {
      "cell_type": "code",
      "metadata": {
        "id": "Qga6T2rDRnPH",
        "colab_type": "code",
        "outputId": "9b450d6d-0388-4693-f6f0-20906d2c4178",
        "colab": {
          "base_uri": "https://localhost:8080/",
          "height": 52
        }
      },
      "source": [
        "# give it a new shape\n",
        "\n",
        "array.reshape(2, 6)"
      ],
      "execution_count": 11,
      "outputs": [
        {
          "output_type": "execute_result",
          "data": {
            "text/plain": [
              "array([[ 1,  2,  3,  4,  5,  6],\n",
              "       [ 7,  8,  9, 10, 11, 12]])"
            ]
          },
          "metadata": {
            "tags": []
          },
          "execution_count": 11
        }
      ]
    },
    {
      "cell_type": "code",
      "metadata": {
        "id": "o4UBypGxS3OH",
        "colab_type": "code",
        "outputId": "c0e49465-f694-47b1-a183-78f837dbf616",
        "colab": {
          "base_uri": "https://localhost:8080/",
          "height": 227
        }
      },
      "source": [
        "# use -1 for unknown dimensions \n",
        "# (dimension will be inferred by other dimensions and what is there)\n",
        "\n",
        "array.reshape(-1, 1)"
      ],
      "execution_count": 12,
      "outputs": [
        {
          "output_type": "execute_result",
          "data": {
            "text/plain": [
              "array([[ 1],\n",
              "       [ 2],\n",
              "       [ 3],\n",
              "       [ 4],\n",
              "       [ 5],\n",
              "       [ 6],\n",
              "       [ 7],\n",
              "       [ 8],\n",
              "       [ 9],\n",
              "       [10],\n",
              "       [11],\n",
              "       [12]])"
            ]
          },
          "metadata": {
            "tags": []
          },
          "execution_count": 12
        }
      ]
    },
    {
      "cell_type": "code",
      "metadata": {
        "id": "l6R78mHbRnPK",
        "colab_type": "code",
        "outputId": "8ef1db77-1217-4dcc-e6d8-dc25a3e0f1ae",
        "colab": {
          "base_uri": "https://localhost:8080/",
          "height": 34
        }
      },
      "source": [
        "# flatten\n",
        "# array.reshape(-1) will do the same\n",
        "\n",
        "array.ravel()"
      ],
      "execution_count": 13,
      "outputs": [
        {
          "output_type": "execute_result",
          "data": {
            "text/plain": [
              "array([ 1,  2,  3,  4,  5,  6,  7,  8,  9, 10, 11, 12])"
            ]
          },
          "metadata": {
            "tags": []
          },
          "execution_count": 13
        }
      ]
    },
    {
      "cell_type": "code",
      "metadata": {
        "id": "rvnkFl5fRnPM",
        "colab_type": "code",
        "outputId": "fc0b1528-9bba-4acf-d905-a295581480ff",
        "colab": {
          "base_uri": "https://localhost:8080/",
          "height": 34
        }
      },
      "source": [
        "# max of all elements\n",
        "\n",
        "array.max()"
      ],
      "execution_count": 14,
      "outputs": [
        {
          "output_type": "execute_result",
          "data": {
            "text/plain": [
              "12"
            ]
          },
          "metadata": {
            "tags": []
          },
          "execution_count": 14
        }
      ]
    },
    {
      "cell_type": "code",
      "metadata": {
        "id": "uolT0VbbRnPN",
        "colab_type": "code",
        "outputId": "afc48b5a-96bb-4c68-a56e-0e82c38a64ce",
        "colab": {
          "base_uri": "https://localhost:8080/",
          "height": 87
        }
      },
      "source": [
        "array"
      ],
      "execution_count": 15,
      "outputs": [
        {
          "output_type": "execute_result",
          "data": {
            "text/plain": [
              "array([[ 1,  2,  3],\n",
              "       [ 4,  5,  6],\n",
              "       [ 7,  8,  9],\n",
              "       [10, 11, 12]])"
            ]
          },
          "metadata": {
            "tags": []
          },
          "execution_count": 15
        }
      ]
    },
    {
      "cell_type": "code",
      "metadata": {
        "id": "OSKEfP07RnPP",
        "colab_type": "code",
        "outputId": "ff506119-b1ec-49e7-8a92-6798f715a210",
        "colab": {
          "base_uri": "https://localhost:8080/",
          "height": 34
        }
      },
      "source": [
        "# max for each row\n",
        "\n",
        "array.max(axis=1)"
      ],
      "execution_count": 16,
      "outputs": [
        {
          "output_type": "execute_result",
          "data": {
            "text/plain": [
              "array([ 3,  6,  9, 12])"
            ]
          },
          "metadata": {
            "tags": []
          },
          "execution_count": 16
        }
      ]
    },
    {
      "cell_type": "code",
      "metadata": {
        "id": "UQZVrByFRnPR",
        "colab_type": "code",
        "outputId": "087354e1-0096-45f4-de90-1363e1565b9e",
        "colab": {
          "base_uri": "https://localhost:8080/",
          "height": 34
        }
      },
      "source": [
        "# max for each column\n",
        "\n",
        "array.max(axis=0)"
      ],
      "execution_count": 17,
      "outputs": [
        {
          "output_type": "execute_result",
          "data": {
            "text/plain": [
              "array([10, 11, 12])"
            ]
          },
          "metadata": {
            "tags": []
          },
          "execution_count": 17
        }
      ]
    },
    {
      "cell_type": "code",
      "metadata": {
        "id": "bTm-YiFqRnPU",
        "colab_type": "code",
        "outputId": "e256e7ae-162e-4309-d321-9345bba10da9",
        "colab": {
          "base_uri": "https://localhost:8080/",
          "height": 34
        }
      },
      "source": [
        "# index for max element\n",
        "\n",
        "array.argmax()"
      ],
      "execution_count": 18,
      "outputs": [
        {
          "output_type": "execute_result",
          "data": {
            "text/plain": [
              "11"
            ]
          },
          "metadata": {
            "tags": []
          },
          "execution_count": 18
        }
      ]
    },
    {
      "cell_type": "code",
      "metadata": {
        "id": "BrzR98UFRnPX",
        "colab_type": "code",
        "outputId": "5169ae4d-7b1c-4f42-c24f-70d1108e2146",
        "colab": {
          "base_uri": "https://localhost:8080/",
          "height": 34
        }
      },
      "source": [
        "array.argmax(axis=1)"
      ],
      "execution_count": 19,
      "outputs": [
        {
          "output_type": "execute_result",
          "data": {
            "text/plain": [
              "array([2, 2, 2, 2])"
            ]
          },
          "metadata": {
            "tags": []
          },
          "execution_count": 19
        }
      ]
    },
    {
      "cell_type": "code",
      "metadata": {
        "id": "_SrUndGqRnPa",
        "colab_type": "code",
        "outputId": "b136cadf-0ea5-44a2-8070-569144a20a6f",
        "colab": {
          "base_uri": "https://localhost:8080/",
          "height": 34
        }
      },
      "source": [
        "array.argmax(axis=0)"
      ],
      "execution_count": 20,
      "outputs": [
        {
          "output_type": "execute_result",
          "data": {
            "text/plain": [
              "array([3, 3, 3])"
            ]
          },
          "metadata": {
            "tags": []
          },
          "execution_count": 20
        }
      ]
    },
    {
      "cell_type": "code",
      "metadata": {
        "id": "hGpYIZWyRnPb",
        "colab_type": "code",
        "outputId": "26950310-295b-4966-8be4-321b1d6a23bf",
        "colab": {
          "base_uri": "https://localhost:8080/",
          "height": 34
        }
      },
      "source": [
        "# convenience function to create arrays\n",
        "\n",
        "# start, stop, number of samples\n",
        "np.linspace(0, 10, 6)"
      ],
      "execution_count": 21,
      "outputs": [
        {
          "output_type": "execute_result",
          "data": {
            "text/plain": [
              "array([ 0.,  2.,  4.,  6.,  8., 10.])"
            ]
          },
          "metadata": {
            "tags": []
          },
          "execution_count": 21
        }
      ]
    },
    {
      "cell_type": "code",
      "metadata": {
        "id": "a17AYVn2RnPd",
        "colab_type": "code",
        "outputId": "0c405ea1-2aed-404a-aada-afdbeae1f95d",
        "colab": {
          "base_uri": "https://localhost:8080/",
          "height": 34
        }
      },
      "source": [
        "np.zeros(6)"
      ],
      "execution_count": 22,
      "outputs": [
        {
          "output_type": "execute_result",
          "data": {
            "text/plain": [
              "array([0., 0., 0., 0., 0., 0.])"
            ]
          },
          "metadata": {
            "tags": []
          },
          "execution_count": 22
        }
      ]
    },
    {
      "cell_type": "code",
      "metadata": {
        "id": "3JnV5hXNRnPg",
        "colab_type": "code",
        "outputId": "b0cf2adb-67a0-4aa3-fc16-274625baf8d5",
        "colab": {
          "base_uri": "https://localhost:8080/",
          "height": 34
        }
      },
      "source": [
        "np.arange(1, 6, 1)"
      ],
      "execution_count": 23,
      "outputs": [
        {
          "output_type": "execute_result",
          "data": {
            "text/plain": [
              "array([1, 2, 3, 4, 5])"
            ]
          },
          "metadata": {
            "tags": []
          },
          "execution_count": 23
        }
      ]
    },
    {
      "cell_type": "code",
      "metadata": {
        "id": "4eHSWE-SeDd7",
        "colab_type": "code",
        "colab": {}
      },
      "source": [
        "# get documentation to find out what np.arrange does\n",
        "np.arange?"
      ],
      "execution_count": 0,
      "outputs": []
    },
    {
      "cell_type": "markdown",
      "metadata": {
        "id": "ngJYql1KRnPl",
        "colab_type": "text"
      },
      "source": [
        "## Exercise\n",
        "\n",
        "1. execute this notebook\n",
        "    * you can execute each cell by hitting shift+enter\n",
        "1. create some numpy code to transform `start_array` to `end_array`\n",
        "    * you will need some of the documentation which you get by putting a questionmark after the API Call\n",
        "    * e.g.: np.arrange?"
      ]
    },
    {
      "cell_type": "code",
      "metadata": {
        "id": "97xPRLjdcRc2",
        "colab_type": "code",
        "outputId": "0eb11f25-e6b1-49c3-8680-8118f30c0d69",
        "colab": {
          "base_uri": "https://localhost:8080/",
          "height": 87
        }
      },
      "source": [
        "start_array = np.array([[1, 2, 3], [4, 5, 6], [7, 8, 9], [10, 11, 12]])\n",
        "start_array"
      ],
      "execution_count": 25,
      "outputs": [
        {
          "output_type": "execute_result",
          "data": {
            "text/plain": [
              "array([[ 1,  2,  3],\n",
              "       [ 4,  5,  6],\n",
              "       [ 7,  8,  9],\n",
              "       [10, 11, 12]])"
            ]
          },
          "metadata": {
            "tags": []
          },
          "execution_count": 25
        }
      ]
    },
    {
      "cell_type": "code",
      "metadata": {
        "id": "oOzlcBB1cWRY",
        "colab_type": "code",
        "outputId": "ad4b291d-a379-43ce-ead3-04279377aef8",
        "colab": {
          "base_uri": "https://localhost:8080/",
          "height": 52
        }
      },
      "source": [
        "end_array = np.array(([[ 2,  5], [ 8, 11]]))\n",
        "end_array"
      ],
      "execution_count": 26,
      "outputs": [
        {
          "output_type": "execute_result",
          "data": {
            "text/plain": [
              "array([[ 2,  5],\n",
              "       [ 8, 11]])"
            ]
          },
          "metadata": {
            "tags": []
          },
          "execution_count": 26
        }
      ]
    },
    {
      "cell_type": "markdown",
      "metadata": {
        "id": "_wGWxpt6c9JD",
        "colab_type": "text"
      },
      "source": [
        "## STOP HERE\n",
        "\n",
        ".\n",
        ".\n",
        ".\n",
        "\n",
        "---\n",
        "\n",
        ".\n",
        ".\n",
        ".\n",
        "\n",
        "\n",
        "\n",
        "---\n",
        "\n",
        ".\n",
        ".\n",
        ".\n",
        "\n",
        "\n",
        "\n",
        "---\n",
        "\n",
        ".\n",
        ".\n",
        ".\n",
        "\n",
        "\n",
        "\n",
        "---\n",
        "\n",
        ".\n",
        ".\n",
        ".\n",
        "\n",
        "\n",
        "\n",
        "---\n",
        "\n",
        ".\n",
        ".\n",
        ".\n",
        "\n",
        "\n",
        "\n",
        "---\n",
        "\n",
        ".\n",
        ".\n",
        ".\n",
        "\n",
        "\n",
        "\n",
        "\n",
        "\n",
        "\n",
        "\n",
        "\n",
        "\n",
        "\n",
        "\n",
        "\n",
        "\n",
        "\n",
        "\n",
        "\n",
        "\n",
        "\n",
        "\n",
        "\n",
        "\n"
      ]
    },
    {
      "cell_type": "code",
      "metadata": {
        "id": "QSLUEtUNci84",
        "colab_type": "code",
        "outputId": "c5d455be-0a70-4b6c-8aad-7d012996610a",
        "colab": {
          "base_uri": "https://localhost:8080/",
          "height": 52
        }
      },
      "source": [
        "reshaped = start_array.reshape(2, -1)\n",
        "reshaped"
      ],
      "execution_count": 27,
      "outputs": [
        {
          "output_type": "execute_result",
          "data": {
            "text/plain": [
              "array([[ 1,  2,  3,  4,  5,  6],\n",
              "       [ 7,  8,  9, 10, 11, 12]])"
            ]
          },
          "metadata": {
            "tags": []
          },
          "execution_count": 27
        }
      ]
    },
    {
      "cell_type": "code",
      "metadata": {
        "id": "D7IVYh3adFZ2",
        "colab_type": "code",
        "outputId": "f944ae8e-95b3-488e-ce9c-d9efb1d109db",
        "colab": {
          "base_uri": "https://localhost:8080/",
          "height": 52
        }
      },
      "source": [
        "reshaped[:, [1, 4]]"
      ],
      "execution_count": 28,
      "outputs": [
        {
          "output_type": "execute_result",
          "data": {
            "text/plain": [
              "array([[ 2,  5],\n",
              "       [ 8, 11]])"
            ]
          },
          "metadata": {
            "tags": []
          },
          "execution_count": 28
        }
      ]
    },
    {
      "cell_type": "code",
      "metadata": {
        "id": "CRPSxfzAdyHr",
        "colab_type": "code",
        "colab": {}
      },
      "source": [
        ""
      ],
      "execution_count": 0,
      "outputs": []
    }
  ]
}