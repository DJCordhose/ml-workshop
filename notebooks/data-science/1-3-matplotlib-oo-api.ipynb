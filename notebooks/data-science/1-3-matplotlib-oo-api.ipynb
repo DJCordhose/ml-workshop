{
  "nbformat": 4,
  "nbformat_minor": 0,
  "metadata": {
    "colab": {
      "name": "1-3-matplotlib-oo-api.ipynb",
      "version": "0.3.2",
      "provenance": [],
      "include_colab_link": true
    },
    "kernelspec": {
      "display_name": "Python 3",
      "language": "python",
      "name": "python3"
    },
    "language_info": {
      "codemirror_mode": {
        "name": "ipython",
        "version": 3
      },
      "file_extension": ".py",
      "mimetype": "text/x-python",
      "name": "python",
      "nbconvert_exporter": "python",
      "pygments_lexer": "ipython3",
      "version": "3.7.3"
    }
  },
  "cells": [
    {
      "cell_type": "markdown",
      "metadata": {
        "id": "view-in-github",
        "colab_type": "text"
      },
      "source": [
        "<a href=\"https://colab.research.google.com/github/DJCordhose/ml-workshop/blob/master/notebooks/data-science/1-3-matplotlib-oo-api.ipynb\" target=\"_parent\"><img src=\"https://colab.research.google.com/assets/colab-badge.svg\" alt=\"Open In Colab\"/></a>"
      ]
    },
    {
      "cell_type": "markdown",
      "metadata": {
        "colab_type": "text",
        "id": "RRKecEtUhKC2"
      },
      "source": [
        "# Matplotlib OO API\n",
        "\n",
        "for more complex plots you will want to use the object oriented API\n",
        "\n",
        "* https://matplotlib.org/api/index.html#the-object-oriented-api\n",
        "* https://matplotlib.org/gallery/lines_bars_and_markers/simple_plot.html\n",
        "* https://matplotlib.org/api/axes_api.html#matplotlib.axes.Axes"
      ]
    },
    {
      "cell_type": "code",
      "metadata": {
        "colab_type": "code",
        "id": "ehZLYjeFhKC7",
        "colab": {}
      },
      "source": [
        "import matplotlib.pyplot as plt\n",
        "import matplotlib\n",
        "import numpy as np"
      ],
      "execution_count": 0,
      "outputs": []
    },
    {
      "cell_type": "code",
      "metadata": {
        "colab_type": "code",
        "id": "arjNFGNuhKDB",
        "colab": {}
      },
      "source": [
        "t = np.arange(0.0, 2.0, 0.01)\n",
        "s = 1 + np.sin(2 * np.pi * t)"
      ],
      "execution_count": 0,
      "outputs": []
    },
    {
      "cell_type": "code",
      "metadata": {
        "colab_type": "code",
        "id": "yalsufnVhKDG",
        "outputId": "7ff495e2-2441-4602-8550-7b3b78bcce3e",
        "colab": {
          "base_uri": "https://localhost:8080/",
          "height": 350
        }
      },
      "source": [
        "# just one subplot, also called axes (pl. of axis)\n",
        "fig, ax = plt.subplots(1, figsize=(10, 5))\n",
        "ax.plot(t, s)\n",
        "\n",
        "ax.set_xlabel('time (s)')\n",
        "ax.set_ylabel('voltage (mV)')\n",
        "ax.set_title('About as simple as it gets, folks')\n",
        "\n",
        "ax.grid(True)\n",
        "\n",
        "fig.savefig(\"subplot.png\")"
      ],
      "execution_count": 4,
      "outputs": [
        {
          "output_type": "display_data",
          "data": {
            "image/png": "[encoded data removed]",
            "text/plain": [
              "<Figure size 720x360 with 1 Axes>"
            ]
          },
          "metadata": {
            "tags": []
          }
        }
      ]
    },
    {
      "cell_type": "code",
      "metadata": {
        "colab_type": "code",
        "id": "4HxHr4BShKDL",
        "outputId": "bffec7bb-2494-4b0b-bdce-9a0faf9104db",
        "colab": {
          "base_uri": "https://localhost:8080/",
          "height": 34
        }
      },
      "source": [
        "!ls -l subplot.png"
      ],
      "execution_count": 5,
      "outputs": [
        {
          "output_type": "stream",
          "text": [
            "-rw-r--r-- 1 root root 29356 Aug 24 09:47 subplot.png\n"
          ],
          "name": "stdout"
        }
      ]
    },
    {
      "cell_type": "markdown",
      "metadata": {
        "id": "1eM6xVYIta6j",
        "colab_type": "text"
      },
      "source": [
        "### subplots vs subplot\n",
        "\n",
        "* <em>subplot</em> is an API inspired by MATLAB\n",
        "* its API is totally weird if MATLAB is not your mind set\n",
        "* use <em>subplots</em> as shown before if you want an intuitive interface\n",
        "\n",
        "because their names are so close to each other, if things do not behave as expected make sure you are using the right API\n"
      ]
    },
    {
      "cell_type": "markdown",
      "metadata": {
        "id": "XT6dPJJyta6j",
        "colab_type": "text"
      },
      "source": [
        "# More complex figures"
      ]
    },
    {
      "cell_type": "markdown",
      "metadata": {
        "id": "nElWq91Dta6k",
        "colab_type": "text"
      },
      "source": [
        "## Naming can be confusing\n",
        "\n",
        "<img src='https://github.com/djcordhose/ml-workshop/blob/master/notebooks/data-science/img/figure_axes_axis_labeled.png?raw=1'>\n",
        "\n",
        "https://raw.githubusercontent.com/matplotlib/AnatomyOfMatplotlib/master/images/figure_axes_axis_labeled.png"
      ]
    },
    {
      "cell_type": "code",
      "metadata": {
        "colab_type": "code",
        "id": "uO0tDd2XhKDO",
        "outputId": "ceadf876-0644-472a-c645-8bc690d91e0c",
        "colab": {
          "base_uri": "https://localhost:8080/",
          "height": 350
        }
      },
      "source": [
        "fig, ax = plt.subplots(2, sharex='all', figsize=(10, 5))\n",
        "\n",
        "ax[0].plot(t, s)\n",
        "ax[0].set_ylabel('voltage (mV)')\n",
        "ax[0].set_title('Linear')\n",
        "ax[0].grid(True)\n",
        "ax[0].set_yscale('linear')\n",
        "\n",
        "ax[1].plot(t, s)\n",
        "ax[1].set_xlabel('time (s)')\n",
        "ax[1].set_ylabel('voltage (mV)')\n",
        "ax[1].set_title('Log')\n",
        "ax[1].grid(True)\n",
        "ax[1].set_yscale('log')"
      ],
      "execution_count": 6,
      "outputs": [
        {
          "output_type": "display_data",
          "data": {
            "image/png": "[encoded data removed]",
            "text/plain": [
              "<Figure size 720x360 with 2 Axes>"
            ]
          },
          "metadata": {
            "tags": []
          }
        }
      ]
    },
    {
      "cell_type": "markdown",
      "metadata": {
        "id": "j7iulrtbta6m",
        "colab_type": "text"
      },
      "source": [
        "## Anatomy of a figure\n",
        "\n",
        "<img src='https://github.com/djcordhose/ml-workshop/blob/master/notebooks/data-science/img/anatomy.png?raw=1'>\n",
        "\n",
        "https://matplotlib.org/tutorials/introductory/usage.html"
      ]
    },
    {
      "cell_type": "markdown",
      "metadata": {
        "id": "Lf1RAh_1vupe",
        "colab_type": "text"
      },
      "source": [
        "# Exercise: create a plot with more than one row and more than one column\n",
        "* use plt.subplots? to find out how to do that\n",
        "* what do you get as a result?\n",
        "* How to access the individual subplots?"
      ]
    },
    {
      "cell_type": "code",
      "metadata": {
        "id": "58_LHKBTta6n",
        "colab_type": "code",
        "colab": {}
      },
      "source": [
        " plt.subplots?"
      ],
      "execution_count": 0,
      "outputs": []
    },
    {
      "cell_type": "markdown",
      "metadata": {
        "id": "syDSSOnnB03x",
        "colab_type": "text"
      },
      "source": [
        "## STOP HERE\n",
        "\n",
        ".\n",
        ".\n",
        ".\n",
        "\n",
        "---\n",
        "\n",
        ".\n",
        ".\n",
        ".\n",
        "\n",
        "\n",
        "\n",
        "---\n",
        "\n",
        ".\n",
        ".\n",
        ".\n",
        "\n",
        "\n",
        "\n",
        "---\n",
        "\n",
        ".\n",
        ".\n",
        ".\n",
        "\n",
        "\n",
        "\n",
        "---\n",
        "\n",
        ".\n",
        ".\n",
        ".\n",
        "\n",
        "\n",
        "\n",
        "---\n",
        "\n",
        ".\n",
        ".\n",
        ".\n",
        "\n",
        "\n",
        "\n",
        "---\n",
        "\n",
        ".\n",
        ".\n",
        ".\n",
        "\n",
        "\n",
        "\n",
        "\n",
        "\n",
        "\n",
        "\n",
        "\n",
        "\n",
        "\n",
        "\n",
        "\n",
        "\n",
        "\n",
        "\n",
        "\n",
        "\n",
        "\n",
        "\n",
        "\n",
        "\n"
      ]
    },
    {
      "cell_type": "code",
      "metadata": {
        "id": "7c4HePJnB1Zw",
        "colab_type": "code",
        "colab": {
          "base_uri": "https://localhost:8080/",
          "height": 269
        },
        "outputId": "fbf34f42-06b5-453f-97e5-70afca64a536"
      },
      "source": [
        "fig, ax = plt.subplots(nrows=2, ncols=2)"
      ],
      "execution_count": 9,
      "outputs": [
        {
          "output_type": "display_data",
          "data": {
            "image/png": "[encoded data removed]",
            "text/plain": [
              "<Figure size 432x288 with 4 Axes>"
            ]
          },
          "metadata": {
            "tags": []
          }
        }
      ]
    },
    {
      "cell_type": "code",
      "metadata": {
        "id": "nRR5DTZgCDyE",
        "colab_type": "code",
        "colab": {
          "base_uri": "https://localhost:8080/",
          "height": 34
        },
        "outputId": "568a84ea-7e99-4e5d-8664-ad33849e1a76"
      },
      "source": [
        "type(ax)"
      ],
      "execution_count": 11,
      "outputs": [
        {
          "output_type": "execute_result",
          "data": {
            "text/plain": [
              "numpy.ndarray"
            ]
          },
          "metadata": {
            "tags": []
          },
          "execution_count": 11
        }
      ]
    },
    {
      "cell_type": "code",
      "metadata": {
        "id": "8UVRADhMCA5Y",
        "colab_type": "code",
        "colab": {
          "base_uri": "https://localhost:8080/",
          "height": 34
        },
        "outputId": "cb8b48a5-df99-4bff-bff9-87f6874daba8"
      },
      "source": [
        "ax.shape"
      ],
      "execution_count": 10,
      "outputs": [
        {
          "output_type": "execute_result",
          "data": {
            "text/plain": [
              "(2, 2)"
            ]
          },
          "metadata": {
            "tags": []
          },
          "execution_count": 10
        }
      ]
    },
    {
      "cell_type": "code",
      "metadata": {
        "id": "8gvq3cycCFZ0",
        "colab_type": "code",
        "colab": {
          "base_uri": "https://localhost:8080/",
          "height": 104
        },
        "outputId": "9dfb000b-6951-435f-da10-facac55b361b"
      },
      "source": [
        "ax"
      ],
      "execution_count": 12,
      "outputs": [
        {
          "output_type": "execute_result",
          "data": {
            "text/plain": [
              "array([[<matplotlib.axes._subplots.AxesSubplot object at 0x7f77a30fb748>,\n",
              "        <matplotlib.axes._subplots.AxesSubplot object at 0x7f77a30a0e80>],\n",
              "       [<matplotlib.axes._subplots.AxesSubplot object at 0x7f77a30cc400>,\n",
              "        <matplotlib.axes._subplots.AxesSubplot object at 0x7f77a3070978>]],\n",
              "      dtype=object)"
            ]
          },
          "metadata": {
            "tags": []
          },
          "execution_count": 12
        }
      ]
    },
    {
      "cell_type": "code",
      "metadata": {
        "id": "Ld-4TKJRCMRy",
        "colab_type": "code",
        "colab": {}
      },
      "source": [
        "((ax1, ax2), (ax3, ax4)) = ax"
      ],
      "execution_count": 0,
      "outputs": []
    },
    {
      "cell_type": "code",
      "metadata": {
        "id": "3bf1FWE8CRhG",
        "colab_type": "code",
        "colab": {
          "base_uri": "https://localhost:8080/",
          "height": 34
        },
        "outputId": "5b3694e5-e088-4df9-b00f-d9da332cfff5"
      },
      "source": [
        "ax4"
      ],
      "execution_count": 17,
      "outputs": [
        {
          "output_type": "execute_result",
          "data": {
            "text/plain": [
              "<matplotlib.axes._subplots.AxesSubplot at 0x7f77a3070978>"
            ]
          },
          "metadata": {
            "tags": []
          },
          "execution_count": 17
        }
      ]
    }
  ]
}